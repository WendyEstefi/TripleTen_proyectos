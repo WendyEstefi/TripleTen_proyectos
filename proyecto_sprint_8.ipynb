{
 "cells": [
  {
   "cell_type": "markdown",
   "id": "a038eccd-6f4b-4b58-ad27-256fbf1a018a",
   "metadata": {},
   "source": [
    "# Analisis de la preferencia de los Pasajeros al Viajar en Taxi\n"
   ]
  },
  {
   "cell_type": "markdown",
   "id": "c5dec067-11b2-4d33-b47e-0cc37f6f077b",
   "metadata": {},
   "source": [
    "Una nueva empresa de viajes compartidos que se está lanzando en Chicago. Este analisis determina las preferencias de los pasajeros y el impacto de los factores externos en los viajes como el clima."
   ]
  },
  {
   "cell_type": "markdown",
   "id": "693a68a3-e2bd-4925-b126-2cf421e482e6",
   "metadata": {},
   "source": [
    "## 1. Analisis Exploratorio de Datos "
   ]
  },
  {
   "cell_type": "markdown",
   "id": "10911fbe-6111-4696-bdf2-d84a0c6f901e",
   "metadata": {},
   "source": [
    "### Importar los archivos"
   ]
  },
  {
   "cell_type": "code",
   "execution_count": 1,
   "id": "fae4307e-5399-43b6-9050-eac5bb6a7a62",
   "metadata": {},
   "outputs": [],
   "source": [
    "# Cargar todas las librerías\n",
    "import pandas as pd \n",
    "import matplotlib.pyplot as plt\n",
    "import numpy as np\n",
    "import seaborn as sns\n",
    "from scipy import stats as st"
   ]
  },
  {
   "cell_type": "code",
   "execution_count": 2,
   "id": "ea7c6bcd-8f83-4853-a717-c37fbb4d9592",
   "metadata": {},
   "outputs": [],
   "source": [
    "# Importar archivos \n",
    "df_r1 = pd.read_csv(\"/datasets/project_sql_result_01.csv\")\n",
    "df_r2 = pd.read_csv(\"/datasets/project_sql_result_04.csv\" )\n",
    "df_r3 = pd.read_csv(\"/datasets/project_sql_result_07.csv\")\n"
   ]
  },
  {
   "cell_type": "markdown",
   "id": "9671e170-08a0-4a20-bb48-3a5ced7f77e8",
   "metadata": {},
   "source": [
    "###  Información de datos "
   ]
  },
  {
   "cell_type": "code",
   "execution_count": 3,
   "id": "3f0e2f6b-8ce1-4374-a715-4cd96d832f09",
   "metadata": {},
   "outputs": [
    {
     "data": {
      "text/html": [
       "<div>\n",
       "<style scoped>\n",
       "    .dataframe tbody tr th:only-of-type {\n",
       "        vertical-align: middle;\n",
       "    }\n",
       "\n",
       "    .dataframe tbody tr th {\n",
       "        vertical-align: top;\n",
       "    }\n",
       "\n",
       "    .dataframe thead th {\n",
       "        text-align: right;\n",
       "    }\n",
       "</style>\n",
       "<table border=\"1\" class=\"dataframe\">\n",
       "  <thead>\n",
       "    <tr style=\"text-align: right;\">\n",
       "      <th></th>\n",
       "      <th>company_name</th>\n",
       "      <th>trips_amount</th>\n",
       "    </tr>\n",
       "  </thead>\n",
       "  <tbody>\n",
       "    <tr>\n",
       "      <th>0</th>\n",
       "      <td>Flash Cab</td>\n",
       "      <td>19558</td>\n",
       "    </tr>\n",
       "    <tr>\n",
       "      <th>1</th>\n",
       "      <td>Taxi Affiliation Services</td>\n",
       "      <td>11422</td>\n",
       "    </tr>\n",
       "    <tr>\n",
       "      <th>2</th>\n",
       "      <td>Medallion Leasing</td>\n",
       "      <td>10367</td>\n",
       "    </tr>\n",
       "    <tr>\n",
       "      <th>3</th>\n",
       "      <td>Yellow Cab</td>\n",
       "      <td>9888</td>\n",
       "    </tr>\n",
       "    <tr>\n",
       "      <th>4</th>\n",
       "      <td>Taxi Affiliation Service Yellow</td>\n",
       "      <td>9299</td>\n",
       "    </tr>\n",
       "  </tbody>\n",
       "</table>\n",
       "</div>"
      ],
      "text/plain": [
       "                      company_name  trips_amount\n",
       "0                        Flash Cab         19558\n",
       "1        Taxi Affiliation Services         11422\n",
       "2                Medallion Leasing         10367\n",
       "3                       Yellow Cab          9888\n",
       "4  Taxi Affiliation Service Yellow          9299"
      ]
     },
     "execution_count": 3,
     "metadata": {},
     "output_type": "execute_result"
    }
   ],
   "source": [
    "# Mostrar datos del resultado 1 y 2\n",
    "df_r1.head()"
   ]
  },
  {
   "cell_type": "code",
   "execution_count": 4,
   "id": "6ea5e1a3-e2df-4ca3-a43c-4fde2912aae7",
   "metadata": {},
   "outputs": [
    {
     "data": {
      "text/html": [
       "<div>\n",
       "<style scoped>\n",
       "    .dataframe tbody tr th:only-of-type {\n",
       "        vertical-align: middle;\n",
       "    }\n",
       "\n",
       "    .dataframe tbody tr th {\n",
       "        vertical-align: top;\n",
       "    }\n",
       "\n",
       "    .dataframe thead th {\n",
       "        text-align: right;\n",
       "    }\n",
       "</style>\n",
       "<table border=\"1\" class=\"dataframe\">\n",
       "  <thead>\n",
       "    <tr style=\"text-align: right;\">\n",
       "      <th></th>\n",
       "      <th>dropoff_location_name</th>\n",
       "      <th>average_trips</th>\n",
       "    </tr>\n",
       "  </thead>\n",
       "  <tbody>\n",
       "    <tr>\n",
       "      <th>0</th>\n",
       "      <td>Loop</td>\n",
       "      <td>10727.466667</td>\n",
       "    </tr>\n",
       "    <tr>\n",
       "      <th>1</th>\n",
       "      <td>River North</td>\n",
       "      <td>9523.666667</td>\n",
       "    </tr>\n",
       "    <tr>\n",
       "      <th>2</th>\n",
       "      <td>Streeterville</td>\n",
       "      <td>6664.666667</td>\n",
       "    </tr>\n",
       "    <tr>\n",
       "      <th>3</th>\n",
       "      <td>West Loop</td>\n",
       "      <td>5163.666667</td>\n",
       "    </tr>\n",
       "    <tr>\n",
       "      <th>4</th>\n",
       "      <td>O'Hare</td>\n",
       "      <td>2546.900000</td>\n",
       "    </tr>\n",
       "  </tbody>\n",
       "</table>\n",
       "</div>"
      ],
      "text/plain": [
       "  dropoff_location_name  average_trips\n",
       "0                  Loop   10727.466667\n",
       "1           River North    9523.666667\n",
       "2         Streeterville    6664.666667\n",
       "3             West Loop    5163.666667\n",
       "4                O'Hare    2546.900000"
      ]
     },
     "execution_count": 4,
     "metadata": {},
     "output_type": "execute_result"
    }
   ],
   "source": [
    "df_r2.head()"
   ]
  },
  {
   "cell_type": "code",
   "execution_count": 5,
   "id": "07340636-7ac7-460f-9fa1-4343b726ab5a",
   "metadata": {},
   "outputs": [
    {
     "data": {
      "text/html": [
       "<div>\n",
       "<style scoped>\n",
       "    .dataframe tbody tr th:only-of-type {\n",
       "        vertical-align: middle;\n",
       "    }\n",
       "\n",
       "    .dataframe tbody tr th {\n",
       "        vertical-align: top;\n",
       "    }\n",
       "\n",
       "    .dataframe thead th {\n",
       "        text-align: right;\n",
       "    }\n",
       "</style>\n",
       "<table border=\"1\" class=\"dataframe\">\n",
       "  <thead>\n",
       "    <tr style=\"text-align: right;\">\n",
       "      <th></th>\n",
       "      <th>start_ts</th>\n",
       "      <th>weather_conditions</th>\n",
       "      <th>duration_seconds</th>\n",
       "    </tr>\n",
       "  </thead>\n",
       "  <tbody>\n",
       "    <tr>\n",
       "      <th>0</th>\n",
       "      <td>2017-11-25 16:00:00</td>\n",
       "      <td>Good</td>\n",
       "      <td>2410.0</td>\n",
       "    </tr>\n",
       "    <tr>\n",
       "      <th>1</th>\n",
       "      <td>2017-11-25 14:00:00</td>\n",
       "      <td>Good</td>\n",
       "      <td>1920.0</td>\n",
       "    </tr>\n",
       "    <tr>\n",
       "      <th>2</th>\n",
       "      <td>2017-11-25 12:00:00</td>\n",
       "      <td>Good</td>\n",
       "      <td>1543.0</td>\n",
       "    </tr>\n",
       "    <tr>\n",
       "      <th>3</th>\n",
       "      <td>2017-11-04 10:00:00</td>\n",
       "      <td>Good</td>\n",
       "      <td>2512.0</td>\n",
       "    </tr>\n",
       "    <tr>\n",
       "      <th>4</th>\n",
       "      <td>2017-11-11 07:00:00</td>\n",
       "      <td>Good</td>\n",
       "      <td>1440.0</td>\n",
       "    </tr>\n",
       "  </tbody>\n",
       "</table>\n",
       "</div>"
      ],
      "text/plain": [
       "              start_ts weather_conditions  duration_seconds\n",
       "0  2017-11-25 16:00:00               Good            2410.0\n",
       "1  2017-11-25 14:00:00               Good            1920.0\n",
       "2  2017-11-25 12:00:00               Good            1543.0\n",
       "3  2017-11-04 10:00:00               Good            2512.0\n",
       "4  2017-11-11 07:00:00               Good            1440.0"
      ]
     },
     "execution_count": 5,
     "metadata": {},
     "output_type": "execute_result"
    }
   ],
   "source": [
    "df_r3.head()"
   ]
  },
  {
   "cell_type": "code",
   "execution_count": 6,
   "id": "3d59f1ae-7c44-4b11-97b4-fbf287ff8c2a",
   "metadata": {},
   "outputs": [
    {
     "name": "stdout",
     "output_type": "stream",
     "text": [
      "<class 'pandas.core.frame.DataFrame'>\n",
      "RangeIndex: 64 entries, 0 to 63\n",
      "Data columns (total 2 columns):\n",
      " #   Column        Non-Null Count  Dtype \n",
      "---  ------        --------------  ----- \n",
      " 0   company_name  64 non-null     object\n",
      " 1   trips_amount  64 non-null     int64 \n",
      "dtypes: int64(1), object(1)\n",
      "memory usage: 1.1+ KB\n",
      "\n",
      "<class 'pandas.core.frame.DataFrame'>\n",
      "RangeIndex: 94 entries, 0 to 93\n",
      "Data columns (total 2 columns):\n",
      " #   Column                 Non-Null Count  Dtype  \n",
      "---  ------                 --------------  -----  \n",
      " 0   dropoff_location_name  94 non-null     object \n",
      " 1   average_trips          94 non-null     float64\n",
      "dtypes: float64(1), object(1)\n",
      "memory usage: 1.6+ KB\n",
      "\n",
      "<class 'pandas.core.frame.DataFrame'>\n",
      "RangeIndex: 1068 entries, 0 to 1067\n",
      "Data columns (total 3 columns):\n",
      " #   Column              Non-Null Count  Dtype  \n",
      "---  ------              --------------  -----  \n",
      " 0   start_ts            1068 non-null   object \n",
      " 1   weather_conditions  1068 non-null   object \n",
      " 2   duration_seconds    1068 non-null   float64\n",
      "dtypes: float64(1), object(2)\n",
      "memory usage: 25.2+ KB\n"
     ]
    }
   ],
   "source": [
    "# Información de DataFrame\n",
    "df_r1.info()\n",
    "print()\n",
    "df_r2.info()\n",
    "print()\n",
    "df_r3.info()"
   ]
  },
  {
   "cell_type": "markdown",
   "id": "97f611d8-3cf7-4e22-bd00-7c6de8ce7c28",
   "metadata": {},
   "source": [
    "El primer DataFrame tiene 64 filas y 2 columnas y no hay valores nulos. El segundo contiene 94 filas y 2 columnas y tampoco hay valores nulos.El tercer DataFrame tampoco tiene calores nulos , pero se debe cambiar la columna de weather_conditions  a tipo fecha , pues s encuentra como objeto.\n",
    "\n"
   ]
  },
  {
   "cell_type": "markdown",
   "id": "24c5912b-3c79-40d2-a0c9-0488552ce91b",
   "metadata": {},
   "source": [
    "###  Revisión de los datos (Preprosesamiento)"
   ]
  },
  {
   "cell_type": "markdown",
   "id": "f3a30b69-2f79-48ea-acf7-f759d2c7ed47",
   "metadata": {},
   "source": [
    "En el primer DataFrame **df_r1** tenemos los siguientes campos : "
   ]
  },
  {
   "cell_type": "markdown",
   "id": "da86d4d1-d62e-40aa-9595-9924d2417272",
   "metadata": {},
   "source": [
    "\n",
    "| company_name  | trips_amount |\n",
    "| ------------- | ------------- |\n",
    "| Son nombres de compañías, que deben ser texto. | La cantidad de viajes es un número entero.  |\n"
   ]
  },
  {
   "cell_type": "markdown",
   "id": "c69c5d70-3bd0-481d-b8ea-b69f35c08393",
   "metadata": {},
   "source": [
    "En el segundo DataFrame **df_r2** tenemos los siguientes campos : "
   ]
  },
  {
   "cell_type": "markdown",
   "id": "41c3b736-fd58-45d7-aeff-5641e871fea0",
   "metadata": {},
   "source": [
    "\n",
    "| dropoff_location_name  |  average_trips | \n",
    "| ------------- | ------------- |\n",
    "|  Son nombres de zonas de destino, que deben ser texto. |Promedio de viajes puede tener decimales.  |\n"
   ]
  },
  {
   "cell_type": "markdown",
   "id": "e89e943f-70ae-42b6-8e3f-c0830a400cf0",
   "metadata": {},
   "source": [
    "En el segundo DataFrame **df_r3** tenemos los siguientes campos :"
   ]
  },
  {
   "cell_type": "markdown",
   "id": "bb1b28a7-b4ce-4f7b-8776-20af30ec3ef3",
   "metadata": {},
   "source": [
    "| start_ts | weather_conditions| duration_seconds|\n",
    "| ------------- | ------------- | ------------- |\n",
    "|  Debe cambiar a formato fecha | Tipo objeto (Condición del clima)  | Float porque es la duración del viaje|"
   ]
  },
  {
   "cell_type": "markdown",
   "id": "eb5b96cb-cb6a-4165-8654-ae2a3d005a10",
   "metadata": {},
   "source": [
    "#### Revisar duplicados :\n",
    "\n"
   ]
  },
  {
   "cell_type": "code",
   "execution_count": 7,
   "id": "07c0ba74-ee54-4839-82ba-ac17ac932673",
   "metadata": {},
   "outputs": [
    {
     "name": "stdout",
     "output_type": "stream",
     "text": [
      "Empty DataFrame\n",
      "Columns: [company_name, trips_amount]\n",
      "Index: []\n"
     ]
    }
   ],
   "source": [
    "duplicado_company = df_r1[df_r1.duplicated(subset='company_name', keep=False)]\n",
    "print(duplicado_company)\n"
   ]
  },
  {
   "cell_type": "markdown",
   "id": "10881d57-ba0b-4feb-8abd-fec73bbfe336",
   "metadata": {},
   "source": [
    "No hay valores duplicados de los nombres de las compañias de taxis."
   ]
  },
  {
   "cell_type": "code",
   "execution_count": 8,
   "id": "d2ad36b5-e5e5-4e1e-9d8a-637c769d8ea8",
   "metadata": {},
   "outputs": [
    {
     "name": "stdout",
     "output_type": "stream",
     "text": [
      "Empty DataFrame\n",
      "Columns: [dropoff_location_name, average_trips]\n",
      "Index: []\n"
     ]
    }
   ],
   "source": [
    "duplicado_location = df_r2[df_r2.duplicated(subset='dropoff_location_name',keep=False )]\n",
    "print(duplicado_location)"
   ]
  },
  {
   "cell_type": "markdown",
   "id": "3d168a5e-5707-4665-b52b-0697690aced7",
   "metadata": {},
   "source": [
    "No hay valores duplicados de las locaciones a donde llegan los taxis."
   ]
  },
  {
   "cell_type": "code",
   "execution_count": 9,
   "id": "36dcc3d8-757b-4d73-a911-a575782563b0",
   "metadata": {},
   "outputs": [
    {
     "name": "stdout",
     "output_type": "stream",
     "text": [
      "                 start_ts weather_conditions  duration_seconds\n",
      "0     2017-11-25 16:00:00               Good            2410.0\n",
      "1     2017-11-25 14:00:00               Good            1920.0\n",
      "2     2017-11-25 12:00:00               Good            1543.0\n",
      "3     2017-11-04 10:00:00               Good            2512.0\n",
      "4     2017-11-11 07:00:00               Good            1440.0\n",
      "...                   ...                ...               ...\n",
      "1063  2017-11-25 11:00:00               Good               0.0\n",
      "1064  2017-11-11 10:00:00               Good            1318.0\n",
      "1065  2017-11-11 13:00:00               Good            2100.0\n",
      "1066  2017-11-11 08:00:00               Good            1380.0\n",
      "1067  2017-11-04 16:00:00                Bad            2834.0\n",
      "\n",
      "[1068 rows x 3 columns]\n"
     ]
    },
    {
     "data": {
      "text/plain": [
       "array(['Bad', 'Good'], dtype=object)"
      ]
     },
     "execution_count": 9,
     "metadata": {},
     "output_type": "execute_result"
    }
   ],
   "source": [
    "duplicado_weather = df_r3[df_r3.duplicated(subset='weather_conditions', keep=False)]\n",
    "print(duplicado_weather)\n",
    "\n",
    "#Se buscan valores duplicados en la columna weather_conditions\n",
    "df_r3['weather_conditions'].sort_values().unique()"
   ]
  },
  {
   "cell_type": "markdown",
   "id": "4e227a89-cd98-4155-8650-aa4860f87b9d",
   "metadata": {},
   "source": [
    "Sí econtramos duplicados , pero en este caso revisamos que valores únicos tenian y son goog y bad , porque son las condiciones climáticas , no se debe cambiar nada . "
   ]
  },
  {
   "cell_type": "markdown",
   "id": "30080b3f-a5a4-4ecf-97a2-a44f5a808963",
   "metadata": {},
   "source": [
    "#### Cambio de tipo y enriquecimiento de datos"
   ]
  },
  {
   "cell_type": "code",
   "execution_count": 10,
   "id": "b4c8d6bd-38b1-45dd-beb3-9634564e29f6",
   "metadata": {},
   "outputs": [
    {
     "name": "stdout",
     "output_type": "stream",
     "text": [
      "<class 'pandas.core.frame.DataFrame'>\n",
      "RangeIndex: 1068 entries, 0 to 1067\n",
      "Data columns (total 3 columns):\n",
      " #   Column              Non-Null Count  Dtype         \n",
      "---  ------              --------------  -----         \n",
      " 0   start_ts            1068 non-null   datetime64[ns]\n",
      " 1   weather_conditions  1068 non-null   object        \n",
      " 2   duration_seconds    1068 non-null   float64       \n",
      "dtypes: datetime64[ns](1), float64(1), object(1)\n",
      "memory usage: 25.2+ KB\n"
     ]
    }
   ],
   "source": [
    "#cambiar tipo de dato\n",
    "df_r3['start_ts'] = pd.to_datetime(df_r3['start_ts'],format='%Y-%m-%d %H:%M')\n",
    "#verificar cambio\n",
    "df_r3.info()\n"
   ]
  },
  {
   "cell_type": "code",
   "execution_count": 11,
   "id": "e972eb76-de5f-4fe6-8c70-fa3dd3922158",
   "metadata": {},
   "outputs": [
    {
     "data": {
      "text/html": [
       "<div>\n",
       "<style scoped>\n",
       "    .dataframe tbody tr th:only-of-type {\n",
       "        vertical-align: middle;\n",
       "    }\n",
       "\n",
       "    .dataframe tbody tr th {\n",
       "        vertical-align: top;\n",
       "    }\n",
       "\n",
       "    .dataframe thead th {\n",
       "        text-align: right;\n",
       "    }\n",
       "</style>\n",
       "<table border=\"1\" class=\"dataframe\">\n",
       "  <thead>\n",
       "    <tr style=\"text-align: right;\">\n",
       "      <th></th>\n",
       "      <th>start_ts</th>\n",
       "      <th>weather_conditions</th>\n",
       "      <th>duration_seconds</th>\n",
       "      <th>weekday</th>\n",
       "    </tr>\n",
       "  </thead>\n",
       "  <tbody>\n",
       "    <tr>\n",
       "      <th>0</th>\n",
       "      <td>2017-11-25 16:00:00</td>\n",
       "      <td>Good</td>\n",
       "      <td>2410.0</td>\n",
       "      <td>5</td>\n",
       "    </tr>\n",
       "    <tr>\n",
       "      <th>1</th>\n",
       "      <td>2017-11-25 14:00:00</td>\n",
       "      <td>Good</td>\n",
       "      <td>1920.0</td>\n",
       "      <td>5</td>\n",
       "    </tr>\n",
       "    <tr>\n",
       "      <th>2</th>\n",
       "      <td>2017-11-25 12:00:00</td>\n",
       "      <td>Good</td>\n",
       "      <td>1543.0</td>\n",
       "      <td>5</td>\n",
       "    </tr>\n",
       "  </tbody>\n",
       "</table>\n",
       "</div>"
      ],
      "text/plain": [
       "             start_ts weather_conditions  duration_seconds  weekday\n",
       "0 2017-11-25 16:00:00               Good            2410.0        5\n",
       "1 2017-11-25 14:00:00               Good            1920.0        5\n",
       "2 2017-11-25 12:00:00               Good            1543.0        5"
      ]
     },
     "execution_count": 11,
     "metadata": {},
     "output_type": "execute_result"
    }
   ],
   "source": [
    "# Agregar la columansolo del día en el df_r3\n",
    "df_r3['weekday'] = df_r3['start_ts'].dt.weekday \n",
    "df_r3.head(3)"
   ]
  },
  {
   "cell_type": "markdown",
   "id": "7e3c280d-c276-4032-8671-bca36707f6b0",
   "metadata": {},
   "source": [
    "### Principales Barrios donde se finaliza el recorrido "
   ]
  },
  {
   "cell_type": "markdown",
   "id": "a292ce66-bfd9-4a05-b167-675fb01d4389",
   "metadata": {},
   "source": [
    "Usar el DataFrame df_r2, que contiene:\n",
    "\n",
    "* dropoff_location_name:nombre del barrio donde terminó el viaje\n",
    "\n",
    "* average_trips:promedio de viajes finalizados en ese barrio en noviembre de 2017"
   ]
  },
  {
   "cell_type": "code",
   "execution_count": 12,
   "id": "612c61ba-03ff-410d-b9f8-389f425ea6c9",
   "metadata": {},
   "outputs": [
    {
     "name": "stdout",
     "output_type": "stream",
     "text": [
      "  dropoff_location_name  average_trips\n",
      "0                  Loop   10727.466667\n",
      "1           River North    9523.666667\n",
      "2         Streeterville    6664.666667\n",
      "3             West Loop    5163.666667\n",
      "4                O'Hare    2546.900000\n",
      "5             Lake View    2420.966667\n",
      "6            Grant Park    2068.533333\n",
      "7         Museum Campus    1510.000000\n",
      "8            Gold Coast    1364.233333\n",
      "9    Sheffield & DePaul    1259.766667\n"
     ]
    }
   ],
   "source": [
    "top_10_barrios = df_r2.sort_values(by='average_trips', ascending=False).head(10)\n",
    "print(top_10_barrios)\n"
   ]
  },
  {
   "cell_type": "code",
   "execution_count": 13,
   "id": "47db0c65-9500-4c95-95e6-e1db5b959638",
   "metadata": {},
   "outputs": [
    {
     "data": {
      "image/png": "[encoded data removed]",
      "text/plain": [
       "<Figure size 1200x600 with 1 Axes>"
      ]
     },
     "metadata": {},
     "output_type": "display_data"
    }
   ],
   "source": [
    "# Estilo del gráfico\n",
    "sns.set(style=\"whitegrid\")\n",
    "\n",
    "# Crear el gráfico de barras\n",
    "plt.figure(figsize=(12,6))\n",
    "sns.barplot(data=top_10_barrios, x='average_trips', y='dropoff_location_name', palette='magma')\n",
    "\n",
    "# Etiquetas y título\n",
    "plt.title('Gráfico 1: Top 10 barrios por promedio de viajes finalizados (nov 2017)', fontsize=14)\n",
    "plt.xlabel('Promedio de viajes')\n",
    "plt.ylabel('Barrio')\n",
    "plt.tight_layout()\n",
    "plt.show()"
   ]
  },
  {
   "cell_type": "markdown",
   "id": "608c8691-fa2c-4de5-b8fa-c9c74703ae86",
   "metadata": {},
   "source": [
    "### Empresas de Taxis con mayor número de recorridos"
   ]
  },
  {
   "cell_type": "code",
   "execution_count": 14,
   "id": "4ac526ad-deb3-485a-8412-5f5aba7bcae3",
   "metadata": {},
   "outputs": [
    {
     "name": "stdout",
     "output_type": "stream",
     "text": [
      "                        company_name  trips_amount\n",
      "0                          Flash Cab         19558\n",
      "1          Taxi Affiliation Services         11422\n",
      "2                  Medallion Leasing         10367\n",
      "3                         Yellow Cab          9888\n",
      "4    Taxi Affiliation Service Yellow          9299\n",
      "5          Chicago Carriage Cab Corp          9181\n",
      "6                       City Service          8448\n",
      "7                           Sun Taxi          7701\n",
      "8          Star North Management LLC          7455\n",
      "9  Blue Ribbon Taxi Association Inc.          5953\n"
     ]
    }
   ],
   "source": [
    "top_10_empresas = df_r1.sort_values(by='trips_amount', ascending=False).head(10)\n",
    "print(top_10_empresas)\n"
   ]
  },
  {
   "cell_type": "code",
   "execution_count": 15,
   "id": "775b73a4-c4cb-4cd4-a359-54c1de181b52",
   "metadata": {},
   "outputs": [
    {
     "data": {
      "image/png": "[encoded data removed]",
      "text/plain": [
       "<Figure size 1200x600 with 1 Axes>"
      ]
     },
     "metadata": {},
     "output_type": "display_data"
    }
   ],
   "source": [
    "top_10_empresas = df_r1.sort_values(by='trips_amount', ascending=False).head(10)\n",
    "# Gráfico\n",
    "plt.figure(figsize=(12, 6))\n",
    "sns.barplot(data=top_10_empresas, x='trips_amount', y='company_name', palette='viridis')\n",
    "plt.title('Gráfico 2: Top 10 Empresas de Taxis con Más Viajes')\n",
    "plt.xlabel('Número de Viajes')\n",
    "plt.ylabel('Empresa de Taxis')\n",
    "plt.tight_layout()\n",
    "plt.show()\n"
   ]
  },
  {
   "cell_type": "markdown",
   "id": "ee057339-cc11-4009-a0b7-b7f758f6034c",
   "metadata": {},
   "source": [
    "### Conclusiones"
   ]
  },
  {
   "cell_type": "markdown",
   "id": "ba59df6c-1fda-421d-9b4e-2af61fbb5314",
   "metadata": {},
   "source": [
    "* Los barrios principales a lo cuales se dirigen los taxis en ruta son 1.Loop con 10727.46 viajes promedio, 2. River North con 9523.666667 viajes promedio y en tercer lugar Streeterville  con  6664.66 viajes promedio y el barrrio a donde se dirigen menos los taxis es Sheffield & DePaul  con  1259.76 viajes promedio.\n",
    "* Las compañías de taxi con mayores viajes son 1. Flash Cab realiza 19558 viajes, 2.Taxi Affiliation Services  realiza 11422 viajes, 3. Medallion Leasing realiza 10367 viajes, la compañía que menos rutas  hace es  Blue Ribbon Taxi Association Inc. unicamente tiene 5953 viajes.\n"
   ]
  },
  {
   "cell_type": "markdown",
   "id": "cf36650d-60e7-47e8-a3d6-d0d716ef2015",
   "metadata": {},
   "source": [
    "## 2. Análisis Viajes Promedio"
   ]
  },
  {
   "cell_type": "markdown",
   "id": "0cd61e6b-10e6-4564-b59e-5935a2ad5176",
   "metadata": {},
   "source": [
    "### Prueba de Hipotésis"
   ]
  },
  {
   "cell_type": "markdown",
   "id": "e6ffb92f-d2d5-4c2b-8700-128bc9d34e27",
   "metadata": {},
   "source": [
    "### Objetivo  \n",
    "Determinar si la **duración promedio de los viajes** desde el Loop hasta el Aeropuerto Internacional O’Hare **cambia los sábados lluviosos**.\n",
    "\n",
    "### Datos utilizados  \n",
    "Archivo `project_sql_result_07.csv`, con las siguientes columnas:\n",
    "- `start_ts`: fecha y hora de inicio del viaje  \n",
    "- `weather_conditions`: condiciones climáticas (`Good`, `Bad`)  \n",
    "- `duration_seconds`: duración del viaje en segundos\n",
    "\n",
    "\n",
    "\n",
    "### Planteamiento de hipótesis\n",
    "\n",
    "- **Hipótesis nula (H₀):** La duración promedio de los viajes **no cambia** los sábados lluviosos.  \n",
    "- **Hipótesis alternativa (H₁):** La duración promedio de los viajes **sí cambia** los sábados lluviosos.\n",
    "\n",
    "**Nivel de significancia**: `α = 0.05`\n",
    "\n",
    "\n"
   ]
  },
  {
   "cell_type": "markdown",
   "id": "ccb95cd3-405b-4b62-b6af-95e712428431",
   "metadata": {},
   "source": [
    "Establecemos **alfa = 0.05 (5%)**, que es estándar en pruebas estadísticas.\n",
    "Esto significa que estamos dispuestos a aceptar un 5% de probabilidad de rechazar la hipótesis nula si es verdadera (error tipo I).\n",
    "\n",
    "**Criterio de Prueba**\n",
    "\n",
    "Utilizaremos una prueba de hipótesis para dos muestras independientes:\n",
    "\n",
    "Como comparamos dos grupos (sábados lluviosos vs. otros), usamos la prueba t de Student para muestras independientes **(scipy.stats.ttest_ind()).**\n",
    "\n",
    "Verificaremos primero si hay normalidad y varianza similar para confirmar si la prueba t es válida (de lo contrario, usamos **equal_var=False)**."
   ]
  },
  {
   "cell_type": "code",
   "execution_count": 16,
   "id": "02076a81-7bbe-489f-a740-525a68e85af5",
   "metadata": {},
   "outputs": [],
   "source": [
    "# Crear columnas de día de la semana (como número) y condición de lluvia\n",
    "df_r3['weekday'] = df_r3['start_ts'].dt.weekday  # Lunes=0, Sábado=5\n",
    "df_r3['is_saturday'] = df_r3['weekday'] == 5\n",
    "df_r3['is_rainy'] = df_r3['weather_conditions'] == 'Bad'\n",
    "\n",
    "# Filtro: sábados lluviosos\n",
    "df_r3['is_rainy_saturday'] = df_r3['is_saturday'] & df_r3['is_rainy']\n",
    "\n",
    "# Separar los grupos\n",
    "group_rainy_saturday = df_r3[df_r3['is_rainy_saturday']]['duration_seconds']\n",
    "group_others = df_r3[~df_r3['is_rainy_saturday']]['duration_seconds']\n"
   ]
  },
  {
   "cell_type": "code",
   "execution_count": 17,
   "id": "48c2dea0-efc2-4bb7-877c-cd5d1263665a",
   "metadata": {},
   "outputs": [
    {
     "name": "stdout",
     "output_type": "stream",
     "text": [
      "Estadístico t: 7.186034288068629\n",
      "Valor p: 6.738994326108734e-12\n",
      "Rechazamos la hipótesis nula: la duración promedio SÍ cambia los sábados lluviosos.\n"
     ]
    }
   ],
   "source": [
    "# Prueba t para dos muestras independientes con varianzas desiguales\n",
    "\n",
    "alpha = 0.05\n",
    "t_stat, p_value = st.ttest_ind(group_rainy_saturday, group_others, equal_var=False)\n",
    "\n",
    "print(\"Estadístico t:\", t_stat)\n",
    "print(\"Valor p:\", p_value)\n",
    "\n",
    "if p_value < alpha:\n",
    "    print(\"Rechazamos la hipótesis nula: la duración promedio SÍ cambia los sábados lluviosos.\")\n",
    "else:\n",
    "    print(\"No podemos rechazar la hipótesis nula: no hay evidencia suficiente de que la duración promedio cambie.\")\n"
   ]
  },
  {
   "cell_type": "code",
   "execution_count": 18,
   "id": "1301c110-5f36-4f5d-842b-b6208f573709",
   "metadata": {},
   "outputs": [
    {
     "data": {
      "image/png": "[encoded data removed]",
      "text/plain": [
       "<Figure size 800x600 with 1 Axes>"
      ]
     },
     "metadata": {},
     "output_type": "display_data"
    }
   ],
   "source": [
    "# Crear una nueva columna categórica para el gráfico\n",
    "df_r3['group'] = df_r3['is_rainy_saturday'].map({True: 'Sábados lluviosos', False: 'Otros días'})\n",
    "\n",
    "# Crear el boxplot\n",
    "plt.figure(figsize=(8, 6))\n",
    "sns.boxplot(x='group', y='duration_seconds', data=df_r3, palette='Set2')\n",
    "\n",
    "# Agregar título y etiquetas\n",
    "plt.title('Duración de viajes: Sábados lluviosos vs Otros días', fontsize=14)\n",
    "plt.xlabel('Condición', fontsize=12)\n",
    "plt.ylabel('Duración del viaje (segundos)', fontsize=12)\n",
    "\n",
    "# Mostrar el gráfico\n",
    "plt.tight_layout()\n",
    "plt.show()"
   ]
  },
  {
   "cell_type": "markdown",
   "id": "89956af1-107f-426c-8d80-4bb8025b43c8",
   "metadata": {},
   "source": [
    "El boxplot muestra que los sábados lluviosos tienen:\n",
    "\n",
    "Una mediana de duración más alta (la línea horizontal dentro de la caja está más arriba).\n",
    "\n",
    "Mayor dispersión: los tiempos de viaje tienden a ser más variables.\n",
    "\n",
    "Esto respalda visualmente el resultado estadístico."
   ]
  },
  {
   "cell_type": "markdown",
   "id": "94934c9f-dcae-4190-a2e6-e118dd2d5474",
   "metadata": {},
   "source": [
    "### Método  \n",
    "1. Se creó una variable `is_rainy_saturday` que identifica los sábados con clima `Bad`.  \n",
    "2. Se compararon dos grupos:\n",
    "   - Grupo 1: viajes realizados en sábados lluviosos  \n",
    "   - Grupo 2: todos los demás viajes  \n",
    "3. Se aplicó una **prueba t para muestras independientes** con varianzas desiguales (`equal_var=False`).\n",
    "\n",
    "\n",
    "### Resultados\n",
    "\n",
    "- **Estadístico t**: `7.19`  \n",
    "- **Valor p**: `6.74 × 10⁻¹²`\n",
    "\n",
    "\n",
    "### Conclusión\n",
    "\n",
    "Dado que el valor p es **mucho menor** que 0.05, **rechazamos la hipótesis nula**.\n",
    "\n",
    "Existe evidencia estadísticamente significativa para afirmar que **la duración promedio de los viajes cambia los sábados lluviosos**.\n"
   ]
  }
 ],
 "metadata": {
  "kernelspec": {
   "display_name": "Python 3 (ipykernel)",
   "language": "python",
   "name": "python3"
  },
  "language_info": {
   "codemirror_mode": {
    "name": "ipython",
    "version": 3
   },
   "file_extension": ".py",
   "mimetype": "text/x-python",
   "name": "python",
   "nbconvert_exporter": "python",
   "pygments_lexer": "ipython3",
   "version": "3.9.22"
  }
 },
 "nbformat": 4,
 "nbformat_minor": 5
}
