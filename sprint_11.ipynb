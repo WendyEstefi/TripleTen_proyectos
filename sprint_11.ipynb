{
 "cells": [
  {
   "cell_type": "markdown",
   "metadata": {},
   "source": [
    "# Análisis de Comportamiento del Usuario de Empresa de Productos Alimenticios "
   ]
  },
  {
   "cell_type": "markdown",
   "metadata": {},
   "source": [
    "## Información de la Data "
   ]
  },
  {
   "cell_type": "markdown",
   "metadata": {},
   "source": [
    "Los usuarios se dividen en tres grupos: dos grupos de control obtienen las fuentes antiguas y un grupo de prueba obtiene las nuevas. Descubre qué conjunto de fuentes produce mejores resultados.\n",
    "\n",
    "**Descripción de los datos**\n",
    "\n",
    "Cada entrada de registro es una acción de usuario o un evento.\n",
    "\n",
    "- **EventName:** nombre del evento.\n",
    "- **DeviceIDHash:** identificador de usuario unívoco.\n",
    "- **EventTimestamp:** hora del evento.\n",
    "- **ExpId:** número de experimento. 246 y 247 son los grupos de control, y 248 es el grupo de prueba."
   ]
  },
  {
   "cell_type": "markdown",
   "metadata": {},
   "source": [
    "## Integrando Data"
   ]
  },
  {
   "cell_type": "markdown",
   "metadata": {},
   "source": [
    "Importamos las librerías necesarias "
   ]
  },
  {
   "cell_type": "code",
   "execution_count": 1,
   "metadata": {},
   "outputs": [],
   "source": [
    "import pandas as pd\n",
    "from datetime import datetime\n",
    "from scipy import stats as st\n",
    "import numpy as np\n",
    "import math as mt\n",
    "import matplotlib.pyplot as plt\n",
    "import seaborn as sns\n",
    "from scipy.stats import levene\n",
    "import plotly.express as px\n",
    "import plotly.graph_objects as go\n",
    "import matplotlib.dates as mdates\n"
   ]
  },
  {
   "cell_type": "markdown",
   "metadata": {},
   "source": [
    "## Paso 1. Abrir el archivo de datos y leer la información general\n",
    "\n"
   ]
  },
  {
   "cell_type": "code",
   "execution_count": 2,
   "metadata": {},
   "outputs": [],
   "source": [
    "# Se cargan los datos empleando la librería pandas:\n",
    "logs = pd.read_csv('/datasets/logs_exp_us.csv',\n",
    "                   engine = 'python',\n",
    "                   sep = '\\s', header = 0,\n",
    "                   dtype = {'EventName': 'category', 'ExpId': 'category'},)"
   ]
  },
  {
   "cell_type": "code",
   "execution_count": 3,
   "metadata": {},
   "outputs": [
    {
     "name": "stdout",
     "output_type": "stream",
     "text": [
      "<class 'pandas.core.frame.DataFrame'>\n",
      "RangeIndex: 244126 entries, 0 to 244125\n",
      "Data columns (total 4 columns):\n",
      " #   Column          Non-Null Count   Dtype   \n",
      "---  ------          --------------   -----   \n",
      " 0   EventName       244126 non-null  category\n",
      " 1   DeviceIDHash    244126 non-null  int64   \n",
      " 2   EventTimestamp  244126 non-null  int64   \n",
      " 3   ExpId           244126 non-null  category\n",
      "dtypes: category(2), int64(2)\n",
      "memory usage: 4.2 MB\n"
     ]
    }
   ],
   "source": [
    "logs.info()"
   ]
  },
  {
   "cell_type": "markdown",
   "metadata": {},
   "source": [
    "**Observaciones :**\n",
    "\n",
    "**EventName:** nombre del evento registrado. Tipo de dato: category. Sin valores nulos.\n",
    "\n",
    "**DeviceIDHash:** Tipo de dato: int64.\n",
    "\n",
    "**EventTimestamp:**  Tipo de dato: int64.Tiene datos tipo object.\n",
    "\n",
    "**ExpId:** identificador del experimento (grupo A/B). Tipo de dato: category.\n",
    "\n",
    "- No hay valores nulos en ninguna de las columnas.\n",
    "- Cambiar el nombre de las variables con letras solo minúsculas.\n",
    "- Los nombres de las columnas no tienen separadores de palabras.\n"
   ]
  },
  {
   "cell_type": "markdown",
   "metadata": {},
   "source": [
    "## Paso 2. Preparar los datos para el análisis\n",
    "\n"
   ]
  },
  {
   "cell_type": "markdown",
   "metadata": {},
   "source": [
    "- Cambia el nombre de las columnas de manera que sea conveniente para ti.\n",
    "- Comprueba los tipos de datos y valores ausentes. Corrige los datos si es necesario.\n",
    "- Agrega una columna de fecha y hora y una columna separada para las fechas."
   ]
  },
  {
   "cell_type": "markdown",
   "metadata": {},
   "source": [
    "**Cambiamos los nombres de las columnas de manera correcta, en minúsculas y con guión bajo para separar las frases .**"
   ]
  },
  {
   "cell_type": "code",
   "execution_count": 4,
   "metadata": {},
   "outputs": [],
   "source": [
    "logs.rename(columns = {'EventName': 'event_name',\n",
    "                       'DeviceIDHash': 'user_id',\n",
    "                       'EventTimestamp': 'full_date',\n",
    "                       'ExpId': 'group'}, inplace = True)"
   ]
  },
  {
   "cell_type": "markdown",
   "metadata": {},
   "source": [
    "**Contamos los valores ausentes**"
   ]
  },
  {
   "cell_type": "code",
   "execution_count": 5,
   "metadata": {},
   "outputs": [
    {
     "data": {
      "text/html": [
       "<div>\n",
       "<style scoped>\n",
       "    .dataframe tbody tr th:only-of-type {\n",
       "        vertical-align: middle;\n",
       "    }\n",
       "\n",
       "    .dataframe tbody tr th {\n",
       "        vertical-align: top;\n",
       "    }\n",
       "\n",
       "    .dataframe thead th {\n",
       "        text-align: right;\n",
       "    }\n",
       "</style>\n",
       "<table border=\"1\" class=\"dataframe\">\n",
       "  <thead>\n",
       "    <tr style=\"text-align: right;\">\n",
       "      <th></th>\n",
       "      <th>index</th>\n",
       "      <th>0</th>\n",
       "    </tr>\n",
       "  </thead>\n",
       "  <tbody>\n",
       "    <tr>\n",
       "      <th>0</th>\n",
       "      <td>event_name</td>\n",
       "      <td>0</td>\n",
       "    </tr>\n",
       "    <tr>\n",
       "      <th>1</th>\n",
       "      <td>user_id</td>\n",
       "      <td>0</td>\n",
       "    </tr>\n",
       "    <tr>\n",
       "      <th>2</th>\n",
       "      <td>full_date</td>\n",
       "      <td>0</td>\n",
       "    </tr>\n",
       "    <tr>\n",
       "      <th>3</th>\n",
       "      <td>group</td>\n",
       "      <td>0</td>\n",
       "    </tr>\n",
       "  </tbody>\n",
       "</table>\n",
       "</div>"
      ],
      "text/plain": [
       "        index  0\n",
       "0  event_name  0\n",
       "1     user_id  0\n",
       "2   full_date  0\n",
       "3       group  0"
      ]
     },
     "execution_count": 5,
     "metadata": {},
     "output_type": "execute_result"
    }
   ],
   "source": [
    "logs.isna().sum().reset_index()"
   ]
  },
  {
   "cell_type": "markdown",
   "metadata": {},
   "source": [
    "No existen valores ausentes en las columnas . "
   ]
  },
  {
   "cell_type": "markdown",
   "metadata": {},
   "source": [
    "**Contar si hay filas publicadas**"
   ]
  },
  {
   "cell_type": "code",
   "execution_count": 6,
   "metadata": {},
   "outputs": [
    {
     "name": "stdout",
     "output_type": "stream",
     "text": [
      "Hay un total de 413 filas duplicadas.\n"
     ]
    }
   ],
   "source": [
    "print('Hay un total de', logs.duplicated().sum(), 'filas duplicadas.')"
   ]
  },
  {
   "cell_type": "markdown",
   "metadata": {},
   "source": [
    "**Comprobar si existen realmente filas duplicadas o es un error del sistema**\n",
    "\n"
   ]
  },
  {
   "cell_type": "code",
   "execution_count": 7,
   "metadata": {},
   "outputs": [
    {
     "data": {
      "text/html": [
       "<div>\n",
       "<style scoped>\n",
       "    .dataframe tbody tr th:only-of-type {\n",
       "        vertical-align: middle;\n",
       "    }\n",
       "\n",
       "    .dataframe tbody tr th {\n",
       "        vertical-align: top;\n",
       "    }\n",
       "\n",
       "    .dataframe thead th {\n",
       "        text-align: right;\n",
       "    }\n",
       "</style>\n",
       "<table border=\"1\" class=\"dataframe\">\n",
       "  <thead>\n",
       "    <tr style=\"text-align: right;\">\n",
       "      <th></th>\n",
       "      <th>event_name</th>\n",
       "      <th>user_id</th>\n",
       "      <th>full_date</th>\n",
       "      <th>group</th>\n",
       "    </tr>\n",
       "  </thead>\n",
       "  <tbody>\n",
       "    <tr>\n",
       "      <th>453</th>\n",
       "      <td>MainScreenAppear</td>\n",
       "      <td>5613408041324010552</td>\n",
       "      <td>1564474784</td>\n",
       "      <td>248</td>\n",
       "    </tr>\n",
       "    <tr>\n",
       "      <th>2350</th>\n",
       "      <td>CartScreenAppear</td>\n",
       "      <td>1694940645335807244</td>\n",
       "      <td>1564609899</td>\n",
       "      <td>248</td>\n",
       "    </tr>\n",
       "    <tr>\n",
       "      <th>3573</th>\n",
       "      <td>MainScreenAppear</td>\n",
       "      <td>434103746454591587</td>\n",
       "      <td>1564628377</td>\n",
       "      <td>248</td>\n",
       "    </tr>\n",
       "    <tr>\n",
       "      <th>4076</th>\n",
       "      <td>MainScreenAppear</td>\n",
       "      <td>3761373764179762633</td>\n",
       "      <td>1564631266</td>\n",
       "      <td>247</td>\n",
       "    </tr>\n",
       "    <tr>\n",
       "      <th>4803</th>\n",
       "      <td>MainScreenAppear</td>\n",
       "      <td>2835328739789306622</td>\n",
       "      <td>1564634641</td>\n",
       "      <td>248</td>\n",
       "    </tr>\n",
       "    <tr>\n",
       "      <th>...</th>\n",
       "      <td>...</td>\n",
       "      <td>...</td>\n",
       "      <td>...</td>\n",
       "      <td>...</td>\n",
       "    </tr>\n",
       "    <tr>\n",
       "      <th>242329</th>\n",
       "      <td>MainScreenAppear</td>\n",
       "      <td>8870358373313968633</td>\n",
       "      <td>1565206004</td>\n",
       "      <td>247</td>\n",
       "    </tr>\n",
       "    <tr>\n",
       "      <th>242332</th>\n",
       "      <td>PaymentScreenSuccessful</td>\n",
       "      <td>4718002964983105693</td>\n",
       "      <td>1565206005</td>\n",
       "      <td>247</td>\n",
       "    </tr>\n",
       "    <tr>\n",
       "      <th>242360</th>\n",
       "      <td>PaymentScreenSuccessful</td>\n",
       "      <td>2382591782303281935</td>\n",
       "      <td>1565206049</td>\n",
       "      <td>246</td>\n",
       "    </tr>\n",
       "    <tr>\n",
       "      <th>242362</th>\n",
       "      <td>CartScreenAppear</td>\n",
       "      <td>2382591782303281935</td>\n",
       "      <td>1565206049</td>\n",
       "      <td>246</td>\n",
       "    </tr>\n",
       "    <tr>\n",
       "      <th>242635</th>\n",
       "      <td>MainScreenAppear</td>\n",
       "      <td>4097782667445790512</td>\n",
       "      <td>1565206618</td>\n",
       "      <td>246</td>\n",
       "    </tr>\n",
       "  </tbody>\n",
       "</table>\n",
       "<p>413 rows × 4 columns</p>\n",
       "</div>"
      ],
      "text/plain": [
       "                     event_name              user_id   full_date group\n",
       "453            MainScreenAppear  5613408041324010552  1564474784   248\n",
       "2350           CartScreenAppear  1694940645335807244  1564609899   248\n",
       "3573           MainScreenAppear   434103746454591587  1564628377   248\n",
       "4076           MainScreenAppear  3761373764179762633  1564631266   247\n",
       "4803           MainScreenAppear  2835328739789306622  1564634641   248\n",
       "...                         ...                  ...         ...   ...\n",
       "242329         MainScreenAppear  8870358373313968633  1565206004   247\n",
       "242332  PaymentScreenSuccessful  4718002964983105693  1565206005   247\n",
       "242360  PaymentScreenSuccessful  2382591782303281935  1565206049   246\n",
       "242362         CartScreenAppear  2382591782303281935  1565206049   246\n",
       "242635         MainScreenAppear  4097782667445790512  1565206618   246\n",
       "\n",
       "[413 rows x 4 columns]"
      ]
     },
     "execution_count": 7,
     "metadata": {},
     "output_type": "execute_result"
    }
   ],
   "source": [
    "logs[logs.duplicated()]"
   ]
  },
  {
   "cell_type": "code",
   "execution_count": 8,
   "metadata": {},
   "outputs": [],
   "source": [
    "logs.drop_duplicates(inplace = True)\n",
    "logs.reset_index(inplace = True, drop = True)"
   ]
  },
  {
   "cell_type": "code",
   "execution_count": 9,
   "metadata": {},
   "outputs": [
    {
     "name": "stdout",
     "output_type": "stream",
     "text": [
      "<class 'pandas.core.frame.DataFrame'>\n",
      "RangeIndex: 243713 entries, 0 to 243712\n",
      "Data columns (total 4 columns):\n",
      " #   Column      Non-Null Count   Dtype   \n",
      "---  ------      --------------   -----   \n",
      " 0   event_name  243713 non-null  category\n",
      " 1   user_id     243713 non-null  int64   \n",
      " 2   full_date   243713 non-null  int64   \n",
      " 3   group       243713 non-null  category\n",
      "dtypes: category(2), int64(2)\n",
      "memory usage: 4.2 MB\n"
     ]
    }
   ],
   "source": [
    "logs.info()"
   ]
  },
  {
   "cell_type": "markdown",
   "metadata": {},
   "source": [
    "Si existen filas duplicadas y para un mejor manejo, las eliminamos."
   ]
  },
  {
   "cell_type": "markdown",
   "metadata": {},
   "source": [
    "**Cambiar *full_date* a tipo datetime**"
   ]
  },
  {
   "cell_type": "code",
   "execution_count": 10,
   "metadata": {},
   "outputs": [],
   "source": [
    "logs['full_date'] = pd.to_datetime(logs['full_date'], unit = 's')"
   ]
  },
  {
   "cell_type": "markdown",
   "metadata": {},
   "source": [
    "**Añadir la columna de fecha y hora**"
   ]
  },
  {
   "cell_type": "code",
   "execution_count": 11,
   "metadata": {},
   "outputs": [],
   "source": [
    "# Agregar una columna con la fecha del evento:\n",
    "logs['date'] = logs['full_date'].dt.date\n",
    "# Agregar una columna con la hora del evento:\n",
    "logs['hour'] = logs['full_date'].dt.time"
   ]
  },
  {
   "cell_type": "markdown",
   "metadata": {},
   "source": [
    "## Paso 3. Estudiar y comprobar los datos"
   ]
  },
  {
   "cell_type": "markdown",
   "metadata": {},
   "source": [
    "### ¿Cuántos eventos hay en los registros?"
   ]
  },
  {
   "cell_type": "code",
   "execution_count": 12,
   "metadata": {},
   "outputs": [
    {
     "name": "stdout",
     "output_type": "stream",
     "text": [
      "En los regristros hay un total de 5 eventos.\n"
     ]
    }
   ],
   "source": [
    "\n",
    "print('En los regristros hay un total de', logs['event_name'].nunique(), 'eventos.')"
   ]
  },
  {
   "cell_type": "markdown",
   "metadata": {},
   "source": [
    "### ¿Cuántos usuarios hay en los registros?"
   ]
  },
  {
   "cell_type": "code",
   "execution_count": 13,
   "metadata": {},
   "outputs": [
    {
     "name": "stdout",
     "output_type": "stream",
     "text": [
      "En los registros hay un total de 7551 usuarios únicos.\n"
     ]
    }
   ],
   "source": [
    "print('En los registros hay un total de', logs['user_id'].nunique(), 'usuarios únicos.')"
   ]
  },
  {
   "cell_type": "markdown",
   "metadata": {},
   "source": [
    "### ¿Cuántos usuarios hay en los registros?"
   ]
  },
  {
   "cell_type": "code",
   "execution_count": 14,
   "metadata": {},
   "outputs": [
    {
     "name": "stdout",
     "output_type": "stream",
     "text": [
      "El promedio de eventos por usuario es 32.276 .\n"
     ]
    }
   ],
   "source": [
    "print('El promedio de eventos por usuario es', (logs.groupby('user_id')['event_name'].count().mean()).round(3),'.')\n"
   ]
  },
  {
   "cell_type": "markdown",
   "metadata": {},
   "source": [
    "### ¿Cuál es el promedio de eventos por usuario?"
   ]
  },
  {
   "cell_type": "code",
   "execution_count": 15,
   "metadata": {},
   "outputs": [
    {
     "name": "stdout",
     "output_type": "stream",
     "text": [
      "Los datos cubren registros desde el 2019-07-25 hasta el 2019-08-07 .\n"
     ]
    }
   ],
   "source": [
    "print('Los datos cubren registros desde el', logs['date'].min(), 'hasta el', logs['date'].max(),'.')"
   ]
  },
  {
   "cell_type": "markdown",
   "metadata": {},
   "source": [
    "Esto quiere decir que todos lo valores corresponden a un lapso de 2 semanas.\n",
    "\n"
   ]
  },
  {
   "cell_type": "markdown",
   "metadata": {},
   "source": [
    "### ¿Qué periodo de tiempo cubren los datos? Encuentra la fecha máxima y mínima. "
   ]
  },
  {
   "cell_type": "code",
   "execution_count": 16,
   "metadata": {},
   "outputs": [
    {
     "name": "stdout",
     "output_type": "stream",
     "text": [
      "El periodo cubierto por los datos va desde 2019-07-25 04:43:36 hasta 2019-08-07 21:15:17.\n"
     ]
    }
   ],
   "source": [
    "#Calcular el periodo de tiempo  que cubren, los datos obteniendo la fecha mínima y máxima . \n",
    "fecha_minima = logs['full_date'].min()\n",
    "fecha_maxima = logs['full_date'].max()\n",
    "\n",
    "print(f\"El periodo cubierto por los datos va desde {fecha_minima} hasta {fecha_maxima}.\")"
   ]
  },
  {
   "cell_type": "markdown",
   "metadata": {},
   "source": [
    "### Traza un histograma por fecha y hora. "
   ]
  },
  {
   "cell_type": "code",
   "execution_count": 17,
   "metadata": {},
   "outputs": [],
   "source": [
    "# Crear columna truncada a la hora (incluye fecha + hora, sin minutos ni segundos)\n",
    "logs['full_hour'] = logs['full_date'].dt.floor('H')\n"
   ]
  },
  {
   "cell_type": "code",
   "execution_count": 18,
   "metadata": {},
   "outputs": [
    {
     "ename": "NameError",
     "evalue": "name 'eventos_por_hora' is not defined",
     "output_type": "error",
     "traceback": [
      "\u001b[0;31m---------------------------------------------------------------------------\u001b[0m",
      "\u001b[0;31mNameError\u001b[0m                                 Traceback (most recent call last)",
      "Cell \u001b[0;32mIn[18], line 3\u001b[0m\n\u001b[1;32m      1\u001b[0m \u001b[38;5;66;03m# Crear la figura y graficar\u001b[39;00m\n\u001b[1;32m      2\u001b[0m plt\u001b[38;5;241m.\u001b[39mfigure(figsize\u001b[38;5;241m=\u001b[39m(\u001b[38;5;241m16\u001b[39m, \u001b[38;5;241m6\u001b[39m))\n\u001b[0;32m----> 3\u001b[0m plt\u001b[38;5;241m.\u001b[39mbar(\u001b[43meventos_por_hora\u001b[49m[\u001b[38;5;124m'\u001b[39m\u001b[38;5;124mfull_hour\u001b[39m\u001b[38;5;124m'\u001b[39m], eventos_por_hora[\u001b[38;5;124m'\u001b[39m\u001b[38;5;124mevent_count\u001b[39m\u001b[38;5;124m'\u001b[39m], width\u001b[38;5;241m=\u001b[39m\u001b[38;5;241m0.03\u001b[39m)\n\u001b[1;32m      5\u001b[0m \u001b[38;5;66;03m# Etiquetas y título\u001b[39;00m\n\u001b[1;32m      6\u001b[0m plt\u001b[38;5;241m.\u001b[39mxlabel(\u001b[38;5;124m'\u001b[39m\u001b[38;5;124mFecha y Hora\u001b[39m\u001b[38;5;124m'\u001b[39m)\n",
      "\u001b[0;31mNameError\u001b[0m: name 'eventos_por_hora' is not defined"
     ]
    },
    {
     "data": {
      "text/plain": [
       "<Figure size 1600x600 with 0 Axes>"
      ]
     },
     "metadata": {},
     "output_type": "display_data"
    }
   ],
   "source": [
    "# Crear la figura y graficar\n",
    "plt.figure(figsize=(16, 6))\n",
    "plt.bar(eventos_por_hora['full_hour'], eventos_por_hora['event_count'], width=0.03)\n",
    "\n",
    "# Etiquetas y título\n",
    "plt.xlabel('Fecha y Hora')\n",
    "plt.ylabel('Cantidad de eventos')\n",
    "plt.title('Histograma de eventos por hora')\n",
    "\n",
    "# Formatear el eje X para mostrar fecha + hora\n",
    "plt.gca().xaxis.set_major_formatter(mdates.DateFormatter('%Y-%m-%d %H:%M'))\n",
    "\n",
    "# Mostrar una etiqueta cada 6 horas (puedes ajustar el intervalo)\n",
    "plt.gca().xaxis.set_major_locator(mdates.HourLocator(interval=6))\n",
    "\n",
    "# Rotar etiquetas para que no se amontonen\n",
    "plt.xticks(rotation=45)\n",
    "\n",
    "# Ajustar el diseño para que todo se vea bien\n",
    "plt.tight_layout()\n",
    "plt.show()\n"
   ]
  },
  {
   "cell_type": "markdown",
   "metadata": {},
   "source": [
    "### ¿Puedes tener seguridad de que tienes datos igualmente completos para todo el periodo? Los eventos más antiguos podrían terminar en los registros de algunos usuarios por razones técnicas y esto podría sesgar el panorama general. Encuentra el momento en el que los datos comienzan a estar completos e ignora la sección anterior. ¿Qué periodo representan realmente los datos?"
   ]
  },
  {
   "cell_type": "markdown",
   "metadata": {},
   "source": [
    "\n",
    "Se trazó un histograma por fecha y hora para analizar la cobertura y calidad temporal del dataset.\n",
    "\n",
    "- Se detectó que entre el **24 y el 30 de julio de 2019**, los datos son escasos y no confiables.\n",
    "- A partir del **31 de julio de 2019**, la actividad por hora se estabiliza y se vuelve representativa del comportamiento real de los usuarios.\n",
    "- Por tanto, el periodo confiable para el análisis es del **31 de julio al 7 de agosto de 2019**.\n",
    "- Se ignorará el periodo anterior al 31 de julio para evitar sesgos en los resultados.\n"
   ]
  },
  {
   "cell_type": "code",
   "execution_count": 19,
   "metadata": {},
   "outputs": [],
   "source": [
    "#Filtrar los datos necesarios para el análisis.\n",
    "filtred_logs = logs[logs['full_date'] >= pd.to_datetime('2019-07-31')].reset_index(drop = True)"
   ]
  },
  {
   "cell_type": "markdown",
   "metadata": {},
   "source": [
    "### ¿Perdiste muchos eventos y usuarios al excluir los datos más antiguos?"
   ]
  },
  {
   "cell_type": "markdown",
   "metadata": {},
   "source": [
    "1. Comparar el número total de eventos antes y después.\n"
   ]
  },
  {
   "cell_type": "code",
   "execution_count": 20,
   "metadata": {},
   "outputs": [
    {
     "name": "stdout",
     "output_type": "stream",
     "text": [
      "Eventos antes del filtrado: 243713\n",
      "Eventos después del filtrado: 242917\n",
      "Eventos eliminados: 796 (0.33%)\n"
     ]
    }
   ],
   "source": [
    "eventos_antes = logs.shape[0]\n",
    "eventos_despues = filtred_logs.shape[0]\n",
    "\n",
    "print(f\"Eventos antes del filtrado: {eventos_antes}\")\n",
    "print(f\"Eventos después del filtrado: {eventos_despues}\")\n",
    "print(f\"Eventos eliminados: {eventos_antes - eventos_despues} ({(eventos_antes - eventos_despues)/eventos_antes:.2%})\")\n"
   ]
  },
  {
   "cell_type": "markdown",
   "metadata": {},
   "source": [
    "2. Comparar la cantidad de usuarios únicos antes y después.\n"
   ]
  },
  {
   "cell_type": "code",
   "execution_count": 21,
   "metadata": {},
   "outputs": [
    {
     "name": "stdout",
     "output_type": "stream",
     "text": [
      "Usuarios antes del filtrado: 7551\n",
      "Usuarios después del filtrado: 7542\n",
      "Usuarios eliminados: 9 (0.12%)\n"
     ]
    }
   ],
   "source": [
    "usuarios_antes = logs['user_id'].nunique()\n",
    "usuarios_despues = filtred_logs['user_id'].nunique()\n",
    "\n",
    "print(f\"Usuarios antes del filtrado: {usuarios_antes}\")\n",
    "print(f\"Usuarios después del filtrado: {usuarios_despues}\")\n",
    "print(f\"Usuarios eliminados: {usuarios_antes - usuarios_despues} ({(usuarios_antes - usuarios_despues)/usuarios_antes:.2%})\")\n"
   ]
  },
  {
   "cell_type": "markdown",
   "metadata": {},
   "source": [
    "#### ¿Se perdieron muchos eventos y usuarios al excluir los datos más antiguos?\n",
    "La pérdida de datos fue mínima, tanto en cantidad de eventos como en usuarios.Los eventos excluidos representaban un volumen muy bajo y probablemente estaban incompletos o desorganizados.l pequeño número de usuarios eliminados corresponde a aquellos que interactuaron únicamente antes del 31 de julio y no participaron durante el periodo estable. Excluir los primeros días no afecta negativamente el análisis, garantiza que trabajamos con datos confiables y representativos del comportamiento real de los usuarios.\n"
   ]
  },
  {
   "cell_type": "markdown",
   "metadata": {},
   "source": [
    "### Asegúrate de tener usuarios de los tres grupos experimentales."
   ]
  },
  {
   "cell_type": "code",
   "execution_count": 22,
   "metadata": {},
   "outputs": [
    {
     "name": "stdout",
     "output_type": "stream",
     "text": [
      "['247', '248', '246']\n",
      "Categories (3, object): ['247', '248', '246']\n"
     ]
    },
    {
     "data": {
      "text/plain": [
       "group\n",
       "246    2485\n",
       "247    2517\n",
       "248    2540\n",
       "Name: user_id, dtype: int64"
      ]
     },
     "execution_count": 22,
     "metadata": {},
     "output_type": "execute_result"
    }
   ],
   "source": [
    "# Revisar los valores únicos en la columna 'group'\n",
    "print(filtred_logs['group'].unique())\n",
    "\n",
    "# Ver cuántos usuarios únicos hay en cada grupo\n",
    "filtred_logs.groupby('group')['user_id'].nunique()\n"
   ]
  },
  {
   "cell_type": "markdown",
   "metadata": {},
   "source": [
    "Se comprobó la presencia de los tres grupos experimentales en el conjunto de datos filtrado:\n",
    "\n",
    "- Grupo 246 (Control A): 2485 usuarios\n",
    "\n",
    "- Grupo 247 (Control A): 2517 usuarios\n",
    "\n",
    "- Grupo 248 (Grupo de prueba B): 2540 usuarios\n",
    "\n",
    "Es decir que, todos los grupos están presentes los tamaños de muestra entre grupos son similares, lo cual es ideal para realizar una comparación justa en el análisis A/A/B. Los grupos 246 y 247 (ambos control) tienen tamaños comparables, lo que permitirá verificar que no hay sesgo antes de comparar con el grupo 248."
   ]
  },
  {
   "cell_type": "markdown",
   "metadata": {},
   "source": [
    "## Paso 4. Estudiar el embudo de eventos"
   ]
  },
  {
   "cell_type": "markdown",
   "metadata": {},
   "source": [
    "### Observa qué eventos hay en los registros y su frecuencia de suceso. Ordénalos por frecuencia."
   ]
  },
  {
   "cell_type": "code",
   "execution_count": 23,
   "metadata": {},
   "outputs": [
    {
     "data": {
      "text/plain": [
       "MainScreenAppear           118578\n",
       "OffersScreenAppear          46707\n",
       "CartScreenAppear            42560\n",
       "PaymentScreenSuccessful     34058\n",
       "Tutorial                     1014\n",
       "Name: event_name, dtype: int64"
      ]
     },
     "execution_count": 23,
     "metadata": {},
     "output_type": "execute_result"
    }
   ],
   "source": [
    "# Contar frecuencia de cada evento\n",
    "eventos_frecuencia = filtred_logs['event_name'].value_counts()\n",
    "\n",
    "# Mostrar resultados\n",
    "eventos_frecuencia\n"
   ]
  },
  {
   "cell_type": "markdown",
   "metadata": {},
   "source": [
    "El evento **más frecuente** es `MainScreenAppear`, lo que indica que la mayoría de usuarios ingresan a la pantalla principal."
   ]
  },
  {
   "cell_type": "markdown",
   "metadata": {},
   "source": [
    "### Encuentra la cantidad de usuarios que realizaron cada una de estas acciones. Ordena los eventos por el número de usuarios. Calcula la proporción de usuarios que realizaron la acción al menos una vez."
   ]
  },
  {
   "cell_type": "code",
   "execution_count": 24,
   "metadata": {},
   "outputs": [
    {
     "data": {
      "text/html": [
       "<div>\n",
       "<style scoped>\n",
       "    .dataframe tbody tr th:only-of-type {\n",
       "        vertical-align: middle;\n",
       "    }\n",
       "\n",
       "    .dataframe tbody tr th {\n",
       "        vertical-align: top;\n",
       "    }\n",
       "\n",
       "    .dataframe thead th {\n",
       "        text-align: right;\n",
       "    }\n",
       "</style>\n",
       "<table border=\"1\" class=\"dataframe\">\n",
       "  <thead>\n",
       "    <tr style=\"text-align: right;\">\n",
       "      <th></th>\n",
       "      <th>event_name</th>\n",
       "      <th>user_count</th>\n",
       "      <th>user_proportion</th>\n",
       "    </tr>\n",
       "  </thead>\n",
       "  <tbody>\n",
       "    <tr>\n",
       "      <th>1</th>\n",
       "      <td>MainScreenAppear</td>\n",
       "      <td>7429</td>\n",
       "      <td>0.985017</td>\n",
       "    </tr>\n",
       "    <tr>\n",
       "      <th>2</th>\n",
       "      <td>OffersScreenAppear</td>\n",
       "      <td>4606</td>\n",
       "      <td>0.610713</td>\n",
       "    </tr>\n",
       "    <tr>\n",
       "      <th>0</th>\n",
       "      <td>CartScreenAppear</td>\n",
       "      <td>3742</td>\n",
       "      <td>0.496155</td>\n",
       "    </tr>\n",
       "    <tr>\n",
       "      <th>3</th>\n",
       "      <td>PaymentScreenSuccessful</td>\n",
       "      <td>3542</td>\n",
       "      <td>0.469637</td>\n",
       "    </tr>\n",
       "    <tr>\n",
       "      <th>4</th>\n",
       "      <td>Tutorial</td>\n",
       "      <td>845</td>\n",
       "      <td>0.112039</td>\n",
       "    </tr>\n",
       "  </tbody>\n",
       "</table>\n",
       "</div>"
      ],
      "text/plain": [
       "                event_name  user_count  user_proportion\n",
       "1         MainScreenAppear        7429         0.985017\n",
       "2       OffersScreenAppear        4606         0.610713\n",
       "0         CartScreenAppear        3742         0.496155\n",
       "3  PaymentScreenSuccessful        3542         0.469637\n",
       "4                 Tutorial         845         0.112039"
      ]
     },
     "execution_count": 24,
     "metadata": {},
     "output_type": "execute_result"
    }
   ],
   "source": [
    "# Total de usuarios únicos en el dataset filtrado\n",
    "total_usuarios = filtred_logs['user_id'].nunique()\n",
    "\n",
    "# Cantidad de usuarios únicos por evento\n",
    "usuarios_por_evento = filtred_logs.groupby('event_name')['user_id'].nunique()\n",
    "\n",
    "# Convertir a DataFrame para mejor manejo\n",
    "usuarios_por_evento = usuarios_por_evento.reset_index()\n",
    "usuarios_por_evento.columns = ['event_name', 'user_count']\n",
    "\n",
    "# Ordenar por cantidad de usuarios, de mayor a menor\n",
    "usuarios_por_evento = usuarios_por_evento.sort_values(by='user_count', ascending=False)\n",
    "\n",
    "# Calcular proporción respecto al total de usuarios\n",
    "usuarios_por_evento['user_proportion'] = usuarios_por_evento['user_count'] / total_usuarios\n",
    "\n",
    "# Mostrar resultados\n",
    "usuarios_por_evento\n"
   ]
  },
  {
   "cell_type": "markdown",
   "metadata": {},
   "source": [
    "Segun los datos la mayor parte de usuarios vio la pantalla de inicio 98,5% y casi nadie reviso el tutorial 11,20%"
   ]
  },
  {
   "cell_type": "markdown",
   "metadata": {},
   "source": [
    "### ¿En qué orden crees que ocurrieron las acciones? ¿Todas son parte de una sola secuencia? No es necesario tenerlas en cuenta al calcular el embudo."
   ]
  },
  {
   "cell_type": "markdown",
   "metadata": {},
   "source": [
    "Las acciones presuntamente ocurrieron en este orden : \n",
    "- MainScreenAppear: Casi todos los usuarios (98.5%) vieron la pantalla principal. Esto tiene sentido, es la primera acción al abrir la app o sitio.\n",
    "\n",
    "- OffersScreenAppear: Luego, alrededor del 61% navegó a la pantalla de ofertas. Esto es un paso típico tras la pantalla principal.\n",
    "\n",
    "- CartScreenAppear: Después, el 49.6% llegó al carrito, indicando que casi la mitad de los usuarios añadieron o vieron productos en el carrito.\n",
    "\n",
    "- PaymentScreenSuccessful: El 47% completó el pago exitosamente. Es natural que esta cifra sea menor que la del carrito, porque no todos completan la compra.\n",
    "\n",
    "- Tutorial: Solo el 11.2% utilizó o vio el tutorial, probablemente de forma independiente y no necesariamente en esta secuencia.\n",
    "\n",
    "**¿Todas son parte de una sola secuencia?**\n",
    "No necesariamente. Los primeros cuatro eventos parecen formar un embudo típico de compra: desde la llegada a la pantalla principal hasta el pago. La progresión decreciente en la cantidad y proporción de usuarios es coherente con la pérdida de usuarios en cada etapa.\n",
    "\n",
    "\n",
    "**¿Es necesario tenerlas todas en cuenta para el embudo?**\n",
    "Para calcular el embudo clásico de conversión, normalmente se consideran los eventos secuenciales relevantes a la compra, es decir:\n",
    "\n",
    "MainScreenAppear\n",
    "\n",
    "OffersScreenAppear\n",
    "\n",
    "CartScreenAppear\n",
    "\n",
    "PaymentScreenSuccessful\n",
    "\n",
    "El evento Tutorial es opcional y no se considera parte del embudo, ya que no refleja una etapa directa del flujo de compra.\n",
    "\n"
   ]
  },
  {
   "cell_type": "markdown",
   "metadata": {},
   "source": [
    "### Utiliza el embudo de eventos para encontrar la proporción de usuarios que pasan de una etapa a la siguiente. Por ejemplo, para la secuencia de eventos A → B → C, calcula la proporción de usuarios en la etapa B a la cantidad de usuarios en la etapa A y la proporción de usuarios en la etapa C a la cantidad en la etapa B."
   ]
  },
  {
   "cell_type": "code",
   "execution_count": 25,
   "metadata": {},
   "outputs": [
    {
     "name": "stdout",
     "output_type": "stream",
     "text": [
      "El porcentaje de usuarios que pasan de una etapa a la otra es:\n",
      "                event_name  conversion_rate\n",
      "1         MainScreenAppear           100.00\n",
      "2       OffersScreenAppear            62.00\n",
      "0         CartScreenAppear            81.24\n",
      "3  PaymentScreenSuccessful            94.66\n",
      "4                 Tutorial            23.86\n"
     ]
    }
   ],
   "source": [
    "# Calcular la tasa de conversión secuencial entre eventos (A → B → C)\n",
    "usuarios_por_evento['conversion_rate'] = (\n",
    "    usuarios_por_evento['user_count'] / usuarios_por_evento['user_count'].shift(1) * 100\n",
    ").round(2)\n",
    "\n",
    "# Asignar 100% a la primera fila (ya que no tiene etapa anterior)\n",
    "usuarios_por_evento['conversion_rate'].fillna(100, inplace=True)\n",
    "\n",
    "# Mostrar los resultados finales\n",
    "print(\"El porcentaje de usuarios que pasan de una etapa a la otra es:\")\n",
    "print(usuarios_por_evento[['event_name', 'conversion_rate']])\n"
   ]
  },
  {
   "cell_type": "markdown",
   "metadata": {},
   "source": [
    "Para una mejor visualización cremos un gráfico : "
   ]
  },
  {
   "cell_type": "code",
   "execution_count": 26,
   "metadata": {},
   "outputs": [
    {
     "data": {
      "image/png": "[encoded data removed]",
      "text/plain": [
       "<Figure size 1000x600 with 1 Axes>"
      ]
     },
     "metadata": {},
     "output_type": "display_data"
    }
   ],
   "source": [
    "plt.figure(figsize=(10,6))\n",
    "plt.barh(\n",
    "    usuarios_por_evento['event_name'],\n",
    "    usuarios_por_evento['user_count'],\n",
    "    color='skyblue'\n",
    ")\n",
    "plt.xlabel('Cantidad de usuarios únicos')\n",
    "plt.title('Embudo de usuarios por etapa')\n",
    "\n",
    "# Mostrar tasa de conversión al lado derecho de cada barra\n",
    "for i, (count, rate) in enumerate(zip(usuarios_por_evento['user_count'], usuarios_por_evento['conversion_rate'])):\n",
    "    plt.text(count + 50, i, f'{rate}%', va='center')\n",
    "\n",
    "plt.gca().invert_yaxis()  # Para que la primera etapa esté arriba\n",
    "plt.show()"
   ]
  },
  {
   "cell_type": "markdown",
   "metadata": {},
   "source": [
    "- MainScreenAppear: El 100% de usuarios empiezan aquí, es la entrada a la app.\n",
    "\n",
    "- OffersScreenAppear: El 62% de usuarios que vieron la pantalla principal llegaron a la pantalla de ofertas. Hay una caída importante aquí, posiblemente algunos usuarios no exploran ofertas.\n",
    "\n",
    "- CartScreenAppear: El 81.25% de quienes vieron ofertas llegaron a ver el carrito. Esto indica que una mayoría de quienes exploran ofertas agregan productos o ven el carrito.\n",
    "\n",
    "- PaymentScreenSuccessful: El 94.66% de quienes llegaron al carrito completaron el pago exitosamente, mostrando una alta tasa de conversión final entre carrito y pago."
   ]
  },
  {
   "cell_type": "markdown",
   "metadata": {},
   "source": [
    "### ¿En qué etapa pierdes más usuarios?"
   ]
  },
  {
   "cell_type": "markdown",
   "metadata": {},
   "source": [
    "El embudo muestra que la mayor pérdida de usuarios ocurre en la transición entre la pantalla principal y la pantalla de ofertas.La mayor pérdida de usuarios se da en la transición de MainScreenAppear a OffersScreenAppear, donde solo el 62% de los usuarios que vieron la pantalla principal pasan a la pantalla de ofertas.Aproximadamente un 38% de usuarios abandona o no continúa después de la pantalla principal, lo que representa la caída más significativa en el embudo."
   ]
  },
  {
   "cell_type": "markdown",
   "metadata": {},
   "source": [
    "### ¿Qué porcentaje de usuarios hace todo el viaje desde su primer evento hasta el pago?"
   ]
  },
  {
   "cell_type": "code",
   "execution_count": 27,
   "metadata": {},
   "outputs": [
    {
     "name": "stdout",
     "output_type": "stream",
     "text": [
      "El 47.68% de usuarios completó todo el viaje desde la pantalla principal hasta el pago exitoso.\n"
     ]
    }
   ],
   "source": [
    "total_inicio = usuarios_por_evento.loc[usuarios_por_evento['event_name'] == 'MainScreenAppear', 'user_count'].values[0]\n",
    "total_final = usuarios_por_evento.loc[usuarios_por_evento['event_name'] == 'PaymentScreenSuccessful', 'user_count'].values[0]\n",
    "\n",
    "porcentaje_completo = (total_final / total_inicio) * 100\n",
    "\n",
    "print(f\"El {porcentaje_completo:.2f}% de usuarios completó todo el viaje desde la pantalla principal hasta el pago exitoso.\")\n"
   ]
  },
  {
   "cell_type": "markdown",
   "metadata": {},
   "source": [
    "## Paso 5. Estudiar los resultados del experimento"
   ]
  },
  {
   "cell_type": "markdown",
   "metadata": {},
   "source": [
    "### ¿Cuántos usuarios hay en cada grupo?"
   ]
  },
  {
   "cell_type": "code",
   "execution_count": 28,
   "metadata": {},
   "outputs": [
    {
     "data": {
      "text/plain": [
       "group\n",
       "246    2485\n",
       "247    2517\n",
       "248    2540\n",
       "Name: user_id, dtype: int64"
      ]
     },
     "execution_count": 28,
     "metadata": {},
     "output_type": "execute_result"
    }
   ],
   "source": [
    "# Calcular Cantidad de usuarios por grupo.\n",
    "usuarios_por_grupo = filtred_logs.groupby('group')['user_id'].nunique()\n",
    "usuarios_por_grupo"
   ]
  },
  {
   "cell_type": "markdown",
   "metadata": {},
   "source": [
    "La cantidad de usuarios por grupo es bastante equilibrada, con una diferencia máxima de 55 usuarios entre el grupo con más y el que tiene menos."
   ]
  },
  {
   "cell_type": "markdown",
   "metadata": {},
   "source": [
    "### Tenemos dos grupos de control en el test A/A, donde comprobamos nuestros mecanismos y cálculos. Observa si hay una diferencia estadísticamente significativa entre las muestras 246 y 247."
   ]
  },
  {
   "cell_type": "markdown",
   "metadata": {},
   "source": [
    "En este experimento, los grupos 246 y 247 son grupos de control. El objetivo del test A/A es comprobar que los mecanismos de segmentación y los cálculos de métricas funcionan correctamente, ya que no debería existir una diferencia estadísticamente significativa entre ellos.\n",
    "\n",
    "\n"
   ]
  },
  {
   "cell_type": "code",
   "execution_count": 29,
   "metadata": {},
   "outputs": [],
   "source": [
    "# Crear una función para comprar tasas de conversión.\n",
    "def comparar_tasas_de_conversion(df, grupo_a, grupo_b, evento, alpha):\n",
    "    # Tamaño total por grupo\n",
    "    n1 = len(df[df['group'] == grupo_a])\n",
    "    n2 = len(df[df['group'] == grupo_b])\n",
    "\n",
    "    # Éxitos por grupo (usuarios que realizaron el evento)\n",
    "    x1 = len(df[(df['group'] == grupo_a) & (df['event_name'] == evento)])\n",
    "    x2 = len(df[(df['group'] == grupo_b) & (df['event_name'] == evento)])\n",
    "\n",
    "    # Proporciones\n",
    "    p1 = x1 / n1\n",
    "    p2 = x2 / n2\n",
    "    p = (x1 + x2) / (n1 + n2)\n",
    "\n",
    "    # Estadístico Z\n",
    "    z = (p1 - p2) / mt.sqrt(p * (1 - p) * (1 / n1 + 1 / n2))\n",
    "\n",
    "    # Valor p (prueba de dos colas)\n",
    "    valor_p = st.norm.sf(abs(z)) * 2\n",
    "\n",
    "    # Conclusión\n",
    "    if valor_p < alpha:\n",
    "        print(' Se rechaza la hipótesis nula; hay diferencia significativa entre los grupos.\\n')\n",
    "    else:\n",
    "        print(' Se acepta la hipótesis nula; no hay diferencia significativa entre los grupos.\\n')\n",
    "\n",
    "    # Mostrar resultados\n",
    "    print(f'Tasa de conversión grupo {grupo_a}: {round(p1 * 100, 2)} %')\n",
    "    print(f'Tasa de conversión grupo {grupo_b}: {round(p2 * 100, 2)} %\\n')\n",
    "    print(f'Estadístico Z: {round(z, 4)}')\n",
    "    print(f'Valor p: {valor_p:.4f}')\n",
    "\n",
    "    return p1, p2, z, valor_p"
   ]
  },
  {
   "cell_type": "markdown",
   "metadata": {},
   "source": [
    "Para realizar los test me base en la siguiente tabla: "
   ]
  },
  {
   "cell_type": "markdown",
   "metadata": {},
   "source": [
    "| Comparación | Propósito                                        |\n",
    "| ----------- | ------------------------------------------------ |\n",
    "| 246 vs 247  | Test A/A (verificar el sistema)                  |\n",
    "| 246 vs 248  | Test A/B (¿tuvo efecto la modificación?)         |\n",
    "| 247 vs 248  | Test A/B (confirmar desde el otro grupo control) |  "
   ]
  },
  {
   "cell_type": "markdown",
   "metadata": {},
   "source": [
    "En esta ocasión decidí ejecutar la función con el evento del pago final PaymentScreenSuccessful."
   ]
  },
  {
   "cell_type": "code",
   "execution_count": 30,
   "metadata": {},
   "outputs": [
    {
     "name": "stdout",
     "output_type": "stream",
     "text": [
      " Se rechaza la hipótesis nula; hay diferencia significativa entre los grupos.\n",
      "\n",
      "Tasa de conversión grupo 246: 14.88 %\n",
      "Tasa de conversión grupo 247: 12.9 %\n",
      "\n",
      "Estadístico Z: 11.4031\n",
      "Valor p: 0.0000\n"
     ]
    },
    {
     "data": {
      "text/plain": [
       "(0.1488326117965016,\n",
       " 0.12895502407126122,\n",
       " 11.403141610165758,\n",
       " 4.032979161864428e-30)"
      ]
     },
     "execution_count": 30,
     "metadata": {},
     "output_type": "execute_result"
    }
   ],
   "source": [
    "comparar_tasas_de_conversion(filtred_logs, '246', '247', 'PaymentScreenSuccessful', 0.05)\n"
   ]
  },
  {
   "cell_type": "markdown",
   "metadata": {},
   "source": [
    "- Se rechaza la hipótesis nula con un valor p extremadamente pequeño (casi cero), lo que indica que hay una diferencia estadísticamente significativa entre los grupos 246 y 247.\n",
    "\n",
    "- La tasa de conversión del grupo 246 es mayor que la del grupo 247 por casi 2 puntos porcentuales.\n",
    "\n",
    "- Esto no es esperado en un test A/A, ya que ambos grupos deberían comportarse igual (o muy similar) porque ninguno tiene modificación."
   ]
  },
  {
   "cell_type": "markdown",
   "metadata": {},
   "source": [
    "### Selecciona el evento más popular. En cada uno de los grupos de control, encuentra la cantidad de usuarios que realizaron esta acción. Encuentra su proporción. Comprueba si la diferencia entre los grupos es estadísticamente significativa. Repite el procedimiento para todos los demás eventos (ahorrarás tiempo si creas una función especial para esta prueba). ¿Puedes confirmar que los grupos se dividieron correctamente?"
   ]
  },
  {
   "cell_type": "markdown",
   "metadata": {},
   "source": [
    "*Imprimo los eventos únicos para tenerlos a la mano*"
   ]
  },
  {
   "cell_type": "code",
   "execution_count": 31,
   "metadata": {},
   "outputs": [
    {
     "name": "stdout",
     "output_type": "stream",
     "text": [
      "['MainScreenAppear', 'OffersScreenAppear', 'Tutorial', 'PaymentScreenSuccessful', 'CartScreenAppear']\n",
      "Categories (5, object): ['MainScreenAppear', 'OffersScreenAppear', 'Tutorial', 'PaymentScreenSuccessful', 'CartScreenAppear']\n"
     ]
    }
   ],
   "source": [
    "eventos_unicos = filtred_logs['event_name'].unique()\n",
    "print(eventos_unicos)\n"
   ]
  },
  {
   "cell_type": "markdown",
   "metadata": {},
   "source": [
    "*Realizamos una función para determinar el número de usuarios por evento de los grupos de control*"
   ]
  },
  {
   "cell_type": "code",
   "execution_count": 32,
   "metadata": {},
   "outputs": [],
   "source": [
    "def usuarios_por_evento_en_controles(df, evento):\n",
    "    grupos = ['246', '247']\n",
    "    for grupo in grupos:\n",
    "        total_usuarios = df[df['group'] == grupo]['user_id'].nunique()\n",
    "        usuarios_evento = df[(df['group'] == grupo) & (df['event_name'] == evento)]['user_id'].nunique()\n",
    "        proporcion = usuarios_evento / total_usuarios * 100\n",
    "        print(f\"Grupo {grupo}:\")\n",
    "        print(f\"  - Usuarios que realizaron '{evento}': {usuarios_evento}\")\n",
    "        print(f\"  - Total de usuarios en el grupo: {total_usuarios}\")\n",
    "        print(f\"  - Proporción: {round(proporcion, 2)} %\\n\")\n"
   ]
  },
  {
   "cell_type": "markdown",
   "metadata": {},
   "source": [
    "*Primero encontramos la proporción con la función que antes realice y revisamos si es estadisticamente significativa*"
   ]
  },
  {
   "cell_type": "markdown",
   "metadata": {},
   "source": [
    "**Evento: PaymentScreenSuccessful**"
   ]
  },
  {
   "cell_type": "code",
   "execution_count": 33,
   "metadata": {},
   "outputs": [
    {
     "name": "stdout",
     "output_type": "stream",
     "text": [
      " Se rechaza la hipótesis nula; hay diferencia significativa entre los grupos.\n",
      "\n",
      "Tasa de conversión grupo 246: 14.88 %\n",
      "Tasa de conversión grupo 248: 14.24 %\n",
      "\n",
      "Estadístico Z: 3.7262\n",
      "Valor p: 0.0002\n"
     ]
    },
    {
     "data": {
      "text/plain": [
       "(0.1488326117965016,\n",
       " 0.14236481496676787,\n",
       " 3.7261642370100194,\n",
       " 0.00019441575277866433)"
      ]
     },
     "execution_count": 33,
     "metadata": {},
     "output_type": "execute_result"
    }
   ],
   "source": [
    "comparar_tasas_de_conversion(filtred_logs, '246', '248', 'PaymentScreenSuccessful', 0.05)\n"
   ]
  },
  {
   "cell_type": "markdown",
   "metadata": {},
   "source": [
    "Se rechaza la hipótesis nula con un valor p = 0.0002, indicando una diferencia estadísticamente significativa entre los grupos 246 y 248.\n",
    "\n",
    "Sin embargo, la diferencia absoluta en la tasa de conversión es solo de 0.64 puntos porcentuales, que aunque estadísticamente significativa, puede ser poco relevante en la práctica (según contexto de negocio).\n",
    "\n",
    "Esto indica que el grupo experimental 248 tuvo una tasa de conversión ligeramente menor que el control 246.\n",
    "\n"
   ]
  },
  {
   "cell_type": "code",
   "execution_count": 34,
   "metadata": {},
   "outputs": [
    {
     "name": "stdout",
     "output_type": "stream",
     "text": [
      " Se rechaza la hipótesis nula; hay diferencia significativa entre los grupos.\n",
      "\n",
      "Tasa de conversión grupo 247: 12.9 %\n",
      "Tasa de conversión grupo 248: 14.24 %\n",
      "\n",
      "Estadístico Z: -7.8888\n",
      "Valor p: 0.0000\n"
     ]
    },
    {
     "data": {
      "text/plain": [
       "(0.12895502407126122,\n",
       " 0.14236481496676787,\n",
       " -7.888837424069168,\n",
       " 3.0501455894896457e-15)"
      ]
     },
     "execution_count": 34,
     "metadata": {},
     "output_type": "execute_result"
    }
   ],
   "source": [
    "comparar_tasas_de_conversion(filtred_logs, '247', '248', 'PaymentScreenSuccessful', 0.05)\n"
   ]
  },
  {
   "cell_type": "markdown",
   "metadata": {},
   "source": [
    "Se rechaza la hipótesis nula con un valor p prácticamente cero, indicando una diferencia altamente significativa entre los grupos 247 y 248.\n",
    "\n",
    "El grupo experimental 248 tiene una tasa de conversión 1.34 puntos porcentuales más alta que el grupo de control 247.\n",
    "\n",
    "Esto sugiere que la modificación en el grupo 248 podría estar mejorando la tasa de conversión en comparación con el grupo 247."
   ]
  },
  {
   "cell_type": "code",
   "execution_count": 35,
   "metadata": {},
   "outputs": [
    {
     "name": "stdout",
     "output_type": "stream",
     "text": [
      "Grupo 246:\n",
      "  - Usuarios que realizaron 'PaymentScreenSuccessful': 1200\n",
      "  - Total de usuarios en el grupo: 2485\n",
      "  - Proporción: 48.29 %\n",
      "\n",
      "Grupo 247:\n",
      "  - Usuarios que realizaron 'PaymentScreenSuccessful': 1159\n",
      "  - Total de usuarios en el grupo: 2517\n",
      "  - Proporción: 46.05 %\n",
      "\n"
     ]
    }
   ],
   "source": [
    "usuarios_por_evento_en_controles(filtred_logs, 'PaymentScreenSuccessful')"
   ]
  },
  {
   "cell_type": "markdown",
   "metadata": {},
   "source": [
    "**Evento: OffersScreenAppear**"
   ]
  },
  {
   "cell_type": "code",
   "execution_count": 36,
   "metadata": {},
   "outputs": [
    {
     "name": "stdout",
     "output_type": "stream",
     "text": [
      " Se rechaza la hipótesis nula; hay diferencia significativa entre los grupos.\n",
      "\n",
      "Tasa de conversión grupo 246: 18.62 %\n",
      "Tasa de conversión grupo 248: 19.38 %\n",
      "\n",
      "Estadístico Z: -3.9075\n",
      "Valor p: 0.0001\n"
     ]
    },
    {
     "data": {
      "text/plain": [
       "(0.18620655138760292,\n",
       " 0.1937544690478144,\n",
       " -3.907528214226327,\n",
       " 9.32451557456378e-05)"
      ]
     },
     "execution_count": 36,
     "metadata": {},
     "output_type": "execute_result"
    }
   ],
   "source": [
    "comparar_tasas_de_conversion(filtred_logs, '246', '248', 'OffersScreenAppear', 0.05)"
   ]
  },
  {
   "cell_type": "markdown",
   "metadata": {},
   "source": [
    "Con un valor p = 0.0001, menor al nivel de significancia (α = 0.05), se rechaza la hipótesis nula.\n",
    "Esto significa que existe una diferencia estadísticamente significativa entre los grupos 246 y 248 en la tasa de conversión del evento OffersScreenAppear.\n",
    "\n",
    "Aunque la diferencia es moderada (0.76 p.p.), es consistente y estadísticamente significativa, lo que podría indicar que la modificación aplicada al grupo 248 aumenta ligeramente la proporción de usuarios que visualizan la pantalla de ofertas."
   ]
  },
  {
   "cell_type": "code",
   "execution_count": 37,
   "metadata": {},
   "outputs": [
    {
     "name": "stdout",
     "output_type": "stream",
     "text": [
      " Se acepta la hipótesis nula; no hay diferencia significativa entre los grupos.\n",
      "\n",
      "Tasa de conversión grupo 247: 19.69 %\n",
      "Tasa de conversión grupo 248: 19.38 %\n",
      "\n",
      "Estadístico Z: 1.5977\n",
      "Valor p: 0.1101\n"
     ]
    },
    {
     "data": {
      "text/plain": [
       "(0.1968951934711531, 0.1937544690478144, 1.59765982054828, 0.11011870537634214)"
      ]
     },
     "execution_count": 37,
     "metadata": {},
     "output_type": "execute_result"
    }
   ],
   "source": [
    "comparar_tasas_de_conversion(filtred_logs, '247', '248', 'OffersScreenAppear', 0.05)"
   ]
  },
  {
   "cell_type": "markdown",
   "metadata": {},
   "source": [
    "Con un valor p = 0.1101, mayor al nivel de significancia (α = 0.05), se acepta la hipótesis nula.\n",
    "Esto indica que no hay una diferencia estadísticamente significativa entre los grupos 247 y 248 en la tasa de conversión del evento OffersScreenAppear.\n",
    "\n",
    "Aunque el grupo 247 tiene una tasa levemente mayor (19.69 % vs 19.38 %), esta diferencia puede atribuirse al azar y no se considera estadísticamente relevante."
   ]
  },
  {
   "cell_type": "code",
   "execution_count": 38,
   "metadata": {},
   "outputs": [
    {
     "name": "stdout",
     "output_type": "stream",
     "text": [
      "Grupo 246:\n",
      "  - Usuarios que realizaron 'OffersScreenAppear': 1544\n",
      "  - Total de usuarios en el grupo: 2485\n",
      "  - Proporción: 62.13 %\n",
      "\n",
      "Grupo 247:\n",
      "  - Usuarios que realizaron 'OffersScreenAppear': 1526\n",
      "  - Total de usuarios en el grupo: 2517\n",
      "  - Proporción: 60.63 %\n",
      "\n"
     ]
    }
   ],
   "source": [
    "usuarios_por_evento_en_controles(filtred_logs, 'OffersScreenAppear')"
   ]
  },
  {
   "cell_type": "markdown",
   "metadata": {},
   "source": [
    "**Evento: Tutorial**"
   ]
  },
  {
   "cell_type": "code",
   "execution_count": 39,
   "metadata": {},
   "outputs": [
    {
     "name": "stdout",
     "output_type": "stream",
     "text": [
      " Se acepta la hipótesis nula; no hay diferencia significativa entre los grupos.\n",
      "\n",
      "Tasa de conversión grupo 246: 0.4 %\n",
      "Tasa de conversión grupo 248: 0.42 %\n",
      "\n",
      "Estadístico Z: -0.6223\n",
      "Valor p: 0.5337\n"
     ]
    },
    {
     "data": {
      "text/plain": [
       "(0.003966367208027827,\n",
       " 0.004161342882931461,\n",
       " -0.6223165328548708,\n",
       " 0.5337337520904795)"
      ]
     },
     "execution_count": 39,
     "metadata": {},
     "output_type": "execute_result"
    }
   ],
   "source": [
    "comparar_tasas_de_conversion(filtred_logs, '246', '248', 'Tutorial', 0.05)"
   ]
  },
  {
   "cell_type": "code",
   "execution_count": 40,
   "metadata": {},
   "outputs": [
    {
     "name": "stdout",
     "output_type": "stream",
     "text": [
      " Se acepta la hipótesis nula; no hay diferencia significativa entre los grupos.\n",
      "\n",
      "Tasa de conversión grupo 247: 0.44 %\n",
      "Tasa de conversión grupo 248: 0.42 %\n",
      "\n",
      "Estadístico Z: 0.7447\n",
      "Valor p: 0.4564\n"
     ]
    },
    {
     "data": {
      "text/plain": [
       "(0.0044023376155291815,\n",
       " 0.004161342882931461,\n",
       " 0.744715724948697,\n",
       " 0.4564435908999237)"
      ]
     },
     "execution_count": 40,
     "metadata": {},
     "output_type": "execute_result"
    }
   ],
   "source": [
    "comparar_tasas_de_conversion(filtred_logs, '247', '248', 'Tutorial', 0.05)"
   ]
  },
  {
   "cell_type": "markdown",
   "metadata": {},
   "source": [
    "Para el evento Tutorial, no se observan diferencias estadísticamente significativas en la tasa de conversión entre el grupo experimental (248) y los grupos de control (246 y 247):\n",
    "\n",
    "- Las tasas son muy bajas en todos los grupos (entre 0.40 % y 0.44 %).\n",
    "\n",
    "- Las diferencias absolutas son mínimas (solo 0.02 puntos porcentuales).\n",
    "\n",
    "- Los valores p son altos (> 0.45), lo que indica que cualquier diferencia observada puede deberse al azar.\n",
    "\n",
    "- Esto sugiere que el evento Tutorial no se ve afectado por la modificación aplicada al grupo experimental.\n",
    "\n"
   ]
  },
  {
   "cell_type": "code",
   "execution_count": 41,
   "metadata": {},
   "outputs": [
    {
     "name": "stdout",
     "output_type": "stream",
     "text": [
      "Grupo 246:\n",
      "  - Usuarios que realizaron 'Tutorial': 278\n",
      "  - Total de usuarios en el grupo: 2485\n",
      "  - Proporción: 11.19 %\n",
      "\n",
      "Grupo 247:\n",
      "  - Usuarios que realizaron 'Tutorial': 285\n",
      "  - Total de usuarios en el grupo: 2517\n",
      "  - Proporción: 11.32 %\n",
      "\n"
     ]
    }
   ],
   "source": [
    "usuarios_por_evento_en_controles(filtred_logs, 'Tutorial')"
   ]
  },
  {
   "cell_type": "markdown",
   "metadata": {},
   "source": [
    "**Evento: MainScreenAppear**"
   ]
  },
  {
   "cell_type": "code",
   "execution_count": 42,
   "metadata": {},
   "outputs": [
    {
     "name": "stdout",
     "output_type": "stream",
     "text": [
      " Se acepta la hipótesis nula; no hay diferencia significativa entre los grupos.\n",
      "\n",
      "Tasa de conversión grupo 246: 47.62 %\n",
      "Tasa de conversión grupo 248: 48.06 %\n",
      "\n",
      "Estadístico Z: -1.7906\n",
      "Valor p: 0.0734\n"
     ]
    },
    {
     "data": {
      "text/plain": [
       "(0.47621430895122746,\n",
       " 0.4806175198396418,\n",
       " -1.7905508164689647,\n",
       " 0.07336540566502978)"
      ]
     },
     "execution_count": 42,
     "metadata": {},
     "output_type": "execute_result"
    }
   ],
   "source": [
    "comparar_tasas_de_conversion(filtred_logs, '246', '248', 'MainScreenAppear', 0.05)"
   ]
  },
  {
   "cell_type": "code",
   "execution_count": 43,
   "metadata": {},
   "outputs": [
    {
     "name": "stdout",
     "output_type": "stream",
     "text": [
      " Se rechaza la hipótesis nula; hay diferencia significativa entre los grupos.\n",
      "\n",
      "Tasa de conversión grupo 247: 50.87 %\n",
      "Tasa de conversión grupo 248: 48.06 %\n",
      "\n",
      "Estadístico Z: 11.3164\n",
      "Valor p: 0.0000\n"
     ]
    },
    {
     "data": {
      "text/plain": [
       "(0.5086759519089669,\n",
       " 0.4806175198396418,\n",
       " 11.316351489651568,\n",
       " 1.089109226895013e-29)"
      ]
     },
     "execution_count": 43,
     "metadata": {},
     "output_type": "execute_result"
    }
   ],
   "source": [
    "comparar_tasas_de_conversion(filtred_logs, '247', '248', 'MainScreenAppear', 0.05)"
   ]
  },
  {
   "cell_type": "markdown",
   "metadata": {},
   "source": [
    "En la comparación 246 vs 248, la diferencia en la tasa de conversión hacia MainScreenAppear no es estadísticamente significativa (valor p = 0.0734).\n",
    "\n",
    "En la comparación 247 vs 248, sí se detecta una diferencia significativa, con el grupo 247 mostrando una tasa de conversión 2.81 puntos porcentuales mayor que el grupo 248.El resultado es mixto: el grupo 248 se comporta de forma similar al 246, pero inferior al 247."
   ]
  },
  {
   "cell_type": "code",
   "execution_count": 44,
   "metadata": {},
   "outputs": [
    {
     "name": "stdout",
     "output_type": "stream",
     "text": [
      "Grupo 246:\n",
      "  - Usuarios que realizaron 'MainScreenAppear': 2452\n",
      "  - Total de usuarios en el grupo: 2485\n",
      "  - Proporción: 98.67 %\n",
      "\n",
      "Grupo 247:\n",
      "  - Usuarios que realizaron 'MainScreenAppear': 2479\n",
      "  - Total de usuarios en el grupo: 2517\n",
      "  - Proporción: 98.49 %\n",
      "\n"
     ]
    }
   ],
   "source": [
    "usuarios_por_evento_en_controles(filtred_logs, 'MainScreenAppear')\n"
   ]
  },
  {
   "cell_type": "markdown",
   "metadata": {},
   "source": [
    "**Evento:CartScreenAppear**"
   ]
  },
  {
   "cell_type": "code",
   "execution_count": 45,
   "metadata": {},
   "outputs": [
    {
     "name": "stdout",
     "output_type": "stream",
     "text": [
      " Se rechaza la hipótesis nula; hay diferencia significativa entre los grupos.\n",
      "\n",
      "Tasa de conversión grupo 246: 18.48 %\n",
      "Tasa de conversión grupo 248: 17.91 %\n",
      "\n",
      "Estadístico Z: 2.9904\n",
      "Valor p: 0.0028\n"
     ]
    },
    {
     "data": {
      "text/plain": [
       "(0.1847801606566402,\n",
       " 0.17910185326284447,\n",
       " 2.990419095399652,\n",
       " 0.0027859491946306708)"
      ]
     },
     "execution_count": 45,
     "metadata": {},
     "output_type": "execute_result"
    }
   ],
   "source": [
    "comparar_tasas_de_conversion(filtred_logs, '246', '248', 'CartScreenAppear', 0.05)"
   ]
  },
  {
   "cell_type": "code",
   "execution_count": 46,
   "metadata": {},
   "outputs": [
    {
     "name": "stdout",
     "output_type": "stream",
     "text": [
      " Se rechaza la hipótesis nula; hay diferencia significativa entre los grupos.\n",
      "\n",
      "Tasa de conversión grupo 247: 16.11 %\n",
      "Tasa de conversión grupo 248: 17.91 %\n",
      "\n",
      "Estadístico Z: -9.6673\n",
      "Valor p: 0.0000\n"
     ]
    },
    {
     "data": {
      "text/plain": [
       "(0.16107149293308962,\n",
       " 0.17910185326284447,\n",
       " -9.667346574163282,\n",
       " 4.149982256335706e-22)"
      ]
     },
     "execution_count": 46,
     "metadata": {},
     "output_type": "execute_result"
    }
   ],
   "source": [
    "comparar_tasas_de_conversion(filtred_logs, '247', '248', 'CartScreenAppear', 0.05)"
   ]
  },
  {
   "cell_type": "markdown",
   "metadata": {},
   "source": [
    "Aunque la diferencia entre 246 y 248 es pequeña (-0.57 p.p.), es significativa.\n",
    "En cambio, la diferencia entre 247 y 248 es mucho más notable (+1.80 p.p.) y también significativa.\n",
    "Esto sugiere que el grupo experimental está mejor que uno de los controles pero peor que el otro, lo cual es una tendencia que ya vimos también en otros eventos como MainScreenAppear."
   ]
  },
  {
   "cell_type": "code",
   "execution_count": 47,
   "metadata": {},
   "outputs": [
    {
     "name": "stdout",
     "output_type": "stream",
     "text": [
      "Grupo 246:\n",
      "  - Usuarios que realizaron 'CartScreenAppear': 1267\n",
      "  - Total de usuarios en el grupo: 2485\n",
      "  - Proporción: 50.99 %\n",
      "\n",
      "Grupo 247:\n",
      "  - Usuarios que realizaron 'CartScreenAppear': 1239\n",
      "  - Total de usuarios en el grupo: 2517\n",
      "  - Proporción: 49.23 %\n",
      "\n"
     ]
    }
   ],
   "source": [
    "usuarios_por_evento_en_controles(filtred_logs, 'CartScreenAppear')"
   ]
  },
  {
   "cell_type": "markdown",
   "metadata": {},
   "source": [
    "### Haz lo mismo para el grupo con fuentes alteradas. Compara los resultados con los de cada uno de los grupos de control para cada evento de forma aislada. Compara los resultados con los resultados combinados de los grupos de control. ¿Qué conclusiones puedes sacar del experimento?"
   ]
  },
  {
   "cell_type": "code",
   "execution_count": 48,
   "metadata": {},
   "outputs": [],
   "source": [
    "def comparar_con_comb_controles(df, evento, alpha=0.05):\n",
    "    # Agrupar controles\n",
    "    controles = df[df['group'].isin(['246', '247'])]\n",
    "    grupo_248 = df[df['group'] == '248']\n",
    "\n",
    "    # Tamaño de muestra\n",
    "    n_control = controles['user_id'].nunique()\n",
    "    n_248 = grupo_248['user_id'].nunique()\n",
    "\n",
    "    # Usuarios que realizaron el evento\n",
    "    x_control = controles[controles['event_name'] == evento]['user_id'].nunique()\n",
    "    x_248 = grupo_248[grupo_248['event_name'] == evento]['user_id'].nunique()\n",
    "\n",
    "    # Proporciones\n",
    "    p1 = x_control / n_control\n",
    "    p2 = x_248 / n_248\n",
    "    p = (x_control + x_248) / (n_control + n_248)\n",
    "\n",
    "    # Estadístico Z\n",
    "    z = (p1 - p2) / mt.sqrt(p * (1 - p) * (1 / n_control + 1 / n_248))\n",
    "    p_valor = st.norm.sf(abs(z)) * 2\n",
    "\n",
    "    print(f\"Evento: {evento}\")\n",
    "    print(f\"Control combinado (246+247): {round(p1 * 100, 2)} %\")\n",
    "    print(f\"Grupo 248: {round(p2 * 100, 2)} %\")\n",
    "    print(f\"Diferencia absoluta: {round((p2 - p1) * 100, 2)} puntos porcentuales\")\n",
    "    print(f\"Z = {round(z, 4)} | Valor p = {round(p_valor, 4)}\")\n",
    "    \n",
    "    if p_valor < alpha:\n",
    "        print(\" Se rechaza la hipótesis nula: hay diferencia significativa.\\n\")\n",
    "    else:\n",
    "        print(\" Se acepta la hipótesis nula: no hay diferencia significativa.\\n\")\n"
   ]
  },
  {
   "cell_type": "markdown",
   "metadata": {},
   "source": [
    "Despues de realizar la función , aplicar a cada uno de los eventos :"
   ]
  },
  {
   "cell_type": "code",
   "execution_count": 49,
   "metadata": {},
   "outputs": [
    {
     "name": "stdout",
     "output_type": "stream",
     "text": [
      "Evento: MainScreenAppear\n",
      "Control combinado (246+247): 98.58 %\n",
      "Grupo 248: 98.35 %\n",
      "Diferencia absoluta: -0.23 puntos porcentuales\n",
      "Z = 0.791 | Valor p = 0.429\n",
      " Se acepta la hipótesis nula: no hay diferencia significativa.\n",
      "\n",
      "Evento: OffersScreenAppear\n",
      "Control combinado (246+247): 61.38 %\n",
      "Grupo 248: 60.47 %\n",
      "Diferencia absoluta: -0.9 puntos porcentuales\n",
      "Z = 0.7601 | Valor p = 0.4472\n",
      " Se acepta la hipótesis nula: no hay diferencia significativa.\n",
      "\n",
      "Evento: CartScreenAppear\n",
      "Control combinado (246+247): 50.1 %\n",
      "Grupo 248: 48.66 %\n",
      "Diferencia absoluta: -1.44 puntos porcentuales\n",
      "Z = 1.1809 | Valor p = 0.2376\n",
      " Se acepta la hipótesis nula: no hay diferencia significativa.\n",
      "\n",
      "Evento: PaymentScreenSuccessful\n",
      "Control combinado (246+247): 47.16 %\n",
      "Grupo 248: 46.57 %\n",
      "Diferencia absoluta: -0.59 puntos porcentuales\n",
      "Z = 0.4822 | Valor p = 0.6297\n",
      " Se acepta la hipótesis nula: no hay diferencia significativa.\n",
      "\n",
      "Evento: Tutorial\n",
      "Control combinado (246+247): 11.26 %\n",
      "Grupo 248: 11.1 %\n",
      "Diferencia absoluta: -0.15 puntos porcentuales\n",
      "Z = 0.1993 | Valor p = 0.8421\n",
      " Se acepta la hipótesis nula: no hay diferencia significativa.\n",
      "\n"
     ]
    }
   ],
   "source": [
    "eventos = ['MainScreenAppear', 'OffersScreenAppear', 'CartScreenAppear', 'PaymentScreenSuccessful', 'Tutorial']\n",
    "\n",
    "for evento in eventos:\n",
    "    comparar_con_comb_controles(filtred_logs, evento)\n"
   ]
  },
  {
   "cell_type": "markdown",
   "metadata": {},
   "source": [
    "**Conclusiones**\n",
    "\n",
    "1. El test A/A falló  \n",
    "Se esperaba que los grupos 246 y 247 tuvieran resultados similares.  \n",
    "Sin embargo, hubo diferencias estadísticamente significativas (por ejemplo en PaymentScreenSuccessful, MainScreenAppear, etc.).  \n",
    "Esto indica una posible falla en la aleatorización o un sesgo en cómo se asignaron los usuarios.\n",
    "\n",
    "2. Grupo 248 vs controles individuales  \n",
    "En algunos eventos, el grupo 248 tuvo mejores tasas de conversión (CartScreenAppear, OffersScreenAppear, PaymentScreenSuccessful) frente al grupo 247.  \n",
    "Frente al grupo 246, los resultados fueron mixtos o ligeramente inferiores.\n",
    "\n",
    "3. Grupo 248 vs controles combinados  \n",
    "- Al comparar el grupo experimental 248 con la combinación de los grupos control 246 + 247, no se detectan diferencias estadísticamente significativas en ninguna métrica clave (todos los valores p > 0.05).\n",
    "- Las diferencias absolutas en tasas de conversión son pequeñas (menos de 1.5 puntos porcentuales) y probablemente no relevantes en la práctica.\n",
    "- Esto indica que, a pesar de diferencias puntuales encontradas entre 246 y 247 (test A/A inesperadamente con diferencias), el grupo 248 no se comporta de forma significativamente diferente al conjunto combinado de controles.\n",
    "- Por tanto, la modificación aplicada en el grupo 248 (fuentes alteradas) no parece tener un efecto real y consistente en la experiencia del usuario o en sus acciones medibles.\n"
   ]
  },
  {
   "cell_type": "markdown",
   "metadata": {},
   "source": [
    "### ¿Qué nivel de significancia has establecido para probar las hipótesis estadísticas mencionadas anteriormente? Calcula cuántas pruebas de hipótesis estadísticas has realizado. Con un nivel de significancia estadística de 0.1, uno de cada 10 resultados podría ser falso. ¿Cuál debería ser el nivel de significancia? Si deseas cambiarlo, vuelve a ejecutar los pasos anteriores y comprueba tus conclusiones."
   ]
  },
  {
   "cell_type": "code",
   "execution_count": 50,
   "metadata": {},
   "outputs": [
    {
     "name": "stdout",
     "output_type": "stream",
     "text": [
      "Se rechaza la hipótesis nula; hay diferencia significativa entre los grupos.\n",
      "Comparación: grupos 246 vs 247 para evento 'MainScreenAppear'\n",
      "Tasa de conversión grupo 246: 47.62 %\n",
      "Tasa de conversión grupo 247: 50.87 %\n",
      "Estadístico Z: -12.8875\n",
      "Valor p: 0.000000\n",
      "Nivel de significancia ajustado (Bonferroni): 0.003333\n",
      "\n",
      "Se rechaza la hipótesis nula; hay diferencia significativa entre los grupos.\n",
      "Comparación: grupos 246 vs 247 para evento 'OffersScreenAppear'\n",
      "Tasa de conversión grupo 246: 18.62 %\n",
      "Tasa de conversión grupo 247: 19.69 %\n",
      "Estadístico Z: -5.3918\n",
      "Valor p: 0.000000\n",
      "Nivel de significancia ajustado (Bonferroni): 0.003333\n",
      "\n",
      "Se acepta la hipótesis nula; no hay diferencia significativa entre los grupos.\n",
      "Comparación: grupos 246 vs 247 para evento 'Tutorial'\n",
      "Tasa de conversión grupo 246: 0.4 %\n",
      "Tasa de conversión grupo 247: 0.44 %\n",
      "Estadístico Z: -1.341\n",
      "Valor p: 0.179921\n",
      "Nivel de significancia ajustado (Bonferroni): 0.003333\n",
      "\n",
      "Se rechaza la hipótesis nula; hay diferencia significativa entre los grupos.\n",
      "Comparación: grupos 246 vs 247 para evento 'PaymentScreenSuccessful'\n",
      "Tasa de conversión grupo 246: 14.88 %\n",
      "Tasa de conversión grupo 247: 12.9 %\n",
      "Estadístico Z: 11.4031\n",
      "Valor p: 0.000000\n",
      "Nivel de significancia ajustado (Bonferroni): 0.003333\n",
      "\n",
      "Se rechaza la hipótesis nula; hay diferencia significativa entre los grupos.\n",
      "Comparación: grupos 246 vs 247 para evento 'CartScreenAppear'\n",
      "Tasa de conversión grupo 246: 18.48 %\n",
      "Tasa de conversión grupo 247: 16.11 %\n",
      "Estadístico Z: 12.4381\n",
      "Valor p: 0.000000\n",
      "Nivel de significancia ajustado (Bonferroni): 0.003333\n",
      "\n",
      "Se acepta la hipótesis nula; no hay diferencia significativa entre los grupos.\n",
      "Comparación: grupos 246 vs 248 para evento 'MainScreenAppear'\n",
      "Tasa de conversión grupo 246: 47.62 %\n",
      "Tasa de conversión grupo 248: 48.06 %\n",
      "Estadístico Z: -1.7906\n",
      "Valor p: 0.073365\n",
      "Nivel de significancia ajustado (Bonferroni): 0.003333\n",
      "\n",
      "Se rechaza la hipótesis nula; hay diferencia significativa entre los grupos.\n",
      "Comparación: grupos 246 vs 248 para evento 'OffersScreenAppear'\n",
      "Tasa de conversión grupo 246: 18.62 %\n",
      "Tasa de conversión grupo 248: 19.38 %\n",
      "Estadístico Z: -3.9075\n",
      "Valor p: 0.000093\n",
      "Nivel de significancia ajustado (Bonferroni): 0.003333\n",
      "\n",
      "Se acepta la hipótesis nula; no hay diferencia significativa entre los grupos.\n",
      "Comparación: grupos 246 vs 248 para evento 'Tutorial'\n",
      "Tasa de conversión grupo 246: 0.4 %\n",
      "Tasa de conversión grupo 248: 0.42 %\n",
      "Estadístico Z: -0.6223\n",
      "Valor p: 0.533734\n",
      "Nivel de significancia ajustado (Bonferroni): 0.003333\n",
      "\n",
      "Se rechaza la hipótesis nula; hay diferencia significativa entre los grupos.\n",
      "Comparación: grupos 246 vs 248 para evento 'PaymentScreenSuccessful'\n",
      "Tasa de conversión grupo 246: 14.88 %\n",
      "Tasa de conversión grupo 248: 14.24 %\n",
      "Estadístico Z: 3.7262\n",
      "Valor p: 0.000194\n",
      "Nivel de significancia ajustado (Bonferroni): 0.003333\n",
      "\n",
      "Se rechaza la hipótesis nula; hay diferencia significativa entre los grupos.\n",
      "Comparación: grupos 246 vs 248 para evento 'CartScreenAppear'\n",
      "Tasa de conversión grupo 246: 18.48 %\n",
      "Tasa de conversión grupo 248: 17.91 %\n",
      "Estadístico Z: 2.9904\n",
      "Valor p: 0.002786\n",
      "Nivel de significancia ajustado (Bonferroni): 0.003333\n",
      "\n",
      "Se rechaza la hipótesis nula; hay diferencia significativa entre los grupos.\n",
      "Comparación: grupos 247 vs 248 para evento 'MainScreenAppear'\n",
      "Tasa de conversión grupo 247: 50.87 %\n",
      "Tasa de conversión grupo 248: 48.06 %\n",
      "Estadístico Z: 11.3164\n",
      "Valor p: 0.000000\n",
      "Nivel de significancia ajustado (Bonferroni): 0.003333\n",
      "\n",
      "Se acepta la hipótesis nula; no hay diferencia significativa entre los grupos.\n",
      "Comparación: grupos 247 vs 248 para evento 'OffersScreenAppear'\n",
      "Tasa de conversión grupo 247: 19.69 %\n",
      "Tasa de conversión grupo 248: 19.38 %\n",
      "Estadístico Z: 1.5977\n",
      "Valor p: 0.110119\n",
      "Nivel de significancia ajustado (Bonferroni): 0.003333\n",
      "\n",
      "Se acepta la hipótesis nula; no hay diferencia significativa entre los grupos.\n",
      "Comparación: grupos 247 vs 248 para evento 'Tutorial'\n",
      "Tasa de conversión grupo 247: 0.44 %\n",
      "Tasa de conversión grupo 248: 0.42 %\n",
      "Estadístico Z: 0.7447\n",
      "Valor p: 0.456444\n",
      "Nivel de significancia ajustado (Bonferroni): 0.003333\n",
      "\n",
      "Se rechaza la hipótesis nula; hay diferencia significativa entre los grupos.\n",
      "Comparación: grupos 247 vs 248 para evento 'PaymentScreenSuccessful'\n",
      "Tasa de conversión grupo 247: 12.9 %\n",
      "Tasa de conversión grupo 248: 14.24 %\n",
      "Estadístico Z: -7.8888\n",
      "Valor p: 0.000000\n",
      "Nivel de significancia ajustado (Bonferroni): 0.003333\n",
      "\n",
      "Se rechaza la hipótesis nula; hay diferencia significativa entre los grupos.\n",
      "Comparación: grupos 247 vs 248 para evento 'CartScreenAppear'\n",
      "Tasa de conversión grupo 247: 16.11 %\n",
      "Tasa de conversión grupo 248: 17.91 %\n",
      "Estadístico Z: -9.6673\n",
      "Valor p: 0.000000\n",
      "Nivel de significancia ajustado (Bonferroni): 0.003333\n",
      "\n"
     ]
    }
   ],
   "source": [
    "def comparar_tasas_de_conversion_bonferroni(df, grupo_a, grupo_b, evento, alpha, n_tests):\n",
    "    n1 = len(df[df['group'] == grupo_a])\n",
    "    n2 = len(df[df['group'] == grupo_b])\n",
    "\n",
    "    x1 = len(df[(df['group'] == grupo_a) & (df['event_name'] == evento)])\n",
    "    x2 = len(df[(df['group'] == grupo_b) & (df['event_name'] == evento)])\n",
    "\n",
    "    p1 = x1 / n1\n",
    "    p2 = x2 / n2\n",
    "    p = (x1 + x2) / (n1 + n2)\n",
    "\n",
    "    z = (p1 - p2) / mt.sqrt(p * (1 - p) * (1 / n1 + 1 / n2))\n",
    "\n",
    "    valor_p = st.norm.sf(abs(z)) * 2\n",
    "\n",
    "    alpha_adj = alpha / n_tests\n",
    "\n",
    "    if valor_p < alpha_adj:\n",
    "        conclusion = 'Se rechaza la hipótesis nula; hay diferencia significativa entre los grupos.'\n",
    "    else:\n",
    "        conclusion = 'Se acepta la hipótesis nula; no hay diferencia significativa entre los grupos.'\n",
    "\n",
    "    resultado = {\n",
    "        'Comparación': f'{grupo_a} vs {grupo_b}',\n",
    "        'Evento': evento,\n",
    "        'Tasa grupo ' + grupo_a: round(p1 * 100, 2),\n",
    "        'Tasa grupo ' + grupo_b: round(p2 * 100, 2),\n",
    "        'Z': round(z, 4),\n",
    "        'Valor p': valor_p,\n",
    "        'Alpha ajustado': alpha_adj,\n",
    "        'Conclusión': conclusion\n",
    "    }\n",
    "\n",
    "    print(f\"{conclusion}\\nComparación: grupos {grupo_a} vs {grupo_b} para evento '{evento}'\")\n",
    "    print(f\"Tasa de conversión grupo {grupo_a}: {round(p1 * 100, 2)} %\")\n",
    "    print(f\"Tasa de conversión grupo {grupo_b}: {round(p2 * 100, 2)} %\")\n",
    "    print(f\"Estadístico Z: {round(z, 4)}\")\n",
    "    print(f\"Valor p: {valor_p:.6f}\")\n",
    "    print(f\"Nivel de significancia ajustado (Bonferroni): {alpha_adj:.6f}\\n\")\n",
    "\n",
    "    return resultado\n",
    "\n",
    "# Ahora automatizamos para todos los eventos y combinaciones de grupos\n",
    "eventos = filtred_logs['event_name'].unique()\n",
    "grupos = ['246', '247', '248']\n",
    "\n",
    "# Combinaciones de grupos a comparar\n",
    "from itertools import combinations\n",
    "pares_grupos = list(combinations(grupos, 2))\n",
    "\n",
    "# Número total de pruebas: número de pares * número de eventos\n",
    "n_tests = len(pares_grupos) * len(eventos)\n",
    "alpha = 0.05\n",
    "\n",
    "resultados = []\n",
    "\n",
    "for grupo_a, grupo_b in pares_grupos:\n",
    "    for evento in eventos:\n",
    "        res = comparar_tasas_de_conversion_bonferroni(filtred_logs, grupo_a, grupo_b, evento, alpha, n_tests)\n",
    "        resultados.append(res)"
   ]
  },
  {
   "cell_type": "code",
   "execution_count": 51,
   "metadata": {},
   "outputs": [
    {
     "data": {
      "image/png": "[encoded data removed]",
      "text/plain": [
       "<Figure size 1000x600 with 1 Axes>"
      ]
     },
     "metadata": {},
     "output_type": "display_data"
    }
   ],
   "source": [
    "# Eventos\n",
    "eventos = ['MainScreenAppear', 'OffersScreenAppear', 'Tutorial', 'PaymentScreenSuccessful', 'CartScreenAppear']\n",
    "\n",
    "# Tasas de conversión (%) por grupo (de tus datos)\n",
    "tasas_246 = [47.62, 18.62, 0.40, 14.88, 18.48]\n",
    "tasas_247 = [50.87, 19.69, 0.44, 12.90, 16.11]\n",
    "tasas_248 = [48.06, 19.38, 0.42, 14.24, 17.91]\n",
    "\n",
    "x = np.arange(len(eventos))  # posiciones en x\n",
    "width = 0.25  # ancho de las barras\n",
    "\n",
    "fig, ax = plt.subplots(figsize=(10,6))\n",
    "bars1 = ax.bar(x - width, tasas_246, width, label='Grupo 246')\n",
    "bars2 = ax.bar(x, tasas_247, width, label='Grupo 247')\n",
    "bars3 = ax.bar(x + width, tasas_248, width, label='Grupo 248')\n",
    "\n",
    "ax.set_ylabel('Tasa de conversión (%)')\n",
    "ax.set_title('Tasas de conversión por evento y grupo')\n",
    "ax.set_xticks(x)\n",
    "ax.set_xticklabels(eventos, rotation=30, ha='right')\n",
    "ax.legend()\n",
    "\n",
    "plt.tight_layout()\n",
    "plt.show()"
   ]
  },
  {
   "cell_type": "markdown",
   "metadata": {},
   "source": [
    "La mayor tasa de conversion tanto en el grupo de control como en el de tratamiento se encuentra en Main Screen Apepear y la mejor en los tutoriales, lo que indica que la mayoria no sigue las instrucciones , sino que va directo a ver las ofertas , ve la pantalla de pago y finalmente cancela el valor . "
   ]
  },
  {
   "cell_type": "markdown",
   "metadata": {},
   "source": [
    "## Tabla Resumen de Resultados (Significancia con Bonferroni)\n",
    "\n",
    "| Evento                 | Comparación   | Diferencia Significativa | Valor p    | Estadístico Z | Nivel α Ajustado |\n",
    "|------------------------|--------------|--------------------------|------------|---------------|------------------|\n",
    "| MainScreenAppear       | 246 vs 247   | Sí                       | 0.000000   | -12.8875      | 0.003333         |\n",
    "| OffersScreenAppear     | 246 vs 247   | Sí                       | 0.000000   | -5.3918       | 0.003333         |\n",
    "| Tutorial               | 246 vs 247   | No                       | 0.179921   | -1.341        | 0.003333         |\n",
    "| PaymentScreenSuccessful| 246 vs 247   | Sí                       | 0.000000   | 11.4031       | 0.003333         |\n",
    "| CartScreenAppear       | 246 vs 247   | Sí                       | 0.000000   | 12.4381       | 0.003333         |\n",
    "| MainScreenAppear       | 246 vs 248   | No                       | 0.073365   | -1.7906       | 0.003333         |\n",
    "| OffersScreenAppear     | 246 vs 248   | Sí                       | 0.000093   | -3.9075       | 0.003333         |\n",
    "| Tutorial               | 246 vs 248   | No                       | 0.533734   | -0.6223       | 0.003333         |\n",
    "| PaymentScreenSuccessful| 246 vs 248   | Sí                       | 0.000194   | 3.7262        | 0.003333         |\n",
    "| CartScreenAppear       | 246 vs 248   | Sí                       | 0.002786   | 2.9904        | 0.003333         |\n",
    "| MainScreenAppear       | 247 vs 248   | Sí                       | 0.000000   | 11.3164       | 0.003333         |\n",
    "| OffersScreenAppear     | 247 vs 248   | No                       | 0.110119   | 1.5977        | 0.003333         |\n",
    "| Tutorial               | 247 vs 248   | No                       | 0.456444   | 0.7447        | 0.003333         |\n",
    "| PaymentScreenSuccessful| 247 vs 248   | Sí                       | 0.000000   | -7.8888       | 0.003333         |\n",
    "| CartScreenAppear       | 247 vs 248   | Sí                       | 0.000000   | -9.6673       | 0.003333         |\n",
    "\n",
    "\n",
    "## Conclusiones \n",
    "\n",
    "1. **Test A/A (Grupos 246 vs 247):**  \n",
    "   Se observaron diferencias estadísticamente significativas en casi todos los eventos, salvo en el evento *Tutorial*. Esto indica una posible falla en la aleatorización o un sesgo en la asignación de usuarios, pues se esperaría que no haya diferencias entre grupos de control.\n",
    "\n",
    "2. **Comparación Grupo 246 vs 248 (experimental):**  \n",
    "   El grupo 248 mostró diferencias significativas en la mayoría de eventos (excepto *MainScreenAppear* y *Tutorial*), aunque las diferencias en tasas de conversión son pequeñas. Esto puede indicar que la modificación tiene cierto efecto, pero el impacto es limitado.\n",
    "\n",
    "3. **Comparación Grupo 247 vs 248:**  \n",
    "   También se encontraron diferencias significativas en algunos eventos, pero no en todos (*OffersScreenAppear* y *Tutorial* no mostraron diferencias significativas). Esto sugiere que el grupo 248 se comporta distinto respecto al grupo 247 en ciertos eventos.\n",
    "\n",
    "4. **Eventos sin diferencias significativas consistentes:**  \n",
    "   El evento *Tutorial* no mostró diferencias significativas en ninguna comparación, indicando que esta métrica es estable y no afectada por las modificaciones o sesgos.\n",
    "\n",
    "5. **Implicación práctica:**  \n",
    "   Dado que se detectan diferencias entre los grupos de control (246 vs 247), los resultados del experimento deben interpretarse con cautela, ya que puede existir un sesgo no controlado. Se recomienda revisar el proceso de asignación y considerar otras métricas o métodos para validar el test.\n"
   ]
  },
  {
   "cell_type": "code",
   "execution_count": null,
   "metadata": {},
   "outputs": [],
   "source": []
  }
 ],
 "metadata": {
  "kernelspec": {
   "display_name": "Python 3 (ipykernel)",
   "language": "python",
   "name": "python3"
  },
  "language_info": {
   "codemirror_mode": {
    "name": "ipython",
    "version": 3
   },
   "file_extension": ".py",
   "mimetype": "text/x-python",
   "name": "python",
   "nbconvert_exporter": "python",
   "pygments_lexer": "ipython3",
   "version": "3.9.23"
  }
 },
 "nbformat": 4,
 "nbformat_minor": 4
}
