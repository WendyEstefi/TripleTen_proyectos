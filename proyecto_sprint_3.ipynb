{
 "cells": [
  {
   "cell_type": "markdown",
   "metadata": {
    "id": "E0vqbgi9ay0H"
   },
   "source": [
    "# Déjame escuchar la música"
   ]
  },
  {
   "cell_type": "markdown",
   "metadata": {
    "id": "fhq_eyov_Zcs"
   },
   "source": [
    "# Contenido <a id='back'></a>\n",
    "\n",
    "* [Introducción](#intro)\n",
    "* [Etapa 1. Descripción de los datos](#data_review)\n",
    "    * [Conclusiones](#data_review_conclusions)\n",
    "* [Etapa 2. Preprocesamiento de datos](#data_preprocessing)\n",
    "    * [2.1 Estilo del encabezado](#header_style)\n",
    "    * [2.2 Valores ausentes](#missing_values)\n",
    "    * [2.3 Duplicados](#duplicates)\n",
    "    * [2.4 Conclusiones](#data_preprocessing_conclusions)\n",
    "* [Etapa 3. Prueba de hipótesis](#hypothesis)\n",
    "    * [3.1 Hipótesis 1: actividad de los usuarios y las usuarias en las dos ciudades](#activity)\n",
    "* [Conclusiones](#end)\n"
   ]
  },
  {
   "cell_type": "markdown",
   "metadata": {
    "id": "VUC88oWjTJw2"
   },
   "source": [
    "## Introducción <a id='intro'></a>\n",
    "Como analista de datos, tu trabajo consiste en analizar datos para extraer información valiosa y tomar decisiones basadas en ellos. Esto implica diferentes etapas, como la descripción general de los datos, el preprocesamiento y la prueba de hipótesis.\n",
    "\n",
    "Siempre que investigamos, necesitamos formular hipótesis que después podamos probar. A veces aceptamos estas hipótesis; otras veces, las rechazamos. Para tomar las decisiones correctas, una empresa debe ser capaz de entender si está haciendo las suposiciones correctas.\n",
    "\n",
    "En este proyecto, compararás las preferencias musicales de las ciudades de Springfield y Shelbyville. Estudiarás datos reales de transmisión de música online para probar la hipótesis a continuación y comparar el comportamiento de los usuarios y las usuarias de estas dos ciudades.\n",
    "\n",
    "### Objetivo:\n",
    "Prueba la hipótesis:\n",
    "1. La actividad de los usuarios y las usuarias difiere según el día de la semana y dependiendo de la ciudad.\n",
    "\n",
    "\n",
    "### Etapas\n",
    "Los datos del comportamiento del usuario se almacenan en el archivo `/datasets/music_project_en.csv`. No hay ninguna información sobre la calidad de los datos, así que necesitarás examinarlos antes de probar la hipótesis.\n",
    "\n",
    "Primero, evaluarás la calidad de los datos y verás si los problemas son significativos. Entonces, durante el preprocesamiento de datos, tomarás en cuenta los problemas más críticos.\n",
    "\n",
    "Tu proyecto consistirá en tres etapas:\n",
    " 1. Descripción de los datos.\n",
    " 2. Preprocesamiento de datos.\n",
    " 3. Prueba de hipótesis.\n",
    "\n",
    "\n",
    "\n",
    "\n",
    "\n",
    "\n"
   ]
  },
  {
   "cell_type": "markdown",
   "metadata": {
    "id": "hDt6pg-Rw-1U"
   },
   "source": [
    "[Volver a Contenidos](#back)"
   ]
  },
  {
   "cell_type": "markdown",
   "metadata": {
    "id": "Ml1hmfXC_Zcs"
   },
   "source": [
    "## Etapa 1. Descripción de los datos <a id='data_review'></a>\n",
    "\n",
    "Abre los datos y examínalos."
   ]
  },
  {
   "cell_type": "markdown",
   "metadata": {
    "id": "57eAOGIz_Zcs"
   },
   "source": [
    "Necesitarás `pandas`, así que impórtalo."
   ]
  },
  {
   "cell_type": "code",
   "execution_count": 1,
   "metadata": {
    "id": "AXN7PHPN_Zcs"
   },
   "outputs": [],
   "source": [
    "# Importar pandas\n",
    "import pandas as pd "
   ]
  },
  {
   "cell_type": "markdown",
   "metadata": {
    "id": "SG23P8tt_Zcs"
   },
   "source": [
    "Lee el archivo `music_project_en.csv` de la carpeta `/datasets/` y guárdalo en la variable `df`:"
   ]
  },
  {
   "cell_type": "code",
   "execution_count": 2,
   "metadata": {
    "id": "fFVu7vqh_Zct"
   },
   "outputs": [],
   "source": [
    "# Leer el archivo y almacenarlo en df\n",
    "df = pd.read_csv('/datasets/music_project_en.csv')"
   ]
  },
  {
   "cell_type": "markdown",
   "metadata": {
    "id": "rDoOMd3uTqnZ"
   },
   "source": [
    "Muestra las 10 primeras filas de la tabla:"
   ]
  },
  {
   "cell_type": "code",
   "execution_count": 3,
   "metadata": {
    "id": "oWTVX3gW_Zct"
   },
   "outputs": [
    {
     "data": {
      "text/html": [
       "<div>\n",
       "<style scoped>\n",
       "    .dataframe tbody tr th:only-of-type {\n",
       "        vertical-align: middle;\n",
       "    }\n",
       "\n",
       "    .dataframe tbody tr th {\n",
       "        vertical-align: top;\n",
       "    }\n",
       "\n",
       "    .dataframe thead th {\n",
       "        text-align: right;\n",
       "    }\n",
       "</style>\n",
       "<table border=\"1\" class=\"dataframe\">\n",
       "  <thead>\n",
       "    <tr style=\"text-align: right;\">\n",
       "      <th></th>\n",
       "      <th>userID</th>\n",
       "      <th>Track</th>\n",
       "      <th>artist</th>\n",
       "      <th>genre</th>\n",
       "      <th>City</th>\n",
       "      <th>time</th>\n",
       "      <th>Day</th>\n",
       "    </tr>\n",
       "  </thead>\n",
       "  <tbody>\n",
       "    <tr>\n",
       "      <th>0</th>\n",
       "      <td>FFB692EC</td>\n",
       "      <td>Kamigata To Boots</td>\n",
       "      <td>The Mass Missile</td>\n",
       "      <td>rock</td>\n",
       "      <td>Shelbyville</td>\n",
       "      <td>20:28:33</td>\n",
       "      <td>Wednesday</td>\n",
       "    </tr>\n",
       "    <tr>\n",
       "      <th>1</th>\n",
       "      <td>55204538</td>\n",
       "      <td>Delayed Because of Accident</td>\n",
       "      <td>Andreas Rönnberg</td>\n",
       "      <td>rock</td>\n",
       "      <td>Springfield</td>\n",
       "      <td>14:07:09</td>\n",
       "      <td>Friday</td>\n",
       "    </tr>\n",
       "    <tr>\n",
       "      <th>2</th>\n",
       "      <td>20EC38</td>\n",
       "      <td>Funiculì funiculà</td>\n",
       "      <td>Mario Lanza</td>\n",
       "      <td>pop</td>\n",
       "      <td>Shelbyville</td>\n",
       "      <td>20:58:07</td>\n",
       "      <td>Wednesday</td>\n",
       "    </tr>\n",
       "    <tr>\n",
       "      <th>3</th>\n",
       "      <td>A3DD03C9</td>\n",
       "      <td>Dragons in the Sunset</td>\n",
       "      <td>Fire + Ice</td>\n",
       "      <td>folk</td>\n",
       "      <td>Shelbyville</td>\n",
       "      <td>08:37:09</td>\n",
       "      <td>Monday</td>\n",
       "    </tr>\n",
       "    <tr>\n",
       "      <th>4</th>\n",
       "      <td>E2DC1FAE</td>\n",
       "      <td>Soul People</td>\n",
       "      <td>Space Echo</td>\n",
       "      <td>dance</td>\n",
       "      <td>Springfield</td>\n",
       "      <td>08:34:34</td>\n",
       "      <td>Monday</td>\n",
       "    </tr>\n",
       "    <tr>\n",
       "      <th>5</th>\n",
       "      <td>842029A1</td>\n",
       "      <td>Chains</td>\n",
       "      <td>Obladaet</td>\n",
       "      <td>rusrap</td>\n",
       "      <td>Shelbyville</td>\n",
       "      <td>13:09:41</td>\n",
       "      <td>Friday</td>\n",
       "    </tr>\n",
       "    <tr>\n",
       "      <th>6</th>\n",
       "      <td>4CB90AA5</td>\n",
       "      <td>True</td>\n",
       "      <td>Roman Messer</td>\n",
       "      <td>dance</td>\n",
       "      <td>Springfield</td>\n",
       "      <td>13:00:07</td>\n",
       "      <td>Wednesday</td>\n",
       "    </tr>\n",
       "    <tr>\n",
       "      <th>7</th>\n",
       "      <td>F03E1C1F</td>\n",
       "      <td>Feeling This Way</td>\n",
       "      <td>Polina Griffith</td>\n",
       "      <td>dance</td>\n",
       "      <td>Springfield</td>\n",
       "      <td>20:47:49</td>\n",
       "      <td>Wednesday</td>\n",
       "    </tr>\n",
       "    <tr>\n",
       "      <th>8</th>\n",
       "      <td>8FA1D3BE</td>\n",
       "      <td>L’estate</td>\n",
       "      <td>Julia Dalia</td>\n",
       "      <td>ruspop</td>\n",
       "      <td>Springfield</td>\n",
       "      <td>09:17:40</td>\n",
       "      <td>Friday</td>\n",
       "    </tr>\n",
       "    <tr>\n",
       "      <th>9</th>\n",
       "      <td>E772D5C0</td>\n",
       "      <td>Pessimist</td>\n",
       "      <td>NaN</td>\n",
       "      <td>dance</td>\n",
       "      <td>Shelbyville</td>\n",
       "      <td>21:20:49</td>\n",
       "      <td>Wednesday</td>\n",
       "    </tr>\n",
       "  </tbody>\n",
       "</table>\n",
       "</div>"
      ],
      "text/plain": [
       "     userID                        Track            artist   genre  \\\n",
       "0  FFB692EC            Kamigata To Boots  The Mass Missile    rock   \n",
       "1  55204538  Delayed Because of Accident  Andreas Rönnberg    rock   \n",
       "2    20EC38            Funiculì funiculà       Mario Lanza     pop   \n",
       "3  A3DD03C9        Dragons in the Sunset        Fire + Ice    folk   \n",
       "4  E2DC1FAE                  Soul People        Space Echo   dance   \n",
       "5  842029A1                       Chains          Obladaet  rusrap   \n",
       "6  4CB90AA5                         True      Roman Messer   dance   \n",
       "7  F03E1C1F             Feeling This Way   Polina Griffith   dance   \n",
       "8  8FA1D3BE                     L’estate       Julia Dalia  ruspop   \n",
       "9  E772D5C0                    Pessimist               NaN   dance   \n",
       "\n",
       "        City        time        Day  \n",
       "0  Shelbyville  20:28:33  Wednesday  \n",
       "1  Springfield  14:07:09     Friday  \n",
       "2  Shelbyville  20:58:07  Wednesday  \n",
       "3  Shelbyville  08:37:09     Monday  \n",
       "4  Springfield  08:34:34     Monday  \n",
       "5  Shelbyville  13:09:41     Friday  \n",
       "6  Springfield  13:00:07  Wednesday  \n",
       "7  Springfield  20:47:49  Wednesday  \n",
       "8  Springfield  09:17:40     Friday  \n",
       "9  Shelbyville  21:20:49  Wednesday  "
      ]
     },
     "execution_count": 3,
     "metadata": {},
     "output_type": "execute_result"
    }
   ],
   "source": [
    "# Obtener las 10 primeras filas de la tabla df\n",
    "df.head(10)"
   ]
  },
  {
   "cell_type": "markdown",
   "metadata": {
    "id": "EO73Kwic_Zct"
   },
   "source": [
    "Obtén la información general sobre la tabla con un comando. Conoces el método que muestra la información general que necesitamos."
   ]
  },
  {
   "cell_type": "code",
   "execution_count": 4,
   "metadata": {
    "id": "DSf2kIb-_Zct"
   },
   "outputs": [
    {
     "name": "stdout",
     "output_type": "stream",
     "text": [
      "<class 'pandas.core.frame.DataFrame'>\n",
      "RangeIndex: 65079 entries, 0 to 65078\n",
      "Data columns (total 7 columns):\n",
      " #   Column    Non-Null Count  Dtype \n",
      "---  ------    --------------  ----- \n",
      " 0     userID  65079 non-null  object\n",
      " 1   Track     63736 non-null  object\n",
      " 2   artist    57512 non-null  object\n",
      " 3   genre     63881 non-null  object\n",
      " 4     City    65079 non-null  object\n",
      " 5   time      65079 non-null  object\n",
      " 6   Day       65079 non-null  object\n",
      "dtypes: object(7)\n",
      "memory usage: 3.5+ MB\n",
      "None\n"
     ]
    }
   ],
   "source": [
    "# Obtener la información general sobre nuestros datos\n",
    "print(df.info())"
   ]
  },
  {
   "cell_type": "markdown",
   "metadata": {
    "id": "TaQ2Iwbr_Zct"
   },
   "source": [
    "Estas son nuestras observaciones sobre la tabla. Contiene siete columnas. Almacenan los mismos tipos de datos: `object`.\n",
    "\n",
    "Según la documentación:\n",
    "- `' userID'`: identificador del usuario o la usuaria;\n",
    "- `'Track'`: título de la canción;\n",
    "- `'artist'`: nombre del artista;\n",
    "- `'genre'`: género de la pista;\n",
    "- `'City'`: ciudad del usuario o la usuaria;\n",
    "- `'time'`: la hora exacta en la que se reprodujo la canción;\n",
    "- `'Day'`: día de la semana.\n",
    "\n",
    "Podemos ver tres problemas con el estilo en los encabezados de la tabla:\n",
    "1. Algunos encabezados están en mayúsculas, otros en minúsculas.\n",
    "2. Hay espacios en algunos encabezados.\n",
    "3. No hay separación de las palabras con '_' para los encabezados que tienen dos palabras.\n",
    "\n",
    "\n"
   ]
  },
  {
   "cell_type": "markdown",
   "metadata": {
    "id": "MCB6-dXG_Zct"
   },
   "source": [
    "### Escribe observaciones de tu parte. Estas son algunas de las preguntas que pueden ser útiles: <a id='data_review_conclusions'></a>\n",
    "\n",
    "`1.   ¿Qué tipo de datos tenemos a nuestra disposición en las filas? ¿Y cómo podemos entender lo que almacenan las columnas?`\n",
    "\n",
    "Las filas tienen información de los títulos de canciones,con su artista, el género de la música , la ciudad de cada usuario, el día y la hora que la música se reprodujo. \n",
    "Los que alamacean las columnas son el userID: es el identificador clave de cada usurario, Track: título de cada canción , artist: nombre del artista, genre: género de la música, City: ciudad de cada usuario, time: hora exacta en que se reprodujo la canción, Day: día de la semana en que se reproduce la canción. Según la información obtenida con el método info() todos lo datos de este Data Frame son de tipo object que representan cadenas de texto.\n",
    "\n",
    "\n",
    "`2.   ¿Hay suficientes datos para proporcionar respuestas a nuestra hipótesis o necesitamos más información?`\n",
    "\n",
    "Al pasar por un rápido escaner de revisión sí hay datos suficientes para probar la hipótesis de las ciudades que son objeto de estudio. Es importante realizar un análisis más a profundidad conforme avance con el proyecto para confirmar lo que se menciona en primera instancia. \n",
    "\n",
    "`3.   ¿Notaste algún problema en los datos, como valores ausentes, duplicados o tipos de datos incorrectos?`\n",
    "Existen los primeros problemas que se pudo dectectar:\n",
    "1. Valores ausentes: Las columnas 'Track', 'artist' y 'genre' tienen valores ausentes, lo que podría afectar el análisis correcto de las preferencias musicales por género o artista.\n",
    "2. Duplicados: Podrían existir duplicados explícitos o implícitos.\n",
    "3. Nombres de las columnas no tienen un formato establecido y consistente."
   ]
  },
  {
   "cell_type": "markdown",
   "metadata": {
    "id": "3eL__vcwViOi"
   },
   "source": [
    "[Volver a Contenidos](#back)"
   ]
  },
  {
   "cell_type": "markdown",
   "metadata": {
    "id": "SjYF6Ub9_Zct"
   },
   "source": [
    "## Etapa 2. Preprocesamiento de datos <a id='data_preprocessing'></a>\n",
    "\n",
    "El objetivo aquí es preparar los datos para que sean analizados.\n",
    "El primer paso es resolver cualquier problema con los encabezados. Luego podemos avanzar a los valores ausentes y duplicados. Empecemos.\n",
    "\n",
    "Corrige el formato en los encabezados de la tabla.\n"
   ]
  },
  {
   "cell_type": "markdown",
   "metadata": {
    "id": "dIaKXr29_Zct"
   },
   "source": [
    "### Estilo del encabezado <a id='header_style'></a>\n",
    "Muestra los encabezados de la tabla (los nombres de las columnas):"
   ]
  },
  {
   "cell_type": "code",
   "execution_count": 5,
   "metadata": {
    "id": "oKOTdF_Q_Zct"
   },
   "outputs": [
    {
     "name": "stdout",
     "output_type": "stream",
     "text": [
      "Index(['  userID', 'Track', 'artist', 'genre', '  City  ', 'time', 'Day'], dtype='object')\n"
     ]
    }
   ],
   "source": [
    "# Muestra los nombres de las columnas\n",
    "print(df.columns)"
   ]
  },
  {
   "cell_type": "markdown",
   "metadata": {
    "id": "zj5534cv_Zct"
   },
   "source": [
    "Cambia los encabezados de la tabla de acuerdo con las reglas del buen estilo:\n",
    "* Todos los caracteres deben ser minúsculas.\n",
    "* Elimina los espacios.\n",
    "* Si el nombre tiene varias palabras, utiliza snake_case."
   ]
  },
  {
   "cell_type": "markdown",
   "metadata": {
    "id": "Xu0zkfe5zNJe"
   },
   "source": [
    "Anteriormente, aprendiste acerca de la forma automática de cambiar el nombre de las columnas. Vamos a aplicarla ahora. Utiliza el bucle for para iterar sobre los nombres de las columnas y poner todos los caracteres en minúsculas. Cuando hayas terminado, vuelve a mostrar los encabezados de la tabla:"
   ]
  },
  {
   "cell_type": "code",
   "execution_count": 6,
   "metadata": {
    "id": "6I_RwwMhzM4e"
   },
   "outputs": [
    {
     "name": "stdout",
     "output_type": "stream",
     "text": [
      "Index(['  userid', 'track', 'artist', 'genre', '  city  ', 'time', 'day'], dtype='object')\n"
     ]
    }
   ],
   "source": [
    "# Bucle en los encabezados poniendo todo en minúsculas\n",
    "\n",
    "new_columns = []\n",
    "for column in df.columns:\n",
    "    new_columns.append(column.lower())  \n",
    "\n",
    "df.columns = new_columns\n",
    "\n",
    "print(df.columns)"
   ]
  },
  {
   "cell_type": "markdown",
   "metadata": {
    "id": "pweIRxjSzPYW"
   },
   "source": [
    "Ahora, utilizando el mismo método, elimina los espacios al principio y al final de los nombres de las columnas e imprime los nombres de las columnas nuevamente:"
   ]
  },
  {
   "cell_type": "code",
   "execution_count": 7,
   "metadata": {
    "id": "vVQXbFyJzSYl"
   },
   "outputs": [
    {
     "name": "stdout",
     "output_type": "stream",
     "text": [
      "Index(['userid', 'track', 'artist', 'genre', 'city', 'time', 'day'], dtype='object')\n"
     ]
    }
   ],
   "source": [
    "# Bucle en los encabezados eliminando los espacios\n",
    "new_columns = []\n",
    "for column in df.columns:\n",
    "    new_columns.append(column.strip ())  \n",
    "\n",
    "df.columns = new_columns\n",
    "\n",
    "print(df.columns)"
   ]
  },
  {
   "cell_type": "markdown",
   "metadata": {
    "id": "yCb8MW1JzURd"
   },
   "source": [
    "Necesitamos aplicar la regla de snake_case a la columna `userid`. Debe ser `user_id`. Cambia el nombre de esta columna y muestra los nombres de todas las columnas cuando hayas terminado."
   ]
  },
  {
   "cell_type": "code",
   "execution_count": 8,
   "metadata": {
    "id": "ISlFqs5y_Zct"
   },
   "outputs": [
    {
     "name": "stdout",
     "output_type": "stream",
     "text": [
      "Index(['user_id', 'track', 'artist', 'genre', 'city', 'time', 'day'], dtype='object')\n"
     ]
    }
   ],
   "source": [
    "# Cambiar el nombre de la columna \"userid\"\n",
    "df.rename(columns={'userid': 'user_id'}, inplace=True)\n",
    "print(df.columns)"
   ]
  },
  {
   "cell_type": "markdown",
   "metadata": {
    "id": "1dqbh00J_Zct"
   },
   "source": [
    "Comprueba el resultado. Muestra los encabezados una vez más:"
   ]
  },
  {
   "cell_type": "code",
   "execution_count": 9,
   "metadata": {
    "id": "d4NOAmTW_Zct"
   },
   "outputs": [
    {
     "name": "stdout",
     "output_type": "stream",
     "text": [
      "Index(['user_id', 'track', 'artist', 'genre', 'city', 'time', 'day'], dtype='object')\n"
     ]
    }
   ],
   "source": [
    "# Comprobar el resultado: la lista de encabezados\n",
    "print(df.columns)"
   ]
  },
  {
   "cell_type": "markdown",
   "metadata": {
    "id": "xYJk6ksJVpOl"
   },
   "source": [
    "[Volver a Contenidos](#back)"
   ]
  },
  {
   "cell_type": "markdown",
   "metadata": {
    "id": "5ISfbcfY_Zct"
   },
   "source": [
    "### Valores ausentes <a id='missing_values'></a>\n",
    " Primero, encuentra el número de valores ausentes en la tabla. Debes utilizar dos métodos en una secuencia para obtener el número de valores ausentes."
   ]
  },
  {
   "cell_type": "code",
   "execution_count": 10,
   "metadata": {
    "id": "RskX29qr_Zct"
   },
   "outputs": [
    {
     "name": "stdout",
     "output_type": "stream",
     "text": [
      "user_id       0\n",
      "track      1343\n",
      "artist     7567\n",
      "genre      1198\n",
      "city          0\n",
      "time          0\n",
      "day           0\n",
      "dtype: int64\n"
     ]
    }
   ],
   "source": [
    "# Calcular el número de valores ausentes\n",
    "print(df.isna().sum())"
   ]
  },
  {
   "cell_type": "markdown",
   "metadata": {
    "id": "qubhgnlO_Zct"
   },
   "source": [
    "No todos los valores ausentes afectan a la investigación. Por ejemplo, los valores ausentes en `track` y `artist` no son cruciales. Simplemente puedes reemplazarlos con valores predeterminados como el string `'unknown'` (desconocido).\n",
    "\n",
    "Pero los valores ausentes en `'genre'` pueden afectar la comparación entre las preferencias musicales de Springfield y Shelbyville. En la vida real, sería útil saber las razones por las cuales hay datos ausentes e intentar recuperarlos. Pero no tenemos esa oportunidad en este proyecto. Así que tendrás que:\n",
    "* rellenar estos valores ausentes con un valor predeterminado;\n",
    "* evaluar cuánto podrían afectar los valores ausentes a tus cómputos;"
   ]
  },
  {
   "cell_type": "markdown",
   "metadata": {
    "id": "fSv2laPA_Zct"
   },
   "source": [
    "Reemplazar los valores ausentes en las columnas `'track'`, `'artist'` y `'genre'` con el string `'unknown'`. Como mostramos anteriormente en las lecciones, la mejor forma de hacerlo es crear una lista que almacene los nombres de las columnas donde se necesita el reemplazo. Luego, utiliza esta lista e itera sobre las columnas donde se necesita el reemplazo haciendo el propio reemplazo."
   ]
  },
  {
   "cell_type": "code",
   "execution_count": 11,
   "metadata": {
    "id": "KplB5qWs_Zct"
   },
   "outputs": [
    {
     "name": "stdout",
     "output_type": "stream",
     "text": [
      "<class 'pandas.core.frame.DataFrame'>\n",
      "RangeIndex: 65079 entries, 0 to 65078\n",
      "Data columns (total 7 columns):\n",
      " #   Column   Non-Null Count  Dtype \n",
      "---  ------   --------------  ----- \n",
      " 0   user_id  65079 non-null  object\n",
      " 1   track    65079 non-null  object\n",
      " 2   artist   65079 non-null  object\n",
      " 3   genre    65079 non-null  object\n",
      " 4   city     65079 non-null  object\n",
      " 5   time     65079 non-null  object\n",
      " 6   day      65079 non-null  object\n",
      "dtypes: object(7)\n",
      "memory usage: 3.5+ MB\n",
      "None\n"
     ]
    }
   ],
   "source": [
    "# Bucle en los encabezados reemplazando los valores ausentes con 'unknown'\n",
    "\n",
    "columns_to_replace=['track', 'artist' , 'genre']\n",
    "for col in columns_to_replace:\n",
    "    df[col].fillna('unknown', inplace = True)\n",
    "    \n",
    "print(df.info())"
   ]
  },
  {
   "cell_type": "markdown",
   "metadata": {
    "id": "Ilsm-MZo_Zct"
   },
   "source": [
    "Ahora comprueba el resultado para asegurarte de que después del reemplazo no haya valores ausentes en el conjunto de datos. Para hacer esto, cuenta los valores ausentes nuevamente."
   ]
  },
  {
   "cell_type": "code",
   "execution_count": 12,
   "metadata": {
    "id": "Tq4nYRX4_Zct"
   },
   "outputs": [
    {
     "name": "stdout",
     "output_type": "stream",
     "text": [
      "user_id    0\n",
      "track      0\n",
      "artist     0\n",
      "genre      0\n",
      "city       0\n",
      "time       0\n",
      "day        0\n",
      "dtype: int64\n"
     ]
    }
   ],
   "source": [
    "# Contar valores ausentes\n",
    "print(df.isna().sum())"
   ]
  },
  {
   "cell_type": "markdown",
   "metadata": {
    "id": "74ZIBmq9VrsK"
   },
   "source": [
    "[Volver a Contenidos](#back)"
   ]
  },
  {
   "cell_type": "markdown",
   "metadata": {
    "id": "BWKRtBJ3_Zct"
   },
   "source": [
    "### Duplicados <a id='duplicates'></a>\n",
    "Encuentra el número de duplicados explícitos en la tabla. Una vez más, debes aplicar dos métodos en una secuencia para obtener la cantidad de duplicados explícitos."
   ]
  },
  {
   "cell_type": "code",
   "execution_count": 13,
   "metadata": {
    "id": "36eES_S0_Zct"
   },
   "outputs": [
    {
     "name": "stdout",
     "output_type": "stream",
     "text": [
      "3826\n"
     ]
    }
   ],
   "source": [
    "# Contar duplicados explícitos\n",
    "print(df.duplicated().sum())"
   ]
  },
  {
   "cell_type": "markdown",
   "metadata": {
    "id": "Ot25h6XR_Zct"
   },
   "source": [
    "Ahora, elimina todos los duplicados. Para ello, llama al método que hace exactamente esto."
   ]
  },
  {
   "cell_type": "code",
   "execution_count": 14,
   "metadata": {
    "id": "exFHq6tt_Zct"
   },
   "outputs": [
    {
     "name": "stdout",
     "output_type": "stream",
     "text": [
      "None\n"
     ]
    }
   ],
   "source": [
    "# Eliminar duplicados explícitos\n",
    "print(df.drop_duplicates(inplace=True))"
   ]
  },
  {
   "cell_type": "markdown",
   "metadata": {
    "id": "Im2YwBEG_Zct"
   },
   "source": [
    "Comprobemos ahora si eliminamos con éxito todos los duplicados. Cuenta los duplicados explícitos una vez más para asegurarte de haberlos eliminado todos:"
   ]
  },
  {
   "cell_type": "code",
   "execution_count": 15,
   "metadata": {
    "id": "-8PuNWQ0_Zct"
   },
   "outputs": [
    {
     "name": "stdout",
     "output_type": "stream",
     "text": [
      "0\n"
     ]
    }
   ],
   "source": [
    "# Comprobar de nuevo si hay duplicados\n",
    "\n",
    "print(df.duplicated().sum())"
   ]
  },
  {
   "cell_type": "markdown",
   "metadata": {
    "id": "QlFBsxAr_Zct"
   },
   "source": [
    "Ahora queremos deshacernos de los duplicados implícitos en la columna `genre`. Por ejemplo, el nombre de un género se puede escribir de varias formas. Dichos errores también pueden afectar al resultado."
   ]
  },
  {
   "cell_type": "markdown",
   "metadata": {
    "id": "eSjWwsOh_Zct"
   },
   "source": [
    "Para hacerlo, primero mostremos una lista de nombres de género únicos, ordenados en orden alfabético. Para ello:\n",
    "* Extrae la columna `genre` del DataFrame.\n",
    "* Llama al método que devolverá todos los valores únicos en la columna extraída.\n"
   ]
  },
  {
   "cell_type": "code",
   "execution_count": 16,
   "metadata": {
    "id": "JIUcqzZN_Zct"
   },
   "outputs": [
    {
     "name": "stdout",
     "output_type": "stream",
     "text": [
      "['acid', 'acoustic', 'action', 'adult', 'africa', 'afrikaans', 'alternative', 'ambient', 'americana', 'animated', 'anime', 'arabesk', 'arabic', 'arena', 'argentinetango', 'art', 'audiobook', 'avantgarde', 'axé', 'baile', 'balkan', 'beats', 'bigroom', 'black', 'bluegrass', 'blues', 'bollywood', 'bossa', 'brazilian', 'breakbeat', 'breaks', 'broadway', 'cantautori', 'cantopop', 'canzone', 'caribbean', 'caucasian', 'celtic', 'chamber', 'children', 'chill', 'chinese', 'choral', 'christian', 'christmas', 'classical', 'classicmetal', 'club', 'colombian', 'comedy', 'conjazz', 'contemporary', 'country', 'cuban', 'dance', 'dancehall', 'dancepop', 'dark', 'death', 'deep', 'deutschrock', 'deutschspr', 'dirty', 'disco', 'dnb', 'documentary', 'downbeat', 'downtempo', 'drum', 'dub', 'dubstep', 'eastern', 'easy', 'electronic', 'electropop', 'emo', 'entehno', 'epicmetal', 'estrada', 'ethnic', 'eurofolk', 'european', 'experimental', 'extrememetal', 'fado', 'film', 'fitness', 'flamenco', 'folk', 'folklore', 'folkmetal', 'folkrock', 'folktronica', 'forró', 'frankreich', 'französisch', 'french', 'funk', 'future', 'gangsta', 'garage', 'german', 'ghazal', 'gitarre', 'glitch', 'gospel', 'gothic', 'grime', 'grunge', 'gypsy', 'handsup', \"hard'n'heavy\", 'hardcore', 'hardstyle', 'hardtechno', 'hip', 'hip-hop', 'hiphop', 'historisch', 'holiday', 'hop', 'horror', 'house', 'idm', 'independent', 'indian', 'indie', 'indipop', 'industrial', 'inspirational', 'instrumental', 'international', 'irish', 'jam', 'japanese', 'jazz', 'jewish', 'jpop', 'jungle', 'k-pop', 'karadeniz', 'karaoke', 'kayokyoku', 'korean', 'laiko', 'latin', 'latino', 'leftfield', 'local', 'lounge', 'loungeelectronic', 'lovers', 'malaysian', 'mandopop', 'marschmusik', 'meditative', 'mediterranean', 'melodic', 'metal', 'metalcore', 'mexican', 'middle', 'minimal', 'miscellaneous', 'modern', 'mood', 'mpb', 'muslim', 'native', 'neoklassik', 'neue', 'new', 'newage', 'newwave', 'nu', 'nujazz', 'numetal', 'oceania', 'old', 'opera', 'orchestral', 'other', 'piano', 'pop', 'popelectronic', 'popeurodance', 'post', 'posthardcore', 'postrock', 'power', 'progmetal', 'progressive', 'psychedelic', 'punjabi', 'punk', 'quebecois', 'ragga', 'ram', 'rancheras', 'rap', 'rave', 'reggae', 'reggaeton', 'regional', 'relax', 'religious', 'retro', 'rhythm', 'rnb', 'rnr', 'rock', 'rockabilly', 'romance', 'roots', 'ruspop', 'rusrap', 'rusrock', 'salsa', 'samba', 'schlager', 'self', 'sertanejo', 'shoegazing', 'showtunes', 'singer', 'ska', 'slow', 'smooth', 'soul', 'soulful', 'sound', 'soundtrack', 'southern', 'specialty', 'speech', 'spiritual', 'sport', 'stonerrock', 'surf', 'swing', 'synthpop', 'sängerportrait', 'tango', 'tanzorchester', 'taraftar', 'tech', 'techno', 'thrash', 'top', 'traditional', 'tradjazz', 'trance', 'tribal', 'trip', 'triphop', 'tropical', 'türk', 'türkçe', 'unknown', 'urban', 'uzbek', 'variété', 'vi', 'videogame', 'vocal', 'western', 'world', 'worldbeat', 'ïîï']\n",
      "\n",
      "Número de géneros únicos antes de la corrección: 269\n"
     ]
    }
   ],
   "source": [
    "# Inspeccionar los nombres de géneros únicos\n",
    "\n",
    "generos_unicos = sorted(df['genre'].unique())\n",
    "print(generos_unicos)\n",
    "print()\n",
    "num_generos_unicos = len(generos_unicos)\n",
    "print(f\"Número de géneros únicos antes de la corrección: {num_generos_unicos}\")\n"
   ]
  },
  {
   "cell_type": "markdown",
   "metadata": {
    "id": "qej-Qmuo_Zct"
   },
   "source": [
    "Busca en la lista para encontrar duplicados implícitos del género `hiphop`. Estos pueden ser nombres escritos incorrectamente o nombres alternativos para el mismo género.\n",
    "\n",
    "Verás los siguientes duplicados implícitos:\n",
    "* `hip`\n",
    "* `hop`\n",
    "* `hip-hop`\n",
    "\n",
    "Para deshacerte de ellos, crea una función llamada `replace_wrong_genres()` con dos parámetros:\n",
    "* `wrong_genres=`: esta es una lista que contiene todos los valores que necesitas reemplazar.\n",
    "* `correct_genre=`: este es un string que vas a utilizar como reemplazo.\n",
    "\n",
    "Como resultado, la función debería corregir los nombres en la columna `'genre'` de la tabla `df`, es decir, remplazar cada valor de la lista `wrong_genres` por el valor en `correct_genre`.\n",
    "\n",
    "Dentro del cuerpo de la función, utiliza un bucle `'for'` para iterar sobre la lista de géneros incorrectos, extrae la columna `'genre'` y aplica el método `replace` para hacer correcciones."
   ]
  },
  {
   "cell_type": "code",
   "execution_count": 17,
   "metadata": {
    "id": "ErNDkmns_Zct"
   },
   "outputs": [],
   "source": [
    "# Función para reemplazar duplicados implícitos\n",
    "\n",
    "wrong_genres = ['hip','hop','hip-hop']\n",
    "correct_genre = 'hiphop'\n",
    "\n",
    "\n",
    "\n",
    "def replace_wrong_genres(df, column_name, wrong_genres, correct_genre):\n",
    "    for wrong_genre in wrong_genres:\n",
    "        df[column_name] = df[column_name].replace(wrong_genre, correct_genre)\n",
    "    return df\n",
    "  "
   ]
  },
  {
   "cell_type": "markdown",
   "metadata": {
    "id": "aDoBJxbA_Zct"
   },
   "source": [
    "Ahora, llama a `replace_wrong_genres()` y pásale tales argumentos para que retire los duplicados implícitos (`hip`, `hop` y `hip-hop`) y los reemplace por `hiphop`:"
   ]
  },
  {
   "cell_type": "code",
   "execution_count": 18,
   "metadata": {
    "id": "YN5i2hpmSo09"
   },
   "outputs": [],
   "source": [
    "# Eliminar duplicados implícitos\n",
    "df = replace_wrong_genres(df, 'genre', wrong_genres, correct_genre)\n",
    "\n"
   ]
  },
  {
   "cell_type": "markdown",
   "metadata": {
    "id": "zQKF16_RG15m"
   },
   "source": [
    "Asegúrate de que los nombres duplicados han sido eliminados. Muestra la lista de valores únicos de la columna `'genre'` una vez más:"
   ]
  },
  {
   "cell_type": "code",
   "execution_count": 19,
   "metadata": {
    "id": "wvixALnFG15m"
   },
   "outputs": [
    {
     "name": "stdout",
     "output_type": "stream",
     "text": [
      "['acid', 'acoustic', 'action', 'adult', 'africa', 'afrikaans', 'alternative', 'ambient', 'americana', 'animated', 'anime', 'arabesk', 'arabic', 'arena', 'argentinetango', 'art', 'audiobook', 'avantgarde', 'axé', 'baile', 'balkan', 'beats', 'bigroom', 'black', 'bluegrass', 'blues', 'bollywood', 'bossa', 'brazilian', 'breakbeat', 'breaks', 'broadway', 'cantautori', 'cantopop', 'canzone', 'caribbean', 'caucasian', 'celtic', 'chamber', 'children', 'chill', 'chinese', 'choral', 'christian', 'christmas', 'classical', 'classicmetal', 'club', 'colombian', 'comedy', 'conjazz', 'contemporary', 'country', 'cuban', 'dance', 'dancehall', 'dancepop', 'dark', 'death', 'deep', 'deutschrock', 'deutschspr', 'dirty', 'disco', 'dnb', 'documentary', 'downbeat', 'downtempo', 'drum', 'dub', 'dubstep', 'eastern', 'easy', 'electronic', 'electropop', 'emo', 'entehno', 'epicmetal', 'estrada', 'ethnic', 'eurofolk', 'european', 'experimental', 'extrememetal', 'fado', 'film', 'fitness', 'flamenco', 'folk', 'folklore', 'folkmetal', 'folkrock', 'folktronica', 'forró', 'frankreich', 'französisch', 'french', 'funk', 'future', 'gangsta', 'garage', 'german', 'ghazal', 'gitarre', 'glitch', 'gospel', 'gothic', 'grime', 'grunge', 'gypsy', 'handsup', \"hard'n'heavy\", 'hardcore', 'hardstyle', 'hardtechno', 'hiphop', 'historisch', 'holiday', 'horror', 'house', 'idm', 'independent', 'indian', 'indie', 'indipop', 'industrial', 'inspirational', 'instrumental', 'international', 'irish', 'jam', 'japanese', 'jazz', 'jewish', 'jpop', 'jungle', 'k-pop', 'karadeniz', 'karaoke', 'kayokyoku', 'korean', 'laiko', 'latin', 'latino', 'leftfield', 'local', 'lounge', 'loungeelectronic', 'lovers', 'malaysian', 'mandopop', 'marschmusik', 'meditative', 'mediterranean', 'melodic', 'metal', 'metalcore', 'mexican', 'middle', 'minimal', 'miscellaneous', 'modern', 'mood', 'mpb', 'muslim', 'native', 'neoklassik', 'neue', 'new', 'newage', 'newwave', 'nu', 'nujazz', 'numetal', 'oceania', 'old', 'opera', 'orchestral', 'other', 'piano', 'pop', 'popelectronic', 'popeurodance', 'post', 'posthardcore', 'postrock', 'power', 'progmetal', 'progressive', 'psychedelic', 'punjabi', 'punk', 'quebecois', 'ragga', 'ram', 'rancheras', 'rap', 'rave', 'reggae', 'reggaeton', 'regional', 'relax', 'religious', 'retro', 'rhythm', 'rnb', 'rnr', 'rock', 'rockabilly', 'romance', 'roots', 'ruspop', 'rusrap', 'rusrock', 'salsa', 'samba', 'schlager', 'self', 'sertanejo', 'shoegazing', 'showtunes', 'singer', 'ska', 'slow', 'smooth', 'soul', 'soulful', 'sound', 'soundtrack', 'southern', 'specialty', 'speech', 'spiritual', 'sport', 'stonerrock', 'surf', 'swing', 'synthpop', 'sängerportrait', 'tango', 'tanzorchester', 'taraftar', 'tech', 'techno', 'thrash', 'top', 'traditional', 'tradjazz', 'trance', 'tribal', 'trip', 'triphop', 'tropical', 'türk', 'türkçe', 'unknown', 'urban', 'uzbek', 'variété', 'vi', 'videogame', 'vocal', 'western', 'world', 'worldbeat', 'ïîï']\n",
      "\n",
      "Número de géneros únicos después de la corrección: 266\n"
     ]
    }
   ],
   "source": [
    "# Comprobación de duplicados implícitos\n",
    "generos_unicos = sorted(df['genre'].unique())\n",
    "print(generos_unicos)\n",
    "print()\n",
    "num_generos_unicos = len(generos_unicos)\n",
    "print(f\"Número de géneros únicos después de la corrección: {num_generos_unicos}\")\n",
    "\n"
   ]
  },
  {
   "cell_type": "markdown",
   "metadata": {
    "id": "ALgNbvF3VtPA"
   },
   "source": [
    "[Volver a Contenidos](#back)"
   ]
  },
  {
   "cell_type": "markdown",
   "metadata": {
    "id": "jz6a9-7HQUDd"
   },
   "source": [
    "### Tus observaciones <a id='data_preprocessing_conclusions'></a>\n",
    "\n",
    "`Describe brevemente lo que has notado al analizar duplicados, cómo abordaste sus eliminaciones y qué resultados obtuviste.`\n",
    "\n",
    "Al analizar los resultados del Data Frame hubo 3826 datos duplicados explícitos, se uso el método drop_duplicates para eliminarlos,para comprobar si no quedó ninguno usamos el método duplicated junto con sum y el resultado debe ser 0 ya que cuenta el número de valores duplicados. Para el caso de valores duplicados implícitos comprobamos los valores únicos con el método unique en la columna de género de las canciones, el género hiphop presentaba tres formas de escritura hip, hop, hip-hop se corrigió usando una función personalizada para que el data frame solo tenga una forma correcta de llamar al género hiphop, de esa formma los datos pueden ser analizados de forma clara, reduciendo los problemas existentes. "
   ]
  },
  {
   "cell_type": "markdown",
   "metadata": {
    "id": "eK1es74rVujj"
   },
   "source": [
    "[Volver a Contenidos](#back)"
   ]
  },
  {
   "cell_type": "markdown",
   "metadata": {
    "id": "WttZHXH0SqKk"
   },
   "source": [
    "## Etapa 3. Prueba de hipótesis <a id='hypothesis'></a>"
   ]
  },
  {
   "cell_type": "markdown",
   "metadata": {
    "id": "Im936VVi_Zcu"
   },
   "source": [
    "### 3.1 Hipótesis 1: actividad de los usuarios y las usuarias en las dos ciudades <a id='activity'></a>"
   ]
  },
  {
   "cell_type": "markdown",
   "metadata": {
    "id": "nwt_MuaL_Zcu"
   },
   "source": [
    "La hipótesis afirma que existen diferencias en la forma en que los usuarios y las usuarias de Springfield y Shelbyville consumen música. Para comprobar esto, usa los datos de tres días de la semana: lunes, miércoles y viernes.\n",
    "\n",
    "* Agrupa a los usuarios y las usuarias por ciudad.\n",
    "* Compara el número de canciones que cada grupo reprodujo el lunes, el miércoles y el viernes.\n"
   ]
  },
  {
   "cell_type": "markdown",
   "metadata": {
    "id": "8Dw_YMmT_Zcu"
   },
   "source": [
    "Realiza cada cálculo por separado.\n",
    "\n",
    "El primer paso es evaluar la actividad del usuario en cada ciudad. Recuerda las etapas dividir-aplicar-combinar de las que hablamos anteriormente en la lección. Tu objetivo ahora es agrupar los datos por ciudad, aplicar el método apropiado para contar durante la etapa de aplicación y luego encontrar la cantidad de canciones reproducidas en cada grupo especificando la columna para obtener el recuento.\n",
    "\n",
    "A continuación se muestra un ejemplo de cómo debería verse el resultado final:\n",
    "`df.groupby(by='....')['column'].method()`Realiza cada cálculo por separado.\n",
    "\n",
    "Para evaluar la actividad de los usuarios y las usuarias en cada ciudad, agrupa los datos por ciudad y encuentra la cantidad de canciones reproducidas en cada grupo.\n",
    "\n"
   ]
  },
  {
   "cell_type": "code",
   "execution_count": 20,
   "metadata": {
    "id": "0_Qs96oh_Zcu"
   },
   "outputs": [
    {
     "name": "stdout",
     "output_type": "stream",
     "text": [
      "city\n",
      "Shelbyville    18512\n",
      "Springfield    42741\n",
      "Name: track, dtype: int64\n"
     ]
    }
   ],
   "source": [
    "# Contar las canciones reproducidas en cada ciudad\n",
    "filtered_df = df[df['city'].isin(['Springfield', 'Shelbyville'])]\n",
    "canciones_por_ciudad = filtered_df.groupby(by='city')['track'].count()\n",
    "print(canciones_por_ciudad)"
   ]
  },
  {
   "cell_type": "markdown",
   "metadata": {
    "id": "t_Qx-3NewAnK"
   },
   "source": [
    "`La ciudad de Springfield tiene más canciones reproducidas que Shelbyville con una diferencia de 24228 canciones reproducidas.`"
   ]
  },
  {
   "cell_type": "markdown",
   "metadata": {
    "id": "dzli3w8o_Zcu"
   },
   "source": [
    "Ahora agrupemos los datos por día de la semana y encontremos el número de canciones reproducidas el lunes, miércoles y viernes. Utiliza el mismo método que antes, pero ahora necesitamos una agrupación diferente.\n"
   ]
  },
  {
   "cell_type": "code",
   "execution_count": 21,
   "metadata": {
    "id": "uZMKjiJz_Zcu"
   },
   "outputs": [
    {
     "name": "stdout",
     "output_type": "stream",
     "text": [
      "['Wednesday' 'Friday' 'Monday']\n",
      "Canciones por ciudad el lunes:\n",
      "city\n",
      "Shelbyville     5614\n",
      "Springfield    15740\n",
      "Name: track, dtype: int64\n",
      "\n",
      "Canciones por ciudad el miércoles:\n",
      "city\n",
      "Shelbyville     7003\n",
      "Springfield    11056\n",
      "Name: track, dtype: int64\n",
      "\n",
      "Canciones por ciudad el viernes:\n",
      "city\n",
      "Shelbyville     5895\n",
      "Springfield    15945\n",
      "Name: track, dtype: int64\n"
     ]
    }
   ],
   "source": [
    "# Calcular las canciones reproducidas en cada uno de los tres días\n",
    "print(df['day'].unique())\n",
    "\n",
    "\n",
    "def contar_canciones_por_ciudad_y_dia(df, day):\n",
    "    # Filtrar el DataFrame por el día especificado\n",
    "    return df[df['day'] == day].groupby('city')['track'].count()\n",
    "\n",
    "# Calcular las canciones reproducidas en los días lunes, miércoles y viernes\n",
    "canciones_por_ciudad_lunes = contar_canciones_por_ciudad_y_dia(df, 'Monday')\n",
    "canciones_por_ciudad_miercoles = contar_canciones_por_ciudad_y_dia(df, 'Wednesday')\n",
    "canciones_por_ciudad_viernes = contar_canciones_por_ciudad_y_dia(df, 'Friday')\n",
    "\n",
    "# Mostrar los resultados\n",
    "print(\"Canciones por ciudad el lunes:\")\n",
    "print(canciones_por_ciudad_lunes)\n",
    "print(\"\\nCanciones por ciudad el miércoles:\")\n",
    "print(canciones_por_ciudad_miercoles)\n",
    "print(\"\\nCanciones por ciudad el viernes:\")\n",
    "print(canciones_por_ciudad_viernes)"
   ]
  },
  {
   "cell_type": "markdown",
   "metadata": {
    "id": "cC2tNrlL_Zcu"
   },
   "source": [
    "`Al revisar los resultados, la ciudad de Springfield es la que ha reproducido el mayor número de canciones los días lunes, miércoles y viernes, en comparación con la ciudad de Shelbyville . El día que se reproducen más canciones en Springfield es el viernes con 15945 canciones reproducidas, pero el día que más se reproducen canciones en Shelbyville es el miércoles con 7003 canciones reproducidas y su día con menos reproducciones es el lunes, en cambio para Springfield su día con menos reproducciones es el miércoles.`"
   ]
  },
  {
   "cell_type": "markdown",
   "metadata": {
    "id": "POzs8bGa_Zcu"
   },
   "source": [
    "Ya sabes cómo contar entradas agrupándolas por ciudad o día. Ahora necesitas escribir una función que pueda contar entradas según ambos criterios simultáneamente.\n",
    "\n",
    "Crea la función `number_tracks()` para calcular el número de canciones reproducidas en un determinado día **y** ciudad. La función debe aceptar dos parámetros:\n",
    "\n",
    "- `day`: un día de la semana para filtrar. Por ejemplo, `'Monday'` (lunes).\n",
    "- `city`: una ciudad para filtrar. Por ejemplo, `'Springfield'`.\n",
    "\n",
    "Dentro de la función, aplicarás un filtrado consecutivo con indexación lógica.\n",
    "\n",
    "Primero filtra los datos por día y luego filtra la tabla resultante por ciudad.\n",
    "\n",
    "Después de filtrar los datos por dos criterios, cuenta el número de valores de la columna 'user_id' en la tabla resultante. Este recuento representa el número de entradas que estás buscando. Guarda el resultado en una nueva variable y devuélvelo desde la función."
   ]
  },
  {
   "cell_type": "code",
   "execution_count": 22,
   "metadata": {
    "id": "Nz3GdQB1_Zcu"
   },
   "outputs": [],
   "source": [
    "# Declara la función number_tracks() con dos parámetros: day= y city=.    \n",
    "def number_tracks(df, day, city):\n",
    "\n",
    "    # Almacena las filas del DataFrame donde el valor en la columna 'day' es igual al parámetro day=\n",
    "    filtered_by_day = df[df['day'] == day]\n",
    "    \n",
    "    # Filtra las filas donde el valor en la columna 'city' es igual al parámetro city=\n",
    "    \n",
    "    filtered_by_city = filtered_by_day[filtered_by_day['city'] == city]\n",
    "    \n",
    "    # Extrae la columna 'user_id' de la tabla filtrada y aplica el método count()\n",
    "    count_tracks = filtered_by_city['user_id'].count()\n",
    "    \n",
    "    # Devolve el número de valores de la columna 'user_id'\n",
    "    return count_tracks\n"
   ]
  },
  {
   "cell_type": "markdown",
   "metadata": {
    "id": "ytf7xFrFJQ2r"
   },
   "source": [
    "Llama a `number_tracks()` seis veces, cambiando los valores de los parámetros para que recuperes los datos de ambas ciudades para cada uno de los tres días."
   ]
  },
  {
   "cell_type": "code",
   "execution_count": 23,
   "metadata": {
    "id": "rJcRATNQ_Zcu"
   },
   "outputs": [
    {
     "name": "stdout",
     "output_type": "stream",
     "text": [
      "Número de canciones reproducidas en Springfield el lunes: 15740\n"
     ]
    }
   ],
   "source": [
    "# El número de canciones reproducidas en Springfield el lunes\n",
    "canciones_lunes_springfield = number_tracks(df, 'Monday', 'Springfield')\n",
    "print(f\"Número de canciones reproducidas en Springfield el lunes: {canciones_lunes_springfield}\")\n"
   ]
  },
  {
   "cell_type": "code",
   "execution_count": 24,
   "metadata": {
    "id": "hq_ncZ5T_Zcu"
   },
   "outputs": [
    {
     "name": "stdout",
     "output_type": "stream",
     "text": [
      "Número de canciones reproducidas en Shelbyville el lunes: 5614\n"
     ]
    }
   ],
   "source": [
    "# El número de canciones reproducidas en Shelbyville el lunes\n",
    "canciones_lunes_shelbyville = number_tracks(df, 'Monday', 'Shelbyville')\n",
    "print(f\"Número de canciones reproducidas en Shelbyville el lunes: {canciones_lunes_shelbyville}\")\n"
   ]
  },
  {
   "cell_type": "code",
   "execution_count": 25,
   "metadata": {
    "id": "_NTy2VPU_Zcu"
   },
   "outputs": [
    {
     "name": "stdout",
     "output_type": "stream",
     "text": [
      "Número de canciones reproducidas en Springfield el miércoles: 11056\n"
     ]
    }
   ],
   "source": [
    "# El número de canciones reproducidas en Springfield el miércoles\n",
    "canciones_miercoles_springfield = number_tracks(df, 'Wednesday', 'Springfield')\n",
    "print(f\"Número de canciones reproducidas en Springfield el miércoles: {canciones_miercoles_springfield}\")\n"
   ]
  },
  {
   "cell_type": "code",
   "execution_count": 26,
   "metadata": {
    "id": "j2y3TAwo_Zcu"
   },
   "outputs": [
    {
     "name": "stdout",
     "output_type": "stream",
     "text": [
      "Número de canciones reproducidas en Shelbyville el miércoles: 7003\n"
     ]
    }
   ],
   "source": [
    "# El número de canciones reproducidas en Shelbyville el miércoles\n",
    "canciones_miercoles_shelbyville = number_tracks(df, 'Wednesday', 'Shelbyville')\n",
    "print(f\"Número de canciones reproducidas en Shelbyville el miércoles: {canciones_miercoles_shelbyville}\")"
   ]
  },
  {
   "cell_type": "code",
   "execution_count": 27,
   "metadata": {
    "id": "vYDw5u_K_Zcu"
   },
   "outputs": [
    {
     "name": "stdout",
     "output_type": "stream",
     "text": [
      "Número de canciones reproducidas en Springfield el viernes: 15945\n"
     ]
    }
   ],
   "source": [
    "# El número de canciones reproducidas en Springfield el viernes\n",
    "canciones_viernes_springfield = number_tracks(df, 'Friday', 'Springfield')\n",
    "print(f\"Número de canciones reproducidas en Springfield el viernes: {canciones_viernes_springfield}\")\n"
   ]
  },
  {
   "cell_type": "code",
   "execution_count": 28,
   "metadata": {
    "id": "8_yzFtW3_Zcu"
   },
   "outputs": [
    {
     "name": "stdout",
     "output_type": "stream",
     "text": [
      "Número de canciones reproducidas en Shelbyville el viernes: 5895\n"
     ]
    }
   ],
   "source": [
    "# El número de canciones reproducidas en Shelbyville el viernes\n",
    "canciones_viernes_shelbyville = number_tracks(df, 'Friday', 'Shelbyville')\n",
    "print(f\"Número de canciones reproducidas en Shelbyville el viernes: {canciones_viernes_shelbyville}\")"
   ]
  },
  {
   "cell_type": "markdown",
   "metadata": {
    "id": "-EgPIHYu_Zcu"
   },
   "source": [
    "**Conclusiones**\n",
    "\n",
    "`Comenta si la hipótesis es correcta o se debe rechazar . Explica tu razonamiento.`\n",
    "La hipótesis afirma que existen diferencias en la forma en que los usuarios y las usuarias de Springfield y Shelbyville consumen música. Según los datos obtenidos la hipótesis es correcta porque sí existen diferencias significativas entre el número de canciones reproducidas entre las ciudades de Shelbyville y Springfield. Al analizar a Springfield esta es la ciudad que tiene más reproducciones musicales por usuario y por número de canciones comparación con Shelbyville.\n",
    "El día que más reproduce canciones Springfield es el viernes (15945 canciones), en comparación con Shelbyville que es el día lunes(7003 canciones). "
   ]
  },
  {
   "cell_type": "markdown",
   "metadata": {
    "id": "p7nFQajCVw5B"
   },
   "source": [
    "[Volver a Contenidos](#back)"
   ]
  },
  {
   "cell_type": "markdown",
   "metadata": {
    "id": "ykKQ0N65_Zcv"
   },
   "source": [
    "# Conclusiones <a id='end'></a>"
   ]
  },
  {
   "cell_type": "markdown",
   "metadata": {
    "id": "tjUwbHb3_Zcv"
   },
   "source": [
    "`Resume aquí tus conclusiones sobre la hipótesis.`\n",
    "1. Según los datos obtenidos la hipótesis es correcta porque sí existen diferencias significativas entre el número de canciones reproducidas entre las ciudades de Shelbyville y Springfield.\n",
    "2. El día lunes Springfield reproduce 10126 canciones más que Shelbyville, el día miércoles 4053 canciones más y el día viernes 1050 canciones más .\n",
    "3. El día que más reproduce canciones Springfield es el viernes (15945 canciones), en comparación con Shelbyville que es el día miércoles(7003 canciones). \n",
    "4. El día que menos reproduce canciones Springfield es el miércoles (11056 canciones), en comparación con Shelbyville que es el día lunes(5614 canciones). "
   ]
  },
  {
   "cell_type": "markdown",
   "metadata": {
    "id": "azLHu64yOIp7"
   },
   "source": [
    "### Nota\n",
    "En proyectos de investigación reales, la prueba de hipótesis estadística es más precisa y cuantitativa. También ten en cuenta que no siempre se pueden sacar conclusiones sobre una ciudad entera a partir de datos de una sola fuente.\n",
    "\n",
    "Aprenderás más sobre la prueba de hipótesis en el sprint de análisis estadístico de datos."
   ]
  },
  {
   "cell_type": "markdown",
   "metadata": {
    "id": "Ju4AHDSgV1FE"
   },
   "source": [
    "[Volver a Contenidos](#back)"
   ]
  }
 ],
 "metadata": {
  "ExecuteTimeLog": [
   {
    "duration": 324,
    "start_time": "2024-10-22T01:55:26.809Z"
   },
   {
    "duration": 112,
    "start_time": "2024-10-22T01:55:29.096Z"
   },
   {
    "duration": 13,
    "start_time": "2024-10-22T01:55:46.099Z"
   },
   {
    "duration": 5,
    "start_time": "2024-10-22T01:55:56.816Z"
   },
   {
    "duration": 8,
    "start_time": "2024-10-22T01:59:07.358Z"
   },
   {
    "duration": 172,
    "start_time": "2024-10-22T01:59:46.731Z"
   },
   {
    "duration": 13,
    "start_time": "2024-10-22T01:59:48.261Z"
   },
   {
    "duration": 87,
    "start_time": "2024-10-22T01:59:53.362Z"
   },
   {
    "duration": 21,
    "start_time": "2024-10-22T02:02:16.458Z"
   },
   {
    "duration": 24,
    "start_time": "2024-10-22T02:08:29.551Z"
   },
   {
    "duration": 3,
    "start_time": "2024-10-22T02:39:26.799Z"
   },
   {
    "duration": 5,
    "start_time": "2024-10-22T02:45:37.148Z"
   },
   {
    "duration": 6,
    "start_time": "2024-10-22T02:48:47.506Z"
   },
   {
    "duration": 5,
    "start_time": "2024-10-22T02:48:49.428Z"
   },
   {
    "duration": 5,
    "start_time": "2024-10-22T02:48:53.813Z"
   },
   {
    "duration": 4,
    "start_time": "2024-10-22T02:48:55.417Z"
   },
   {
    "duration": 5,
    "start_time": "2024-10-22T02:49:27.082Z"
   },
   {
    "duration": 6,
    "start_time": "2024-10-22T02:49:32.523Z"
   },
   {
    "duration": 5,
    "start_time": "2024-10-22T02:49:44.166Z"
   },
   {
    "duration": 6,
    "start_time": "2024-10-22T02:49:45.230Z"
   },
   {
    "duration": 5,
    "start_time": "2024-10-22T02:56:27.797Z"
   },
   {
    "duration": 4,
    "start_time": "2024-10-22T02:57:38.347Z"
   },
   {
    "duration": 3,
    "start_time": "2024-10-22T02:57:40.155Z"
   },
   {
    "duration": 3,
    "start_time": "2024-10-22T02:57:41.318Z"
   },
   {
    "duration": 3,
    "start_time": "2024-10-22T02:57:42.158Z"
   },
   {
    "duration": 4,
    "start_time": "2024-10-22T02:57:42.914Z"
   },
   {
    "duration": 6,
    "start_time": "2024-10-22T02:58:33.030Z"
   },
   {
    "duration": 2,
    "start_time": "2024-10-22T02:59:03.911Z"
   },
   {
    "duration": 4,
    "start_time": "2024-10-22T03:00:02.310Z"
   },
   {
    "duration": 4,
    "start_time": "2024-10-22T03:00:17.724Z"
   },
   {
    "duration": 4,
    "start_time": "2024-10-22T03:01:11.245Z"
   },
   {
    "duration": 4,
    "start_time": "2024-10-22T03:01:21.784Z"
   },
   {
    "duration": 4,
    "start_time": "2024-10-22T03:01:26.268Z"
   },
   {
    "duration": 4,
    "start_time": "2024-10-22T03:01:27.115Z"
   },
   {
    "duration": 3,
    "start_time": "2024-10-22T03:01:43.409Z"
   },
   {
    "duration": 5,
    "start_time": "2024-10-22T03:02:41.595Z"
   },
   {
    "duration": 3,
    "start_time": "2024-10-22T03:07:30.767Z"
   },
   {
    "duration": 3,
    "start_time": "2024-10-22T03:07:32.907Z"
   },
   {
    "duration": 3,
    "start_time": "2024-10-22T03:07:37.861Z"
   },
   {
    "duration": 175,
    "start_time": "2024-10-22T03:09:58.534Z"
   },
   {
    "duration": 4,
    "start_time": "2024-10-22T03:12:05.589Z"
   },
   {
    "duration": 4,
    "start_time": "2024-10-22T03:12:42.860Z"
   },
   {
    "duration": 4,
    "start_time": "2024-10-22T03:12:49.557Z"
   },
   {
    "duration": 292,
    "start_time": "2024-10-22T03:16:04.276Z"
   },
   {
    "duration": 105,
    "start_time": "2024-10-22T03:16:04.570Z"
   },
   {
    "duration": 7,
    "start_time": "2024-10-22T03:16:04.677Z"
   },
   {
    "duration": 31,
    "start_time": "2024-10-22T03:16:04.686Z"
   },
   {
    "duration": 3,
    "start_time": "2024-10-22T03:16:04.720Z"
   },
   {
    "duration": 3,
    "start_time": "2024-10-22T03:16:04.725Z"
   },
   {
    "duration": 5,
    "start_time": "2024-10-22T03:16:04.730Z"
   },
   {
    "duration": 3,
    "start_time": "2024-10-22T03:16:04.737Z"
   },
   {
    "duration": 3,
    "start_time": "2024-10-22T03:16:04.741Z"
   },
   {
    "duration": 3,
    "start_time": "2024-10-22T03:16:04.745Z"
   },
   {
    "duration": 3,
    "start_time": "2024-10-22T03:16:04.750Z"
   },
   {
    "duration": 3,
    "start_time": "2024-10-22T03:16:04.754Z"
   },
   {
    "duration": 4,
    "start_time": "2024-10-22T03:16:04.758Z"
   },
   {
    "duration": 46,
    "start_time": "2024-10-22T03:16:04.764Z"
   },
   {
    "duration": 2,
    "start_time": "2024-10-22T03:16:04.813Z"
   },
   {
    "duration": 2,
    "start_time": "2024-10-22T03:16:04.818Z"
   },
   {
    "duration": 3,
    "start_time": "2024-10-22T03:16:04.822Z"
   },
   {
    "duration": 3,
    "start_time": "2024-10-22T03:16:04.826Z"
   },
   {
    "duration": 3,
    "start_time": "2024-10-22T03:16:04.830Z"
   },
   {
    "duration": 3,
    "start_time": "2024-10-22T03:16:04.835Z"
   },
   {
    "duration": 3,
    "start_time": "2024-10-22T03:16:04.840Z"
   },
   {
    "duration": 3,
    "start_time": "2024-10-22T03:16:04.844Z"
   },
   {
    "duration": 3,
    "start_time": "2024-10-22T03:16:04.849Z"
   },
   {
    "duration": 3,
    "start_time": "2024-10-22T03:16:04.853Z"
   },
   {
    "duration": 3,
    "start_time": "2024-10-22T03:16:04.857Z"
   },
   {
    "duration": 2,
    "start_time": "2024-10-22T03:16:04.910Z"
   },
   {
    "duration": 6,
    "start_time": "2024-10-22T03:16:04.914Z"
   },
   {
    "duration": 4,
    "start_time": "2024-10-22T03:16:04.921Z"
   },
   {
    "duration": 3,
    "start_time": "2024-10-22T03:21:21.259Z"
   },
   {
    "duration": 3,
    "start_time": "2024-10-22T03:21:24.546Z"
   },
   {
    "duration": 3,
    "start_time": "2024-10-22T03:21:36.467Z"
   },
   {
    "duration": 3,
    "start_time": "2024-10-22T03:22:06.624Z"
   },
   {
    "duration": 18,
    "start_time": "2024-10-22T03:24:23.598Z"
   },
   {
    "duration": 11,
    "start_time": "2024-10-22T03:32:25.502Z"
   },
   {
    "duration": 10,
    "start_time": "2024-10-22T03:32:27.834Z"
   },
   {
    "duration": 14,
    "start_time": "2024-10-22T03:32:58.735Z"
   },
   {
    "duration": 29,
    "start_time": "2024-10-22T03:33:15.229Z"
   },
   {
    "duration": 18,
    "start_time": "2024-10-22T03:34:39.702Z"
   },
   {
    "duration": 44,
    "start_time": "2024-10-22T03:37:03.691Z"
   },
   {
    "duration": 50,
    "start_time": "2024-10-22T03:39:00.576Z"
   },
   {
    "duration": 41,
    "start_time": "2024-10-22T03:39:52.825Z"
   },
   {
    "duration": 488,
    "start_time": "2024-10-22T03:42:21.497Z"
   },
   {
    "duration": 6,
    "start_time": "2024-10-22T03:42:56.206Z"
   },
   {
    "duration": 340,
    "start_time": "2024-10-22T03:45:17.621Z"
   },
   {
    "duration": 96,
    "start_time": "2024-10-22T03:45:17.965Z"
   },
   {
    "duration": 7,
    "start_time": "2024-10-22T03:45:18.063Z"
   },
   {
    "duration": 21,
    "start_time": "2024-10-22T03:45:18.073Z"
   },
   {
    "duration": 18,
    "start_time": "2024-10-22T03:45:18.095Z"
   },
   {
    "duration": 4,
    "start_time": "2024-10-22T03:45:18.115Z"
   },
   {
    "duration": 4,
    "start_time": "2024-10-22T03:45:18.120Z"
   },
   {
    "duration": 3,
    "start_time": "2024-10-22T03:45:18.126Z"
   },
   {
    "duration": 3,
    "start_time": "2024-10-22T03:45:18.131Z"
   },
   {
    "duration": 22,
    "start_time": "2024-10-22T03:45:18.138Z"
   },
   {
    "duration": 69,
    "start_time": "2024-10-22T03:45:18.161Z"
   },
   {
    "duration": 17,
    "start_time": "2024-10-22T03:45:18.231Z"
   },
   {
    "duration": 61,
    "start_time": "2024-10-22T03:45:18.250Z"
   },
   {
    "duration": 49,
    "start_time": "2024-10-22T03:45:18.313Z"
   },
   {
    "duration": 56,
    "start_time": "2024-10-22T03:45:18.363Z"
   },
   {
    "duration": 6,
    "start_time": "2024-10-22T03:45:18.421Z"
   },
   {
    "duration": 4,
    "start_time": "2024-10-22T03:45:18.429Z"
   },
   {
    "duration": 0,
    "start_time": "2024-10-22T03:45:18.435Z"
   },
   {
    "duration": 0,
    "start_time": "2024-10-22T03:45:18.437Z"
   },
   {
    "duration": 0,
    "start_time": "2024-10-22T03:45:18.437Z"
   },
   {
    "duration": 0,
    "start_time": "2024-10-22T03:45:18.438Z"
   },
   {
    "duration": 0,
    "start_time": "2024-10-22T03:45:18.439Z"
   },
   {
    "duration": 0,
    "start_time": "2024-10-22T03:45:18.440Z"
   },
   {
    "duration": 0,
    "start_time": "2024-10-22T03:45:18.441Z"
   },
   {
    "duration": 0,
    "start_time": "2024-10-22T03:45:18.442Z"
   },
   {
    "duration": 0,
    "start_time": "2024-10-22T03:45:18.444Z"
   },
   {
    "duration": 0,
    "start_time": "2024-10-22T03:45:18.445Z"
   },
   {
    "duration": 0,
    "start_time": "2024-10-22T03:45:18.447Z"
   },
   {
    "duration": 4,
    "start_time": "2024-10-22T03:54:35.956Z"
   },
   {
    "duration": 178,
    "start_time": "2024-10-22T03:55:40.430Z"
   },
   {
    "duration": 16,
    "start_time": "2024-10-22T03:55:41.954Z"
   },
   {
    "duration": 15,
    "start_time": "2024-10-22T03:55:42.883Z"
   },
   {
    "duration": 4,
    "start_time": "2024-10-22T03:56:05.555Z"
   },
   {
    "duration": 4,
    "start_time": "2024-10-22T03:56:14.335Z"
   },
   {
    "duration": 5,
    "start_time": "2024-10-22T03:59:38.113Z"
   },
   {
    "duration": 13,
    "start_time": "2024-10-22T04:01:36.050Z"
   },
   {
    "duration": 284,
    "start_time": "2024-10-22T04:04:55.284Z"
   },
   {
    "duration": 92,
    "start_time": "2024-10-22T04:04:55.571Z"
   },
   {
    "duration": 6,
    "start_time": "2024-10-22T04:04:55.665Z"
   },
   {
    "duration": 20,
    "start_time": "2024-10-22T04:04:55.673Z"
   },
   {
    "duration": 3,
    "start_time": "2024-10-22T04:04:55.712Z"
   },
   {
    "duration": 4,
    "start_time": "2024-10-22T04:04:55.717Z"
   },
   {
    "duration": 3,
    "start_time": "2024-10-22T04:04:55.723Z"
   },
   {
    "duration": 4,
    "start_time": "2024-10-22T04:04:55.728Z"
   },
   {
    "duration": 3,
    "start_time": "2024-10-22T04:04:55.734Z"
   },
   {
    "duration": 17,
    "start_time": "2024-10-22T04:04:55.740Z"
   },
   {
    "duration": 66,
    "start_time": "2024-10-22T04:04:55.759Z"
   },
   {
    "duration": 16,
    "start_time": "2024-10-22T04:04:55.827Z"
   },
   {
    "duration": 44,
    "start_time": "2024-10-22T04:04:55.845Z"
   },
   {
    "duration": 49,
    "start_time": "2024-10-22T04:04:55.908Z"
   },
   {
    "duration": 57,
    "start_time": "2024-10-22T04:04:55.960Z"
   },
   {
    "duration": 7,
    "start_time": "2024-10-22T04:04:56.019Z"
   },
   {
    "duration": 3,
    "start_time": "2024-10-22T04:04:56.028Z"
   },
   {
    "duration": 7,
    "start_time": "2024-10-22T04:04:56.032Z"
   },
   {
    "duration": 6,
    "start_time": "2024-10-22T04:04:56.041Z"
   },
   {
    "duration": 2,
    "start_time": "2024-10-22T04:04:56.049Z"
   },
   {
    "duration": 2,
    "start_time": "2024-10-22T04:04:56.053Z"
   },
   {
    "duration": 3,
    "start_time": "2024-10-22T04:04:56.057Z"
   },
   {
    "duration": 4,
    "start_time": "2024-10-22T04:04:56.061Z"
   },
   {
    "duration": 43,
    "start_time": "2024-10-22T04:04:56.066Z"
   },
   {
    "duration": 2,
    "start_time": "2024-10-22T04:04:56.111Z"
   },
   {
    "duration": 2,
    "start_time": "2024-10-22T04:04:56.115Z"
   },
   {
    "duration": 3,
    "start_time": "2024-10-22T04:04:56.119Z"
   },
   {
    "duration": 3,
    "start_time": "2024-10-22T04:04:56.123Z"
   },
   {
    "duration": 9,
    "start_time": "2024-10-22T04:36:34.170Z"
   },
   {
    "duration": 17,
    "start_time": "2024-10-22T04:39:27.005Z"
   },
   {
    "duration": 8,
    "start_time": "2024-10-22T04:45:09.559Z"
   },
   {
    "duration": 14,
    "start_time": "2024-10-23T01:51:07.566Z"
   },
   {
    "duration": 13,
    "start_time": "2024-10-23T01:51:11.027Z"
   },
   {
    "duration": 311,
    "start_time": "2024-10-23T01:51:30.971Z"
   },
   {
    "duration": 115,
    "start_time": "2024-10-23T01:51:31.284Z"
   },
   {
    "duration": 6,
    "start_time": "2024-10-23T01:51:31.401Z"
   },
   {
    "duration": 35,
    "start_time": "2024-10-23T01:51:31.410Z"
   },
   {
    "duration": 4,
    "start_time": "2024-10-23T01:51:31.447Z"
   },
   {
    "duration": 4,
    "start_time": "2024-10-23T01:51:31.453Z"
   },
   {
    "duration": 4,
    "start_time": "2024-10-23T01:51:31.459Z"
   },
   {
    "duration": 4,
    "start_time": "2024-10-23T01:51:31.464Z"
   },
   {
    "duration": 4,
    "start_time": "2024-10-23T01:51:31.469Z"
   },
   {
    "duration": 60,
    "start_time": "2024-10-23T01:51:31.476Z"
   },
   {
    "duration": 29,
    "start_time": "2024-10-23T01:51:31.538Z"
   },
   {
    "duration": 16,
    "start_time": "2024-10-23T01:51:31.569Z"
   },
   {
    "duration": 73,
    "start_time": "2024-10-23T01:51:31.587Z"
   },
   {
    "duration": 49,
    "start_time": "2024-10-23T01:51:31.662Z"
   },
   {
    "duration": 53,
    "start_time": "2024-10-23T01:51:31.713Z"
   },
   {
    "duration": 5,
    "start_time": "2024-10-23T01:51:31.768Z"
   },
   {
    "duration": 4,
    "start_time": "2024-10-23T01:51:31.776Z"
   },
   {
    "duration": 8,
    "start_time": "2024-10-23T01:51:31.782Z"
   },
   {
    "duration": 6,
    "start_time": "2024-10-23T01:51:31.792Z"
   },
   {
    "duration": 15,
    "start_time": "2024-10-23T01:51:31.831Z"
   },
   {
    "duration": 16,
    "start_time": "2024-10-23T01:51:31.847Z"
   },
   {
    "duration": 4,
    "start_time": "2024-10-23T01:51:31.865Z"
   },
   {
    "duration": 3,
    "start_time": "2024-10-23T01:51:31.870Z"
   },
   {
    "duration": 2,
    "start_time": "2024-10-23T01:51:31.875Z"
   },
   {
    "duration": 2,
    "start_time": "2024-10-23T01:51:31.879Z"
   },
   {
    "duration": 5,
    "start_time": "2024-10-23T01:51:31.883Z"
   },
   {
    "duration": 42,
    "start_time": "2024-10-23T01:51:31.889Z"
   },
   {
    "duration": 3,
    "start_time": "2024-10-23T01:51:31.934Z"
   },
   {
    "duration": 19,
    "start_time": "2024-10-23T01:56:37.369Z"
   },
   {
    "duration": 30,
    "start_time": "2024-10-23T01:57:22.915Z"
   },
   {
    "duration": 3,
    "start_time": "2024-10-23T02:38:20.963Z"
   },
   {
    "duration": 12,
    "start_time": "2024-10-23T02:51:15.730Z"
   },
   {
    "duration": 11,
    "start_time": "2024-10-23T02:51:17.794Z"
   },
   {
    "duration": 13,
    "start_time": "2024-10-23T02:51:20.289Z"
   },
   {
    "duration": 11,
    "start_time": "2024-10-23T02:51:22.058Z"
   },
   {
    "duration": 183,
    "start_time": "2024-10-23T02:51:23.628Z"
   },
   {
    "duration": 14,
    "start_time": "2024-10-23T02:51:37.148Z"
   },
   {
    "duration": 12,
    "start_time": "2024-10-23T02:51:41.260Z"
   },
   {
    "duration": 306,
    "start_time": "2024-10-23T03:06:46.733Z"
   },
   {
    "duration": 96,
    "start_time": "2024-10-23T03:06:47.040Z"
   },
   {
    "duration": 7,
    "start_time": "2024-10-23T03:06:47.138Z"
   },
   {
    "duration": 23,
    "start_time": "2024-10-23T03:06:47.148Z"
   },
   {
    "duration": 3,
    "start_time": "2024-10-23T03:06:47.172Z"
   },
   {
    "duration": 5,
    "start_time": "2024-10-23T03:06:47.177Z"
   },
   {
    "duration": 4,
    "start_time": "2024-10-23T03:06:47.184Z"
   },
   {
    "duration": 44,
    "start_time": "2024-10-23T03:06:47.190Z"
   },
   {
    "duration": 4,
    "start_time": "2024-10-23T03:06:47.235Z"
   },
   {
    "duration": 19,
    "start_time": "2024-10-23T03:06:47.243Z"
   },
   {
    "duration": 30,
    "start_time": "2024-10-23T03:06:47.263Z"
   },
   {
    "duration": 49,
    "start_time": "2024-10-23T03:06:47.295Z"
   },
   {
    "duration": 47,
    "start_time": "2024-10-23T03:06:47.345Z"
   },
   {
    "duration": 70,
    "start_time": "2024-10-23T03:06:47.394Z"
   },
   {
    "duration": 38,
    "start_time": "2024-10-23T03:06:47.465Z"
   },
   {
    "duration": 6,
    "start_time": "2024-10-23T03:06:47.505Z"
   },
   {
    "duration": 3,
    "start_time": "2024-10-23T03:06:47.531Z"
   },
   {
    "duration": 9,
    "start_time": "2024-10-23T03:06:47.536Z"
   },
   {
    "duration": 6,
    "start_time": "2024-10-23T03:06:47.547Z"
   },
   {
    "duration": 17,
    "start_time": "2024-10-23T03:06:47.555Z"
   },
   {
    "duration": 70,
    "start_time": "2024-10-23T03:06:47.576Z"
   },
   {
    "duration": 4,
    "start_time": "2024-10-23T03:06:47.649Z"
   },
   {
    "duration": 17,
    "start_time": "2024-10-23T03:06:47.654Z"
   },
   {
    "duration": 14,
    "start_time": "2024-10-23T03:06:47.672Z"
   },
   {
    "duration": 11,
    "start_time": "2024-10-23T03:06:47.688Z"
   },
   {
    "duration": 39,
    "start_time": "2024-10-23T03:06:47.701Z"
   },
   {
    "duration": 16,
    "start_time": "2024-10-23T03:06:47.742Z"
   },
   {
    "duration": 12,
    "start_time": "2024-10-23T03:06:47.761Z"
   },
   {
    "duration": 331,
    "start_time": "2024-10-23T03:23:43.751Z"
   },
   {
    "duration": 96,
    "start_time": "2024-10-23T03:23:44.086Z"
   },
   {
    "duration": 8,
    "start_time": "2024-10-23T03:23:44.183Z"
   },
   {
    "duration": 22,
    "start_time": "2024-10-23T03:23:44.193Z"
   },
   {
    "duration": 16,
    "start_time": "2024-10-23T03:23:44.217Z"
   },
   {
    "duration": 4,
    "start_time": "2024-10-23T03:23:44.235Z"
   },
   {
    "duration": 4,
    "start_time": "2024-10-23T03:23:44.240Z"
   },
   {
    "duration": 4,
    "start_time": "2024-10-23T03:23:44.245Z"
   },
   {
    "duration": 3,
    "start_time": "2024-10-23T03:23:44.251Z"
   },
   {
    "duration": 19,
    "start_time": "2024-10-23T03:23:44.256Z"
   },
   {
    "duration": 77,
    "start_time": "2024-10-23T03:23:44.277Z"
   },
   {
    "duration": 16,
    "start_time": "2024-10-23T03:23:44.357Z"
   },
   {
    "duration": 61,
    "start_time": "2024-10-23T03:23:44.375Z"
   },
   {
    "duration": 48,
    "start_time": "2024-10-23T03:23:44.440Z"
   },
   {
    "duration": 59,
    "start_time": "2024-10-23T03:23:44.490Z"
   },
   {
    "duration": 5,
    "start_time": "2024-10-23T03:23:44.551Z"
   },
   {
    "duration": 3,
    "start_time": "2024-10-23T03:23:44.559Z"
   },
   {
    "duration": 8,
    "start_time": "2024-10-23T03:23:44.564Z"
   },
   {
    "duration": 6,
    "start_time": "2024-10-23T03:23:44.573Z"
   },
   {
    "duration": 50,
    "start_time": "2024-10-23T03:23:44.581Z"
   },
   {
    "duration": 30,
    "start_time": "2024-10-23T03:23:44.633Z"
   },
   {
    "duration": 3,
    "start_time": "2024-10-23T03:23:44.665Z"
   },
   {
    "duration": 15,
    "start_time": "2024-10-23T03:23:44.669Z"
   },
   {
    "duration": 11,
    "start_time": "2024-10-23T03:23:44.685Z"
   },
   {
    "duration": 45,
    "start_time": "2024-10-23T03:23:44.698Z"
   },
   {
    "duration": 13,
    "start_time": "2024-10-23T03:23:44.745Z"
   },
   {
    "duration": 13,
    "start_time": "2024-10-23T03:23:44.760Z"
   },
   {
    "duration": 12,
    "start_time": "2024-10-23T03:23:44.775Z"
   },
   {
    "duration": 287,
    "start_time": "2024-10-23T03:25:52.303Z"
   },
   {
    "duration": 94,
    "start_time": "2024-10-23T03:25:52.592Z"
   },
   {
    "duration": 8,
    "start_time": "2024-10-23T03:25:52.688Z"
   },
   {
    "duration": 37,
    "start_time": "2024-10-23T03:25:52.698Z"
   },
   {
    "duration": 4,
    "start_time": "2024-10-23T03:25:52.737Z"
   },
   {
    "duration": 4,
    "start_time": "2024-10-23T03:25:52.743Z"
   },
   {
    "duration": 3,
    "start_time": "2024-10-23T03:25:52.749Z"
   },
   {
    "duration": 3,
    "start_time": "2024-10-23T03:25:52.754Z"
   },
   {
    "duration": 5,
    "start_time": "2024-10-23T03:25:52.759Z"
   },
   {
    "duration": 18,
    "start_time": "2024-10-23T03:25:52.769Z"
   },
   {
    "duration": 71,
    "start_time": "2024-10-23T03:25:52.789Z"
   },
   {
    "duration": 17,
    "start_time": "2024-10-23T03:25:52.862Z"
   },
   {
    "duration": 69,
    "start_time": "2024-10-23T03:25:52.881Z"
   },
   {
    "duration": 48,
    "start_time": "2024-10-23T03:25:52.953Z"
   },
   {
    "duration": 57,
    "start_time": "2024-10-23T03:25:53.003Z"
   },
   {
    "duration": 5,
    "start_time": "2024-10-23T03:25:53.062Z"
   },
   {
    "duration": 3,
    "start_time": "2024-10-23T03:25:53.069Z"
   },
   {
    "duration": 8,
    "start_time": "2024-10-23T03:25:53.074Z"
   },
   {
    "duration": 6,
    "start_time": "2024-10-23T03:25:53.083Z"
   },
   {
    "duration": 46,
    "start_time": "2024-10-23T03:25:53.091Z"
   },
   {
    "duration": 30,
    "start_time": "2024-10-23T03:25:53.140Z"
   },
   {
    "duration": 2,
    "start_time": "2024-10-23T03:25:53.172Z"
   },
   {
    "duration": 13,
    "start_time": "2024-10-23T03:25:53.177Z"
   },
   {
    "duration": 44,
    "start_time": "2024-10-23T03:25:53.192Z"
   },
   {
    "duration": 12,
    "start_time": "2024-10-23T03:25:53.238Z"
   },
   {
    "duration": 11,
    "start_time": "2024-10-23T03:25:53.252Z"
   },
   {
    "duration": 13,
    "start_time": "2024-10-23T03:25:53.265Z"
   },
   {
    "duration": 10,
    "start_time": "2024-10-23T03:25:53.281Z"
   },
   {
    "duration": 8,
    "start_time": "2024-10-23T04:01:06.285Z"
   },
   {
    "duration": 313,
    "start_time": "2024-10-23T23:47:37.547Z"
   },
   {
    "duration": 107,
    "start_time": "2024-10-23T23:47:37.862Z"
   },
   {
    "duration": 8,
    "start_time": "2024-10-23T23:47:37.971Z"
   },
   {
    "duration": 21,
    "start_time": "2024-10-23T23:47:37.981Z"
   },
   {
    "duration": 4,
    "start_time": "2024-10-23T23:47:38.003Z"
   },
   {
    "duration": 3,
    "start_time": "2024-10-23T23:47:38.009Z"
   },
   {
    "duration": 4,
    "start_time": "2024-10-23T23:47:38.042Z"
   },
   {
    "duration": 4,
    "start_time": "2024-10-23T23:47:38.047Z"
   },
   {
    "duration": 3,
    "start_time": "2024-10-23T23:47:38.052Z"
   },
   {
    "duration": 18,
    "start_time": "2024-10-23T23:47:38.059Z"
   },
   {
    "duration": 65,
    "start_time": "2024-10-23T23:47:38.079Z"
   },
   {
    "duration": 16,
    "start_time": "2024-10-23T23:47:38.146Z"
   },
   {
    "duration": 42,
    "start_time": "2024-10-23T23:47:38.164Z"
   },
   {
    "duration": 67,
    "start_time": "2024-10-23T23:47:38.209Z"
   },
   {
    "duration": 38,
    "start_time": "2024-10-23T23:47:38.279Z"
   },
   {
    "duration": 26,
    "start_time": "2024-10-23T23:47:38.318Z"
   },
   {
    "duration": 3,
    "start_time": "2024-10-23T23:47:38.346Z"
   },
   {
    "duration": 9,
    "start_time": "2024-10-23T23:47:38.351Z"
   },
   {
    "duration": 5,
    "start_time": "2024-10-23T23:47:38.362Z"
   },
   {
    "duration": 13,
    "start_time": "2024-10-23T23:47:38.369Z"
   },
   {
    "duration": 68,
    "start_time": "2024-10-23T23:47:38.384Z"
   },
   {
    "duration": 3,
    "start_time": "2024-10-23T23:47:38.454Z"
   },
   {
    "duration": 14,
    "start_time": "2024-10-23T23:47:38.458Z"
   },
   {
    "duration": 12,
    "start_time": "2024-10-23T23:47:38.475Z"
   },
   {
    "duration": 12,
    "start_time": "2024-10-23T23:47:38.489Z"
   },
   {
    "duration": 48,
    "start_time": "2024-10-23T23:47:38.503Z"
   },
   {
    "duration": 13,
    "start_time": "2024-10-23T23:47:38.553Z"
   },
   {
    "duration": 11,
    "start_time": "2024-10-23T23:47:38.570Z"
   },
   {
    "duration": 14,
    "start_time": "2024-10-23T23:51:21.849Z"
   },
   {
    "duration": 315,
    "start_time": "2024-10-23T23:58:25.990Z"
   },
   {
    "duration": 105,
    "start_time": "2024-10-23T23:58:26.308Z"
   },
   {
    "duration": 13,
    "start_time": "2024-10-23T23:58:26.415Z"
   },
   {
    "duration": 26,
    "start_time": "2024-10-23T23:58:26.429Z"
   },
   {
    "duration": 4,
    "start_time": "2024-10-23T23:58:26.457Z"
   },
   {
    "duration": 4,
    "start_time": "2024-10-23T23:58:26.462Z"
   },
   {
    "duration": 17,
    "start_time": "2024-10-23T23:58:26.467Z"
   },
   {
    "duration": 4,
    "start_time": "2024-10-23T23:58:26.486Z"
   },
   {
    "duration": 4,
    "start_time": "2024-10-23T23:58:26.491Z"
   },
   {
    "duration": 57,
    "start_time": "2024-10-23T23:58:26.497Z"
   },
   {
    "duration": 29,
    "start_time": "2024-10-23T23:58:26.556Z"
   },
   {
    "duration": 17,
    "start_time": "2024-10-23T23:58:26.586Z"
   },
   {
    "duration": 75,
    "start_time": "2024-10-23T23:58:26.605Z"
   },
   {
    "duration": 45,
    "start_time": "2024-10-23T23:58:26.683Z"
   },
   {
    "duration": 51,
    "start_time": "2024-10-23T23:58:26.729Z"
   },
   {
    "duration": 7,
    "start_time": "2024-10-23T23:58:26.782Z"
   },
   {
    "duration": 3,
    "start_time": "2024-10-23T23:58:26.791Z"
   },
   {
    "duration": 8,
    "start_time": "2024-10-23T23:58:26.795Z"
   },
   {
    "duration": 5,
    "start_time": "2024-10-23T23:58:26.804Z"
   },
   {
    "duration": 43,
    "start_time": "2024-10-23T23:58:26.811Z"
   },
   {
    "duration": 32,
    "start_time": "2024-10-23T23:58:26.856Z"
   },
   {
    "duration": 3,
    "start_time": "2024-10-23T23:58:26.891Z"
   },
   {
    "duration": 47,
    "start_time": "2024-10-23T23:58:26.896Z"
   },
   {
    "duration": 11,
    "start_time": "2024-10-23T23:58:26.945Z"
   },
   {
    "duration": 12,
    "start_time": "2024-10-23T23:58:26.958Z"
   },
   {
    "duration": 11,
    "start_time": "2024-10-23T23:58:26.971Z"
   },
   {
    "duration": 12,
    "start_time": "2024-10-23T23:58:26.984Z"
   },
   {
    "duration": 47,
    "start_time": "2024-10-23T23:58:26.998Z"
   },
   {
    "duration": 299,
    "start_time": "2024-10-24T00:02:48.698Z"
   },
   {
    "duration": 98,
    "start_time": "2024-10-24T00:02:48.999Z"
   },
   {
    "duration": 15,
    "start_time": "2024-10-24T00:02:49.099Z"
   },
   {
    "duration": 34,
    "start_time": "2024-10-24T00:02:49.115Z"
   },
   {
    "duration": 3,
    "start_time": "2024-10-24T00:02:49.152Z"
   },
   {
    "duration": 3,
    "start_time": "2024-10-24T00:02:49.157Z"
   },
   {
    "duration": 3,
    "start_time": "2024-10-24T00:02:49.162Z"
   },
   {
    "duration": 4,
    "start_time": "2024-10-24T00:02:49.167Z"
   },
   {
    "duration": 3,
    "start_time": "2024-10-24T00:02:49.172Z"
   },
   {
    "duration": 17,
    "start_time": "2024-10-24T00:02:49.177Z"
   },
   {
    "duration": 32,
    "start_time": "2024-10-24T00:02:49.242Z"
   },
   {
    "duration": 15,
    "start_time": "2024-10-24T00:02:49.276Z"
   },
   {
    "duration": 62,
    "start_time": "2024-10-24T00:02:49.293Z"
   },
   {
    "duration": 46,
    "start_time": "2024-10-24T00:02:49.359Z"
   },
   {
    "duration": 58,
    "start_time": "2024-10-24T00:02:49.407Z"
   },
   {
    "duration": 6,
    "start_time": "2024-10-24T00:02:49.467Z"
   },
   {
    "duration": 3,
    "start_time": "2024-10-24T00:02:49.474Z"
   },
   {
    "duration": 7,
    "start_time": "2024-10-24T00:02:49.479Z"
   },
   {
    "duration": 6,
    "start_time": "2024-10-24T00:02:49.487Z"
   },
   {
    "duration": 51,
    "start_time": "2024-10-24T00:02:49.495Z"
   },
   {
    "duration": 33,
    "start_time": "2024-10-24T00:02:49.548Z"
   },
   {
    "duration": 3,
    "start_time": "2024-10-24T00:02:49.583Z"
   },
   {
    "duration": 12,
    "start_time": "2024-10-24T00:02:49.588Z"
   },
   {
    "duration": 40,
    "start_time": "2024-10-24T00:02:49.603Z"
   },
   {
    "duration": 11,
    "start_time": "2024-10-24T00:02:49.645Z"
   },
   {
    "duration": 11,
    "start_time": "2024-10-24T00:02:49.658Z"
   },
   {
    "duration": 12,
    "start_time": "2024-10-24T00:02:49.671Z"
   },
   {
    "duration": 10,
    "start_time": "2024-10-24T00:02:49.685Z"
   },
   {
    "duration": 9,
    "start_time": "2024-10-24T00:08:50.294Z"
   },
   {
    "duration": 272,
    "start_time": "2024-10-24T00:09:38.322Z"
   },
   {
    "duration": 101,
    "start_time": "2024-10-24T00:09:38.596Z"
   },
   {
    "duration": 12,
    "start_time": "2024-10-24T00:09:38.698Z"
   },
   {
    "duration": 30,
    "start_time": "2024-10-24T00:09:38.713Z"
   },
   {
    "duration": 3,
    "start_time": "2024-10-24T00:09:38.745Z"
   },
   {
    "duration": 4,
    "start_time": "2024-10-24T00:09:38.750Z"
   },
   {
    "duration": 4,
    "start_time": "2024-10-24T00:09:38.756Z"
   },
   {
    "duration": 4,
    "start_time": "2024-10-24T00:09:38.761Z"
   },
   {
    "duration": 3,
    "start_time": "2024-10-24T00:09:38.767Z"
   },
   {
    "duration": 70,
    "start_time": "2024-10-24T00:09:38.773Z"
   },
   {
    "duration": 28,
    "start_time": "2024-10-24T00:09:38.845Z"
   },
   {
    "duration": 16,
    "start_time": "2024-10-24T00:09:38.874Z"
   },
   {
    "duration": 62,
    "start_time": "2024-10-24T00:09:38.892Z"
   },
   {
    "duration": 46,
    "start_time": "2024-10-24T00:09:38.957Z"
   },
   {
    "duration": 61,
    "start_time": "2024-10-24T00:09:39.005Z"
   },
   {
    "duration": 9,
    "start_time": "2024-10-24T00:09:39.068Z"
   },
   {
    "duration": 3,
    "start_time": "2024-10-24T00:09:39.079Z"
   },
   {
    "duration": 9,
    "start_time": "2024-10-24T00:09:39.083Z"
   },
   {
    "duration": 6,
    "start_time": "2024-10-24T00:09:39.094Z"
   },
   {
    "duration": 50,
    "start_time": "2024-10-24T00:09:39.101Z"
   },
   {
    "duration": 29,
    "start_time": "2024-10-24T00:09:39.152Z"
   },
   {
    "duration": 3,
    "start_time": "2024-10-24T00:09:39.183Z"
   },
   {
    "duration": 12,
    "start_time": "2024-10-24T00:09:39.187Z"
   },
   {
    "duration": 10,
    "start_time": "2024-10-24T00:09:39.201Z"
   },
   {
    "duration": 12,
    "start_time": "2024-10-24T00:09:39.243Z"
   },
   {
    "duration": 11,
    "start_time": "2024-10-24T00:09:39.256Z"
   },
   {
    "duration": 13,
    "start_time": "2024-10-24T00:09:39.268Z"
   },
   {
    "duration": 11,
    "start_time": "2024-10-24T00:09:39.285Z"
   },
   {
    "duration": 8,
    "start_time": "2024-10-24T00:10:32.087Z"
   },
   {
    "duration": 8,
    "start_time": "2024-10-24T00:10:35.915Z"
   },
   {
    "duration": 8,
    "start_time": "2024-10-24T00:10:36.873Z"
   },
   {
    "duration": 182,
    "start_time": "2024-10-24T00:12:34.217Z"
   },
   {
    "duration": 15,
    "start_time": "2024-10-24T00:13:04.540Z"
   },
   {
    "duration": 6,
    "start_time": "2024-10-24T00:13:21.291Z"
   },
   {
    "duration": 6,
    "start_time": "2024-10-24T00:13:46.624Z"
   },
   {
    "duration": 6,
    "start_time": "2024-10-24T00:14:13.593Z"
   },
   {
    "duration": 322,
    "start_time": "2024-10-24T00:16:25.964Z"
   },
   {
    "duration": 93,
    "start_time": "2024-10-24T00:16:26.288Z"
   },
   {
    "duration": 12,
    "start_time": "2024-10-24T00:16:26.383Z"
   },
   {
    "duration": 21,
    "start_time": "2024-10-24T00:16:26.397Z"
   },
   {
    "duration": 23,
    "start_time": "2024-10-24T00:16:26.420Z"
   },
   {
    "duration": 4,
    "start_time": "2024-10-24T00:16:26.445Z"
   },
   {
    "duration": 4,
    "start_time": "2024-10-24T00:16:26.450Z"
   },
   {
    "duration": 3,
    "start_time": "2024-10-24T00:16:26.456Z"
   },
   {
    "duration": 2,
    "start_time": "2024-10-24T00:16:26.461Z"
   },
   {
    "duration": 20,
    "start_time": "2024-10-24T00:16:26.465Z"
   },
   {
    "duration": 71,
    "start_time": "2024-10-24T00:16:26.487Z"
   },
   {
    "duration": 18,
    "start_time": "2024-10-24T00:16:26.560Z"
   },
   {
    "duration": 65,
    "start_time": "2024-10-24T00:16:26.580Z"
   },
   {
    "duration": 47,
    "start_time": "2024-10-24T00:16:26.648Z"
   },
   {
    "duration": 56,
    "start_time": "2024-10-24T00:16:26.697Z"
   },
   {
    "duration": 8,
    "start_time": "2024-10-24T00:16:26.755Z"
   },
   {
    "duration": 3,
    "start_time": "2024-10-24T00:16:26.765Z"
   },
   {
    "duration": 8,
    "start_time": "2024-10-24T00:16:26.770Z"
   },
   {
    "duration": 6,
    "start_time": "2024-10-24T00:16:26.780Z"
   },
   {
    "duration": 56,
    "start_time": "2024-10-24T00:16:26.788Z"
   },
   {
    "duration": 31,
    "start_time": "2024-10-24T00:16:26.846Z"
   },
   {
    "duration": 3,
    "start_time": "2024-10-24T00:16:26.878Z"
   },
   {
    "duration": 12,
    "start_time": "2024-10-24T00:16:26.883Z"
   },
   {
    "duration": 11,
    "start_time": "2024-10-24T00:16:26.897Z"
   },
   {
    "duration": 41,
    "start_time": "2024-10-24T00:16:26.909Z"
   },
   {
    "duration": 13,
    "start_time": "2024-10-24T00:16:26.951Z"
   },
   {
    "duration": 13,
    "start_time": "2024-10-24T00:16:26.966Z"
   },
   {
    "duration": 11,
    "start_time": "2024-10-24T00:16:26.981Z"
   },
   {
    "duration": 277,
    "start_time": "2024-10-24T00:22:07.318Z"
   },
   {
    "duration": 108,
    "start_time": "2024-10-24T00:22:07.598Z"
   },
   {
    "duration": 13,
    "start_time": "2024-10-24T00:22:07.708Z"
   },
   {
    "duration": 28,
    "start_time": "2024-10-24T00:22:07.723Z"
   },
   {
    "duration": 3,
    "start_time": "2024-10-24T00:22:07.753Z"
   },
   {
    "duration": 4,
    "start_time": "2024-10-24T00:22:07.758Z"
   },
   {
    "duration": 5,
    "start_time": "2024-10-24T00:22:07.764Z"
   },
   {
    "duration": 4,
    "start_time": "2024-10-24T00:22:07.771Z"
   },
   {
    "duration": 3,
    "start_time": "2024-10-24T00:22:07.777Z"
   },
   {
    "duration": 61,
    "start_time": "2024-10-24T00:22:07.785Z"
   },
   {
    "duration": 30,
    "start_time": "2024-10-24T00:22:07.848Z"
   },
   {
    "duration": 22,
    "start_time": "2024-10-24T00:22:07.880Z"
   },
   {
    "duration": 85,
    "start_time": "2024-10-24T00:22:07.903Z"
   },
   {
    "duration": 46,
    "start_time": "2024-10-24T00:22:07.990Z"
   },
   {
    "duration": 57,
    "start_time": "2024-10-24T00:22:08.042Z"
   },
   {
    "duration": 9,
    "start_time": "2024-10-24T00:22:08.101Z"
   },
   {
    "duration": 4,
    "start_time": "2024-10-24T00:22:08.112Z"
   },
   {
    "duration": 9,
    "start_time": "2024-10-24T00:22:08.143Z"
   },
   {
    "duration": 6,
    "start_time": "2024-10-24T00:22:08.154Z"
   },
   {
    "duration": 16,
    "start_time": "2024-10-24T00:22:08.162Z"
   },
   {
    "duration": 66,
    "start_time": "2024-10-24T00:22:08.180Z"
   },
   {
    "duration": 4,
    "start_time": "2024-10-24T00:22:08.248Z"
   },
   {
    "duration": 19,
    "start_time": "2024-10-24T00:22:08.254Z"
   },
   {
    "duration": 13,
    "start_time": "2024-10-24T00:22:08.277Z"
   },
   {
    "duration": 13,
    "start_time": "2024-10-24T00:22:08.292Z"
   },
   {
    "duration": 43,
    "start_time": "2024-10-24T00:22:08.307Z"
   },
   {
    "duration": 12,
    "start_time": "2024-10-24T00:22:08.352Z"
   },
   {
    "duration": 11,
    "start_time": "2024-10-24T00:22:08.367Z"
   }
  ],
  "colab": {
   "collapsed_sections": [
    "E0vqbgi9ay0H",
    "VUC88oWjTJw2"
   ],
   "provenance": []
  },
  "kernelspec": {
   "display_name": "Python 3 (ipykernel)",
   "language": "python",
   "name": "python3"
  },
  "language_info": {
   "codemirror_mode": {
    "name": "ipython",
    "version": 3
   },
   "file_extension": ".py",
   "mimetype": "text/x-python",
   "name": "python",
   "nbconvert_exporter": "python",
   "pygments_lexer": "ipython3",
   "version": "3.9.19"
  },
  "toc": {
   "base_numbering": 1,
   "nav_menu": {},
   "number_sections": true,
   "sideBar": true,
   "skip_h1_title": true,
   "title_cell": "Table of Contents",
   "title_sidebar": "Contents",
   "toc_cell": false,
   "toc_position": {
    "height": "calc(100% - 180px)",
    "left": "10px",
    "top": "150px",
    "width": "260.24px"
   },
   "toc_section_display": true,
   "toc_window_display": true
  }
 },
 "nbformat": 4,
 "nbformat_minor": 1
}
