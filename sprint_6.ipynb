{
 "cells": [
  {
   "cell_type": "markdown",
   "metadata": {
    "tags": [
     "e5c1f0c2-db9f-43a0-99b9-4875c52427e8"
    ]
   },
   "source": [
    "# Videojuegos más exitosos del 2016"
   ]
  },
  {
   "cell_type": "markdown",
   "metadata": {},
   "source": [
    "La tienda online Ice vende videojuegos por todo el mundo y está planeando una campaña publicitaria para el 2017. Este análisis se basa en datos históricos sobre las ventas de juegos hasta diciembre 2016.\n",
    "\n",
    "El propósito de este análisis es identificar patrones que determinen si un juego tiene éxito o no para detectar proyectos prometedores y tener una planificación eficiente de campañas publicitarias."
   ]
  },
  {
   "cell_type": "markdown",
   "metadata": {},
   "source": [
    "# Descripción de datos\n",
    "\n",
    "— Name (Nombre)\n",
    "\n",
    "— Platform (Plataforma)\n",
    "\n",
    "— Year_of_Release (Año de lanzamiento)\n",
    "\n",
    "— Genre (Género) \n",
    "\n",
    "— NA_sales (ventas en Norteamérica en millones de dólares estadounidenses) \n",
    "\n",
    "— EU_sales (ventas en Europa en millones de dólares estadounidenses) \n",
    "\n",
    "— JP_sales (ventas en Japón en millones de dólares estadounidenses) \n",
    "\n",
    "— Other_sales (ventas en otros países en millones de dólares estadounidenses) \n",
    "\n",
    "— Critic_Score (máximo de 100) \n",
    "\n",
    "— User_Score (máximo de 10) \n",
    "\n",
    "— Rating (ESRB)\n",
    "\n",
    "Es posible que los datos de 2016 estén incompletos."
   ]
  },
  {
   "cell_type": "markdown",
   "metadata": {},
   "source": [
    "## Inicialización y carga de datos "
   ]
  },
  {
   "cell_type": "code",
   "execution_count": 1,
   "metadata": {
    "trusted": false
   },
   "outputs": [],
   "source": [
    "# Cargar todas las librerías\n",
    "import pandas as pd\n",
    "import matplotlib.pyplot as plt \n",
    "import numpy as np\n",
    "import seaborn as sns\n",
    "from scipy import stats as st\n",
    "from scipy.stats import pearsonr\n",
    "from IPython.display import display\n",
    "from scipy.stats import shapiro\n"
   ]
  },
  {
   "cell_type": "code",
   "execution_count": 2,
   "metadata": {
    "trusted": false
   },
   "outputs": [],
   "source": [
    "# Cargar los datos \n",
    "df = pd.read_csv(\"/datasets/games.csv\")"
   ]
  },
  {
   "cell_type": "code",
   "execution_count": 3,
   "metadata": {
    "scrolled": true,
    "trusted": false
   },
   "outputs": [
    {
     "data": {
      "text/html": [
       "<div>\n",
       "<style scoped>\n",
       "    .dataframe tbody tr th:only-of-type {\n",
       "        vertical-align: middle;\n",
       "    }\n",
       "\n",
       "    .dataframe tbody tr th {\n",
       "        vertical-align: top;\n",
       "    }\n",
       "\n",
       "    .dataframe thead th {\n",
       "        text-align: right;\n",
       "    }\n",
       "</style>\n",
       "<table border=\"1\" class=\"dataframe\">\n",
       "  <thead>\n",
       "    <tr style=\"text-align: right;\">\n",
       "      <th></th>\n",
       "      <th>Name</th>\n",
       "      <th>Platform</th>\n",
       "      <th>Year_of_Release</th>\n",
       "      <th>Genre</th>\n",
       "      <th>NA_sales</th>\n",
       "      <th>EU_sales</th>\n",
       "      <th>JP_sales</th>\n",
       "      <th>Other_sales</th>\n",
       "      <th>Critic_Score</th>\n",
       "      <th>User_Score</th>\n",
       "      <th>Rating</th>\n",
       "    </tr>\n",
       "  </thead>\n",
       "  <tbody>\n",
       "    <tr>\n",
       "      <th>0</th>\n",
       "      <td>Wii Sports</td>\n",
       "      <td>Wii</td>\n",
       "      <td>2006.0</td>\n",
       "      <td>Sports</td>\n",
       "      <td>41.36</td>\n",
       "      <td>28.96</td>\n",
       "      <td>3.77</td>\n",
       "      <td>8.45</td>\n",
       "      <td>76.0</td>\n",
       "      <td>8</td>\n",
       "      <td>E</td>\n",
       "    </tr>\n",
       "    <tr>\n",
       "      <th>1</th>\n",
       "      <td>Super Mario Bros.</td>\n",
       "      <td>NES</td>\n",
       "      <td>1985.0</td>\n",
       "      <td>Platform</td>\n",
       "      <td>29.08</td>\n",
       "      <td>3.58</td>\n",
       "      <td>6.81</td>\n",
       "      <td>0.77</td>\n",
       "      <td>NaN</td>\n",
       "      <td>NaN</td>\n",
       "      <td>NaN</td>\n",
       "    </tr>\n",
       "    <tr>\n",
       "      <th>2</th>\n",
       "      <td>Mario Kart Wii</td>\n",
       "      <td>Wii</td>\n",
       "      <td>2008.0</td>\n",
       "      <td>Racing</td>\n",
       "      <td>15.68</td>\n",
       "      <td>12.76</td>\n",
       "      <td>3.79</td>\n",
       "      <td>3.29</td>\n",
       "      <td>82.0</td>\n",
       "      <td>8.3</td>\n",
       "      <td>E</td>\n",
       "    </tr>\n",
       "    <tr>\n",
       "      <th>3</th>\n",
       "      <td>Wii Sports Resort</td>\n",
       "      <td>Wii</td>\n",
       "      <td>2009.0</td>\n",
       "      <td>Sports</td>\n",
       "      <td>15.61</td>\n",
       "      <td>10.93</td>\n",
       "      <td>3.28</td>\n",
       "      <td>2.95</td>\n",
       "      <td>80.0</td>\n",
       "      <td>8</td>\n",
       "      <td>E</td>\n",
       "    </tr>\n",
       "    <tr>\n",
       "      <th>4</th>\n",
       "      <td>Pokemon Red/Pokemon Blue</td>\n",
       "      <td>GB</td>\n",
       "      <td>1996.0</td>\n",
       "      <td>Role-Playing</td>\n",
       "      <td>11.27</td>\n",
       "      <td>8.89</td>\n",
       "      <td>10.22</td>\n",
       "      <td>1.00</td>\n",
       "      <td>NaN</td>\n",
       "      <td>NaN</td>\n",
       "      <td>NaN</td>\n",
       "    </tr>\n",
       "  </tbody>\n",
       "</table>\n",
       "</div>"
      ],
      "text/plain": [
       "                       Name Platform  Year_of_Release         Genre  NA_sales  \\\n",
       "0                Wii Sports      Wii           2006.0        Sports     41.36   \n",
       "1         Super Mario Bros.      NES           1985.0      Platform     29.08   \n",
       "2            Mario Kart Wii      Wii           2008.0        Racing     15.68   \n",
       "3         Wii Sports Resort      Wii           2009.0        Sports     15.61   \n",
       "4  Pokemon Red/Pokemon Blue       GB           1996.0  Role-Playing     11.27   \n",
       "\n",
       "   EU_sales  JP_sales  Other_sales  Critic_Score User_Score Rating  \n",
       "0     28.96      3.77         8.45          76.0          8      E  \n",
       "1      3.58      6.81         0.77           NaN        NaN    NaN  \n",
       "2     12.76      3.79         3.29          82.0        8.3      E  \n",
       "3     10.93      3.28         2.95          80.0          8      E  \n",
       "4      8.89     10.22         1.00           NaN        NaN    NaN  "
      ]
     },
     "execution_count": 3,
     "metadata": {},
     "output_type": "execute_result"
    }
   ],
   "source": [
    "df.head()"
   ]
  },
  {
   "cell_type": "code",
   "execution_count": 4,
   "metadata": {
    "scrolled": true,
    "trusted": false
   },
   "outputs": [
    {
     "name": "stdout",
     "output_type": "stream",
     "text": [
      "<class 'pandas.core.frame.DataFrame'>\n",
      "RangeIndex: 16715 entries, 0 to 16714\n",
      "Data columns (total 11 columns):\n",
      " #   Column           Non-Null Count  Dtype  \n",
      "---  ------           --------------  -----  \n",
      " 0   Name             16713 non-null  object \n",
      " 1   Platform         16715 non-null  object \n",
      " 2   Year_of_Release  16446 non-null  float64\n",
      " 3   Genre            16713 non-null  object \n",
      " 4   NA_sales         16715 non-null  float64\n",
      " 5   EU_sales         16715 non-null  float64\n",
      " 6   JP_sales         16715 non-null  float64\n",
      " 7   Other_sales      16715 non-null  float64\n",
      " 8   Critic_Score     8137 non-null   float64\n",
      " 9   User_Score       10014 non-null  object \n",
      " 10  Rating           9949 non-null   object \n",
      "dtypes: float64(6), object(5)\n",
      "memory usage: 1.4+ MB\n"
     ]
    }
   ],
   "source": [
    "# Información de Data Frame\n",
    "df.info()"
   ]
  },
  {
   "cell_type": "code",
   "execution_count": 5,
   "metadata": {
    "trusted": false
   },
   "outputs": [
    {
     "data": {
      "text/plain": [
       "16715"
      ]
     },
     "execution_count": 5,
     "metadata": {},
     "output_type": "execute_result"
    }
   ],
   "source": [
    "total_rows = df.shape[0]\n",
    "total_rows"
   ]
  },
  {
   "cell_type": "markdown",
   "metadata": {},
   "source": [
    "Con la información del Data Frame, observé lo siguiente:\n",
    "1. Las columnas Name, Year_of_Release, Genre, Critic_Score, User_Score y Rating contienen valores faltantes.\n",
    "2. La columna Year_of_Release está en formato float, pero debería ser de tipo int, ya que los años no tienen decimales.\n",
    "3. La columna User_Score está en formato object, cuando debería ser de tipo float, porque almacena calificaciones numéricas."
   ]
  },
  {
   "cell_type": "markdown",
   "metadata": {},
   "source": [
    "## Preparar los datos "
   ]
  },
  {
   "cell_type": "code",
   "execution_count": 6,
   "metadata": {
    "trusted": false
   },
   "outputs": [],
   "source": [
    "# Reemplazo de nombres de columnas (minúsculas)\n",
    "df.columns = df.columns.str.lower()"
   ]
  },
  {
   "cell_type": "code",
   "execution_count": 7,
   "metadata": {
    "trusted": false
   },
   "outputs": [],
   "source": [
    "# Convertit los datos en los tipos necesario\n",
    "df['year_of_release'] = pd.to_numeric(df['year_of_release'], errors='coerce')\n",
    "df['user_score'] = pd.to_numeric(df['user_score'], errors='coerce')\n"
   ]
  },
  {
   "cell_type": "markdown",
   "metadata": {},
   "source": [
    "- year_of_release: De texto a tipo numérico (int).Almacena el año de lanzamiento del juego, por lo que debe ser de tipo numérico para facilitar el análisis y el filtrado por años.\n",
    "- user_score: De texto a tipo numérico (float).Almacena puntuaciones decimales dadas por los usuarios, debe ser númerica para realizar el análisis de forma numérica."
   ]
  },
  {
   "cell_type": "markdown",
   "metadata": {},
   "source": [
    "### Valores Ausentes"
   ]
  },
  {
   "cell_type": "code",
   "execution_count": 8,
   "metadata": {
    "trusted": false
   },
   "outputs": [
    {
     "data": {
      "text/plain": [
       "name                  2\n",
       "platform              0\n",
       "year_of_release     269\n",
       "genre                 2\n",
       "na_sales              0\n",
       "eu_sales              0\n",
       "jp_sales              0\n",
       "other_sales           0\n",
       "critic_score       8578\n",
       "user_score         9125\n",
       "rating             6766\n",
       "dtype: int64"
      ]
     },
     "execution_count": 8,
     "metadata": {},
     "output_type": "execute_result"
    }
   ],
   "source": [
    "# Verificar variables con valores asusentes\n",
    "df.isna().sum()\n"
   ]
  },
  {
   "cell_type": "code",
   "execution_count": 9,
   "metadata": {
    "trusted": false
   },
   "outputs": [
    {
     "data": {
      "text/html": [
       "<div>\n",
       "<style scoped>\n",
       "    .dataframe tbody tr th:only-of-type {\n",
       "        vertical-align: middle;\n",
       "    }\n",
       "\n",
       "    .dataframe tbody tr th {\n",
       "        vertical-align: top;\n",
       "    }\n",
       "\n",
       "    .dataframe thead th {\n",
       "        text-align: right;\n",
       "    }\n",
       "</style>\n",
       "<table border=\"1\" class=\"dataframe\">\n",
       "  <thead>\n",
       "    <tr style=\"text-align: right;\">\n",
       "      <th></th>\n",
       "      <th>name</th>\n",
       "      <th>platform</th>\n",
       "      <th>year_of_release</th>\n",
       "      <th>genre</th>\n",
       "      <th>na_sales</th>\n",
       "      <th>eu_sales</th>\n",
       "      <th>jp_sales</th>\n",
       "      <th>other_sales</th>\n",
       "      <th>critic_score</th>\n",
       "      <th>user_score</th>\n",
       "      <th>rating</th>\n",
       "    </tr>\n",
       "  </thead>\n",
       "  <tbody>\n",
       "    <tr>\n",
       "      <th>659</th>\n",
       "      <td>NaN</td>\n",
       "      <td>GEN</td>\n",
       "      <td>1993.0</td>\n",
       "      <td>NaN</td>\n",
       "      <td>1.78</td>\n",
       "      <td>0.53</td>\n",
       "      <td>0.00</td>\n",
       "      <td>0.08</td>\n",
       "      <td>NaN</td>\n",
       "      <td>NaN</td>\n",
       "      <td>NaN</td>\n",
       "    </tr>\n",
       "    <tr>\n",
       "      <th>14244</th>\n",
       "      <td>NaN</td>\n",
       "      <td>GEN</td>\n",
       "      <td>1993.0</td>\n",
       "      <td>NaN</td>\n",
       "      <td>0.00</td>\n",
       "      <td>0.00</td>\n",
       "      <td>0.03</td>\n",
       "      <td>0.00</td>\n",
       "      <td>NaN</td>\n",
       "      <td>NaN</td>\n",
       "      <td>NaN</td>\n",
       "    </tr>\n",
       "  </tbody>\n",
       "</table>\n",
       "</div>"
      ],
      "text/plain": [
       "      name platform  year_of_release genre  na_sales  eu_sales  jp_sales  \\\n",
       "659    NaN      GEN           1993.0   NaN      1.78      0.53      0.00   \n",
       "14244  NaN      GEN           1993.0   NaN      0.00      0.00      0.03   \n",
       "\n",
       "       other_sales  critic_score  user_score rating  \n",
       "659           0.08           NaN         NaN    NaN  \n",
       "14244         0.00           NaN         NaN    NaN  "
      ]
     },
     "execution_count": 9,
     "metadata": {},
     "output_type": "execute_result"
    }
   ],
   "source": [
    "#Valores ausentes de columna name\n",
    "df.query('name.isna() == True')"
   ]
  },
  {
   "cell_type": "code",
   "execution_count": 10,
   "metadata": {
    "trusted": false
   },
   "outputs": [
    {
     "data": {
      "text/html": [
       "<div>\n",
       "<style scoped>\n",
       "    .dataframe tbody tr th:only-of-type {\n",
       "        vertical-align: middle;\n",
       "    }\n",
       "\n",
       "    .dataframe tbody tr th {\n",
       "        vertical-align: top;\n",
       "    }\n",
       "\n",
       "    .dataframe thead th {\n",
       "        text-align: right;\n",
       "    }\n",
       "</style>\n",
       "<table border=\"1\" class=\"dataframe\">\n",
       "  <thead>\n",
       "    <tr style=\"text-align: right;\">\n",
       "      <th></th>\n",
       "      <th>name</th>\n",
       "      <th>platform</th>\n",
       "      <th>year_of_release</th>\n",
       "      <th>genre</th>\n",
       "      <th>na_sales</th>\n",
       "      <th>eu_sales</th>\n",
       "      <th>jp_sales</th>\n",
       "      <th>other_sales</th>\n",
       "      <th>critic_score</th>\n",
       "      <th>user_score</th>\n",
       "      <th>rating</th>\n",
       "    </tr>\n",
       "  </thead>\n",
       "  <tbody>\n",
       "    <tr>\n",
       "      <th>659</th>\n",
       "      <td>NaN</td>\n",
       "      <td>GEN</td>\n",
       "      <td>1993.0</td>\n",
       "      <td>NaN</td>\n",
       "      <td>1.78</td>\n",
       "      <td>0.53</td>\n",
       "      <td>0.00</td>\n",
       "      <td>0.08</td>\n",
       "      <td>NaN</td>\n",
       "      <td>NaN</td>\n",
       "      <td>NaN</td>\n",
       "    </tr>\n",
       "    <tr>\n",
       "      <th>14244</th>\n",
       "      <td>NaN</td>\n",
       "      <td>GEN</td>\n",
       "      <td>1993.0</td>\n",
       "      <td>NaN</td>\n",
       "      <td>0.00</td>\n",
       "      <td>0.00</td>\n",
       "      <td>0.03</td>\n",
       "      <td>0.00</td>\n",
       "      <td>NaN</td>\n",
       "      <td>NaN</td>\n",
       "      <td>NaN</td>\n",
       "    </tr>\n",
       "  </tbody>\n",
       "</table>\n",
       "</div>"
      ],
      "text/plain": [
       "      name platform  year_of_release genre  na_sales  eu_sales  jp_sales  \\\n",
       "659    NaN      GEN           1993.0   NaN      1.78      0.53      0.00   \n",
       "14244  NaN      GEN           1993.0   NaN      0.00      0.00      0.03   \n",
       "\n",
       "       other_sales  critic_score  user_score rating  \n",
       "659           0.08           NaN         NaN    NaN  \n",
       "14244         0.00           NaN         NaN    NaN  "
      ]
     },
     "execution_count": 10,
     "metadata": {},
     "output_type": "execute_result"
    }
   ],
   "source": [
    "#Valores ausentes de columna genre\n",
    "df.query('genre.isna() == True')"
   ]
  },
  {
   "cell_type": "code",
   "execution_count": 11,
   "metadata": {
    "trusted": false
   },
   "outputs": [],
   "source": [
    "#Eliminar columnas name y genre\n",
    "df = df.dropna(subset=['name', 'genre'])"
   ]
  },
  {
   "cell_type": "markdown",
   "metadata": {},
   "source": [
    "En las columnas name y genre faltan 2 valores, lo que indica que no se han registrado el nombre ni el género de dos videojuegos, posiblemente debido a la antigüedad de los mismos, al ser dos valores que tienen NaN en las mismas filas, se eliminan estos valores, porque no son significativos."
   ]
  },
  {
   "cell_type": "code",
   "execution_count": 12,
   "metadata": {
    "trusted": false
   },
   "outputs": [],
   "source": [
    "#Valores ausentes de columna year_of_release\n",
    "df['year_of_release'] = df['year_of_release'].fillna(np.nan)"
   ]
  },
  {
   "cell_type": "markdown",
   "metadata": {},
   "source": [
    "Se mantienen los valores NaN."
   ]
  },
  {
   "cell_type": "code",
   "execution_count": 13,
   "metadata": {
    "trusted": false
   },
   "outputs": [
    {
     "name": "stdout",
     "output_type": "stream",
     "text": [
      "Porcentaje de valores ausentes en la columna \"critic_score\": 51.32 %\n"
     ]
    }
   ],
   "source": [
    "#Valores ausentes de columna critic_score \n",
    "print('Porcentaje de valores ausentes en la columna \"critic_score\":', round(8578/total_rows*100,2),'%')\n",
    "df['critic_score'] = df['critic_score'].fillna(np.nan)\n"
   ]
  },
  {
   "cell_type": "markdown",
   "metadata": {},
   "source": [
    "Las filas con valores ausentes en la columna critic_score constituyen el 51.33 %, por lo que no es viable eliminarlas. Además, no se dispone de suficiente información para asignar un valor representativo sin afectar el análisis.Por lo tanto, se sigue considerando la ausencia de datos en esta columna."
   ]
  },
  {
   "cell_type": "code",
   "execution_count": 14,
   "metadata": {
    "trusted": false
   },
   "outputs": [],
   "source": [
    "#Valores ausentes de columna user_score  \n",
    "#Asignar el valor NAN a los valores ausentes para continuar el análisis sin errores por tipo de dato\n",
    "df['user_score'] = df['user_score'].replace('tbd', np.nan).astype(float)\n",
    "df['user_score'] = df['user_score'].fillna(-1)\n"
   ]
  },
  {
   "cell_type": "code",
   "execution_count": 15,
   "metadata": {
    "trusted": false
   },
   "outputs": [
    {
     "name": "stdout",
     "output_type": "stream",
     "text": [
      "0\n"
     ]
    }
   ],
   "source": [
    "print(df['user_score'].isna().sum())"
   ]
  },
  {
   "cell_type": "markdown",
   "metadata": {},
   "source": [
    "Este código mostrará cuántos valores NaN hay en la columna user_score. Si el reemplazo de 'tbd' fue exitoso, el número de valores NaN debería coincidir con la cantidad de veces que 'tbd' estaba presente en esa columna."
   ]
  },
  {
   "cell_type": "code",
   "execution_count": 16,
   "metadata": {
    "trusted": false
   },
   "outputs": [
    {
     "name": "stdout",
     "output_type": "stream",
     "text": [
      "9123\n"
     ]
    }
   ],
   "source": [
    "# Verificar cuántos valores -1 hay en la columna 'user_score'\n",
    "print((df['user_score'] == -1).sum())"
   ]
  },
  {
   "cell_type": "markdown",
   "metadata": {},
   "source": [
    "Rellena los valores NaN en la columna user_score con -1, lo que representa que la puntuación no ha sido determinada (esto también puede ser útil para hacer análisis sin que los valores ausentes afecten)."
   ]
  },
  {
   "cell_type": "code",
   "execution_count": 17,
   "metadata": {
    "trusted": false
   },
   "outputs": [
    {
     "name": "stdout",
     "output_type": "stream",
     "text": [
      "Porcentaje de valores ausentes en la columna \"rating\": 40.48 %\n"
     ]
    }
   ],
   "source": [
    "#Valores ausentes de columna rating  \n",
    "print('Porcentaje de valores ausentes en la columna \"rating\":', round(6766/total_rows*100,2),'%')"
   ]
  },
  {
   "cell_type": "code",
   "execution_count": 18,
   "metadata": {
    "trusted": false
   },
   "outputs": [
    {
     "data": {
      "text/plain": [
       "E       3990\n",
       "T       2961\n",
       "M       1563\n",
       "E10+    1420\n",
       "EC         8\n",
       "RP         3\n",
       "K-A        3\n",
       "AO         1\n",
       "Name: rating, dtype: int64"
      ]
     },
     "execution_count": 18,
     "metadata": {},
     "output_type": "execute_result"
    }
   ],
   "source": [
    "df['rating'].value_counts()"
   ]
  },
  {
   "cell_type": "code",
   "execution_count": 19,
   "metadata": {
    "trusted": false
   },
   "outputs": [
    {
     "data": {
      "text/plain": [
       "array(['AO', 'E', 'E10+', 'EC', 'K-A', 'M', 'RP', 'T', nan], dtype=object)"
      ]
     },
     "execution_count": 19,
     "metadata": {},
     "output_type": "execute_result"
    }
   ],
   "source": [
    "df['rating'].sort_values().unique()\n"
   ]
  },
  {
   "cell_type": "markdown",
   "metadata": {},
   "source": [
    "La columna rating cuenta con los siquientes valores:\n",
    "\n",
    "- E (todos)\n",
    "- EC (mayores de 3 años) dejó de usarse en 2018 y se reemplazó con E\n",
    "- E10+ (mayores de 10 años)\n",
    "- K-A (mayores de 10 años) dejó de usarse en 1998 y se reemplazó con E10+\n",
    "- T (mayores de 13 años)\n",
    "- M (mayores de 17 años)\n",
    "- A0 (sólo para adultos de 18 años en adelante)\n",
    "- P (pendiente de clasificar)"
   ]
  },
  {
   "cell_type": "code",
   "execution_count": 20,
   "metadata": {
    "trusted": false
   },
   "outputs": [],
   "source": [
    "#Asignar el valor unknown a los valores ausentes\n",
    "df['rating'] = df['rating'].fillna(\"RP\")"
   ]
  },
  {
   "cell_type": "markdown",
   "metadata": {},
   "source": [
    "Se establecen los valores ausentes de la columna rating como RP, es decir, pendiente de clasificar (Rating Pending)"
   ]
  },
  {
   "cell_type": "markdown",
   "metadata": {},
   "source": [
    "### Valores Duplicados "
   ]
  },
  {
   "cell_type": "code",
   "execution_count": 21,
   "metadata": {
    "trusted": false
   },
   "outputs": [
    {
     "name": "stdout",
     "output_type": "stream",
     "text": [
      "Número total de filas duplicadas: 0\n"
     ]
    }
   ],
   "source": [
    "# Contar el número total de filas duplicadas en el DataFrame\n",
    "num_duplicados =df.duplicated().sum()\n",
    "\n",
    "print(f\"Número total de filas duplicadas: {num_duplicados}\")"
   ]
  },
  {
   "cell_type": "markdown",
   "metadata": {},
   "source": [
    "No hay valores duplicados dentro del Data Frame. "
   ]
  },
  {
   "cell_type": "markdown",
   "metadata": {},
   "source": [
    "### Ventas Totales"
   ]
  },
  {
   "cell_type": "code",
   "execution_count": 22,
   "metadata": {
    "trusted": false
   },
   "outputs": [],
   "source": [
    "# Cálculo de ventas totales\n",
    "df['total_sales'] = df['na_sales'] + df['eu_sales'] + df['jp_sales'] + df['other_sales']\n"
   ]
  },
  {
   "cell_type": "code",
   "execution_count": 23,
   "metadata": {
    "trusted": false
   },
   "outputs": [
    {
     "data": {
      "text/html": [
       "<div>\n",
       "<style scoped>\n",
       "    .dataframe tbody tr th:only-of-type {\n",
       "        vertical-align: middle;\n",
       "    }\n",
       "\n",
       "    .dataframe tbody tr th {\n",
       "        vertical-align: top;\n",
       "    }\n",
       "\n",
       "    .dataframe thead th {\n",
       "        text-align: right;\n",
       "    }\n",
       "</style>\n",
       "<table border=\"1\" class=\"dataframe\">\n",
       "  <thead>\n",
       "    <tr style=\"text-align: right;\">\n",
       "      <th></th>\n",
       "      <th>name</th>\n",
       "      <th>platform</th>\n",
       "      <th>year_of_release</th>\n",
       "      <th>genre</th>\n",
       "      <th>na_sales</th>\n",
       "      <th>eu_sales</th>\n",
       "      <th>jp_sales</th>\n",
       "      <th>other_sales</th>\n",
       "      <th>critic_score</th>\n",
       "      <th>user_score</th>\n",
       "      <th>rating</th>\n",
       "      <th>total_sales</th>\n",
       "    </tr>\n",
       "  </thead>\n",
       "  <tbody>\n",
       "    <tr>\n",
       "      <th>0</th>\n",
       "      <td>Wii Sports</td>\n",
       "      <td>Wii</td>\n",
       "      <td>2006.0</td>\n",
       "      <td>Sports</td>\n",
       "      <td>41.36</td>\n",
       "      <td>28.96</td>\n",
       "      <td>3.77</td>\n",
       "      <td>8.45</td>\n",
       "      <td>76.0</td>\n",
       "      <td>8.0</td>\n",
       "      <td>E</td>\n",
       "      <td>82.54</td>\n",
       "    </tr>\n",
       "    <tr>\n",
       "      <th>1</th>\n",
       "      <td>Super Mario Bros.</td>\n",
       "      <td>NES</td>\n",
       "      <td>1985.0</td>\n",
       "      <td>Platform</td>\n",
       "      <td>29.08</td>\n",
       "      <td>3.58</td>\n",
       "      <td>6.81</td>\n",
       "      <td>0.77</td>\n",
       "      <td>NaN</td>\n",
       "      <td>-1.0</td>\n",
       "      <td>RP</td>\n",
       "      <td>40.24</td>\n",
       "    </tr>\n",
       "    <tr>\n",
       "      <th>2</th>\n",
       "      <td>Mario Kart Wii</td>\n",
       "      <td>Wii</td>\n",
       "      <td>2008.0</td>\n",
       "      <td>Racing</td>\n",
       "      <td>15.68</td>\n",
       "      <td>12.76</td>\n",
       "      <td>3.79</td>\n",
       "      <td>3.29</td>\n",
       "      <td>82.0</td>\n",
       "      <td>8.3</td>\n",
       "      <td>E</td>\n",
       "      <td>35.52</td>\n",
       "    </tr>\n",
       "    <tr>\n",
       "      <th>3</th>\n",
       "      <td>Wii Sports Resort</td>\n",
       "      <td>Wii</td>\n",
       "      <td>2009.0</td>\n",
       "      <td>Sports</td>\n",
       "      <td>15.61</td>\n",
       "      <td>10.93</td>\n",
       "      <td>3.28</td>\n",
       "      <td>2.95</td>\n",
       "      <td>80.0</td>\n",
       "      <td>8.0</td>\n",
       "      <td>E</td>\n",
       "      <td>32.77</td>\n",
       "    </tr>\n",
       "    <tr>\n",
       "      <th>4</th>\n",
       "      <td>Pokemon Red/Pokemon Blue</td>\n",
       "      <td>GB</td>\n",
       "      <td>1996.0</td>\n",
       "      <td>Role-Playing</td>\n",
       "      <td>11.27</td>\n",
       "      <td>8.89</td>\n",
       "      <td>10.22</td>\n",
       "      <td>1.00</td>\n",
       "      <td>NaN</td>\n",
       "      <td>-1.0</td>\n",
       "      <td>RP</td>\n",
       "      <td>31.38</td>\n",
       "    </tr>\n",
       "    <tr>\n",
       "      <th>...</th>\n",
       "      <td>...</td>\n",
       "      <td>...</td>\n",
       "      <td>...</td>\n",
       "      <td>...</td>\n",
       "      <td>...</td>\n",
       "      <td>...</td>\n",
       "      <td>...</td>\n",
       "      <td>...</td>\n",
       "      <td>...</td>\n",
       "      <td>...</td>\n",
       "      <td>...</td>\n",
       "      <td>...</td>\n",
       "    </tr>\n",
       "    <tr>\n",
       "      <th>16710</th>\n",
       "      <td>Samurai Warriors: Sanada Maru</td>\n",
       "      <td>PS3</td>\n",
       "      <td>2016.0</td>\n",
       "      <td>Action</td>\n",
       "      <td>0.00</td>\n",
       "      <td>0.00</td>\n",
       "      <td>0.01</td>\n",
       "      <td>0.00</td>\n",
       "      <td>NaN</td>\n",
       "      <td>-1.0</td>\n",
       "      <td>RP</td>\n",
       "      <td>0.01</td>\n",
       "    </tr>\n",
       "    <tr>\n",
       "      <th>16711</th>\n",
       "      <td>LMA Manager 2007</td>\n",
       "      <td>X360</td>\n",
       "      <td>2006.0</td>\n",
       "      <td>Sports</td>\n",
       "      <td>0.00</td>\n",
       "      <td>0.01</td>\n",
       "      <td>0.00</td>\n",
       "      <td>0.00</td>\n",
       "      <td>NaN</td>\n",
       "      <td>-1.0</td>\n",
       "      <td>RP</td>\n",
       "      <td>0.01</td>\n",
       "    </tr>\n",
       "    <tr>\n",
       "      <th>16712</th>\n",
       "      <td>Haitaka no Psychedelica</td>\n",
       "      <td>PSV</td>\n",
       "      <td>2016.0</td>\n",
       "      <td>Adventure</td>\n",
       "      <td>0.00</td>\n",
       "      <td>0.00</td>\n",
       "      <td>0.01</td>\n",
       "      <td>0.00</td>\n",
       "      <td>NaN</td>\n",
       "      <td>-1.0</td>\n",
       "      <td>RP</td>\n",
       "      <td>0.01</td>\n",
       "    </tr>\n",
       "    <tr>\n",
       "      <th>16713</th>\n",
       "      <td>Spirits &amp; Spells</td>\n",
       "      <td>GBA</td>\n",
       "      <td>2003.0</td>\n",
       "      <td>Platform</td>\n",
       "      <td>0.01</td>\n",
       "      <td>0.00</td>\n",
       "      <td>0.00</td>\n",
       "      <td>0.00</td>\n",
       "      <td>NaN</td>\n",
       "      <td>-1.0</td>\n",
       "      <td>RP</td>\n",
       "      <td>0.01</td>\n",
       "    </tr>\n",
       "    <tr>\n",
       "      <th>16714</th>\n",
       "      <td>Winning Post 8 2016</td>\n",
       "      <td>PSV</td>\n",
       "      <td>2016.0</td>\n",
       "      <td>Simulation</td>\n",
       "      <td>0.00</td>\n",
       "      <td>0.00</td>\n",
       "      <td>0.01</td>\n",
       "      <td>0.00</td>\n",
       "      <td>NaN</td>\n",
       "      <td>-1.0</td>\n",
       "      <td>RP</td>\n",
       "      <td>0.01</td>\n",
       "    </tr>\n",
       "  </tbody>\n",
       "</table>\n",
       "<p>16713 rows × 12 columns</p>\n",
       "</div>"
      ],
      "text/plain": [
       "                                name platform  year_of_release         genre  \\\n",
       "0                         Wii Sports      Wii           2006.0        Sports   \n",
       "1                  Super Mario Bros.      NES           1985.0      Platform   \n",
       "2                     Mario Kart Wii      Wii           2008.0        Racing   \n",
       "3                  Wii Sports Resort      Wii           2009.0        Sports   \n",
       "4           Pokemon Red/Pokemon Blue       GB           1996.0  Role-Playing   \n",
       "...                              ...      ...              ...           ...   \n",
       "16710  Samurai Warriors: Sanada Maru      PS3           2016.0        Action   \n",
       "16711               LMA Manager 2007     X360           2006.0        Sports   \n",
       "16712        Haitaka no Psychedelica      PSV           2016.0     Adventure   \n",
       "16713               Spirits & Spells      GBA           2003.0      Platform   \n",
       "16714            Winning Post 8 2016      PSV           2016.0    Simulation   \n",
       "\n",
       "       na_sales  eu_sales  jp_sales  other_sales  critic_score  user_score  \\\n",
       "0         41.36     28.96      3.77         8.45          76.0         8.0   \n",
       "1         29.08      3.58      6.81         0.77           NaN        -1.0   \n",
       "2         15.68     12.76      3.79         3.29          82.0         8.3   \n",
       "3         15.61     10.93      3.28         2.95          80.0         8.0   \n",
       "4         11.27      8.89     10.22         1.00           NaN        -1.0   \n",
       "...         ...       ...       ...          ...           ...         ...   \n",
       "16710      0.00      0.00      0.01         0.00           NaN        -1.0   \n",
       "16711      0.00      0.01      0.00         0.00           NaN        -1.0   \n",
       "16712      0.00      0.00      0.01         0.00           NaN        -1.0   \n",
       "16713      0.01      0.00      0.00         0.00           NaN        -1.0   \n",
       "16714      0.00      0.00      0.01         0.00           NaN        -1.0   \n",
       "\n",
       "      rating  total_sales  \n",
       "0          E        82.54  \n",
       "1         RP        40.24  \n",
       "2          E        35.52  \n",
       "3          E        32.77  \n",
       "4         RP        31.38  \n",
       "...      ...          ...  \n",
       "16710     RP         0.01  \n",
       "16711     RP         0.01  \n",
       "16712     RP         0.01  \n",
       "16713     RP         0.01  \n",
       "16714     RP         0.01  \n",
       "\n",
       "[16713 rows x 12 columns]"
      ]
     },
     "execution_count": 23,
     "metadata": {},
     "output_type": "execute_result"
    }
   ],
   "source": [
    "df"
   ]
  },
  {
   "cell_type": "markdown",
   "metadata": {},
   "source": [
    "## Análisis de Datos "
   ]
  },
  {
   "cell_type": "markdown",
   "metadata": {},
   "source": [
    "### Juegos Lanzados por Año"
   ]
  },
  {
   "cell_type": "code",
   "execution_count": 24,
   "metadata": {
    "trusted": false
   },
   "outputs": [
    {
     "data": {
      "text/plain": [
       "1980.0       9\n",
       "1981.0      46\n",
       "1982.0      36\n",
       "1983.0      17\n",
       "1984.0      14\n",
       "1985.0      14\n",
       "1986.0      21\n",
       "1987.0      16\n",
       "1988.0      15\n",
       "1989.0      17\n",
       "1990.0      16\n",
       "1991.0      41\n",
       "1992.0      43\n",
       "1993.0      60\n",
       "1994.0     121\n",
       "1995.0     219\n",
       "1996.0     263\n",
       "1997.0     289\n",
       "1998.0     379\n",
       "1999.0     338\n",
       "2000.0     350\n",
       "2001.0     482\n",
       "2002.0     829\n",
       "2003.0     775\n",
       "2004.0     762\n",
       "2005.0     939\n",
       "2006.0    1006\n",
       "2007.0    1197\n",
       "2008.0    1427\n",
       "2009.0    1426\n",
       "2010.0    1255\n",
       "2011.0    1136\n",
       "2012.0     653\n",
       "2013.0     544\n",
       "2014.0     581\n",
       "2015.0     606\n",
       "2016.0     502\n",
       "Name: year_of_release, dtype: int64"
      ]
     },
     "execution_count": 24,
     "metadata": {},
     "output_type": "execute_result"
    }
   ],
   "source": [
    "lanzamientos_por_año = df['year_of_release'].value_counts().sort_index()\n",
    "lanzamientos_por_año"
   ]
  },
  {
   "cell_type": "code",
   "execution_count": 25,
   "metadata": {
    "trusted": false
   },
   "outputs": [
    {
     "data": {
      "image/png": "[encoded data removed]",
      "text/plain": [
       "<Figure size 1200x600 with 1 Axes>"
      ]
     },
     "metadata": {},
     "output_type": "display_data"
    }
   ],
   "source": [
    "#Realizamos un gráfico de barras para determinar la significancia.\n",
    "plt.figure(figsize=(12, 6))\n",
    "lanzamientos_por_año.plot(kind='bar', color='green', alpha=0.7)\n",
    "plt.title('Cantidad de Juegos Lanzados por Año')\n",
    "plt.xlabel('Año')\n",
    "plt.ylabel('Cantidad de Juegos')\n",
    "plt.grid(axis='y', linestyle='--', alpha=0.7)\n",
    "plt.show()"
   ]
  },
  {
   "cell_type": "markdown",
   "metadata": {},
   "source": [
    "Según el gráfico de barras, hay un aumento significativo d elos juegos desde el año 2005, la racha se mantiene hasta el año 2011, la mayor cantidad de juegos lanzados fueron en los años 2008 y 2009."
   ]
  },
  {
   "cell_type": "markdown",
   "metadata": {},
   "source": [
    "### Ventas por Plataforma"
   ]
  },
  {
   "cell_type": "markdown",
   "metadata": {},
   "source": [
    "#### Plataformas con mayores ventas totales"
   ]
  },
  {
   "cell_type": "code",
   "execution_count": 26,
   "metadata": {
    "trusted": false
   },
   "outputs": [
    {
     "data": {
      "text/plain": [
       "platform\n",
       "PS2     1255.77\n",
       "X360     971.42\n",
       "PS3      939.65\n",
       "Wii      907.51\n",
       "DS       806.12\n",
       "PS       730.86\n",
       "GBA      317.85\n",
       "PS4      314.14\n",
       "PSP      294.05\n",
       "PC       259.52\n",
       "3DS      259.00\n",
       "XB       257.74\n",
       "GB       255.46\n",
       "NES      251.05\n",
       "N64      218.68\n",
       "SNES     200.04\n",
       "GC       198.93\n",
       "XOne     159.32\n",
       "2600      96.98\n",
       "WiiU      82.19\n",
       "PSV       54.07\n",
       "SAT       33.59\n",
       "GEN       28.35\n",
       "DC        15.95\n",
       "SCD        1.86\n",
       "NG         1.44\n",
       "WS         1.42\n",
       "TG16       0.16\n",
       "3DO        0.10\n",
       "GG         0.04\n",
       "PCFX       0.03\n",
       "Name: total_sales, dtype: float64"
      ]
     },
     "execution_count": 26,
     "metadata": {},
     "output_type": "execute_result"
    }
   ],
   "source": [
    "ventas_por_plataforma = df.groupby('platform')['total_sales'].sum().sort_values(ascending=False)\n",
    "ventas_por_plataforma"
   ]
  },
  {
   "cell_type": "code",
   "execution_count": 27,
   "metadata": {
    "trusted": false
   },
   "outputs": [
    {
     "name": "stdout",
     "output_type": "stream",
     "text": [
      "platform\n",
      "PS2     1255.77\n",
      "X360     971.42\n",
      "PS3      939.65\n",
      "Wii      907.51\n",
      "DS       806.12\n",
      "Name: total_sales, dtype: float64\n"
     ]
    }
   ],
   "source": [
    "# Filtrar solo los primeros 5 valores (plataformas con mayores ventas)\n",
    "top_5_plataformas = ventas_por_plataforma.head(5)\n",
    "# Mostrar el resultado\n",
    "print(top_5_plataformas)"
   ]
  },
  {
   "cell_type": "markdown",
   "metadata": {},
   "source": [
    "Las plataformas con mayores ventas son: PS2,X360,PS3,Wii,DS , en base a estas plataformas realizaremos visulizaciones de su comportamiento a lo largo de los años para su análisis.    "
   ]
  },
  {
   "cell_type": "markdown",
   "metadata": {},
   "source": [
    "### Ventas por año de cada Plataforma"
   ]
  },
  {
   "cell_type": "code",
   "execution_count": 28,
   "metadata": {
    "trusted": false
   },
   "outputs": [
    {
     "data": {
      "image/png": "[encoded data removed]",
      "text/plain": [
       "<Figure size 1200x600 with 1 Axes>"
      ]
     },
     "metadata": {},
     "output_type": "display_data"
    }
   ],
   "source": [
    "# Filtrar los datos para incluir solo las plataformas del top 5\n",
    "ventas_top_5_plataformas = df[df['platform'].isin(top_5_plataformas.index)]\n",
    "\n",
    "# Agrupar por plataforma y año, sumando las ventas\n",
    "ventas_plataformas_por_año = ventas_top_5_plataformas.groupby(['platform', 'year_of_release'])['total_sales'].sum().reset_index()\n",
    "\n",
    "# Crear el gráfico de líneas\n",
    "plt.figure(figsize=(12, 6))\n",
    "\n",
    "# Graficar las ventas por plataforma a lo largo de los años\n",
    "for plataforma in top_5_plataformas.index:\n",
    "    plataforma_data = ventas_plataformas_por_año[ventas_plataformas_por_año['platform'] == plataforma]\n",
    "    plt.plot(plataforma_data['year_of_release'], plataforma_data['total_sales'], marker='o', label=plataforma)\n",
    "\n",
    "# Personalizar el gráfico\n",
    "plt.title('Ventas Totales por Plataforma a lo Largo de los Años', fontsize=14)\n",
    "plt.xlabel('Año de Lanzamiento', fontsize=12)\n",
    "plt.ylabel('Ventas Totales (en millones)', fontsize=12)\n",
    "plt.xticks(rotation=45, fontsize=10)\n",
    "plt.grid(axis='y', linestyle='--', alpha=0.7)\n",
    "plt.legend(title=\"Plataformas\", bbox_to_anchor=(1.05, 1), loc='upper left', fontsize=10)\n",
    "plt.tight_layout()\n",
    "\n",
    "# Mostrar el gráfico\n",
    "plt.show()\n"
   ]
  },
  {
   "cell_type": "markdown",
   "metadata": {},
   "source": [
    "Según los datos, de las plataformas top 5 la única que existia a partir de 1985 (DS) tuvo su auge desde el 2004, pero sus ventas fueron disminuyendo y no llega al 2015, a pesar de ser una de las primeras plataformas que aparece. La plataforma que mayores ventas ha tenido y por ende la más popular es (PS2), pero de igual forma con los años fue en declive. Las únicas plataformas dentro de este top 5 que se han mantenido en el mercado son Wii, PS3 y X360."
   ]
  },
  {
   "cell_type": "markdown",
   "metadata": {},
   "source": [
    "### Plataformas activas y desaparecidas"
   ]
  },
  {
   "cell_type": "code",
   "execution_count": 29,
   "metadata": {
    "trusted": false
   },
   "outputs": [
    {
     "name": "stdout",
     "output_type": "stream",
     "text": [
      "Plataformas desaparecidas:\n",
      "   platform  inicio_ventas  fin_ventas  años_duracion  desaparecida\n",
      "19      PSP           2004        2015             12          True\n",
      "4        DS           1985        2013             29          True\n",
      "16      PS2           2000        2011             12          True\n",
      "29       XB           2000        2008              9          True\n",
      "3        DC           1998        2008             11          True\n",
      "6       GBA           2000        2007              8          True\n",
      "7        GC           2001        2007              7          True\n",
      "15       PS           1994        2003             10          True\n",
      "10      N64           1996        2002              7          True\n",
      "5        GB           1988        2001             14          True\n",
      "25       WS           1999        2001              3          True\n",
      "23     SNES           1990        1999             10          True\n",
      "21      SAT           1994        1999              6          True\n",
      "12       NG           1993        1996              4          True\n",
      "14     PCFX           1996        1996              1          True\n",
      "1       3DO           1994        1995              2          True\n",
      "24     TG16           1995        1995              1          True\n",
      "11      NES           1983        1994             12          True\n",
      "22      SCD           1993        1994              2          True\n",
      "8       GEN           1990        1994              5          True\n",
      "9        GG           1992        1992              1          True\n",
      "0      2600           1980        1989             10          True\n",
      "\n",
      "Plataformas activas:\n",
      "  platform  inicio_ventas  fin_ventas  años_duracion  desaparecida  \\\n",
      "7     X360           2005        2016             12         False   \n",
      "2      PS3           2006        2016             11         False   \n",
      "5      Wii           2006        2016             11         False   \n",
      "3      PS4           2013        2016              4         False   \n",
      "0      3DS           2011        2016              6         False   \n",
      "1       PC           1985        2016             32         False   \n",
      "8     XOne           2013        2016              4         False   \n",
      "6     WiiU           2012        2016              5         False   \n",
      "4      PSV           2011        2016              6         False   \n",
      "\n",
      "   total_sales  \n",
      "7       961.24  \n",
      "2       931.34  \n",
      "5       891.18  \n",
      "3       314.14  \n",
      "0       257.81  \n",
      "1       255.76  \n",
      "8       159.32  \n",
      "6        82.19  \n",
      "4        53.81  \n"
     ]
    }
   ],
   "source": [
    "# Agrupar por plataforma y año, sumando las ventas de cada año\n",
    "ventas_plataformas_por_año = df.groupby(['platform', 'year_of_release'])['total_sales'].sum().reset_index()\n",
    "\n",
    "# Calcular el año de inicio y fin de ventas para cada plataforma\n",
    "años_ventas_plataformas = ventas_plataformas_por_año.groupby('platform').agg(\n",
    "    inicio_ventas=('year_of_release', 'min'),\n",
    "    fin_ventas=('year_of_release', 'max')\n",
    ").reset_index()\n",
    "\n",
    "# Eliminar decimales de los años (convertir a enteros)\n",
    "años_ventas_plataformas['inicio_ventas'] = años_ventas_plataformas['inicio_ventas'].astype(int)\n",
    "años_ventas_plataformas['fin_ventas'] = años_ventas_plataformas['fin_ventas'].astype(int)\n",
    "\n",
    "# Calcular la duración en años\n",
    "años_ventas_plataformas['años_duracion'] = años_ventas_plataformas['fin_ventas'] - años_ventas_plataformas['inicio_ventas'] + 1\n",
    "\n",
    "# Revisar plataformas que ya no tienen ventas en los últimos años\n",
    "ultimo_año = int(df['year_of_release'].max())\n",
    "años_ventas_plataformas['desaparecida'] = años_ventas_plataformas['fin_ventas'] < ultimo_año\n",
    "\n",
    "# Separar plataformas desaparecidas y no desaparecidas\n",
    "plataformas_desaparecidas = años_ventas_plataformas[años_ventas_plataformas['desaparecida'] == True]\n",
    "plataformas_activas = años_ventas_plataformas[años_ventas_plataformas['desaparecida'] == False]\n",
    "\n",
    "# Calcular las ventas totales de cada plataforma\n",
    "ventas_totales_por_plataforma = ventas_plataformas_por_año.groupby('platform')['total_sales'].sum().reset_index()\n",
    "\n",
    "# Añadir la columna de ventas totales al DataFrame de plataformas activas\n",
    "plataformas_activas = plataformas_activas.merge(ventas_totales_por_plataforma, on='platform')\n",
    "\n",
    "# Ordenar las plataformas activas por ventas totales en orden descendente\n",
    "plataformas_activas = plataformas_activas.sort_values(by='total_sales', ascending=False)\n",
    "\n",
    "# Ordenar las plataformas desaparecidas por el año de fin de ventas en orden descendente\n",
    "plataformas_desaparecidas = plataformas_desaparecidas.sort_values(by='fin_ventas', ascending=False)\n",
    "\n",
    "# Mostrar los resultados\n",
    "print(\"Plataformas desaparecidas:\")\n",
    "print(plataformas_desaparecidas)\n",
    "\n",
    "print(\"\\nPlataformas activas:\")\n",
    "print(plataformas_activas)\n"
   ]
  },
  {
   "cell_type": "code",
   "execution_count": 30,
   "metadata": {
    "trusted": false
   },
   "outputs": [
    {
     "name": "stdout",
     "output_type": "stream",
     "text": [
      "El promedio de duración de las plataformas desaparecidas es de 8.00 años.\n"
     ]
    }
   ],
   "source": [
    "# Calcular el promedio de duración de las plataformas desaparecidas\n",
    "promedio_duracion_desaparecidas = plataformas_desaparecidas['años_duracion'].mean()\n",
    "print(f\"El promedio de duración de las plataformas desaparecidas es de {promedio_duracion_desaparecidas:.2f} años.\")\n"
   ]
  },
  {
   "cell_type": "markdown",
   "metadata": {},
   "source": [
    "- **¿Cuánto tardan las nuevas plataformas en aparecer?**\n",
    "La primera plataforma en los datos apareció en 1980 (2600).Desde entonces, nuevas plataformas han aparecido regularmente, con un promedio de aproximadamente 1 a 2 años entre la llegada de una plataforma nueva y la siguiente.\n",
    "\n",
    "- **¿Cuánto tardan las plataformas antiguas en desaparecer?**\n",
    "Calculamos la duración promedio (columna años_duracion) de las plataformas desaparecidas:\n",
    "La duración promedio es de 8 años.Las plataformas más longevas incluyen:DS: 29 años (1985–2013).PCFX y TG16 tuvieron las vidas más cortas, de apenas 1 año.\n",
    "\n",
    "La mayoría de las plataformas que ya no están activas duraron menos de 10 años. Las plataformas activas muestran que los ciclos de renovación se están haciendo más cortos en comparación con las plataformas más antiguas las nuevas plataformas suelen aparecer en promedio cada 1-2 años. Plataformas antiguas generalmente tardan unos 8 años en desaparecer desde su lanzamiento, lo que indica un ciclo de vida estándar para muchas plataformas en el mercado de videojuegos."
   ]
  },
  {
   "cell_type": "markdown",
   "metadata": {},
   "source": [
    "### Construcción modelo 2017"
   ]
  },
  {
   "cell_type": "markdown",
   "metadata": {},
   "source": [
    "Para la construcción de este modelo se debería tomar las plataformas que se encuentran activas hasta el año 2016, que es hasta el año donde se encuentran los registros en este DataFrame, conforme al análisis realizado hasta ahora considero que se debería realizar la proyección desde el periódo 2005 a 2016, porque en el año 2005 aparece la plataforma X360 y es la que tiene  el mayor nivel de ventas $ 961.24 millones de dólares, sin embargo para asegurar este periodo veamos que niveles alcanzó esta plataforma en este periodo (2005-2016)para ver si son ventas significativas, de otro modo podemos optar por un periodo más actualizado, para mejorar la calidad del análisis. "
   ]
  },
  {
   "cell_type": "code",
   "execution_count": 31,
   "metadata": {
    "trusted": false
   },
   "outputs": [
    {
     "name": "stdout",
     "output_type": "stream",
     "text": [
      "Promedio de ventas de X360 entre 2005 y 2016: 0.7802272727272729\n",
      "Desviación estándar de las ventas de X360 entre 2005 y 2016: 1.6321223434284788\n",
      "El primer año en que las ventas de X360 superan el promedio más 1 desviación estándar es: 2006.0\n"
     ]
    }
   ],
   "source": [
    "# Filtrar los datos para la plataforma X360 y años entre 2005 y 2016\n",
    "ventas_x360 = df[(df['platform'] == 'X360') & (df['year_of_release'] >= 2005) & (df['year_of_release'] <= 2016)]\n",
    "\n",
    "# Calcular el promedio de ventas y la desviación estándar\n",
    "promedio_ventas = ventas_x360['total_sales'].mean()\n",
    "desviacion_estandar = ventas_x360['total_sales'].std()\n",
    "\n",
    "# Mostrar el promedio de ventas y la desviación estándar\n",
    "print(f\"Promedio de ventas de X360 entre 2005 y 2016: {promedio_ventas}\")\n",
    "print(f\"Desviación estándar de las ventas de X360 entre 2005 y 2016: {desviacion_estandar}\")\n",
    "\n",
    "# Definir un umbral como el promedio más 1 desviación estándar\n",
    "umbral_superior = promedio_ventas + desviacion_estandar\n",
    "\n",
    "# Identificar los años en que las ventas superan el umbral\n",
    "años_significativos = ventas_x360[ventas_x360['total_sales'] > umbral_superior]\n",
    "\n",
    "# Mostrar el primer año en que las ventas superan el umbral\n",
    "primer_año_significativo = años_significativos['year_of_release'].min()\n",
    "print(f\"El primer año en que las ventas de X360 superan el promedio más 1 desviación estándar es: {primer_año_significativo}\")\n"
   ]
  },
  {
   "cell_type": "markdown",
   "metadata": {},
   "source": [
    "Se realizaron los siguientes pasos para determinar estos datos: \n",
    "1. Calcular el promedio de ventas (media) de X360 durante el periodo de 2005 a 2016.\n",
    "2. Calcular la desviación estándar de las ventas de X360 en el mismo período.\n",
    "3. Comparar las ventas de cada año con el promedio, sumando la desviación estándar para definir qué es \"significativo\".\n",
    "Identificar el primer año significativo, es decir, el primer año en que las ventas superan el promedio + (desviación estándar).Este año fue el 2006 así que nuestro periódo de análisis se tomará de 2006 a 2016, con las plataformas que se encuentran activas."
   ]
  },
  {
   "cell_type": "markdown",
   "metadata": {},
   "source": [
    "#### Plataformas Líderes en Ventas "
   ]
  },
  {
   "cell_type": "markdown",
   "metadata": {},
   "source": [
    "Se toma en cuenta el periodo ya establecido y se filtran los datos."
   ]
  },
  {
   "cell_type": "code",
   "execution_count": 32,
   "metadata": {
    "trusted": false
   },
   "outputs": [
    {
     "name": "stdout",
     "output_type": "stream",
     "text": [
      "Plataformas activas entre 2006 y 2016:\n",
      "  platform  inicio_ventas  fin_ventas\n",
      "2      PS3           2006        2016\n",
      "5      Wii           2006        2016\n",
      "3      PS4           2013        2016\n",
      "0      3DS           2011        2016\n",
      "8     XOne           2013        2016\n",
      "6     WiiU           2012        2016\n",
      "4      PSV           2011        2016\n",
      "\n",
      "Plataformas líderes en ventas entre 2006 y 2016 :\n",
      "  platform  total_sales\n",
      "1      PS3       931.34\n",
      "4      Wii       891.18\n",
      "2      PS4       314.14\n",
      "0      3DS       257.81\n",
      "6     XOne       159.32\n",
      "5     WiiU        82.19\n",
      "3      PSV        53.81\n"
     ]
    }
   ],
   "source": [
    "# Filtrar las plataformas que hayan tenido ventas en algún momento entre 2006 y 2016\n",
    "plataformas_activas_2006_2016 = plataformas_activas[\n",
    "    (plataformas_activas['inicio_ventas']>= 2006 ) & (plataformas_activas['fin_ventas']<= 2016)\n",
    "]\n",
    "\n",
    "# Verificar los datos después del filtrado\n",
    "print(\"Plataformas activas entre 2006 y 2016:\")\n",
    "print(plataformas_activas_2006_2016[['platform', 'inicio_ventas', 'fin_ventas']])\n",
    "\n",
    "# Filtrar y agrupar por plataforma, sumando las ventas totales\n",
    "# Asegúrate de que la columna 'total_sales' exista en el DataFrame\n",
    "plataformas_lideres = plataformas_activas_2006_2016.groupby('platform')['total_sales'].sum().reset_index()\n",
    "\n",
    "# Ordenar las plataformas por ventas totales de mayor a menor (ventas descendentes)\n",
    "plataformas_lideres = plataformas_lideres.sort_values(by='total_sales', ascending=False)\n",
    "\n",
    "# Mostrar las plataformas líderes en ventas ordenadas de mayor a menor\n",
    "print(\"\\nPlataformas líderes en ventas entre 2006 y 2016 :\")\n",
    "print(plataformas_lideres)\n"
   ]
  },
  {
   "cell_type": "markdown",
   "metadata": {},
   "source": [
    "Las plataformas líderes en ventas son PS3, Wii, PS4, 3DS, X0ne, estos conforman el top 5. "
   ]
  },
  {
   "cell_type": "markdown",
   "metadata": {},
   "source": [
    "#### Plaformas que crecen y decrecen"
   ]
  },
  {
   "cell_type": "code",
   "execution_count": 33,
   "metadata": {
    "trusted": false
   },
   "outputs": [
    {
     "name": "stdout",
     "output_type": "stream",
     "text": [
      "    year_of_release platform  total_sales\n",
      "0            2006.0       PC         2.85\n",
      "1            2006.0      PS3        20.96\n",
      "2            2006.0      Wii       137.15\n",
      "3            2006.0     X360        51.62\n",
      "4            2007.0       PC         9.28\n",
      "..              ...      ...          ...\n",
      "64           2016.0      PSV         4.25\n",
      "65           2016.0      Wii         0.18\n",
      "66           2016.0     WiiU         4.60\n",
      "67           2016.0     X360         1.52\n",
      "68           2016.0     XOne        26.15\n",
      "\n",
      "[69 rows x 3 columns]\n"
     ]
    }
   ],
   "source": [
    "# Filtrar las plataformas activas\n",
    "plataformas_activas_nombres = plataformas_activas['platform']\n",
    "\n",
    "# Filtrar el DataFrame original para incluir solo las plataformas activas y los años de 2006 a 2016\n",
    "df_filtered = df[(df['year_of_release'] >= 2006) & (df['year_of_release'] <= 2016) & (df['platform'].isin(plataformas_activas_nombres))]\n",
    "\n",
    "# Agrupar por año y plataforma, sumando las ventas totales\n",
    "df_ventas_totales = df_filtered.groupby(['year_of_release', 'platform'])['total_sales'].sum().reset_index()\n",
    "\n",
    "# Ordenar los resultados por año y plataforma para claridad\n",
    "df_ventas_totales = df_ventas_totales.sort_values(by=['year_of_release', 'platform'])\n",
    "\n",
    "# Mostrar las ventas totales por plataforma y por año\n",
    "print(df_ventas_totales)\n"
   ]
  },
  {
   "cell_type": "code",
   "execution_count": 34,
   "metadata": {
    "trusted": false
   },
   "outputs": [
    {
     "name": "stdout",
     "output_type": "stream",
     "text": [
      "  platform  sales_difference growth_status\n",
      "0      3DS            -48.06      Decreció\n",
      "1       PC              2.40        Creció\n",
      "2      PS3            -17.36      Decreció\n",
      "3      PS4             43.26        Creció\n",
      "4      PSV             -0.38      Decreció\n",
      "5      Wii           -136.97      Decreció\n",
      "6     WiiU            -12.96      Decreció\n",
      "7     X360            -50.10      Decreció\n",
      "8     XOne              7.19        Creció\n"
     ]
    }
   ],
   "source": [
    "# Calcular la diferencia de ventas entre el primer y el último año para cada plataforma\n",
    "df_ventas_totales_first_last = df_ventas_totales.groupby('platform').agg(\n",
    "    first_year_sales=('total_sales', 'first'),  # Ventas del primer año\n",
    "    last_year_sales=('total_sales', 'last')    # Ventas del último año\n",
    ").reset_index()\n",
    "\n",
    "# Calcular la diferencia de ventas\n",
    "df_ventas_totales_first_last['sales_difference'] = df_ventas_totales_first_last['last_year_sales'] - df_ventas_totales_first_last['first_year_sales']\n",
    "\n",
    "# Determinar si las ventas han crecido o decrecido\n",
    "df_ventas_totales_first_last['growth_status'] = df_ventas_totales_first_last['sales_difference'].apply(\n",
    "    lambda x: 'Creció' if x > 0 else ('Decreció' if x < 0 else 'Estable')\n",
    ")\n",
    "\n",
    "# Mostrar las plataformas con su diferencia de ventas y el estado de crecimiento\n",
    "print(df_ventas_totales_first_last[['platform', 'sales_difference', 'growth_status']])\n"
   ]
  },
  {
   "cell_type": "markdown",
   "metadata": {},
   "source": [
    "Las plataformas más modernas, como PS4 y XOne, han demostrado un crecimiento constante durante el período 2006-2016, lo que refleja una preferencia por las consolas de nueva generación que ofrecen mejor rendimiento y una experiencia de juego más avanzada. Las plataformas más antiguas o menos innovadoras, como la Wii y la PS3, han experimentado un declive considerable, lo que es esperado debido al ciclo de vida de los productos y el reemplazo por nuevas generaciones.\n",
    "Las plataformas portátiles como 3DS y PSV también han mostrado caídas. \n",
    "\n",
    "- 3DS (Decreció): La 3DS experimentó una caída significativa de 48.06 millones de dólares. \n",
    "- PS3 (Decreció): La PS3 mostró una disminución de 17.36 millones de dólares. Aunque la PS3 fue una plataforma muy exitosa durante su vida útil, el declive en ventas es esperable después del lanzamiento de su sucesora, la PS4, que atrajo la atención del público y de los desarrolladores de videojuegos.\n",
    "- PSV (Decreció): La PS Vita sufrió una ligera caída en ventas con 0.38 millones de dólares. La PS Vita, una consola portátil de Sony, tuvo problemas para competir con otras plataformas portátiles y no logró captar tanto mercado, lo que se refleja en el decrecimiento.\n",
    "- Wii (Decreció): La Wii, aunque fue extremadamente popular en su tiempo, experimentó una caída drástica de 136.97 millones de dólares. Este declive es comprensible dado que fue reemplazada por la Wii U, y más tarde por consolas más potentes.\n",
    "- WiiU (Decreció): La Wii U también mostró una caída de 12.96 millones de dólares. La Wii U fue un fracaso comercial comparado con su predecesora, la Wii, debido a su limitada base de jugadores y la confusión sobre su nombre, lo que afectó negativamente las ventas.\n",
    "- X360 (Decreció): La Xbox 360 mostró una disminución significativa de 50.10 millones de dólares. Similar a la PS3, el lanzamiento de la Xbox One probablemente contribuyó a este decrecimiento, ya que los jugadores migraron a la nueva consola más moderna."
   ]
  },
  {
   "cell_type": "markdown",
   "metadata": {},
   "source": [
    "#### Plataformas a nivel global"
   ]
  },
  {
   "cell_type": "markdown",
   "metadata": {},
   "source": [
    "Primero filtramos la base completa de nuestro interés que son las plataformasa activas del periodo 2006 al 2016. "
   ]
  },
  {
   "cell_type": "code",
   "execution_count": 35,
   "metadata": {
    "trusted": false
   },
   "outputs": [
    {
     "data": {
      "text/html": [
       "<div>\n",
       "<style scoped>\n",
       "    .dataframe tbody tr th:only-of-type {\n",
       "        vertical-align: middle;\n",
       "    }\n",
       "\n",
       "    .dataframe tbody tr th {\n",
       "        vertical-align: top;\n",
       "    }\n",
       "\n",
       "    .dataframe thead th {\n",
       "        text-align: right;\n",
       "    }\n",
       "</style>\n",
       "<table border=\"1\" class=\"dataframe\">\n",
       "  <thead>\n",
       "    <tr style=\"text-align: right;\">\n",
       "      <th></th>\n",
       "      <th>name</th>\n",
       "      <th>platform</th>\n",
       "      <th>year_of_release</th>\n",
       "      <th>genre</th>\n",
       "      <th>na_sales</th>\n",
       "      <th>eu_sales</th>\n",
       "      <th>jp_sales</th>\n",
       "      <th>other_sales</th>\n",
       "      <th>critic_score</th>\n",
       "      <th>user_score</th>\n",
       "      <th>rating</th>\n",
       "      <th>total_sales</th>\n",
       "    </tr>\n",
       "  </thead>\n",
       "  <tbody>\n",
       "    <tr>\n",
       "      <th>0</th>\n",
       "      <td>Wii Sports</td>\n",
       "      <td>Wii</td>\n",
       "      <td>2006.0</td>\n",
       "      <td>Sports</td>\n",
       "      <td>41.36</td>\n",
       "      <td>28.96</td>\n",
       "      <td>3.77</td>\n",
       "      <td>8.45</td>\n",
       "      <td>76.0</td>\n",
       "      <td>8.0</td>\n",
       "      <td>E</td>\n",
       "      <td>82.54</td>\n",
       "    </tr>\n",
       "    <tr>\n",
       "      <th>2</th>\n",
       "      <td>Mario Kart Wii</td>\n",
       "      <td>Wii</td>\n",
       "      <td>2008.0</td>\n",
       "      <td>Racing</td>\n",
       "      <td>15.68</td>\n",
       "      <td>12.76</td>\n",
       "      <td>3.79</td>\n",
       "      <td>3.29</td>\n",
       "      <td>82.0</td>\n",
       "      <td>8.3</td>\n",
       "      <td>E</td>\n",
       "      <td>35.52</td>\n",
       "    </tr>\n",
       "    <tr>\n",
       "      <th>3</th>\n",
       "      <td>Wii Sports Resort</td>\n",
       "      <td>Wii</td>\n",
       "      <td>2009.0</td>\n",
       "      <td>Sports</td>\n",
       "      <td>15.61</td>\n",
       "      <td>10.93</td>\n",
       "      <td>3.28</td>\n",
       "      <td>2.95</td>\n",
       "      <td>80.0</td>\n",
       "      <td>8.0</td>\n",
       "      <td>E</td>\n",
       "      <td>32.77</td>\n",
       "    </tr>\n",
       "    <tr>\n",
       "      <th>7</th>\n",
       "      <td>Wii Play</td>\n",
       "      <td>Wii</td>\n",
       "      <td>2006.0</td>\n",
       "      <td>Misc</td>\n",
       "      <td>13.96</td>\n",
       "      <td>9.18</td>\n",
       "      <td>2.93</td>\n",
       "      <td>2.84</td>\n",
       "      <td>58.0</td>\n",
       "      <td>6.6</td>\n",
       "      <td>E</td>\n",
       "      <td>28.91</td>\n",
       "    </tr>\n",
       "    <tr>\n",
       "      <th>8</th>\n",
       "      <td>New Super Mario Bros. Wii</td>\n",
       "      <td>Wii</td>\n",
       "      <td>2009.0</td>\n",
       "      <td>Platform</td>\n",
       "      <td>14.44</td>\n",
       "      <td>6.94</td>\n",
       "      <td>4.70</td>\n",
       "      <td>2.24</td>\n",
       "      <td>87.0</td>\n",
       "      <td>8.4</td>\n",
       "      <td>E</td>\n",
       "      <td>28.32</td>\n",
       "    </tr>\n",
       "    <tr>\n",
       "      <th>...</th>\n",
       "      <td>...</td>\n",
       "      <td>...</td>\n",
       "      <td>...</td>\n",
       "      <td>...</td>\n",
       "      <td>...</td>\n",
       "      <td>...</td>\n",
       "      <td>...</td>\n",
       "      <td>...</td>\n",
       "      <td>...</td>\n",
       "      <td>...</td>\n",
       "      <td>...</td>\n",
       "      <td>...</td>\n",
       "    </tr>\n",
       "    <tr>\n",
       "      <th>16707</th>\n",
       "      <td>Aiyoku no Eustia</td>\n",
       "      <td>PSV</td>\n",
       "      <td>2014.0</td>\n",
       "      <td>Misc</td>\n",
       "      <td>0.00</td>\n",
       "      <td>0.00</td>\n",
       "      <td>0.01</td>\n",
       "      <td>0.00</td>\n",
       "      <td>NaN</td>\n",
       "      <td>-1.0</td>\n",
       "      <td>RP</td>\n",
       "      <td>0.01</td>\n",
       "    </tr>\n",
       "    <tr>\n",
       "      <th>16710</th>\n",
       "      <td>Samurai Warriors: Sanada Maru</td>\n",
       "      <td>PS3</td>\n",
       "      <td>2016.0</td>\n",
       "      <td>Action</td>\n",
       "      <td>0.00</td>\n",
       "      <td>0.00</td>\n",
       "      <td>0.01</td>\n",
       "      <td>0.00</td>\n",
       "      <td>NaN</td>\n",
       "      <td>-1.0</td>\n",
       "      <td>RP</td>\n",
       "      <td>0.01</td>\n",
       "    </tr>\n",
       "    <tr>\n",
       "      <th>16711</th>\n",
       "      <td>LMA Manager 2007</td>\n",
       "      <td>X360</td>\n",
       "      <td>2006.0</td>\n",
       "      <td>Sports</td>\n",
       "      <td>0.00</td>\n",
       "      <td>0.01</td>\n",
       "      <td>0.00</td>\n",
       "      <td>0.00</td>\n",
       "      <td>NaN</td>\n",
       "      <td>-1.0</td>\n",
       "      <td>RP</td>\n",
       "      <td>0.01</td>\n",
       "    </tr>\n",
       "    <tr>\n",
       "      <th>16712</th>\n",
       "      <td>Haitaka no Psychedelica</td>\n",
       "      <td>PSV</td>\n",
       "      <td>2016.0</td>\n",
       "      <td>Adventure</td>\n",
       "      <td>0.00</td>\n",
       "      <td>0.00</td>\n",
       "      <td>0.01</td>\n",
       "      <td>0.00</td>\n",
       "      <td>NaN</td>\n",
       "      <td>-1.0</td>\n",
       "      <td>RP</td>\n",
       "      <td>0.01</td>\n",
       "    </tr>\n",
       "    <tr>\n",
       "      <th>16714</th>\n",
       "      <td>Winning Post 8 2016</td>\n",
       "      <td>PSV</td>\n",
       "      <td>2016.0</td>\n",
       "      <td>Simulation</td>\n",
       "      <td>0.00</td>\n",
       "      <td>0.00</td>\n",
       "      <td>0.01</td>\n",
       "      <td>0.00</td>\n",
       "      <td>NaN</td>\n",
       "      <td>-1.0</td>\n",
       "      <td>RP</td>\n",
       "      <td>0.01</td>\n",
       "    </tr>\n",
       "  </tbody>\n",
       "</table>\n",
       "<p>6309 rows × 12 columns</p>\n",
       "</div>"
      ],
      "text/plain": [
       "                                name platform  year_of_release       genre  \\\n",
       "0                         Wii Sports      Wii           2006.0      Sports   \n",
       "2                     Mario Kart Wii      Wii           2008.0      Racing   \n",
       "3                  Wii Sports Resort      Wii           2009.0      Sports   \n",
       "7                           Wii Play      Wii           2006.0        Misc   \n",
       "8          New Super Mario Bros. Wii      Wii           2009.0    Platform   \n",
       "...                              ...      ...              ...         ...   \n",
       "16707               Aiyoku no Eustia      PSV           2014.0        Misc   \n",
       "16710  Samurai Warriors: Sanada Maru      PS3           2016.0      Action   \n",
       "16711               LMA Manager 2007     X360           2006.0      Sports   \n",
       "16712        Haitaka no Psychedelica      PSV           2016.0   Adventure   \n",
       "16714            Winning Post 8 2016      PSV           2016.0  Simulation   \n",
       "\n",
       "       na_sales  eu_sales  jp_sales  other_sales  critic_score  user_score  \\\n",
       "0         41.36     28.96      3.77         8.45          76.0         8.0   \n",
       "2         15.68     12.76      3.79         3.29          82.0         8.3   \n",
       "3         15.61     10.93      3.28         2.95          80.0         8.0   \n",
       "7         13.96      9.18      2.93         2.84          58.0         6.6   \n",
       "8         14.44      6.94      4.70         2.24          87.0         8.4   \n",
       "...         ...       ...       ...          ...           ...         ...   \n",
       "16707      0.00      0.00      0.01         0.00           NaN        -1.0   \n",
       "16710      0.00      0.00      0.01         0.00           NaN        -1.0   \n",
       "16711      0.00      0.01      0.00         0.00           NaN        -1.0   \n",
       "16712      0.00      0.00      0.01         0.00           NaN        -1.0   \n",
       "16714      0.00      0.00      0.01         0.00           NaN        -1.0   \n",
       "\n",
       "      rating  total_sales  \n",
       "0          E        82.54  \n",
       "2          E        35.52  \n",
       "3          E        32.77  \n",
       "7          E        28.91  \n",
       "8          E        28.32  \n",
       "...      ...          ...  \n",
       "16707     RP         0.01  \n",
       "16710     RP         0.01  \n",
       "16711     RP         0.01  \n",
       "16712     RP         0.01  \n",
       "16714     RP         0.01  \n",
       "\n",
       "[6309 rows x 12 columns]"
      ]
     },
     "execution_count": 35,
     "metadata": {},
     "output_type": "execute_result"
    }
   ],
   "source": [
    "# Filtrar el DataFrame usando la variable plataformas_activas_nombres\n",
    "df_filtered = df[\n",
    "    (df['platform'].isin(plataformas_activas_nombres)) &  # Usar directamente la variable\n",
    "    (df['year_of_release'] >= 2006) &                     # Filtrar por rango de años\n",
    "    (df['year_of_release'] <= 2016)                       # Hasta 2016\n",
    "]\n",
    "\n",
    "# Ver las primeras filas del DataFrame filtrado\n",
    "df_filtered\n"
   ]
  },
  {
   "cell_type": "code",
   "execution_count": 36,
   "metadata": {
    "trusted": false
   },
   "outputs": [
    {
     "data": {
      "image/png": "[encoded data removed]",
      "text/plain": [
       "<Figure size 1200x800 with 1 Axes>"
      ]
     },
     "metadata": {},
     "output_type": "display_data"
    }
   ],
   "source": [
    "# Crear un diagrama de caja para las ventas globales, desglosadas por plataforma activa\n",
    "plt.figure(figsize=(12, 8))\n",
    "sns.boxplot(x='platform', y='total_sales', data=df_filtered)\n",
    "\n",
    "# Añadir títulos y etiquetas\n",
    "plt.title('Distribución de las Ventas Globales por Plataforma Activa', fontsize=16)\n",
    "plt.xlabel('Plataforma', fontsize=14)\n",
    "plt.ylabel('Ventas Globales (en millones)', fontsize=14)\n",
    "plt.xticks(rotation=90)  # Rotar los nombres de las plataformas para mejor legibilidad\n",
    "plt.show()\n",
    "\n"
   ]
  },
  {
   "cell_type": "code",
   "execution_count": 37,
   "metadata": {
    "trusted": false
   },
   "outputs": [
    {
     "name": "stdout",
     "output_type": "stream",
     "text": [
      "Ventas promedio por plataforma activa:\n",
      "platform\n",
      "PS4     0.801378\n",
      "X360    0.785000\n",
      "PS3     0.713124\n",
      "Wii     0.692986\n",
      "XOne    0.645020\n",
      "WiiU    0.559116\n",
      "3DS     0.503535\n",
      "PC      0.210593\n",
      "PSV     0.125431\n",
      "Name: total_sales, dtype: float64\n"
     ]
    }
   ],
   "source": [
    "# Calcular la media de las ventas por plataforma activa y ordenarlas de manera descendente\n",
    "ventas_promedio = df_filtered.groupby('platform')['total_sales'].mean().sort_values(ascending=False)\n",
    "\n",
    "# Mostrar las ventas promedio por plataforma ordenadas\n",
    "print(\"Ventas promedio por plataforma activa:\")\n",
    "print(ventas_promedio)\n"
   ]
  },
  {
   "cell_type": "markdown",
   "metadata": {},
   "source": [
    "**Plataformas con mayores ventas promedio:**\n",
    "La PS4 lidera con un promedio de ventas globales de 0.801 millones por juego, destacándose como la plataforma más rentable en términos de promedio. Le siguen X360 (0.79 millones) y PS3 (0.71 millones), lo que demuestra la fuerte presencia de las consolas de Microsoft y Sony en este periodo.\n",
    "\n",
    "**Plataformas con menores ventas promedio:**\n",
    "La PSV (PlayStation Vita) tiene el promedio de ventas más bajo, con solo 0.126 millones por título. Esto indica una menor aceptación en comparación con otras plataformas de su generación.\n",
    "PC también presenta un promedio bajo de 0.266 millones, lo que podría reflejar la diversidad del mercado de PC y su menor dependencia de ventas unitarias de juegos.\n",
    "Plataformas de Nintendo:\n",
    "\n",
    "Wii se encuentra en una posición intermedia con un promedio de 0.688 millones, lo que refleja su éxito en términos de títulos vendidos globalmente, aunque no supera a las consolas de Sony y Microsoft.\n",
    "WiiU (0.559 millones) y 3DS (0.503 millones) tienen promedios más bajos, lo que sugiere que no lograron replicar el éxito masivo de la Wii.Aunque el promedio de ventas de juegos de PC es bajo, esto podría deberse a la gran cantidad de títulos lanzados en esta plataforma, donde las ventas están más distribuidas y menos concentradas en éxitos específicos.\n"
   ]
  },
  {
   "cell_type": "markdown",
   "metadata": {},
   "source": [
    "### Reseñas de usuarios y profesionales"
   ]
  },
  {
   "cell_type": "markdown",
   "metadata": {},
   "source": [
    "Analizaremos las reseñas de usuarios y profesionales y ver cómo afectan las ventas de una plataforma PS4."
   ]
  },
  {
   "cell_type": "code",
   "execution_count": 38,
   "metadata": {
    "trusted": false
   },
   "outputs": [
    {
     "data": {
      "image/png": "[encoded data removed]",
      "text/plain": [
       "<Figure size 1200x600 with 2 Axes>"
      ]
     },
     "metadata": {},
     "output_type": "display_data"
    }
   ],
   "source": [
    "# Filtrar los datos para la plataforma PS4\n",
    "df_ps4 = df_filtered[df_filtered['platform'] == 'PS4']\n",
    "\n",
    "# Eliminar filas con valores nulos en las columnas relevantes\n",
    "df_ps4 = df_ps4.dropna(subset=['critic_score', 'user_score', 'total_sales'])\n",
    "\n",
    "# Crear un gráfico de dispersión entre las reseñas de críticos, usuarios y las ventas totales\n",
    "plt.figure(figsize=(12, 6))\n",
    "\n",
    "# Subgráfico 1: Crítico vs Ventas Totales\n",
    "plt.subplot(1, 2, 1)\n",
    "sns.scatterplot(data=df_ps4, x='critic_score', y='total_sales', color='blue')\n",
    "plt.title('Críticos vs Ventas Totales (PS4)')\n",
    "plt.xlabel('Puntuación Crítica (0-100)')\n",
    "plt.ylabel('Ventas Totales (millones)')\n",
    "\n",
    "# Subgráfico 2: Usuario vs Ventas Totales\n",
    "plt.subplot(1, 2, 2)\n",
    "sns.scatterplot(data=df_ps4, x='user_score', y='total_sales', color='green')\n",
    "plt.title('Usuarios vs Ventas Totales (PS4)')\n",
    "plt.xlabel('Puntuación de Usuario (0-10)')\n",
    "plt.ylabel('Ventas Totales (millones)')\n",
    "\n",
    "plt.tight_layout()\n",
    "plt.show()"
   ]
  },
  {
   "cell_type": "code",
   "execution_count": 39,
   "metadata": {
    "trusted": false
   },
   "outputs": [
    {
     "name": "stdout",
     "output_type": "stream",
     "text": [
      "Correlación entre críticas y ventas:  0.40656790206178095\n",
      "Correlación entre usuarios y ventas:  0.0012601639682130487\n"
     ]
    }
   ],
   "source": [
    "# Calcular las correlaciones entre las reseñas y las ventas\n",
    "correlation_critic_sales = df_ps4['critic_score'].corr(df_ps4['total_sales'])\n",
    "correlation_user_sales = df_ps4['user_score'].corr(df_ps4['total_sales'])\n",
    "\n",
    "print(\"Correlación entre críticas y ventas: \", correlation_critic_sales)\n",
    "print(\"Correlación entre usuarios y ventas: \", correlation_user_sales)"
   ]
  },
  {
   "cell_type": "markdown",
   "metadata": {},
   "source": [
    "**1. Correlación entre críticas y ventas (0.41):**\n",
    "La correlación positiva de 0.41 entre las puntuaciones de los críticos y las ventas totales indica una relación moderadamente positiva. En general, los juegos con mejores críticas tienden a tener mayores ventas en la plataforma PS4. Sin embargo, la correlación no es muy alta, lo que implica que otros factores también juegan un papel importante en las ventas, no solo las críticas.\n",
    "\n",
    "**2. Correlación entre puntuaciones de usuarios y ventas (0.001):**\n",
    "La correlación de 0.001 entre las puntuaciones de los usuarios y las ventas totales es extremadamente baja, casi nula. Esto sugiere que, en este conjunto de datos, las reseñas de los usuarios no parecen tener un impacto significativo en las ventas totales de los juegos en la PS4. Esto puede indicar que los usuarios pueden no basarse tanto en las puntuaciones promedio para tomar sus decisiones de compra, o que hay otros factores más influyentes."
   ]
  },
  {
   "cell_type": "markdown",
   "metadata": {},
   "source": [
    "### Ventas de Juegos en distintas plataformas"
   ]
  },
  {
   "cell_type": "markdown",
   "metadata": {},
   "source": [
    "Se analizan las ventas del mismo juego en distintas plataformas.\n",
    "\n"
   ]
  },
  {
   "cell_type": "code",
   "execution_count": 40,
   "metadata": {
    "trusted": false
   },
   "outputs": [
    {
     "data": {
      "text/html": [
       "<div>\n",
       "<style scoped>\n",
       "    .dataframe tbody tr th:only-of-type {\n",
       "        vertical-align: middle;\n",
       "    }\n",
       "\n",
       "    .dataframe tbody tr th {\n",
       "        vertical-align: top;\n",
       "    }\n",
       "\n",
       "    .dataframe thead th {\n",
       "        text-align: right;\n",
       "    }\n",
       "</style>\n",
       "<table border=\"1\" class=\"dataframe\">\n",
       "  <thead>\n",
       "    <tr style=\"text-align: right;\">\n",
       "      <th></th>\n",
       "      <th>name</th>\n",
       "      <th>platform</th>\n",
       "      <th>year_of_release</th>\n",
       "      <th>genre</th>\n",
       "      <th>na_sales</th>\n",
       "      <th>eu_sales</th>\n",
       "      <th>jp_sales</th>\n",
       "      <th>other_sales</th>\n",
       "      <th>critic_score</th>\n",
       "      <th>user_score</th>\n",
       "      <th>rating</th>\n",
       "      <th>total_sales</th>\n",
       "    </tr>\n",
       "  </thead>\n",
       "  <tbody>\n",
       "    <tr>\n",
       "      <th>14</th>\n",
       "      <td>Kinect Adventures!</td>\n",
       "      <td>X360</td>\n",
       "      <td>2010.0</td>\n",
       "      <td>Misc</td>\n",
       "      <td>15.00</td>\n",
       "      <td>4.89</td>\n",
       "      <td>0.24</td>\n",
       "      <td>1.69</td>\n",
       "      <td>61.0</td>\n",
       "      <td>6.3</td>\n",
       "      <td>E</td>\n",
       "      <td>21.82</td>\n",
       "    </tr>\n",
       "    <tr>\n",
       "      <th>23</th>\n",
       "      <td>Grand Theft Auto V</td>\n",
       "      <td>X360</td>\n",
       "      <td>2013.0</td>\n",
       "      <td>Action</td>\n",
       "      <td>9.66</td>\n",
       "      <td>5.14</td>\n",
       "      <td>0.06</td>\n",
       "      <td>1.41</td>\n",
       "      <td>97.0</td>\n",
       "      <td>8.1</td>\n",
       "      <td>M</td>\n",
       "      <td>16.27</td>\n",
       "    </tr>\n",
       "    <tr>\n",
       "      <th>29</th>\n",
       "      <td>Call of Duty: Modern Warfare 3</td>\n",
       "      <td>X360</td>\n",
       "      <td>2011.0</td>\n",
       "      <td>Shooter</td>\n",
       "      <td>9.04</td>\n",
       "      <td>4.24</td>\n",
       "      <td>0.13</td>\n",
       "      <td>1.32</td>\n",
       "      <td>88.0</td>\n",
       "      <td>3.4</td>\n",
       "      <td>M</td>\n",
       "      <td>14.73</td>\n",
       "    </tr>\n",
       "    <tr>\n",
       "      <th>32</th>\n",
       "      <td>Call of Duty: Black Ops</td>\n",
       "      <td>X360</td>\n",
       "      <td>2010.0</td>\n",
       "      <td>Shooter</td>\n",
       "      <td>9.70</td>\n",
       "      <td>3.68</td>\n",
       "      <td>0.11</td>\n",
       "      <td>1.13</td>\n",
       "      <td>87.0</td>\n",
       "      <td>6.3</td>\n",
       "      <td>M</td>\n",
       "      <td>14.62</td>\n",
       "    </tr>\n",
       "    <tr>\n",
       "      <th>35</th>\n",
       "      <td>Call of Duty: Black Ops II</td>\n",
       "      <td>X360</td>\n",
       "      <td>2012.0</td>\n",
       "      <td>Shooter</td>\n",
       "      <td>8.25</td>\n",
       "      <td>4.24</td>\n",
       "      <td>0.07</td>\n",
       "      <td>1.12</td>\n",
       "      <td>83.0</td>\n",
       "      <td>4.8</td>\n",
       "      <td>M</td>\n",
       "      <td>13.68</td>\n",
       "    </tr>\n",
       "    <tr>\n",
       "      <th>36</th>\n",
       "      <td>Call of Duty: Modern Warfare 2</td>\n",
       "      <td>X360</td>\n",
       "      <td>2009.0</td>\n",
       "      <td>Shooter</td>\n",
       "      <td>8.52</td>\n",
       "      <td>3.59</td>\n",
       "      <td>0.08</td>\n",
       "      <td>1.28</td>\n",
       "      <td>94.0</td>\n",
       "      <td>6.3</td>\n",
       "      <td>M</td>\n",
       "      <td>13.47</td>\n",
       "    </tr>\n",
       "    <tr>\n",
       "      <th>44</th>\n",
       "      <td>Halo 3</td>\n",
       "      <td>X360</td>\n",
       "      <td>2007.0</td>\n",
       "      <td>Shooter</td>\n",
       "      <td>7.97</td>\n",
       "      <td>2.81</td>\n",
       "      <td>0.13</td>\n",
       "      <td>1.21</td>\n",
       "      <td>94.0</td>\n",
       "      <td>7.8</td>\n",
       "      <td>M</td>\n",
       "      <td>12.12</td>\n",
       "    </tr>\n",
       "    <tr>\n",
       "      <th>51</th>\n",
       "      <td>Grand Theft Auto IV</td>\n",
       "      <td>X360</td>\n",
       "      <td>2008.0</td>\n",
       "      <td>Action</td>\n",
       "      <td>6.76</td>\n",
       "      <td>3.07</td>\n",
       "      <td>0.14</td>\n",
       "      <td>1.03</td>\n",
       "      <td>98.0</td>\n",
       "      <td>7.9</td>\n",
       "      <td>M</td>\n",
       "      <td>11.00</td>\n",
       "    </tr>\n",
       "    <tr>\n",
       "      <th>60</th>\n",
       "      <td>Call of Duty: Ghosts</td>\n",
       "      <td>X360</td>\n",
       "      <td>2013.0</td>\n",
       "      <td>Shooter</td>\n",
       "      <td>6.73</td>\n",
       "      <td>2.56</td>\n",
       "      <td>0.04</td>\n",
       "      <td>0.91</td>\n",
       "      <td>73.0</td>\n",
       "      <td>2.6</td>\n",
       "      <td>M</td>\n",
       "      <td>10.24</td>\n",
       "    </tr>\n",
       "    <tr>\n",
       "      <th>64</th>\n",
       "      <td>Halo: Reach</td>\n",
       "      <td>X360</td>\n",
       "      <td>2010.0</td>\n",
       "      <td>Shooter</td>\n",
       "      <td>7.04</td>\n",
       "      <td>1.95</td>\n",
       "      <td>0.08</td>\n",
       "      <td>0.79</td>\n",
       "      <td>91.0</td>\n",
       "      <td>7.9</td>\n",
       "      <td>M</td>\n",
       "      <td>9.86</td>\n",
       "    </tr>\n",
       "  </tbody>\n",
       "</table>\n",
       "</div>"
      ],
      "text/plain": [
       "                              name platform  year_of_release    genre  \\\n",
       "14              Kinect Adventures!     X360           2010.0     Misc   \n",
       "23              Grand Theft Auto V     X360           2013.0   Action   \n",
       "29  Call of Duty: Modern Warfare 3     X360           2011.0  Shooter   \n",
       "32         Call of Duty: Black Ops     X360           2010.0  Shooter   \n",
       "35      Call of Duty: Black Ops II     X360           2012.0  Shooter   \n",
       "36  Call of Duty: Modern Warfare 2     X360           2009.0  Shooter   \n",
       "44                          Halo 3     X360           2007.0  Shooter   \n",
       "51             Grand Theft Auto IV     X360           2008.0   Action   \n",
       "60            Call of Duty: Ghosts     X360           2013.0  Shooter   \n",
       "64                     Halo: Reach     X360           2010.0  Shooter   \n",
       "\n",
       "    na_sales  eu_sales  jp_sales  other_sales  critic_score  user_score  \\\n",
       "14     15.00      4.89      0.24         1.69          61.0         6.3   \n",
       "23      9.66      5.14      0.06         1.41          97.0         8.1   \n",
       "29      9.04      4.24      0.13         1.32          88.0         3.4   \n",
       "32      9.70      3.68      0.11         1.13          87.0         6.3   \n",
       "35      8.25      4.24      0.07         1.12          83.0         4.8   \n",
       "36      8.52      3.59      0.08         1.28          94.0         6.3   \n",
       "44      7.97      2.81      0.13         1.21          94.0         7.8   \n",
       "51      6.76      3.07      0.14         1.03          98.0         7.9   \n",
       "60      6.73      2.56      0.04         0.91          73.0         2.6   \n",
       "64      7.04      1.95      0.08         0.79          91.0         7.9   \n",
       "\n",
       "   rating  total_sales  \n",
       "14      E        21.82  \n",
       "23      M        16.27  \n",
       "29      M        14.73  \n",
       "32      M        14.62  \n",
       "35      M        13.68  \n",
       "36      M        13.47  \n",
       "44      M        12.12  \n",
       "51      M        11.00  \n",
       "60      M        10.24  \n",
       "64      M         9.86  "
      ]
     },
     "execution_count": 40,
     "metadata": {},
     "output_type": "execute_result"
    }
   ],
   "source": [
    "# Filtrar los datos para la plataforma X360\n",
    "df_X360  = df_filtered[df_filtered['platform'] == 'X360']\n",
    "df_X360.head(10)"
   ]
  },
  {
   "cell_type": "markdown",
   "metadata": {},
   "source": [
    "Eleji el juego Call of Duty: Ghosts, para analizar las ventas en las pltaformas X360 y PS3."
   ]
  },
  {
   "cell_type": "code",
   "execution_count": 41,
   "metadata": {
    "scrolled": true,
    "trusted": false
   },
   "outputs": [
    {
     "data": {
      "text/html": [
       "<div>\n",
       "<style scoped>\n",
       "    .dataframe tbody tr th:only-of-type {\n",
       "        vertical-align: middle;\n",
       "    }\n",
       "\n",
       "    .dataframe tbody tr th {\n",
       "        vertical-align: top;\n",
       "    }\n",
       "\n",
       "    .dataframe thead th {\n",
       "        text-align: right;\n",
       "    }\n",
       "</style>\n",
       "<table border=\"1\" class=\"dataframe\">\n",
       "  <thead>\n",
       "    <tr style=\"text-align: right;\">\n",
       "      <th></th>\n",
       "      <th>name</th>\n",
       "      <th>platform</th>\n",
       "      <th>total_sales</th>\n",
       "    </tr>\n",
       "  </thead>\n",
       "  <tbody>\n",
       "    <tr>\n",
       "      <th>60</th>\n",
       "      <td>Call of Duty: Ghosts</td>\n",
       "      <td>X360</td>\n",
       "      <td>10.24</td>\n",
       "    </tr>\n",
       "    <tr>\n",
       "      <th>69</th>\n",
       "      <td>Call of Duty: Ghosts</td>\n",
       "      <td>PS3</td>\n",
       "      <td>9.36</td>\n",
       "    </tr>\n",
       "  </tbody>\n",
       "</table>\n",
       "</div>"
      ],
      "text/plain": [
       "                    name platform  total_sales\n",
       "60  Call of Duty: Ghosts     X360        10.24\n",
       "69  Call of Duty: Ghosts      PS3         9.36"
      ]
     },
     "execution_count": 41,
     "metadata": {},
     "output_type": "execute_result"
    }
   ],
   "source": [
    "# Filtrar los datos para \"Call of Duty: Ghosts\" en las plataformas X360 y PS3\n",
    "cod_call_black = df_filtered[\n",
    "    (df_filtered['name'] == 'Call of Duty: Ghosts') & \n",
    "    (df_filtered['platform'].isin(['X360', 'PS3']))\n",
    "]\n",
    "\n",
    "# Mostrar los resultados en una tabla\n",
    "cod_call_black[['name', 'platform', 'total_sales']]\n"
   ]
  },
  {
   "cell_type": "code",
   "execution_count": 42,
   "metadata": {
    "trusted": false
   },
   "outputs": [
    {
     "data": {
      "image/png": "[encoded data removed]",
      "text/plain": [
       "<Figure size 800x600 with 1 Axes>"
      ]
     },
     "metadata": {},
     "output_type": "display_data"
    }
   ],
   "source": [
    "# Obtener los valores para las plataformas y las ventas\n",
    "platforms = cod_call_black['platform']\n",
    "sales = cod_call_black['total_sales']\n",
    "\n",
    "# Crear gráfico de barras\n",
    "plt.figure(figsize=(8, 6))\n",
    "plt.bar(platforms, sales, color=['blue', 'green'])\n",
    "\n",
    "# Añadir título y etiquetas\n",
    "plt.title(\"Total Sales of 'Call of Duty: Ghosts' on PS3 and X360\")\n",
    "plt.xlabel(\"Platform\")\n",
    "plt.ylabel(\"Total Sales (in millions)\")\n",
    "\n",
    "# Mostrar el gráfico\n",
    "plt.show()"
   ]
  },
  {
   "cell_type": "markdown",
   "metadata": {},
   "source": [
    "El juego \"Call of Duty: Ghosts\" tuvo mayores ventas en la plataforma X360 (10.24 millones) en comparación con la PS3 (9.36 millones). Esto podría indicar que el público en esta plataforma estuvo más interesado o tuvo más acceso al juego.\n",
    "La diferencia de ventas entre ambas plataformas es de $ 0.88 millones, lo que no es una diferencia pequeña.Sin embargo, la diferencia sugiere que, en este caso, X360 tiene una ligera ventaja en términos de ventas, hay que tomar en cuenta que esta plataforma aparecio un año antes que PS3.\n",
    "Es posible que los usuarios de X360 tuvieran una mayor cantidad de jugadores activos en esa época en comparación con PS3, lo cual impacta las ventas.No se debe olvidar que las ventas pueden depender de muchos factores: el marketing, la disponibilidad del juego en las tiendas, la percepción de la calidad del juego en cada consola, o incluso el ciclo de vida de la consola."
   ]
  },
  {
   "cell_type": "markdown",
   "metadata": {},
   "source": [
    "### Distribución General de los juegos por género "
   ]
  },
  {
   "cell_type": "markdown",
   "metadata": {},
   "source": [
    "Analizaremos cuales son los géneros más rentables y cuales de estos tiene las ventas más altas y más bajas. "
   ]
  },
  {
   "cell_type": "code",
   "execution_count": 43,
   "metadata": {
    "trusted": false
   },
   "outputs": [
    {
     "data": {
      "image/png": "[encoded data removed]",
      "text/plain": [
       "<Figure size 1000x600 with 1 Axes>"
      ]
     },
     "metadata": {},
     "output_type": "display_data"
    }
   ],
   "source": [
    "# Agrupar por género y calcular las ventas totales\n",
    "genre_sales = df_filtered.groupby('genre')['total_sales'].sum().sort_values(ascending=False)\n",
    "\n",
    "# Crear un gráfico de barras\n",
    "plt.figure(figsize=(10, 6))\n",
    "genre_sales.plot(kind='bar', color='skyblue')\n",
    "plt.title('Total Sales by Genre')\n",
    "plt.xlabel('Genre')\n",
    "plt.ylabel('Total Sales (in millions)')\n",
    "plt.xticks(rotation=45)\n",
    "plt.show()\n"
   ]
  },
  {
   "cell_type": "markdown",
   "metadata": {},
   "source": [
    "Los géneros con mayores ventas son Action , Shootern y Spots. Los que tiene menos ventas son Adventure , Strategy y Puzzle, por ende, los más rentables on los que tienen ventas mayores. Algunas generalidades que se puede tomar en cuenta son que los géneros más rentables suelen ser los que apelan a una audiencia amplia y tienen una jugabilidad accesible o repetitiva (como los juegos de acción, deportes y disparos).\n",
    "Los géneros menos rentables tienden a ser aquellos que atraen a un público más específico o con mecánicas de juego que requieren un mayor compromiso y dedicación, como simuladores y juegos de estrategia."
   ]
  },
  {
   "cell_type": "markdown",
   "metadata": {},
   "source": [
    "## Perfil de usuario para cada región"
   ]
  },
  {
   "cell_type": "markdown",
   "metadata": {},
   "source": [
    "El siguiente análisis se realizará por región (NA, UE, JP), para determinar:\n",
    "\n",
    "- Las cinco plataformas principales. Las variaciones en sus cuotas de mercado de una región a otra.\n",
    "- Los cinco géneros principales.\n",
    "- Las clasificaciones de ESRB afectan a las ventas en regiones individuales."
   ]
  },
  {
   "cell_type": "markdown",
   "metadata": {},
   "source": [
    "### Cinco plataformas principales por región con cuotas de mercado"
   ]
  },
  {
   "cell_type": "code",
   "execution_count": 44,
   "metadata": {
    "trusted": false
   },
   "outputs": [
    {
     "name": "stdout",
     "output_type": "stream",
     "text": [
      "Top 5 plataformas en Norteamérica:\n"
     ]
    },
    {
     "data": {
      "text/html": [
       "<div>\n",
       "<style scoped>\n",
       "    .dataframe tbody tr th:only-of-type {\n",
       "        vertical-align: middle;\n",
       "    }\n",
       "\n",
       "    .dataframe tbody tr th {\n",
       "        vertical-align: top;\n",
       "    }\n",
       "\n",
       "    .dataframe thead th {\n",
       "        text-align: right;\n",
       "    }\n",
       "</style>\n",
       "<table border=\"1\" class=\"dataframe\">\n",
       "  <thead>\n",
       "    <tr style=\"text-align: right;\">\n",
       "      <th></th>\n",
       "      <th>na_market</th>\n",
       "    </tr>\n",
       "    <tr>\n",
       "      <th>platform</th>\n",
       "      <th></th>\n",
       "    </tr>\n",
       "  </thead>\n",
       "  <tbody>\n",
       "    <tr>\n",
       "      <th>X360</th>\n",
       "      <td>31.909048</td>\n",
       "    </tr>\n",
       "    <tr>\n",
       "      <th>Wii</th>\n",
       "      <td>26.383327</td>\n",
       "    </tr>\n",
       "    <tr>\n",
       "      <th>PS3</th>\n",
       "      <td>21.141018</td>\n",
       "    </tr>\n",
       "    <tr>\n",
       "      <th>PS4</th>\n",
       "      <td>5.892585</td>\n",
       "    </tr>\n",
       "    <tr>\n",
       "      <th>XOne</th>\n",
       "      <td>5.046143</td>\n",
       "    </tr>\n",
       "  </tbody>\n",
       "</table>\n",
       "</div>"
      ],
      "text/plain": [
       "          na_market\n",
       "platform           \n",
       "X360      31.909048\n",
       "Wii       26.383327\n",
       "PS3       21.141018\n",
       "PS4        5.892585\n",
       "XOne       5.046143"
      ]
     },
     "metadata": {},
     "output_type": "display_data"
    },
    {
     "name": "stdout",
     "output_type": "stream",
     "text": [
      "Top 5 plataformas en Europa:\n"
     ]
    },
    {
     "data": {
      "text/html": [
       "<div>\n",
       "<style scoped>\n",
       "    .dataframe tbody tr th:only-of-type {\n",
       "        vertical-align: middle;\n",
       "    }\n",
       "\n",
       "    .dataframe tbody tr th {\n",
       "        vertical-align: top;\n",
       "    }\n",
       "\n",
       "    .dataframe thead th {\n",
       "        text-align: right;\n",
       "    }\n",
       "</style>\n",
       "<table border=\"1\" class=\"dataframe\">\n",
       "  <thead>\n",
       "    <tr style=\"text-align: right;\">\n",
       "      <th></th>\n",
       "      <th>eu_market</th>\n",
       "    </tr>\n",
       "    <tr>\n",
       "      <th>platform</th>\n",
       "      <th></th>\n",
       "    </tr>\n",
       "  </thead>\n",
       "  <tbody>\n",
       "    <tr>\n",
       "      <th>PS3</th>\n",
       "      <td>26.263153</td>\n",
       "    </tr>\n",
       "    <tr>\n",
       "      <th>X360</th>\n",
       "      <td>21.501898</td>\n",
       "    </tr>\n",
       "    <tr>\n",
       "      <th>Wii</th>\n",
       "      <td>20.733773</td>\n",
       "    </tr>\n",
       "    <tr>\n",
       "      <th>PS4</th>\n",
       "      <td>11.324435</td>\n",
       "    </tr>\n",
       "    <tr>\n",
       "      <th>PC</th>\n",
       "      <td>8.052075</td>\n",
       "    </tr>\n",
       "  </tbody>\n",
       "</table>\n",
       "</div>"
      ],
      "text/plain": [
       "          eu_market\n",
       "platform           \n",
       "PS3       26.263153\n",
       "X360      21.501898\n",
       "Wii       20.733773\n",
       "PS4       11.324435\n",
       "PC         8.052075"
      ]
     },
     "metadata": {},
     "output_type": "display_data"
    },
    {
     "name": "stdout",
     "output_type": "stream",
     "text": [
      "Top 5 plataformas en Japón:\n"
     ]
    },
    {
     "data": {
      "text/html": [
       "<div>\n",
       "<style scoped>\n",
       "    .dataframe tbody tr th:only-of-type {\n",
       "        vertical-align: middle;\n",
       "    }\n",
       "\n",
       "    .dataframe tbody tr th {\n",
       "        vertical-align: top;\n",
       "    }\n",
       "\n",
       "    .dataframe thead th {\n",
       "        text-align: right;\n",
       "    }\n",
       "</style>\n",
       "<table border=\"1\" class=\"dataframe\">\n",
       "  <thead>\n",
       "    <tr style=\"text-align: right;\">\n",
       "      <th></th>\n",
       "      <th>jp_market</th>\n",
       "    </tr>\n",
       "    <tr>\n",
       "      <th>platform</th>\n",
       "      <th></th>\n",
       "    </tr>\n",
       "  </thead>\n",
       "  <tbody>\n",
       "    <tr>\n",
       "      <th>3DS</th>\n",
       "      <td>32.303840</td>\n",
       "    </tr>\n",
       "    <tr>\n",
       "      <th>PS3</th>\n",
       "      <td>25.494414</td>\n",
       "    </tr>\n",
       "    <tr>\n",
       "      <th>Wii</th>\n",
       "      <td>21.921151</td>\n",
       "    </tr>\n",
       "    <tr>\n",
       "      <th>PSV</th>\n",
       "      <td>7.011686</td>\n",
       "    </tr>\n",
       "    <tr>\n",
       "      <th>PS4</th>\n",
       "      <td>5.123924</td>\n",
       "    </tr>\n",
       "  </tbody>\n",
       "</table>\n",
       "</div>"
      ],
      "text/plain": [
       "          jp_market\n",
       "platform           \n",
       "3DS       32.303840\n",
       "PS3       25.494414\n",
       "Wii       21.921151\n",
       "PSV        7.011686\n",
       "PS4        5.123924"
      ]
     },
     "metadata": {},
     "output_type": "display_data"
    }
   ],
   "source": [
    "# Agrupar por plataforma y región (NA, EU, JP)\n",
    "platform_sales = df_filtered.groupby(['platform'])[['na_sales', 'eu_sales', 'jp_sales', 'total_sales']].sum()\n",
    "\n",
    "# Calcular las cuotas de mercado por región\n",
    "platform_sales['na_market'] = platform_sales['na_sales'] / platform_sales['na_sales'].sum() * 100\n",
    "platform_sales['eu_market'] = platform_sales['eu_sales'] / platform_sales['eu_sales'].sum() * 100\n",
    "platform_sales['jp_market'] = platform_sales['jp_sales'] / platform_sales['jp_sales'].sum() * 100\n",
    "\n",
    "# Ordenar las plataformas por región\n",
    "top_platforms_na = platform_sales.sort_values(by='na_market', ascending=False).head(5)\n",
    "top_platforms_eu = platform_sales.sort_values(by='eu_market', ascending=False).head(5)\n",
    "top_platforms_jp = platform_sales.sort_values(by='jp_market', ascending=False).head(5)\n",
    "\n",
    "# Mostrar resultados como tablas\n",
    "print(\"Top 5 plataformas en Norteamérica:\")\n",
    "display(top_platforms_na[['na_market']])\n",
    "\n",
    "print(\"Top 5 plataformas en Europa:\")\n",
    "display(top_platforms_eu[['eu_market']])\n",
    "\n",
    "print(\"Top 5 plataformas en Japón:\")\n",
    "display(top_platforms_jp[['jp_market']])\n"
   ]
  },
  {
   "cell_type": "code",
   "execution_count": 45,
   "metadata": {
    "trusted": false
   },
   "outputs": [
    {
     "data": {
      "image/png": "[encoded data removed]",
      "text/plain": [
       "<Figure size 1800x600 with 3 Axes>"
      ]
     },
     "metadata": {},
     "output_type": "display_data"
    }
   ],
   "source": [
    "# 4.1 Cinco plataformas principales por región con cuotas de mercado\n",
    "# Crear los gráficos para las tres regiones\n",
    "fig, axes = plt.subplots(1, 3, figsize=(18, 6))\n",
    "\n",
    "# Norteamérica\n",
    "axes[0].bar(top_platforms_na.index, top_platforms_na['na_market'], color='blue')\n",
    "axes[0].set_title('Top 5 Plataformas en Norteamérica')\n",
    "axes[0].set_ylabel('Cuota de Mercado (%)')\n",
    "axes[0].set_xlabel('Plataforma')\n",
    "axes[0].tick_params(axis='x', rotation=45)\n",
    "\n",
    "# Europa\n",
    "axes[1].bar(top_platforms_eu.index, top_platforms_eu['eu_market'], color='green')\n",
    "axes[1].set_title('Top 5 Plataformas en Europa')\n",
    "axes[1].set_ylabel('Cuota de Mercado (%)')\n",
    "axes[1].set_xlabel('Plataforma')\n",
    "axes[1].tick_params(axis='x', rotation=45)\n",
    "\n",
    "# Japón\n",
    "axes[2].bar(top_platforms_jp.index, top_platforms_jp['jp_market'], color='red')\n",
    "axes[2].set_title('Top 5 Plataformas en Japón')\n",
    "axes[2].set_ylabel('Cuota de Mercado (%)')\n",
    "axes[2].set_xlabel('Plataforma')\n",
    "axes[2].tick_params(axis='x', rotation=45)\n",
    "\n",
    "plt.tight_layout()\n",
    "plt.show()\n"
   ]
  },
  {
   "cell_type": "markdown",
   "metadata": {},
   "source": [
    "Top 5 de cada plataforma por región :\n",
    "- Norteamérica : X360, Wii, PS3, PS4, XOne.\n",
    "- Europa : PS3, X360, Wii, PS4, PC.\n",
    "- Japón : 3DS, PS3, Wii, PSV, PS4."
   ]
  },
  {
   "cell_type": "markdown",
   "metadata": {},
   "source": [
    "### Cinco géneros principales por región"
   ]
  },
  {
   "cell_type": "code",
   "execution_count": 46,
   "metadata": {
    "trusted": false
   },
   "outputs": [
    {
     "name": "stdout",
     "output_type": "stream",
     "text": [
      "Top 5 géneros en Norteamérica:\n"
     ]
    },
    {
     "data": {
      "text/html": [
       "<div>\n",
       "<style scoped>\n",
       "    .dataframe tbody tr th:only-of-type {\n",
       "        vertical-align: middle;\n",
       "    }\n",
       "\n",
       "    .dataframe tbody tr th {\n",
       "        vertical-align: top;\n",
       "    }\n",
       "\n",
       "    .dataframe thead th {\n",
       "        text-align: right;\n",
       "    }\n",
       "</style>\n",
       "<table border=\"1\" class=\"dataframe\">\n",
       "  <thead>\n",
       "    <tr style=\"text-align: right;\">\n",
       "      <th></th>\n",
       "      <th>na_sales</th>\n",
       "    </tr>\n",
       "    <tr>\n",
       "      <th>genre</th>\n",
       "      <th></th>\n",
       "    </tr>\n",
       "  </thead>\n",
       "  <tbody>\n",
       "    <tr>\n",
       "      <th>Action</th>\n",
       "      <td>416.89</td>\n",
       "    </tr>\n",
       "    <tr>\n",
       "      <th>Shooter</th>\n",
       "      <td>352.17</td>\n",
       "    </tr>\n",
       "    <tr>\n",
       "      <th>Sports</th>\n",
       "      <td>336.40</td>\n",
       "    </tr>\n",
       "    <tr>\n",
       "      <th>Misc</th>\n",
       "      <td>217.19</td>\n",
       "    </tr>\n",
       "    <tr>\n",
       "      <th>Role-Playing</th>\n",
       "      <td>138.50</td>\n",
       "    </tr>\n",
       "  </tbody>\n",
       "</table>\n",
       "</div>"
      ],
      "text/plain": [
       "              na_sales\n",
       "genre                 \n",
       "Action          416.89\n",
       "Shooter         352.17\n",
       "Sports          336.40\n",
       "Misc            217.19\n",
       "Role-Playing    138.50"
      ]
     },
     "metadata": {},
     "output_type": "display_data"
    },
    {
     "name": "stdout",
     "output_type": "stream",
     "text": [
      "Top 5 géneros en Europa:\n"
     ]
    },
    {
     "data": {
      "text/html": [
       "<div>\n",
       "<style scoped>\n",
       "    .dataframe tbody tr th:only-of-type {\n",
       "        vertical-align: middle;\n",
       "    }\n",
       "\n",
       "    .dataframe tbody tr th {\n",
       "        vertical-align: top;\n",
       "    }\n",
       "\n",
       "    .dataframe thead th {\n",
       "        text-align: right;\n",
       "    }\n",
       "</style>\n",
       "<table border=\"1\" class=\"dataframe\">\n",
       "  <thead>\n",
       "    <tr style=\"text-align: right;\">\n",
       "      <th></th>\n",
       "      <th>eu_sales</th>\n",
       "    </tr>\n",
       "    <tr>\n",
       "      <th>genre</th>\n",
       "      <th></th>\n",
       "    </tr>\n",
       "  </thead>\n",
       "  <tbody>\n",
       "    <tr>\n",
       "      <th>Action</th>\n",
       "      <td>300.70</td>\n",
       "    </tr>\n",
       "    <tr>\n",
       "      <th>Shooter</th>\n",
       "      <td>231.99</td>\n",
       "    </tr>\n",
       "    <tr>\n",
       "      <th>Sports</th>\n",
       "      <td>222.21</td>\n",
       "    </tr>\n",
       "    <tr>\n",
       "      <th>Misc</th>\n",
       "      <td>111.41</td>\n",
       "    </tr>\n",
       "    <tr>\n",
       "      <th>Racing</th>\n",
       "      <td>99.31</td>\n",
       "    </tr>\n",
       "  </tbody>\n",
       "</table>\n",
       "</div>"
      ],
      "text/plain": [
       "         eu_sales\n",
       "genre            \n",
       "Action     300.70\n",
       "Shooter    231.99\n",
       "Sports     222.21\n",
       "Misc       111.41\n",
       "Racing      99.31"
      ]
     },
     "metadata": {},
     "output_type": "display_data"
    },
    {
     "name": "stdout",
     "output_type": "stream",
     "text": [
      "Top 5 géneros en Japón:\n"
     ]
    },
    {
     "data": {
      "text/html": [
       "<div>\n",
       "<style scoped>\n",
       "    .dataframe tbody tr th:only-of-type {\n",
       "        vertical-align: middle;\n",
       "    }\n",
       "\n",
       "    .dataframe tbody tr th {\n",
       "        vertical-align: top;\n",
       "    }\n",
       "\n",
       "    .dataframe thead th {\n",
       "        text-align: right;\n",
       "    }\n",
       "</style>\n",
       "<table border=\"1\" class=\"dataframe\">\n",
       "  <thead>\n",
       "    <tr style=\"text-align: right;\">\n",
       "      <th></th>\n",
       "      <th>jp_sales</th>\n",
       "    </tr>\n",
       "    <tr>\n",
       "      <th>genre</th>\n",
       "      <th></th>\n",
       "    </tr>\n",
       "  </thead>\n",
       "  <tbody>\n",
       "    <tr>\n",
       "      <th>Role-Playing</th>\n",
       "      <td>79.22</td>\n",
       "    </tr>\n",
       "    <tr>\n",
       "      <th>Action</th>\n",
       "      <td>73.01</td>\n",
       "    </tr>\n",
       "    <tr>\n",
       "      <th>Sports</th>\n",
       "      <td>31.14</td>\n",
       "    </tr>\n",
       "    <tr>\n",
       "      <th>Misc</th>\n",
       "      <td>26.26</td>\n",
       "    </tr>\n",
       "    <tr>\n",
       "      <th>Platform</th>\n",
       "      <td>22.58</td>\n",
       "    </tr>\n",
       "  </tbody>\n",
       "</table>\n",
       "</div>"
      ],
      "text/plain": [
       "              jp_sales\n",
       "genre                 \n",
       "Role-Playing     79.22\n",
       "Action           73.01\n",
       "Sports           31.14\n",
       "Misc             26.26\n",
       "Platform         22.58"
      ]
     },
     "metadata": {},
     "output_type": "display_data"
    }
   ],
   "source": [
    "# Agrupar por género y región\n",
    "genre_sales = df_filtered.groupby(['genre'])[['na_sales', 'eu_sales', 'jp_sales', 'total_sales']].sum()\n",
    "\n",
    "# Ordenar por región\n",
    "top_genres_na = genre_sales.sort_values(by='na_sales', ascending=False).head(5)\n",
    "top_genres_eu = genre_sales.sort_values(by='eu_sales', ascending=False).head(5)\n",
    "top_genres_jp = genre_sales.sort_values(by='jp_sales', ascending=False).head(5)\n",
    "\n",
    "# Mostrar resultados como tablas\n",
    "print(\"Top 5 géneros en Norteamérica:\")\n",
    "display(top_genres_na[['na_sales']])\n",
    "\n",
    "print(\"Top 5 géneros en Europa:\")\n",
    "display(top_genres_eu[['eu_sales']])\n",
    "\n",
    "print(\"Top 5 géneros en Japón:\")\n",
    "display(top_genres_jp[['jp_sales']])\n"
   ]
  },
  {
   "cell_type": "code",
   "execution_count": 47,
   "metadata": {
    "trusted": false
   },
   "outputs": [
    {
     "data": {
      "image/png": "[encoded data removed]",
      "text/plain": [
       "<Figure size 1800x600 with 3 Axes>"
      ]
     },
     "metadata": {},
     "output_type": "display_data"
    }
   ],
   "source": [
    "# 4.2 Cinco géneros principales por región\n",
    "# Crear los gráficos para las tres regiones\n",
    "fig, axes = plt.subplots(1, 3, figsize=(18, 6))\n",
    "\n",
    "# Norteamérica\n",
    "axes[0].bar(top_genres_na.index, top_genres_na['na_sales'], color='blue')\n",
    "axes[0].set_title('Top 5 Géneros en Norteamérica')\n",
    "axes[0].set_ylabel('Ventas (millones de dólares)')\n",
    "axes[0].set_xlabel('Género')\n",
    "axes[0].tick_params(axis='x', rotation=45)\n",
    "\n",
    "# Europa\n",
    "axes[1].bar(top_genres_eu.index, top_genres_eu['eu_sales'], color='green')\n",
    "axes[1].set_title('Top 5 Géneros en Europa')\n",
    "axes[1].set_ylabel('Ventas (millones de dólares)')\n",
    "axes[1].set_xlabel('Género')\n",
    "axes[1].tick_params(axis='x', rotation=45)\n",
    "\n",
    "# Japón\n",
    "axes[2].bar(top_genres_jp.index, top_genres_jp['jp_sales'], color='red')\n",
    "axes[2].set_title('Top 5 Géneros en Japón')\n",
    "axes[2].set_ylabel('Ventas (millones de dólares)')\n",
    "axes[2].set_xlabel('Género')\n",
    "axes[2].tick_params(axis='x', rotation=45)\n",
    "\n",
    "plt.tight_layout()\n",
    "plt.show()"
   ]
  },
  {
   "cell_type": "markdown",
   "metadata": {},
   "source": [
    "Top 5 de cada plataforma por género :\n",
    "- Norteamérica : Action, Shooter, Sports, Misc, Role-Playing.\n",
    "- Europa : Action, Shooter, Sports, Misc, Racing.\n",
    "- Japón : Role-Playing, Action, Sports, Misc, Platform."
   ]
  },
  {
   "cell_type": "markdown",
   "metadata": {},
   "source": [
    "### Ventas por clasificación ESRB por región"
   ]
  },
  {
   "cell_type": "code",
   "execution_count": 48,
   "metadata": {
    "trusted": false
   },
   "outputs": [
    {
     "name": "stdout",
     "output_type": "stream",
     "text": [
      "Ventas por clasificación ESRB:\n"
     ]
    },
    {
     "data": {
      "text/html": [
       "<div>\n",
       "<style scoped>\n",
       "    .dataframe tbody tr th:only-of-type {\n",
       "        vertical-align: middle;\n",
       "    }\n",
       "\n",
       "    .dataframe tbody tr th {\n",
       "        vertical-align: top;\n",
       "    }\n",
       "\n",
       "    .dataframe thead th {\n",
       "        text-align: right;\n",
       "    }\n",
       "</style>\n",
       "<table border=\"1\" class=\"dataframe\">\n",
       "  <thead>\n",
       "    <tr style=\"text-align: right;\">\n",
       "      <th></th>\n",
       "      <th>na_sales</th>\n",
       "      <th>eu_sales</th>\n",
       "      <th>jp_sales</th>\n",
       "      <th>total_sales</th>\n",
       "    </tr>\n",
       "    <tr>\n",
       "      <th>rating</th>\n",
       "      <th></th>\n",
       "      <th></th>\n",
       "      <th></th>\n",
       "      <th></th>\n",
       "    </tr>\n",
       "  </thead>\n",
       "  <tbody>\n",
       "    <tr>\n",
       "      <th>E</th>\n",
       "      <td>542.20</td>\n",
       "      <td>353.24</td>\n",
       "      <td>78.81</td>\n",
       "      <td>1081.60</td>\n",
       "    </tr>\n",
       "    <tr>\n",
       "      <th>E10+</th>\n",
       "      <td>230.87</td>\n",
       "      <td>134.02</td>\n",
       "      <td>13.58</td>\n",
       "      <td>422.00</td>\n",
       "    </tr>\n",
       "    <tr>\n",
       "      <th>EC</th>\n",
       "      <td>0.71</td>\n",
       "      <td>0.00</td>\n",
       "      <td>0.00</td>\n",
       "      <td>0.75</td>\n",
       "    </tr>\n",
       "    <tr>\n",
       "      <th>M</th>\n",
       "      <td>550.12</td>\n",
       "      <td>387.46</td>\n",
       "      <td>39.63</td>\n",
       "      <td>1109.21</td>\n",
       "    </tr>\n",
       "    <tr>\n",
       "      <th>RP</th>\n",
       "      <td>180.81</td>\n",
       "      <td>165.85</td>\n",
       "      <td>126.08</td>\n",
       "      <td>519.44</td>\n",
       "    </tr>\n",
       "    <tr>\n",
       "      <th>T</th>\n",
       "      <td>340.66</td>\n",
       "      <td>205.32</td>\n",
       "      <td>53.38</td>\n",
       "      <td>673.20</td>\n",
       "    </tr>\n",
       "  </tbody>\n",
       "</table>\n",
       "</div>"
      ],
      "text/plain": [
       "        na_sales  eu_sales  jp_sales  total_sales\n",
       "rating                                           \n",
       "E         542.20    353.24     78.81      1081.60\n",
       "E10+      230.87    134.02     13.58       422.00\n",
       "EC          0.71      0.00      0.00         0.75\n",
       "M         550.12    387.46     39.63      1109.21\n",
       "RP        180.81    165.85    126.08       519.44\n",
       "T         340.66    205.32     53.38       673.20"
      ]
     },
     "metadata": {},
     "output_type": "display_data"
    }
   ],
   "source": [
    "# Agrupar por clasificación ESRB y región\n",
    "esrb_sales = df_filtered.groupby(['rating'])[['na_sales', 'eu_sales', 'jp_sales', 'total_sales']].sum()\n",
    "\n",
    "# Mostrar resultados como tabla\n",
    "print(\"Ventas por clasificación ESRB:\")\n",
    "display(esrb_sales)\n"
   ]
  },
  {
   "cell_type": "code",
   "execution_count": 49,
   "metadata": {
    "trusted": false
   },
   "outputs": [
    {
     "data": {
      "image/png": "[encoded data removed]",
      "text/plain": [
       "<Figure size 1800x600 with 3 Axes>"
      ]
     },
     "metadata": {},
     "output_type": "display_data"
    }
   ],
   "source": [
    "# 4.3 Ventas por clasificación ESRB por región\n",
    "# Crear el gráfico para las ventas por clasificación ESRB\n",
    "fig, axes = plt.subplots(1, 3, figsize=(18, 6))\n",
    "\n",
    "# Norteamérica\n",
    "axes[0].bar(esrb_sales.index, esrb_sales['na_sales'], color='blue')\n",
    "axes[0].set_title('Ventas por clasificación ESRB en Norteamérica')\n",
    "axes[0].set_ylabel('Ventas (millones de dólares)')\n",
    "axes[0].set_xlabel('Clasificación ESRB')\n",
    "axes[0].tick_params(axis='x', rotation=45)\n",
    "\n",
    "# Europa\n",
    "axes[1].bar(esrb_sales.index, esrb_sales['eu_sales'], color='green')\n",
    "axes[1].set_title('Ventas por clasificación ESRB en Europa')\n",
    "axes[1].set_ylabel('Ventas (millones de dólares)')\n",
    "axes[1].set_xlabel('Clasificación ESRB')\n",
    "axes[1].tick_params(axis='x', rotation=45)\n",
    "\n",
    "# Japón\n",
    "axes[2].bar(esrb_sales.index, esrb_sales['jp_sales'], color='red')\n",
    "axes[2].set_title('Ventas por clasificación ESRB en Japón')\n",
    "axes[2].set_ylabel('Ventas (millones de dólares)')\n",
    "axes[2].set_xlabel('Clasificación ESRB')\n",
    "axes[2].tick_params(axis='x', rotation=45)\n",
    "\n",
    "plt.tight_layout()\n",
    "plt.show()"
   ]
  },
  {
   "cell_type": "markdown",
   "metadata": {},
   "source": [
    "## Pruebas de hipótesis"
   ]
  },
  {
   "cell_type": "markdown",
   "metadata": {},
   "source": [
    "### Calificaciones promedio de los usuarios para las plataformas Xbox One y PC "
   ]
  },
  {
   "cell_type": "markdown",
   "metadata": {},
   "source": [
    "*H0:* Las calificaciones promedio de los usuarios para las plataformas Xbox One y PC son las mismas.\n",
    "\n",
    "*H1:* Las calificaciones promedio de los usuarios para las plataformas Xbox One y PC varían significativamente.\n",
    "\n",
    "*alfa:* 0.05\n",
    "\n",
    "\n",
    "Primero verificamos la normalidad de los datos con el test de shapiro-wilk."
   ]
  },
  {
   "cell_type": "code",
   "execution_count": 50,
   "metadata": {
    "trusted": false
   },
   "outputs": [
    {
     "name": "stdout",
     "output_type": "stream",
     "text": [
      "Shapiro-Wilk XOne: ShapiroResult(statistic=0.7894643545150757, pvalue=1.5238968099690892e-17)\n",
      "Shapiro-Wilk PC: ShapiroResult(statistic=0.7839841842651367, pvalue=8.596784213269784e-31)\n",
      "Kolmogorov-Smirnov Test: KstestResult(statistic=0.16982136149254978, pvalue=3.3910019448276796e-05, statistic_location=7.2, statistic_sign=1)\n"
     ]
    }
   ],
   "source": [
    "from scipy.stats import shapiro, ks_2samp\n",
    "\n",
    "# Filtrar las calificaciones por plataforma\n",
    "user_score_xone = df_filtered[df_filtered['platform'] == 'XOne']['user_score'].dropna()\n",
    "user_score_pc = df_filtered[df_filtered['platform'] == 'PC']['user_score'].dropna()\n",
    "\n",
    "\n",
    "# Test de Shapiro-Wilk para normalidad\n",
    "shapiro_xone = shapiro(user_score_xone)\n",
    "shapiro_pc = shapiro(user_score_pc)\n",
    "print(\"Shapiro-Wilk XOne:\", shapiro_xone)\n",
    "print(\"Shapiro-Wilk PC:\", shapiro_pc)\n",
    "\n",
    "# Test de Kolmogorov-Smirnov para normalidad\n",
    "ks_test = ks_2samp(user_score_xone, user_score_pc)\n",
    "print(\"Kolmogorov-Smirnov Test:\", ks_test)\n"
   ]
  },
  {
   "cell_type": "markdown",
   "metadata": {},
   "source": [
    "Para ambas plataformas, los p-valores son muchísimo menores a 0.05 lo que indica que las distribuciones no siguen una distribución normal.\n",
    "\n",
    "Ambas pruebas muestran que las calificaciones promedio de los usuarios para Xbox One y PC no cumplen con la suposición de normalidad. Por lo tanto, debemos usar una prueba no paramétrica para comparar las calificaciones entre estas dos plataformas.\n",
    "\n",
    "Las pruebas no paramétricas son métodos estadísticos que no asumen una distribución específica para los datos (como la normalidad). Estas pruebas son útiles cuando los datos no cumplen los supuestos de normalidad o si se trata de escalas ordinales o categóricas. "
   ]
  },
  {
   "cell_type": "code",
   "execution_count": 51,
   "metadata": {
    "trusted": false
   },
   "outputs": [
    {
     "name": "stdout",
     "output_type": "stream",
     "text": [
      "Mann-Whitney U Test: MannwhitneyuResult(statistic=80964.5, pvalue=0.00021760223498281465)\n"
     ]
    }
   ],
   "source": [
    "from scipy.stats import mannwhitneyu\n",
    "\n",
    "# Prueba de Mann-Whitney U\n",
    "mannwhitney_test = mannwhitneyu(user_score_xone, user_score_pc, alternative='two-sided')\n",
    "print(\"Mann-Whitney U Test:\", mannwhitney_test)\n",
    "\n"
   ]
  },
  {
   "cell_type": "markdown",
   "metadata": {},
   "source": [
    "Dado que el p-valor (0.000218) es mucho menor que el nivel de significancia (α=0.05), rechazamos H0.\n",
    "Hay evidencia estadísticamente significativa para afirmar que las calificaciones promedio de los usuarios para las plataformas Xbox One y PC varían significativamente."
   ]
  },
  {
   "cell_type": "code",
   "execution_count": 52,
   "metadata": {
    "trusted": false
   },
   "outputs": [
    {
     "name": "stdout",
     "output_type": "stream",
     "text": [
      "Xbox One - Estadísticas descriptivas:\n",
      "count    247.000000\n",
      "mean       4.542105\n",
      "std        3.523823\n",
      "min       -1.000000\n",
      "25%       -1.000000\n",
      "50%        6.000000\n",
      "75%        7.200000\n",
      "max        9.200000\n",
      "Name: user_score, dtype: float64\n",
      "PC - Estadísticas descriptivas:\n",
      "count    776.000000\n",
      "mean       5.205541\n",
      "std        3.453755\n",
      "min       -1.000000\n",
      "25%        3.800000\n",
      "50%        6.700000\n",
      "75%        7.800000\n",
      "max        9.300000\n",
      "Name: user_score, dtype: float64\n"
     ]
    }
   ],
   "source": [
    "print(\"Xbox One - Estadísticas descriptivas:\")\n",
    "print(user_score_xone.describe())\n",
    "\n",
    "print(\"PC - Estadísticas descriptivas:\")\n",
    "print(user_score_pc.describe())\n"
   ]
  },
  {
   "cell_type": "markdown",
   "metadata": {},
   "source": [
    "El promedio de las calificaciones para PC (5.21) es más alto que para Xbox One (4.54).\n",
    " La mediana también es mayor para PC (6.70) frente a Xbox One (6.00).\n",
    "Los valores del rango intercuartil (IQR) de PC (3.80−7.80) son más altos que los de Xbox One (−1.00−7.20).\n",
    "Las calificaciones promedio y medianas para PC son más altas que para Xbox One. Esto puede indicar una percepción más favorable de los usuarios hacia los juegos en PC.\n"
   ]
  },
  {
   "cell_type": "markdown",
   "metadata": {},
   "source": [
    "### Calificaciones promedio de los usuarios para los géneros de Acción y Deportes "
   ]
  },
  {
   "cell_type": "markdown",
   "metadata": {},
   "source": [
    "*H0:* Las calificaciones promedio de los usuarios para los géneros de Acción y Deportes son iguales.\n",
    "\n",
    "*H1:* Las calificaciones promedio de los usuarios para los géneros de Acción y Deportes son diferentes.\n",
    "\n",
    "*alfa:* 0.05"
   ]
  },
  {
   "cell_type": "code",
   "execution_count": 53,
   "metadata": {
    "trusted": false
   },
   "outputs": [
    {
     "name": "stdout",
     "output_type": "stream",
     "text": [
      "Acción - Estadísticas descriptivas:\n",
      "count    1078.000000\n",
      "mean        6.854731\n",
      "std         1.322434\n",
      "min         1.600000\n",
      "25%         6.200000\n",
      "50%         7.100000\n",
      "75%         7.800000\n",
      "max         9.100000\n",
      "Name: user_score, dtype: float64\n",
      "\n",
      "Deportes - Estadísticas descriptivas:\n",
      "count    525.000000\n",
      "mean       6.210667\n",
      "std        1.697529\n",
      "min        0.200000\n",
      "25%        5.300000\n",
      "50%        6.600000\n",
      "75%        7.500000\n",
      "max        9.000000\n",
      "Name: user_score, dtype: float64\n"
     ]
    }
   ],
   "source": [
    "# Filtrar las calificaciones por género\n",
    "user_score_action = df_filtered[df_filtered['genre'] == 'Action']['user_score'].dropna()\n",
    "user_score_sports = df_filtered[df_filtered['genre'] == 'Sports']['user_score'].dropna()\n",
    "\n",
    "# Eliminar valores no válidos (-1)\n",
    "user_score_action = user_score_action[user_score_action >= 0]\n",
    "user_score_sports = user_score_sports[user_score_sports >= 0]\n",
    "\n",
    "# Imprimir estadísticas descriptivas\n",
    "print(\"Acción - Estadísticas descriptivas:\")\n",
    "print(user_score_action.describe())\n",
    "print(\"\\nDeportes - Estadísticas descriptivas:\")\n",
    "print(user_score_sports.describe())\n"
   ]
  },
  {
   "cell_type": "markdown",
   "metadata": {},
   "source": [
    "Aplicamos el test de Shapiro-Wilk para verificar si las distribuciones son normales:"
   ]
  },
  {
   "cell_type": "code",
   "execution_count": 54,
   "metadata": {
    "trusted": false
   },
   "outputs": [
    {
     "name": "stdout",
     "output_type": "stream",
     "text": [
      "Shapiro-Wilk Acción: ShapiroResult(statistic=0.9325074553489685, pvalue=1.1825447546272676e-21)\n",
      "Shapiro-Wilk Deportes: ShapiroResult(statistic=0.9406794309616089, pvalue=1.2624828211928868e-13)\n"
     ]
    }
   ],
   "source": [
    "\n",
    "\n",
    "# Test de Shapiro-Wilk\n",
    "shapiro_action = shapiro(user_score_action)\n",
    "shapiro_sports = shapiro(user_score_sports)\n",
    "\n",
    "print(\"Shapiro-Wilk Acción:\", shapiro_action)\n",
    "print(\"Shapiro-Wilk Deportes:\", shapiro_sports)\n"
   ]
  },
  {
   "cell_type": "markdown",
   "metadata": {},
   "source": [
    "- Género de acción: p<0.05 por lo que rechazamos la hipótesis de normalidad para las calificaciones del género Acción.\n",
    "- Género de deportes : p<0.05 por lo que rechazamos la hipótesis de normalidad para las calificaciones del género Deportes."
   ]
  },
  {
   "cell_type": "code",
   "execution_count": 55,
   "metadata": {
    "trusted": false
   },
   "outputs": [
    {
     "name": "stdout",
     "output_type": "stream",
     "text": [
      "Mann-Whitney U Test: MannwhitneyuResult(statistic=345947.5, pvalue=4.4029368601572576e-13)\n"
     ]
    }
   ],
   "source": [
    "# Prueba de Mann-Whitney U\n",
    "mannwhitney_test = mannwhitneyu(user_score_action, user_score_sports, alternative='two-sided')\n",
    "print(\"Mann-Whitney U Test:\", mannwhitney_test)\n"
   ]
  },
  {
   "cell_type": "markdown",
   "metadata": {},
   "source": [
    "Dado que el p-valor es mucho menor que el nivel de significancia (0.05) rechazamos la hipótesis nula H0.\n",
    "\n",
    "Existen diferencias significativas en las calificaciones promedio de los usuarios entre los géneros de Acción y Deportes."
   ]
  },
  {
   "cell_type": "markdown",
   "metadata": {},
   "source": [
    "## Conclusión General "
   ]
  },
  {
   "cell_type": "markdown",
   "metadata": {},
   "source": [
    "El análisis de los datos de ventas de videojuegos entre 1980 y 2016 nos ha permitido obtener una visión profunda sobre el comportamiento de las plataformas, géneros y clasificaciones ESRB en distintas regiones (Norteamérica, Europa y Japón). A través de diversas técnicas de limpieza de datos, exploración y análisis estadístico, hemos alcanzado los siguientes hallazgos clave:\n",
    "\n",
    "Se realizó un proceso de limpieza que incluyó la corrección de tipos de datos, el manejo de valores faltantes y la eliminación de filas con valores ausentes significativos (como las columnas name y genre).\n",
    "Se asignaron valores representativos en columnas como user_score y rating, asegurando que los datos fueran consistentes y listos para el análisis.\n",
    "\n",
    "Para este análisis se tomo en cuenta las 5 plataformas activas top en vnetas del periodo 2006 al 2016.\n",
    "\n",
    "El cálculo de las ventas totales permitió observar la distribución de ingresos de videojuegos entre las distintas regiones. El análisis reveló que Norteamérica es una de las regiones con mayores ventas, seguida por Europa y Japón.\n",
    "\n",
    "\n",
    "Se identificaron las principales plataformas de videojuegos por cuota de mercado en cada región. En Norteamérica, plataformas como la Xbox 360 y la Wii dominaron el mercado durante los años estudiados. En Europa, la PS3 fue la plataforma más destacada, mientras que en Japón, plataformas como la 3DS y la PS3 fueron las más relevantes.\n",
    "\n",
    "\n",
    "Se observó que, a nivel global, los géneros más populares en términos de ventas fueron los de acción, shooter y deportes. Sin embargo, cada región mostró preferencia por diferentes géneros. Por ejemplo, en Japón, los géneros de rol y plataforma fueron muy destacados, mientras que en Europa y Norteamérica, los juegos de acción y deportes dominaron.\n",
    "\n",
    "\n",
    "La clasificación ESRB también mostró patrones interesantes. Las categorías como \"E\" (Apto para todos) y \"M\" (Mayores de 17 años) dominaron las ventas en Norteamérica, mientras que en Europa y Japón, las clasificaciones variaron ligeramente. La clasificación \"RP\" (Rating Pending) fue notablemente representada en los datos.\n",
    "Desafíos y Limitaciones:\n",
    "\n",
    "\n",
    "El análisis de los videojuegos a través de los años revela que el comportamiento de los consumidores en términos de plataformas, géneros y clasificaciones varía considerablemente por región. Además, las tendencias observadas en las ventas reflejan la influencia de las preferencias culturales y la evolución tecnológica de las plataformas. Para futuros estudios, sería valioso integrar más información sobre las estrategias de marketing, así como evaluar el impacto de los precios de los videojuegos en las ventas.\n",
    "Este proyecto proporcionó una base sólida para entender los patrones de ventas de videojuegos y ofrece insights útiles para tomar decisiones informadas en la industria de los videojuegos.\n",
    "\n"
   ]
  }
 ],
 "metadata": {
  "ExecuteTimeLog": [
   {
    "duration": 2767,
    "start_time": "2025-01-16T03:18:31.076Z"
   },
   {
    "duration": 39,
    "start_time": "2025-01-16T03:19:25.014Z"
   },
   {
    "duration": 16,
    "start_time": "2025-01-16T03:19:44.452Z"
   },
   {
    "duration": 3,
    "start_time": "2025-01-16T03:25:30.030Z"
   },
   {
    "duration": 14,
    "start_time": "2025-01-16T03:30:05.552Z"
   },
   {
    "duration": 799,
    "start_time": "2025-01-16T03:34:45.523Z"
   },
   {
    "duration": 25,
    "start_time": "2025-01-16T03:34:46.325Z"
   },
   {
    "duration": 13,
    "start_time": "2025-01-16T03:34:46.352Z"
   },
   {
    "duration": 12,
    "start_time": "2025-01-16T03:34:46.368Z"
   },
   {
    "duration": 3,
    "start_time": "2025-01-16T03:34:46.381Z"
   },
   {
    "duration": 25,
    "start_time": "2025-01-16T03:34:46.385Z"
   },
   {
    "duration": 7,
    "start_time": "2025-01-16T03:39:10.197Z"
   },
   {
    "duration": 735,
    "start_time": "2025-01-16T03:40:35.504Z"
   },
   {
    "duration": 23,
    "start_time": "2025-01-16T03:40:36.242Z"
   },
   {
    "duration": 14,
    "start_time": "2025-01-16T03:40:36.267Z"
   },
   {
    "duration": 31,
    "start_time": "2025-01-16T03:40:36.283Z"
   },
   {
    "duration": 3,
    "start_time": "2025-01-16T03:40:36.316Z"
   },
   {
    "duration": 8,
    "start_time": "2025-01-16T03:40:36.321Z"
   },
   {
    "duration": 746,
    "start_time": "2025-01-16T03:43:52.591Z"
   },
   {
    "duration": 24,
    "start_time": "2025-01-16T03:43:53.339Z"
   },
   {
    "duration": 16,
    "start_time": "2025-01-16T03:43:53.365Z"
   },
   {
    "duration": 30,
    "start_time": "2025-01-16T03:43:53.383Z"
   },
   {
    "duration": 2,
    "start_time": "2025-01-16T03:43:53.416Z"
   },
   {
    "duration": 6,
    "start_time": "2025-01-16T03:43:53.420Z"
   },
   {
    "duration": 742,
    "start_time": "2025-01-16T03:50:49.700Z"
   },
   {
    "duration": 24,
    "start_time": "2025-01-16T03:50:50.444Z"
   },
   {
    "duration": 14,
    "start_time": "2025-01-16T03:50:50.469Z"
   },
   {
    "duration": 26,
    "start_time": "2025-01-16T03:50:50.487Z"
   },
   {
    "duration": 2,
    "start_time": "2025-01-16T03:50:50.516Z"
   },
   {
    "duration": 7,
    "start_time": "2025-01-16T03:50:50.520Z"
   },
   {
    "duration": 120,
    "start_time": "2025-01-16T03:55:31.806Z"
   },
   {
    "duration": 10,
    "start_time": "2025-01-16T03:56:01.753Z"
   },
   {
    "duration": 16,
    "start_time": "2025-01-16T04:21:17.145Z"
   },
   {
    "duration": 12,
    "start_time": "2025-01-16T04:24:38.110Z"
   },
   {
    "duration": 7,
    "start_time": "2025-01-16T04:30:28.011Z"
   },
   {
    "duration": 20,
    "start_time": "2025-01-16T04:30:34.620Z"
   },
   {
    "duration": 7,
    "start_time": "2025-01-16T04:32:06.199Z"
   },
   {
    "duration": 7,
    "start_time": "2025-01-16T04:32:57.978Z"
   },
   {
    "duration": 4,
    "start_time": "2025-01-16T04:41:42.206Z"
   },
   {
    "duration": 139,
    "start_time": "2025-01-16T04:43:27.626Z"
   },
   {
    "duration": 13,
    "start_time": "2025-01-16T04:43:30.672Z"
   },
   {
    "duration": 11,
    "start_time": "2025-01-16T04:45:26.634Z"
   },
   {
    "duration": 3,
    "start_time": "2025-01-16T04:45:46.350Z"
   },
   {
    "duration": 4,
    "start_time": "2025-01-16T04:45:58.399Z"
   },
   {
    "duration": 4,
    "start_time": "2025-01-16T04:46:06.956Z"
   },
   {
    "duration": 3,
    "start_time": "2025-01-16T04:47:41.144Z"
   },
   {
    "duration": 3,
    "start_time": "2025-01-16T04:56:08.330Z"
   },
   {
    "duration": 6,
    "start_time": "2025-01-16T04:56:27.818Z"
   },
   {
    "duration": 10,
    "start_time": "2025-01-16T05:00:05.435Z"
   },
   {
    "duration": 9,
    "start_time": "2025-01-16T05:00:27.127Z"
   },
   {
    "duration": 6,
    "start_time": "2025-01-16T05:00:44.366Z"
   },
   {
    "duration": 10,
    "start_time": "2025-01-16T05:00:47.350Z"
   },
   {
    "duration": 4,
    "start_time": "2025-01-16T05:07:22.914Z"
   },
   {
    "duration": 791,
    "start_time": "2025-01-16T05:08:25.549Z"
   },
   {
    "duration": 26,
    "start_time": "2025-01-16T05:08:26.343Z"
   },
   {
    "duration": 14,
    "start_time": "2025-01-16T05:08:26.370Z"
   },
   {
    "duration": 23,
    "start_time": "2025-01-16T05:08:26.386Z"
   },
   {
    "duration": 5,
    "start_time": "2025-01-16T05:08:26.411Z"
   },
   {
    "duration": 3,
    "start_time": "2025-01-16T05:08:26.418Z"
   },
   {
    "duration": 9,
    "start_time": "2025-01-16T05:08:26.422Z"
   },
   {
    "duration": 7,
    "start_time": "2025-01-16T05:08:26.433Z"
   },
   {
    "duration": 13,
    "start_time": "2025-01-16T05:08:26.442Z"
   },
   {
    "duration": 52,
    "start_time": "2025-01-16T05:08:26.459Z"
   },
   {
    "duration": 5,
    "start_time": "2025-01-16T05:08:26.513Z"
   },
   {
    "duration": 2,
    "start_time": "2025-01-16T05:08:26.520Z"
   },
   {
    "duration": 4,
    "start_time": "2025-01-16T05:08:26.524Z"
   },
   {
    "duration": 3,
    "start_time": "2025-01-16T05:08:26.530Z"
   },
   {
    "duration": 4,
    "start_time": "2025-01-16T05:08:26.534Z"
   },
   {
    "duration": 7,
    "start_time": "2025-01-16T05:08:26.540Z"
   },
   {
    "duration": 7,
    "start_time": "2025-01-16T05:08:26.549Z"
   },
   {
    "duration": 4,
    "start_time": "2025-01-16T05:08:26.609Z"
   },
   {
    "duration": 741,
    "start_time": "2025-01-16T05:11:55.249Z"
   },
   {
    "duration": 28,
    "start_time": "2025-01-16T05:11:55.993Z"
   },
   {
    "duration": 12,
    "start_time": "2025-01-16T05:11:56.023Z"
   },
   {
    "duration": 12,
    "start_time": "2025-01-16T05:11:56.037Z"
   },
   {
    "duration": 5,
    "start_time": "2025-01-16T05:11:56.052Z"
   },
   {
    "duration": 2,
    "start_time": "2025-01-16T05:11:56.059Z"
   },
   {
    "duration": 7,
    "start_time": "2025-01-16T05:11:56.063Z"
   },
   {
    "duration": 39,
    "start_time": "2025-01-16T05:11:56.072Z"
   },
   {
    "duration": 13,
    "start_time": "2025-01-16T05:11:56.113Z"
   },
   {
    "duration": 11,
    "start_time": "2025-01-16T05:11:56.128Z"
   },
   {
    "duration": 5,
    "start_time": "2025-01-16T05:11:56.141Z"
   },
   {
    "duration": 3,
    "start_time": "2025-01-16T05:11:56.148Z"
   },
   {
    "duration": 5,
    "start_time": "2025-01-16T05:11:56.153Z"
   },
   {
    "duration": 0,
    "start_time": "2025-01-16T05:11:56.160Z"
   },
   {
    "duration": 0,
    "start_time": "2025-01-16T05:11:56.162Z"
   },
   {
    "duration": 0,
    "start_time": "2025-01-16T05:11:56.163Z"
   },
   {
    "duration": 0,
    "start_time": "2025-01-16T05:11:56.165Z"
   },
   {
    "duration": 0,
    "start_time": "2025-01-16T05:11:56.209Z"
   },
   {
    "duration": 0,
    "start_time": "2025-01-16T05:11:56.211Z"
   },
   {
    "duration": 756,
    "start_time": "2025-01-16T05:12:06.990Z"
   },
   {
    "duration": 25,
    "start_time": "2025-01-16T05:12:07.750Z"
   },
   {
    "duration": 15,
    "start_time": "2025-01-16T05:12:07.778Z"
   },
   {
    "duration": 14,
    "start_time": "2025-01-16T05:12:07.809Z"
   },
   {
    "duration": 3,
    "start_time": "2025-01-16T05:12:07.825Z"
   },
   {
    "duration": 3,
    "start_time": "2025-01-16T05:12:07.830Z"
   },
   {
    "duration": 8,
    "start_time": "2025-01-16T05:12:07.834Z"
   },
   {
    "duration": 8,
    "start_time": "2025-01-16T05:12:07.843Z"
   },
   {
    "duration": 15,
    "start_time": "2025-01-16T05:12:07.852Z"
   },
   {
    "duration": 13,
    "start_time": "2025-01-16T05:12:07.910Z"
   },
   {
    "duration": 6,
    "start_time": "2025-01-16T05:12:07.925Z"
   },
   {
    "duration": 2,
    "start_time": "2025-01-16T05:12:07.933Z"
   },
   {
    "duration": 12,
    "start_time": "2025-01-16T05:12:07.937Z"
   },
   {
    "duration": 3,
    "start_time": "2025-01-16T05:12:07.952Z"
   },
   {
    "duration": 4,
    "start_time": "2025-01-16T05:12:07.956Z"
   },
   {
    "duration": 6,
    "start_time": "2025-01-16T05:12:07.961Z"
   },
   {
    "duration": 48,
    "start_time": "2025-01-16T05:12:07.969Z"
   },
   {
    "duration": 3,
    "start_time": "2025-01-16T05:12:08.019Z"
   },
   {
    "duration": 5,
    "start_time": "2025-01-16T05:15:17.992Z"
   },
   {
    "duration": 7,
    "start_time": "2025-01-16T05:15:40.466Z"
   },
   {
    "duration": 5,
    "start_time": "2025-01-16T05:16:05.837Z"
   },
   {
    "duration": 5,
    "start_time": "2025-01-16T05:16:31.839Z"
   },
   {
    "duration": 4,
    "start_time": "2025-01-16T05:16:33.331Z"
   },
   {
    "duration": 4,
    "start_time": "2025-01-16T05:19:42.308Z"
   },
   {
    "duration": 5,
    "start_time": "2025-01-16T05:20:17.309Z"
   },
   {
    "duration": 3,
    "start_time": "2025-01-16T05:21:26.639Z"
   },
   {
    "duration": 4,
    "start_time": "2025-01-16T05:21:52.359Z"
   },
   {
    "duration": 728,
    "start_time": "2025-01-16T05:24:45.215Z"
   },
   {
    "duration": 24,
    "start_time": "2025-01-16T05:24:45.946Z"
   },
   {
    "duration": 15,
    "start_time": "2025-01-16T05:24:45.972Z"
   },
   {
    "duration": 28,
    "start_time": "2025-01-16T05:24:45.989Z"
   },
   {
    "duration": 4,
    "start_time": "2025-01-16T05:24:46.018Z"
   },
   {
    "duration": 3,
    "start_time": "2025-01-16T05:24:46.024Z"
   },
   {
    "duration": 8,
    "start_time": "2025-01-16T05:24:46.029Z"
   },
   {
    "duration": 9,
    "start_time": "2025-01-16T05:24:46.038Z"
   },
   {
    "duration": 15,
    "start_time": "2025-01-16T05:24:46.049Z"
   },
   {
    "duration": 50,
    "start_time": "2025-01-16T05:24:46.067Z"
   },
   {
    "duration": 7,
    "start_time": "2025-01-16T05:24:46.118Z"
   },
   {
    "duration": 3,
    "start_time": "2025-01-16T05:24:46.126Z"
   },
   {
    "duration": 4,
    "start_time": "2025-01-16T05:24:46.130Z"
   },
   {
    "duration": 3,
    "start_time": "2025-01-16T05:24:46.136Z"
   },
   {
    "duration": 4,
    "start_time": "2025-01-16T05:24:46.141Z"
   },
   {
    "duration": 3,
    "start_time": "2025-01-16T05:24:46.146Z"
   },
   {
    "duration": 3,
    "start_time": "2025-01-16T05:24:46.151Z"
   },
   {
    "duration": 53,
    "start_time": "2025-01-16T05:24:46.156Z"
   },
   {
    "duration": 11,
    "start_time": "2025-01-16T05:24:46.210Z"
   },
   {
    "duration": 4,
    "start_time": "2025-01-16T05:24:46.223Z"
   },
   {
    "duration": 2,
    "start_time": "2025-01-16T05:24:46.229Z"
   },
   {
    "duration": 3,
    "start_time": "2025-01-16T05:25:06.154Z"
   },
   {
    "duration": 765,
    "start_time": "2025-01-16T05:25:12.623Z"
   },
   {
    "duration": 31,
    "start_time": "2025-01-16T05:25:13.391Z"
   },
   {
    "duration": 15,
    "start_time": "2025-01-16T05:25:13.424Z"
   },
   {
    "duration": 11,
    "start_time": "2025-01-16T05:25:13.441Z"
   },
   {
    "duration": 4,
    "start_time": "2025-01-16T05:25:13.454Z"
   },
   {
    "duration": 3,
    "start_time": "2025-01-16T05:25:13.460Z"
   },
   {
    "duration": 9,
    "start_time": "2025-01-16T05:25:13.465Z"
   },
   {
    "duration": 41,
    "start_time": "2025-01-16T05:25:13.476Z"
   },
   {
    "duration": 17,
    "start_time": "2025-01-16T05:25:13.520Z"
   },
   {
    "duration": 17,
    "start_time": "2025-01-16T05:25:13.541Z"
   },
   {
    "duration": 7,
    "start_time": "2025-01-16T05:25:13.560Z"
   },
   {
    "duration": 3,
    "start_time": "2025-01-16T05:25:13.569Z"
   },
   {
    "duration": 37,
    "start_time": "2025-01-16T05:25:13.574Z"
   },
   {
    "duration": 4,
    "start_time": "2025-01-16T05:25:13.612Z"
   },
   {
    "duration": 3,
    "start_time": "2025-01-16T05:25:13.618Z"
   },
   {
    "duration": 3,
    "start_time": "2025-01-16T05:25:13.622Z"
   },
   {
    "duration": 4,
    "start_time": "2025-01-16T05:25:13.627Z"
   },
   {
    "duration": 6,
    "start_time": "2025-01-16T05:25:13.632Z"
   },
   {
    "duration": 8,
    "start_time": "2025-01-16T05:25:13.640Z"
   },
   {
    "duration": 4,
    "start_time": "2025-01-16T05:25:13.650Z"
   },
   {
    "duration": 2,
    "start_time": "2025-01-16T05:25:13.656Z"
   },
   {
    "duration": 9,
    "start_time": "2025-01-16T05:28:28.460Z"
   },
   {
    "duration": 7,
    "start_time": "2025-01-16T05:28:43.171Z"
   },
   {
    "duration": 4,
    "start_time": "2025-01-16T05:28:50.931Z"
   },
   {
    "duration": 9,
    "start_time": "2025-01-16T05:28:52.597Z"
   },
   {
    "duration": 183,
    "start_time": "2025-01-16T16:41:24.863Z"
   },
   {
    "duration": 15,
    "start_time": "2025-01-16T16:41:47.188Z"
   },
   {
    "duration": 2633,
    "start_time": "2025-01-16T16:41:57.725Z"
   },
   {
    "duration": 45,
    "start_time": "2025-01-16T16:42:00.370Z"
   },
   {
    "duration": 17,
    "start_time": "2025-01-16T16:42:00.417Z"
   },
   {
    "duration": 14,
    "start_time": "2025-01-16T16:42:00.436Z"
   },
   {
    "duration": 4,
    "start_time": "2025-01-16T16:42:00.453Z"
   },
   {
    "duration": 3,
    "start_time": "2025-01-16T16:42:00.470Z"
   },
   {
    "duration": 7,
    "start_time": "2025-01-16T16:42:00.475Z"
   },
   {
    "duration": 9,
    "start_time": "2025-01-16T16:42:00.484Z"
   },
   {
    "duration": 18,
    "start_time": "2025-01-16T16:42:00.495Z"
   },
   {
    "duration": 16,
    "start_time": "2025-01-16T16:42:00.515Z"
   },
   {
    "duration": 8,
    "start_time": "2025-01-16T16:42:00.533Z"
   },
   {
    "duration": 4,
    "start_time": "2025-01-16T16:42:00.571Z"
   },
   {
    "duration": 5,
    "start_time": "2025-01-16T16:42:00.577Z"
   },
   {
    "duration": 4,
    "start_time": "2025-01-16T16:42:00.585Z"
   },
   {
    "duration": 4,
    "start_time": "2025-01-16T16:42:00.591Z"
   },
   {
    "duration": 4,
    "start_time": "2025-01-16T16:42:00.598Z"
   },
   {
    "duration": 4,
    "start_time": "2025-01-16T16:42:00.604Z"
   },
   {
    "duration": 7,
    "start_time": "2025-01-16T16:42:00.610Z"
   },
   {
    "duration": 55,
    "start_time": "2025-01-16T16:42:00.619Z"
   },
   {
    "duration": 3,
    "start_time": "2025-01-16T16:42:00.676Z"
   },
   {
    "duration": 14,
    "start_time": "2025-01-16T16:42:00.681Z"
   },
   {
    "duration": 4,
    "start_time": "2025-01-16T16:42:00.698Z"
   },
   {
    "duration": 5,
    "start_time": "2025-01-16T16:43:25.308Z"
   },
   {
    "duration": 17,
    "start_time": "2025-01-16T16:43:36.687Z"
   },
   {
    "duration": 2,
    "start_time": "2025-01-16T16:44:28.317Z"
   },
   {
    "duration": 7,
    "start_time": "2025-01-16T17:03:01.003Z"
   },
   {
    "duration": 3,
    "start_time": "2025-01-16T17:04:34.000Z"
   },
   {
    "duration": 4,
    "start_time": "2025-01-16T17:04:36.889Z"
   },
   {
    "duration": 4,
    "start_time": "2025-01-16T17:04:37.999Z"
   },
   {
    "duration": 4,
    "start_time": "2025-01-16T17:04:57.217Z"
   },
   {
    "duration": 4,
    "start_time": "2025-01-16T17:05:05.249Z"
   },
   {
    "duration": 3,
    "start_time": "2025-01-16T17:06:29.620Z"
   },
   {
    "duration": 5,
    "start_time": "2025-01-16T17:06:36.933Z"
   },
   {
    "duration": 7,
    "start_time": "2025-01-16T17:06:47.689Z"
   },
   {
    "duration": 272,
    "start_time": "2025-01-16T17:08:36.106Z"
   },
   {
    "duration": 252,
    "start_time": "2025-01-16T17:08:55.586Z"
   },
   {
    "duration": 272,
    "start_time": "2025-01-16T17:09:13.830Z"
   },
   {
    "duration": 360,
    "start_time": "2025-01-16T17:22:14.203Z"
   },
   {
    "duration": 5,
    "start_time": "2025-01-16T17:25:37.025Z"
   },
   {
    "duration": 5,
    "start_time": "2025-01-16T17:25:38.110Z"
   },
   {
    "duration": 5,
    "start_time": "2025-01-16T17:25:48.150Z"
   },
   {
    "duration": 7,
    "start_time": "2025-01-16T17:26:27.312Z"
   },
   {
    "duration": 227,
    "start_time": "2025-01-16T17:29:18.746Z"
   },
   {
    "duration": 27,
    "start_time": "2025-01-16T17:30:06.223Z"
   },
   {
    "duration": 744,
    "start_time": "2025-01-16T17:30:18.758Z"
   },
   {
    "duration": 25,
    "start_time": "2025-01-16T17:30:19.504Z"
   },
   {
    "duration": 14,
    "start_time": "2025-01-16T17:30:19.531Z"
   },
   {
    "duration": 28,
    "start_time": "2025-01-16T17:30:19.547Z"
   },
   {
    "duration": 4,
    "start_time": "2025-01-16T17:30:19.576Z"
   },
   {
    "duration": 3,
    "start_time": "2025-01-16T17:30:19.582Z"
   },
   {
    "duration": 7,
    "start_time": "2025-01-16T17:30:19.587Z"
   },
   {
    "duration": 7,
    "start_time": "2025-01-16T17:30:19.596Z"
   },
   {
    "duration": 13,
    "start_time": "2025-01-16T17:30:19.604Z"
   },
   {
    "duration": 12,
    "start_time": "2025-01-16T17:30:19.621Z"
   },
   {
    "duration": 42,
    "start_time": "2025-01-16T17:30:19.634Z"
   },
   {
    "duration": 3,
    "start_time": "2025-01-16T17:30:19.678Z"
   },
   {
    "duration": 4,
    "start_time": "2025-01-16T17:30:19.682Z"
   },
   {
    "duration": 3,
    "start_time": "2025-01-16T17:30:19.689Z"
   },
   {
    "duration": 3,
    "start_time": "2025-01-16T17:30:19.694Z"
   },
   {
    "duration": 3,
    "start_time": "2025-01-16T17:30:19.699Z"
   },
   {
    "duration": 4,
    "start_time": "2025-01-16T17:30:19.703Z"
   },
   {
    "duration": 6,
    "start_time": "2025-01-16T17:30:19.708Z"
   },
   {
    "duration": 10,
    "start_time": "2025-01-16T17:30:19.715Z"
   },
   {
    "duration": 4,
    "start_time": "2025-01-16T17:30:19.771Z"
   },
   {
    "duration": 12,
    "start_time": "2025-01-16T17:30:19.777Z"
   },
   {
    "duration": 4,
    "start_time": "2025-01-16T17:30:19.791Z"
   },
   {
    "duration": 17,
    "start_time": "2025-01-16T17:30:19.796Z"
   },
   {
    "duration": 5,
    "start_time": "2025-01-16T17:30:19.816Z"
   },
   {
    "duration": 317,
    "start_time": "2025-01-16T17:30:19.823Z"
   },
   {
    "duration": 8,
    "start_time": "2025-01-16T17:30:20.142Z"
   },
   {
    "duration": 394,
    "start_time": "2025-01-16T17:30:20.152Z"
   },
   {
    "duration": 194,
    "start_time": "2025-01-16T17:30:58.056Z"
   },
   {
    "duration": 15,
    "start_time": "2025-01-16T17:32:47.869Z"
   },
   {
    "duration": 13,
    "start_time": "2025-01-16T17:33:19.100Z"
   },
   {
    "duration": 13,
    "start_time": "2025-01-16T17:33:27.469Z"
   },
   {
    "duration": 13,
    "start_time": "2025-01-16T17:33:29.416Z"
   },
   {
    "duration": 13,
    "start_time": "2025-01-16T17:33:34.922Z"
   },
   {
    "duration": 13,
    "start_time": "2025-01-16T17:33:36.721Z"
   },
   {
    "duration": 14,
    "start_time": "2025-01-16T17:33:38.069Z"
   },
   {
    "duration": 14,
    "start_time": "2025-01-16T17:34:29.180Z"
   },
   {
    "duration": 14,
    "start_time": "2025-01-16T17:34:54.662Z"
   },
   {
    "duration": 258,
    "start_time": "2025-01-16T17:38:30.322Z"
   },
   {
    "duration": 331,
    "start_time": "2025-01-16T17:39:29.131Z"
   },
   {
    "duration": 368,
    "start_time": "2025-01-16T17:40:57.513Z"
   },
   {
    "duration": 333,
    "start_time": "2025-01-16T17:42:28.209Z"
   },
   {
    "duration": 277,
    "start_time": "2025-01-16T17:42:46.209Z"
   },
   {
    "duration": 434,
    "start_time": "2025-01-16T17:44:21.643Z"
   },
   {
    "duration": 285,
    "start_time": "2025-01-16T17:44:34.797Z"
   },
   {
    "duration": 13,
    "start_time": "2025-01-16T17:51:37.625Z"
   },
   {
    "duration": 12,
    "start_time": "2025-01-16T17:51:58.640Z"
   },
   {
    "duration": 737,
    "start_time": "2025-01-16T17:52:18.071Z"
   },
   {
    "duration": 25,
    "start_time": "2025-01-16T17:52:18.811Z"
   },
   {
    "duration": 14,
    "start_time": "2025-01-16T17:52:18.837Z"
   },
   {
    "duration": 24,
    "start_time": "2025-01-16T17:52:18.853Z"
   },
   {
    "duration": 3,
    "start_time": "2025-01-16T17:52:18.878Z"
   },
   {
    "duration": 2,
    "start_time": "2025-01-16T17:52:18.883Z"
   },
   {
    "duration": 6,
    "start_time": "2025-01-16T17:52:18.887Z"
   },
   {
    "duration": 7,
    "start_time": "2025-01-16T17:52:18.895Z"
   },
   {
    "duration": 15,
    "start_time": "2025-01-16T17:52:18.903Z"
   },
   {
    "duration": 12,
    "start_time": "2025-01-16T17:52:18.920Z"
   },
   {
    "duration": 9,
    "start_time": "2025-01-16T17:52:18.970Z"
   },
   {
    "duration": 4,
    "start_time": "2025-01-16T17:52:18.980Z"
   },
   {
    "duration": 4,
    "start_time": "2025-01-16T17:52:18.985Z"
   },
   {
    "duration": 3,
    "start_time": "2025-01-16T17:52:18.991Z"
   },
   {
    "duration": 4,
    "start_time": "2025-01-16T17:52:18.995Z"
   },
   {
    "duration": 3,
    "start_time": "2025-01-16T17:52:19.001Z"
   },
   {
    "duration": 3,
    "start_time": "2025-01-16T17:52:19.006Z"
   },
   {
    "duration": 6,
    "start_time": "2025-01-16T17:52:19.011Z"
   },
   {
    "duration": 52,
    "start_time": "2025-01-16T17:52:19.019Z"
   },
   {
    "duration": 3,
    "start_time": "2025-01-16T17:52:19.073Z"
   },
   {
    "duration": 11,
    "start_time": "2025-01-16T17:52:19.078Z"
   },
   {
    "duration": 4,
    "start_time": "2025-01-16T17:52:19.090Z"
   },
   {
    "duration": 17,
    "start_time": "2025-01-16T17:52:19.095Z"
   },
   {
    "duration": 6,
    "start_time": "2025-01-16T17:52:19.113Z"
   },
   {
    "duration": 320,
    "start_time": "2025-01-16T17:52:19.120Z"
   },
   {
    "duration": 7,
    "start_time": "2025-01-16T17:52:19.442Z"
   },
   {
    "duration": 271,
    "start_time": "2025-01-16T17:52:19.450Z"
   },
   {
    "duration": 0,
    "start_time": "2025-01-16T17:52:19.723Z"
   },
   {
    "duration": 206,
    "start_time": "2025-01-16T17:53:15.619Z"
   },
   {
    "duration": 3,
    "start_time": "2025-01-16T17:54:54.516Z"
   },
   {
    "duration": 341,
    "start_time": "2025-01-16T18:11:18.762Z"
   },
   {
    "duration": 31,
    "start_time": "2025-01-16T18:20:43.498Z"
   },
   {
    "duration": 31,
    "start_time": "2025-01-16T18:22:43.013Z"
   },
   {
    "duration": 163,
    "start_time": "2025-01-16T19:52:42.513Z"
   },
   {
    "duration": 2445,
    "start_time": "2025-01-16T19:52:55.384Z"
   },
   {
    "duration": 38,
    "start_time": "2025-01-16T19:52:57.831Z"
   },
   {
    "duration": 13,
    "start_time": "2025-01-16T19:52:57.870Z"
   },
   {
    "duration": 11,
    "start_time": "2025-01-16T19:52:57.886Z"
   },
   {
    "duration": 4,
    "start_time": "2025-01-16T19:52:57.899Z"
   },
   {
    "duration": 3,
    "start_time": "2025-01-16T19:52:57.904Z"
   },
   {
    "duration": 34,
    "start_time": "2025-01-16T19:52:57.909Z"
   },
   {
    "duration": 6,
    "start_time": "2025-01-16T19:52:57.945Z"
   },
   {
    "duration": 14,
    "start_time": "2025-01-16T19:52:57.953Z"
   },
   {
    "duration": 13,
    "start_time": "2025-01-16T19:52:57.969Z"
   },
   {
    "duration": 7,
    "start_time": "2025-01-16T19:52:57.983Z"
   },
   {
    "duration": 3,
    "start_time": "2025-01-16T19:52:57.992Z"
   },
   {
    "duration": 46,
    "start_time": "2025-01-16T19:52:57.997Z"
   },
   {
    "duration": 4,
    "start_time": "2025-01-16T19:52:58.045Z"
   },
   {
    "duration": 4,
    "start_time": "2025-01-16T19:52:58.051Z"
   },
   {
    "duration": 3,
    "start_time": "2025-01-16T19:52:58.057Z"
   },
   {
    "duration": 3,
    "start_time": "2025-01-16T19:52:58.062Z"
   },
   {
    "duration": 6,
    "start_time": "2025-01-16T19:52:58.067Z"
   },
   {
    "duration": 9,
    "start_time": "2025-01-16T19:52:58.074Z"
   },
   {
    "duration": 3,
    "start_time": "2025-01-16T19:52:58.085Z"
   },
   {
    "duration": 63,
    "start_time": "2025-01-16T19:52:58.090Z"
   },
   {
    "duration": 4,
    "start_time": "2025-01-16T19:52:58.154Z"
   },
   {
    "duration": 18,
    "start_time": "2025-01-16T19:52:58.159Z"
   },
   {
    "duration": 7,
    "start_time": "2025-01-16T19:52:58.179Z"
   },
   {
    "duration": 360,
    "start_time": "2025-01-16T19:52:58.187Z"
   },
   {
    "duration": 8,
    "start_time": "2025-01-16T19:52:58.548Z"
   },
   {
    "duration": 4,
    "start_time": "2025-01-16T19:52:58.557Z"
   },
   {
    "duration": 251,
    "start_time": "2025-01-16T19:52:58.565Z"
   },
   {
    "duration": 0,
    "start_time": "2025-01-16T19:52:58.817Z"
   },
   {
    "duration": 325,
    "start_time": "2025-01-16T19:53:36.343Z"
   },
   {
    "duration": 15,
    "start_time": "2025-01-16T19:53:42.707Z"
   },
   {
    "duration": 18,
    "start_time": "2025-01-16T19:59:20.185Z"
   },
   {
    "duration": 18,
    "start_time": "2025-01-16T20:13:15.753Z"
   },
   {
    "duration": 22,
    "start_time": "2025-01-16T20:14:01.033Z"
   },
   {
    "duration": 4,
    "start_time": "2025-01-16T20:26:51.559Z"
   },
   {
    "duration": 24,
    "start_time": "2025-01-16T20:35:27.547Z"
   },
   {
    "duration": 792,
    "start_time": "2025-01-16T20:40:35.369Z"
   },
   {
    "duration": 24,
    "start_time": "2025-01-16T20:40:36.163Z"
   },
   {
    "duration": 14,
    "start_time": "2025-01-16T20:40:36.188Z"
   },
   {
    "duration": 11,
    "start_time": "2025-01-16T20:40:36.203Z"
   },
   {
    "duration": 28,
    "start_time": "2025-01-16T20:40:36.215Z"
   },
   {
    "duration": 3,
    "start_time": "2025-01-16T20:40:36.244Z"
   },
   {
    "duration": 9,
    "start_time": "2025-01-16T20:40:36.249Z"
   },
   {
    "duration": 7,
    "start_time": "2025-01-16T20:40:36.260Z"
   },
   {
    "duration": 15,
    "start_time": "2025-01-16T20:40:36.268Z"
   },
   {
    "duration": 12,
    "start_time": "2025-01-16T20:40:36.285Z"
   },
   {
    "duration": 49,
    "start_time": "2025-01-16T20:40:36.298Z"
   },
   {
    "duration": 4,
    "start_time": "2025-01-16T20:40:36.348Z"
   },
   {
    "duration": 4,
    "start_time": "2025-01-16T20:40:36.354Z"
   },
   {
    "duration": 5,
    "start_time": "2025-01-16T20:40:36.360Z"
   },
   {
    "duration": 9,
    "start_time": "2025-01-16T20:40:36.366Z"
   },
   {
    "duration": 4,
    "start_time": "2025-01-16T20:40:36.376Z"
   },
   {
    "duration": 3,
    "start_time": "2025-01-16T20:40:36.382Z"
   },
   {
    "duration": 7,
    "start_time": "2025-01-16T20:40:36.387Z"
   },
   {
    "duration": 9,
    "start_time": "2025-01-16T20:40:36.444Z"
   },
   {
    "duration": 3,
    "start_time": "2025-01-16T20:40:36.455Z"
   },
   {
    "duration": 11,
    "start_time": "2025-01-16T20:40:36.460Z"
   },
   {
    "duration": 4,
    "start_time": "2025-01-16T20:40:36.472Z"
   },
   {
    "duration": 17,
    "start_time": "2025-01-16T20:40:36.477Z"
   },
   {
    "duration": 50,
    "start_time": "2025-01-16T20:40:36.496Z"
   },
   {
    "duration": 296,
    "start_time": "2025-01-16T20:40:36.548Z"
   },
   {
    "duration": 8,
    "start_time": "2025-01-16T20:40:36.846Z"
   },
   {
    "duration": 18,
    "start_time": "2025-01-16T20:40:36.856Z"
   },
   {
    "duration": 300,
    "start_time": "2025-01-16T20:40:36.879Z"
   },
   {
    "duration": 26,
    "start_time": "2025-01-16T20:40:37.181Z"
   },
   {
    "duration": 3,
    "start_time": "2025-01-16T20:40:37.209Z"
   },
   {
    "duration": 9,
    "start_time": "2025-01-16T20:51:22.076Z"
   },
   {
    "duration": 9,
    "start_time": "2025-01-16T20:52:25.765Z"
   },
   {
    "duration": 8,
    "start_time": "2025-01-16T20:57:05.107Z"
   },
   {
    "duration": 7,
    "start_time": "2025-01-16T21:05:54.566Z"
   },
   {
    "duration": 8,
    "start_time": "2025-01-16T21:12:22.442Z"
   },
   {
    "duration": 9,
    "start_time": "2025-01-16T21:16:02.168Z"
   },
   {
    "duration": 2,
    "start_time": "2025-01-16T21:17:45.969Z"
   },
   {
    "duration": 11,
    "start_time": "2025-01-16T21:20:30.787Z"
   },
   {
    "duration": 11,
    "start_time": "2025-01-16T21:20:33.983Z"
   },
   {
    "duration": 9,
    "start_time": "2025-01-16T21:21:37.735Z"
   },
   {
    "duration": 196,
    "start_time": "2025-01-16T22:00:45.185Z"
   },
   {
    "duration": 153,
    "start_time": "2025-01-16T22:00:55.734Z"
   },
   {
    "duration": 152,
    "start_time": "2025-01-16T22:05:00.909Z"
   },
   {
    "duration": 1119,
    "start_time": "2025-01-16T22:05:11.899Z"
   },
   {
    "duration": 146,
    "start_time": "2025-01-16T22:05:21.271Z"
   },
   {
    "duration": 144,
    "start_time": "2025-01-16T22:05:32.706Z"
   },
   {
    "duration": 5,
    "start_time": "2025-01-16T22:20:07.767Z"
   },
   {
    "duration": 4,
    "start_time": "2025-01-16T22:20:41.552Z"
   },
   {
    "duration": 88,
    "start_time": "2025-01-16T22:38:43.549Z"
   },
   {
    "duration": 824,
    "start_time": "2025-01-16T22:38:54.556Z"
   },
   {
    "duration": 25,
    "start_time": "2025-01-16T22:38:55.383Z"
   },
   {
    "duration": 14,
    "start_time": "2025-01-16T22:38:55.409Z"
   },
   {
    "duration": 24,
    "start_time": "2025-01-16T22:38:55.425Z"
   },
   {
    "duration": 4,
    "start_time": "2025-01-16T22:38:55.452Z"
   },
   {
    "duration": 6,
    "start_time": "2025-01-16T22:38:55.457Z"
   },
   {
    "duration": 8,
    "start_time": "2025-01-16T22:38:55.465Z"
   },
   {
    "duration": 7,
    "start_time": "2025-01-16T22:38:55.474Z"
   },
   {
    "duration": 14,
    "start_time": "2025-01-16T22:38:55.482Z"
   },
   {
    "duration": 56,
    "start_time": "2025-01-16T22:38:55.497Z"
   },
   {
    "duration": 6,
    "start_time": "2025-01-16T22:38:55.556Z"
   },
   {
    "duration": 4,
    "start_time": "2025-01-16T22:38:55.563Z"
   },
   {
    "duration": 5,
    "start_time": "2025-01-16T22:38:55.569Z"
   },
   {
    "duration": 3,
    "start_time": "2025-01-16T22:38:55.579Z"
   },
   {
    "duration": 4,
    "start_time": "2025-01-16T22:38:55.584Z"
   },
   {
    "duration": 4,
    "start_time": "2025-01-16T22:38:55.590Z"
   },
   {
    "duration": 3,
    "start_time": "2025-01-16T22:38:55.643Z"
   },
   {
    "duration": 7,
    "start_time": "2025-01-16T22:38:55.648Z"
   },
   {
    "duration": 9,
    "start_time": "2025-01-16T22:38:55.657Z"
   },
   {
    "duration": 3,
    "start_time": "2025-01-16T22:38:55.668Z"
   },
   {
    "duration": 35,
    "start_time": "2025-01-16T22:38:55.673Z"
   },
   {
    "duration": 4,
    "start_time": "2025-01-16T22:38:55.709Z"
   },
   {
    "duration": 37,
    "start_time": "2025-01-16T22:38:55.714Z"
   },
   {
    "duration": 8,
    "start_time": "2025-01-16T22:38:55.753Z"
   },
   {
    "duration": 302,
    "start_time": "2025-01-16T22:38:55.763Z"
   },
   {
    "duration": 7,
    "start_time": "2025-01-16T22:38:56.066Z"
   },
   {
    "duration": 18,
    "start_time": "2025-01-16T22:38:56.076Z"
   },
   {
    "duration": 334,
    "start_time": "2025-01-16T22:38:56.096Z"
   },
   {
    "duration": 25,
    "start_time": "2025-01-16T22:38:56.433Z"
   },
   {
    "duration": 3,
    "start_time": "2025-01-16T22:38:56.460Z"
   },
   {
    "duration": 8,
    "start_time": "2025-01-16T22:38:56.465Z"
   },
   {
    "duration": 5,
    "start_time": "2025-01-16T22:38:56.475Z"
   },
   {
    "duration": 312,
    "start_time": "2025-01-16T22:38:56.482Z"
   },
   {
    "duration": 0,
    "start_time": "2025-01-16T22:38:56.796Z"
   },
   {
    "duration": 0,
    "start_time": "2025-01-16T22:38:56.798Z"
   },
   {
    "duration": 0,
    "start_time": "2025-01-16T22:38:56.799Z"
   },
   {
    "duration": 21,
    "start_time": "2025-01-16T22:39:07.942Z"
   },
   {
    "duration": 810,
    "start_time": "2025-01-16T22:39:17.463Z"
   },
   {
    "duration": 24,
    "start_time": "2025-01-16T22:39:18.276Z"
   },
   {
    "duration": 13,
    "start_time": "2025-01-16T22:39:18.302Z"
   },
   {
    "duration": 28,
    "start_time": "2025-01-16T22:39:18.317Z"
   },
   {
    "duration": 4,
    "start_time": "2025-01-16T22:39:18.347Z"
   },
   {
    "duration": 2,
    "start_time": "2025-01-16T22:39:18.353Z"
   },
   {
    "duration": 7,
    "start_time": "2025-01-16T22:39:18.356Z"
   },
   {
    "duration": 7,
    "start_time": "2025-01-16T22:39:18.364Z"
   },
   {
    "duration": 14,
    "start_time": "2025-01-16T22:39:18.373Z"
   },
   {
    "duration": 56,
    "start_time": "2025-01-16T22:39:18.389Z"
   },
   {
    "duration": 6,
    "start_time": "2025-01-16T22:39:18.447Z"
   },
   {
    "duration": 3,
    "start_time": "2025-01-16T22:39:18.455Z"
   },
   {
    "duration": 4,
    "start_time": "2025-01-16T22:39:18.460Z"
   },
   {
    "duration": 4,
    "start_time": "2025-01-16T22:39:18.470Z"
   },
   {
    "duration": 4,
    "start_time": "2025-01-16T22:39:18.476Z"
   },
   {
    "duration": 4,
    "start_time": "2025-01-16T22:39:18.482Z"
   },
   {
    "duration": 3,
    "start_time": "2025-01-16T22:39:18.488Z"
   },
   {
    "duration": 54,
    "start_time": "2025-01-16T22:39:18.493Z"
   },
   {
    "duration": 9,
    "start_time": "2025-01-16T22:39:18.549Z"
   },
   {
    "duration": 4,
    "start_time": "2025-01-16T22:39:18.559Z"
   },
   {
    "duration": 13,
    "start_time": "2025-01-16T22:39:18.564Z"
   },
   {
    "duration": 4,
    "start_time": "2025-01-16T22:39:18.578Z"
   },
   {
    "duration": 60,
    "start_time": "2025-01-16T22:39:18.583Z"
   },
   {
    "duration": 7,
    "start_time": "2025-01-16T22:39:18.644Z"
   },
   {
    "duration": 297,
    "start_time": "2025-01-16T22:39:18.653Z"
   },
   {
    "duration": 10,
    "start_time": "2025-01-16T22:39:18.951Z"
   },
   {
    "duration": 12,
    "start_time": "2025-01-16T22:39:18.962Z"
   },
   {
    "duration": 319,
    "start_time": "2025-01-16T22:39:18.976Z"
   },
   {
    "duration": 29,
    "start_time": "2025-01-16T22:39:19.297Z"
   },
   {
    "duration": 16,
    "start_time": "2025-01-16T22:39:19.328Z"
   },
   {
    "duration": 7,
    "start_time": "2025-01-16T22:39:19.346Z"
   },
   {
    "duration": 6,
    "start_time": "2025-01-16T22:39:19.355Z"
   },
   {
    "duration": 302,
    "start_time": "2025-01-16T22:39:19.362Z"
   },
   {
    "duration": 0,
    "start_time": "2025-01-16T22:39:19.665Z"
   },
   {
    "duration": 0,
    "start_time": "2025-01-16T22:39:19.666Z"
   },
   {
    "duration": 0,
    "start_time": "2025-01-16T22:39:19.667Z"
   },
   {
    "duration": 20,
    "start_time": "2025-01-16T22:39:47.738Z"
   },
   {
    "duration": 19,
    "start_time": "2025-01-16T22:39:56.037Z"
   },
   {
    "duration": 10,
    "start_time": "2025-01-16T22:40:01.956Z"
   },
   {
    "duration": 21,
    "start_time": "2025-01-16T22:40:05.176Z"
   },
   {
    "duration": 9,
    "start_time": "2025-01-16T22:40:13.390Z"
   },
   {
    "duration": 7,
    "start_time": "2025-01-16T22:40:16.755Z"
   },
   {
    "duration": 15,
    "start_time": "2025-01-16T22:40:19.252Z"
   },
   {
    "duration": 7,
    "start_time": "2025-01-16T22:40:29.806Z"
   },
   {
    "duration": 14,
    "start_time": "2025-01-16T22:40:42.925Z"
   },
   {
    "duration": 9,
    "start_time": "2025-01-16T22:41:01.845Z"
   },
   {
    "duration": 9,
    "start_time": "2025-01-16T22:41:13.014Z"
   },
   {
    "duration": 7,
    "start_time": "2025-01-16T22:41:14.959Z"
   },
   {
    "duration": 15,
    "start_time": "2025-01-16T22:41:17.543Z"
   },
   {
    "duration": 14,
    "start_time": "2025-01-16T22:41:19.943Z"
   },
   {
    "duration": 9,
    "start_time": "2025-01-16T22:42:44.142Z"
   },
   {
    "duration": 8,
    "start_time": "2025-01-16T22:43:38.534Z"
   },
   {
    "duration": 9,
    "start_time": "2025-01-16T22:43:57.884Z"
   },
   {
    "duration": 156,
    "start_time": "2025-01-16T22:44:33.110Z"
   },
   {
    "duration": 139,
    "start_time": "2025-01-16T22:44:37.108Z"
   },
   {
    "duration": 165,
    "start_time": "2025-01-16T22:45:16.817Z"
   },
   {
    "duration": 20,
    "start_time": "2025-01-16T22:45:47.363Z"
   },
   {
    "duration": 755,
    "start_time": "2025-01-16T22:45:55.417Z"
   },
   {
    "duration": 23,
    "start_time": "2025-01-16T22:45:56.175Z"
   },
   {
    "duration": 13,
    "start_time": "2025-01-16T22:45:56.199Z"
   },
   {
    "duration": 32,
    "start_time": "2025-01-16T22:45:56.215Z"
   },
   {
    "duration": 4,
    "start_time": "2025-01-16T22:45:56.249Z"
   },
   {
    "duration": 2,
    "start_time": "2025-01-16T22:45:56.255Z"
   },
   {
    "duration": 7,
    "start_time": "2025-01-16T22:45:56.259Z"
   },
   {
    "duration": 7,
    "start_time": "2025-01-16T22:45:56.268Z"
   },
   {
    "duration": 13,
    "start_time": "2025-01-16T22:45:56.276Z"
   },
   {
    "duration": 52,
    "start_time": "2025-01-16T22:45:56.293Z"
   },
   {
    "duration": 5,
    "start_time": "2025-01-16T22:45:56.347Z"
   },
   {
    "duration": 3,
    "start_time": "2025-01-16T22:45:56.354Z"
   },
   {
    "duration": 3,
    "start_time": "2025-01-16T22:45:56.359Z"
   },
   {
    "duration": 3,
    "start_time": "2025-01-16T22:45:56.364Z"
   },
   {
    "duration": 10,
    "start_time": "2025-01-16T22:45:56.369Z"
   },
   {
    "duration": 4,
    "start_time": "2025-01-16T22:45:56.380Z"
   },
   {
    "duration": 3,
    "start_time": "2025-01-16T22:45:56.386Z"
   },
   {
    "duration": 5,
    "start_time": "2025-01-16T22:45:56.391Z"
   },
   {
    "duration": 55,
    "start_time": "2025-01-16T22:45:56.397Z"
   },
   {
    "duration": 3,
    "start_time": "2025-01-16T22:45:56.454Z"
   },
   {
    "duration": 12,
    "start_time": "2025-01-16T22:45:56.459Z"
   },
   {
    "duration": 4,
    "start_time": "2025-01-16T22:45:56.472Z"
   },
   {
    "duration": 18,
    "start_time": "2025-01-16T22:45:56.477Z"
   },
   {
    "duration": 49,
    "start_time": "2025-01-16T22:45:56.497Z"
   },
   {
    "duration": 283,
    "start_time": "2025-01-16T22:45:56.547Z"
   },
   {
    "duration": 16,
    "start_time": "2025-01-16T22:45:56.832Z"
   },
   {
    "duration": 12,
    "start_time": "2025-01-16T22:45:56.850Z"
   },
   {
    "duration": 321,
    "start_time": "2025-01-16T22:45:56.867Z"
   },
   {
    "duration": 24,
    "start_time": "2025-01-16T22:45:57.189Z"
   },
   {
    "duration": 3,
    "start_time": "2025-01-16T22:45:57.215Z"
   },
   {
    "duration": 27,
    "start_time": "2025-01-16T22:45:57.219Z"
   },
   {
    "duration": 6,
    "start_time": "2025-01-16T22:45:57.248Z"
   },
   {
    "duration": 9,
    "start_time": "2025-01-16T22:45:57.256Z"
   },
   {
    "duration": 228,
    "start_time": "2025-01-16T22:45:57.268Z"
   },
   {
    "duration": 5,
    "start_time": "2025-01-16T22:45:57.498Z"
   },
   {
    "duration": 239,
    "start_time": "2025-01-16T22:45:57.505Z"
   },
   {
    "duration": 65,
    "start_time": "2025-01-16T22:48:05.840Z"
   },
   {
    "duration": 155,
    "start_time": "2025-01-16T22:48:18.368Z"
   },
   {
    "duration": 144,
    "start_time": "2025-01-16T22:49:07.036Z"
   },
   {
    "duration": 210,
    "start_time": "2025-01-16T22:49:22.996Z"
   },
   {
    "duration": 824,
    "start_time": "2025-01-16T22:49:35.701Z"
   },
   {
    "duration": 28,
    "start_time": "2025-01-16T22:49:36.527Z"
   },
   {
    "duration": 13,
    "start_time": "2025-01-16T22:49:36.557Z"
   },
   {
    "duration": 11,
    "start_time": "2025-01-16T22:49:36.572Z"
   },
   {
    "duration": 3,
    "start_time": "2025-01-16T22:49:36.587Z"
   },
   {
    "duration": 4,
    "start_time": "2025-01-16T22:49:36.591Z"
   },
   {
    "duration": 45,
    "start_time": "2025-01-16T22:49:36.597Z"
   },
   {
    "duration": 7,
    "start_time": "2025-01-16T22:49:36.644Z"
   },
   {
    "duration": 14,
    "start_time": "2025-01-16T22:49:36.653Z"
   },
   {
    "duration": 11,
    "start_time": "2025-01-16T22:49:36.668Z"
   },
   {
    "duration": 6,
    "start_time": "2025-01-16T22:49:36.681Z"
   },
   {
    "duration": 4,
    "start_time": "2025-01-16T22:49:36.688Z"
   },
   {
    "duration": 4,
    "start_time": "2025-01-16T22:49:36.693Z"
   },
   {
    "duration": 3,
    "start_time": "2025-01-16T22:49:36.742Z"
   },
   {
    "duration": 3,
    "start_time": "2025-01-16T22:49:36.747Z"
   },
   {
    "duration": 3,
    "start_time": "2025-01-16T22:49:36.752Z"
   },
   {
    "duration": 4,
    "start_time": "2025-01-16T22:49:36.756Z"
   },
   {
    "duration": 6,
    "start_time": "2025-01-16T22:49:36.761Z"
   },
   {
    "duration": 8,
    "start_time": "2025-01-16T22:49:36.769Z"
   },
   {
    "duration": 3,
    "start_time": "2025-01-16T22:49:36.778Z"
   },
   {
    "duration": 60,
    "start_time": "2025-01-16T22:49:36.783Z"
   },
   {
    "duration": 5,
    "start_time": "2025-01-16T22:49:36.845Z"
   },
   {
    "duration": 20,
    "start_time": "2025-01-16T22:49:36.852Z"
   },
   {
    "duration": 6,
    "start_time": "2025-01-16T22:49:36.874Z"
   },
   {
    "duration": 318,
    "start_time": "2025-01-16T22:49:36.883Z"
   },
   {
    "duration": 9,
    "start_time": "2025-01-16T22:49:37.203Z"
   },
   {
    "duration": 12,
    "start_time": "2025-01-16T22:49:37.214Z"
   },
   {
    "duration": 355,
    "start_time": "2025-01-16T22:49:37.228Z"
   },
   {
    "duration": 23,
    "start_time": "2025-01-16T22:49:37.585Z"
   },
   {
    "duration": 3,
    "start_time": "2025-01-16T22:49:37.610Z"
   },
   {
    "duration": 32,
    "start_time": "2025-01-16T22:49:37.615Z"
   },
   {
    "duration": 6,
    "start_time": "2025-01-16T22:49:37.649Z"
   },
   {
    "duration": 9,
    "start_time": "2025-01-16T22:49:37.657Z"
   },
   {
    "duration": 165,
    "start_time": "2025-01-16T22:49:37.669Z"
   },
   {
    "duration": 10,
    "start_time": "2025-01-16T22:49:37.836Z"
   },
   {
    "duration": 388,
    "start_time": "2025-01-16T22:49:37.847Z"
   },
   {
    "duration": 157,
    "start_time": "2025-01-16T22:51:11.144Z"
   },
   {
    "duration": 202,
    "start_time": "2025-01-16T22:51:14.705Z"
   },
   {
    "duration": 139,
    "start_time": "2025-01-16T22:51:15.707Z"
   },
   {
    "duration": 5,
    "start_time": "2025-01-16T22:54:08.228Z"
   },
   {
    "duration": 5,
    "start_time": "2025-01-16T22:54:36.140Z"
   },
   {
    "duration": 131,
    "start_time": "2025-01-16T22:54:48.413Z"
   },
   {
    "duration": 5,
    "start_time": "2025-01-16T22:55:59.700Z"
   },
   {
    "duration": 4,
    "start_time": "2025-01-16T22:56:23.115Z"
   },
   {
    "duration": 9,
    "start_time": "2025-01-16T23:01:00.643Z"
   },
   {
    "duration": 147,
    "start_time": "2025-01-16T23:02:51.101Z"
   },
   {
    "duration": 137,
    "start_time": "2025-01-16T23:02:57.764Z"
   },
   {
    "duration": 828,
    "start_time": "2025-01-16T23:05:06.208Z"
   },
   {
    "duration": 24,
    "start_time": "2025-01-16T23:05:07.042Z"
   },
   {
    "duration": 13,
    "start_time": "2025-01-16T23:05:07.068Z"
   },
   {
    "duration": 12,
    "start_time": "2025-01-16T23:05:07.084Z"
   },
   {
    "duration": 3,
    "start_time": "2025-01-16T23:05:07.097Z"
   },
   {
    "duration": 2,
    "start_time": "2025-01-16T23:05:07.103Z"
   },
   {
    "duration": 37,
    "start_time": "2025-01-16T23:05:07.106Z"
   },
   {
    "duration": 10,
    "start_time": "2025-01-16T23:05:07.145Z"
   },
   {
    "duration": 15,
    "start_time": "2025-01-16T23:05:07.156Z"
   },
   {
    "duration": 12,
    "start_time": "2025-01-16T23:05:07.176Z"
   },
   {
    "duration": 7,
    "start_time": "2025-01-16T23:05:07.190Z"
   },
   {
    "duration": 3,
    "start_time": "2025-01-16T23:05:07.199Z"
   },
   {
    "duration": 5,
    "start_time": "2025-01-16T23:05:07.244Z"
   },
   {
    "duration": 4,
    "start_time": "2025-01-16T23:05:07.251Z"
   },
   {
    "duration": 4,
    "start_time": "2025-01-16T23:05:07.257Z"
   },
   {
    "duration": 4,
    "start_time": "2025-01-16T23:05:07.263Z"
   },
   {
    "duration": 3,
    "start_time": "2025-01-16T23:05:07.269Z"
   },
   {
    "duration": 6,
    "start_time": "2025-01-16T23:05:07.274Z"
   },
   {
    "duration": 61,
    "start_time": "2025-01-16T23:05:07.282Z"
   },
   {
    "duration": 3,
    "start_time": "2025-01-16T23:05:07.345Z"
   },
   {
    "duration": 10,
    "start_time": "2025-01-16T23:05:07.350Z"
   },
   {
    "duration": 3,
    "start_time": "2025-01-16T23:05:07.362Z"
   },
   {
    "duration": 18,
    "start_time": "2025-01-16T23:05:07.366Z"
   },
   {
    "duration": 6,
    "start_time": "2025-01-16T23:05:07.386Z"
   },
   {
    "duration": 323,
    "start_time": "2025-01-16T23:05:07.394Z"
   },
   {
    "duration": 9,
    "start_time": "2025-01-16T23:05:07.720Z"
   },
   {
    "duration": 3,
    "start_time": "2025-01-16T23:05:07.744Z"
   },
   {
    "duration": 392,
    "start_time": "2025-01-16T23:05:07.751Z"
   },
   {
    "duration": 23,
    "start_time": "2025-01-16T23:05:08.145Z"
   },
   {
    "duration": 4,
    "start_time": "2025-01-16T23:05:08.170Z"
   },
   {
    "duration": 8,
    "start_time": "2025-01-16T23:05:08.175Z"
   },
   {
    "duration": 5,
    "start_time": "2025-01-16T23:05:08.185Z"
   },
   {
    "duration": 266,
    "start_time": "2025-01-16T23:05:08.193Z"
   },
   {
    "duration": 0,
    "start_time": "2025-01-16T23:05:08.461Z"
   },
   {
    "duration": 0,
    "start_time": "2025-01-16T23:05:08.462Z"
   },
   {
    "duration": 0,
    "start_time": "2025-01-16T23:05:08.463Z"
   },
   {
    "duration": 0,
    "start_time": "2025-01-16T23:05:08.464Z"
   },
   {
    "duration": 0,
    "start_time": "2025-01-16T23:05:08.465Z"
   },
   {
    "duration": 0,
    "start_time": "2025-01-16T23:05:08.465Z"
   },
   {
    "duration": 342,
    "start_time": "2025-01-16T23:08:55.486Z"
   },
   {
    "duration": 16,
    "start_time": "2025-01-16T23:47:17.064Z"
   },
   {
    "duration": 15,
    "start_time": "2025-01-16T23:47:29.875Z"
   },
   {
    "duration": 9,
    "start_time": "2025-01-16T23:47:47.189Z"
   },
   {
    "duration": 7,
    "start_time": "2025-01-16T23:48:02.528Z"
   },
   {
    "duration": 20,
    "start_time": "2025-01-16T23:48:39.746Z"
   },
   {
    "duration": 7,
    "start_time": "2025-01-16T23:48:44.086Z"
   },
   {
    "duration": 14,
    "start_time": "2025-01-16T23:48:46.235Z"
   },
   {
    "duration": 15,
    "start_time": "2025-01-16T23:49:05.251Z"
   },
   {
    "duration": 12,
    "start_time": "2025-01-16T23:49:36.049Z"
   },
   {
    "duration": 20,
    "start_time": "2025-01-16T23:50:19.548Z"
   },
   {
    "duration": 14,
    "start_time": "2025-01-16T23:50:41.743Z"
   },
   {
    "duration": 6,
    "start_time": "2025-01-16T23:51:06.094Z"
   },
   {
    "duration": 6,
    "start_time": "2025-01-16T23:51:24.261Z"
   },
   {
    "duration": 10,
    "start_time": "2025-01-16T23:53:32.809Z"
   },
   {
    "duration": 12,
    "start_time": "2025-01-16T23:54:59.104Z"
   },
   {
    "duration": 9,
    "start_time": "2025-01-16T23:55:00.269Z"
   },
   {
    "duration": 9,
    "start_time": "2025-01-16T23:55:01.008Z"
   },
   {
    "duration": 10,
    "start_time": "2025-01-16T23:55:01.864Z"
   },
   {
    "duration": 9,
    "start_time": "2025-01-16T23:55:02.130Z"
   },
   {
    "duration": 10,
    "start_time": "2025-01-16T23:55:02.736Z"
   },
   {
    "duration": 10,
    "start_time": "2025-01-16T23:55:03.496Z"
   },
   {
    "duration": 11,
    "start_time": "2025-01-16T23:55:04.116Z"
   },
   {
    "duration": 12,
    "start_time": "2025-01-16T23:55:04.417Z"
   },
   {
    "duration": 879,
    "start_time": "2025-01-16T23:55:20.664Z"
   },
   {
    "duration": 25,
    "start_time": "2025-01-16T23:55:21.545Z"
   },
   {
    "duration": 13,
    "start_time": "2025-01-16T23:55:21.571Z"
   },
   {
    "duration": 11,
    "start_time": "2025-01-16T23:55:21.586Z"
   },
   {
    "duration": 3,
    "start_time": "2025-01-16T23:55:21.600Z"
   },
   {
    "duration": 3,
    "start_time": "2025-01-16T23:55:21.605Z"
   },
   {
    "duration": 38,
    "start_time": "2025-01-16T23:55:21.609Z"
   },
   {
    "duration": 7,
    "start_time": "2025-01-16T23:55:21.649Z"
   },
   {
    "duration": 14,
    "start_time": "2025-01-16T23:55:21.657Z"
   },
   {
    "duration": 13,
    "start_time": "2025-01-16T23:55:21.673Z"
   },
   {
    "duration": 5,
    "start_time": "2025-01-16T23:55:21.688Z"
   },
   {
    "duration": 4,
    "start_time": "2025-01-16T23:55:21.695Z"
   },
   {
    "duration": 44,
    "start_time": "2025-01-16T23:55:21.701Z"
   },
   {
    "duration": 3,
    "start_time": "2025-01-16T23:55:21.750Z"
   },
   {
    "duration": 4,
    "start_time": "2025-01-16T23:55:21.754Z"
   },
   {
    "duration": 3,
    "start_time": "2025-01-16T23:55:21.760Z"
   },
   {
    "duration": 3,
    "start_time": "2025-01-16T23:55:21.765Z"
   },
   {
    "duration": 7,
    "start_time": "2025-01-16T23:55:21.769Z"
   },
   {
    "duration": 9,
    "start_time": "2025-01-16T23:55:21.778Z"
   },
   {
    "duration": 55,
    "start_time": "2025-01-16T23:55:21.789Z"
   },
   {
    "duration": 10,
    "start_time": "2025-01-16T23:55:21.846Z"
   },
   {
    "duration": 3,
    "start_time": "2025-01-16T23:55:21.858Z"
   },
   {
    "duration": 17,
    "start_time": "2025-01-16T23:55:21.863Z"
   },
   {
    "duration": 8,
    "start_time": "2025-01-16T23:55:21.881Z"
   },
   {
    "duration": 313,
    "start_time": "2025-01-16T23:55:21.890Z"
   },
   {
    "duration": 7,
    "start_time": "2025-01-16T23:55:22.205Z"
   },
   {
    "duration": 16,
    "start_time": "2025-01-16T23:55:22.214Z"
   },
   {
    "duration": 366,
    "start_time": "2025-01-16T23:55:22.232Z"
   },
   {
    "duration": 23,
    "start_time": "2025-01-16T23:55:22.601Z"
   },
   {
    "duration": 17,
    "start_time": "2025-01-16T23:55:22.626Z"
   },
   {
    "duration": 10,
    "start_time": "2025-01-16T23:55:22.645Z"
   },
   {
    "duration": 6,
    "start_time": "2025-01-16T23:55:22.657Z"
   },
   {
    "duration": 0,
    "start_time": "2025-01-16T23:55:22.666Z"
   },
   {
    "duration": 0,
    "start_time": "2025-01-16T23:55:22.667Z"
   },
   {
    "duration": 0,
    "start_time": "2025-01-16T23:55:22.668Z"
   },
   {
    "duration": 0,
    "start_time": "2025-01-16T23:55:22.670Z"
   },
   {
    "duration": 0,
    "start_time": "2025-01-16T23:55:22.671Z"
   },
   {
    "duration": 6,
    "start_time": "2025-01-16T23:58:07.700Z"
   },
   {
    "duration": 10,
    "start_time": "2025-01-16T23:58:15.593Z"
   },
   {
    "duration": 11,
    "start_time": "2025-01-16T23:59:33.362Z"
   },
   {
    "duration": 852,
    "start_time": "2025-01-16T23:59:52.577Z"
   },
   {
    "duration": 29,
    "start_time": "2025-01-16T23:59:53.431Z"
   },
   {
    "duration": 13,
    "start_time": "2025-01-16T23:59:53.461Z"
   },
   {
    "duration": 10,
    "start_time": "2025-01-16T23:59:53.476Z"
   },
   {
    "duration": 3,
    "start_time": "2025-01-16T23:59:53.489Z"
   },
   {
    "duration": 3,
    "start_time": "2025-01-16T23:59:53.493Z"
   },
   {
    "duration": 45,
    "start_time": "2025-01-16T23:59:53.498Z"
   },
   {
    "duration": 7,
    "start_time": "2025-01-16T23:59:53.544Z"
   },
   {
    "duration": 13,
    "start_time": "2025-01-16T23:59:53.552Z"
   },
   {
    "duration": 11,
    "start_time": "2025-01-16T23:59:53.567Z"
   },
   {
    "duration": 6,
    "start_time": "2025-01-16T23:59:53.580Z"
   },
   {
    "duration": 3,
    "start_time": "2025-01-16T23:59:53.588Z"
   },
   {
    "duration": 4,
    "start_time": "2025-01-16T23:59:53.593Z"
   },
   {
    "duration": 5,
    "start_time": "2025-01-16T23:59:53.642Z"
   },
   {
    "duration": 3,
    "start_time": "2025-01-16T23:59:53.649Z"
   },
   {
    "duration": 4,
    "start_time": "2025-01-16T23:59:53.654Z"
   },
   {
    "duration": 3,
    "start_time": "2025-01-16T23:59:53.660Z"
   },
   {
    "duration": 6,
    "start_time": "2025-01-16T23:59:53.665Z"
   },
   {
    "duration": 9,
    "start_time": "2025-01-16T23:59:53.672Z"
   },
   {
    "duration": 4,
    "start_time": "2025-01-16T23:59:53.682Z"
   },
   {
    "duration": 63,
    "start_time": "2025-01-16T23:59:53.688Z"
   },
   {
    "duration": 5,
    "start_time": "2025-01-16T23:59:53.753Z"
   },
   {
    "duration": 18,
    "start_time": "2025-01-16T23:59:53.760Z"
   },
   {
    "duration": 7,
    "start_time": "2025-01-16T23:59:53.779Z"
   },
   {
    "duration": 321,
    "start_time": "2025-01-16T23:59:53.788Z"
   },
   {
    "duration": 8,
    "start_time": "2025-01-16T23:59:54.112Z"
   },
   {
    "duration": 4,
    "start_time": "2025-01-16T23:59:54.121Z"
   },
   {
    "duration": 356,
    "start_time": "2025-01-16T23:59:54.142Z"
   },
   {
    "duration": 25,
    "start_time": "2025-01-16T23:59:54.500Z"
   },
   {
    "duration": 3,
    "start_time": "2025-01-16T23:59:54.526Z"
   },
   {
    "duration": 8,
    "start_time": "2025-01-16T23:59:54.544Z"
   },
   {
    "duration": 5,
    "start_time": "2025-01-16T23:59:54.554Z"
   },
   {
    "duration": 12,
    "start_time": "2025-01-16T23:59:54.562Z"
   },
   {
    "duration": 10,
    "start_time": "2025-01-16T23:59:54.576Z"
   },
   {
    "duration": 270,
    "start_time": "2025-01-16T23:59:54.587Z"
   },
   {
    "duration": 0,
    "start_time": "2025-01-16T23:59:54.859Z"
   },
   {
    "duration": 0,
    "start_time": "2025-01-16T23:59:54.860Z"
   },
   {
    "duration": 0,
    "start_time": "2025-01-16T23:59:54.862Z"
   },
   {
    "duration": 12,
    "start_time": "2025-01-17T00:06:19.094Z"
   },
   {
    "duration": 9,
    "start_time": "2025-01-17T00:06:20.268Z"
   },
   {
    "duration": 11,
    "start_time": "2025-01-17T00:06:20.880Z"
   },
   {
    "duration": 9,
    "start_time": "2025-01-17T00:06:21.768Z"
   },
   {
    "duration": 10,
    "start_time": "2025-01-17T00:06:22.453Z"
   },
   {
    "duration": 3,
    "start_time": "2025-01-17T00:07:38.167Z"
   },
   {
    "duration": 6,
    "start_time": "2025-01-17T00:08:15.058Z"
   },
   {
    "duration": 5,
    "start_time": "2025-01-17T00:09:04.108Z"
   },
   {
    "duration": 6,
    "start_time": "2025-01-17T00:10:25.046Z"
   },
   {
    "duration": 11,
    "start_time": "2025-01-17T00:42:24.054Z"
   },
   {
    "duration": 872,
    "start_time": "2025-01-17T00:42:30.359Z"
   },
   {
    "duration": 30,
    "start_time": "2025-01-17T00:42:31.234Z"
   },
   {
    "duration": 15,
    "start_time": "2025-01-17T00:42:31.265Z"
   },
   {
    "duration": 13,
    "start_time": "2025-01-17T00:42:31.282Z"
   },
   {
    "duration": 4,
    "start_time": "2025-01-17T00:42:31.298Z"
   },
   {
    "duration": 3,
    "start_time": "2025-01-17T00:42:31.305Z"
   },
   {
    "duration": 8,
    "start_time": "2025-01-17T00:42:31.344Z"
   },
   {
    "duration": 8,
    "start_time": "2025-01-17T00:42:31.353Z"
   },
   {
    "duration": 15,
    "start_time": "2025-01-17T00:42:31.362Z"
   },
   {
    "duration": 12,
    "start_time": "2025-01-17T00:42:31.378Z"
   },
   {
    "duration": 6,
    "start_time": "2025-01-17T00:42:31.392Z"
   },
   {
    "duration": 42,
    "start_time": "2025-01-17T00:42:31.400Z"
   },
   {
    "duration": 3,
    "start_time": "2025-01-17T00:42:31.444Z"
   },
   {
    "duration": 4,
    "start_time": "2025-01-17T00:42:31.452Z"
   },
   {
    "duration": 3,
    "start_time": "2025-01-17T00:42:31.459Z"
   },
   {
    "duration": 3,
    "start_time": "2025-01-17T00:42:31.464Z"
   },
   {
    "duration": 3,
    "start_time": "2025-01-17T00:42:31.470Z"
   },
   {
    "duration": 6,
    "start_time": "2025-01-17T00:42:31.474Z"
   },
   {
    "duration": 8,
    "start_time": "2025-01-17T00:42:31.482Z"
   },
   {
    "duration": 4,
    "start_time": "2025-01-17T00:42:31.542Z"
   },
   {
    "duration": 12,
    "start_time": "2025-01-17T00:42:31.548Z"
   },
   {
    "duration": 3,
    "start_time": "2025-01-17T00:42:31.562Z"
   },
   {
    "duration": 16,
    "start_time": "2025-01-17T00:42:31.567Z"
   },
   {
    "duration": 6,
    "start_time": "2025-01-17T00:42:31.584Z"
   },
   {
    "duration": 313,
    "start_time": "2025-01-17T00:42:31.592Z"
   },
   {
    "duration": 7,
    "start_time": "2025-01-17T00:42:31.907Z"
   },
   {
    "duration": 23,
    "start_time": "2025-01-17T00:42:31.916Z"
   },
   {
    "duration": 351,
    "start_time": "2025-01-17T00:42:31.940Z"
   },
   {
    "duration": 24,
    "start_time": "2025-01-17T00:42:32.293Z"
   },
   {
    "duration": 4,
    "start_time": "2025-01-17T00:42:32.321Z"
   },
   {
    "duration": 26,
    "start_time": "2025-01-17T00:42:32.327Z"
   },
   {
    "duration": 12,
    "start_time": "2025-01-17T00:42:32.355Z"
   },
   {
    "duration": 4,
    "start_time": "2025-01-17T00:42:32.369Z"
   },
   {
    "duration": 6,
    "start_time": "2025-01-17T00:42:32.374Z"
   },
   {
    "duration": 11,
    "start_time": "2025-01-17T00:42:32.382Z"
   },
   {
    "duration": 271,
    "start_time": "2025-01-17T00:42:32.396Z"
   },
   {
    "duration": 0,
    "start_time": "2025-01-17T00:42:32.669Z"
   },
   {
    "duration": 0,
    "start_time": "2025-01-17T00:42:32.671Z"
   },
   {
    "duration": 0,
    "start_time": "2025-01-17T00:42:32.673Z"
   },
   {
    "duration": 0,
    "start_time": "2025-01-17T00:42:32.674Z"
   },
   {
    "duration": 11,
    "start_time": "2025-01-17T00:45:04.767Z"
   },
   {
    "duration": 10,
    "start_time": "2025-01-17T00:46:02.574Z"
   },
   {
    "duration": 10,
    "start_time": "2025-01-17T00:48:55.833Z"
   },
   {
    "duration": 10,
    "start_time": "2025-01-17T00:49:32.132Z"
   },
   {
    "duration": 11,
    "start_time": "2025-01-17T00:50:10.552Z"
   },
   {
    "duration": 10,
    "start_time": "2025-01-17T00:51:04.305Z"
   },
   {
    "duration": 804,
    "start_time": "2025-01-17T00:51:14.903Z"
   },
   {
    "duration": 23,
    "start_time": "2025-01-17T00:51:15.709Z"
   },
   {
    "duration": 20,
    "start_time": "2025-01-17T00:51:15.734Z"
   },
   {
    "duration": 11,
    "start_time": "2025-01-17T00:51:15.757Z"
   },
   {
    "duration": 3,
    "start_time": "2025-01-17T00:51:15.770Z"
   },
   {
    "duration": 3,
    "start_time": "2025-01-17T00:51:15.775Z"
   },
   {
    "duration": 9,
    "start_time": "2025-01-17T00:51:15.779Z"
   },
   {
    "duration": 8,
    "start_time": "2025-01-17T00:51:15.789Z"
   },
   {
    "duration": 14,
    "start_time": "2025-01-17T00:51:15.842Z"
   },
   {
    "duration": 12,
    "start_time": "2025-01-17T00:51:15.860Z"
   },
   {
    "duration": 6,
    "start_time": "2025-01-17T00:51:15.874Z"
   },
   {
    "duration": 3,
    "start_time": "2025-01-17T00:51:15.882Z"
   },
   {
    "duration": 3,
    "start_time": "2025-01-17T00:51:15.887Z"
   },
   {
    "duration": 3,
    "start_time": "2025-01-17T00:51:15.892Z"
   },
   {
    "duration": 46,
    "start_time": "2025-01-17T00:51:15.897Z"
   },
   {
    "duration": 3,
    "start_time": "2025-01-17T00:51:15.945Z"
   },
   {
    "duration": 3,
    "start_time": "2025-01-17T00:51:15.950Z"
   },
   {
    "duration": 6,
    "start_time": "2025-01-17T00:51:15.954Z"
   },
   {
    "duration": 8,
    "start_time": "2025-01-17T00:51:15.962Z"
   },
   {
    "duration": 3,
    "start_time": "2025-01-17T00:51:15.972Z"
   },
   {
    "duration": 13,
    "start_time": "2025-01-17T00:51:15.976Z"
   },
   {
    "duration": 3,
    "start_time": "2025-01-17T00:51:15.991Z"
   },
   {
    "duration": 18,
    "start_time": "2025-01-17T00:51:16.042Z"
   },
   {
    "duration": 6,
    "start_time": "2025-01-17T00:51:16.062Z"
   },
   {
    "duration": 322,
    "start_time": "2025-01-17T00:51:16.069Z"
   },
   {
    "duration": 9,
    "start_time": "2025-01-17T00:51:16.393Z"
   },
   {
    "duration": 23,
    "start_time": "2025-01-17T00:51:16.403Z"
   },
   {
    "duration": 376,
    "start_time": "2025-01-17T00:51:16.430Z"
   },
   {
    "duration": 36,
    "start_time": "2025-01-17T00:51:16.809Z"
   },
   {
    "duration": 3,
    "start_time": "2025-01-17T00:51:16.847Z"
   },
   {
    "duration": 8,
    "start_time": "2025-01-17T00:51:16.852Z"
   },
   {
    "duration": 10,
    "start_time": "2025-01-17T00:51:16.861Z"
   },
   {
    "duration": 3,
    "start_time": "2025-01-17T00:51:16.872Z"
   },
   {
    "duration": 6,
    "start_time": "2025-01-17T00:51:16.876Z"
   },
   {
    "duration": 10,
    "start_time": "2025-01-17T00:51:16.883Z"
   },
   {
    "duration": 227,
    "start_time": "2025-01-17T00:51:16.943Z"
   },
   {
    "duration": 0,
    "start_time": "2025-01-17T00:51:17.172Z"
   },
   {
    "duration": 0,
    "start_time": "2025-01-17T00:51:17.173Z"
   },
   {
    "duration": 0,
    "start_time": "2025-01-17T00:51:17.175Z"
   },
   {
    "duration": 0,
    "start_time": "2025-01-17T00:51:17.176Z"
   },
   {
    "duration": 14,
    "start_time": "2025-01-17T00:55:11.856Z"
   },
   {
    "duration": 14,
    "start_time": "2025-01-17T00:57:16.743Z"
   },
   {
    "duration": 19,
    "start_time": "2025-01-17T00:59:10.454Z"
   },
   {
    "duration": 19,
    "start_time": "2025-01-17T01:01:04.875Z"
   },
   {
    "duration": 17,
    "start_time": "2025-01-17T01:02:13.707Z"
   },
   {
    "duration": 9,
    "start_time": "2025-01-17T01:03:12.097Z"
   },
   {
    "duration": 9,
    "start_time": "2025-01-17T01:07:21.080Z"
   },
   {
    "duration": 10,
    "start_time": "2025-01-17T01:08:06.210Z"
   },
   {
    "duration": 6,
    "start_time": "2025-01-17T01:09:41.551Z"
   },
   {
    "duration": 9,
    "start_time": "2025-01-17T01:12:07.540Z"
   },
   {
    "duration": 11,
    "start_time": "2025-01-17T01:13:19.664Z"
   },
   {
    "duration": 8,
    "start_time": "2025-01-17T01:14:55.112Z"
   },
   {
    "duration": 10,
    "start_time": "2025-01-17T01:15:06.272Z"
   },
   {
    "duration": 4,
    "start_time": "2025-01-17T01:15:12.977Z"
   },
   {
    "duration": 4,
    "start_time": "2025-01-17T01:15:25.345Z"
   },
   {
    "duration": 13,
    "start_time": "2025-01-17T01:16:07.554Z"
   },
   {
    "duration": 12,
    "start_time": "2025-01-17T01:16:50.443Z"
   },
   {
    "duration": 111,
    "start_time": "2025-01-17T01:20:09.333Z"
   },
   {
    "duration": 18,
    "start_time": "2025-01-17T01:20:43.258Z"
   },
   {
    "duration": 41,
    "start_time": "2025-01-17T01:24:14.794Z"
   },
   {
    "duration": 248,
    "start_time": "2025-01-17T01:28:41.851Z"
   },
   {
    "duration": 121,
    "start_time": "2025-01-17T01:30:25.915Z"
   },
   {
    "duration": 118,
    "start_time": "2025-01-17T01:31:17.886Z"
   },
   {
    "duration": 8,
    "start_time": "2025-01-17T01:43:17.503Z"
   },
   {
    "duration": 11,
    "start_time": "2025-01-17T01:44:13.461Z"
   },
   {
    "duration": 7,
    "start_time": "2025-01-17T01:44:16.122Z"
   },
   {
    "duration": 92,
    "start_time": "2025-01-17T01:45:02.578Z"
   },
   {
    "duration": 13,
    "start_time": "2025-01-17T01:45:04.704Z"
   },
   {
    "duration": 8,
    "start_time": "2025-01-17T01:45:15.788Z"
   },
   {
    "duration": 13,
    "start_time": "2025-01-17T01:45:23.560Z"
   },
   {
    "duration": 4,
    "start_time": "2025-01-17T01:45:56.048Z"
   },
   {
    "duration": 303,
    "start_time": "2025-01-17T01:49:20.890Z"
   },
   {
    "duration": 40,
    "start_time": "2025-01-17T01:49:22.779Z"
   },
   {
    "duration": 3,
    "start_time": "2025-01-17T01:50:25.820Z"
   },
   {
    "duration": 44,
    "start_time": "2025-01-17T01:53:05.391Z"
   },
   {
    "duration": 4,
    "start_time": "2025-01-17T01:55:19.636Z"
   },
   {
    "duration": 4,
    "start_time": "2025-01-17T01:55:21.226Z"
   },
   {
    "duration": 7,
    "start_time": "2025-01-17T01:55:27.887Z"
   },
   {
    "duration": 290,
    "start_time": "2025-01-17T02:09:49.707Z"
   },
   {
    "duration": 46,
    "start_time": "2025-01-17T02:12:07.568Z"
   },
   {
    "duration": 49,
    "start_time": "2025-01-17T02:19:10.105Z"
   },
   {
    "duration": 817,
    "start_time": "2025-01-17T02:19:20.418Z"
   },
   {
    "duration": 31,
    "start_time": "2025-01-17T02:19:21.237Z"
   },
   {
    "duration": 14,
    "start_time": "2025-01-17T02:19:21.270Z"
   },
   {
    "duration": 11,
    "start_time": "2025-01-17T02:19:21.286Z"
   },
   {
    "duration": 3,
    "start_time": "2025-01-17T02:19:21.300Z"
   },
   {
    "duration": 3,
    "start_time": "2025-01-17T02:19:21.304Z"
   },
   {
    "duration": 35,
    "start_time": "2025-01-17T02:19:21.308Z"
   },
   {
    "duration": 6,
    "start_time": "2025-01-17T02:19:21.345Z"
   },
   {
    "duration": 14,
    "start_time": "2025-01-17T02:19:21.352Z"
   },
   {
    "duration": 13,
    "start_time": "2025-01-17T02:19:21.368Z"
   },
   {
    "duration": 7,
    "start_time": "2025-01-17T02:19:21.383Z"
   },
   {
    "duration": 3,
    "start_time": "2025-01-17T02:19:21.391Z"
   },
   {
    "duration": 4,
    "start_time": "2025-01-17T02:19:21.395Z"
   },
   {
    "duration": 5,
    "start_time": "2025-01-17T02:19:21.444Z"
   },
   {
    "duration": 4,
    "start_time": "2025-01-17T02:19:21.450Z"
   },
   {
    "duration": 4,
    "start_time": "2025-01-17T02:19:21.456Z"
   },
   {
    "duration": 3,
    "start_time": "2025-01-17T02:19:21.462Z"
   },
   {
    "duration": 6,
    "start_time": "2025-01-17T02:19:21.467Z"
   },
   {
    "duration": 10,
    "start_time": "2025-01-17T02:19:21.475Z"
   },
   {
    "duration": 4,
    "start_time": "2025-01-17T02:19:21.486Z"
   },
   {
    "duration": 13,
    "start_time": "2025-01-17T02:19:21.542Z"
   },
   {
    "duration": 4,
    "start_time": "2025-01-17T02:19:21.558Z"
   },
   {
    "duration": 17,
    "start_time": "2025-01-17T02:19:21.563Z"
   },
   {
    "duration": 6,
    "start_time": "2025-01-17T02:19:21.582Z"
   },
   {
    "duration": 306,
    "start_time": "2025-01-17T02:19:21.591Z"
   },
   {
    "duration": 7,
    "start_time": "2025-01-17T02:19:21.898Z"
   },
   {
    "duration": 23,
    "start_time": "2025-01-17T02:19:21.907Z"
   },
   {
    "duration": 326,
    "start_time": "2025-01-17T02:19:21.932Z"
   },
   {
    "duration": 24,
    "start_time": "2025-01-17T02:19:22.260Z"
   },
   {
    "duration": 2,
    "start_time": "2025-01-17T02:19:22.286Z"
   },
   {
    "duration": 7,
    "start_time": "2025-01-17T02:19:22.290Z"
   },
   {
    "duration": 9,
    "start_time": "2025-01-17T02:19:22.299Z"
   },
   {
    "duration": 7,
    "start_time": "2025-01-17T02:19:22.343Z"
   },
   {
    "duration": 647,
    "start_time": "2025-01-17T02:19:22.351Z"
   },
   {
    "duration": 0,
    "start_time": "2025-01-17T02:19:23.000Z"
   },
   {
    "duration": 0,
    "start_time": "2025-01-17T02:19:23.002Z"
   },
   {
    "duration": 0,
    "start_time": "2025-01-17T02:19:23.003Z"
   },
   {
    "duration": 0,
    "start_time": "2025-01-17T02:19:23.004Z"
   },
   {
    "duration": 0,
    "start_time": "2025-01-17T02:19:23.005Z"
   },
   {
    "duration": 45,
    "start_time": "2025-01-17T02:23:25.749Z"
   },
   {
    "duration": 44,
    "start_time": "2025-01-17T02:24:13.918Z"
   },
   {
    "duration": 13,
    "start_time": "2025-01-17T02:24:54.166Z"
   },
   {
    "duration": 13,
    "start_time": "2025-01-17T02:25:17.616Z"
   },
   {
    "duration": 21,
    "start_time": "2025-01-17T02:27:11.128Z"
   },
   {
    "duration": 13,
    "start_time": "2025-01-17T02:29:37.033Z"
   },
   {
    "duration": 205,
    "start_time": "2025-01-17T02:42:28.063Z"
   },
   {
    "duration": 186,
    "start_time": "2025-01-17T02:43:21.839Z"
   },
   {
    "duration": 13,
    "start_time": "2025-01-17T02:44:53.584Z"
   },
   {
    "duration": 6,
    "start_time": "2025-01-17T02:46:03.366Z"
   },
   {
    "duration": 17,
    "start_time": "2025-01-17T02:54:22.115Z"
   },
   {
    "duration": 840,
    "start_time": "2025-01-17T02:54:39.280Z"
   },
   {
    "duration": 29,
    "start_time": "2025-01-17T02:54:40.122Z"
   },
   {
    "duration": 15,
    "start_time": "2025-01-17T02:54:40.153Z"
   },
   {
    "duration": 10,
    "start_time": "2025-01-17T02:54:40.170Z"
   },
   {
    "duration": 3,
    "start_time": "2025-01-17T02:54:40.184Z"
   },
   {
    "duration": 3,
    "start_time": "2025-01-17T02:54:40.188Z"
   },
   {
    "duration": 7,
    "start_time": "2025-01-17T02:54:40.193Z"
   },
   {
    "duration": 41,
    "start_time": "2025-01-17T02:54:40.202Z"
   },
   {
    "duration": 15,
    "start_time": "2025-01-17T02:54:40.245Z"
   },
   {
    "duration": 12,
    "start_time": "2025-01-17T02:54:40.262Z"
   },
   {
    "duration": 6,
    "start_time": "2025-01-17T02:54:40.276Z"
   },
   {
    "duration": 3,
    "start_time": "2025-01-17T02:54:40.284Z"
   },
   {
    "duration": 4,
    "start_time": "2025-01-17T02:54:40.289Z"
   },
   {
    "duration": 4,
    "start_time": "2025-01-17T02:54:40.296Z"
   },
   {
    "duration": 3,
    "start_time": "2025-01-17T02:54:40.344Z"
   },
   {
    "duration": 3,
    "start_time": "2025-01-17T02:54:40.349Z"
   },
   {
    "duration": 4,
    "start_time": "2025-01-17T02:54:40.353Z"
   },
   {
    "duration": 6,
    "start_time": "2025-01-17T02:54:40.359Z"
   },
   {
    "duration": 9,
    "start_time": "2025-01-17T02:54:40.367Z"
   },
   {
    "duration": 3,
    "start_time": "2025-01-17T02:54:40.378Z"
   },
   {
    "duration": 60,
    "start_time": "2025-01-17T02:54:40.383Z"
   },
   {
    "duration": 4,
    "start_time": "2025-01-17T02:54:40.445Z"
   },
   {
    "duration": 17,
    "start_time": "2025-01-17T02:54:40.450Z"
   },
   {
    "duration": 6,
    "start_time": "2025-01-17T02:54:40.468Z"
   },
   {
    "duration": 316,
    "start_time": "2025-01-17T02:54:40.476Z"
   },
   {
    "duration": 7,
    "start_time": "2025-01-17T02:54:40.794Z"
   },
   {
    "duration": 19,
    "start_time": "2025-01-17T02:54:40.803Z"
   },
   {
    "duration": 349,
    "start_time": "2025-01-17T02:54:40.824Z"
   },
   {
    "duration": 25,
    "start_time": "2025-01-17T02:54:41.175Z"
   },
   {
    "duration": 3,
    "start_time": "2025-01-17T02:54:41.202Z"
   },
   {
    "duration": 7,
    "start_time": "2025-01-17T02:54:41.207Z"
   },
   {
    "duration": 36,
    "start_time": "2025-01-17T02:54:41.216Z"
   },
   {
    "duration": 13,
    "start_time": "2025-01-17T02:54:41.254Z"
   },
   {
    "duration": 18,
    "start_time": "2025-01-17T02:54:41.269Z"
   },
   {
    "duration": 230,
    "start_time": "2025-01-17T02:54:41.289Z"
   },
   {
    "duration": 6,
    "start_time": "2025-01-17T02:54:41.521Z"
   },
   {
    "duration": 160,
    "start_time": "2025-01-19T17:19:34.183Z"
   },
   {
    "duration": 2734,
    "start_time": "2025-01-19T17:19:42.340Z"
   },
   {
    "duration": 40,
    "start_time": "2025-01-19T17:19:45.077Z"
   },
   {
    "duration": 16,
    "start_time": "2025-01-19T17:19:45.119Z"
   },
   {
    "duration": 14,
    "start_time": "2025-01-19T17:19:45.141Z"
   },
   {
    "duration": 4,
    "start_time": "2025-01-19T17:19:45.159Z"
   },
   {
    "duration": 3,
    "start_time": "2025-01-19T17:19:45.165Z"
   },
   {
    "duration": 10,
    "start_time": "2025-01-19T17:19:45.170Z"
   },
   {
    "duration": 7,
    "start_time": "2025-01-19T17:19:45.181Z"
   },
   {
    "duration": 46,
    "start_time": "2025-01-19T17:19:45.190Z"
   },
   {
    "duration": 14,
    "start_time": "2025-01-19T17:19:45.238Z"
   },
   {
    "duration": 6,
    "start_time": "2025-01-19T17:19:45.253Z"
   },
   {
    "duration": 3,
    "start_time": "2025-01-19T17:19:45.261Z"
   },
   {
    "duration": 4,
    "start_time": "2025-01-19T17:19:45.265Z"
   },
   {
    "duration": 3,
    "start_time": "2025-01-19T17:19:45.274Z"
   },
   {
    "duration": 4,
    "start_time": "2025-01-19T17:19:45.279Z"
   },
   {
    "duration": 4,
    "start_time": "2025-01-19T17:19:45.332Z"
   },
   {
    "duration": 3,
    "start_time": "2025-01-19T17:19:45.338Z"
   },
   {
    "duration": 6,
    "start_time": "2025-01-19T17:19:45.343Z"
   },
   {
    "duration": 9,
    "start_time": "2025-01-19T17:19:45.351Z"
   },
   {
    "duration": 3,
    "start_time": "2025-01-19T17:19:45.362Z"
   },
   {
    "duration": 12,
    "start_time": "2025-01-19T17:19:45.367Z"
   },
   {
    "duration": 50,
    "start_time": "2025-01-19T17:19:45.380Z"
   },
   {
    "duration": 18,
    "start_time": "2025-01-19T17:19:45.432Z"
   },
   {
    "duration": 8,
    "start_time": "2025-01-19T17:19:45.452Z"
   },
   {
    "duration": 302,
    "start_time": "2025-01-19T17:19:45.461Z"
   },
   {
    "duration": 7,
    "start_time": "2025-01-19T17:19:45.765Z"
   },
   {
    "duration": 3,
    "start_time": "2025-01-19T17:19:45.774Z"
   },
   {
    "duration": 369,
    "start_time": "2025-01-19T17:19:45.779Z"
   },
   {
    "duration": 29,
    "start_time": "2025-01-19T17:19:46.150Z"
   },
   {
    "duration": 3,
    "start_time": "2025-01-19T17:19:46.182Z"
   },
   {
    "duration": 9,
    "start_time": "2025-01-19T17:19:46.187Z"
   },
   {
    "duration": 37,
    "start_time": "2025-01-19T17:19:46.198Z"
   },
   {
    "duration": 12,
    "start_time": "2025-01-19T17:19:46.239Z"
   },
   {
    "duration": 15,
    "start_time": "2025-01-19T17:19:46.253Z"
   },
   {
    "duration": 240,
    "start_time": "2025-01-19T17:19:46.270Z"
   },
   {
    "duration": 6,
    "start_time": "2025-01-19T17:19:46.512Z"
   },
   {
    "duration": 16,
    "start_time": "2025-01-19T17:19:46.519Z"
   },
   {
    "duration": 724,
    "start_time": "2025-01-19T17:25:34.929Z"
   },
   {
    "duration": 867,
    "start_time": "2025-01-19T17:25:56.958Z"
   },
   {
    "duration": 24,
    "start_time": "2025-01-19T17:25:57.827Z"
   },
   {
    "duration": 14,
    "start_time": "2025-01-19T17:25:57.852Z"
   },
   {
    "duration": 13,
    "start_time": "2025-01-19T17:25:57.869Z"
   },
   {
    "duration": 4,
    "start_time": "2025-01-19T17:25:57.883Z"
   },
   {
    "duration": 3,
    "start_time": "2025-01-19T17:25:57.888Z"
   },
   {
    "duration": 38,
    "start_time": "2025-01-19T17:25:57.893Z"
   },
   {
    "duration": 9,
    "start_time": "2025-01-19T17:25:57.933Z"
   },
   {
    "duration": 15,
    "start_time": "2025-01-19T17:25:57.944Z"
   },
   {
    "duration": 13,
    "start_time": "2025-01-19T17:25:57.963Z"
   },
   {
    "duration": 6,
    "start_time": "2025-01-19T17:25:57.979Z"
   },
   {
    "duration": 3,
    "start_time": "2025-01-19T17:25:57.987Z"
   },
   {
    "duration": 39,
    "start_time": "2025-01-19T17:25:57.992Z"
   },
   {
    "duration": 5,
    "start_time": "2025-01-19T17:25:58.033Z"
   },
   {
    "duration": 4,
    "start_time": "2025-01-19T17:25:58.039Z"
   },
   {
    "duration": 4,
    "start_time": "2025-01-19T17:25:58.045Z"
   },
   {
    "duration": 3,
    "start_time": "2025-01-19T17:25:58.051Z"
   },
   {
    "duration": 6,
    "start_time": "2025-01-19T17:25:58.056Z"
   },
   {
    "duration": 9,
    "start_time": "2025-01-19T17:25:58.064Z"
   },
   {
    "duration": 4,
    "start_time": "2025-01-19T17:25:58.075Z"
   },
   {
    "duration": 63,
    "start_time": "2025-01-19T17:25:58.081Z"
   },
   {
    "duration": 3,
    "start_time": "2025-01-19T17:25:58.146Z"
   },
   {
    "duration": 18,
    "start_time": "2025-01-19T17:25:58.151Z"
   },
   {
    "duration": 7,
    "start_time": "2025-01-19T17:25:58.171Z"
   },
   {
    "duration": 328,
    "start_time": "2025-01-19T17:25:58.180Z"
   },
   {
    "duration": 7,
    "start_time": "2025-01-19T17:25:58.510Z"
   },
   {
    "duration": 20,
    "start_time": "2025-01-19T17:25:58.519Z"
   },
   {
    "duration": 378,
    "start_time": "2025-01-19T17:25:58.544Z"
   },
   {
    "duration": 24,
    "start_time": "2025-01-19T17:25:58.931Z"
   },
   {
    "duration": 4,
    "start_time": "2025-01-19T17:25:58.957Z"
   },
   {
    "duration": 9,
    "start_time": "2025-01-19T17:25:58.963Z"
   },
   {
    "duration": 10,
    "start_time": "2025-01-19T17:25:58.974Z"
   },
   {
    "duration": 49,
    "start_time": "2025-01-19T17:25:58.986Z"
   },
   {
    "duration": 14,
    "start_time": "2025-01-19T17:25:59.037Z"
   },
   {
    "duration": 234,
    "start_time": "2025-01-19T17:25:59.053Z"
   },
   {
    "duration": 7,
    "start_time": "2025-01-19T17:25:59.289Z"
   },
   {
    "duration": 5,
    "start_time": "2025-01-19T17:25:59.298Z"
   },
   {
    "duration": 660,
    "start_time": "2025-01-19T17:25:59.305Z"
   },
   {
    "duration": 2,
    "start_time": "2025-01-19T17:27:08.025Z"
   },
   {
    "duration": 9,
    "start_time": "2025-01-19T17:27:37.951Z"
   },
   {
    "duration": 13,
    "start_time": "2025-01-19T17:27:49.351Z"
   },
   {
    "duration": 19,
    "start_time": "2025-01-19T17:27:59.601Z"
   },
   {
    "duration": 47,
    "start_time": "2025-01-19T18:04:07.023Z"
   },
   {
    "duration": 3,
    "start_time": "2025-01-19T18:06:12.130Z"
   },
   {
    "duration": 370,
    "start_time": "2025-01-19T18:06:54.700Z"
   },
   {
    "duration": 4,
    "start_time": "2025-01-19T18:09:25.308Z"
   },
   {
    "duration": 341,
    "start_time": "2025-01-19T18:09:28.141Z"
   },
   {
    "duration": 801,
    "start_time": "2025-01-19T18:15:03.325Z"
   },
   {
    "duration": 27,
    "start_time": "2025-01-19T18:15:04.128Z"
   },
   {
    "duration": 14,
    "start_time": "2025-01-19T18:15:04.157Z"
   },
   {
    "duration": 13,
    "start_time": "2025-01-19T18:15:04.173Z"
   },
   {
    "duration": 5,
    "start_time": "2025-01-19T18:15:04.187Z"
   },
   {
    "duration": 3,
    "start_time": "2025-01-19T18:15:04.194Z"
   },
   {
    "duration": 41,
    "start_time": "2025-01-19T18:15:04.198Z"
   },
   {
    "duration": 8,
    "start_time": "2025-01-19T18:15:04.241Z"
   },
   {
    "duration": 14,
    "start_time": "2025-01-19T18:15:04.251Z"
   },
   {
    "duration": 13,
    "start_time": "2025-01-19T18:15:04.268Z"
   },
   {
    "duration": 6,
    "start_time": "2025-01-19T18:15:04.283Z"
   },
   {
    "duration": 43,
    "start_time": "2025-01-19T18:15:04.290Z"
   },
   {
    "duration": 4,
    "start_time": "2025-01-19T18:15:04.335Z"
   },
   {
    "duration": 4,
    "start_time": "2025-01-19T18:15:04.341Z"
   },
   {
    "duration": 3,
    "start_time": "2025-01-19T18:15:04.347Z"
   },
   {
    "duration": 4,
    "start_time": "2025-01-19T18:15:04.352Z"
   },
   {
    "duration": 3,
    "start_time": "2025-01-19T18:15:04.357Z"
   },
   {
    "duration": 6,
    "start_time": "2025-01-19T18:15:04.362Z"
   },
   {
    "duration": 9,
    "start_time": "2025-01-19T18:15:04.370Z"
   },
   {
    "duration": 5,
    "start_time": "2025-01-19T18:15:04.431Z"
   },
   {
    "duration": 11,
    "start_time": "2025-01-19T18:15:04.438Z"
   },
   {
    "duration": 4,
    "start_time": "2025-01-19T18:15:04.451Z"
   },
   {
    "duration": 18,
    "start_time": "2025-01-19T18:15:04.457Z"
   },
   {
    "duration": 7,
    "start_time": "2025-01-19T18:15:04.477Z"
   },
   {
    "duration": 324,
    "start_time": "2025-01-19T18:15:04.485Z"
   },
   {
    "duration": 20,
    "start_time": "2025-01-19T18:15:04.811Z"
   },
   {
    "duration": 10,
    "start_time": "2025-01-19T18:15:04.833Z"
   },
   {
    "duration": 397,
    "start_time": "2025-01-19T18:15:04.848Z"
   },
   {
    "duration": 26,
    "start_time": "2025-01-19T18:15:05.247Z"
   },
   {
    "duration": 4,
    "start_time": "2025-01-19T18:15:05.274Z"
   },
   {
    "duration": 8,
    "start_time": "2025-01-19T18:15:05.279Z"
   },
   {
    "duration": 9,
    "start_time": "2025-01-19T18:15:05.289Z"
   },
   {
    "duration": 14,
    "start_time": "2025-01-19T18:15:05.332Z"
   },
   {
    "duration": 15,
    "start_time": "2025-01-19T18:15:05.347Z"
   },
   {
    "duration": 19,
    "start_time": "2025-01-19T18:15:05.364Z"
   },
   {
    "duration": 253,
    "start_time": "2025-01-19T18:15:05.386Z"
   },
   {
    "duration": 6,
    "start_time": "2025-01-19T18:15:05.640Z"
   },
   {
    "duration": 19,
    "start_time": "2025-01-19T18:15:05.648Z"
   },
   {
    "duration": 398,
    "start_time": "2025-01-19T18:15:05.669Z"
   },
   {
    "duration": 4,
    "start_time": "2025-01-19T18:15:06.069Z"
   },
   {
    "duration": 203,
    "start_time": "2025-01-19T18:16:25.474Z"
   },
   {
    "duration": 19,
    "start_time": "2025-01-19T18:17:04.148Z"
   },
   {
    "duration": 209,
    "start_time": "2025-01-19T18:17:07.124Z"
   },
   {
    "duration": 5,
    "start_time": "2025-01-19T18:17:12.358Z"
   },
   {
    "duration": 160,
    "start_time": "2025-01-19T21:56:46.827Z"
   },
   {
    "duration": 12,
    "start_time": "2025-01-19T22:17:19.702Z"
   },
   {
    "duration": 11,
    "start_time": "2025-01-19T22:17:20.860Z"
   },
   {
    "duration": 2646,
    "start_time": "2025-01-19T22:17:33.660Z"
   },
   {
    "duration": 37,
    "start_time": "2025-01-19T22:17:36.308Z"
   },
   {
    "duration": 12,
    "start_time": "2025-01-19T22:17:36.347Z"
   },
   {
    "duration": 11,
    "start_time": "2025-01-19T22:17:36.361Z"
   },
   {
    "duration": 4,
    "start_time": "2025-01-19T22:17:36.386Z"
   },
   {
    "duration": 3,
    "start_time": "2025-01-19T22:17:36.391Z"
   },
   {
    "duration": 6,
    "start_time": "2025-01-19T22:17:36.396Z"
   },
   {
    "duration": 7,
    "start_time": "2025-01-19T22:17:36.403Z"
   },
   {
    "duration": 14,
    "start_time": "2025-01-19T22:17:36.412Z"
   },
   {
    "duration": 11,
    "start_time": "2025-01-19T22:17:36.430Z"
   },
   {
    "duration": 48,
    "start_time": "2025-01-19T22:17:36.443Z"
   },
   {
    "duration": 3,
    "start_time": "2025-01-19T22:17:36.493Z"
   },
   {
    "duration": 3,
    "start_time": "2025-01-19T22:17:36.498Z"
   },
   {
    "duration": 4,
    "start_time": "2025-01-19T22:17:36.502Z"
   },
   {
    "duration": 3,
    "start_time": "2025-01-19T22:17:36.508Z"
   },
   {
    "duration": 3,
    "start_time": "2025-01-19T22:17:36.513Z"
   },
   {
    "duration": 3,
    "start_time": "2025-01-19T22:17:36.518Z"
   },
   {
    "duration": 6,
    "start_time": "2025-01-19T22:17:36.522Z"
   },
   {
    "duration": 61,
    "start_time": "2025-01-19T22:17:36.529Z"
   },
   {
    "duration": 4,
    "start_time": "2025-01-19T22:17:36.594Z"
   },
   {
    "duration": 12,
    "start_time": "2025-01-19T22:17:36.600Z"
   },
   {
    "duration": 4,
    "start_time": "2025-01-19T22:17:36.615Z"
   },
   {
    "duration": 18,
    "start_time": "2025-01-19T22:17:36.621Z"
   },
   {
    "duration": 6,
    "start_time": "2025-01-19T22:17:36.640Z"
   },
   {
    "duration": 271,
    "start_time": "2025-01-19T22:17:36.687Z"
   },
   {
    "duration": 8,
    "start_time": "2025-01-19T22:17:36.960Z"
   },
   {
    "duration": 19,
    "start_time": "2025-01-19T22:17:36.969Z"
   },
   {
    "duration": 320,
    "start_time": "2025-01-19T22:17:36.992Z"
   },
   {
    "duration": 22,
    "start_time": "2025-01-19T22:17:37.314Z"
   },
   {
    "duration": 3,
    "start_time": "2025-01-19T22:17:37.338Z"
   },
   {
    "duration": 7,
    "start_time": "2025-01-19T22:17:37.343Z"
   },
   {
    "duration": 40,
    "start_time": "2025-01-19T22:17:37.352Z"
   },
   {
    "duration": 13,
    "start_time": "2025-01-19T22:17:37.395Z"
   },
   {
    "duration": 12,
    "start_time": "2025-01-19T22:17:37.409Z"
   },
   {
    "duration": 17,
    "start_time": "2025-01-19T22:17:37.423Z"
   },
   {
    "duration": 291,
    "start_time": "2025-01-19T22:17:37.441Z"
   },
   {
    "duration": 233,
    "start_time": "2025-01-19T22:17:37.734Z"
   },
   {
    "duration": 0,
    "start_time": "2025-01-19T22:17:37.969Z"
   },
   {
    "duration": 0,
    "start_time": "2025-01-19T22:17:37.970Z"
   },
   {
    "duration": 0,
    "start_time": "2025-01-19T22:17:37.972Z"
   },
   {
    "duration": 0,
    "start_time": "2025-01-19T22:17:37.974Z"
   },
   {
    "duration": 13,
    "start_time": "2025-01-19T22:25:29.713Z"
   },
   {
    "duration": 16,
    "start_time": "2025-01-19T22:25:31.411Z"
   },
   {
    "duration": 14,
    "start_time": "2025-01-19T22:25:31.616Z"
   },
   {
    "duration": 4,
    "start_time": "2025-01-19T22:25:52.176Z"
   },
   {
    "duration": 3,
    "start_time": "2025-01-19T22:25:53.349Z"
   },
   {
    "duration": 13,
    "start_time": "2025-01-19T22:26:28.783Z"
   },
   {
    "duration": 13,
    "start_time": "2025-01-19T22:26:30.166Z"
   },
   {
    "duration": 352,
    "start_time": "2025-01-19T22:26:32.522Z"
   },
   {
    "duration": 11,
    "start_time": "2025-01-19T22:26:39.191Z"
   },
   {
    "duration": 13,
    "start_time": "2025-01-19T22:26:56.528Z"
   },
   {
    "duration": 852,
    "start_time": "2025-01-19T22:27:35.407Z"
   },
   {
    "duration": 29,
    "start_time": "2025-01-19T22:27:36.262Z"
   },
   {
    "duration": 14,
    "start_time": "2025-01-19T22:27:36.293Z"
   },
   {
    "duration": 11,
    "start_time": "2025-01-19T22:27:36.310Z"
   },
   {
    "duration": 4,
    "start_time": "2025-01-19T22:27:36.322Z"
   },
   {
    "duration": 3,
    "start_time": "2025-01-19T22:27:36.327Z"
   },
   {
    "duration": 7,
    "start_time": "2025-01-19T22:27:36.332Z"
   },
   {
    "duration": 48,
    "start_time": "2025-01-19T22:27:36.340Z"
   },
   {
    "duration": 13,
    "start_time": "2025-01-19T22:27:36.390Z"
   },
   {
    "duration": 12,
    "start_time": "2025-01-19T22:27:36.407Z"
   },
   {
    "duration": 6,
    "start_time": "2025-01-19T22:27:36.420Z"
   },
   {
    "duration": 3,
    "start_time": "2025-01-19T22:27:36.428Z"
   },
   {
    "duration": 4,
    "start_time": "2025-01-19T22:27:36.433Z"
   },
   {
    "duration": 48,
    "start_time": "2025-01-19T22:27:36.439Z"
   },
   {
    "duration": 4,
    "start_time": "2025-01-19T22:27:36.489Z"
   },
   {
    "duration": 4,
    "start_time": "2025-01-19T22:27:36.495Z"
   },
   {
    "duration": 3,
    "start_time": "2025-01-19T22:27:36.501Z"
   },
   {
    "duration": 6,
    "start_time": "2025-01-19T22:27:36.506Z"
   },
   {
    "duration": 9,
    "start_time": "2025-01-19T22:27:36.514Z"
   },
   {
    "duration": 4,
    "start_time": "2025-01-19T22:27:36.524Z"
   },
   {
    "duration": 60,
    "start_time": "2025-01-19T22:27:36.529Z"
   },
   {
    "duration": 4,
    "start_time": "2025-01-19T22:27:36.591Z"
   },
   {
    "duration": 17,
    "start_time": "2025-01-19T22:27:36.597Z"
   },
   {
    "duration": 5,
    "start_time": "2025-01-19T22:27:36.616Z"
   },
   {
    "duration": 300,
    "start_time": "2025-01-19T22:27:36.623Z"
   },
   {
    "duration": 7,
    "start_time": "2025-01-19T22:27:36.925Z"
   },
   {
    "duration": 3,
    "start_time": "2025-01-19T22:27:36.934Z"
   },
   {
    "duration": 365,
    "start_time": "2025-01-19T22:27:36.941Z"
   },
   {
    "duration": 24,
    "start_time": "2025-01-19T22:27:37.308Z"
   },
   {
    "duration": 4,
    "start_time": "2025-01-19T22:27:37.333Z"
   },
   {
    "duration": 9,
    "start_time": "2025-01-19T22:27:37.339Z"
   },
   {
    "duration": 40,
    "start_time": "2025-01-19T22:27:37.350Z"
   },
   {
    "duration": 12,
    "start_time": "2025-01-19T22:27:37.392Z"
   },
   {
    "duration": 13,
    "start_time": "2025-01-19T22:27:37.406Z"
   },
   {
    "duration": 18,
    "start_time": "2025-01-19T22:27:37.420Z"
   },
   {
    "duration": 251,
    "start_time": "2025-01-19T22:27:37.439Z"
   },
   {
    "duration": 249,
    "start_time": "2025-01-19T22:27:37.692Z"
   },
   {
    "duration": 0,
    "start_time": "2025-01-19T22:27:37.943Z"
   },
   {
    "duration": 0,
    "start_time": "2025-01-19T22:27:37.945Z"
   },
   {
    "duration": 0,
    "start_time": "2025-01-19T22:27:37.946Z"
   },
   {
    "duration": 0,
    "start_time": "2025-01-19T22:27:37.947Z"
   },
   {
    "duration": 0,
    "start_time": "2025-01-19T22:27:37.949Z"
   },
   {
    "duration": 19,
    "start_time": "2025-01-19T22:29:59.395Z"
   },
   {
    "duration": 206,
    "start_time": "2025-01-19T22:30:01.455Z"
   },
   {
    "duration": 195,
    "start_time": "2025-01-19T22:30:06.659Z"
   },
   {
    "duration": 14,
    "start_time": "2025-01-19T22:30:10.205Z"
   },
   {
    "duration": 284,
    "start_time": "2025-01-19T22:34:09.966Z"
   },
   {
    "duration": 41,
    "start_time": "2025-01-19T22:34:11.695Z"
   },
   {
    "duration": 790,
    "start_time": "2025-01-19T22:34:18.890Z"
   },
   {
    "duration": 26,
    "start_time": "2025-01-19T22:34:19.685Z"
   },
   {
    "duration": 12,
    "start_time": "2025-01-19T22:34:19.713Z"
   },
   {
    "duration": 11,
    "start_time": "2025-01-19T22:34:19.727Z"
   },
   {
    "duration": 3,
    "start_time": "2025-01-19T22:34:19.740Z"
   },
   {
    "duration": 3,
    "start_time": "2025-01-19T22:34:19.745Z"
   },
   {
    "duration": 38,
    "start_time": "2025-01-19T22:34:19.749Z"
   },
   {
    "duration": 7,
    "start_time": "2025-01-19T22:34:19.788Z"
   },
   {
    "duration": 13,
    "start_time": "2025-01-19T22:34:19.797Z"
   },
   {
    "duration": 11,
    "start_time": "2025-01-19T22:34:19.812Z"
   },
   {
    "duration": 7,
    "start_time": "2025-01-19T22:34:19.825Z"
   },
   {
    "duration": 4,
    "start_time": "2025-01-19T22:34:19.833Z"
   },
   {
    "duration": 4,
    "start_time": "2025-01-19T22:34:19.838Z"
   },
   {
    "duration": 4,
    "start_time": "2025-01-19T22:34:19.889Z"
   },
   {
    "duration": 3,
    "start_time": "2025-01-19T22:34:19.895Z"
   },
   {
    "duration": 3,
    "start_time": "2025-01-19T22:34:19.901Z"
   },
   {
    "duration": 3,
    "start_time": "2025-01-19T22:34:19.906Z"
   },
   {
    "duration": 7,
    "start_time": "2025-01-19T22:34:19.912Z"
   },
   {
    "duration": 8,
    "start_time": "2025-01-19T22:34:19.921Z"
   },
   {
    "duration": 3,
    "start_time": "2025-01-19T22:34:19.931Z"
   },
   {
    "duration": 10,
    "start_time": "2025-01-19T22:34:19.987Z"
   },
   {
    "duration": 3,
    "start_time": "2025-01-19T22:34:19.999Z"
   },
   {
    "duration": 17,
    "start_time": "2025-01-19T22:34:20.004Z"
   },
   {
    "duration": 5,
    "start_time": "2025-01-19T22:34:20.023Z"
   },
   {
    "duration": 319,
    "start_time": "2025-01-19T22:34:20.030Z"
   },
   {
    "duration": 8,
    "start_time": "2025-01-19T22:34:20.351Z"
   },
   {
    "duration": 29,
    "start_time": "2025-01-19T22:34:20.360Z"
   },
   {
    "duration": 358,
    "start_time": "2025-01-19T22:34:20.391Z"
   },
   {
    "duration": 36,
    "start_time": "2025-01-19T22:34:20.751Z"
   },
   {
    "duration": 3,
    "start_time": "2025-01-19T22:34:20.789Z"
   },
   {
    "duration": 7,
    "start_time": "2025-01-19T22:34:20.794Z"
   },
   {
    "duration": 9,
    "start_time": "2025-01-19T22:34:20.803Z"
   },
   {
    "duration": 12,
    "start_time": "2025-01-19T22:34:20.814Z"
   },
   {
    "duration": 12,
    "start_time": "2025-01-19T22:34:20.828Z"
   },
   {
    "duration": 59,
    "start_time": "2025-01-19T22:34:20.842Z"
   },
   {
    "duration": 221,
    "start_time": "2025-01-19T22:34:20.903Z"
   },
   {
    "duration": 486,
    "start_time": "2025-01-19T22:34:21.126Z"
   },
   {
    "duration": 0,
    "start_time": "2025-01-19T22:34:21.614Z"
   },
   {
    "duration": 0,
    "start_time": "2025-01-19T22:34:21.615Z"
   },
   {
    "duration": 0,
    "start_time": "2025-01-19T22:34:21.616Z"
   },
   {
    "duration": 0,
    "start_time": "2025-01-19T22:34:21.617Z"
   },
   {
    "duration": 0,
    "start_time": "2025-01-19T22:34:21.619Z"
   },
   {
    "duration": 5,
    "start_time": "2025-01-19T22:35:28.716Z"
   },
   {
    "duration": 5,
    "start_time": "2025-01-19T22:36:18.042Z"
   },
   {
    "duration": 4,
    "start_time": "2025-01-19T22:38:14.307Z"
   },
   {
    "duration": 15,
    "start_time": "2025-01-19T22:38:21.259Z"
   },
   {
    "duration": 843,
    "start_time": "2025-01-19T22:38:39.428Z"
   },
   {
    "duration": 36,
    "start_time": "2025-01-19T22:38:40.274Z"
   },
   {
    "duration": 14,
    "start_time": "2025-01-19T22:38:40.312Z"
   },
   {
    "duration": 10,
    "start_time": "2025-01-19T22:38:40.328Z"
   },
   {
    "duration": 4,
    "start_time": "2025-01-19T22:38:40.340Z"
   },
   {
    "duration": 3,
    "start_time": "2025-01-19T22:38:40.345Z"
   },
   {
    "duration": 42,
    "start_time": "2025-01-19T22:38:40.350Z"
   },
   {
    "duration": 7,
    "start_time": "2025-01-19T22:38:40.393Z"
   },
   {
    "duration": 14,
    "start_time": "2025-01-19T22:38:40.401Z"
   },
   {
    "duration": 12,
    "start_time": "2025-01-19T22:38:40.419Z"
   },
   {
    "duration": 7,
    "start_time": "2025-01-19T22:38:40.432Z"
   },
   {
    "duration": 3,
    "start_time": "2025-01-19T22:38:40.441Z"
   },
   {
    "duration": 43,
    "start_time": "2025-01-19T22:38:40.446Z"
   },
   {
    "duration": 4,
    "start_time": "2025-01-19T22:38:40.492Z"
   },
   {
    "duration": 3,
    "start_time": "2025-01-19T22:38:40.498Z"
   },
   {
    "duration": 4,
    "start_time": "2025-01-19T22:38:40.502Z"
   },
   {
    "duration": 2,
    "start_time": "2025-01-19T22:38:40.508Z"
   },
   {
    "duration": 6,
    "start_time": "2025-01-19T22:38:40.512Z"
   },
   {
    "duration": 8,
    "start_time": "2025-01-19T22:38:40.519Z"
   },
   {
    "duration": 59,
    "start_time": "2025-01-19T22:38:40.528Z"
   },
   {
    "duration": 11,
    "start_time": "2025-01-19T22:38:40.589Z"
   },
   {
    "duration": 4,
    "start_time": "2025-01-19T22:38:40.601Z"
   },
   {
    "duration": 17,
    "start_time": "2025-01-19T22:38:40.606Z"
   },
   {
    "duration": 7,
    "start_time": "2025-01-19T22:38:40.625Z"
   },
   {
    "duration": 318,
    "start_time": "2025-01-19T22:38:40.634Z"
   },
   {
    "duration": 10,
    "start_time": "2025-01-19T22:38:40.955Z"
   },
   {
    "duration": 20,
    "start_time": "2025-01-19T22:38:40.967Z"
   },
   {
    "duration": 398,
    "start_time": "2025-01-19T22:38:40.992Z"
   },
   {
    "duration": 23,
    "start_time": "2025-01-19T22:38:41.392Z"
   },
   {
    "duration": 3,
    "start_time": "2025-01-19T22:38:41.417Z"
   },
   {
    "duration": 7,
    "start_time": "2025-01-19T22:38:41.422Z"
   },
   {
    "duration": 9,
    "start_time": "2025-01-19T22:38:41.431Z"
   },
   {
    "duration": 52,
    "start_time": "2025-01-19T22:38:41.441Z"
   },
   {
    "duration": 12,
    "start_time": "2025-01-19T22:38:41.495Z"
   },
   {
    "duration": 19,
    "start_time": "2025-01-19T22:38:41.509Z"
   },
   {
    "duration": 228,
    "start_time": "2025-01-19T22:38:41.530Z"
   },
   {
    "duration": 7,
    "start_time": "2025-01-19T22:38:41.760Z"
   },
   {
    "duration": 359,
    "start_time": "2025-01-19T22:38:41.769Z"
   },
   {
    "duration": 5,
    "start_time": "2025-01-19T22:38:42.131Z"
   },
   {
    "duration": 13,
    "start_time": "2025-01-19T22:38:42.138Z"
   },
   {
    "duration": 14,
    "start_time": "2025-01-19T22:41:46.795Z"
   },
   {
    "duration": 14,
    "start_time": "2025-01-19T22:41:48.819Z"
   },
   {
    "duration": 7,
    "start_time": "2025-01-19T22:44:38.528Z"
   },
   {
    "duration": 9,
    "start_time": "2025-01-19T22:45:47.555Z"
   },
   {
    "duration": 12,
    "start_time": "2025-01-19T22:46:58.783Z"
   },
   {
    "duration": 9,
    "start_time": "2025-01-19T22:47:27.933Z"
   },
   {
    "duration": 9,
    "start_time": "2025-01-19T22:48:30.074Z"
   },
   {
    "duration": 9,
    "start_time": "2025-01-19T22:48:44.586Z"
   },
   {
    "duration": 9,
    "start_time": "2025-01-19T22:48:46.441Z"
   },
   {
    "duration": 5,
    "start_time": "2025-01-19T22:52:52.950Z"
   },
   {
    "duration": 7,
    "start_time": "2025-01-19T22:53:29.583Z"
   },
   {
    "duration": 6,
    "start_time": "2025-01-19T22:54:40.733Z"
   },
   {
    "duration": 14,
    "start_time": "2025-01-19T22:54:54.702Z"
   },
   {
    "duration": 8,
    "start_time": "2025-01-19T22:55:18.060Z"
   },
   {
    "duration": 9,
    "start_time": "2025-01-19T22:56:48.783Z"
   },
   {
    "duration": 9,
    "start_time": "2025-01-19T22:56:57.203Z"
   },
   {
    "duration": 97,
    "start_time": "2025-01-19T23:24:57.091Z"
   },
   {
    "duration": 9,
    "start_time": "2025-01-19T23:25:37.555Z"
   },
   {
    "duration": 92,
    "start_time": "2025-01-19T23:25:53.162Z"
   },
   {
    "duration": 145,
    "start_time": "2025-01-19T23:39:44.676Z"
   },
   {
    "duration": 165,
    "start_time": "2025-01-20T02:43:40.247Z"
   },
   {
    "duration": 12,
    "start_time": "2025-01-20T02:44:15.096Z"
   },
   {
    "duration": 2917,
    "start_time": "2025-01-20T02:44:24.460Z"
   },
   {
    "duration": 44,
    "start_time": "2025-01-20T02:44:27.380Z"
   },
   {
    "duration": 16,
    "start_time": "2025-01-20T02:44:27.426Z"
   },
   {
    "duration": 15,
    "start_time": "2025-01-20T02:44:27.445Z"
   },
   {
    "duration": 4,
    "start_time": "2025-01-20T02:44:27.462Z"
   },
   {
    "duration": 4,
    "start_time": "2025-01-20T02:44:27.468Z"
   },
   {
    "duration": 9,
    "start_time": "2025-01-20T02:44:27.474Z"
   },
   {
    "duration": 48,
    "start_time": "2025-01-20T02:44:27.485Z"
   },
   {
    "duration": 20,
    "start_time": "2025-01-20T02:44:27.535Z"
   },
   {
    "duration": 13,
    "start_time": "2025-01-20T02:44:27.558Z"
   },
   {
    "duration": 7,
    "start_time": "2025-01-20T02:44:27.573Z"
   },
   {
    "duration": 4,
    "start_time": "2025-01-20T02:44:27.581Z"
   },
   {
    "duration": 5,
    "start_time": "2025-01-20T02:44:27.586Z"
   },
   {
    "duration": 4,
    "start_time": "2025-01-20T02:44:27.625Z"
   },
   {
    "duration": 4,
    "start_time": "2025-01-20T02:44:27.632Z"
   },
   {
    "duration": 4,
    "start_time": "2025-01-20T02:44:27.638Z"
   },
   {
    "duration": 3,
    "start_time": "2025-01-20T02:44:27.644Z"
   },
   {
    "duration": 7,
    "start_time": "2025-01-20T02:44:27.649Z"
   },
   {
    "duration": 11,
    "start_time": "2025-01-20T02:44:27.658Z"
   },
   {
    "duration": 4,
    "start_time": "2025-01-20T02:44:27.671Z"
   },
   {
    "duration": 14,
    "start_time": "2025-01-20T02:44:27.723Z"
   },
   {
    "duration": 5,
    "start_time": "2025-01-20T02:44:27.740Z"
   },
   {
    "duration": 20,
    "start_time": "2025-01-20T02:44:27.748Z"
   },
   {
    "duration": 8,
    "start_time": "2025-01-20T02:44:27.770Z"
   },
   {
    "duration": 325,
    "start_time": "2025-01-20T02:44:27.780Z"
   },
   {
    "duration": 20,
    "start_time": "2025-01-20T02:44:28.107Z"
   },
   {
    "duration": 6,
    "start_time": "2025-01-20T02:44:28.130Z"
   },
   {
    "duration": 340,
    "start_time": "2025-01-20T02:44:28.141Z"
   },
   {
    "duration": 39,
    "start_time": "2025-01-20T02:44:28.484Z"
   },
   {
    "duration": 5,
    "start_time": "2025-01-20T02:44:28.525Z"
   },
   {
    "duration": 9,
    "start_time": "2025-01-20T02:44:28.532Z"
   },
   {
    "duration": 11,
    "start_time": "2025-01-20T02:44:28.543Z"
   },
   {
    "duration": 19,
    "start_time": "2025-01-20T02:44:28.558Z"
   },
   {
    "duration": 15,
    "start_time": "2025-01-20T02:44:28.581Z"
   },
   {
    "duration": 22,
    "start_time": "2025-01-20T02:44:28.625Z"
   },
   {
    "duration": 377,
    "start_time": "2025-01-20T02:44:28.649Z"
   },
   {
    "duration": 7,
    "start_time": "2025-01-20T02:44:29.028Z"
   },
   {
    "duration": 395,
    "start_time": "2025-01-20T02:44:29.037Z"
   },
   {
    "duration": 5,
    "start_time": "2025-01-20T02:44:29.434Z"
   },
   {
    "duration": 16,
    "start_time": "2025-01-20T02:44:29.441Z"
   },
   {
    "duration": 11,
    "start_time": "2025-01-20T02:44:29.459Z"
   },
   {
    "duration": 123,
    "start_time": "2025-01-20T02:44:29.472Z"
   },
   {
    "duration": 159,
    "start_time": "2025-01-20T02:44:29.598Z"
   },
   {
    "duration": 12,
    "start_time": "2025-01-20T02:44:29.759Z"
   },
   {
    "duration": 18,
    "start_time": "2025-01-20T02:45:41.912Z"
   },
   {
    "duration": 8,
    "start_time": "2025-01-20T02:46:57.692Z"
   },
   {
    "duration": 26,
    "start_time": "2025-01-20T02:50:10.363Z"
   },
   {
    "duration": 883,
    "start_time": "2025-01-20T02:52:35.128Z"
   },
   {
    "duration": 41,
    "start_time": "2025-01-20T02:52:36.013Z"
   },
   {
    "duration": 13,
    "start_time": "2025-01-20T02:52:36.056Z"
   },
   {
    "duration": 11,
    "start_time": "2025-01-20T02:52:36.072Z"
   },
   {
    "duration": 4,
    "start_time": "2025-01-20T02:52:36.085Z"
   },
   {
    "duration": 33,
    "start_time": "2025-01-20T02:52:36.091Z"
   },
   {
    "duration": 9,
    "start_time": "2025-01-20T02:52:36.126Z"
   },
   {
    "duration": 12,
    "start_time": "2025-01-20T02:52:36.138Z"
   },
   {
    "duration": 18,
    "start_time": "2025-01-20T02:52:36.156Z"
   },
   {
    "duration": 20,
    "start_time": "2025-01-20T02:52:36.179Z"
   },
   {
    "duration": 27,
    "start_time": "2025-01-20T02:52:36.201Z"
   },
   {
    "duration": 3,
    "start_time": "2025-01-20T02:52:36.232Z"
   },
   {
    "duration": 4,
    "start_time": "2025-01-20T02:52:36.237Z"
   },
   {
    "duration": 4,
    "start_time": "2025-01-20T02:52:36.243Z"
   },
   {
    "duration": 3,
    "start_time": "2025-01-20T02:52:36.249Z"
   },
   {
    "duration": 3,
    "start_time": "2025-01-20T02:52:36.254Z"
   },
   {
    "duration": 3,
    "start_time": "2025-01-20T02:52:36.259Z"
   },
   {
    "duration": 7,
    "start_time": "2025-01-20T02:52:36.264Z"
   },
   {
    "duration": 53,
    "start_time": "2025-01-20T02:52:36.273Z"
   },
   {
    "duration": 4,
    "start_time": "2025-01-20T02:52:36.328Z"
   },
   {
    "duration": 13,
    "start_time": "2025-01-20T02:52:36.334Z"
   },
   {
    "duration": 4,
    "start_time": "2025-01-20T02:52:36.349Z"
   },
   {
    "duration": 18,
    "start_time": "2025-01-20T02:52:36.355Z"
   },
   {
    "duration": 53,
    "start_time": "2025-01-20T02:52:36.375Z"
   },
   {
    "duration": 308,
    "start_time": "2025-01-20T02:52:36.431Z"
   },
   {
    "duration": 9,
    "start_time": "2025-01-20T02:52:36.740Z"
   },
   {
    "duration": 4,
    "start_time": "2025-01-20T02:52:36.751Z"
   },
   {
    "duration": 378,
    "start_time": "2025-01-20T02:52:36.761Z"
   },
   {
    "duration": 30,
    "start_time": "2025-01-20T02:52:37.141Z"
   },
   {
    "duration": 4,
    "start_time": "2025-01-20T02:52:37.173Z"
   },
   {
    "duration": 9,
    "start_time": "2025-01-20T02:52:37.179Z"
   },
   {
    "duration": 35,
    "start_time": "2025-01-20T02:52:37.190Z"
   },
   {
    "duration": 15,
    "start_time": "2025-01-20T02:52:37.227Z"
   },
   {
    "duration": 14,
    "start_time": "2025-01-20T02:52:37.243Z"
   },
   {
    "duration": 20,
    "start_time": "2025-01-20T02:52:37.258Z"
   },
   {
    "duration": 253,
    "start_time": "2025-01-20T02:52:37.280Z"
   },
   {
    "duration": 10,
    "start_time": "2025-01-20T02:52:37.541Z"
   },
   {
    "duration": 425,
    "start_time": "2025-01-20T02:52:37.553Z"
   },
   {
    "duration": 5,
    "start_time": "2025-01-20T02:52:37.980Z"
   },
   {
    "duration": 18,
    "start_time": "2025-01-20T02:52:37.986Z"
   },
   {
    "duration": 16,
    "start_time": "2025-01-20T02:52:38.024Z"
   },
   {
    "duration": 104,
    "start_time": "2025-01-20T02:52:38.041Z"
   },
   {
    "duration": 163,
    "start_time": "2025-01-20T02:52:38.147Z"
   },
   {
    "duration": 33,
    "start_time": "2025-01-20T02:52:38.312Z"
   },
   {
    "duration": 20,
    "start_time": "2025-01-20T02:54:16.498Z"
   },
   {
    "duration": 13,
    "start_time": "2025-01-20T02:56:44.987Z"
   },
   {
    "duration": 14,
    "start_time": "2025-01-20T03:13:10.304Z"
   },
   {
    "duration": 18,
    "start_time": "2025-01-20T03:16:33.413Z"
   },
   {
    "duration": 9,
    "start_time": "2025-01-20T03:19:36.637Z"
   },
   {
    "duration": 5,
    "start_time": "2025-01-20T03:25:20.616Z"
   },
   {
    "duration": 9,
    "start_time": "2025-01-20T03:25:25.853Z"
   },
   {
    "duration": 9,
    "start_time": "2025-01-20T03:25:31.954Z"
   },
   {
    "duration": 642,
    "start_time": "2025-01-21T01:28:42.468Z"
   },
   {
    "duration": 2624,
    "start_time": "2025-01-21T01:28:56.675Z"
   },
   {
    "duration": 33,
    "start_time": "2025-01-21T01:28:59.301Z"
   },
   {
    "duration": 15,
    "start_time": "2025-01-21T01:28:59.336Z"
   },
   {
    "duration": 19,
    "start_time": "2025-01-21T01:28:59.354Z"
   },
   {
    "duration": 4,
    "start_time": "2025-01-21T01:28:59.374Z"
   },
   {
    "duration": 3,
    "start_time": "2025-01-21T01:28:59.379Z"
   },
   {
    "duration": 6,
    "start_time": "2025-01-21T01:28:59.384Z"
   },
   {
    "duration": 7,
    "start_time": "2025-01-21T01:28:59.392Z"
   },
   {
    "duration": 15,
    "start_time": "2025-01-21T01:28:59.400Z"
   },
   {
    "duration": 53,
    "start_time": "2025-01-21T01:28:59.418Z"
   },
   {
    "duration": 6,
    "start_time": "2025-01-21T01:28:59.473Z"
   },
   {
    "duration": 5,
    "start_time": "2025-01-21T01:28:59.480Z"
   },
   {
    "duration": 3,
    "start_time": "2025-01-21T01:28:59.487Z"
   },
   {
    "duration": 4,
    "start_time": "2025-01-21T01:28:59.492Z"
   },
   {
    "duration": 3,
    "start_time": "2025-01-21T01:28:59.498Z"
   },
   {
    "duration": 3,
    "start_time": "2025-01-21T01:28:59.503Z"
   },
   {
    "duration": 3,
    "start_time": "2025-01-21T01:28:59.508Z"
   },
   {
    "duration": 6,
    "start_time": "2025-01-21T01:28:59.512Z"
   },
   {
    "duration": 58,
    "start_time": "2025-01-21T01:28:59.520Z"
   },
   {
    "duration": 3,
    "start_time": "2025-01-21T01:28:59.580Z"
   },
   {
    "duration": 10,
    "start_time": "2025-01-21T01:28:59.585Z"
   },
   {
    "duration": 4,
    "start_time": "2025-01-21T01:28:59.597Z"
   },
   {
    "duration": 17,
    "start_time": "2025-01-21T01:28:59.603Z"
   },
   {
    "duration": 6,
    "start_time": "2025-01-21T01:28:59.621Z"
   },
   {
    "duration": 292,
    "start_time": "2025-01-21T01:28:59.669Z"
   },
   {
    "duration": 7,
    "start_time": "2025-01-21T01:28:59.969Z"
   },
   {
    "duration": 4,
    "start_time": "2025-01-21T01:28:59.978Z"
   },
   {
    "duration": 313,
    "start_time": "2025-01-21T01:28:59.988Z"
   },
   {
    "duration": 23,
    "start_time": "2025-01-21T01:29:00.303Z"
   },
   {
    "duration": 4,
    "start_time": "2025-01-21T01:29:00.328Z"
   },
   {
    "duration": 39,
    "start_time": "2025-01-21T01:29:00.334Z"
   },
   {
    "duration": 9,
    "start_time": "2025-01-21T01:29:00.375Z"
   },
   {
    "duration": 12,
    "start_time": "2025-01-21T01:29:00.385Z"
   },
   {
    "duration": 12,
    "start_time": "2025-01-21T01:29:00.399Z"
   },
   {
    "duration": 18,
    "start_time": "2025-01-21T01:29:00.413Z"
   },
   {
    "duration": 240,
    "start_time": "2025-01-21T01:29:00.432Z"
   },
   {
    "duration": 5,
    "start_time": "2025-01-21T01:29:00.674Z"
   },
   {
    "duration": 351,
    "start_time": "2025-01-21T01:29:00.680Z"
   },
   {
    "duration": 5,
    "start_time": "2025-01-21T01:29:01.032Z"
   },
   {
    "duration": 14,
    "start_time": "2025-01-21T01:29:01.038Z"
   },
   {
    "duration": 10,
    "start_time": "2025-01-21T01:29:01.070Z"
   },
   {
    "duration": 107,
    "start_time": "2025-01-21T01:29:01.082Z"
   },
   {
    "duration": 152,
    "start_time": "2025-01-21T01:29:01.191Z"
   },
   {
    "duration": 92,
    "start_time": "2025-01-21T01:29:01.344Z"
   },
   {
    "duration": 41,
    "start_time": "2025-01-21T01:29:01.438Z"
   },
   {
    "duration": 10,
    "start_time": "2025-01-21T01:29:01.480Z"
   },
   {
    "duration": 242,
    "start_time": "2025-01-21T01:29:01.491Z"
   },
   {
    "duration": 0,
    "start_time": "2025-01-21T01:29:01.735Z"
   },
   {
    "duration": 18,
    "start_time": "2025-01-21T01:30:33.058Z"
   },
   {
    "duration": 18,
    "start_time": "2025-01-21T01:30:36.665Z"
   },
   {
    "duration": 16,
    "start_time": "2025-01-21T01:30:37.715Z"
   },
   {
    "duration": 8,
    "start_time": "2025-01-21T01:31:12.487Z"
   },
   {
    "duration": 817,
    "start_time": "2025-01-21T01:31:20.419Z"
   },
   {
    "duration": 32,
    "start_time": "2025-01-21T01:31:21.239Z"
   },
   {
    "duration": 16,
    "start_time": "2025-01-21T01:31:21.273Z"
   },
   {
    "duration": 12,
    "start_time": "2025-01-21T01:31:21.292Z"
   },
   {
    "duration": 4,
    "start_time": "2025-01-21T01:31:21.308Z"
   },
   {
    "duration": 3,
    "start_time": "2025-01-21T01:31:21.314Z"
   },
   {
    "duration": 8,
    "start_time": "2025-01-21T01:31:21.319Z"
   },
   {
    "duration": 44,
    "start_time": "2025-01-21T01:31:21.329Z"
   },
   {
    "duration": 18,
    "start_time": "2025-01-21T01:31:21.375Z"
   },
   {
    "duration": 12,
    "start_time": "2025-01-21T01:31:21.394Z"
   },
   {
    "duration": 6,
    "start_time": "2025-01-21T01:31:21.409Z"
   },
   {
    "duration": 3,
    "start_time": "2025-01-21T01:31:21.416Z"
   },
   {
    "duration": 3,
    "start_time": "2025-01-21T01:31:21.421Z"
   },
   {
    "duration": 4,
    "start_time": "2025-01-21T01:31:21.469Z"
   },
   {
    "duration": 5,
    "start_time": "2025-01-21T01:31:21.474Z"
   },
   {
    "duration": 3,
    "start_time": "2025-01-21T01:31:21.481Z"
   },
   {
    "duration": 3,
    "start_time": "2025-01-21T01:31:21.486Z"
   },
   {
    "duration": 7,
    "start_time": "2025-01-21T01:31:21.491Z"
   },
   {
    "duration": 9,
    "start_time": "2025-01-21T01:31:21.500Z"
   },
   {
    "duration": 3,
    "start_time": "2025-01-21T01:31:21.511Z"
   },
   {
    "duration": 65,
    "start_time": "2025-01-21T01:31:21.516Z"
   },
   {
    "duration": 4,
    "start_time": "2025-01-21T01:31:21.583Z"
   },
   {
    "duration": 22,
    "start_time": "2025-01-21T01:31:21.589Z"
   },
   {
    "duration": 6,
    "start_time": "2025-01-21T01:31:21.613Z"
   },
   {
    "duration": 304,
    "start_time": "2025-01-21T01:31:21.621Z"
   },
   {
    "duration": 8,
    "start_time": "2025-01-21T01:31:21.927Z"
   },
   {
    "duration": 13,
    "start_time": "2025-01-21T01:31:21.937Z"
   },
   {
    "duration": 375,
    "start_time": "2025-01-21T01:31:21.952Z"
   },
   {
    "duration": 27,
    "start_time": "2025-01-21T01:31:22.329Z"
   },
   {
    "duration": 4,
    "start_time": "2025-01-21T01:31:22.369Z"
   },
   {
    "duration": 8,
    "start_time": "2025-01-21T01:31:22.375Z"
   },
   {
    "duration": 13,
    "start_time": "2025-01-21T01:31:22.385Z"
   },
   {
    "duration": 12,
    "start_time": "2025-01-21T01:31:22.400Z"
   },
   {
    "duration": 12,
    "start_time": "2025-01-21T01:31:22.414Z"
   },
   {
    "duration": 58,
    "start_time": "2025-01-21T01:31:22.428Z"
   },
   {
    "duration": 213,
    "start_time": "2025-01-21T01:31:22.487Z"
   },
   {
    "duration": 7,
    "start_time": "2025-01-21T01:31:22.702Z"
   },
   {
    "duration": 391,
    "start_time": "2025-01-21T01:31:22.711Z"
   },
   {
    "duration": 4,
    "start_time": "2025-01-21T01:31:23.103Z"
   },
   {
    "duration": 14,
    "start_time": "2025-01-21T01:31:23.109Z"
   },
   {
    "duration": 10,
    "start_time": "2025-01-21T01:31:23.129Z"
   },
   {
    "duration": 117,
    "start_time": "2025-01-21T01:31:23.140Z"
   },
   {
    "duration": 162,
    "start_time": "2025-01-21T01:31:23.260Z"
   },
   {
    "duration": 26,
    "start_time": "2025-01-21T01:31:23.424Z"
   },
   {
    "duration": 21,
    "start_time": "2025-01-21T01:31:23.470Z"
   },
   {
    "duration": 11,
    "start_time": "2025-01-21T01:31:23.493Z"
   },
   {
    "duration": 6,
    "start_time": "2025-01-21T01:31:23.506Z"
   },
   {
    "duration": 5,
    "start_time": "2025-01-21T01:31:23.514Z"
   },
   {
    "duration": 5,
    "start_time": "2025-01-21T01:37:51.769Z"
   },
   {
    "duration": 8,
    "start_time": "2025-01-21T01:40:23.970Z"
   },
   {
    "duration": 102,
    "start_time": "2025-01-21T01:41:45.851Z"
   },
   {
    "duration": 3,
    "start_time": "2025-01-21T01:42:44.468Z"
   },
   {
    "duration": 11,
    "start_time": "2025-01-21T02:02:21.499Z"
   },
   {
    "duration": 800,
    "start_time": "2025-01-21T02:03:22.055Z"
   },
   {
    "duration": 29,
    "start_time": "2025-01-21T02:03:22.857Z"
   },
   {
    "duration": 14,
    "start_time": "2025-01-21T02:03:22.887Z"
   },
   {
    "duration": 11,
    "start_time": "2025-01-21T02:03:22.902Z"
   },
   {
    "duration": 4,
    "start_time": "2025-01-21T02:03:22.914Z"
   },
   {
    "duration": 3,
    "start_time": "2025-01-21T02:03:22.919Z"
   },
   {
    "duration": 8,
    "start_time": "2025-01-21T02:03:22.924Z"
   },
   {
    "duration": 40,
    "start_time": "2025-01-21T02:03:22.934Z"
   },
   {
    "duration": 13,
    "start_time": "2025-01-21T02:03:22.975Z"
   },
   {
    "duration": 13,
    "start_time": "2025-01-21T02:03:22.991Z"
   },
   {
    "duration": 6,
    "start_time": "2025-01-21T02:03:23.005Z"
   },
   {
    "duration": 3,
    "start_time": "2025-01-21T02:03:23.013Z"
   },
   {
    "duration": 4,
    "start_time": "2025-01-21T02:03:23.017Z"
   },
   {
    "duration": 48,
    "start_time": "2025-01-21T02:03:23.022Z"
   },
   {
    "duration": 4,
    "start_time": "2025-01-21T02:03:23.072Z"
   },
   {
    "duration": 3,
    "start_time": "2025-01-21T02:03:23.077Z"
   },
   {
    "duration": 3,
    "start_time": "2025-01-21T02:03:23.082Z"
   },
   {
    "duration": 6,
    "start_time": "2025-01-21T02:03:23.086Z"
   },
   {
    "duration": 9,
    "start_time": "2025-01-21T02:03:23.093Z"
   },
   {
    "duration": 3,
    "start_time": "2025-01-21T02:03:23.103Z"
   },
   {
    "duration": 11,
    "start_time": "2025-01-21T02:03:23.108Z"
   },
   {
    "duration": 53,
    "start_time": "2025-01-21T02:03:23.120Z"
   },
   {
    "duration": 16,
    "start_time": "2025-01-21T02:03:23.175Z"
   },
   {
    "duration": 8,
    "start_time": "2025-01-21T02:03:23.192Z"
   },
   {
    "duration": 325,
    "start_time": "2025-01-21T02:03:23.202Z"
   },
   {
    "duration": 7,
    "start_time": "2025-01-21T02:03:23.529Z"
   },
   {
    "duration": 19,
    "start_time": "2025-01-21T02:03:23.538Z"
   },
   {
    "duration": 336,
    "start_time": "2025-01-21T02:03:23.569Z"
   },
   {
    "duration": 23,
    "start_time": "2025-01-21T02:03:23.907Z"
   },
   {
    "duration": 4,
    "start_time": "2025-01-21T02:03:23.931Z"
   },
   {
    "duration": 9,
    "start_time": "2025-01-21T02:03:23.936Z"
   },
   {
    "duration": 9,
    "start_time": "2025-01-21T02:03:23.970Z"
   },
   {
    "duration": 13,
    "start_time": "2025-01-21T02:03:23.981Z"
   },
   {
    "duration": 12,
    "start_time": "2025-01-21T02:03:23.996Z"
   },
   {
    "duration": 18,
    "start_time": "2025-01-21T02:03:24.009Z"
   },
   {
    "duration": 243,
    "start_time": "2025-01-21T02:03:24.029Z"
   },
   {
    "duration": 5,
    "start_time": "2025-01-21T02:03:24.274Z"
   },
   {
    "duration": 382,
    "start_time": "2025-01-21T02:03:24.280Z"
   },
   {
    "duration": 8,
    "start_time": "2025-01-21T02:03:24.664Z"
   },
   {
    "duration": 18,
    "start_time": "2025-01-21T02:03:24.673Z"
   },
   {
    "duration": 8,
    "start_time": "2025-01-21T02:03:24.693Z"
   },
   {
    "duration": 123,
    "start_time": "2025-01-21T02:03:24.705Z"
   },
   {
    "duration": 149,
    "start_time": "2025-01-21T02:03:24.829Z"
   },
   {
    "duration": 21,
    "start_time": "2025-01-21T02:03:24.980Z"
   },
   {
    "duration": 19,
    "start_time": "2025-01-21T02:03:25.003Z"
   },
   {
    "duration": 50,
    "start_time": "2025-01-21T02:03:25.024Z"
   },
   {
    "duration": 7,
    "start_time": "2025-01-21T02:03:25.076Z"
   },
   {
    "duration": 5,
    "start_time": "2025-01-21T02:03:25.084Z"
   },
   {
    "duration": 8,
    "start_time": "2025-01-21T02:03:25.092Z"
   },
   {
    "duration": 10,
    "start_time": "2025-01-21T02:03:25.101Z"
   },
   {
    "duration": 4,
    "start_time": "2025-01-21T02:03:25.112Z"
   },
   {
    "duration": 5,
    "start_time": "2025-01-21T02:14:28.372Z"
   },
   {
    "duration": 5,
    "start_time": "2025-01-21T02:15:16.863Z"
   },
   {
    "duration": 6,
    "start_time": "2025-01-21T02:15:26.551Z"
   },
   {
    "duration": 393,
    "start_time": "2025-01-21T02:31:41.369Z"
   },
   {
    "duration": 420,
    "start_time": "2025-01-21T02:32:16.880Z"
   },
   {
    "duration": 462,
    "start_time": "2025-01-21T02:32:41.684Z"
   },
   {
    "duration": 844,
    "start_time": "2025-01-21T02:32:51.112Z"
   },
   {
    "duration": 28,
    "start_time": "2025-01-21T02:32:51.958Z"
   },
   {
    "duration": 14,
    "start_time": "2025-01-21T02:32:51.988Z"
   },
   {
    "duration": 11,
    "start_time": "2025-01-21T02:32:52.003Z"
   },
   {
    "duration": 4,
    "start_time": "2025-01-21T02:32:52.017Z"
   },
   {
    "duration": 3,
    "start_time": "2025-01-21T02:32:52.023Z"
   },
   {
    "duration": 6,
    "start_time": "2025-01-21T02:32:52.028Z"
   },
   {
    "duration": 40,
    "start_time": "2025-01-21T02:32:52.036Z"
   },
   {
    "duration": 14,
    "start_time": "2025-01-21T02:32:52.077Z"
   },
   {
    "duration": 12,
    "start_time": "2025-01-21T02:32:52.093Z"
   },
   {
    "duration": 7,
    "start_time": "2025-01-21T02:32:52.106Z"
   },
   {
    "duration": 3,
    "start_time": "2025-01-21T02:32:52.115Z"
   },
   {
    "duration": 4,
    "start_time": "2025-01-21T02:32:52.120Z"
   },
   {
    "duration": 46,
    "start_time": "2025-01-21T02:32:52.127Z"
   },
   {
    "duration": 4,
    "start_time": "2025-01-21T02:32:52.176Z"
   },
   {
    "duration": 4,
    "start_time": "2025-01-21T02:32:52.181Z"
   },
   {
    "duration": 3,
    "start_time": "2025-01-21T02:32:52.186Z"
   },
   {
    "duration": 6,
    "start_time": "2025-01-21T02:32:52.191Z"
   },
   {
    "duration": 9,
    "start_time": "2025-01-21T02:32:52.199Z"
   },
   {
    "duration": 4,
    "start_time": "2025-01-21T02:32:52.210Z"
   },
   {
    "duration": 64,
    "start_time": "2025-01-21T02:32:52.215Z"
   },
   {
    "duration": 4,
    "start_time": "2025-01-21T02:32:52.281Z"
   },
   {
    "duration": 17,
    "start_time": "2025-01-21T02:32:52.287Z"
   },
   {
    "duration": 6,
    "start_time": "2025-01-21T02:32:52.305Z"
   },
   {
    "duration": 306,
    "start_time": "2025-01-21T02:32:52.312Z"
   },
   {
    "duration": 8,
    "start_time": "2025-01-21T02:32:52.620Z"
   },
   {
    "duration": 20,
    "start_time": "2025-01-21T02:32:52.630Z"
   },
   {
    "duration": 355,
    "start_time": "2025-01-21T02:32:52.651Z"
   },
   {
    "duration": 23,
    "start_time": "2025-01-21T02:32:53.009Z"
   },
   {
    "duration": 3,
    "start_time": "2025-01-21T02:32:53.034Z"
   },
   {
    "duration": 33,
    "start_time": "2025-01-21T02:32:53.039Z"
   },
   {
    "duration": 9,
    "start_time": "2025-01-21T02:32:53.074Z"
   },
   {
    "duration": 11,
    "start_time": "2025-01-21T02:32:53.085Z"
   },
   {
    "duration": 14,
    "start_time": "2025-01-21T02:32:53.098Z"
   },
   {
    "duration": 57,
    "start_time": "2025-01-21T02:32:53.114Z"
   },
   {
    "duration": 213,
    "start_time": "2025-01-21T02:32:53.173Z"
   },
   {
    "duration": 6,
    "start_time": "2025-01-21T02:32:53.388Z"
   },
   {
    "duration": 381,
    "start_time": "2025-01-21T02:32:53.395Z"
   },
   {
    "duration": 5,
    "start_time": "2025-01-21T02:32:53.778Z"
   },
   {
    "duration": 15,
    "start_time": "2025-01-21T02:32:53.785Z"
   },
   {
    "duration": 10,
    "start_time": "2025-01-21T02:32:53.805Z"
   },
   {
    "duration": 132,
    "start_time": "2025-01-21T02:32:53.818Z"
   },
   {
    "duration": 161,
    "start_time": "2025-01-21T02:32:53.952Z"
   },
   {
    "duration": 21,
    "start_time": "2025-01-21T02:32:54.115Z"
   },
   {
    "duration": 421,
    "start_time": "2025-01-21T02:32:54.138Z"
   },
   {
    "duration": 24,
    "start_time": "2025-01-21T02:32:54.561Z"
   },
   {
    "duration": 438,
    "start_time": "2025-01-21T02:32:54.587Z"
   },
   {
    "duration": 14,
    "start_time": "2025-01-21T02:32:55.027Z"
   },
   {
    "duration": 501,
    "start_time": "2025-01-21T02:32:55.044Z"
   },
   {
    "duration": 9,
    "start_time": "2025-01-21T02:32:55.547Z"
   },
   {
    "duration": 6,
    "start_time": "2025-01-21T02:32:55.571Z"
   },
   {
    "duration": 7,
    "start_time": "2025-01-21T02:32:55.579Z"
   },
   {
    "duration": 10,
    "start_time": "2025-01-21T02:32:55.588Z"
   },
   {
    "duration": 4,
    "start_time": "2025-01-21T02:32:55.600Z"
   },
   {
    "duration": 6,
    "start_time": "2025-01-21T02:32:55.605Z"
   },
   {
    "duration": 2,
    "start_time": "2025-01-21T02:32:55.613Z"
   },
   {
    "duration": 862,
    "start_time": "2025-01-21T02:39:42.086Z"
   },
   {
    "duration": 28,
    "start_time": "2025-01-21T02:39:42.951Z"
   },
   {
    "duration": 13,
    "start_time": "2025-01-21T02:39:42.980Z"
   },
   {
    "duration": 10,
    "start_time": "2025-01-21T02:39:42.995Z"
   },
   {
    "duration": 3,
    "start_time": "2025-01-21T02:39:43.008Z"
   },
   {
    "duration": 3,
    "start_time": "2025-01-21T02:39:43.013Z"
   },
   {
    "duration": 8,
    "start_time": "2025-01-21T02:39:43.018Z"
   },
   {
    "duration": 47,
    "start_time": "2025-01-21T02:39:43.027Z"
   },
   {
    "duration": 14,
    "start_time": "2025-01-21T02:39:43.075Z"
   },
   {
    "duration": 12,
    "start_time": "2025-01-21T02:39:43.091Z"
   },
   {
    "duration": 7,
    "start_time": "2025-01-21T02:39:43.104Z"
   },
   {
    "duration": 4,
    "start_time": "2025-01-21T02:39:43.112Z"
   },
   {
    "duration": 4,
    "start_time": "2025-01-21T02:39:43.118Z"
   },
   {
    "duration": 43,
    "start_time": "2025-01-21T02:39:43.128Z"
   },
   {
    "duration": 3,
    "start_time": "2025-01-21T02:39:43.173Z"
   },
   {
    "duration": 3,
    "start_time": "2025-01-21T02:39:43.178Z"
   },
   {
    "duration": 3,
    "start_time": "2025-01-21T02:39:43.183Z"
   },
   {
    "duration": 6,
    "start_time": "2025-01-21T02:39:43.187Z"
   },
   {
    "duration": 9,
    "start_time": "2025-01-21T02:39:43.195Z"
   },
   {
    "duration": 4,
    "start_time": "2025-01-21T02:39:43.205Z"
   },
   {
    "duration": 60,
    "start_time": "2025-01-21T02:39:43.210Z"
   },
   {
    "duration": 4,
    "start_time": "2025-01-21T02:39:43.273Z"
   },
   {
    "duration": 17,
    "start_time": "2025-01-21T02:39:43.279Z"
   },
   {
    "duration": 6,
    "start_time": "2025-01-21T02:39:43.299Z"
   },
   {
    "duration": 309,
    "start_time": "2025-01-21T02:39:43.306Z"
   },
   {
    "duration": 9,
    "start_time": "2025-01-21T02:39:43.617Z"
   },
   {
    "duration": 22,
    "start_time": "2025-01-21T02:39:43.627Z"
   },
   {
    "duration": 339,
    "start_time": "2025-01-21T02:39:43.651Z"
   },
   {
    "duration": 24,
    "start_time": "2025-01-21T02:39:43.992Z"
   },
   {
    "duration": 3,
    "start_time": "2025-01-21T02:39:44.018Z"
   },
   {
    "duration": 7,
    "start_time": "2025-01-21T02:39:44.023Z"
   },
   {
    "duration": 40,
    "start_time": "2025-01-21T02:39:44.032Z"
   },
   {
    "duration": 12,
    "start_time": "2025-01-21T02:39:44.073Z"
   },
   {
    "duration": 12,
    "start_time": "2025-01-21T02:39:44.087Z"
   },
   {
    "duration": 18,
    "start_time": "2025-01-21T02:39:44.101Z"
   },
   {
    "duration": 239,
    "start_time": "2025-01-21T02:39:44.120Z"
   },
   {
    "duration": 15,
    "start_time": "2025-01-21T02:39:44.360Z"
   },
   {
    "duration": 366,
    "start_time": "2025-01-21T02:39:44.377Z"
   },
   {
    "duration": 5,
    "start_time": "2025-01-21T02:39:44.745Z"
   },
   {
    "duration": 29,
    "start_time": "2025-01-21T02:39:44.752Z"
   },
   {
    "duration": 9,
    "start_time": "2025-01-21T02:39:44.786Z"
   },
   {
    "duration": 110,
    "start_time": "2025-01-21T02:39:44.797Z"
   },
   {
    "duration": 150,
    "start_time": "2025-01-21T02:39:44.909Z"
   },
   {
    "duration": 27,
    "start_time": "2025-01-21T02:39:45.061Z"
   },
   {
    "duration": 429,
    "start_time": "2025-01-21T02:39:45.090Z"
   },
   {
    "duration": 21,
    "start_time": "2025-01-21T02:39:45.521Z"
   },
   {
    "duration": 442,
    "start_time": "2025-01-21T02:39:45.544Z"
   },
   {
    "duration": 12,
    "start_time": "2025-01-21T02:39:45.988Z"
   },
   {
    "duration": 514,
    "start_time": "2025-01-21T02:39:46.002Z"
   },
   {
    "duration": 9,
    "start_time": "2025-01-21T02:39:46.517Z"
   },
   {
    "duration": 12,
    "start_time": "2025-01-21T02:39:46.528Z"
   },
   {
    "duration": 30,
    "start_time": "2025-01-21T02:39:46.542Z"
   },
   {
    "duration": 17,
    "start_time": "2025-01-21T02:39:46.574Z"
   },
   {
    "duration": 5,
    "start_time": "2025-01-21T02:39:46.593Z"
   },
   {
    "duration": 5,
    "start_time": "2025-01-21T02:39:46.600Z"
   },
   {
    "duration": 3,
    "start_time": "2025-01-21T02:39:46.607Z"
   },
   {
    "duration": 5,
    "start_time": "2025-01-21T02:44:59.916Z"
   },
   {
    "duration": 814,
    "start_time": "2025-01-21T02:46:17.542Z"
   },
   {
    "duration": 28,
    "start_time": "2025-01-21T02:46:18.358Z"
   },
   {
    "duration": 13,
    "start_time": "2025-01-21T02:46:18.388Z"
   },
   {
    "duration": 12,
    "start_time": "2025-01-21T02:46:18.403Z"
   },
   {
    "duration": 4,
    "start_time": "2025-01-21T02:46:18.418Z"
   },
   {
    "duration": 3,
    "start_time": "2025-01-21T02:46:18.423Z"
   },
   {
    "duration": 42,
    "start_time": "2025-01-21T02:46:18.428Z"
   },
   {
    "duration": 7,
    "start_time": "2025-01-21T02:46:18.471Z"
   },
   {
    "duration": 13,
    "start_time": "2025-01-21T02:46:18.480Z"
   },
   {
    "duration": 11,
    "start_time": "2025-01-21T02:46:18.495Z"
   },
   {
    "duration": 6,
    "start_time": "2025-01-21T02:46:18.509Z"
   },
   {
    "duration": 3,
    "start_time": "2025-01-21T02:46:18.516Z"
   },
   {
    "duration": 4,
    "start_time": "2025-01-21T02:46:18.521Z"
   },
   {
    "duration": 43,
    "start_time": "2025-01-21T02:46:18.528Z"
   },
   {
    "duration": 3,
    "start_time": "2025-01-21T02:46:18.573Z"
   },
   {
    "duration": 3,
    "start_time": "2025-01-21T02:46:18.579Z"
   },
   {
    "duration": 3,
    "start_time": "2025-01-21T02:46:18.584Z"
   },
   {
    "duration": 5,
    "start_time": "2025-01-21T02:46:18.589Z"
   },
   {
    "duration": 9,
    "start_time": "2025-01-21T02:46:18.596Z"
   },
   {
    "duration": 4,
    "start_time": "2025-01-21T02:46:18.606Z"
   },
   {
    "duration": 63,
    "start_time": "2025-01-21T02:46:18.611Z"
   },
   {
    "duration": 4,
    "start_time": "2025-01-21T02:46:18.676Z"
   },
   {
    "duration": 18,
    "start_time": "2025-01-21T02:46:18.683Z"
   },
   {
    "duration": 6,
    "start_time": "2025-01-21T02:46:18.703Z"
   },
   {
    "duration": 302,
    "start_time": "2025-01-21T02:46:18.711Z"
   },
   {
    "duration": 8,
    "start_time": "2025-01-21T02:46:19.014Z"
   },
   {
    "duration": 26,
    "start_time": "2025-01-21T02:46:19.024Z"
   },
   {
    "duration": 332,
    "start_time": "2025-01-21T02:46:19.052Z"
   },
   {
    "duration": 23,
    "start_time": "2025-01-21T02:46:19.386Z"
   },
   {
    "duration": 3,
    "start_time": "2025-01-21T02:46:19.411Z"
   },
   {
    "duration": 8,
    "start_time": "2025-01-21T02:46:19.416Z"
   },
   {
    "duration": 9,
    "start_time": "2025-01-21T02:46:19.426Z"
   },
   {
    "duration": 46,
    "start_time": "2025-01-21T02:46:19.436Z"
   },
   {
    "duration": 14,
    "start_time": "2025-01-21T02:46:19.483Z"
   },
   {
    "duration": 18,
    "start_time": "2025-01-21T02:46:19.498Z"
   },
   {
    "duration": 244,
    "start_time": "2025-01-21T02:46:19.518Z"
   },
   {
    "duration": 9,
    "start_time": "2025-01-21T02:46:19.763Z"
   },
   {
    "duration": 339,
    "start_time": "2025-01-21T02:46:19.773Z"
   },
   {
    "duration": 5,
    "start_time": "2025-01-21T02:46:20.113Z"
   },
   {
    "duration": 14,
    "start_time": "2025-01-21T02:46:20.120Z"
   },
   {
    "duration": 31,
    "start_time": "2025-01-21T02:46:20.141Z"
   },
   {
    "duration": 106,
    "start_time": "2025-01-21T02:46:20.174Z"
   },
   {
    "duration": 159,
    "start_time": "2025-01-21T02:46:20.282Z"
   },
   {
    "duration": 36,
    "start_time": "2025-01-21T02:46:20.443Z"
   },
   {
    "duration": 399,
    "start_time": "2025-01-21T02:46:20.480Z"
   },
   {
    "duration": 20,
    "start_time": "2025-01-21T02:46:20.880Z"
   },
   {
    "duration": 473,
    "start_time": "2025-01-21T02:46:20.902Z"
   },
   {
    "duration": 17,
    "start_time": "2025-01-21T02:46:21.377Z"
   },
   {
    "duration": 511,
    "start_time": "2025-01-21T02:46:21.395Z"
   },
   {
    "duration": 8,
    "start_time": "2025-01-21T02:46:21.908Z"
   },
   {
    "duration": 6,
    "start_time": "2025-01-21T02:46:21.918Z"
   },
   {
    "duration": 8,
    "start_time": "2025-01-21T02:46:21.925Z"
   },
   {
    "duration": 42,
    "start_time": "2025-01-21T02:46:21.934Z"
   },
   {
    "duration": 4,
    "start_time": "2025-01-21T02:46:21.977Z"
   },
   {
    "duration": 4,
    "start_time": "2025-01-21T02:46:21.983Z"
   },
   {
    "duration": 6,
    "start_time": "2025-01-21T16:27:36.977Z"
   },
   {
    "duration": 4,
    "start_time": "2025-01-21T16:27:46.076Z"
   }
  ],
  "kernelspec": {
   "display_name": "Python 3 (ipykernel)",
   "language": "python",
   "name": "python3"
  },
  "language_info": {
   "codemirror_mode": {
    "name": "ipython",
    "version": 3
   },
   "file_extension": ".py",
   "mimetype": "text/x-python",
   "name": "python",
   "nbconvert_exporter": "python",
   "pygments_lexer": "ipython3",
   "version": "3.9.19"
  },
  "toc": {
   "base_numbering": 1,
   "nav_menu": {},
   "number_sections": true,
   "sideBar": true,
   "skip_h1_title": true,
   "title_cell": "Table of Contents",
   "title_sidebar": "Contents",
   "toc_cell": false,
   "toc_position": {
    "height": "calc(100% - 180px)",
    "left": "10px",
    "top": "150px",
    "width": "319.312px"
   },
   "toc_section_display": true,
   "toc_window_display": true
  }
 },
 "nbformat": 4,
 "nbformat_minor": 2
}
