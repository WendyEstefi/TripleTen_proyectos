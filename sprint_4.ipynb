{
 "cells": [
  {
   "cell_type": "markdown",
   "id": "3Xg_RQfnafXz",
   "metadata": {
    "id": "3Xg_RQfnafXz"
   },
   "source": [
    "# ¡Llena ese carrito!"
   ]
  },
  {
   "cell_type": "markdown",
   "id": "mhIvmmkW414q",
   "metadata": {
    "id": "mhIvmmkW414q"
   },
   "source": [
    "# Introducción\n",
    "\n",
    "Instacart es una plataforma de entregas de comestibles donde la clientela puede registrar un pedido y hacer que se lo entreguen, similar a Uber Eats y Door Dash.\n",
    "El conjunto de datos que te hemos proporcionado tiene modificaciones del original. Redujimos el tamaño del conjunto para que tus cálculos se hicieran más rápido e introdujimos valores ausentes y duplicados. Tuvimos cuidado de conservar las distribuciones de los datos originales cuando hicimos los cambios.\n",
    "\n",
    "Debes completar tres pasos. Para cada uno de ellos, escribe una breve introducción que refleje con claridad cómo pretendes resolver cada paso, y escribe párrafos explicatorios que justifiquen tus decisiones al tiempo que avanzas en tu solución.  También escribe una conclusión que resuma tus hallazgos y elecciones.\n"
   ]
  },
  {
   "cell_type": "markdown",
   "id": "3MbyzpOQZ5Or",
   "metadata": {
    "id": "3MbyzpOQZ5Or"
   },
   "source": [
    "## Diccionario de datos\n",
    "\n",
    "Hay cinco tablas en el conjunto de datos, y tendrás que usarlas todas para hacer el preprocesamiento de datos y el análisis exploratorio de datos. A continuación se muestra un diccionario de datos que enumera las columnas de cada tabla y describe los datos que contienen.\n",
    "\n",
    "- `instacart_orders.csv`: cada fila corresponde a un pedido en la aplicación Instacart.\n",
    "    - `'order_id'`: número de ID que identifica de manera única cada pedido.\n",
    "    - `'user_id'`: número de ID que identifica de manera única la cuenta de cada cliente.\n",
    "    - `'order_number'`: el número de veces que este cliente ha hecho un pedido.\n",
    "    - `'order_dow'`: día de la semana en que se hizo el pedido (0 si es domingo).\n",
    "    - `'order_hour_of_day'`: hora del día en que se hizo el pedido.\n",
    "    - `'days_since_prior_order'`: número de días transcurridos desde que este cliente hizo su pedido anterior.\n",
    "- `products.csv`: cada fila corresponde a un producto único que pueden comprar los clientes.\n",
    "    - `'product_id'`: número ID que identifica de manera única cada producto.\n",
    "    - `'product_name'`: nombre del producto.\n",
    "    - `'aisle_id'`: número ID que identifica de manera única cada categoría de pasillo de víveres.\n",
    "    - `'department_id'`: número ID que identifica de manera única cada departamento de víveres.\n",
    "- `order_products.csv`: cada fila corresponde a un artículo pedido en un pedido.\n",
    "    - `'order_id'`: número de ID que identifica de manera única cada pedido.\n",
    "    - `'product_id'`: número ID que identifica de manera única cada producto.\n",
    "    - `'add_to_cart_order'`: el orden secuencial en el que se añadió cada artículo en el carrito.\n",
    "    - `'reordered'`: 0 si el cliente nunca ha pedido este producto antes, 1 si lo ha pedido.\n",
    "- `aisles.csv`\n",
    "    - `'aisle_id'`: número ID que identifica de manera única cada categoría de pasillo de víveres.\n",
    "    - `'aisle'`: nombre del pasillo.\n",
    "- `departments.csv`\n",
    "    - `'department_id'`: número ID que identifica de manera única cada departamento de víveres.\n",
    "    - `'department'`: nombre del departamento."
   ]
  },
  {
   "cell_type": "markdown",
   "id": "n3Ha_cNSZ8lK",
   "metadata": {
    "id": "n3Ha_cNSZ8lK"
   },
   "source": [
    "# Paso 1. Descripción de los datos\n",
    "\n",
    "Lee los archivos de datos (`/datasets/instacart_orders.csv`, `/datasets/products.csv`, `/datasets/aisles.csv`, `/datasets/departments.csv` y `/datasets/order_products.csv`) con `pd.read_csv()` usando los parámetros adecuados para leer los datos correctamente. Verifica la información para cada DataFrame creado.\n"
   ]
  },
  {
   "cell_type": "markdown",
   "id": "OmlQPLlyaAfR",
   "metadata": {
    "id": "OmlQPLlyaAfR"
   },
   "source": [
    "## Plan de solución\n",
    "\n",
    "   Para leer los archivos debo llamar a la librería pandas junto con read_csv porque todos son archivos tipo csv, a cada uno de los DataFrame asignarle un nombre diferente."
   ]
  },
  {
   "cell_type": "code",
   "execution_count": 1,
   "id": "fbf1adab",
   "metadata": {
    "id": "fbf1adab",
    "trusted": false
   },
   "outputs": [],
   "source": [
    "# importar librerías\n",
    "import pandas as pd #llamar a Pandas y darle alias pd\n",
    "import matplotlib.pyplot as plt #llamar a matplotlib y darle alias plt"
   ]
  },
  {
   "cell_type": "code",
   "execution_count": 2,
   "id": "ad36396d",
   "metadata": {
    "id": "ad36396d",
    "trusted": false
   },
   "outputs": [],
   "source": [
    "# leer conjuntos de datos en los DataFrames\n",
    "df_instacart = pd.read_csv('/datasets/instacart_orders.csv',delimiter=';') #leo el dataset de instacart\n",
    "df_products = pd.read_csv('/datasets/products.csv',delimiter=';') #leo el dataset de products\n",
    "df_aisles = pd.read_csv('/datasets/aisles.csv',delimiter=';') #leo el dataset de aisles\n",
    "df_departments = pd.read_csv('/datasets/departments.csv',delimiter=';') #leo el dataset de departaments\n",
    "df_order_products = pd.read_csv('/datasets/order_products.csv',delimiter=';') #leo el dataset de products"
   ]
  },
  {
   "cell_type": "code",
   "execution_count": 3,
   "id": "ad6a1efa",
   "metadata": {
    "id": "ad6a1efa",
    "trusted": false
   },
   "outputs": [
    {
     "name": "stdout",
     "output_type": "stream",
     "text": [
      "<class 'pandas.core.frame.DataFrame'>\n",
      "RangeIndex: 478967 entries, 0 to 478966\n",
      "Data columns (total 6 columns):\n",
      " #   Column                  Non-Null Count   Dtype  \n",
      "---  ------                  --------------   -----  \n",
      " 0   order_id                478967 non-null  int64  \n",
      " 1   user_id                 478967 non-null  int64  \n",
      " 2   order_number            478967 non-null  int64  \n",
      " 3   order_dow               478967 non-null  int64  \n",
      " 4   order_hour_of_day       478967 non-null  int64  \n",
      " 5   days_since_prior_order  450148 non-null  float64\n",
      "dtypes: float64(1), int64(5)\n",
      "memory usage: 21.9 MB\n"
     ]
    }
   ],
   "source": [
    "# mostrar información del DataFrame\n",
    "df_instacart.info()"
   ]
  },
  {
   "cell_type": "code",
   "execution_count": 4,
   "id": "5130e05e",
   "metadata": {
    "id": "5130e05e",
    "trusted": false
   },
   "outputs": [
    {
     "name": "stdout",
     "output_type": "stream",
     "text": [
      "<class 'pandas.core.frame.DataFrame'>\n",
      "RangeIndex: 49694 entries, 0 to 49693\n",
      "Data columns (total 4 columns):\n",
      " #   Column         Non-Null Count  Dtype \n",
      "---  ------         --------------  ----- \n",
      " 0   product_id     49694 non-null  int64 \n",
      " 1   product_name   48436 non-null  object\n",
      " 2   aisle_id       49694 non-null  int64 \n",
      " 3   department_id  49694 non-null  int64 \n",
      "dtypes: int64(3), object(1)\n",
      "memory usage: 1.5+ MB\n"
     ]
    }
   ],
   "source": [
    "# mostrar información del DataFrame\n",
    "df_products.info()"
   ]
  },
  {
   "cell_type": "code",
   "execution_count": 5,
   "id": "d8370c05",
   "metadata": {
    "id": "d8370c05",
    "trusted": false
   },
   "outputs": [
    {
     "name": "stdout",
     "output_type": "stream",
     "text": [
      "<class 'pandas.core.frame.DataFrame'>\n",
      "RangeIndex: 134 entries, 0 to 133\n",
      "Data columns (total 2 columns):\n",
      " #   Column    Non-Null Count  Dtype \n",
      "---  ------    --------------  ----- \n",
      " 0   aisle_id  134 non-null    int64 \n",
      " 1   aisle     134 non-null    object\n",
      "dtypes: int64(1), object(1)\n",
      "memory usage: 2.2+ KB\n"
     ]
    }
   ],
   "source": [
    "# mostrar información del DataFrame\n",
    "df_aisles.info()"
   ]
  },
  {
   "cell_type": "code",
   "execution_count": 6,
   "id": "59e2090f",
   "metadata": {
    "id": "59e2090f",
    "trusted": false
   },
   "outputs": [
    {
     "name": "stdout",
     "output_type": "stream",
     "text": [
      "<class 'pandas.core.frame.DataFrame'>\n",
      "RangeIndex: 21 entries, 0 to 20\n",
      "Data columns (total 2 columns):\n",
      " #   Column         Non-Null Count  Dtype \n",
      "---  ------         --------------  ----- \n",
      " 0   department_id  21 non-null     int64 \n",
      " 1   department     21 non-null     object\n",
      "dtypes: int64(1), object(1)\n",
      "memory usage: 464.0+ bytes\n"
     ]
    }
   ],
   "source": [
    "# mostrar información del DataFrame\n",
    "df_departments.info()"
   ]
  },
  {
   "cell_type": "code",
   "execution_count": 7,
   "id": "6fc81694",
   "metadata": {
    "id": "6fc81694",
    "trusted": false
   },
   "outputs": [
    {
     "name": "stdout",
     "output_type": "stream",
     "text": [
      "<class 'pandas.core.frame.DataFrame'>\n",
      "RangeIndex: 4545007 entries, 0 to 4545006\n",
      "Data columns (total 4 columns):\n",
      " #   Column             Dtype  \n",
      "---  ------             -----  \n",
      " 0   order_id           int64  \n",
      " 1   product_id         int64  \n",
      " 2   add_to_cart_order  float64\n",
      " 3   reordered          int64  \n",
      "dtypes: float64(1), int64(3)\n",
      "memory usage: 138.7 MB\n"
     ]
    }
   ],
   "source": [
    "# mostrar información del DataFrame\n",
    "df_order_products.info()"
   ]
  },
  {
   "cell_type": "markdown",
   "id": "t75BD19oaR5f",
   "metadata": {
    "id": "t75BD19oaR5f"
   },
   "source": [
    "## Conclusiones\n",
    "\n",
    "Para este análisis hay cinco conjuntos de datos, todos estos objetos son DataFrames de panda. Cada uno de ellos tiene un número de filas determinado con una sola columna. \n",
    "1. df_instacart tiene 478967 filas\n",
    "2. df_products tiene 49694 filas\n",
    "3. df_aisles tiene 134 filas\n",
    "4. df_departments tiene 21 filas\n",
    "5. df_order_products tiene 4545007 filas"
   ]
  },
  {
   "cell_type": "markdown",
   "id": "8RJHqxVmaVsF",
   "metadata": {
    "id": "8RJHqxVmaVsF"
   },
   "source": [
    "# Paso 2. Preprocesamiento de los datos\n",
    "\n",
    "Preprocesa los datos de la siguiente manera:\n",
    "\n",
    "- Verifica y corrige los tipos de datos (por ejemplo, asegúrate de que las columnas de ID sean números enteros).\n",
    "- Identifica y completa los valores ausentes.\n",
    "- Identifica y elimina los valores duplicados.\n",
    "\n",
    "Asegúrate de explicar qué tipos de valores ausentes y duplicados encontraste, cómo los completaste o eliminaste y por qué usaste esos métodos. ¿Por qué crees que estos valores ausentes y duplicados pueden haber estado presentes en el conjunto de datos?"
   ]
  },
  {
   "cell_type": "markdown",
   "id": "p6poABZQaZYb",
   "metadata": {
    "id": "p6poABZQaZYb"
   },
   "source": [
    "## Plan de solución\n",
    "\n",
    "1. Verificar Tipos de Datos: Utilizar dtypes y corregir según sea necesario y convertir columnas de ID a int.\n",
    "2. Validar los Valores Ausentes: Identificar valores faltantes, decidir cómo manejarlos (imputación, eliminación) y realizar esas acciones.\n",
    "4. Identificar y Eliminar Duplicados: Contar duplicados df.duplicated().sum() y eliminar los duplicados con df.drop_duplicates()"
   ]
  },
  {
   "cell_type": "markdown",
   "id": "07357848-dc64-4156-9cc3-01ff4365226d",
   "metadata": {
    "id": "07357848-dc64-4156-9cc3-01ff4365226d"
   },
   "source": [
    "## Encuentra y elimina los valores duplicados (y describe cómo tomaste tus decisiones)."
   ]
  },
  {
   "cell_type": "markdown",
   "id": "f179f0a9",
   "metadata": {
    "id": "f179f0a9"
   },
   "source": [
    "### `instacart_orders` data frame"
   ]
  },
  {
   "cell_type": "code",
   "execution_count": 8,
   "id": "b99297a5-405a-463d-8535-9adc3da4ad74",
   "metadata": {
    "id": "b99297a5-405a-463d-8535-9adc3da4ad74",
    "trusted": false
   },
   "outputs": [
    {
     "name": "stdout",
     "output_type": "stream",
     "text": [
      "Número de pedidos duplicados: 15\n",
      "Líneas duplicadas:\n",
      "         order_id  user_id  order_number  order_dow  order_hour_of_day  \\\n",
      "30371    1918001   188546            14          3                  2   \n",
      "99462     794638    50898            24          3                  2   \n",
      "119251    408114    68324             4          3                  2   \n",
      "142258   2845099    31189            11          3                  2   \n",
      "145574    794638    50898            24          3                  2   \n",
      "\n",
      "        days_since_prior_order  \n",
      "30371                     16.0  \n",
      "99462                      2.0  \n",
      "119251                    18.0  \n",
      "142258                     7.0  \n",
      "145574                     2.0  \n"
     ]
    }
   ],
   "source": [
    "# Revisa si hay pedidos duplicados\n",
    "duplicates = df_instacart.duplicated().sum()\n",
    "print(f'Número de pedidos duplicados: {duplicates}')\n",
    "\n",
    "duplicados = df_instacart[df_instacart.duplicated(keep=False)]\n",
    "print(\"Líneas duplicadas:\\n\", duplicados.head())\n"
   ]
  },
  {
   "cell_type": "markdown",
   "id": "PEkwUX_gvt5A",
   "metadata": {
    "id": "PEkwUX_gvt5A"
   },
   "source": [
    "¿Tienes líneas duplicadas? Si sí, ¿qué tienen en común? Tomé una muestra usando el método head , de los resultados obtenidos los duplicados tienen en común que la orden se realizó el mismo día de la semana el día miércoles a la misma hora del día."
   ]
  },
  {
   "cell_type": "code",
   "execution_count": 9,
   "id": "0d44de5d",
   "metadata": {
    "id": "0d44de5d",
    "scrolled": true,
    "trusted": false
   },
   "outputs": [
    {
     "name": "stdout",
     "output_type": "stream",
     "text": [
      "Index(['order_id', 'user_id', 'order_number', 'order_dow', 'order_hour_of_day',\n",
      "       'days_since_prior_order'],\n",
      "      dtype='object')\n",
      "        order_id  user_id  order_number  order_dow  order_hour_of_day  \\\n",
      "4838     2766110   162084            41          3                  2   \n",
      "5156     2190225   138285            18          3                  2   \n",
      "15506     553049    58599            13          3                  2   \n",
      "18420     382357   120200            19          3                  2   \n",
      "24691     690242    77357             2          3                  2   \n",
      "...          ...      ...           ...        ...                ...   \n",
      "457013   3384021    14881             6          3                  2   \n",
      "458816    910166   164782            18          3                  2   \n",
      "459635   1680532   106435             6          3                  2   \n",
      "468324    222962    54979            59          3                  2   \n",
      "477526   2592344    46860            38          3                  2   \n",
      "\n",
      "        days_since_prior_order  \n",
      "4838                      16.0  \n",
      "5156                      11.0  \n",
      "15506                      7.0  \n",
      "18420                     11.0  \n",
      "24691                      9.0  \n",
      "...                        ...  \n",
      "457013                    30.0  \n",
      "458816                     4.0  \n",
      "459635                    21.0  \n",
      "468324                     3.0  \n",
      "477526                     3.0  \n",
      "\n",
      "[121 rows x 6 columns]\n",
      "\n",
      "Pedidos el miércoles a las 2:00 a.m.: 121\n"
     ]
    }
   ],
   "source": [
    "# Basándote en tus hallazgos,\n",
    "# Verifica todos los pedidos que se hicieron el miércoles a las 2:00 a.m.\n",
    "\n",
    "print(df_instacart.columns)\n",
    "\n",
    "\n",
    "pedidos_2am_miercoles = df_instacart[(df_instacart['order_dow'] == 3) & (df_instacart['order_hour_of_day'] == 2)]\n",
    "\n",
    "print(pedidos_2am_miercoles)\n",
    "print()\n",
    "print(f\"Pedidos el miércoles a las 2:00 a.m.: {len(pedidos_2am_miercoles)}\")\n"
   ]
  },
  {
   "cell_type": "markdown",
   "id": "vu2OWyoqwOx5",
   "metadata": {
    "id": "vu2OWyoqwOx5"
   },
   "source": [
    "¿Qué sugiere este resultado? Que las personas de este conjunto de datos realizan más número de pedidos el día miércoles a las dos de la mañana, por ende son los valores más duplicados en el DataFrame df_instacart."
   ]
  },
  {
   "cell_type": "code",
   "execution_count": 10,
   "id": "480563c7",
   "metadata": {
    "id": "480563c7",
    "trusted": false
   },
   "outputs": [],
   "source": [
    "# Elimina los pedidos duplicados\n",
    "df_instacart.drop_duplicates(inplace=True)\n"
   ]
  },
  {
   "cell_type": "code",
   "execution_count": 11,
   "id": "0b2396a2",
   "metadata": {
    "id": "0b2396a2",
    "trusted": false
   },
   "outputs": [
    {
     "name": "stdout",
     "output_type": "stream",
     "text": [
      "Número de pedidos duplicados tras eliminar duplicados: 0\n"
     ]
    }
   ],
   "source": [
    "# Vuelve a verificar si hay filas duplicadas\n",
    "duplicates = df_instacart.duplicated().sum()\n",
    "print(f'Número de pedidos duplicados tras eliminar duplicados: {duplicates}')"
   ]
  },
  {
   "cell_type": "code",
   "execution_count": 12,
   "id": "f6113ef1",
   "metadata": {
    "id": "f6113ef1",
    "trusted": false
   },
   "outputs": [
    {
     "name": "stdout",
     "output_type": "stream",
     "text": [
      "Número de IDs de pedidos duplicados: 0\n"
     ]
    }
   ],
   "source": [
    "# Vuelve a verificar si hay IDs duplicados de pedidos\n",
    "id_duplicadas = df_instacart['order_id'].duplicated().sum()\n",
    "print(f'Número de IDs de pedidos duplicados: {id_duplicadas}')"
   ]
  },
  {
   "cell_type": "markdown",
   "id": "5e8905ae",
   "metadata": {
    "id": "5e8905ae"
   },
   "source": [
    "Eliminé los duplicados de df_instacart con drop_duplicates, utilizando inplace=True para que se agregue al mismo DataFrame, luego se verifico si habían filas duplicadas, añadiendo el método sum() para que se puedan contabilizar. Finalmente una validación extra fue la revisar los pedidos por id, porque cada uno de ellos pertenece a un único pedido,de igual forma se añadio sum() a duplicated(). Según los resultados obtenidos de los 15 pedidos duplicados que habían anteriormente, ahora ya no hay ninguno en el DataFrame df_instacart que corresponde a los pedidos en la aplicación de Instacart.\n",
    "Los duplicados pueden estar presentes debido a entradas de datos erróneas o repetitivas, en este caso una persona pudo hacer el mismo pedido varias veces o varias personas pudieron realizar el mismo pedido."
   ]
  },
  {
   "cell_type": "markdown",
   "id": "45e6bc46",
   "metadata": {
    "id": "45e6bc46"
   },
   "source": [
    "### `products` data frame"
   ]
  },
  {
   "cell_type": "code",
   "execution_count": 13,
   "id": "5f526b5b-8175-46fa-a0fd-441767d50e64",
   "metadata": {
    "id": "5f526b5b-8175-46fa-a0fd-441767d50e64",
    "trusted": false
   },
   "outputs": [
    {
     "name": "stdout",
     "output_type": "stream",
     "text": [
      "Número de filas duplicadas: 0\n"
     ]
    }
   ],
   "source": [
    "# Verifica si hay filas totalmente duplicadas\n",
    "duplicates = df_products.duplicated().sum()\n",
    "print(f'Número de filas duplicadas: {duplicates}')"
   ]
  },
  {
   "cell_type": "code",
   "execution_count": 14,
   "id": "88daa4f4",
   "metadata": {
    "id": "88daa4f4",
    "trusted": false
   },
   "outputs": [
    {
     "name": "stdout",
     "output_type": "stream",
     "text": [
      "Número de IDs de productos duplicados: 0\n"
     ]
    }
   ],
   "source": [
    "# Verifica si hay IDs duplicadas de productos\n",
    "id_duplicados_productos = df_products['product_id'].duplicated().sum()\n",
    "print(f'Número de IDs de productos duplicados: {id_duplicados_productos}')"
   ]
  },
  {
   "cell_type": "code",
   "execution_count": 15,
   "id": "c773f0bf",
   "metadata": {
    "id": "c773f0bf",
    "trusted": false
   },
   "outputs": [
    {
     "name": "stdout",
     "output_type": "stream",
     "text": [
      "Número de nombres de productos duplicados: 1465\n",
      "0                               Chocolate Sandwich Cookies\n",
      "1                                         All-Seasons Salt\n",
      "2                     Robust Golden Unsweetened Oolong Tea\n",
      "3        Smart Ones Classic Favorites Mini Rigatoni Wit...\n",
      "4                                Green Chile Anytime Sauce\n",
      "                               ...                        \n",
      "49689                        HIGH PERFORMANCE ENERGY DRINK\n",
      "49690                        ORIGINAL PANCAKE & WAFFLE MIX\n",
      "49691      ORGANIC INSTANT OATMEAL LIGHT MAPLE BROWN SUGAR\n",
      "49692                               SPRING WATER BODY WASH\n",
      "49693                              BURRITO- STEAK & CHEESE\n",
      "Name: product_name, Length: 49694, dtype: object\n"
     ]
    }
   ],
   "source": [
    "# Revisa si hay nombres duplicados de productos (convierte los nombres a letras mayúsculas para compararlos mejor)\n",
    "\n",
    "\n",
    "# Encontrar nombres de productos duplicados (en mayúsculas)\n",
    "\n",
    "nombres_productos_duplicados = df_products['product_name'].str.upper().duplicated(keep=False).sum()\n",
    "\n",
    "# Mostrar el número de duplicados\n",
    "print(f'Número de nombres de productos duplicados: {nombres_productos_duplicados}')\n",
    "\n",
    "# Mostrar los nombres duplicados\n",
    "print(df_products['product_name'])\n"
   ]
  },
  {
   "cell_type": "code",
   "execution_count": 16,
   "id": "01efd02e",
   "metadata": {
    "id": "01efd02e",
    "trusted": false
   },
   "outputs": [
    {
     "name": "stdout",
     "output_type": "stream",
     "text": [
      "Número de nombres de productos duplicados (no faltantes): 207\n"
     ]
    }
   ],
   "source": [
    "# Revisa si hay nombres duplicados de productos no faltantes\n",
    "\n",
    "nombres_productos_duplicados_no_faltantes = df_products['product_name'].str.upper().dropna().duplicated(keep=False).sum()\n",
    "print(f'Número de nombres de productos duplicados (no faltantes): {nombres_productos_duplicados_no_faltantes}')"
   ]
  },
  {
   "cell_type": "markdown",
   "id": "9da8d293",
   "metadata": {
    "id": "9da8d293"
   },
   "source": [
    "Describe brevemente tus hallazgos y lo que hiciste con ellos.  No se encontraron filas completamente duplicadas en el dataframe products, lo que indica que cada fila contiene información única, cada producto tiene un identificador único, encontramos duplicados en nombres de productos, con 1465 casos si se ignoran las mayúsculas. Entre los productos no faltantes, hay 207 duplicados. Esto podría deberse a productos similares que difieren solo en pequeños detalles."
   ]
  },
  {
   "cell_type": "markdown",
   "id": "60f30db1",
   "metadata": {
    "id": "60f30db1"
   },
   "source": [
    "### `departments` data frame"
   ]
  },
  {
   "cell_type": "code",
   "execution_count": 17,
   "id": "fb410ad4-0fbf-4b80-bb09-23fdea79afe3",
   "metadata": {
    "id": "fb410ad4-0fbf-4b80-bb09-23fdea79afe3",
    "trusted": false
   },
   "outputs": [
    {
     "name": "stdout",
     "output_type": "stream",
     "text": [
      "Número de filas duplicadas: 0\n"
     ]
    }
   ],
   "source": [
    "# Revisa si hay filas totalmente duplicadas\n",
    "duplicates = df_departments.duplicated().sum()\n",
    "print(f'Número de filas duplicadas: {duplicates}')"
   ]
  },
  {
   "cell_type": "code",
   "execution_count": 18,
   "id": "332b12bb",
   "metadata": {
    "id": "332b12bb",
    "trusted": false
   },
   "outputs": [
    {
     "name": "stdout",
     "output_type": "stream",
     "text": [
      "Número de IDs de productos duplicados: 0\n"
     ]
    }
   ],
   "source": [
    "# Revisa si hay IDs duplicadas de productos\n",
    "id_duplicados = df_departments['department_id'].duplicated().sum()\n",
    "print(f'Número de IDs de productos duplicados: {id_duplicados}')"
   ]
  },
  {
   "cell_type": "markdown",
   "id": "bd30d78e",
   "metadata": {
    "id": "bd30d78e"
   },
   "source": [
    "Describe brevemente tus hallazgos y lo que hiciste con ellos.En este caso no hay ni filas ni IDs de departamento duplicados, indica que cada entrada de departamento en el dataframe es única tanto en su combinación de datos como en su identificador."
   ]
  },
  {
   "cell_type": "markdown",
   "id": "889349c1",
   "metadata": {
    "id": "889349c1"
   },
   "source": [
    "### `aisles` data frame"
   ]
  },
  {
   "cell_type": "code",
   "execution_count": 19,
   "id": "9da89fb9-4679-40f5-ad0d-c34df753a3f8",
   "metadata": {
    "id": "9da89fb9-4679-40f5-ad0d-c34df753a3f8",
    "trusted": false
   },
   "outputs": [
    {
     "name": "stdout",
     "output_type": "stream",
     "text": [
      "Número de filas duplicadas: 0\n"
     ]
    }
   ],
   "source": [
    "# Revisa si hay filas totalmente duplicadas\n",
    "duplicates = df_aisles.duplicated().sum()\n",
    "print(f'Número de filas duplicadas: {duplicates}')"
   ]
  },
  {
   "cell_type": "code",
   "execution_count": 20,
   "id": "da7c2822",
   "metadata": {
    "id": "da7c2822",
    "trusted": false
   },
   "outputs": [
    {
     "name": "stdout",
     "output_type": "stream",
     "text": [
      "Número de IDs de pasillos duplicados: 0\n"
     ]
    }
   ],
   "source": [
    "# Revisa si hay IDs duplicadas de productos\n",
    "id_duplicados = df_aisles['aisle_id'].duplicated().sum()\n",
    "print(f'Número de IDs de pasillos duplicados: {id_duplicados}')"
   ]
  },
  {
   "cell_type": "markdown",
   "id": "ac63826f",
   "metadata": {
    "id": "ac63826f"
   },
   "source": [
    "Describe brevemente tus hallazgos y lo que hiciste con ellos.En este caso no hay ni filas ni IDs de departamento duplicados, indica que cada entrada de departamento en el dataframe es única tanto en su combinación de datos como en su identificador."
   ]
  },
  {
   "cell_type": "markdown",
   "id": "274cd06a",
   "metadata": {
    "id": "274cd06a"
   },
   "source": [
    "### `order_products` data frame"
   ]
  },
  {
   "cell_type": "code",
   "execution_count": 21,
   "id": "52326689-84a8-4b8f-a881-7c68780f62c9",
   "metadata": {
    "id": "52326689-84a8-4b8f-a881-7c68780f62c9",
    "trusted": false
   },
   "outputs": [
    {
     "name": "stdout",
     "output_type": "stream",
     "text": [
      "Número de filas duplicadas: 0\n"
     ]
    }
   ],
   "source": [
    "# Revisa si hay filas totalmente duplicadas\n",
    "duplicates = df_order_products.duplicated().sum()\n",
    "print(f'Número de filas duplicadas: {duplicates}')"
   ]
  },
  {
   "cell_type": "code",
   "execution_count": 22,
   "id": "7b861391",
   "metadata": {
    "id": "7b861391",
    "trusted": false
   },
   "outputs": [
    {
     "name": "stdout",
     "output_type": "stream",
     "text": [
      "Número de IDs de ordenes duplicados: 4094961\n"
     ]
    }
   ],
   "source": [
    "# Vuelve a verificar si hay cualquier otro duplicado engañoso\n",
    "id_duplicados = df_order_products['order_id'].duplicated().sum()\n",
    "print(f'Número de IDs de ordenes duplicados: {id_duplicados}')"
   ]
  },
  {
   "cell_type": "markdown",
   "id": "0b890492",
   "metadata": {
    "id": "0b890492"
   },
   "source": [
    "No hay filas totalmente duplicadas en el DataFrame df_order_products. Esto indica que cada fila en este caso representa un pedido único o al menos contiene algún detalle único en sus datos, pero confirmando con order_id hay 4094961 IDs de ordenes duplicadas porque muchas filas comparten el mismo order_id, hay que tomar en cuenta que una orden puede tener varios productos, se uso el método duplicated() junto con sum() para verificar los duplicados en ambos casos. \n"
   ]
  },
  {
   "cell_type": "markdown",
   "id": "1e46de76",
   "metadata": {
    "id": "1e46de76"
   },
   "source": [
    "## Encuentra y elimina los valores ausentes\n",
    "\n",
    "Al trabajar con valores duplicados, pudimos observar que también nos falta investigar valores ausentes:\n",
    "\n",
    "* La columna `'product_name'` de la tabla products.\n",
    "* La columna `'days_since_prior_order'` de la tabla orders.\n",
    "* La columna `'add_to_cart_order'` de la tabla order_productos."
   ]
  },
  {
   "cell_type": "markdown",
   "id": "c0aebd78",
   "metadata": {
    "id": "c0aebd78"
   },
   "source": [
    "### `products` data frame"
   ]
  },
  {
   "cell_type": "code",
   "execution_count": 23,
   "id": "fe4a8b0f",
   "metadata": {
    "id": "fe4a8b0f",
    "trusted": false
   },
   "outputs": [
    {
     "name": "stdout",
     "output_type": "stream",
     "text": [
      "Número de valores ausentes en \"product_name\": 1258\n"
     ]
    }
   ],
   "source": [
    "# Encuentra los valores ausentes en la columna 'product_name'\n",
    "valores_ausentes_product_name = df_products['product_name'].isna().sum()\n",
    "print(f'Número de valores ausentes en \"product_name\": {valores_ausentes_product_name}')\n"
   ]
  },
  {
   "cell_type": "markdown",
   "id": "-A6x1AbJhjkp",
   "metadata": {
    "id": "-A6x1AbJhjkp"
   },
   "source": [
    "Los resultados indican el número total de valores ausentes en la columna product_name, que es un antecedente para poder realizar limpieza de datos posteriormente."
   ]
  },
  {
   "cell_type": "code",
   "execution_count": 24,
   "id": "e96167bc",
   "metadata": {
    "id": "e96167bc",
    "trusted": false
   },
   "outputs": [
    {
     "name": "stdout",
     "output_type": "stream",
     "text": [
      "¿Todos los productos ausentes están en aisle_id 100? True\n"
     ]
    }
   ],
   "source": [
    "#  ¿Todos los nombres de productos ausentes están relacionados con el pasillo con ID 100?\n",
    "relacion_aisle = df_products[df_products['product_name'].isna()]['aisle_id'] == 100\n",
    "print(f'¿Todos los productos ausentes están en aisle_id 100? {relacion_aisle.all()}')\n"
   ]
  },
  {
   "cell_type": "markdown",
   "id": "WRpIfXRphpSL",
   "metadata": {
    "id": "WRpIfXRphpSL"
   },
   "source": [
    "Todos los valores ausentes en product_name están en el pasillo (aisle_id) 100. Se utilizó .all() para verificar si todos los valores de esta condición son verdaderos o falsos, resulto en True."
   ]
  },
  {
   "cell_type": "code",
   "execution_count": 25,
   "id": "8fd0a541",
   "metadata": {
    "id": "8fd0a541",
    "trusted": false
   },
   "outputs": [
    {
     "name": "stdout",
     "output_type": "stream",
     "text": [
      "¿Todos los productos ausentes están en department_id 21? True\n"
     ]
    }
   ],
   "source": [
    "# ¿Todos los nombres de productos ausentes están relacionados con el departamento con ID 21?\n",
    "relacion_department = df_products[df_products['product_name'].isna()]['department_id'] == 21\n",
    "print(f'¿Todos los productos ausentes están en department_id 21? {relacion_department.all()}')"
   ]
  },
  {
   "cell_type": "markdown",
   "id": "qDpdYn1Fht_I",
   "metadata": {
    "id": "qDpdYn1Fht_I"
   },
   "source": [
    "Todos los valores ausentes en product_name están en el departamento(department_id) 21. Se utilizó .all() para verificar si todos los valores de esta condición son verdaderos o falsos, resulto en True."
   ]
  },
  {
   "cell_type": "code",
   "execution_count": 26,
   "id": "325c3464",
   "metadata": {
    "id": "325c3464",
    "scrolled": true,
    "trusted": false
   },
   "outputs": [
    {
     "name": "stdout",
     "output_type": "stream",
     "text": [
      "Información del pasillo con ID 100:\n",
      "     aisle_id    aisle\n",
      "99       100  missing\n",
      "Información del departamento con ID 21:\n",
      "     department_id department\n",
      "20             21    missing\n"
     ]
    }
   ],
   "source": [
    "# Usa las tablas department y aisle para revisar los datos del pasillo con ID 100 y el departamento con ID 21.\n",
    "\n",
    "aisle_info = df_aisles[df_aisles['aisle_id'] == 100]\n",
    "department_info = df_departments[df_departments['department_id'] == 21]\n",
    "print(\"Información del pasillo con ID 100:\\n\", aisle_info)\n",
    "print(\"Información del departamento con ID 21:\\n\", department_info)"
   ]
  },
  {
   "cell_type": "markdown",
   "id": "nqhSTUPhhvEJ",
   "metadata": {
    "id": "nqhSTUPhhvEJ"
   },
   "source": [
    "Con esta información, entendemos mejor el contexto de los productos relacionados con estos IDs,puede ser útil para explicar por qué algunos productos pueden no tener nombre."
   ]
  },
  {
   "cell_type": "code",
   "execution_count": 27,
   "id": "6b295120",
   "metadata": {
    "id": "6b295120",
    "trusted": false
   },
   "outputs": [
    {
     "name": "stdout",
     "output_type": "stream",
     "text": [
      "     product_id product_name  aisle_id  department_id\n",
      "37           38      Unknown       100             21\n",
      "71           72      Unknown       100             21\n",
      "109         110      Unknown       100             21\n",
      "296         297      Unknown       100             21\n",
      "416         417      Unknown       100             21\n"
     ]
    }
   ],
   "source": [
    "# Completa los nombres de productos ausentes con 'Unknown'\n",
    "df_products['product_name'].fillna('Unknown', inplace=True)\n",
    "\n",
    "#Para verificar si se completaron los datos con 'Unknown'\n",
    "unknown_products = df_products[df_products['product_name'] == 'Unknown']\n",
    "\n",
    "# Muestra las primeras 5 filas\n",
    "print(unknown_products.head())"
   ]
  },
  {
   "cell_type": "markdown",
   "id": "fc70e5ad",
   "metadata": {
    "id": "fc70e5ad"
   },
   "source": [
    "Se identificó y completó los valores ausentes en product_name, hubo relación con aisle_id 100 y department_id 21. Llené los valores ausentes con \"Unknown\" para asegurar que el DataFrame esté limpio y consistente, también verifique alfunas columnas con head(). "
   ]
  },
  {
   "cell_type": "markdown",
   "id": "7eb45c86",
   "metadata": {
    "id": "7eb45c86"
   },
   "source": [
    "### `orders` data frame"
   ]
  },
  {
   "cell_type": "code",
   "execution_count": 28,
   "id": "93e41d96",
   "metadata": {
    "id": "93e41d96",
    "trusted": false
   },
   "outputs": [
    {
     "name": "stdout",
     "output_type": "stream",
     "text": [
      "Número de valores ausentes en \"orders\":\n",
      "order_id                      0\n",
      "user_id                       0\n",
      "order_number                  0\n",
      "order_dow                     0\n",
      "order_hour_of_day             0\n",
      "days_since_prior_order    28817\n",
      "dtype: int64\n"
     ]
    }
   ],
   "source": [
    "# Encuentra los valores ausentes\n",
    "valores_ausentes_orders = df_instacart.isna().sum()\n",
    "print(f'Número de valores ausentes en \"orders\":\\n{valores_ausentes_orders}')"
   ]
  },
  {
   "cell_type": "code",
   "execution_count": 29,
   "id": "166e5a86",
   "metadata": {
    "id": "166e5a86",
    "trusted": false
   },
   "outputs": [
    {
     "name": "stdout",
     "output_type": "stream",
     "text": [
      "¿Todos los valores ausentes corresponden al primer pedido? True\n"
     ]
    }
   ],
   "source": [
    "# ¿Hay algún valor ausente que no sea el primer pedido del cliente?\n",
    "\n",
    "# Filtrar las filas donde 'days_since_prior_order' es nulo\n",
    "missing_days_orders = df_instacart[df_instacart['days_since_prior_order'].isna()]\n",
    "\n",
    "# Verificar si todos los valores ausentes corresponden al primer pedido\n",
    "is_first_order_missing = (missing_days_orders['order_number'] == 1).all()\n",
    "print(\"¿Todos los valores ausentes corresponden al primer pedido?\", is_first_order_missing)\n",
    "\n"
   ]
  },
  {
   "cell_type": "markdown",
   "id": "4e23d089",
   "metadata": {
    "id": "4e23d089"
   },
   "source": [
    "Todos los valores asusentes corresponden al primer pedido, days_since_prior_order corresponden efectivamente al primer pedido de cada cliente, por lo cual tiene sentido que no tengan un valor en esta columna."
   ]
  },
  {
   "cell_type": "markdown",
   "id": "69dc9ca4",
   "metadata": {
    "id": "69dc9ca4"
   },
   "source": [
    "### `order_products` data frame"
   ]
  },
  {
   "cell_type": "code",
   "execution_count": 30,
   "id": "b8240253",
   "metadata": {
    "id": "b8240253",
    "trusted": false
   },
   "outputs": [
    {
     "name": "stdout",
     "output_type": "stream",
     "text": [
      "Número de valores ausentes : order_id               0\n",
      "product_id             0\n",
      "add_to_cart_order    836\n",
      "reordered              0\n",
      "dtype: int64\n"
     ]
    }
   ],
   "source": [
    "# Encuentra los valores ausentes\n",
    "valores_ausentes_product_name = df_order_products.isna().sum()\n",
    "print(f'Número de valores ausentes : {valores_ausentes_product_name}')"
   ]
  },
  {
   "cell_type": "code",
   "execution_count": 31,
   "id": "9a78e5ee",
   "metadata": {
    "id": "9a78e5ee",
    "trusted": false
   },
   "outputs": [
    {
     "name": "stdout",
     "output_type": "stream",
     "text": [
      "Valor mínimo en 'add_to_cart_order': 1.0, Valor máximo en 'add_to_cart_order': 64.0\n"
     ]
    }
   ],
   "source": [
    "# ¿Cuáles son los valores mínimos y máximos en esta columna?\n",
    "print(f\"Valor mínimo en 'add_to_cart_order': {df_order_products['add_to_cart_order'].min()}, Valor máximo en 'add_to_cart_order': {df_order_products['add_to_cart_order'].max()}\")\n",
    "\n"
   ]
  },
  {
   "cell_type": "markdown",
   "id": "-Z2Ja215jW78",
   "metadata": {
    "id": "-Z2Ja215jW78"
   },
   "source": [
    "Describe brevemente cuáles son tus hallazgos. \n",
    "El valor mínimo es 1,algunos productos fueron los primeros en ser añadidos al carrito, y el máximo es 64, indicando que el mayor número de productos en un solo pedido es 64. Esto es importante porque nos dice hasta qué cantidad puede llegar la columna add_to_cart_order.\n"
   ]
  },
  {
   "cell_type": "code",
   "execution_count": 32,
   "id": "ab9d0c2b",
   "metadata": {
    "id": "ab9d0c2b",
    "trusted": false
   },
   "outputs": [],
   "source": [
    "# Guarda todas las IDs de pedidos que tengan un valor ausente en 'add_to_cart_order'\n",
    "\n",
    "# Obtiene todas las IDs de pedidos con valores ausentes en 'add_to_cart_order'\n",
    "order_ids_valores_ausentes = df_order_products[df_order_products['add_to_cart_order'].isna()]['order_id'].unique()\n",
    "\n"
   ]
  },
  {
   "cell_type": "code",
   "execution_count": 33,
   "id": "54c31695",
   "metadata": {
    "id": "54c31695",
    "trusted": false
   },
   "outputs": [
    {
     "name": "stdout",
     "output_type": "stream",
     "text": [
      "¿Todos los pedidos con valores ausentes tienen más de 64 productos? Sí\n",
      "order_id               int64\n",
      "product_id             int64\n",
      "add_to_cart_order    float64\n",
      "reordered              int64\n",
      "dtype: object\n"
     ]
    }
   ],
   "source": [
    "# ¿Todos los pedidos con valores ausentes tienen más de 64 productos?\n",
    "# Agrupa todos los pedidos con datos ausentes por su ID de pedido.\n",
    "# Cuenta el número de 'product_id' en cada pedido y revisa el valor mínimo del conteo.\n",
    "\n",
    "\n",
    "# Agrupar los pedidos con datos ausentes y cuenta el número de productos en cada pedido\n",
    "productos_por_pedido = df_order_products[df_order_products['order_id'].isin(order_ids_valores_ausentes)].groupby('order_id')['product_id'].count()\n",
    "\n",
    "# Obtiene el valor mínimo en el conteo de productos por pedido\n",
    "min_producto_conteo = productos_por_pedido.min()\n",
    "print(f\"¿Todos los pedidos con valores ausentes tienen más de 64 productos? {'Sí' if min_producto_conteo > 64 else 'No'}\")\n",
    "#Verifico que los IDs sean int.\n",
    "print(df_order_products.dtypes)"
   ]
  },
  {
   "cell_type": "markdown",
   "id": "p9V6pddtjglj",
   "metadata": {
    "id": "p9V6pddtjglj"
   },
   "source": [
    "Describe brevemente cuáles son tus hallazgos. Este código mostrará si todos los pedidos con valores ausentes en add_to_cart_order contienen más de 64 productos.\n",
    "1. Filtrar pedidos con valores ausentes: Extraemos solo las filas donde add_to_cart_order es nulo.\n",
    "2. Agrupar y contar: Agrupamos estos pedidos por order_id y contamos la cantidad de product_id en cada grupo.\n",
    "3. Mínimo conteo: Obtenemos el mínimo número de productos en estos pedidos para ver si cumple la condición de tener más de 64 productos.\n",
    "4. Verificación: Confirmamos si todos los pedidos con valores ausentes tienen más de 64 productos."
   ]
  },
  {
   "cell_type": "code",
   "execution_count": 34,
   "id": "7a987d08",
   "metadata": {
    "id": "7a987d08",
    "trusted": false
   },
   "outputs": [
    {
     "name": "stdout",
     "output_type": "stream",
     "text": [
      "    order_id  add_to_cart_order\n",
      "0    2141543                 17\n",
      "1     567889                  1\n",
      "2    2261212                  1\n",
      "3     491251                 35\n",
      "4    2571142                  5\n",
      "5    2456893                  4\n",
      "6     644579                  5\n",
      "7    2231852                 10\n",
      "8    3185766                 14\n",
      "9     420019                  4\n",
      "10    925051                  2\n",
      "11     44064                 28\n",
      "12    522547                 10\n",
      "13   2475670                  3\n",
      "14   1961225                  1\n",
      "15   2397389                 16\n",
      "16    639939                  1\n",
      "17   1721072                  8\n",
      "18     89640                  7\n",
      "19   2500729                  5\n",
      "¿Hay valores 999 en 'add_to_cart_order'? True\n"
     ]
    }
   ],
   "source": [
    "# Remplaza los valores ausentes en la columna 'add_to_cart? con 999 y convierte la columna al tipo entero.\n",
    "\n",
    "# Reemplaza los valores NaN por 999 y convierte la columna a tipo entero\n",
    "df_order_products['add_to_cart_order'] = df_order_products['add_to_cart_order'].fillna(999).astype(int)\n",
    "\n",
    "# Verifica los primeros 20 registros\n",
    "print(df_order_products[['order_id', 'add_to_cart_order']].head(20))\n",
    "\n",
    "# Verifica si hay algún valor 999 en la columna 'add_to_cart_order'\n",
    "print(f\"¿Hay valores 999 en 'add_to_cart_order'? {df_order_products['add_to_cart_order'].eq(999).any()}\")\n",
    " "
   ]
  },
  {
   "cell_type": "markdown",
   "id": "fea4bcc7",
   "metadata": {
    "id": "fea4bcc7"
   },
   "source": [
    "Describe brevemente tus hallazgos y lo que hiciste con ellos. Rellenar los valores NaN de la columna add_to_cart_order con 999.Convertir la columna a tipo entero.Imprimir las primeras 20 filas para verificar.También imprime si efectivamente hay algún valor 999 en la columna add_to_cart_order."
   ]
  },
  {
   "cell_type": "markdown",
   "id": "RnplPFY1gSrb",
   "metadata": {
    "id": "RnplPFY1gSrb"
   },
   "source": [
    "## Conclusiones\n",
    "\n",
    "Escribe aquí tus conclusiones intermedias sobre el Paso 2. Preprocesamiento de los datos\n",
    "\n",
    "Se verificó los tipos de datos  Tipos de Datos, confirmando que los IDs sean númericos. Se validó los valores ausentes se identificó los valores faltantes, detectecatdolos con el método isna(), se uso fillna() en algunos de ellos para reemplazar los valores asusentes por nuevos valores. Se identificó y eliminó los valores duplicados y se contó los  duplicados con df.duplicated().sum(). Los clientes realizan más ordenes los miercóles a las 2 am y confirmamos  que todos los pedidos con valores ausentes tienen más de 64 productos.\n"
   ]
  },
  {
   "cell_type": "markdown",
   "id": "UjrOIwTcz3ri",
   "metadata": {
    "id": "UjrOIwTcz3ri"
   },
   "source": [
    "# Paso 3. Análisis de los datos\n",
    "\n",
    "Una vez los datos estén procesados y listos, haz el siguiente análisis:"
   ]
  },
  {
   "cell_type": "markdown",
   "id": "turkish-kidney",
   "metadata": {
    "id": "turkish-kidney"
   },
   "source": [
    "# [A] Fácil (deben completarse todos para aprobar)\n",
    "\n",
    "1. Verifica que los valores en las columnas `'order_hour_of_day'` y `'order_dow'` en la tabla orders sean razonables (es decir, `'order_hour_of_day'` oscile entre 0 y 23 y `'order_dow'` oscile entre 0 y 6).\n",
    "2. Crea un gráfico que muestre el número de personas que hacen pedidos dependiendo de la hora del día.\n",
    "3. Crea un gráfico que muestre qué día de la semana la gente hace sus compras.\n",
    "4. Crea un gráfico que muestre el tiempo que la gente espera hasta hacer su siguiente pedido, y comenta sobre los valores mínimos y máximos."
   ]
  },
  {
   "cell_type": "markdown",
   "id": "short-capability",
   "metadata": {
    "id": "short-capability"
   },
   "source": [
    "### [A1] Verifica que los valores sean sensibles"
   ]
  },
  {
   "cell_type": "code",
   "execution_count": 35,
   "id": "growing-fruit",
   "metadata": {
    "id": "growing-fruit",
    "trusted": false
   },
   "outputs": [],
   "source": [
    "# Verifica si los valores de 'order_hour_of_day' están fuera del rango 0-23\n",
    "valores_invalidos_hora = df_instacart[(df_instacart['order_hour_of_day'] < 0) | (df_instacart['order_hour_of_day'] > 23)].shape[0]\n",
    "\n",
    "# Verifica si los valores de 'order_dow' están fuera del rango 0-6\n",
    "valores_invalidos_dia = df_instacart[(df_instacart['order_dow'] < 0) | (df_instacart['order_dow'] > 6)].shape[0]"
   ]
  },
  {
   "cell_type": "code",
   "execution_count": 36,
   "id": "accessory-malaysia",
   "metadata": {
    "id": "accessory-malaysia",
    "trusted": false
   },
   "outputs": [
    {
     "name": "stdout",
     "output_type": "stream",
     "text": [
      "Número de valores fuera del rango en \"order_hour_of_day\": 0\n",
      "Número de valores fuera del rango en \"order_dow\": 0\n"
     ]
    }
   ],
   "source": [
    "print(f'Número de valores fuera del rango en \"order_hour_of_day\": {valores_invalidos_hora}')\n",
    "print(f'Número de valores fuera del rango en \"order_dow\": {valores_invalidos_dia}')"
   ]
  },
  {
   "cell_type": "markdown",
   "id": "hmR2GNQ6lCsX",
   "metadata": {
    "id": "hmR2GNQ6lCsX"
   },
   "source": [
    "En cuanto a rango de días y horas hubo los hallazgos siguientes:\n",
    "-Horas: No hay valores fuera del rango de 0 a 23 para order_hour_of_day, indica que las horas de pedido son razonables y están correctamente registradas.\n",
    "-Días: No hay valores fuera del rango de 0 a 6 para order_dow, indica que los días de la semana también están en el rango correcto.\n",
    "Por ende, no es necesario hacer correcciones en estas columnas, los datos son válidos y están dentro de los límites razonables."
   ]
  },
  {
   "cell_type": "markdown",
   "id": "a6743a70",
   "metadata": {
    "id": "a6743a70"
   },
   "source": [
    "### [A2] Para cada hora del día, ¿cuántas personas hacen órdenes?"
   ]
  },
  {
   "cell_type": "code",
   "execution_count": 37,
   "id": "a36cca27",
   "metadata": {
    "id": "a36cca27",
    "trusted": false
   },
   "outputs": [
    {
     "data": {
      "image/png": "[encoded data removed]",
      "text/plain": [
       "<Figure size 1000x600 with 1 Axes>"
      ]
     },
     "metadata": {},
     "output_type": "display_data"
    }
   ],
   "source": [
    "# Agrupar por 'order_hour_of_day' y contar el número de 'user_id' únicos para cada hora\n",
    "personas_por_hora = df_instacart.groupby('order_hour_of_day')['user_id'].nunique().reset_index()\n",
    "\n",
    "\n",
    "# Creamos el gráfico de barras\n",
    "plt.figure(figsize=(10, 6))\n",
    "plt.bar(personas_por_hora['order_hour_of_day'], personas_por_hora['user_id'])\n",
    "\n",
    "# Añadimos título y etiquetas\n",
    "plt.title('Número de personas que hacen pedidos por hora del día')\n",
    "plt.xlabel('Hora del día')\n",
    "plt.ylabel('Número de personas')\n",
    "\n",
    "# Mostrar todas las horas en el eje X\n",
    "plt.xticks(range(24))\n",
    "\n",
    "\n",
    "# Mostramos el gráfico\n",
    "plt.show()\n"
   ]
  },
  {
   "cell_type": "markdown",
   "id": "11270eed",
   "metadata": {
    "id": "11270eed"
   },
   "source": [
    "El gráfico muestra que la mayoría de las personas realizan pedidos entre las 10:00 AM y las 8:00 PM, con un pico notable alrededor de las 12:00 PM (hora de almuerzo) y otro después del horario laboral, entre las 6:00 PM y las 8:00 PM. Esto sugiere que la mayor parte de las compras se realizan durante las horas de descanso y por la tarde, probablemente cuando las personas tienen más tiempo libre para realizar compras en línea. Las horas de la madrugada y la noche (de 12:00 AM a 6:00 AM) tienen una baja cantidad de personas haciendo pedidos."
   ]
  },
  {
   "cell_type": "markdown",
   "id": "documented-command",
   "metadata": {
    "id": "documented-command"
   },
   "source": [
    "### [A3] ¿Qué día de la semana compran víveres las personas?"
   ]
  },
  {
   "cell_type": "code",
   "execution_count": 38,
   "id": "chief-digit",
   "metadata": {
    "id": "chief-digit",
    "trusted": false
   },
   "outputs": [
    {
     "data": {
      "image/png": "[encoded data removed]",
      "text/plain": [
       "<Figure size 1000x600 with 1 Axes>"
      ]
     },
     "metadata": {},
     "output_type": "display_data"
    },
    {
     "data": {
      "text/html": [
       "<div>\n",
       "<style scoped>\n",
       "    .dataframe tbody tr th:only-of-type {\n",
       "        vertical-align: middle;\n",
       "    }\n",
       "\n",
       "    .dataframe tbody tr th {\n",
       "        vertical-align: top;\n",
       "    }\n",
       "\n",
       "    .dataframe thead th {\n",
       "        text-align: right;\n",
       "    }\n",
       "</style>\n",
       "<table border=\"1\" class=\"dataframe\">\n",
       "  <thead>\n",
       "    <tr style=\"text-align: right;\">\n",
       "      <th></th>\n",
       "      <th>Día</th>\n",
       "      <th>Día (Número)</th>\n",
       "      <th>Número de Personas</th>\n",
       "    </tr>\n",
       "  </thead>\n",
       "  <tbody>\n",
       "    <tr>\n",
       "      <th>0</th>\n",
       "      <td>Domingo</td>\n",
       "      <td>0</td>\n",
       "      <td>57661</td>\n",
       "    </tr>\n",
       "    <tr>\n",
       "      <th>1</th>\n",
       "      <td>Lunes</td>\n",
       "      <td>1</td>\n",
       "      <td>56479</td>\n",
       "    </tr>\n",
       "    <tr>\n",
       "      <th>2</th>\n",
       "      <td>Martes</td>\n",
       "      <td>2</td>\n",
       "      <td>48587</td>\n",
       "    </tr>\n",
       "    <tr>\n",
       "      <th>3</th>\n",
       "      <td>Miércoles</td>\n",
       "      <td>3</td>\n",
       "      <td>45331</td>\n",
       "    </tr>\n",
       "    <tr>\n",
       "      <th>4</th>\n",
       "      <td>Jueves</td>\n",
       "      <td>4</td>\n",
       "      <td>44281</td>\n",
       "    </tr>\n",
       "    <tr>\n",
       "      <th>5</th>\n",
       "      <td>Viernes</td>\n",
       "      <td>5</td>\n",
       "      <td>46127</td>\n",
       "    </tr>\n",
       "    <tr>\n",
       "      <th>6</th>\n",
       "      <td>Sábado</td>\n",
       "      <td>6</td>\n",
       "      <td>45604</td>\n",
       "    </tr>\n",
       "  </tbody>\n",
       "</table>\n",
       "</div>"
      ],
      "text/plain": [
       "         Día  Día (Número)  Número de Personas\n",
       "0    Domingo             0               57661\n",
       "1      Lunes             1               56479\n",
       "2     Martes             2               48587\n",
       "3  Miércoles             3               45331\n",
       "4     Jueves             4               44281\n",
       "5    Viernes             5               46127\n",
       "6     Sábado             6               45604"
      ]
     },
     "execution_count": 38,
     "metadata": {},
     "output_type": "execute_result"
    }
   ],
   "source": [
    "# Lista de nombres de días de la semana (0 = Domingo, 6 = Sábado)\n",
    "dias_semana = [\"Domingo\", \"Lunes\", \"Martes\", \"Miércoles\", \"Jueves\", \"Viernes\", \"Sábado\"]\n",
    "\n",
    "# Agrupamos por 'order_dow' y contamos los 'user_id' únicos para cada día de la semana\n",
    "personas_por_dia = df_instacart.groupby('order_dow')['user_id'].nunique().reset_index()\n",
    "\n",
    "# Creamos el gráfico de barras\n",
    "plt.figure(figsize=(10, 6))\n",
    "plt.bar(personas_por_dia['order_dow'], personas_por_dia['user_id'], color=\"navy\")\n",
    "\n",
    "# Añadimos título y etiquetas\n",
    "plt.title('Número de personas que hacen pedidos por día de la semana')\n",
    "plt.xlabel('Día de la semana')\n",
    "plt.ylabel('Número de personas')\n",
    "\n",
    "# Cambiar los valores del eje X a los nombres de los días\n",
    "plt.xticks(ticks=range(7), labels=dias_semana)\n",
    "\n",
    "# Mostramos el gráfico\n",
    "plt.show()\n",
    "\n",
    "personas_por_dia.assign(Día=lambda x: [dias_semana[i] for i in x['order_dow']]).rename(columns={'order_dow': 'Día (Número)', 'user_id': 'Número de Personas'}).loc[:, ['Día', 'Día (Número)', 'Número de Personas']]\n",
    "\n",
    "\n"
   ]
  },
  {
   "cell_type": "markdown",
   "id": "dominant-lightning",
   "metadata": {
    "id": "dominant-lightning"
   },
   "source": [
    "El día que las personas realizan más pedidos es el domingo con 57661 ordenes, seguido por el día lunes con 56479 y el día con menos pedidos es el sábado con 45604 pedidos, se puede constatar esta información en el gráfico como en la tabla de valores. "
   ]
  },
  {
   "cell_type": "markdown",
   "id": "cutting-concert",
   "metadata": {
    "id": "cutting-concert"
   },
   "source": [
    "### [A4] ¿Cuánto tiempo esperan las personas hasta hacer otro pedido? Comenta sobre los valores mínimos y máximos."
   ]
  },
  {
   "cell_type": "code",
   "execution_count": 39,
   "id": "c231f523",
   "metadata": {
    "id": "c231f523",
    "trusted": false
   },
   "outputs": [
    {
     "data": {
      "image/png": "[encoded data removed]",
      "text/plain": [
       "<Figure size 1000x600 with 1 Axes>"
      ]
     },
     "metadata": {},
     "output_type": "display_data"
    }
   ],
   "source": [
    "# Crear el histograma del tiempo de espera entre pedidos\n",
    "plt.figure(figsize=(10, 6))\n",
    "plt.hist(df_instacart['days_since_prior_order'].dropna(), bins=30, color='skyblue', edgecolor='black')\n",
    "plt.title('Tiempo de espera hasta el siguiente pedido')\n",
    "plt.xlabel('Días desde el pedido anterior')\n",
    "plt.ylabel('Número de personas')\n",
    "plt.show()\n"
   ]
  },
  {
   "cell_type": "markdown",
   "id": "discrete-vertex",
   "metadata": {
    "id": "discrete-vertex"
   },
   "source": [
    "Según los resultados las personas pueden tardar hasta 30 días en realizar su próximo pedido ya que es la barra más alta, pero lo que se repite con mayor frecuencia es que las personas esperan para realizar su próximo pedido de 6 a 8 días.Mínimo para realizar el próximo pedido corre desde el día 0 y máximo esperan hasta 30 días. "
   ]
  },
  {
   "cell_type": "markdown",
   "id": "tight-staff",
   "metadata": {
    "id": "tight-staff"
   },
   "source": [
    "# [B] Intermedio (deben completarse todos para aprobar)\n",
    "\n",
    "1. ¿Existe alguna diferencia entre las distribuciones `'order_hour_of_day'` de los miércoles y los sábados? Traza gráficos de barra de `'order_hour_of_day'` para ambos días en la misma figura y describe las diferencias que observes.\n",
    "2. Grafica la distribución para el número de órdenes que hacen los clientes (es decir, cuántos clientes hicieron solo 1 pedido, cuántos hicieron 2, cuántos 3, y así sucesivamente...).\n",
    "3. ¿Cuáles son los 20 principales productos que se piden con más frecuencia (muestra su identificación y nombre)?"
   ]
  },
  {
   "cell_type": "markdown",
   "id": "packed-classic",
   "metadata": {
    "id": "packed-classic"
   },
   "source": [
    "### [B1] Diferencia entre miércoles y sábados para  `'order_hour_of_day'`. Traza gráficos de barra para los dos días y describe las diferencias que veas."
   ]
  },
  {
   "cell_type": "code",
   "execution_count": 40,
   "id": "d89b8403",
   "metadata": {
    "id": "d89b8403",
    "trusted": false
   },
   "outputs": [],
   "source": [
    "# Filtrar los datos de miércoles.\n",
    "wednesday_data = df_instacart[df_instacart['order_dow'] == 3]['order_hour_of_day'].value_counts().sort_index()\n"
   ]
  },
  {
   "cell_type": "code",
   "execution_count": 41,
   "id": "94e54e8a",
   "metadata": {
    "id": "94e54e8a",
    "trusted": false
   },
   "outputs": [],
   "source": [
    "# Filtrar los datos de sábado.\n",
    "saturday_data = df_instacart[df_instacart['order_dow'] == 6]['order_hour_of_day'].value_counts().sort_index()"
   ]
  },
  {
   "cell_type": "code",
   "execution_count": 42,
   "id": "797c90a8",
   "metadata": {
    "id": "797c90a8",
    "trusted": false
   },
   "outputs": [
    {
     "data": {
      "image/png": "[encoded data removed]",
      "text/plain": [
       "<Figure size 640x480 with 1 Axes>"
      ]
     },
     "metadata": {},
     "output_type": "display_data"
    }
   ],
   "source": [
    "# Crear gráfico\n",
    "plt.bar(wednesday_data.index - 0.2, wednesday_data.values, width=0.4, label='Miércoles', color='skyblue')\n",
    "plt.bar(saturday_data.index + 0.2, saturday_data.values, width=0.4, label='Sábado', color='salmon')\n",
    "plt.xlabel('Hora del día')\n",
    "plt.ylabel('Número de pedidos')\n",
    "plt.title('Distribución de pedidos por hora del día entre Miércoles y Sábado')\n",
    "plt.legend()\n",
    "plt.show()\n"
   ]
  },
  {
   "cell_type": "markdown",
   "id": "340ee21e",
   "metadata": {},
   "source": [
    "<div class=\"alert alert-block alert-success\">\n",
    "<b>Comentario del revisor</b> <a class=\"tocSkip\"></a>\n",
    "\n",
    "Está muy bien la comparación de ambos días en general. De nuevo, la visualización es muy clara.\n",
    "</div>\n"
   ]
  },
  {
   "cell_type": "markdown",
   "id": "charitable-congo",
   "metadata": {
    "id": "charitable-congo"
   },
   "source": [
    "En el gráfico se puede concluir que ambos días presentan más pedidos entre las 10:00 y las 16:00. El miércoles muestra un pico de pedidos entre las 9:00 y las 11:00, así como otro pico entre las 16:00 y las 17:00. Por otro lado, el sábado registra la mayor cantidad de pedidos entre las 10:00 y las 14:00."
   ]
  },
  {
   "cell_type": "markdown",
   "id": "e3891143",
   "metadata": {
    "id": "e3891143"
   },
   "source": [
    "### [B2] ¿Cuál es la distribución para el número de pedidos por cliente?"
   ]
  },
  {
   "cell_type": "code",
   "execution_count": 43,
   "id": "d8c26c23",
   "metadata": {
    "id": "d8c26c23",
    "trusted": false
   },
   "outputs": [
    {
     "data": {
      "image/png": "[encoded data removed]",
      "text/plain": [
       "<Figure size 1000x600 with 1 Axes>"
      ]
     },
     "metadata": {},
     "output_type": "display_data"
    }
   ],
   "source": [
    "# Contamos el número de pedidos por cliente (usando 'user_id' y 'order_number')\n",
    "pedidos_por_cliente = df_instacart.groupby('user_id')['order_number'].max()\n",
    "\n",
    "# Graficamos la distribución de pedidos por cliente\n",
    "plt.figure(figsize=(10, 6))\n",
    "plt.hist(pedidos_por_cliente, bins=range(1, pedidos_por_cliente.max() + 1), edgecolor='black', alpha=0.7)\n",
    "plt.xlabel('Número de Pedidos por Cliente')\n",
    "plt.ylabel('Frecuencia')\n",
    "plt.title('Distribución del Número de Pedidos por Cliente')\n",
    "plt.grid(True, axis='y', linestyle='--', alpha=0.7)\n",
    "plt.show()\n"
   ]
  },
  {
   "cell_type": "code",
   "execution_count": 44,
   "id": "00e69a66",
   "metadata": {
    "id": "00e69a66",
    "trusted": false
   },
   "outputs": [
    {
     "name": "stdout",
     "output_type": "stream",
     "text": [
      "count    157437.000000\n",
      "mean         15.577571\n",
      "std          17.215517\n",
      "min           1.000000\n",
      "25%           4.000000\n",
      "50%           9.000000\n",
      "75%          20.000000\n",
      "max         100.000000\n",
      "Name: order_number, dtype: float64\n"
     ]
    }
   ],
   "source": [
    "# Estadísticas descriptivas\n",
    "print(pedidos_por_cliente.describe())"
   ]
  },
  {
   "cell_type": "markdown",
   "id": "d2eff7d5",
   "metadata": {
    "id": "d2eff7d5"
   },
   "source": [
    "La mayoría de los clientes realizan entre 1 y 10 pedidos, según la visualización. El promedio de pedidos realizados por los clientes es de 15."
   ]
  },
  {
   "cell_type": "markdown",
   "id": "54a0319c",
   "metadata": {
    "id": "54a0319c"
   },
   "source": [
    "### [B3] ¿Cuáles son los 20 productos más populares (muestra su ID y nombre)?"
   ]
  },
  {
   "cell_type": "code",
   "execution_count": 45,
   "id": "exterior-arizona",
   "metadata": {
    "id": "exterior-arizona",
    "scrolled": true,
    "trusted": false
   },
   "outputs": [],
   "source": [
    "productos_populares = df_products.groupby('product_id').size().reset_index(name='count')\n",
    "\n",
    "# Ordenamos por la cantidad de pedidos en orden descendente\n",
    "productos_populares = productos_populares.sort_values(by='count', ascending=False)\n"
   ]
  },
  {
   "cell_type": "code",
   "execution_count": 46,
   "id": "universal-facial",
   "metadata": {
    "id": "universal-facial",
    "trusted": false
   },
   "outputs": [],
   "source": [
    "# Obtenemos los 20 productos más populares\n",
    "top_20_productos = productos_populares.head(20)\n",
    "\n",
    "# Unimos con el archivo de productos para obtener los nombres de los productos\n",
    "top_20_productos = top_20_productos.merge(df_products[['product_id', 'product_name']], on='product_id')"
   ]
  },
  {
   "cell_type": "code",
   "execution_count": 47,
   "id": "bbcdd20b",
   "metadata": {
    "id": "bbcdd20b",
    "trusted": false
   },
   "outputs": [
    {
     "name": "stdout",
     "output_type": "stream",
     "text": [
      "    product_id                                      product_name  count\n",
      "0            1                        Chocolate Sandwich Cookies      1\n",
      "1        33146                              Revolt Killer Citrus      1\n",
      "2        33124  Healthy Kids Organic Chocolate Nutritional Shake      1\n",
      "3        33125              Organic Mini Cheddar Cheese Crackers      1\n",
      "4        33126                                  Sesame Flatbread      1\n",
      "5        33127                        No Salt Roasted Pistachios      1\n",
      "6        33128                         Riccardo Balsamic Vinegar      1\n",
      "7        33129                                    Classic Hummus      1\n",
      "8        33130      Organic Salt Free Cabbage Dill Raw Sauerkrat      1\n",
      "9        33131                        Hair Remover Wax Strip Kit      1\n",
      "10       33132                               Mild Red Taco Sauce      1\n",
      "11       33133          Rising Crust Spicy Italian Sausage Pizza      1\n",
      "12       33134                      Orange Recovery Energy Drink      1\n",
      "13       33135                           Organic Blueberry Kefir      1\n",
      "14       33136                       Tissue with Lotion Aloe & E      1\n",
      "15       33137                         Mexican Style Chili Beans      1\n",
      "16       33138              Classic Chopped Grill Feast Cat Food      1\n",
      "17       33139                   Vegetarian Worcestershire Sauce      1\n",
      "18       33140              Cruisers Diapers Jumbo Pack - Size 6      1\n",
      "19       33141                                    Stir Fry Sauce      1\n"
     ]
    }
   ],
   "source": [
    "# Mostramos los resultados\n",
    "print(top_20_productos[['product_id', 'product_name', 'count']])"
   ]
  },
  {
   "cell_type": "markdown",
   "id": "acead096",
   "metadata": {},
   "source": [
    "<div class=\"alert alert-block alert-warning\">\n",
    "<b>Comentario del revisor</b> <a class=\"tocSkip\"></a>\n",
    "\n",
    "Ten cuidado con el count, si son los top20, el count debería ser mucho mayor a 1.\n",
    "</div>\n"
   ]
  },
  {
   "cell_type": "markdown",
   "id": "7df00f47",
   "metadata": {
    "id": "7df00f47"
   },
   "source": [
    "Utilice el método sort para ordenar los valores el producto estrella es el Chocolate Sandwich Cookies y el que se vende menos es Stir Fry Sauce."
   ]
  },
  {
   "cell_type": "markdown",
   "id": "gross-theme",
   "metadata": {
    "id": "gross-theme"
   },
   "source": [
    "# [C] Difícil (deben completarse todos para aprobar)\n",
    "\n",
    "1. ¿Cuántos artículos suelen comprar las personas en un pedido? ¿Cómo es la distribución?\n",
    "2. ¿Cuáles son los 20 principales artículos que vuelven a pedirse con mayor frecuencia (muestra sus nombres e IDs de los productos)?\n",
    "3. Para cada producto, ¿cuál es la tasa de repetición del pedido (número de repeticiones de pedido/total de pedidos?\n",
    "4. Para cada cliente, ¿qué proporción de los productos que pidió ya los había pedido? Calcula la tasa de repetición de pedido para cada usuario en lugar de para cada producto.\n",
    "5. ¿Cuáles son los 20 principales artículos que la gente pone primero en sus carritos (muestra las IDs de los productos, sus nombres, y el número de veces en que fueron el primer artículo en añadirse al carrito)?"
   ]
  },
  {
   "cell_type": "markdown",
   "id": "romantic-deposit",
   "metadata": {
    "id": "romantic-deposit"
   },
   "source": [
    "### [C1] ¿Cuántos artículos compran normalmente las personas en un pedido? ¿Cómo es la distribución?"
   ]
  },
  {
   "cell_type": "code",
   "execution_count": 48,
   "id": "virtual-punch",
   "metadata": {
    "id": "virtual-punch",
    "trusted": false
   },
   "outputs": [],
   "source": [
    "articulos_por_pedido = df_order_products.groupby('order_id').size()\n"
   ]
  },
  {
   "cell_type": "code",
   "execution_count": 49,
   "id": "sensitive-breathing",
   "metadata": {
    "id": "sensitive-breathing",
    "trusted": false
   },
   "outputs": [
    {
     "data": {
      "image/png": "[encoded data removed]",
      "text/plain": [
       "<Figure size 1000x600 with 1 Axes>"
      ]
     },
     "metadata": {},
     "output_type": "display_data"
    }
   ],
   "source": [
    "# Visualizar la distribución de artículos por pedido\n",
    "plt.figure(figsize=(10, 6))\n",
    "plt.hist(articulos_por_pedido, bins=range(1, articulos_por_pedido.max() + 1), edgecolor='black', alpha=0.7)\n",
    "plt.xlabel('Número de Artículos por Pedido')\n",
    "plt.ylabel('Frecuencia')\n",
    "plt.title('Distribución del Número de Artículos por Pedido')\n",
    "plt.grid(True, axis='y', linestyle='--', alpha=0.7)\n",
    "plt.show()"
   ]
  },
  {
   "cell_type": "code",
   "execution_count": 50,
   "id": "completed-frank",
   "metadata": {
    "id": "completed-frank",
    "trusted": false
   },
   "outputs": [
    {
     "name": "stdout",
     "output_type": "stream",
     "text": [
      "count    450046.000000\n",
      "mean         10.098983\n",
      "std           7.540206\n",
      "min           1.000000\n",
      "25%           5.000000\n",
      "50%           8.000000\n",
      "75%          14.000000\n",
      "max         127.000000\n",
      "dtype: float64\n"
     ]
    }
   ],
   "source": [
    "print(articulos_por_pedido.describe())"
   ]
  },
  {
   "cell_type": "markdown",
   "id": "designed-mortality",
   "metadata": {
    "id": "designed-mortality"
   },
   "source": [
    "Según el gráfico se observa claramente que la mayoría de personas realizan 10 pedidos, la distribución va en aumento hasta llegar aproximadamente a los 10 pedidos y en este punto empieza a decrecer, según los datos obtenidos, las personas en promedio realizan alrededor de 10 pedidos, lo que confirma lo que se observá en el gráfico. "
   ]
  },
  {
   "cell_type": "markdown",
   "id": "5e6b5537",
   "metadata": {
    "id": "5e6b5537"
   },
   "source": [
    "### [C2] ¿Cuáles son los 20 principales artículos que vuelven a pedirse con mayor frecuencia (muestra sus nombres e IDs de los productos)?"
   ]
  },
  {
   "cell_type": "code",
   "execution_count": 51,
   "id": "9374e55a",
   "metadata": {
    "id": "9374e55a",
    "trusted": false
   },
   "outputs": [],
   "source": [
    "productos_reordenados = df_order_products[df_order_products['reordered'] == 1]\n"
   ]
  },
  {
   "cell_type": "code",
   "execution_count": 52,
   "id": "possible-change",
   "metadata": {
    "id": "possible-change",
    "scrolled": true,
    "trusted": false
   },
   "outputs": [],
   "source": [
    "frecuencia_reordenados = productos_reordenados.groupby('product_id').size().reset_index(name='count')\n"
   ]
  },
  {
   "cell_type": "code",
   "execution_count": 53,
   "id": "professional-surfing",
   "metadata": {
    "id": "professional-surfing",
    "scrolled": true,
    "trusted": false
   },
   "outputs": [],
   "source": [
    "frecuencia_reordenados = frecuencia_reordenados.sort_values(by='count', ascending=False)\n",
    "\n",
    "# Obtener los 20 principales productos reordenados\n",
    "top_20_reordenados = frecuencia_reordenados.head(20)"
   ]
  },
  {
   "cell_type": "code",
   "execution_count": 54,
   "id": "48dd3658",
   "metadata": {
    "id": "48dd3658",
    "trusted": false
   },
   "outputs": [
    {
     "name": "stdout",
     "output_type": "stream",
     "text": [
      "    product_id              product_name  count\n",
      "0        24852                    Banana  55763\n",
      "1        13176    Bag of Organic Bananas  44450\n",
      "2        21137      Organic Strawberries  28639\n",
      "3        21903      Organic Baby Spinach  26233\n",
      "4        47209      Organic Hass Avocado  23629\n",
      "5        47766           Organic Avocado  18743\n",
      "6        27845        Organic Whole Milk  16251\n",
      "7        47626               Large Lemon  15044\n",
      "8        27966       Organic Raspberries  14748\n",
      "9        16797              Strawberries  13945\n",
      "10       26209                     Limes  13327\n",
      "11       22935      Organic Yellow Onion  11145\n",
      "12       24964            Organic Garlic  10411\n",
      "13       45007          Organic Zucchini  10076\n",
      "14       49683            Cucumber Kirby   9538\n",
      "15       28204        Organic Fuji Apple   8989\n",
      "16        8277  Apple Honeycrisp Organic   8836\n",
      "17       39275       Organic Blueberries   8799\n",
      "18        5876             Organic Lemon   8412\n",
      "19       49235       Organic Half & Half   8389\n"
     ]
    }
   ],
   "source": [
    "# Unir con el archivo de productos para obtener los nombres\n",
    "top_20_reordenados = top_20_reordenados.merge(df_products[['product_id', 'product_name']], on='product_id')\n",
    "\n",
    "# Mostrar los resultados\n",
    "print(top_20_reordenados[['product_id', 'product_name', 'count']])"
   ]
  },
  {
   "cell_type": "markdown",
   "id": "80e70c74",
   "metadata": {
    "id": "80e70c74"
   },
   "source": [
    "El producto más ordenado con una frecuencia mayor es la Banana,es así que lo reordenan 55763 veces y dentro de los 20 productos el que menos es reordenado nuevante es Organic Half & Half  con 8389 reordenes."
   ]
  },
  {
   "cell_type": "markdown",
   "id": "9d312b14",
   "metadata": {
    "id": "9d312b14"
   },
   "source": [
    "### [C3] Para cada producto, ¿cuál es la proporción de las veces que se pide y que se vuelve a pedir?"
   ]
  },
  {
   "cell_type": "code",
   "execution_count": 55,
   "id": "8ae9f4b1",
   "metadata": {
    "id": "8ae9f4b1",
    "trusted": false
   },
   "outputs": [],
   "source": [
    "total_pedidos = df_order_products.groupby('product_id').size()  # Total de pedidos por producto\n"
   ]
  },
  {
   "cell_type": "code",
   "execution_count": 56,
   "id": "103e7fe1",
   "metadata": {
    "id": "103e7fe1",
    "trusted": false
   },
   "outputs": [],
   "source": [
    "reordenamientos = df_order_products[df_order_products['reordered'] == 1].groupby('product_id').size()  # Total de reordenamientos por producto"
   ]
  },
  {
   "cell_type": "code",
   "execution_count": 57,
   "id": "social-individual",
   "metadata": {
    "id": "social-individual",
    "scrolled": true,
    "trusted": false
   },
   "outputs": [
    {
     "data": {
      "image/png": "[encoded data removed]",
      "text/plain": [
       "<Figure size 640x480 with 1 Axes>"
      ]
     },
     "metadata": {},
     "output_type": "display_data"
    }
   ],
   "source": [
    "tasa_repeticion = (reordenamientos / total_pedidos).reset_index(name='reorder_rate').fillna(0)  # Tasa de repetición\n",
    "tasa_repeticion\n",
    "\n",
    "# seleccionar solo la columna 'reorder_rate' para el histograma\n",
    "tasa_repeticion['reorder_rate'].hist(bins=20, color='skyblue', edgecolor='black')\n",
    "\n",
    "# Personalización del gráfico\n",
    "plt.title(\"Distribución de Tasas de Reorden\")\n",
    "plt.xlabel(\"Tasa de Reorden\")\n",
    "plt.ylabel(\"Frecuencia\")\n",
    "plt.grid(axis='y', linestyle='--', alpha=0.7)  \n",
    "plt.show()\n",
    "\n",
    "\n"
   ]
  },
  {
   "cell_type": "markdown",
   "id": "I10dEIAyldcO",
   "metadata": {
    "id": "I10dEIAyldcO"
   },
   "source": [
    "La tasa de reorden es bastante baja, si observamos el gráfico, los valores más contundentes estan más cerca del cero que del 1. "
   ]
  },
  {
   "cell_type": "markdown",
   "id": "subject-boxing",
   "metadata": {
    "id": "subject-boxing"
   },
   "source": [
    "### [C4] Para cada cliente, ¿qué proporción de sus productos ya los había pedido?"
   ]
  },
  {
   "cell_type": "code",
   "execution_count": 58,
   "id": "medical-couple",
   "metadata": {
    "id": "medical-couple",
    "scrolled": true,
    "trusted": false
   },
   "outputs": [],
   "source": [
    "# Paso 1: Combinar `instacart_orders` y `order_products` usando 'order_id'\n",
    "merged_data = pd.merge(\n",
    "    df_instacart[['order_id', 'user_id']],  # Seleccionar columnas relevantes de instacart_orders\n",
    "    df_order_products,  # Tabla con detalles de productos por pedido\n",
    "    on='order_id'  # Clave de combinación\n",
    ")\n",
    "\n",
    "# Paso 2: Calcular el número total de productos pedidos por cliente\n",
    "total_products_per_user = merged_data.groupby('user_id').size()\n",
    "\n",
    "# Paso 3: Calcular el número de productos reordenados por cliente (reordered = 1)\n",
    "reordered_products_per_user = merged_data[merged_data['reordered'] == 1].groupby('user_id').size()\n",
    "\n",
    "# Paso 4: Calcular la proporción de productos reordenados\n",
    "reorder_rate_per_user = (reordered_products_per_user / total_products_per_user).fillna(0).reset_index(name='reorder_rate')\n",
    "\n"
   ]
  },
  {
   "cell_type": "code",
   "execution_count": 59,
   "id": "8892e4b4",
   "metadata": {
    "id": "8892e4b4",
    "trusted": false
   },
   "outputs": [
    {
     "name": "stdout",
     "output_type": "stream",
     "text": [
      "   user_id  reorder_rate\n",
      "0        2      0.038462\n",
      "1        4      0.000000\n",
      "2        5      0.666667\n",
      "3        6      0.000000\n",
      "4        7      0.928571\n"
     ]
    },
    {
     "data": {
      "image/png": "[encoded data removed]",
      "text/plain": [
       "<Figure size 640x480 with 1 Axes>"
      ]
     },
     "metadata": {},
     "output_type": "display_data"
    }
   ],
   "source": [
    "# Mostrar los primeros resultados\n",
    "print(reorder_rate_per_user.head())\n",
    "\n",
    "# Paso 5: Visualización de la distribución\n",
    "reorder_rate_per_user['reorder_rate'].hist(bins=20, color='lightblue', edgecolor='black')\n",
    "\n",
    "# Personalizar el gráfico\n",
    "plt.title(\"Distribución de Proporciones de Productos Reordenados por Cliente\")\n",
    "plt.xlabel(\"Proporción de Productos Reordenados\")\n",
    "plt.ylabel(\"Frecuencia\")\n",
    "plt.grid(axis='y', linestyle='--', alpha=0.7)\n",
    "plt.show()\n"
   ]
  },
  {
   "cell_type": "markdown",
   "id": "BgJSvXDsleXz",
   "metadata": {
    "id": "BgJSvXDsleXz"
   },
   "source": [
    "Acorde con los resultados:\n",
    "user_id = 2: Este cliente ha reordenado el 3.8% de los productos que ha pedido.\n",
    "user_id = 5: Este cliente ha reordenado el 6.6% de los productos que ha pedido.\n",
    "user_id = 7: Este cliente ha reordenado el 92.9% de los productos que ha pedido.\n",
    "User_id 7 es quien más reordenes de productos ha tenido, conforme a a la distribución como la mayoría esta cercana a 0 los clientes prefieren comprar nuevos productos, y en poca cantidad vuelven a reordenar productos que ya compraron como lo vemos en el gráfico que no hay tantos valores cercanos a 1 en el histograma. "
   ]
  },
  {
   "cell_type": "markdown",
   "id": "92d35137",
   "metadata": {
    "id": "92d35137"
   },
   "source": [
    "### [C5] ¿Cuáles son los 20 principales artículos que las personas ponen primero en sus carritos?"
   ]
  },
  {
   "cell_type": "code",
   "execution_count": 60,
   "id": "0ae57274",
   "metadata": {
    "id": "0ae57274",
    "scrolled": true,
    "trusted": false
   },
   "outputs": [],
   "source": [
    "# Paso 1: Filtrar productos que fueron agregados primero\n",
    "first_in_cart = df_order_products[df_order_products['add_to_cart_order'] == 1]\n"
   ]
  },
  {
   "cell_type": "code",
   "execution_count": 61,
   "id": "forty-netherlands",
   "metadata": {
    "id": "forty-netherlands",
    "scrolled": true,
    "trusted": false
   },
   "outputs": [],
   "source": [
    "# Paso 2: Contar la frecuencia de cada producto\n",
    "first_in_cart_counts = first_in_cart['product_id'].value_counts().reset_index()\n",
    "first_in_cart_counts.columns = ['product_id', 'count']\n"
   ]
  },
  {
   "cell_type": "code",
   "execution_count": 62,
   "id": "08e41ec2",
   "metadata": {
    "id": "08e41ec2",
    "trusted": false
   },
   "outputs": [
    {
     "data": {
      "text/html": [
       "<div>\n",
       "<style scoped>\n",
       "    .dataframe tbody tr th:only-of-type {\n",
       "        vertical-align: middle;\n",
       "    }\n",
       "\n",
       "    .dataframe tbody tr th {\n",
       "        vertical-align: top;\n",
       "    }\n",
       "\n",
       "    .dataframe thead th {\n",
       "        text-align: right;\n",
       "    }\n",
       "</style>\n",
       "<table border=\"1\" class=\"dataframe\">\n",
       "  <thead>\n",
       "    <tr style=\"text-align: right;\">\n",
       "      <th></th>\n",
       "      <th>product_id</th>\n",
       "      <th>count</th>\n",
       "      <th>product_name</th>\n",
       "    </tr>\n",
       "  </thead>\n",
       "  <tbody>\n",
       "    <tr>\n",
       "      <th>0</th>\n",
       "      <td>24852</td>\n",
       "      <td>15562</td>\n",
       "      <td>Banana</td>\n",
       "    </tr>\n",
       "    <tr>\n",
       "      <th>1</th>\n",
       "      <td>13176</td>\n",
       "      <td>11026</td>\n",
       "      <td>Bag of Organic Bananas</td>\n",
       "    </tr>\n",
       "    <tr>\n",
       "      <th>2</th>\n",
       "      <td>27845</td>\n",
       "      <td>4363</td>\n",
       "      <td>Organic Whole Milk</td>\n",
       "    </tr>\n",
       "    <tr>\n",
       "      <th>3</th>\n",
       "      <td>21137</td>\n",
       "      <td>3946</td>\n",
       "      <td>Organic Strawberries</td>\n",
       "    </tr>\n",
       "    <tr>\n",
       "      <th>4</th>\n",
       "      <td>47209</td>\n",
       "      <td>3390</td>\n",
       "      <td>Organic Hass Avocado</td>\n",
       "    </tr>\n",
       "    <tr>\n",
       "      <th>5</th>\n",
       "      <td>21903</td>\n",
       "      <td>3336</td>\n",
       "      <td>Organic Baby Spinach</td>\n",
       "    </tr>\n",
       "    <tr>\n",
       "      <th>6</th>\n",
       "      <td>47766</td>\n",
       "      <td>3044</td>\n",
       "      <td>Organic Avocado</td>\n",
       "    </tr>\n",
       "    <tr>\n",
       "      <th>7</th>\n",
       "      <td>19660</td>\n",
       "      <td>2336</td>\n",
       "      <td>Spring Water</td>\n",
       "    </tr>\n",
       "    <tr>\n",
       "      <th>8</th>\n",
       "      <td>16797</td>\n",
       "      <td>2308</td>\n",
       "      <td>Strawberries</td>\n",
       "    </tr>\n",
       "    <tr>\n",
       "      <th>9</th>\n",
       "      <td>27966</td>\n",
       "      <td>2024</td>\n",
       "      <td>Organic Raspberries</td>\n",
       "    </tr>\n",
       "    <tr>\n",
       "      <th>10</th>\n",
       "      <td>44632</td>\n",
       "      <td>1914</td>\n",
       "      <td>Sparkling Water Grapefruit</td>\n",
       "    </tr>\n",
       "    <tr>\n",
       "      <th>11</th>\n",
       "      <td>49235</td>\n",
       "      <td>1797</td>\n",
       "      <td>Organic Half &amp; Half</td>\n",
       "    </tr>\n",
       "    <tr>\n",
       "      <th>12</th>\n",
       "      <td>47626</td>\n",
       "      <td>1737</td>\n",
       "      <td>Large Lemon</td>\n",
       "    </tr>\n",
       "    <tr>\n",
       "      <th>13</th>\n",
       "      <td>196</td>\n",
       "      <td>1733</td>\n",
       "      <td>Soda</td>\n",
       "    </tr>\n",
       "    <tr>\n",
       "      <th>14</th>\n",
       "      <td>38689</td>\n",
       "      <td>1397</td>\n",
       "      <td>Organic Reduced Fat Milk</td>\n",
       "    </tr>\n",
       "    <tr>\n",
       "      <th>15</th>\n",
       "      <td>26209</td>\n",
       "      <td>1370</td>\n",
       "      <td>Limes</td>\n",
       "    </tr>\n",
       "    <tr>\n",
       "      <th>16</th>\n",
       "      <td>12341</td>\n",
       "      <td>1340</td>\n",
       "      <td>Hass Avocados</td>\n",
       "    </tr>\n",
       "    <tr>\n",
       "      <th>17</th>\n",
       "      <td>5785</td>\n",
       "      <td>1310</td>\n",
       "      <td>Organic Reduced Fat 2% Milk</td>\n",
       "    </tr>\n",
       "    <tr>\n",
       "      <th>18</th>\n",
       "      <td>27086</td>\n",
       "      <td>1309</td>\n",
       "      <td>Half &amp; Half</td>\n",
       "    </tr>\n",
       "    <tr>\n",
       "      <th>19</th>\n",
       "      <td>22935</td>\n",
       "      <td>1246</td>\n",
       "      <td>Organic Yellow Onion</td>\n",
       "    </tr>\n",
       "  </tbody>\n",
       "</table>\n",
       "</div>"
      ],
      "text/plain": [
       "    product_id  count                 product_name\n",
       "0        24852  15562                       Banana\n",
       "1        13176  11026       Bag of Organic Bananas\n",
       "2        27845   4363           Organic Whole Milk\n",
       "3        21137   3946         Organic Strawberries\n",
       "4        47209   3390         Organic Hass Avocado\n",
       "5        21903   3336         Organic Baby Spinach\n",
       "6        47766   3044              Organic Avocado\n",
       "7        19660   2336                 Spring Water\n",
       "8        16797   2308                 Strawberries\n",
       "9        27966   2024          Organic Raspberries\n",
       "10       44632   1914   Sparkling Water Grapefruit\n",
       "11       49235   1797          Organic Half & Half\n",
       "12       47626   1737                  Large Lemon\n",
       "13         196   1733                         Soda\n",
       "14       38689   1397     Organic Reduced Fat Milk\n",
       "15       26209   1370                        Limes\n",
       "16       12341   1340                Hass Avocados\n",
       "17        5785   1310  Organic Reduced Fat 2% Milk\n",
       "18       27086   1309                  Half & Half\n",
       "19       22935   1246         Organic Yellow Onion"
      ]
     },
     "execution_count": 62,
     "metadata": {},
     "output_type": "execute_result"
    }
   ],
   "source": [
    "# Paso 3: Obtener los nombres de los productos\n",
    "top_20_products = pd.merge(\n",
    "    first_in_cart_counts,\n",
    "    df_products[['product_id', 'product_name']],\n",
    "    on='product_id'\n",
    ").sort_values(by='count', ascending=False).head(20)\n",
    "\n",
    "# Mostrar los resultados ordenados\n",
    "top_20_products"
   ]
  },
  {
   "cell_type": "markdown",
   "id": "28ce9872",
   "metadata": {
    "id": "28ce9872"
   },
   "source": [
    "De los 20 principales productos que las personas pone primero en su carrito son las Bananas, y de los 20 principales el que menos consumen y ponen menos en sus carritos son los Organic Yellow Onion."
   ]
  },
  {
   "cell_type": "markdown",
   "id": "uITbFCEoDosC",
   "metadata": {
    "id": "uITbFCEoDosC"
   },
   "source": [
    "### Conclusion general del proyecto:"
   ]
  },
  {
   "cell_type": "markdown",
   "id": "638419f1",
   "metadata": {
    "id": "Nk-4GS7mDwqY"
   },
   "source": [
    "El análisis de los datos de compras de los usuarios en Instacart revela patrones interesantes que pueden ser útiles tanto para optimizar las operaciones como para mejorar la experiencia del cliente.\n",
    "\n",
    "Patrones de Compra por Hora: Los resultados muestran que la mayoría de los pedidos se realizan entre las 10:00 AM y las 8:00 PM, con picos notables alrededor de las 12:00 PM, durante la hora de almuerzo, y entre las 6:00 PM y las 8:00 PM, después del horario laboral. Esto sugiere que los usuarios prefieren hacer compras en línea durante sus horas de descanso, cuando tienen más tiempo disponible para navegar y realizar compras. Las horas de la madrugada y la noche (de 12:00 AM a 6:00 AM) muestran una baja actividad, lo que podría ser una oportunidad para ajustar las estrategias de marketing y logística en torno a las horas de mayor actividad.\n",
    "\n",
    "Patrones de Compra por Día de la Semana: Se observó que el domingo es el día con más pedidos (57,661), seguido por el lunes con 56,479 pedidos, mientras que el sábado es el día con menos pedidos (45,604). Estos hallazgos indican que los usuarios tienden a realizar compras al final de la semana, posiblemente aprovechando su tiempo libre durante el fin de semana. El comportamiento podría sugerir una mayor planificación de compras para la semana siguiente durante estos días.\n",
    "\n",
    "Tiempo Entre Pedidos: El análisis de la variable días desde el último pedido revela que los clientes pueden tardar hasta 30 días en realizar su siguiente compra. Sin embargo, la mayoría de los clientes realiza un nuevo pedido en un plazo de 6 a 8 días, lo que refleja un comportamiento de compra frecuente en intervalos cortos. Este comportamiento podría ser un indicador de la necesidad de campañas de retención y promociones dirigidas a mantener la actividad constante de los clientes.\n",
    "\n",
    "Productos Más Populares: El análisis de los productos muestra que productos como las bananas y los productos orgánicos son frecuentemente comprados y a menudo se colocan primero en el carrito. Estos productos representan una preferencia clara de los usuarios por ciertos tipos de alimentos. Además, el hecho de que las Chocolate Sandwich Cookies sean un producto popular en la lista refuerza la idea de que los consumidores a menudo optan por una combinación de productos básicos y snacks al realizar sus compras.\n",
    "\n",
    "Reordenamiento de Productos: Los datos muestran que el porcentaje de productos reordenados varía significativamente entre los usuarios. Mientras que algunos clientes reordenan una proporción baja de sus productos (como el user_id 2 con un 3.8% de reordenes), otros, como el user_id 7, tienen un alto porcentaje de productos reordenados (92.9%). Esto sugiere que los comportamientos de compra varían ampliamente, lo que podría indicar diferentes segmentos de clientes, como los que buscan siempre nuevos productos y los que prefieren fidelizarse con sus compras previas. La mayoría de los usuarios tiende a probar nuevos productos, ya que la distribución de las tasas de reorden está más cerca de 0, y no hay muchos valores cercanos a 1, lo que indica que pocos clientes vuelven a realizar compras de los mismos productos."
   ]
  },
  {
   "cell_type": "markdown",
   "id": "b13142e2",
   "metadata": {},
   "source": [
    "\n",
    "\n",
    "<div class=\"alert alert-block alert-success\">\n",
    "<b>Comentario del revisor</b> <a class=\"tocSkip\"></a>\n",
    "\n",
    "Realmente tus conclusiones demuestran tu expertise en el tema, te felicito por haberte esforzado tanto en este sprint. Excelente trabajo!</div>\n",
    "\n"
   ]
  }
 ],
 "metadata": {
  "ExecuteTimeLog": [
   {
    "duration": 306,
    "start_time": "2024-11-04T23:36:31.458Z"
   },
   {
    "duration": 936,
    "start_time": "2024-11-04T23:36:33.057Z"
   },
   {
    "duration": 336,
    "start_time": "2024-11-04T23:37:06.817Z"
   },
   {
    "duration": 2095,
    "start_time": "2024-11-04T23:39:20.649Z"
   },
   {
    "duration": 21,
    "start_time": "2024-11-04T23:39:25.917Z"
   },
   {
    "duration": 21,
    "start_time": "2024-11-04T23:40:27.478Z"
   },
   {
    "duration": 20,
    "start_time": "2024-11-04T23:40:46.209Z"
   },
   {
    "duration": 10,
    "start_time": "2024-11-04T23:41:07.983Z"
   },
   {
    "duration": 7,
    "start_time": "2024-11-04T23:41:25.869Z"
   },
   {
    "duration": 8,
    "start_time": "2024-11-04T23:41:27.907Z"
   },
   {
    "duration": 7,
    "start_time": "2024-11-04T23:41:30.428Z"
   },
   {
    "duration": 306,
    "start_time": "2024-11-05T02:11:17.611Z"
   },
   {
    "duration": 1965,
    "start_time": "2024-11-05T02:11:17.919Z"
   },
   {
    "duration": 26,
    "start_time": "2024-11-05T02:11:19.886Z"
   },
   {
    "duration": 10,
    "start_time": "2024-11-05T02:11:19.915Z"
   },
   {
    "duration": 7,
    "start_time": "2024-11-05T02:11:19.927Z"
   },
   {
    "duration": 203,
    "start_time": "2024-11-05T02:11:19.936Z"
   },
   {
    "duration": 0,
    "start_time": "2024-11-05T02:11:20.142Z"
   },
   {
    "duration": 0,
    "start_time": "2024-11-05T02:11:20.143Z"
   },
   {
    "duration": 0,
    "start_time": "2024-11-05T02:11:20.145Z"
   },
   {
    "duration": 0,
    "start_time": "2024-11-05T02:11:20.146Z"
   },
   {
    "duration": 0,
    "start_time": "2024-11-05T02:11:20.148Z"
   },
   {
    "duration": 0,
    "start_time": "2024-11-05T02:11:20.149Z"
   },
   {
    "duration": 0,
    "start_time": "2024-11-05T02:11:20.151Z"
   },
   {
    "duration": 0,
    "start_time": "2024-11-05T02:11:20.152Z"
   },
   {
    "duration": 0,
    "start_time": "2024-11-05T02:11:20.154Z"
   },
   {
    "duration": 0,
    "start_time": "2024-11-05T02:11:20.155Z"
   },
   {
    "duration": 0,
    "start_time": "2024-11-05T02:11:20.156Z"
   },
   {
    "duration": 0,
    "start_time": "2024-11-05T02:11:20.157Z"
   },
   {
    "duration": 0,
    "start_time": "2024-11-05T02:11:20.158Z"
   },
   {
    "duration": 0,
    "start_time": "2024-11-05T02:11:20.159Z"
   },
   {
    "duration": 0,
    "start_time": "2024-11-05T02:11:20.160Z"
   },
   {
    "duration": 0,
    "start_time": "2024-11-05T02:11:20.161Z"
   },
   {
    "duration": 0,
    "start_time": "2024-11-05T02:11:20.162Z"
   },
   {
    "duration": 0,
    "start_time": "2024-11-05T02:11:20.163Z"
   },
   {
    "duration": 0,
    "start_time": "2024-11-05T02:11:20.164Z"
   },
   {
    "duration": 0,
    "start_time": "2024-11-05T02:11:20.166Z"
   },
   {
    "duration": 0,
    "start_time": "2024-11-05T02:11:20.205Z"
   },
   {
    "duration": 0,
    "start_time": "2024-11-05T02:11:20.206Z"
   },
   {
    "duration": 0,
    "start_time": "2024-11-05T02:11:20.207Z"
   },
   {
    "duration": 0,
    "start_time": "2024-11-05T02:11:20.209Z"
   },
   {
    "duration": 0,
    "start_time": "2024-11-05T02:11:20.210Z"
   },
   {
    "duration": 0,
    "start_time": "2024-11-05T02:11:20.212Z"
   },
   {
    "duration": 0,
    "start_time": "2024-11-05T02:11:20.213Z"
   },
   {
    "duration": 0,
    "start_time": "2024-11-05T02:11:20.214Z"
   },
   {
    "duration": 8,
    "start_time": "2024-11-05T02:11:43.455Z"
   },
   {
    "duration": 165,
    "start_time": "2024-11-05T02:12:09.417Z"
   },
   {
    "duration": 382,
    "start_time": "2024-11-05T02:18:42.602Z"
   },
   {
    "duration": 37,
    "start_time": "2024-11-05T02:18:48.186Z"
   },
   {
    "duration": 290,
    "start_time": "2024-11-05T02:18:56.389Z"
   },
   {
    "duration": 1971,
    "start_time": "2024-11-05T02:18:56.681Z"
   },
   {
    "duration": 20,
    "start_time": "2024-11-05T02:18:58.654Z"
   },
   {
    "duration": 10,
    "start_time": "2024-11-05T02:18:58.676Z"
   },
   {
    "duration": 7,
    "start_time": "2024-11-05T02:18:58.705Z"
   },
   {
    "duration": 7,
    "start_time": "2024-11-05T02:18:58.714Z"
   },
   {
    "duration": 6,
    "start_time": "2024-11-05T02:18:58.723Z"
   },
   {
    "duration": 213,
    "start_time": "2024-11-05T02:18:58.731Z"
   },
   {
    "duration": 532,
    "start_time": "2024-11-05T02:18:58.946Z"
   },
   {
    "duration": 0,
    "start_time": "2024-11-05T02:18:59.480Z"
   },
   {
    "duration": 0,
    "start_time": "2024-11-05T02:18:59.481Z"
   },
   {
    "duration": 0,
    "start_time": "2024-11-05T02:18:59.482Z"
   },
   {
    "duration": 0,
    "start_time": "2024-11-05T02:18:59.483Z"
   },
   {
    "duration": 0,
    "start_time": "2024-11-05T02:18:59.484Z"
   },
   {
    "duration": 0,
    "start_time": "2024-11-05T02:18:59.485Z"
   },
   {
    "duration": 0,
    "start_time": "2024-11-05T02:18:59.486Z"
   },
   {
    "duration": 0,
    "start_time": "2024-11-05T02:18:59.487Z"
   },
   {
    "duration": 0,
    "start_time": "2024-11-05T02:18:59.505Z"
   },
   {
    "duration": 0,
    "start_time": "2024-11-05T02:18:59.507Z"
   },
   {
    "duration": 0,
    "start_time": "2024-11-05T02:18:59.508Z"
   },
   {
    "duration": 0,
    "start_time": "2024-11-05T02:18:59.509Z"
   },
   {
    "duration": 0,
    "start_time": "2024-11-05T02:18:59.510Z"
   },
   {
    "duration": 0,
    "start_time": "2024-11-05T02:18:59.512Z"
   },
   {
    "duration": 0,
    "start_time": "2024-11-05T02:18:59.513Z"
   },
   {
    "duration": 0,
    "start_time": "2024-11-05T02:18:59.515Z"
   },
   {
    "duration": 0,
    "start_time": "2024-11-05T02:18:59.516Z"
   },
   {
    "duration": 0,
    "start_time": "2024-11-05T02:18:59.517Z"
   },
   {
    "duration": 0,
    "start_time": "2024-11-05T02:18:59.519Z"
   },
   {
    "duration": 0,
    "start_time": "2024-11-05T02:18:59.521Z"
   },
   {
    "duration": 0,
    "start_time": "2024-11-05T02:18:59.522Z"
   },
   {
    "duration": 0,
    "start_time": "2024-11-05T02:18:59.524Z"
   },
   {
    "duration": 0,
    "start_time": "2024-11-05T02:18:59.527Z"
   },
   {
    "duration": 0,
    "start_time": "2024-11-05T02:18:59.528Z"
   },
   {
    "duration": 0,
    "start_time": "2024-11-05T02:18:59.529Z"
   },
   {
    "duration": 40,
    "start_time": "2024-11-05T02:20:01.825Z"
   },
   {
    "duration": 39,
    "start_time": "2024-11-05T02:20:47.894Z"
   },
   {
    "duration": 37,
    "start_time": "2024-11-05T02:20:50.047Z"
   },
   {
    "duration": 286,
    "start_time": "2024-11-05T02:23:45.774Z"
   },
   {
    "duration": 870,
    "start_time": "2024-11-05T02:23:46.062Z"
   },
   {
    "duration": 11,
    "start_time": "2024-11-05T02:23:46.934Z"
   },
   {
    "duration": 11,
    "start_time": "2024-11-05T02:23:46.948Z"
   },
   {
    "duration": 9,
    "start_time": "2024-11-05T02:23:46.961Z"
   },
   {
    "duration": 37,
    "start_time": "2024-11-05T02:23:46.972Z"
   },
   {
    "duration": 8,
    "start_time": "2024-11-05T02:23:47.011Z"
   },
   {
    "duration": 110,
    "start_time": "2024-11-05T02:23:47.021Z"
   },
   {
    "duration": 193,
    "start_time": "2024-11-05T02:23:47.133Z"
   },
   {
    "duration": 0,
    "start_time": "2024-11-05T02:23:47.328Z"
   },
   {
    "duration": 0,
    "start_time": "2024-11-05T02:23:47.330Z"
   },
   {
    "duration": 0,
    "start_time": "2024-11-05T02:23:47.331Z"
   },
   {
    "duration": 0,
    "start_time": "2024-11-05T02:23:47.333Z"
   },
   {
    "duration": 0,
    "start_time": "2024-11-05T02:23:47.333Z"
   },
   {
    "duration": 0,
    "start_time": "2024-11-05T02:23:47.335Z"
   },
   {
    "duration": 0,
    "start_time": "2024-11-05T02:23:47.336Z"
   },
   {
    "duration": 0,
    "start_time": "2024-11-05T02:23:47.337Z"
   },
   {
    "duration": 0,
    "start_time": "2024-11-05T02:23:47.338Z"
   },
   {
    "duration": 0,
    "start_time": "2024-11-05T02:23:47.339Z"
   },
   {
    "duration": 0,
    "start_time": "2024-11-05T02:23:47.340Z"
   },
   {
    "duration": 0,
    "start_time": "2024-11-05T02:23:47.341Z"
   },
   {
    "duration": 0,
    "start_time": "2024-11-05T02:23:47.342Z"
   },
   {
    "duration": 0,
    "start_time": "2024-11-05T02:23:47.344Z"
   },
   {
    "duration": 0,
    "start_time": "2024-11-05T02:23:47.344Z"
   },
   {
    "duration": 0,
    "start_time": "2024-11-05T02:23:47.345Z"
   },
   {
    "duration": 0,
    "start_time": "2024-11-05T02:23:47.347Z"
   },
   {
    "duration": 0,
    "start_time": "2024-11-05T02:23:47.348Z"
   },
   {
    "duration": 0,
    "start_time": "2024-11-05T02:23:47.349Z"
   },
   {
    "duration": 0,
    "start_time": "2024-11-05T02:23:47.350Z"
   },
   {
    "duration": 0,
    "start_time": "2024-11-05T02:23:47.351Z"
   },
   {
    "duration": 0,
    "start_time": "2024-11-05T02:23:47.352Z"
   },
   {
    "duration": 0,
    "start_time": "2024-11-05T02:23:47.354Z"
   },
   {
    "duration": 0,
    "start_time": "2024-11-05T02:23:47.355Z"
   },
   {
    "duration": 0,
    "start_time": "2024-11-05T02:23:47.357Z"
   },
   {
    "duration": 14,
    "start_time": "2024-11-05T02:25:53.034Z"
   },
   {
    "duration": 11,
    "start_time": "2024-11-05T02:26:14.134Z"
   },
   {
    "duration": 11,
    "start_time": "2024-11-05T02:29:39.877Z"
   },
   {
    "duration": 7,
    "start_time": "2024-11-05T02:30:28.532Z"
   },
   {
    "duration": 11,
    "start_time": "2024-11-05T02:30:51.403Z"
   },
   {
    "duration": 96,
    "start_time": "2024-11-05T02:33:41.800Z"
   },
   {
    "duration": 122,
    "start_time": "2024-11-05T02:33:58.319Z"
   },
   {
    "duration": 8,
    "start_time": "2024-11-05T02:35:04.508Z"
   },
   {
    "duration": 184,
    "start_time": "2024-11-05T02:37:47.182Z"
   },
   {
    "duration": 99,
    "start_time": "2024-11-05T02:38:52.825Z"
   },
   {
    "duration": 87,
    "start_time": "2024-11-05T02:38:54.549Z"
   },
   {
    "duration": 32,
    "start_time": "2024-11-05T02:40:15.000Z"
   },
   {
    "duration": 14,
    "start_time": "2024-11-05T02:52:19.434Z"
   },
   {
    "duration": 12,
    "start_time": "2024-11-05T02:52:59.579Z"
   },
   {
    "duration": 378,
    "start_time": "2024-11-05T02:53:43.551Z"
   },
   {
    "duration": 4,
    "start_time": "2024-11-05T02:54:12.116Z"
   },
   {
    "duration": 7,
    "start_time": "2024-11-05T02:57:42.926Z"
   },
   {
    "duration": 20,
    "start_time": "2024-11-05T03:00:48.183Z"
   },
   {
    "duration": 21,
    "start_time": "2024-11-05T03:01:16.538Z"
   },
   {
    "duration": 20,
    "start_time": "2024-11-05T03:01:50.156Z"
   },
   {
    "duration": 37,
    "start_time": "2024-11-05T03:04:12.858Z"
   },
   {
    "duration": 39,
    "start_time": "2024-11-05T03:07:17.024Z"
   },
   {
    "duration": 30,
    "start_time": "2024-11-05T03:07:34.212Z"
   },
   {
    "duration": 29,
    "start_time": "2024-11-05T03:07:39.266Z"
   },
   {
    "duration": 23,
    "start_time": "2024-11-05T03:08:10.407Z"
   },
   {
    "duration": 29,
    "start_time": "2024-11-05T03:14:10.451Z"
   },
   {
    "duration": 74,
    "start_time": "2024-11-05T03:14:49.292Z"
   },
   {
    "duration": 42,
    "start_time": "2024-11-05T03:17:03.225Z"
   },
   {
    "duration": 22,
    "start_time": "2024-11-05T03:17:50.248Z"
   },
   {
    "duration": 31,
    "start_time": "2024-11-05T03:20:29.697Z"
   },
   {
    "duration": 162,
    "start_time": "2024-11-06T03:17:17.536Z"
   },
   {
    "duration": 298,
    "start_time": "2024-11-06T03:17:25.264Z"
   },
   {
    "duration": 1044,
    "start_time": "2024-11-06T03:17:25.565Z"
   },
   {
    "duration": 11,
    "start_time": "2024-11-06T03:17:26.611Z"
   },
   {
    "duration": 10,
    "start_time": "2024-11-06T03:17:26.623Z"
   },
   {
    "duration": 9,
    "start_time": "2024-11-06T03:17:26.637Z"
   },
   {
    "duration": 11,
    "start_time": "2024-11-06T03:17:26.647Z"
   },
   {
    "duration": 7,
    "start_time": "2024-11-06T03:17:26.659Z"
   },
   {
    "duration": 111,
    "start_time": "2024-11-06T03:17:26.708Z"
   },
   {
    "duration": 10,
    "start_time": "2024-11-06T03:17:26.821Z"
   },
   {
    "duration": 117,
    "start_time": "2024-11-06T03:17:26.833Z"
   },
   {
    "duration": 100,
    "start_time": "2024-11-06T03:17:26.952Z"
   },
   {
    "duration": 30,
    "start_time": "2024-11-06T03:17:27.054Z"
   },
   {
    "duration": 30,
    "start_time": "2024-11-06T03:17:27.086Z"
   },
   {
    "duration": 3,
    "start_time": "2024-11-06T03:17:27.119Z"
   },
   {
    "duration": 21,
    "start_time": "2024-11-06T03:17:27.124Z"
   },
   {
    "duration": 21,
    "start_time": "2024-11-06T03:17:27.147Z"
   },
   {
    "duration": 2,
    "start_time": "2024-11-06T03:17:27.170Z"
   },
   {
    "duration": 4,
    "start_time": "2024-11-06T03:17:27.209Z"
   },
   {
    "duration": 3,
    "start_time": "2024-11-06T03:17:27.215Z"
   },
   {
    "duration": 3,
    "start_time": "2024-11-06T03:17:27.220Z"
   },
   {
    "duration": 2,
    "start_time": "2024-11-06T03:17:27.224Z"
   },
   {
    "duration": 2,
    "start_time": "2024-11-06T03:17:27.228Z"
   },
   {
    "duration": 2,
    "start_time": "2024-11-06T03:17:27.232Z"
   },
   {
    "duration": 3,
    "start_time": "2024-11-06T03:17:27.236Z"
   },
   {
    "duration": 3,
    "start_time": "2024-11-06T03:17:27.240Z"
   },
   {
    "duration": 2,
    "start_time": "2024-11-06T03:17:27.245Z"
   },
   {
    "duration": 2,
    "start_time": "2024-11-06T03:17:27.249Z"
   },
   {
    "duration": 3,
    "start_time": "2024-11-06T03:17:27.253Z"
   },
   {
    "duration": 3,
    "start_time": "2024-11-06T03:17:27.310Z"
   },
   {
    "duration": 2,
    "start_time": "2024-11-06T03:17:27.315Z"
   },
   {
    "duration": 3,
    "start_time": "2024-11-06T03:17:27.319Z"
   },
   {
    "duration": 2,
    "start_time": "2024-11-06T03:17:27.324Z"
   },
   {
    "duration": 2,
    "start_time": "2024-11-06T03:17:27.329Z"
   },
   {
    "duration": 2,
    "start_time": "2024-11-06T03:17:27.333Z"
   },
   {
    "duration": 92,
    "start_time": "2024-11-06T03:17:58.667Z"
   },
   {
    "duration": 180,
    "start_time": "2024-11-06T03:22:33.963Z"
   },
   {
    "duration": 4,
    "start_time": "2024-11-06T03:23:00.902Z"
   },
   {
    "duration": 14,
    "start_time": "2024-11-06T03:28:57.442Z"
   },
   {
    "duration": 9,
    "start_time": "2024-11-06T03:29:07.279Z"
   },
   {
    "duration": 4,
    "start_time": "2024-11-06T03:30:39.570Z"
   },
   {
    "duration": 4,
    "start_time": "2024-11-06T03:30:41.503Z"
   },
   {
    "duration": 769,
    "start_time": "2024-11-06T03:32:36.263Z"
   },
   {
    "duration": 83,
    "start_time": "2024-11-06T03:32:38.348Z"
   },
   {
    "duration": 75,
    "start_time": "2024-11-06T03:36:09.592Z"
   },
   {
    "duration": 4,
    "start_time": "2024-11-06T03:36:50.022Z"
   },
   {
    "duration": 5,
    "start_time": "2024-11-06T03:51:32.050Z"
   },
   {
    "duration": 7,
    "start_time": "2024-11-06T04:05:23.901Z"
   },
   {
    "duration": 6,
    "start_time": "2024-11-06T04:05:42.773Z"
   },
   {
    "duration": 7,
    "start_time": "2024-11-06T04:10:27.658Z"
   },
   {
    "duration": 14,
    "start_time": "2024-11-06T04:20:33.669Z"
   },
   {
    "duration": 284,
    "start_time": "2024-11-06T04:20:55.286Z"
   },
   {
    "duration": 886,
    "start_time": "2024-11-06T04:20:55.573Z"
   },
   {
    "duration": 13,
    "start_time": "2024-11-06T04:20:56.461Z"
   },
   {
    "duration": 11,
    "start_time": "2024-11-06T04:20:56.477Z"
   },
   {
    "duration": 20,
    "start_time": "2024-11-06T04:20:56.497Z"
   },
   {
    "duration": 8,
    "start_time": "2024-11-06T04:20:56.519Z"
   },
   {
    "duration": 7,
    "start_time": "2024-11-06T04:20:56.529Z"
   },
   {
    "duration": 129,
    "start_time": "2024-11-06T04:20:56.537Z"
   },
   {
    "duration": 11,
    "start_time": "2024-11-06T04:20:56.668Z"
   },
   {
    "duration": 129,
    "start_time": "2024-11-06T04:20:56.683Z"
   },
   {
    "duration": 100,
    "start_time": "2024-11-06T04:20:56.813Z"
   },
   {
    "duration": 29,
    "start_time": "2024-11-06T04:20:56.914Z"
   },
   {
    "duration": 13,
    "start_time": "2024-11-06T04:20:56.945Z"
   },
   {
    "duration": 3,
    "start_time": "2024-11-06T04:20:56.960Z"
   },
   {
    "duration": 53,
    "start_time": "2024-11-06T04:20:56.965Z"
   },
   {
    "duration": 21,
    "start_time": "2024-11-06T04:20:57.020Z"
   },
   {
    "duration": 4,
    "start_time": "2024-11-06T04:20:57.042Z"
   },
   {
    "duration": 6,
    "start_time": "2024-11-06T04:20:57.048Z"
   },
   {
    "duration": 3,
    "start_time": "2024-11-06T04:20:57.056Z"
   },
   {
    "duration": 4,
    "start_time": "2024-11-06T04:20:57.061Z"
   },
   {
    "duration": 880,
    "start_time": "2024-11-06T04:20:57.067Z"
   },
   {
    "duration": 87,
    "start_time": "2024-11-06T04:20:57.949Z"
   },
   {
    "duration": 5,
    "start_time": "2024-11-06T04:20:58.038Z"
   },
   {
    "duration": 7,
    "start_time": "2024-11-06T04:20:58.045Z"
   },
   {
    "duration": 6,
    "start_time": "2024-11-06T04:20:58.054Z"
   },
   {
    "duration": 209,
    "start_time": "2024-11-06T04:20:58.062Z"
   },
   {
    "duration": 0,
    "start_time": "2024-11-06T04:20:58.273Z"
   },
   {
    "duration": 0,
    "start_time": "2024-11-06T04:20:58.275Z"
   },
   {
    "duration": 0,
    "start_time": "2024-11-06T04:20:58.276Z"
   },
   {
    "duration": 0,
    "start_time": "2024-11-06T04:20:58.278Z"
   },
   {
    "duration": 0,
    "start_time": "2024-11-06T04:20:58.279Z"
   },
   {
    "duration": 0,
    "start_time": "2024-11-06T04:20:58.281Z"
   },
   {
    "duration": 0,
    "start_time": "2024-11-06T04:20:58.282Z"
   },
   {
    "duration": 0,
    "start_time": "2024-11-06T04:20:58.284Z"
   },
   {
    "duration": 13,
    "start_time": "2024-11-06T04:24:08.039Z"
   },
   {
    "duration": 7,
    "start_time": "2024-11-06T04:24:18.337Z"
   },
   {
    "duration": 5,
    "start_time": "2024-11-06T04:29:23.590Z"
   },
   {
    "duration": 7,
    "start_time": "2024-11-06T04:29:51.520Z"
   },
   {
    "duration": 10,
    "start_time": "2024-11-06T04:31:56.152Z"
   },
   {
    "duration": 15,
    "start_time": "2024-11-06T04:48:52.579Z"
   },
   {
    "duration": 15,
    "start_time": "2024-11-06T04:49:07.444Z"
   },
   {
    "duration": 14,
    "start_time": "2024-11-06T04:50:16.866Z"
   },
   {
    "duration": 17,
    "start_time": "2024-11-06T04:50:58.188Z"
   },
   {
    "duration": 13,
    "start_time": "2024-11-06T04:55:02.031Z"
   },
   {
    "duration": 402,
    "start_time": "2024-11-06T05:03:59.768Z"
   },
   {
    "duration": 7,
    "start_time": "2024-11-06T05:06:16.495Z"
   },
   {
    "duration": 8,
    "start_time": "2024-11-06T05:06:44.991Z"
   },
   {
    "duration": 7,
    "start_time": "2024-11-06T05:06:47.903Z"
   },
   {
    "duration": 175,
    "start_time": "2024-11-12T01:58:37.108Z"
   },
   {
    "duration": 277,
    "start_time": "2024-11-12T01:58:52.950Z"
   },
   {
    "duration": 1005,
    "start_time": "2024-11-12T01:58:53.229Z"
   },
   {
    "duration": 11,
    "start_time": "2024-11-12T01:58:54.235Z"
   },
   {
    "duration": 25,
    "start_time": "2024-11-12T01:58:54.248Z"
   },
   {
    "duration": 7,
    "start_time": "2024-11-12T01:58:54.277Z"
   },
   {
    "duration": 9,
    "start_time": "2024-11-12T01:58:54.286Z"
   },
   {
    "duration": 7,
    "start_time": "2024-11-12T01:58:54.297Z"
   },
   {
    "duration": 221,
    "start_time": "2024-11-12T01:58:54.305Z"
   },
   {
    "duration": 10,
    "start_time": "2024-11-12T01:58:54.529Z"
   },
   {
    "duration": 115,
    "start_time": "2024-11-12T01:58:54.540Z"
   },
   {
    "duration": 95,
    "start_time": "2024-11-12T01:58:54.657Z"
   },
   {
    "duration": 34,
    "start_time": "2024-11-12T01:58:54.754Z"
   },
   {
    "duration": 13,
    "start_time": "2024-11-12T01:58:54.789Z"
   },
   {
    "duration": 2,
    "start_time": "2024-11-12T01:58:54.807Z"
   },
   {
    "duration": 21,
    "start_time": "2024-11-12T01:58:54.811Z"
   },
   {
    "duration": 48,
    "start_time": "2024-11-12T01:58:54.834Z"
   },
   {
    "duration": 4,
    "start_time": "2024-11-12T01:58:54.883Z"
   },
   {
    "duration": 3,
    "start_time": "2024-11-12T01:58:54.889Z"
   },
   {
    "duration": 4,
    "start_time": "2024-11-12T01:58:54.894Z"
   },
   {
    "duration": 4,
    "start_time": "2024-11-12T01:58:54.900Z"
   },
   {
    "duration": 796,
    "start_time": "2024-11-12T01:58:54.906Z"
   },
   {
    "duration": 94,
    "start_time": "2024-11-12T01:58:55.703Z"
   },
   {
    "duration": 5,
    "start_time": "2024-11-12T01:58:55.799Z"
   },
   {
    "duration": 6,
    "start_time": "2024-11-12T01:58:55.806Z"
   },
   {
    "duration": 5,
    "start_time": "2024-11-12T01:58:55.814Z"
   },
   {
    "duration": 7,
    "start_time": "2024-11-12T01:58:55.821Z"
   },
   {
    "duration": 46,
    "start_time": "2024-11-12T01:58:55.830Z"
   },
   {
    "duration": 7,
    "start_time": "2024-11-12T01:58:55.878Z"
   },
   {
    "duration": 7,
    "start_time": "2024-11-12T01:58:55.886Z"
   },
   {
    "duration": 4,
    "start_time": "2024-11-12T01:58:55.895Z"
   },
   {
    "duration": 2,
    "start_time": "2024-11-12T01:58:55.901Z"
   },
   {
    "duration": 3,
    "start_time": "2024-11-12T01:58:55.904Z"
   },
   {
    "duration": 2,
    "start_time": "2024-11-12T01:58:55.909Z"
   },
   {
    "duration": 3,
    "start_time": "2024-11-12T01:58:55.912Z"
   },
   {
    "duration": 16,
    "start_time": "2024-11-12T02:23:06.368Z"
   },
   {
    "duration": 31,
    "start_time": "2024-11-12T02:27:46.675Z"
   },
   {
    "duration": 15,
    "start_time": "2024-11-12T02:29:46.040Z"
   },
   {
    "duration": 12,
    "start_time": "2024-11-12T03:06:56.036Z"
   },
   {
    "duration": 6,
    "start_time": "2024-11-12T03:06:57.509Z"
   },
   {
    "duration": 62,
    "start_time": "2024-11-12T03:07:34.489Z"
   },
   {
    "duration": 62,
    "start_time": "2024-11-12T03:08:03.757Z"
   },
   {
    "duration": 25,
    "start_time": "2024-11-12T03:12:14.564Z"
   },
   {
    "duration": 23,
    "start_time": "2024-11-12T03:13:09.750Z"
   },
   {
    "duration": 83,
    "start_time": "2024-11-12T03:13:28.008Z"
   },
   {
    "duration": 45,
    "start_time": "2024-11-12T03:27:21.140Z"
   },
   {
    "duration": 170,
    "start_time": "2024-11-13T02:28:47.989Z"
   },
   {
    "duration": 326,
    "start_time": "2024-11-13T02:28:55.359Z"
   },
   {
    "duration": 1242,
    "start_time": "2024-11-13T02:28:55.689Z"
   },
   {
    "duration": 12,
    "start_time": "2024-11-13T02:28:56.933Z"
   },
   {
    "duration": 26,
    "start_time": "2024-11-13T02:28:56.947Z"
   },
   {
    "duration": 12,
    "start_time": "2024-11-13T02:28:56.975Z"
   },
   {
    "duration": 9,
    "start_time": "2024-11-13T02:28:56.988Z"
   },
   {
    "duration": 7,
    "start_time": "2024-11-13T02:28:56.998Z"
   },
   {
    "duration": 277,
    "start_time": "2024-11-13T02:28:57.007Z"
   },
   {
    "duration": 11,
    "start_time": "2024-11-13T02:28:57.286Z"
   },
   {
    "duration": 147,
    "start_time": "2024-11-13T02:28:57.300Z"
   },
   {
    "duration": 100,
    "start_time": "2024-11-13T02:28:57.449Z"
   },
   {
    "duration": 36,
    "start_time": "2024-11-13T02:28:57.551Z"
   },
   {
    "duration": 12,
    "start_time": "2024-11-13T02:28:57.589Z"
   },
   {
    "duration": 4,
    "start_time": "2024-11-13T02:28:57.603Z"
   },
   {
    "duration": 22,
    "start_time": "2024-11-13T02:28:57.608Z"
   },
   {
    "duration": 53,
    "start_time": "2024-11-13T02:28:57.632Z"
   },
   {
    "duration": 5,
    "start_time": "2024-11-13T02:28:57.687Z"
   },
   {
    "duration": 4,
    "start_time": "2024-11-13T02:28:57.694Z"
   },
   {
    "duration": 4,
    "start_time": "2024-11-13T02:28:57.700Z"
   },
   {
    "duration": 4,
    "start_time": "2024-11-13T02:28:57.706Z"
   },
   {
    "duration": 840,
    "start_time": "2024-11-13T02:28:57.712Z"
   },
   {
    "duration": 83,
    "start_time": "2024-11-13T02:28:58.555Z"
   },
   {
    "duration": 6,
    "start_time": "2024-11-13T02:28:58.640Z"
   },
   {
    "duration": 24,
    "start_time": "2024-11-13T02:28:58.648Z"
   },
   {
    "duration": 7,
    "start_time": "2024-11-13T02:28:58.674Z"
   },
   {
    "duration": 7,
    "start_time": "2024-11-13T02:28:58.683Z"
   },
   {
    "duration": 12,
    "start_time": "2024-11-13T02:28:58.692Z"
   },
   {
    "duration": 5,
    "start_time": "2024-11-13T02:28:58.708Z"
   },
   {
    "duration": 6,
    "start_time": "2024-11-13T02:28:58.714Z"
   },
   {
    "duration": 59,
    "start_time": "2024-11-13T02:28:58.722Z"
   },
   {
    "duration": 31,
    "start_time": "2024-11-13T02:28:58.783Z"
   },
   {
    "duration": 11,
    "start_time": "2024-11-13T02:28:58.816Z"
   },
   {
    "duration": 91,
    "start_time": "2024-11-13T02:28:58.829Z"
   },
   {
    "duration": 112,
    "start_time": "2024-11-13T02:28:58.921Z"
   },
   {
    "duration": 5,
    "start_time": "2024-11-13T02:37:47.965Z"
   },
   {
    "duration": 175,
    "start_time": "2024-11-13T03:29:06.144Z"
   },
   {
    "duration": 14,
    "start_time": "2024-11-13T03:30:11.253Z"
   },
   {
    "duration": 7,
    "start_time": "2024-11-13T03:31:38.197Z"
   },
   {
    "duration": 6,
    "start_time": "2024-11-13T03:31:40.060Z"
   },
   {
    "duration": 4,
    "start_time": "2024-11-13T03:31:57.419Z"
   },
   {
    "duration": 2222,
    "start_time": "2024-11-13T03:38:03.499Z"
   },
   {
    "duration": 910,
    "start_time": "2024-11-13T03:38:05.723Z"
   },
   {
    "duration": 11,
    "start_time": "2024-11-13T03:38:06.634Z"
   },
   {
    "duration": 27,
    "start_time": "2024-11-13T03:38:06.648Z"
   },
   {
    "duration": 9,
    "start_time": "2024-11-13T03:38:06.677Z"
   },
   {
    "duration": 8,
    "start_time": "2024-11-13T03:38:06.687Z"
   },
   {
    "duration": 6,
    "start_time": "2024-11-13T03:38:06.697Z"
   },
   {
    "duration": 233,
    "start_time": "2024-11-13T03:38:06.704Z"
   },
   {
    "duration": 9,
    "start_time": "2024-11-13T03:38:06.939Z"
   },
   {
    "duration": 120,
    "start_time": "2024-11-13T03:38:06.951Z"
   },
   {
    "duration": 89,
    "start_time": "2024-11-13T03:38:07.072Z"
   },
   {
    "duration": 36,
    "start_time": "2024-11-13T03:38:07.171Z"
   },
   {
    "duration": 12,
    "start_time": "2024-11-13T03:38:07.209Z"
   },
   {
    "duration": 4,
    "start_time": "2024-11-13T03:38:07.223Z"
   },
   {
    "duration": 45,
    "start_time": "2024-11-13T03:38:07.229Z"
   },
   {
    "duration": 20,
    "start_time": "2024-11-13T03:38:07.276Z"
   },
   {
    "duration": 3,
    "start_time": "2024-11-13T03:38:07.298Z"
   },
   {
    "duration": 3,
    "start_time": "2024-11-13T03:38:07.303Z"
   },
   {
    "duration": 4,
    "start_time": "2024-11-13T03:38:07.308Z"
   },
   {
    "duration": 3,
    "start_time": "2024-11-13T03:38:07.314Z"
   },
   {
    "duration": 851,
    "start_time": "2024-11-13T03:38:07.319Z"
   },
   {
    "duration": 78,
    "start_time": "2024-11-13T03:38:08.172Z"
   },
   {
    "duration": 5,
    "start_time": "2024-11-13T03:38:08.252Z"
   },
   {
    "duration": 8,
    "start_time": "2024-11-13T03:38:08.270Z"
   },
   {
    "duration": 6,
    "start_time": "2024-11-13T03:38:08.280Z"
   },
   {
    "duration": 6,
    "start_time": "2024-11-13T03:38:08.287Z"
   },
   {
    "duration": 10,
    "start_time": "2024-11-13T03:38:08.294Z"
   },
   {
    "duration": 5,
    "start_time": "2024-11-13T03:38:08.307Z"
   },
   {
    "duration": 7,
    "start_time": "2024-11-13T03:38:08.313Z"
   },
   {
    "duration": 62,
    "start_time": "2024-11-13T03:38:08.321Z"
   },
   {
    "duration": 31,
    "start_time": "2024-11-13T03:38:08.385Z"
   },
   {
    "duration": 12,
    "start_time": "2024-11-13T03:38:08.419Z"
   },
   {
    "duration": 92,
    "start_time": "2024-11-13T03:38:08.433Z"
   },
   {
    "duration": 107,
    "start_time": "2024-11-13T03:38:08.527Z"
   },
   {
    "duration": 8,
    "start_time": "2024-11-13T03:38:08.636Z"
   },
   {
    "duration": 3,
    "start_time": "2024-11-13T03:38:08.645Z"
   },
   {
    "duration": 189,
    "start_time": "2024-11-13T03:39:07.291Z"
   },
   {
    "duration": 256,
    "start_time": "2024-11-13T03:42:25.105Z"
   },
   {
    "duration": 236,
    "start_time": "2024-11-13T03:48:01.697Z"
   },
   {
    "duration": 226,
    "start_time": "2024-11-13T03:50:10.758Z"
   },
   {
    "duration": 205,
    "start_time": "2024-11-13T03:51:02.384Z"
   },
   {
    "duration": 195,
    "start_time": "2024-11-13T03:52:10.599Z"
   },
   {
    "duration": 195,
    "start_time": "2024-11-13T03:52:57.207Z"
   },
   {
    "duration": 255,
    "start_time": "2024-11-13T03:54:20.858Z"
   },
   {
    "duration": 423,
    "start_time": "2024-11-13T03:58:51.244Z"
   },
   {
    "duration": 924,
    "start_time": "2024-11-13T03:58:51.670Z"
   },
   {
    "duration": 12,
    "start_time": "2024-11-13T03:58:52.595Z"
   },
   {
    "duration": 9,
    "start_time": "2024-11-13T03:58:52.608Z"
   },
   {
    "duration": 7,
    "start_time": "2024-11-13T03:58:52.621Z"
   },
   {
    "duration": 40,
    "start_time": "2024-11-13T03:58:52.630Z"
   },
   {
    "duration": 6,
    "start_time": "2024-11-13T03:58:52.672Z"
   },
   {
    "duration": 206,
    "start_time": "2024-11-13T03:58:52.680Z"
   },
   {
    "duration": 9,
    "start_time": "2024-11-13T03:58:52.888Z"
   },
   {
    "duration": 145,
    "start_time": "2024-11-13T03:58:52.899Z"
   },
   {
    "duration": 101,
    "start_time": "2024-11-13T03:58:53.047Z"
   },
   {
    "duration": 47,
    "start_time": "2024-11-13T03:58:53.150Z"
   },
   {
    "duration": 13,
    "start_time": "2024-11-13T03:58:53.199Z"
   },
   {
    "duration": 5,
    "start_time": "2024-11-13T03:58:53.216Z"
   },
   {
    "duration": 51,
    "start_time": "2024-11-13T03:58:53.222Z"
   },
   {
    "duration": 19,
    "start_time": "2024-11-13T03:58:53.275Z"
   },
   {
    "duration": 3,
    "start_time": "2024-11-13T03:58:53.296Z"
   },
   {
    "duration": 3,
    "start_time": "2024-11-13T03:58:53.301Z"
   },
   {
    "duration": 4,
    "start_time": "2024-11-13T03:58:53.306Z"
   },
   {
    "duration": 4,
    "start_time": "2024-11-13T03:58:53.311Z"
   },
   {
    "duration": 805,
    "start_time": "2024-11-13T03:58:53.317Z"
   },
   {
    "duration": 88,
    "start_time": "2024-11-13T03:58:54.124Z"
   },
   {
    "duration": 5,
    "start_time": "2024-11-13T03:58:54.214Z"
   },
   {
    "duration": 8,
    "start_time": "2024-11-13T03:58:54.221Z"
   },
   {
    "duration": 8,
    "start_time": "2024-11-13T03:58:54.231Z"
   },
   {
    "duration": 36,
    "start_time": "2024-11-13T03:58:54.240Z"
   },
   {
    "duration": 9,
    "start_time": "2024-11-13T03:58:54.278Z"
   },
   {
    "duration": 7,
    "start_time": "2024-11-13T03:58:54.289Z"
   },
   {
    "duration": 7,
    "start_time": "2024-11-13T03:58:54.298Z"
   },
   {
    "duration": 15,
    "start_time": "2024-11-13T03:58:54.307Z"
   },
   {
    "duration": 65,
    "start_time": "2024-11-13T03:58:54.325Z"
   },
   {
    "duration": 12,
    "start_time": "2024-11-13T03:58:54.392Z"
   },
   {
    "duration": 83,
    "start_time": "2024-11-13T03:58:54.406Z"
   },
   {
    "duration": 104,
    "start_time": "2024-11-13T03:58:54.491Z"
   },
   {
    "duration": 5,
    "start_time": "2024-11-13T03:58:54.597Z"
   },
   {
    "duration": 3,
    "start_time": "2024-11-13T03:58:54.603Z"
   },
   {
    "duration": 463,
    "start_time": "2024-11-13T03:59:16.274Z"
   },
   {
    "duration": 910,
    "start_time": "2024-11-13T03:59:16.739Z"
   },
   {
    "duration": 19,
    "start_time": "2024-11-13T03:59:17.651Z"
   },
   {
    "duration": 10,
    "start_time": "2024-11-13T03:59:17.672Z"
   },
   {
    "duration": 7,
    "start_time": "2024-11-13T03:59:17.685Z"
   },
   {
    "duration": 7,
    "start_time": "2024-11-13T03:59:17.694Z"
   },
   {
    "duration": 6,
    "start_time": "2024-11-13T03:59:17.703Z"
   },
   {
    "duration": 241,
    "start_time": "2024-11-13T03:59:17.711Z"
   },
   {
    "duration": 16,
    "start_time": "2024-11-13T03:59:17.955Z"
   },
   {
    "duration": 116,
    "start_time": "2024-11-13T03:59:17.973Z"
   },
   {
    "duration": 94,
    "start_time": "2024-11-13T03:59:18.090Z"
   },
   {
    "duration": 28,
    "start_time": "2024-11-13T03:59:18.186Z"
   },
   {
    "duration": 12,
    "start_time": "2024-11-13T03:59:18.216Z"
   },
   {
    "duration": 3,
    "start_time": "2024-11-13T03:59:18.231Z"
   },
   {
    "duration": 49,
    "start_time": "2024-11-13T03:59:18.236Z"
   },
   {
    "duration": 22,
    "start_time": "2024-11-13T03:59:18.287Z"
   },
   {
    "duration": 3,
    "start_time": "2024-11-13T03:59:18.311Z"
   },
   {
    "duration": 3,
    "start_time": "2024-11-13T03:59:18.316Z"
   },
   {
    "duration": 3,
    "start_time": "2024-11-13T03:59:18.321Z"
   },
   {
    "duration": 3,
    "start_time": "2024-11-13T03:59:18.326Z"
   },
   {
    "duration": 813,
    "start_time": "2024-11-13T03:59:18.331Z"
   },
   {
    "duration": 86,
    "start_time": "2024-11-13T03:59:19.145Z"
   },
   {
    "duration": 5,
    "start_time": "2024-11-13T03:59:19.234Z"
   },
   {
    "duration": 6,
    "start_time": "2024-11-13T03:59:19.241Z"
   },
   {
    "duration": 5,
    "start_time": "2024-11-13T03:59:19.270Z"
   },
   {
    "duration": 6,
    "start_time": "2024-11-13T03:59:19.276Z"
   },
   {
    "duration": 8,
    "start_time": "2024-11-13T03:59:19.284Z"
   },
   {
    "duration": 6,
    "start_time": "2024-11-13T03:59:19.294Z"
   },
   {
    "duration": 6,
    "start_time": "2024-11-13T03:59:19.301Z"
   },
   {
    "duration": 15,
    "start_time": "2024-11-13T03:59:19.309Z"
   },
   {
    "duration": 71,
    "start_time": "2024-11-13T03:59:19.325Z"
   },
   {
    "duration": 11,
    "start_time": "2024-11-13T03:59:19.398Z"
   },
   {
    "duration": 86,
    "start_time": "2024-11-13T03:59:19.411Z"
   },
   {
    "duration": 101,
    "start_time": "2024-11-13T03:59:19.499Z"
   },
   {
    "duration": 6,
    "start_time": "2024-11-13T03:59:19.602Z"
   },
   {
    "duration": 4,
    "start_time": "2024-11-13T03:59:19.609Z"
   },
   {
    "duration": 299,
    "start_time": "2024-11-13T03:59:19.615Z"
   },
   {
    "duration": 54248,
    "start_time": "2024-11-13T04:00:21.753Z"
   },
   {
    "duration": 259,
    "start_time": "2024-11-13T04:07:03.136Z"
   },
   {
    "duration": 2187,
    "start_time": "2024-11-14T01:25:38.831Z"
   },
   {
    "duration": 1027,
    "start_time": "2024-11-14T01:25:41.020Z"
   },
   {
    "duration": 12,
    "start_time": "2024-11-14T01:25:42.049Z"
   },
   {
    "duration": 10,
    "start_time": "2024-11-14T01:25:42.062Z"
   },
   {
    "duration": 8,
    "start_time": "2024-11-14T01:25:42.074Z"
   },
   {
    "duration": 32,
    "start_time": "2024-11-14T01:25:42.083Z"
   },
   {
    "duration": 6,
    "start_time": "2024-11-14T01:25:42.117Z"
   },
   {
    "duration": 219,
    "start_time": "2024-11-14T01:25:42.125Z"
   },
   {
    "duration": 8,
    "start_time": "2024-11-14T01:25:42.346Z"
   },
   {
    "duration": 122,
    "start_time": "2024-11-14T01:25:42.355Z"
   },
   {
    "duration": 98,
    "start_time": "2024-11-14T01:25:42.479Z"
   },
   {
    "duration": 38,
    "start_time": "2024-11-14T01:25:42.579Z"
   },
   {
    "duration": 15,
    "start_time": "2024-11-14T01:25:42.619Z"
   },
   {
    "duration": 3,
    "start_time": "2024-11-14T01:25:42.639Z"
   },
   {
    "duration": 22,
    "start_time": "2024-11-14T01:25:42.644Z"
   },
   {
    "duration": 49,
    "start_time": "2024-11-14T01:25:42.668Z"
   },
   {
    "duration": 3,
    "start_time": "2024-11-14T01:25:42.719Z"
   },
   {
    "duration": 3,
    "start_time": "2024-11-14T01:25:42.724Z"
   },
   {
    "duration": 3,
    "start_time": "2024-11-14T01:25:42.729Z"
   },
   {
    "duration": 3,
    "start_time": "2024-11-14T01:25:42.733Z"
   },
   {
    "duration": 834,
    "start_time": "2024-11-14T01:25:42.737Z"
   },
   {
    "duration": 80,
    "start_time": "2024-11-14T01:25:43.573Z"
   },
   {
    "duration": 5,
    "start_time": "2024-11-14T01:25:43.654Z"
   },
   {
    "duration": 7,
    "start_time": "2024-11-14T01:25:43.662Z"
   },
   {
    "duration": 6,
    "start_time": "2024-11-14T01:25:43.671Z"
   },
   {
    "duration": 34,
    "start_time": "2024-11-14T01:25:43.679Z"
   },
   {
    "duration": 11,
    "start_time": "2024-11-14T01:25:43.715Z"
   },
   {
    "duration": 6,
    "start_time": "2024-11-14T01:25:43.728Z"
   },
   {
    "duration": 7,
    "start_time": "2024-11-14T01:25:43.735Z"
   },
   {
    "duration": 15,
    "start_time": "2024-11-14T01:25:43.744Z"
   },
   {
    "duration": 69,
    "start_time": "2024-11-14T01:25:43.762Z"
   },
   {
    "duration": 14,
    "start_time": "2024-11-14T01:25:43.834Z"
   },
   {
    "duration": 80,
    "start_time": "2024-11-14T01:25:43.850Z"
   },
   {
    "duration": 109,
    "start_time": "2024-11-14T01:25:43.932Z"
   },
   {
    "duration": 7,
    "start_time": "2024-11-14T01:25:44.043Z"
   },
   {
    "duration": 3,
    "start_time": "2024-11-14T01:25:44.051Z"
   },
   {
    "duration": 282,
    "start_time": "2024-11-14T01:25:44.056Z"
   },
   {
    "duration": 141,
    "start_time": "2024-11-14T01:25:44.339Z"
   },
   {
    "duration": 215,
    "start_time": "2024-11-14T01:31:23.127Z"
   },
   {
    "duration": 189,
    "start_time": "2024-11-14T01:33:23.437Z"
   },
   {
    "duration": 203,
    "start_time": "2024-11-14T01:35:05.440Z"
   },
   {
    "duration": 214,
    "start_time": "2024-11-14T01:36:37.789Z"
   },
   {
    "duration": 193,
    "start_time": "2024-11-14T01:37:01.401Z"
   },
   {
    "duration": 161,
    "start_time": "2024-11-15T01:48:06.941Z"
   },
   {
    "duration": 2269,
    "start_time": "2024-11-15T01:48:15.927Z"
   },
   {
    "duration": 1007,
    "start_time": "2024-11-15T01:48:18.198Z"
   },
   {
    "duration": 12,
    "start_time": "2024-11-15T01:48:19.207Z"
   },
   {
    "duration": 11,
    "start_time": "2024-11-15T01:48:19.220Z"
   },
   {
    "duration": 9,
    "start_time": "2024-11-15T01:48:19.235Z"
   },
   {
    "duration": 9,
    "start_time": "2024-11-15T01:48:19.245Z"
   },
   {
    "duration": 8,
    "start_time": "2024-11-15T01:48:19.256Z"
   },
   {
    "duration": 244,
    "start_time": "2024-11-15T01:48:19.265Z"
   },
   {
    "duration": 9,
    "start_time": "2024-11-15T01:48:19.511Z"
   },
   {
    "duration": 119,
    "start_time": "2024-11-15T01:48:19.522Z"
   },
   {
    "duration": 98,
    "start_time": "2024-11-15T01:48:19.643Z"
   },
   {
    "duration": 36,
    "start_time": "2024-11-15T01:48:19.743Z"
   },
   {
    "duration": 37,
    "start_time": "2024-11-15T01:48:19.781Z"
   },
   {
    "duration": 3,
    "start_time": "2024-11-15T01:48:19.822Z"
   },
   {
    "duration": 22,
    "start_time": "2024-11-15T01:48:19.827Z"
   },
   {
    "duration": 19,
    "start_time": "2024-11-15T01:48:19.850Z"
   },
   {
    "duration": 3,
    "start_time": "2024-11-15T01:48:19.871Z"
   },
   {
    "duration": 4,
    "start_time": "2024-11-15T01:48:19.909Z"
   },
   {
    "duration": 3,
    "start_time": "2024-11-15T01:48:19.915Z"
   },
   {
    "duration": 4,
    "start_time": "2024-11-15T01:48:19.920Z"
   },
   {
    "duration": 822,
    "start_time": "2024-11-15T01:48:19.926Z"
   },
   {
    "duration": 86,
    "start_time": "2024-11-15T01:48:20.750Z"
   },
   {
    "duration": 6,
    "start_time": "2024-11-15T01:48:20.838Z"
   },
   {
    "duration": 6,
    "start_time": "2024-11-15T01:48:20.846Z"
   },
   {
    "duration": 5,
    "start_time": "2024-11-15T01:48:20.855Z"
   },
   {
    "duration": 6,
    "start_time": "2024-11-15T01:48:20.862Z"
   },
   {
    "duration": 41,
    "start_time": "2024-11-15T01:48:20.871Z"
   },
   {
    "duration": 6,
    "start_time": "2024-11-15T01:48:20.914Z"
   },
   {
    "duration": 7,
    "start_time": "2024-11-15T01:48:20.921Z"
   },
   {
    "duration": 15,
    "start_time": "2024-11-15T01:48:20.930Z"
   },
   {
    "duration": 65,
    "start_time": "2024-11-15T01:48:20.946Z"
   },
   {
    "duration": 12,
    "start_time": "2024-11-15T01:48:21.013Z"
   },
   {
    "duration": 64,
    "start_time": "2024-11-15T01:48:21.027Z"
   },
   {
    "duration": 102,
    "start_time": "2024-11-15T01:48:21.109Z"
   },
   {
    "duration": 5,
    "start_time": "2024-11-15T01:48:21.213Z"
   },
   {
    "duration": 3,
    "start_time": "2024-11-15T01:48:21.220Z"
   },
   {
    "duration": 287,
    "start_time": "2024-11-15T01:48:21.224Z"
   },
   {
    "duration": 1168,
    "start_time": "2024-11-15T01:48:21.513Z"
   },
   {
    "duration": 1180,
    "start_time": "2024-11-15T01:48:37.277Z"
   },
   {
    "duration": 1136,
    "start_time": "2024-11-15T01:48:48.813Z"
   },
   {
    "duration": 1225,
    "start_time": "2024-11-15T01:49:21.608Z"
   },
   {
    "duration": 1130,
    "start_time": "2024-11-15T01:49:39.597Z"
   },
   {
    "duration": 1235,
    "start_time": "2024-11-15T01:50:18.582Z"
   },
   {
    "duration": 1266,
    "start_time": "2024-11-15T01:50:31.052Z"
   },
   {
    "duration": 808,
    "start_time": "2024-11-15T01:50:59.859Z"
   },
   {
    "duration": 1186,
    "start_time": "2024-11-15T01:51:19.564Z"
   },
   {
    "duration": 761,
    "start_time": "2024-11-15T01:51:39.555Z"
   },
   {
    "duration": 922,
    "start_time": "2024-11-15T01:51:51.412Z"
   },
   {
    "duration": 187,
    "start_time": "2024-11-15T01:52:32.903Z"
   },
   {
    "duration": 266,
    "start_time": "2024-11-15T01:55:00.258Z"
   },
   {
    "duration": 147,
    "start_time": "2024-11-15T02:00:18.746Z"
   },
   {
    "duration": 11,
    "start_time": "2024-11-15T02:58:36.337Z"
   },
   {
    "duration": 11,
    "start_time": "2024-11-15T02:59:36.622Z"
   },
   {
    "duration": 107,
    "start_time": "2024-11-15T02:59:37.751Z"
   },
   {
    "duration": 103,
    "start_time": "2024-11-15T02:59:43.695Z"
   },
   {
    "duration": 96,
    "start_time": "2024-11-15T02:59:46.326Z"
   },
   {
    "duration": 97,
    "start_time": "2024-11-15T03:00:53.088Z"
   },
   {
    "duration": 166,
    "start_time": "2024-11-15T03:01:30.934Z"
   },
   {
    "duration": 449,
    "start_time": "2024-11-15T03:02:17.007Z"
   },
   {
    "duration": 990,
    "start_time": "2024-11-15T03:02:17.458Z"
   },
   {
    "duration": 10,
    "start_time": "2024-11-15T03:02:18.450Z"
   },
   {
    "duration": 10,
    "start_time": "2024-11-15T03:02:18.462Z"
   },
   {
    "duration": 8,
    "start_time": "2024-11-15T03:02:18.474Z"
   },
   {
    "duration": 31,
    "start_time": "2024-11-15T03:02:18.484Z"
   },
   {
    "duration": 7,
    "start_time": "2024-11-15T03:02:18.517Z"
   },
   {
    "duration": 218,
    "start_time": "2024-11-15T03:02:18.526Z"
   },
   {
    "duration": 8,
    "start_time": "2024-11-15T03:02:18.746Z"
   },
   {
    "duration": 117,
    "start_time": "2024-11-15T03:02:18.758Z"
   },
   {
    "duration": 97,
    "start_time": "2024-11-15T03:02:18.877Z"
   },
   {
    "duration": 37,
    "start_time": "2024-11-15T03:02:18.976Z"
   },
   {
    "duration": 12,
    "start_time": "2024-11-15T03:02:19.014Z"
   },
   {
    "duration": 4,
    "start_time": "2024-11-15T03:02:19.027Z"
   },
   {
    "duration": 20,
    "start_time": "2024-11-15T03:02:19.032Z"
   },
   {
    "duration": 19,
    "start_time": "2024-11-15T03:02:19.056Z"
   },
   {
    "duration": 33,
    "start_time": "2024-11-15T03:02:19.077Z"
   },
   {
    "duration": 5,
    "start_time": "2024-11-15T03:02:19.112Z"
   },
   {
    "duration": 5,
    "start_time": "2024-11-15T03:02:19.119Z"
   },
   {
    "duration": 4,
    "start_time": "2024-11-15T03:02:19.125Z"
   },
   {
    "duration": 795,
    "start_time": "2024-11-15T03:02:19.131Z"
   },
   {
    "duration": 84,
    "start_time": "2024-11-15T03:02:19.928Z"
   },
   {
    "duration": 6,
    "start_time": "2024-11-15T03:02:20.014Z"
   },
   {
    "duration": 5,
    "start_time": "2024-11-15T03:02:20.022Z"
   },
   {
    "duration": 5,
    "start_time": "2024-11-15T03:02:20.029Z"
   },
   {
    "duration": 6,
    "start_time": "2024-11-15T03:02:20.036Z"
   },
   {
    "duration": 8,
    "start_time": "2024-11-15T03:02:20.044Z"
   },
   {
    "duration": 54,
    "start_time": "2024-11-15T03:02:20.057Z"
   },
   {
    "duration": 7,
    "start_time": "2024-11-15T03:02:20.112Z"
   },
   {
    "duration": 15,
    "start_time": "2024-11-15T03:02:20.121Z"
   },
   {
    "duration": 30,
    "start_time": "2024-11-15T03:02:20.138Z"
   },
   {
    "duration": 39,
    "start_time": "2024-11-15T03:02:20.170Z"
   },
   {
    "duration": 62,
    "start_time": "2024-11-15T03:02:20.211Z"
   },
   {
    "duration": 121,
    "start_time": "2024-11-15T03:02:20.275Z"
   },
   {
    "duration": 11,
    "start_time": "2024-11-15T03:02:20.398Z"
   },
   {
    "duration": 3,
    "start_time": "2024-11-15T03:02:20.410Z"
   },
   {
    "duration": 272,
    "start_time": "2024-11-15T03:02:20.415Z"
   },
   {
    "duration": 196,
    "start_time": "2024-11-15T03:02:20.689Z"
   },
   {
    "duration": 157,
    "start_time": "2024-11-15T03:02:20.887Z"
   },
   {
    "duration": 7,
    "start_time": "2024-11-15T03:02:21.046Z"
   },
   {
    "duration": 7,
    "start_time": "2024-11-15T03:02:21.055Z"
   },
   {
    "duration": 188,
    "start_time": "2024-11-15T03:02:21.064Z"
   },
   {
    "duration": 414,
    "start_time": "2024-11-15T03:03:58.268Z"
   },
   {
    "duration": 901,
    "start_time": "2024-11-15T03:03:58.684Z"
   },
   {
    "duration": 11,
    "start_time": "2024-11-15T03:03:59.587Z"
   },
   {
    "duration": 10,
    "start_time": "2024-11-15T03:03:59.609Z"
   },
   {
    "duration": 7,
    "start_time": "2024-11-15T03:03:59.621Z"
   },
   {
    "duration": 7,
    "start_time": "2024-11-15T03:03:59.629Z"
   },
   {
    "duration": 6,
    "start_time": "2024-11-15T03:03:59.638Z"
   },
   {
    "duration": 237,
    "start_time": "2024-11-15T03:03:59.646Z"
   },
   {
    "duration": 9,
    "start_time": "2024-11-15T03:03:59.884Z"
   },
   {
    "duration": 109,
    "start_time": "2024-11-15T03:03:59.908Z"
   },
   {
    "duration": 98,
    "start_time": "2024-11-15T03:04:00.018Z"
   },
   {
    "duration": 27,
    "start_time": "2024-11-15T03:04:00.119Z"
   },
   {
    "duration": 11,
    "start_time": "2024-11-15T03:04:00.148Z"
   },
   {
    "duration": 3,
    "start_time": "2024-11-15T03:04:00.161Z"
   },
   {
    "duration": 49,
    "start_time": "2024-11-15T03:04:00.166Z"
   },
   {
    "duration": 19,
    "start_time": "2024-11-15T03:04:00.216Z"
   },
   {
    "duration": 4,
    "start_time": "2024-11-15T03:04:00.237Z"
   },
   {
    "duration": 4,
    "start_time": "2024-11-15T03:04:00.243Z"
   },
   {
    "duration": 4,
    "start_time": "2024-11-15T03:04:00.249Z"
   },
   {
    "duration": 3,
    "start_time": "2024-11-15T03:04:00.254Z"
   },
   {
    "duration": 806,
    "start_time": "2024-11-15T03:04:00.259Z"
   },
   {
    "duration": 80,
    "start_time": "2024-11-15T03:04:01.067Z"
   },
   {
    "duration": 5,
    "start_time": "2024-11-15T03:04:01.149Z"
   },
   {
    "duration": 6,
    "start_time": "2024-11-15T03:04:01.156Z"
   },
   {
    "duration": 6,
    "start_time": "2024-11-15T03:04:01.164Z"
   },
   {
    "duration": 6,
    "start_time": "2024-11-15T03:04:01.172Z"
   },
   {
    "duration": 10,
    "start_time": "2024-11-15T03:04:01.208Z"
   },
   {
    "duration": 5,
    "start_time": "2024-11-15T03:04:01.223Z"
   },
   {
    "duration": 7,
    "start_time": "2024-11-15T03:04:01.229Z"
   },
   {
    "duration": 16,
    "start_time": "2024-11-15T03:04:01.237Z"
   },
   {
    "duration": 66,
    "start_time": "2024-11-15T03:04:01.254Z"
   },
   {
    "duration": 12,
    "start_time": "2024-11-15T03:04:01.322Z"
   },
   {
    "duration": 84,
    "start_time": "2024-11-15T03:04:01.336Z"
   },
   {
    "duration": 102,
    "start_time": "2024-11-15T03:04:01.423Z"
   },
   {
    "duration": 6,
    "start_time": "2024-11-15T03:04:01.527Z"
   },
   {
    "duration": 3,
    "start_time": "2024-11-15T03:04:01.535Z"
   },
   {
    "duration": 286,
    "start_time": "2024-11-15T03:04:01.540Z"
   },
   {
    "duration": 199,
    "start_time": "2024-11-15T03:04:01.828Z"
   },
   {
    "duration": 159,
    "start_time": "2024-11-15T03:04:02.028Z"
   },
   {
    "duration": 20,
    "start_time": "2024-11-15T03:04:02.189Z"
   },
   {
    "duration": 8,
    "start_time": "2024-11-15T03:04:02.210Z"
   },
   {
    "duration": 143,
    "start_time": "2024-11-15T03:04:02.219Z"
   },
   {
    "duration": 109,
    "start_time": "2024-11-15T03:04:02.364Z"
   },
   {
    "duration": 125,
    "start_time": "2024-11-15T03:05:17.184Z"
   },
   {
    "duration": 177,
    "start_time": "2024-11-15T03:05:37.315Z"
   },
   {
    "duration": 402,
    "start_time": "2024-11-15T03:06:01.095Z"
   },
   {
    "duration": 915,
    "start_time": "2024-11-15T03:06:01.500Z"
   },
   {
    "duration": 11,
    "start_time": "2024-11-15T03:06:02.417Z"
   },
   {
    "duration": 9,
    "start_time": "2024-11-15T03:06:02.430Z"
   },
   {
    "duration": 7,
    "start_time": "2024-11-15T03:06:02.441Z"
   },
   {
    "duration": 7,
    "start_time": "2024-11-15T03:06:02.450Z"
   },
   {
    "duration": 7,
    "start_time": "2024-11-15T03:06:02.458Z"
   },
   {
    "duration": 231,
    "start_time": "2024-11-15T03:06:02.466Z"
   },
   {
    "duration": 15,
    "start_time": "2024-11-15T03:06:02.699Z"
   },
   {
    "duration": 127,
    "start_time": "2024-11-15T03:06:02.717Z"
   },
   {
    "duration": 95,
    "start_time": "2024-11-15T03:06:02.846Z"
   },
   {
    "duration": 29,
    "start_time": "2024-11-15T03:06:02.943Z"
   },
   {
    "duration": 22,
    "start_time": "2024-11-15T03:06:02.973Z"
   },
   {
    "duration": 23,
    "start_time": "2024-11-15T03:06:02.996Z"
   },
   {
    "duration": 44,
    "start_time": "2024-11-15T03:06:03.021Z"
   },
   {
    "duration": 23,
    "start_time": "2024-11-15T03:06:03.067Z"
   },
   {
    "duration": 4,
    "start_time": "2024-11-15T03:06:03.091Z"
   },
   {
    "duration": 6,
    "start_time": "2024-11-15T03:06:03.097Z"
   },
   {
    "duration": 7,
    "start_time": "2024-11-15T03:06:03.104Z"
   },
   {
    "duration": 5,
    "start_time": "2024-11-15T03:06:03.113Z"
   },
   {
    "duration": 752,
    "start_time": "2024-11-15T03:06:03.119Z"
   },
   {
    "duration": 88,
    "start_time": "2024-11-15T03:06:03.873Z"
   },
   {
    "duration": 5,
    "start_time": "2024-11-15T03:06:03.963Z"
   },
   {
    "duration": 7,
    "start_time": "2024-11-15T03:06:03.970Z"
   },
   {
    "duration": 5,
    "start_time": "2024-11-15T03:06:03.979Z"
   },
   {
    "duration": 6,
    "start_time": "2024-11-15T03:06:04.010Z"
   },
   {
    "duration": 12,
    "start_time": "2024-11-15T03:06:04.018Z"
   },
   {
    "duration": 5,
    "start_time": "2024-11-15T03:06:04.033Z"
   },
   {
    "duration": 7,
    "start_time": "2024-11-15T03:06:04.040Z"
   },
   {
    "duration": 15,
    "start_time": "2024-11-15T03:06:04.049Z"
   },
   {
    "duration": 69,
    "start_time": "2024-11-15T03:06:04.066Z"
   },
   {
    "duration": 12,
    "start_time": "2024-11-15T03:06:04.136Z"
   },
   {
    "duration": 80,
    "start_time": "2024-11-15T03:06:04.150Z"
   },
   {
    "duration": 101,
    "start_time": "2024-11-15T03:06:04.231Z"
   },
   {
    "duration": 6,
    "start_time": "2024-11-15T03:06:04.334Z"
   },
   {
    "duration": 3,
    "start_time": "2024-11-15T03:06:04.342Z"
   },
   {
    "duration": 272,
    "start_time": "2024-11-15T03:06:04.346Z"
   },
   {
    "duration": 199,
    "start_time": "2024-11-15T03:06:04.620Z"
   },
   {
    "duration": 175,
    "start_time": "2024-11-15T03:06:04.821Z"
   },
   {
    "duration": 7,
    "start_time": "2024-11-15T03:06:05.008Z"
   },
   {
    "duration": 8,
    "start_time": "2024-11-15T03:06:05.016Z"
   },
   {
    "duration": 181,
    "start_time": "2024-11-15T03:06:05.025Z"
   },
   {
    "duration": 422,
    "start_time": "2024-11-15T03:45:27.564Z"
   },
   {
    "duration": 901,
    "start_time": "2024-11-15T03:45:27.987Z"
   },
   {
    "duration": 20,
    "start_time": "2024-11-15T03:45:28.889Z"
   },
   {
    "duration": 9,
    "start_time": "2024-11-15T03:45:28.911Z"
   },
   {
    "duration": 8,
    "start_time": "2024-11-15T03:45:28.922Z"
   },
   {
    "duration": 8,
    "start_time": "2024-11-15T03:45:28.931Z"
   },
   {
    "duration": 8,
    "start_time": "2024-11-15T03:45:28.941Z"
   },
   {
    "duration": 229,
    "start_time": "2024-11-15T03:45:28.950Z"
   },
   {
    "duration": 8,
    "start_time": "2024-11-15T03:45:29.181Z"
   },
   {
    "duration": 105,
    "start_time": "2024-11-15T03:45:29.208Z"
   },
   {
    "duration": 100,
    "start_time": "2024-11-15T03:45:29.315Z"
   },
   {
    "duration": 29,
    "start_time": "2024-11-15T03:45:29.417Z"
   },
   {
    "duration": 12,
    "start_time": "2024-11-15T03:45:29.447Z"
   },
   {
    "duration": 4,
    "start_time": "2024-11-15T03:45:29.461Z"
   },
   {
    "duration": 55,
    "start_time": "2024-11-15T03:45:29.467Z"
   },
   {
    "duration": 32,
    "start_time": "2024-11-15T03:45:29.524Z"
   },
   {
    "duration": 4,
    "start_time": "2024-11-15T03:45:29.561Z"
   },
   {
    "duration": 4,
    "start_time": "2024-11-15T03:45:29.569Z"
   },
   {
    "duration": 4,
    "start_time": "2024-11-15T03:45:29.575Z"
   },
   {
    "duration": 4,
    "start_time": "2024-11-15T03:45:29.581Z"
   },
   {
    "duration": 1040,
    "start_time": "2024-11-15T03:45:29.610Z"
   },
   {
    "duration": 85,
    "start_time": "2024-11-15T03:45:30.653Z"
   },
   {
    "duration": 5,
    "start_time": "2024-11-15T03:45:30.740Z"
   },
   {
    "duration": 5,
    "start_time": "2024-11-15T03:45:30.747Z"
   },
   {
    "duration": 7,
    "start_time": "2024-11-15T03:45:30.754Z"
   },
   {
    "duration": 9,
    "start_time": "2024-11-15T03:45:30.763Z"
   },
   {
    "duration": 35,
    "start_time": "2024-11-15T03:45:30.774Z"
   },
   {
    "duration": 6,
    "start_time": "2024-11-15T03:45:30.813Z"
   },
   {
    "duration": 7,
    "start_time": "2024-11-15T03:45:30.820Z"
   },
   {
    "duration": 15,
    "start_time": "2024-11-15T03:45:30.829Z"
   },
   {
    "duration": 63,
    "start_time": "2024-11-15T03:45:30.846Z"
   },
   {
    "duration": 12,
    "start_time": "2024-11-15T03:45:30.911Z"
   },
   {
    "duration": 66,
    "start_time": "2024-11-15T03:45:30.924Z"
   },
   {
    "duration": 106,
    "start_time": "2024-11-15T03:45:31.009Z"
   },
   {
    "duration": 6,
    "start_time": "2024-11-15T03:45:31.117Z"
   },
   {
    "duration": 4,
    "start_time": "2024-11-15T03:45:31.125Z"
   },
   {
    "duration": 292,
    "start_time": "2024-11-15T03:45:31.131Z"
   },
   {
    "duration": 204,
    "start_time": "2024-11-15T03:45:31.426Z"
   },
   {
    "duration": 161,
    "start_time": "2024-11-15T03:45:31.632Z"
   },
   {
    "duration": 16,
    "start_time": "2024-11-15T03:45:31.796Z"
   },
   {
    "duration": 7,
    "start_time": "2024-11-15T03:45:31.814Z"
   },
   {
    "duration": 190,
    "start_time": "2024-11-15T03:45:31.823Z"
   },
   {
    "duration": 208,
    "start_time": "2024-11-15T03:45:32.016Z"
   },
   {
    "duration": 420,
    "start_time": "2024-11-15T03:46:36.858Z"
   },
   {
    "duration": 16,
    "start_time": "2024-11-15T03:46:51.616Z"
   },
   {
    "duration": 15,
    "start_time": "2024-11-15T03:47:24.616Z"
   },
   {
    "duration": 19,
    "start_time": "2024-11-15T03:48:44.275Z"
   },
   {
    "duration": 14,
    "start_time": "2024-11-15T03:49:35.989Z"
   },
   {
    "duration": 434,
    "start_time": "2024-11-15T03:49:46.194Z"
   },
   {
    "duration": 960,
    "start_time": "2024-11-15T03:49:46.630Z"
   },
   {
    "duration": 27,
    "start_time": "2024-11-15T03:49:47.592Z"
   },
   {
    "duration": 10,
    "start_time": "2024-11-15T03:49:47.621Z"
   },
   {
    "duration": 9,
    "start_time": "2024-11-15T03:49:47.634Z"
   },
   {
    "duration": 7,
    "start_time": "2024-11-15T03:49:47.645Z"
   },
   {
    "duration": 6,
    "start_time": "2024-11-15T03:49:47.654Z"
   },
   {
    "duration": 230,
    "start_time": "2024-11-15T03:49:47.662Z"
   },
   {
    "duration": 18,
    "start_time": "2024-11-15T03:49:47.894Z"
   },
   {
    "duration": 109,
    "start_time": "2024-11-15T03:49:47.915Z"
   },
   {
    "duration": 87,
    "start_time": "2024-11-15T03:49:48.026Z"
   },
   {
    "duration": 26,
    "start_time": "2024-11-15T03:49:48.115Z"
   },
   {
    "duration": 12,
    "start_time": "2024-11-15T03:49:48.142Z"
   },
   {
    "duration": 3,
    "start_time": "2024-11-15T03:49:48.157Z"
   },
   {
    "duration": 51,
    "start_time": "2024-11-15T03:49:48.167Z"
   },
   {
    "duration": 27,
    "start_time": "2024-11-15T03:49:48.220Z"
   },
   {
    "duration": 4,
    "start_time": "2024-11-15T03:49:48.249Z"
   },
   {
    "duration": 4,
    "start_time": "2024-11-15T03:49:48.255Z"
   },
   {
    "duration": 4,
    "start_time": "2024-11-15T03:49:48.261Z"
   },
   {
    "duration": 3,
    "start_time": "2024-11-15T03:49:48.267Z"
   },
   {
    "duration": 755,
    "start_time": "2024-11-15T03:49:48.310Z"
   },
   {
    "duration": 82,
    "start_time": "2024-11-15T03:49:49.067Z"
   },
   {
    "duration": 4,
    "start_time": "2024-11-15T03:49:49.151Z"
   },
   {
    "duration": 6,
    "start_time": "2024-11-15T03:49:49.157Z"
   },
   {
    "duration": 6,
    "start_time": "2024-11-15T03:49:49.164Z"
   },
   {
    "duration": 38,
    "start_time": "2024-11-15T03:49:49.171Z"
   },
   {
    "duration": 9,
    "start_time": "2024-11-15T03:49:49.211Z"
   },
   {
    "duration": 7,
    "start_time": "2024-11-15T03:49:49.222Z"
   },
   {
    "duration": 7,
    "start_time": "2024-11-15T03:49:49.230Z"
   },
   {
    "duration": 22,
    "start_time": "2024-11-15T03:49:49.239Z"
   },
   {
    "duration": 67,
    "start_time": "2024-11-15T03:49:49.263Z"
   },
   {
    "duration": 12,
    "start_time": "2024-11-15T03:49:49.332Z"
   },
   {
    "duration": 80,
    "start_time": "2024-11-15T03:49:49.346Z"
   },
   {
    "duration": 101,
    "start_time": "2024-11-15T03:49:49.428Z"
   },
   {
    "duration": 8,
    "start_time": "2024-11-15T03:49:49.531Z"
   },
   {
    "duration": 3,
    "start_time": "2024-11-15T03:49:49.541Z"
   },
   {
    "duration": 308,
    "start_time": "2024-11-15T03:49:49.545Z"
   },
   {
    "duration": 235,
    "start_time": "2024-11-15T03:49:49.855Z"
   },
   {
    "duration": 160,
    "start_time": "2024-11-15T03:49:50.092Z"
   },
   {
    "duration": 7,
    "start_time": "2024-11-15T03:49:50.254Z"
   },
   {
    "duration": 6,
    "start_time": "2024-11-15T03:49:50.268Z"
   },
   {
    "duration": 194,
    "start_time": "2024-11-15T03:49:50.276Z"
   },
   {
    "duration": 242,
    "start_time": "2024-11-15T03:49:50.471Z"
   },
   {
    "duration": 247,
    "start_time": "2024-11-15T03:50:31.169Z"
   },
   {
    "duration": 6,
    "start_time": "2024-11-15T03:54:39.029Z"
   },
   {
    "duration": 9,
    "start_time": "2024-11-15T03:55:08.143Z"
   },
   {
    "duration": 294,
    "start_time": "2024-11-15T03:55:11.218Z"
   },
   {
    "duration": 422,
    "start_time": "2024-11-15T03:55:26.896Z"
   },
   {
    "duration": 924,
    "start_time": "2024-11-15T03:55:27.320Z"
   },
   {
    "duration": 12,
    "start_time": "2024-11-15T03:55:28.246Z"
   },
   {
    "duration": 10,
    "start_time": "2024-11-15T03:55:28.260Z"
   },
   {
    "duration": 8,
    "start_time": "2024-11-15T03:55:28.272Z"
   },
   {
    "duration": 8,
    "start_time": "2024-11-15T03:55:28.309Z"
   },
   {
    "duration": 8,
    "start_time": "2024-11-15T03:55:28.318Z"
   },
   {
    "duration": 218,
    "start_time": "2024-11-15T03:55:28.327Z"
   },
   {
    "duration": 9,
    "start_time": "2024-11-15T03:55:28.547Z"
   },
   {
    "duration": 118,
    "start_time": "2024-11-15T03:55:28.559Z"
   },
   {
    "duration": 96,
    "start_time": "2024-11-15T03:55:28.679Z"
   },
   {
    "duration": 41,
    "start_time": "2024-11-15T03:55:28.777Z"
   },
   {
    "duration": 16,
    "start_time": "2024-11-15T03:55:28.820Z"
   },
   {
    "duration": 3,
    "start_time": "2024-11-15T03:55:28.838Z"
   },
   {
    "duration": 24,
    "start_time": "2024-11-15T03:55:28.844Z"
   },
   {
    "duration": 48,
    "start_time": "2024-11-15T03:55:28.871Z"
   },
   {
    "duration": 3,
    "start_time": "2024-11-15T03:55:28.921Z"
   },
   {
    "duration": 4,
    "start_time": "2024-11-15T03:55:28.926Z"
   },
   {
    "duration": 4,
    "start_time": "2024-11-15T03:55:28.931Z"
   },
   {
    "duration": 4,
    "start_time": "2024-11-15T03:55:28.936Z"
   },
   {
    "duration": 795,
    "start_time": "2024-11-15T03:55:28.941Z"
   },
   {
    "duration": 109,
    "start_time": "2024-11-15T03:55:29.739Z"
   },
   {
    "duration": 5,
    "start_time": "2024-11-15T03:55:29.851Z"
   },
   {
    "duration": 7,
    "start_time": "2024-11-15T03:55:29.857Z"
   },
   {
    "duration": 5,
    "start_time": "2024-11-15T03:55:29.866Z"
   },
   {
    "duration": 40,
    "start_time": "2024-11-15T03:55:29.873Z"
   },
   {
    "duration": 9,
    "start_time": "2024-11-15T03:55:29.915Z"
   },
   {
    "duration": 5,
    "start_time": "2024-11-15T03:55:29.928Z"
   },
   {
    "duration": 6,
    "start_time": "2024-11-15T03:55:29.935Z"
   },
   {
    "duration": 20,
    "start_time": "2024-11-15T03:55:29.942Z"
   },
   {
    "duration": 68,
    "start_time": "2024-11-15T03:55:29.964Z"
   },
   {
    "duration": 11,
    "start_time": "2024-11-15T03:55:30.034Z"
   },
   {
    "duration": 83,
    "start_time": "2024-11-15T03:55:30.047Z"
   },
   {
    "duration": 101,
    "start_time": "2024-11-15T03:55:30.132Z"
   },
   {
    "duration": 5,
    "start_time": "2024-11-15T03:55:30.235Z"
   },
   {
    "duration": 3,
    "start_time": "2024-11-15T03:55:30.242Z"
   },
   {
    "duration": 271,
    "start_time": "2024-11-15T03:55:30.246Z"
   },
   {
    "duration": 199,
    "start_time": "2024-11-15T03:55:30.519Z"
   },
   {
    "duration": 161,
    "start_time": "2024-11-15T03:55:30.719Z"
   },
   {
    "duration": 7,
    "start_time": "2024-11-15T03:55:30.883Z"
   },
   {
    "duration": 22,
    "start_time": "2024-11-15T03:55:30.892Z"
   },
   {
    "duration": 188,
    "start_time": "2024-11-15T03:55:30.915Z"
   },
   {
    "duration": 254,
    "start_time": "2024-11-15T03:55:31.104Z"
   },
   {
    "duration": 9,
    "start_time": "2024-11-15T03:55:31.360Z"
   },
   {
    "duration": 199,
    "start_time": "2024-11-15T04:13:04.052Z"
   },
   {
    "duration": 21,
    "start_time": "2024-11-15T04:13:07.174Z"
   },
   {
    "duration": 18,
    "start_time": "2024-11-15T04:13:08.937Z"
   },
   {
    "duration": 9,
    "start_time": "2024-11-15T04:14:22.189Z"
   },
   {
    "duration": 62,
    "start_time": "2024-11-15T04:14:24.429Z"
   },
   {
    "duration": 9,
    "start_time": "2024-11-15T04:15:00.555Z"
   },
   {
    "duration": 5,
    "start_time": "2024-11-15T04:15:02.431Z"
   },
   {
    "duration": 159,
    "start_time": "2024-11-16T03:56:32.840Z"
   },
   {
    "duration": 13,
    "start_time": "2024-11-16T03:57:44.802Z"
   },
   {
    "duration": 14,
    "start_time": "2024-11-16T03:58:55.479Z"
   },
   {
    "duration": 2109,
    "start_time": "2024-11-16T03:59:05.548Z"
   },
   {
    "duration": 1021,
    "start_time": "2024-11-16T03:59:07.659Z"
   },
   {
    "duration": 14,
    "start_time": "2024-11-16T03:59:08.681Z"
   },
   {
    "duration": 10,
    "start_time": "2024-11-16T03:59:08.696Z"
   },
   {
    "duration": 7,
    "start_time": "2024-11-16T03:59:08.710Z"
   },
   {
    "duration": 8,
    "start_time": "2024-11-16T03:59:08.718Z"
   },
   {
    "duration": 6,
    "start_time": "2024-11-16T03:59:08.729Z"
   },
   {
    "duration": 235,
    "start_time": "2024-11-16T03:59:08.737Z"
   },
   {
    "duration": 8,
    "start_time": "2024-11-16T03:59:08.986Z"
   },
   {
    "duration": 123,
    "start_time": "2024-11-16T03:59:08.996Z"
   },
   {
    "duration": 95,
    "start_time": "2024-11-16T03:59:09.121Z"
   },
   {
    "duration": 27,
    "start_time": "2024-11-16T03:59:09.218Z"
   },
   {
    "duration": 12,
    "start_time": "2024-11-16T03:59:09.246Z"
   },
   {
    "duration": 4,
    "start_time": "2024-11-16T03:59:09.261Z"
   },
   {
    "duration": 20,
    "start_time": "2024-11-16T03:59:09.286Z"
   },
   {
    "duration": 18,
    "start_time": "2024-11-16T03:59:09.308Z"
   },
   {
    "duration": 3,
    "start_time": "2024-11-16T03:59:09.328Z"
   },
   {
    "duration": 4,
    "start_time": "2024-11-16T03:59:09.333Z"
   },
   {
    "duration": 4,
    "start_time": "2024-11-16T03:59:09.338Z"
   },
   {
    "duration": 44,
    "start_time": "2024-11-16T03:59:09.343Z"
   },
   {
    "duration": 780,
    "start_time": "2024-11-16T03:59:09.389Z"
   },
   {
    "duration": 81,
    "start_time": "2024-11-16T03:59:10.172Z"
   },
   {
    "duration": 6,
    "start_time": "2024-11-16T03:59:10.254Z"
   },
   {
    "duration": 7,
    "start_time": "2024-11-16T03:59:10.261Z"
   },
   {
    "duration": 22,
    "start_time": "2024-11-16T03:59:10.269Z"
   },
   {
    "duration": 6,
    "start_time": "2024-11-16T03:59:10.292Z"
   },
   {
    "duration": 8,
    "start_time": "2024-11-16T03:59:10.300Z"
   },
   {
    "duration": 5,
    "start_time": "2024-11-16T03:59:10.310Z"
   },
   {
    "duration": 7,
    "start_time": "2024-11-16T03:59:10.317Z"
   },
   {
    "duration": 60,
    "start_time": "2024-11-16T03:59:10.326Z"
   },
   {
    "duration": 31,
    "start_time": "2024-11-16T03:59:10.389Z"
   },
   {
    "duration": 11,
    "start_time": "2024-11-16T03:59:10.422Z"
   },
   {
    "duration": 87,
    "start_time": "2024-11-16T03:59:10.435Z"
   },
   {
    "duration": 106,
    "start_time": "2024-11-16T03:59:10.523Z"
   },
   {
    "duration": 6,
    "start_time": "2024-11-16T03:59:10.630Z"
   },
   {
    "duration": 3,
    "start_time": "2024-11-16T03:59:10.637Z"
   },
   {
    "duration": 277,
    "start_time": "2024-11-16T03:59:10.642Z"
   },
   {
    "duration": 246,
    "start_time": "2024-11-16T03:59:10.921Z"
   },
   {
    "duration": 159,
    "start_time": "2024-11-16T03:59:11.168Z"
   },
   {
    "duration": 8,
    "start_time": "2024-11-16T03:59:11.329Z"
   },
   {
    "duration": 7,
    "start_time": "2024-11-16T03:59:11.342Z"
   },
   {
    "duration": 185,
    "start_time": "2024-11-16T03:59:11.350Z"
   },
   {
    "duration": 252,
    "start_time": "2024-11-16T03:59:11.537Z"
   },
   {
    "duration": 8,
    "start_time": "2024-11-16T03:59:11.791Z"
   },
   {
    "duration": 204,
    "start_time": "2024-11-16T03:59:11.801Z"
   },
   {
    "duration": 17,
    "start_time": "2024-11-16T03:59:47.415Z"
   },
   {
    "duration": 9,
    "start_time": "2024-11-16T04:05:35.726Z"
   },
   {
    "duration": 11,
    "start_time": "2024-11-16T04:05:42.875Z"
   },
   {
    "duration": 9,
    "start_time": "2024-11-16T04:05:43.780Z"
   },
   {
    "duration": 6,
    "start_time": "2024-11-16T04:05:44.903Z"
   },
   {
    "duration": 12,
    "start_time": "2024-11-16T04:12:19.817Z"
   },
   {
    "duration": 212,
    "start_time": "2024-11-16T04:16:02.746Z"
   },
   {
    "duration": 234,
    "start_time": "2024-11-16T04:16:08.332Z"
   },
   {
    "duration": 12,
    "start_time": "2024-11-16T04:16:12.706Z"
   },
   {
    "duration": 67,
    "start_time": "2024-11-16T04:37:49.779Z"
   },
   {
    "duration": 64,
    "start_time": "2024-11-16T04:38:02.983Z"
   },
   {
    "duration": 43,
    "start_time": "2024-11-16T04:38:24.028Z"
   },
   {
    "duration": 6,
    "start_time": "2024-11-16T04:38:46.936Z"
   },
   {
    "duration": 13,
    "start_time": "2024-11-16T04:39:04.492Z"
   },
   {
    "duration": 11,
    "start_time": "2024-11-16T04:39:16.630Z"
   },
   {
    "duration": 13,
    "start_time": "2024-11-16T04:43:55.060Z"
   },
   {
    "duration": 121,
    "start_time": "2024-11-16T04:44:02.448Z"
   },
   {
    "duration": 13,
    "start_time": "2024-11-16T04:44:04.690Z"
   },
   {
    "duration": 122,
    "start_time": "2024-11-16T04:44:17.757Z"
   },
   {
    "duration": 5,
    "start_time": "2024-11-16T04:44:19.695Z"
   },
   {
    "duration": 7,
    "start_time": "2024-11-16T04:45:41.270Z"
   },
   {
    "duration": 13,
    "start_time": "2024-11-16T04:52:08.482Z"
   },
   {
    "duration": 287,
    "start_time": "2024-11-16T04:52:19.479Z"
   },
   {
    "duration": 42,
    "start_time": "2024-11-16T04:54:10.668Z"
   },
   {
    "duration": 14,
    "start_time": "2024-11-16T04:55:37.767Z"
   },
   {
    "duration": 261,
    "start_time": "2024-11-16T04:56:01.470Z"
   },
   {
    "duration": 415,
    "start_time": "2024-11-16T05:01:11.253Z"
   },
   {
    "duration": 907,
    "start_time": "2024-11-16T05:01:11.671Z"
   },
   {
    "duration": 11,
    "start_time": "2024-11-16T05:01:12.580Z"
   },
   {
    "duration": 9,
    "start_time": "2024-11-16T05:01:12.594Z"
   },
   {
    "duration": 7,
    "start_time": "2024-11-16T05:01:12.604Z"
   },
   {
    "duration": 7,
    "start_time": "2024-11-16T05:01:12.613Z"
   },
   {
    "duration": 6,
    "start_time": "2024-11-16T05:01:12.622Z"
   },
   {
    "duration": 231,
    "start_time": "2024-11-16T05:01:12.630Z"
   },
   {
    "duration": 9,
    "start_time": "2024-11-16T05:01:12.862Z"
   },
   {
    "duration": 112,
    "start_time": "2024-11-16T05:01:12.886Z"
   },
   {
    "duration": 91,
    "start_time": "2024-11-16T05:01:13.000Z"
   },
   {
    "duration": 27,
    "start_time": "2024-11-16T05:01:13.093Z"
   },
   {
    "duration": 16,
    "start_time": "2024-11-16T05:01:13.122Z"
   },
   {
    "duration": 9,
    "start_time": "2024-11-16T05:01:13.139Z"
   },
   {
    "duration": 53,
    "start_time": "2024-11-16T05:01:13.150Z"
   },
   {
    "duration": 20,
    "start_time": "2024-11-16T05:01:13.204Z"
   },
   {
    "duration": 4,
    "start_time": "2024-11-16T05:01:13.225Z"
   },
   {
    "duration": 3,
    "start_time": "2024-11-16T05:01:13.230Z"
   },
   {
    "duration": 4,
    "start_time": "2024-11-16T05:01:13.235Z"
   },
   {
    "duration": 3,
    "start_time": "2024-11-16T05:01:13.240Z"
   },
   {
    "duration": 822,
    "start_time": "2024-11-16T05:01:13.245Z"
   },
   {
    "duration": 94,
    "start_time": "2024-11-16T05:01:14.068Z"
   },
   {
    "duration": 4,
    "start_time": "2024-11-16T05:01:14.164Z"
   },
   {
    "duration": 19,
    "start_time": "2024-11-16T05:01:14.170Z"
   },
   {
    "duration": 5,
    "start_time": "2024-11-16T05:01:14.191Z"
   },
   {
    "duration": 6,
    "start_time": "2024-11-16T05:01:14.197Z"
   },
   {
    "duration": 8,
    "start_time": "2024-11-16T05:01:14.205Z"
   },
   {
    "duration": 6,
    "start_time": "2024-11-16T05:01:14.218Z"
   },
   {
    "duration": 8,
    "start_time": "2024-11-16T05:01:14.225Z"
   },
   {
    "duration": 57,
    "start_time": "2024-11-16T05:01:14.234Z"
   },
   {
    "duration": 29,
    "start_time": "2024-11-16T05:01:14.293Z"
   },
   {
    "duration": 11,
    "start_time": "2024-11-16T05:01:14.324Z"
   },
   {
    "duration": 94,
    "start_time": "2024-11-16T05:01:14.337Z"
   },
   {
    "duration": 101,
    "start_time": "2024-11-16T05:01:14.432Z"
   },
   {
    "duration": 6,
    "start_time": "2024-11-16T05:01:14.535Z"
   },
   {
    "duration": 4,
    "start_time": "2024-11-16T05:01:14.543Z"
   },
   {
    "duration": 270,
    "start_time": "2024-11-16T05:01:14.549Z"
   },
   {
    "duration": 196,
    "start_time": "2024-11-16T05:01:14.821Z"
   },
   {
    "duration": 160,
    "start_time": "2024-11-16T05:01:15.019Z"
   },
   {
    "duration": 7,
    "start_time": "2024-11-16T05:01:15.181Z"
   },
   {
    "duration": 8,
    "start_time": "2024-11-16T05:01:15.190Z"
   },
   {
    "duration": 188,
    "start_time": "2024-11-16T05:01:15.199Z"
   },
   {
    "duration": 251,
    "start_time": "2024-11-16T05:01:15.388Z"
   },
   {
    "duration": 8,
    "start_time": "2024-11-16T05:01:15.641Z"
   },
   {
    "duration": 8,
    "start_time": "2024-11-16T05:01:15.650Z"
   },
   {
    "duration": 29,
    "start_time": "2024-11-16T05:01:15.661Z"
   },
   {
    "duration": 5,
    "start_time": "2024-11-16T05:01:15.692Z"
   },
   {
    "duration": 255,
    "start_time": "2024-11-16T05:01:15.698Z"
   },
   {
    "duration": 245,
    "start_time": "2024-11-16T05:01:15.955Z"
   },
   {
    "duration": 13,
    "start_time": "2024-11-16T05:01:16.202Z"
   },
   {
    "duration": 77,
    "start_time": "2024-11-16T05:01:16.217Z"
   },
   {
    "duration": 61,
    "start_time": "2024-11-16T05:01:16.296Z"
   },
   {
    "duration": 5,
    "start_time": "2024-11-16T05:01:16.359Z"
   },
   {
    "duration": 27,
    "start_time": "2024-11-16T05:01:16.365Z"
   },
   {
    "duration": 110,
    "start_time": "2024-11-16T05:01:16.394Z"
   },
   {
    "duration": 128,
    "start_time": "2024-11-16T05:01:16.506Z"
   },
   {
    "duration": 9,
    "start_time": "2024-11-16T05:01:16.636Z"
   },
   {
    "duration": 2119,
    "start_time": "2024-11-17T01:44:19.295Z"
   },
   {
    "duration": 1004,
    "start_time": "2024-11-17T01:44:21.416Z"
   },
   {
    "duration": 12,
    "start_time": "2024-11-17T01:44:22.422Z"
   },
   {
    "duration": 9,
    "start_time": "2024-11-17T01:44:22.436Z"
   },
   {
    "duration": 27,
    "start_time": "2024-11-17T01:44:22.447Z"
   },
   {
    "duration": 7,
    "start_time": "2024-11-17T01:44:22.476Z"
   },
   {
    "duration": 7,
    "start_time": "2024-11-17T01:44:22.485Z"
   },
   {
    "duration": 227,
    "start_time": "2024-11-17T01:44:22.494Z"
   },
   {
    "duration": 9,
    "start_time": "2024-11-17T01:44:22.723Z"
   },
   {
    "duration": 133,
    "start_time": "2024-11-17T01:44:22.733Z"
   },
   {
    "duration": 89,
    "start_time": "2024-11-17T01:44:22.868Z"
   },
   {
    "duration": 38,
    "start_time": "2024-11-17T01:44:22.959Z"
   },
   {
    "duration": 13,
    "start_time": "2024-11-17T01:44:23.000Z"
   },
   {
    "duration": 3,
    "start_time": "2024-11-17T01:44:23.017Z"
   },
   {
    "duration": 48,
    "start_time": "2024-11-17T01:44:23.022Z"
   },
   {
    "duration": 19,
    "start_time": "2024-11-17T01:44:23.071Z"
   },
   {
    "duration": 4,
    "start_time": "2024-11-17T01:44:23.092Z"
   },
   {
    "duration": 3,
    "start_time": "2024-11-17T01:44:23.097Z"
   },
   {
    "duration": 4,
    "start_time": "2024-11-17T01:44:23.102Z"
   },
   {
    "duration": 3,
    "start_time": "2024-11-17T01:44:23.108Z"
   },
   {
    "duration": 808,
    "start_time": "2024-11-17T01:44:23.113Z"
   },
   {
    "duration": 84,
    "start_time": "2024-11-17T01:44:23.923Z"
   },
   {
    "duration": 5,
    "start_time": "2024-11-17T01:44:24.010Z"
   },
   {
    "duration": 6,
    "start_time": "2024-11-17T01:44:24.016Z"
   },
   {
    "duration": 5,
    "start_time": "2024-11-17T01:44:24.023Z"
   },
   {
    "duration": 6,
    "start_time": "2024-11-17T01:44:24.030Z"
   },
   {
    "duration": 42,
    "start_time": "2024-11-17T01:44:24.037Z"
   },
   {
    "duration": 6,
    "start_time": "2024-11-17T01:44:24.080Z"
   },
   {
    "duration": 6,
    "start_time": "2024-11-17T01:44:24.088Z"
   },
   {
    "duration": 15,
    "start_time": "2024-11-17T01:44:24.096Z"
   },
   {
    "duration": 65,
    "start_time": "2024-11-17T01:44:24.113Z"
   },
   {
    "duration": 11,
    "start_time": "2024-11-17T01:44:24.180Z"
   },
   {
    "duration": 79,
    "start_time": "2024-11-17T01:44:24.192Z"
   },
   {
    "duration": 104,
    "start_time": "2024-11-17T01:44:24.273Z"
   },
   {
    "duration": 6,
    "start_time": "2024-11-17T01:44:24.379Z"
   },
   {
    "duration": 2,
    "start_time": "2024-11-17T01:44:24.387Z"
   },
   {
    "duration": 279,
    "start_time": "2024-11-17T01:44:24.391Z"
   },
   {
    "duration": 201,
    "start_time": "2024-11-17T01:44:24.672Z"
   },
   {
    "duration": 185,
    "start_time": "2024-11-17T01:44:24.877Z"
   },
   {
    "duration": 7,
    "start_time": "2024-11-17T01:44:25.069Z"
   },
   {
    "duration": 6,
    "start_time": "2024-11-17T01:44:25.080Z"
   },
   {
    "duration": 191,
    "start_time": "2024-11-17T01:44:25.088Z"
   },
   {
    "duration": 250,
    "start_time": "2024-11-17T01:44:25.281Z"
   },
   {
    "duration": 8,
    "start_time": "2024-11-17T01:44:25.533Z"
   },
   {
    "duration": 28,
    "start_time": "2024-11-17T01:44:25.543Z"
   },
   {
    "duration": 9,
    "start_time": "2024-11-17T01:44:25.573Z"
   },
   {
    "duration": 5,
    "start_time": "2024-11-17T01:44:25.583Z"
   },
   {
    "duration": 270,
    "start_time": "2024-11-17T01:44:25.590Z"
   },
   {
    "duration": 246,
    "start_time": "2024-11-17T01:44:25.862Z"
   },
   {
    "duration": 13,
    "start_time": "2024-11-17T01:44:26.110Z"
   },
   {
    "duration": 74,
    "start_time": "2024-11-17T01:44:26.125Z"
   },
   {
    "duration": 69,
    "start_time": "2024-11-17T01:44:26.201Z"
   },
   {
    "duration": 6,
    "start_time": "2024-11-17T01:44:26.272Z"
   },
   {
    "duration": 12,
    "start_time": "2024-11-17T01:44:26.279Z"
   },
   {
    "duration": 125,
    "start_time": "2024-11-17T01:44:26.292Z"
   },
   {
    "duration": 139,
    "start_time": "2024-11-17T01:44:26.419Z"
   },
   {
    "duration": 201,
    "start_time": "2024-11-17T01:44:26.559Z"
   },
   {
    "duration": 7,
    "start_time": "2024-11-17T01:44:48.480Z"
   },
   {
    "duration": 183,
    "start_time": "2024-11-17T01:47:20.512Z"
   },
   {
    "duration": 172,
    "start_time": "2024-11-17T01:49:18.804Z"
   },
   {
    "duration": 264,
    "start_time": "2024-11-17T01:59:02.127Z"
   },
   {
    "duration": 951,
    "start_time": "2024-11-17T02:03:57.083Z"
   },
   {
    "duration": 838,
    "start_time": "2024-11-17T02:06:59.170Z"
   },
   {
    "duration": 136,
    "start_time": "2024-11-17T02:07:00.882Z"
   },
   {
    "duration": 78,
    "start_time": "2024-11-17T02:39:43.343Z"
   },
   {
    "duration": 26,
    "start_time": "2024-11-17T02:39:51.419Z"
   },
   {
    "duration": 10,
    "start_time": "2024-11-17T02:39:52.534Z"
   },
   {
    "duration": 15,
    "start_time": "2024-11-17T02:39:53.333Z"
   },
   {
    "duration": 17,
    "start_time": "2024-11-17T02:41:26.428Z"
   },
   {
    "duration": 35,
    "start_time": "2024-11-17T02:41:51.674Z"
   },
   {
    "duration": 436,
    "start_time": "2024-11-17T02:42:03.077Z"
   },
   {
    "duration": 935,
    "start_time": "2024-11-17T02:42:03.515Z"
   },
   {
    "duration": 18,
    "start_time": "2024-11-17T02:42:04.452Z"
   },
   {
    "duration": 10,
    "start_time": "2024-11-17T02:42:04.472Z"
   },
   {
    "duration": 8,
    "start_time": "2024-11-17T02:42:04.484Z"
   },
   {
    "duration": 8,
    "start_time": "2024-11-17T02:42:04.494Z"
   },
   {
    "duration": 7,
    "start_time": "2024-11-17T02:42:04.503Z"
   },
   {
    "duration": 234,
    "start_time": "2024-11-17T02:42:04.511Z"
   },
   {
    "duration": 8,
    "start_time": "2024-11-17T02:42:04.747Z"
   },
   {
    "duration": 111,
    "start_time": "2024-11-17T02:42:04.770Z"
   },
   {
    "duration": 97,
    "start_time": "2024-11-17T02:42:04.882Z"
   },
   {
    "duration": 29,
    "start_time": "2024-11-17T02:42:04.981Z"
   },
   {
    "duration": 11,
    "start_time": "2024-11-17T02:42:05.012Z"
   },
   {
    "duration": 3,
    "start_time": "2024-11-17T02:42:05.027Z"
   },
   {
    "duration": 51,
    "start_time": "2024-11-17T02:42:05.032Z"
   },
   {
    "duration": 19,
    "start_time": "2024-11-17T02:42:05.085Z"
   },
   {
    "duration": 4,
    "start_time": "2024-11-17T02:42:05.106Z"
   },
   {
    "duration": 4,
    "start_time": "2024-11-17T02:42:05.111Z"
   },
   {
    "duration": 4,
    "start_time": "2024-11-17T02:42:05.117Z"
   },
   {
    "duration": 3,
    "start_time": "2024-11-17T02:42:05.123Z"
   },
   {
    "duration": 765,
    "start_time": "2024-11-17T02:42:05.170Z"
   },
   {
    "duration": 82,
    "start_time": "2024-11-17T02:42:05.937Z"
   },
   {
    "duration": 5,
    "start_time": "2024-11-17T02:42:06.021Z"
   },
   {
    "duration": 7,
    "start_time": "2024-11-17T02:42:06.027Z"
   },
   {
    "duration": 5,
    "start_time": "2024-11-17T02:42:06.036Z"
   },
   {
    "duration": 32,
    "start_time": "2024-11-17T02:42:06.042Z"
   },
   {
    "duration": 9,
    "start_time": "2024-11-17T02:42:06.075Z"
   },
   {
    "duration": 5,
    "start_time": "2024-11-17T02:42:06.086Z"
   },
   {
    "duration": 6,
    "start_time": "2024-11-17T02:42:06.093Z"
   },
   {
    "duration": 15,
    "start_time": "2024-11-17T02:42:06.101Z"
   },
   {
    "duration": 70,
    "start_time": "2024-11-17T02:42:06.118Z"
   },
   {
    "duration": 11,
    "start_time": "2024-11-17T02:42:06.190Z"
   },
   {
    "duration": 79,
    "start_time": "2024-11-17T02:42:06.202Z"
   },
   {
    "duration": 120,
    "start_time": "2024-11-17T02:42:06.283Z"
   },
   {
    "duration": 9,
    "start_time": "2024-11-17T02:42:06.405Z"
   },
   {
    "duration": 5,
    "start_time": "2024-11-17T02:42:06.417Z"
   },
   {
    "duration": 279,
    "start_time": "2024-11-17T02:42:06.426Z"
   },
   {
    "duration": 199,
    "start_time": "2024-11-17T02:42:06.707Z"
   },
   {
    "duration": 165,
    "start_time": "2024-11-17T02:42:06.908Z"
   },
   {
    "duration": 8,
    "start_time": "2024-11-17T02:42:07.076Z"
   },
   {
    "duration": 6,
    "start_time": "2024-11-17T02:42:07.090Z"
   },
   {
    "duration": 200,
    "start_time": "2024-11-17T02:42:07.097Z"
   },
   {
    "duration": 264,
    "start_time": "2024-11-17T02:42:07.299Z"
   },
   {
    "duration": 9,
    "start_time": "2024-11-17T02:42:07.570Z"
   },
   {
    "duration": 7,
    "start_time": "2024-11-17T02:42:07.581Z"
   },
   {
    "duration": 9,
    "start_time": "2024-11-17T02:42:07.589Z"
   },
   {
    "duration": 5,
    "start_time": "2024-11-17T02:42:07.599Z"
   },
   {
    "duration": 284,
    "start_time": "2024-11-17T02:42:07.606Z"
   },
   {
    "duration": 243,
    "start_time": "2024-11-17T02:42:07.892Z"
   },
   {
    "duration": 13,
    "start_time": "2024-11-17T02:42:08.136Z"
   },
   {
    "duration": 72,
    "start_time": "2024-11-17T02:42:08.151Z"
   },
   {
    "duration": 73,
    "start_time": "2024-11-17T02:42:08.224Z"
   },
   {
    "duration": 6,
    "start_time": "2024-11-17T02:42:08.299Z"
   },
   {
    "duration": 11,
    "start_time": "2024-11-17T02:42:08.307Z"
   },
   {
    "duration": 122,
    "start_time": "2024-11-17T02:42:08.319Z"
   },
   {
    "duration": 130,
    "start_time": "2024-11-17T02:42:08.443Z"
   },
   {
    "duration": 122,
    "start_time": "2024-11-17T02:42:08.574Z"
   },
   {
    "duration": 877,
    "start_time": "2024-11-17T02:42:08.698Z"
   },
   {
    "duration": 141,
    "start_time": "2024-11-17T02:42:09.577Z"
   },
   {
    "duration": 22,
    "start_time": "2024-11-17T02:42:09.721Z"
   },
   {
    "duration": 29,
    "start_time": "2024-11-17T02:42:09.744Z"
   },
   {
    "duration": 17,
    "start_time": "2024-11-17T02:42:09.775Z"
   },
   {
    "duration": 164,
    "start_time": "2024-11-17T02:42:38.194Z"
   },
   {
    "duration": 428,
    "start_time": "2024-11-17T02:42:53.116Z"
   },
   {
    "duration": 908,
    "start_time": "2024-11-17T02:42:53.545Z"
   },
   {
    "duration": 20,
    "start_time": "2024-11-17T02:42:54.455Z"
   },
   {
    "duration": 11,
    "start_time": "2024-11-17T02:42:54.477Z"
   },
   {
    "duration": 7,
    "start_time": "2024-11-17T02:42:54.490Z"
   },
   {
    "duration": 7,
    "start_time": "2024-11-17T02:42:54.499Z"
   },
   {
    "duration": 6,
    "start_time": "2024-11-17T02:42:54.508Z"
   },
   {
    "duration": 228,
    "start_time": "2024-11-17T02:42:54.516Z"
   },
   {
    "duration": 24,
    "start_time": "2024-11-17T02:42:54.746Z"
   },
   {
    "duration": 109,
    "start_time": "2024-11-17T02:42:54.773Z"
   },
   {
    "duration": 99,
    "start_time": "2024-11-17T02:42:54.884Z"
   },
   {
    "duration": 32,
    "start_time": "2024-11-17T02:42:54.985Z"
   },
   {
    "duration": 15,
    "start_time": "2024-11-17T02:42:55.020Z"
   },
   {
    "duration": 4,
    "start_time": "2024-11-17T02:42:55.037Z"
   },
   {
    "duration": 21,
    "start_time": "2024-11-17T02:42:55.069Z"
   },
   {
    "duration": 19,
    "start_time": "2024-11-17T02:42:55.091Z"
   },
   {
    "duration": 3,
    "start_time": "2024-11-17T02:42:55.112Z"
   },
   {
    "duration": 3,
    "start_time": "2024-11-17T02:42:55.117Z"
   },
   {
    "duration": 4,
    "start_time": "2024-11-17T02:42:55.122Z"
   },
   {
    "duration": 3,
    "start_time": "2024-11-17T02:42:55.128Z"
   },
   {
    "duration": 766,
    "start_time": "2024-11-17T02:42:55.170Z"
   },
   {
    "duration": 83,
    "start_time": "2024-11-17T02:42:55.940Z"
   },
   {
    "duration": 5,
    "start_time": "2024-11-17T02:42:56.024Z"
   },
   {
    "duration": 6,
    "start_time": "2024-11-17T02:42:56.031Z"
   },
   {
    "duration": 5,
    "start_time": "2024-11-17T02:42:56.039Z"
   },
   {
    "duration": 7,
    "start_time": "2024-11-17T02:42:56.070Z"
   },
   {
    "duration": 11,
    "start_time": "2024-11-17T02:42:56.079Z"
   },
   {
    "duration": 6,
    "start_time": "2024-11-17T02:42:56.094Z"
   },
   {
    "duration": 7,
    "start_time": "2024-11-17T02:42:56.102Z"
   },
   {
    "duration": 15,
    "start_time": "2024-11-17T02:42:56.111Z"
   },
   {
    "duration": 68,
    "start_time": "2024-11-17T02:42:56.128Z"
   },
   {
    "duration": 12,
    "start_time": "2024-11-17T02:42:56.199Z"
   },
   {
    "duration": 83,
    "start_time": "2024-11-17T02:42:56.212Z"
   },
   {
    "duration": 104,
    "start_time": "2024-11-17T02:42:56.296Z"
   },
   {
    "duration": 5,
    "start_time": "2024-11-17T02:42:56.402Z"
   },
   {
    "duration": 3,
    "start_time": "2024-11-17T02:42:56.409Z"
   },
   {
    "duration": 302,
    "start_time": "2024-11-17T02:42:56.414Z"
   },
   {
    "duration": 210,
    "start_time": "2024-11-17T02:42:56.718Z"
   },
   {
    "duration": 163,
    "start_time": "2024-11-17T02:42:56.930Z"
   },
   {
    "duration": 8,
    "start_time": "2024-11-17T02:42:57.096Z"
   },
   {
    "duration": 8,
    "start_time": "2024-11-17T02:42:57.106Z"
   },
   {
    "duration": 205,
    "start_time": "2024-11-17T02:42:57.116Z"
   },
   {
    "duration": 252,
    "start_time": "2024-11-17T02:42:57.322Z"
   },
   {
    "duration": 9,
    "start_time": "2024-11-17T02:42:57.575Z"
   },
   {
    "duration": 7,
    "start_time": "2024-11-17T02:42:57.586Z"
   },
   {
    "duration": 9,
    "start_time": "2024-11-17T02:42:57.594Z"
   },
   {
    "duration": 4,
    "start_time": "2024-11-17T02:42:57.604Z"
   },
   {
    "duration": 289,
    "start_time": "2024-11-17T02:42:57.610Z"
   },
   {
    "duration": 249,
    "start_time": "2024-11-17T02:42:57.901Z"
   },
   {
    "duration": 22,
    "start_time": "2024-11-17T02:42:58.153Z"
   },
   {
    "duration": 57,
    "start_time": "2024-11-17T02:42:58.177Z"
   },
   {
    "duration": 77,
    "start_time": "2024-11-17T02:42:58.236Z"
   },
   {
    "duration": 6,
    "start_time": "2024-11-17T02:42:58.315Z"
   },
   {
    "duration": 12,
    "start_time": "2024-11-17T02:42:58.322Z"
   },
   {
    "duration": 123,
    "start_time": "2024-11-17T02:42:58.336Z"
   },
   {
    "duration": 130,
    "start_time": "2024-11-17T02:42:58.461Z"
   },
   {
    "duration": 123,
    "start_time": "2024-11-17T02:42:58.592Z"
   },
   {
    "duration": 834,
    "start_time": "2024-11-17T02:42:58.717Z"
   },
   {
    "duration": 142,
    "start_time": "2024-11-17T02:42:59.553Z"
   },
   {
    "duration": 22,
    "start_time": "2024-11-17T02:42:59.698Z"
   },
   {
    "duration": 9,
    "start_time": "2024-11-17T02:42:59.723Z"
   },
   {
    "duration": 43,
    "start_time": "2024-11-17T02:42:59.734Z"
   },
   {
    "duration": 412,
    "start_time": "2024-11-17T04:02:52.348Z"
   },
   {
    "duration": 908,
    "start_time": "2024-11-17T04:02:52.762Z"
   },
   {
    "duration": 11,
    "start_time": "2024-11-17T04:02:53.674Z"
   },
   {
    "duration": 9,
    "start_time": "2024-11-17T04:02:53.687Z"
   },
   {
    "duration": 9,
    "start_time": "2024-11-17T04:02:53.699Z"
   },
   {
    "duration": 8,
    "start_time": "2024-11-17T04:02:53.710Z"
   },
   {
    "duration": 7,
    "start_time": "2024-11-17T04:02:53.720Z"
   },
   {
    "duration": 252,
    "start_time": "2024-11-17T04:02:53.729Z"
   },
   {
    "duration": 9,
    "start_time": "2024-11-17T04:02:53.983Z"
   },
   {
    "duration": 125,
    "start_time": "2024-11-17T04:02:53.994Z"
   },
   {
    "duration": 104,
    "start_time": "2024-11-17T04:02:54.120Z"
   },
   {
    "duration": 31,
    "start_time": "2024-11-17T04:02:54.226Z"
   },
   {
    "duration": 13,
    "start_time": "2024-11-17T04:02:54.270Z"
   },
   {
    "duration": 4,
    "start_time": "2024-11-17T04:02:54.286Z"
   },
   {
    "duration": 22,
    "start_time": "2024-11-17T04:02:54.291Z"
   },
   {
    "duration": 19,
    "start_time": "2024-11-17T04:02:54.315Z"
   },
   {
    "duration": 35,
    "start_time": "2024-11-17T04:02:54.336Z"
   },
   {
    "duration": 4,
    "start_time": "2024-11-17T04:02:54.373Z"
   },
   {
    "duration": 4,
    "start_time": "2024-11-17T04:02:54.378Z"
   },
   {
    "duration": 3,
    "start_time": "2024-11-17T04:02:54.384Z"
   },
   {
    "duration": 809,
    "start_time": "2024-11-17T04:02:54.388Z"
   },
   {
    "duration": 101,
    "start_time": "2024-11-17T04:02:55.199Z"
   },
   {
    "duration": 5,
    "start_time": "2024-11-17T04:02:55.302Z"
   },
   {
    "duration": 5,
    "start_time": "2024-11-17T04:02:55.309Z"
   },
   {
    "duration": 6,
    "start_time": "2024-11-17T04:02:55.316Z"
   },
   {
    "duration": 6,
    "start_time": "2024-11-17T04:02:55.324Z"
   },
   {
    "duration": 47,
    "start_time": "2024-11-17T04:02:55.332Z"
   },
   {
    "duration": 6,
    "start_time": "2024-11-17T04:02:55.381Z"
   },
   {
    "duration": 6,
    "start_time": "2024-11-17T04:02:55.389Z"
   },
   {
    "duration": 15,
    "start_time": "2024-11-17T04:02:55.397Z"
   },
   {
    "duration": 62,
    "start_time": "2024-11-17T04:02:55.414Z"
   },
   {
    "duration": 10,
    "start_time": "2024-11-17T04:02:55.478Z"
   },
   {
    "duration": 80,
    "start_time": "2024-11-17T04:02:55.490Z"
   },
   {
    "duration": 102,
    "start_time": "2024-11-17T04:02:55.572Z"
   },
   {
    "duration": 6,
    "start_time": "2024-11-17T04:02:55.676Z"
   },
   {
    "duration": 3,
    "start_time": "2024-11-17T04:02:55.683Z"
   },
   {
    "duration": 273,
    "start_time": "2024-11-17T04:02:55.687Z"
   },
   {
    "duration": 201,
    "start_time": "2024-11-17T04:02:55.970Z"
   },
   {
    "duration": 158,
    "start_time": "2024-11-17T04:02:56.172Z"
   },
   {
    "duration": 9,
    "start_time": "2024-11-17T04:02:56.334Z"
   },
   {
    "duration": 21,
    "start_time": "2024-11-17T04:02:56.349Z"
   },
   {
    "duration": 174,
    "start_time": "2024-11-17T04:02:56.372Z"
   },
   {
    "duration": 245,
    "start_time": "2024-11-17T04:02:56.547Z"
   },
   {
    "duration": 8,
    "start_time": "2024-11-17T04:02:56.794Z"
   },
   {
    "duration": 7,
    "start_time": "2024-11-17T04:02:56.803Z"
   },
   {
    "duration": 9,
    "start_time": "2024-11-17T04:02:56.812Z"
   },
   {
    "duration": 5,
    "start_time": "2024-11-17T04:02:56.822Z"
   },
   {
    "duration": 311,
    "start_time": "2024-11-17T04:02:56.828Z"
   },
   {
    "duration": 254,
    "start_time": "2024-11-17T04:02:57.140Z"
   },
   {
    "duration": 13,
    "start_time": "2024-11-17T04:02:57.396Z"
   },
   {
    "duration": 80,
    "start_time": "2024-11-17T04:02:57.412Z"
   },
   {
    "duration": 63,
    "start_time": "2024-11-17T04:02:57.494Z"
   },
   {
    "duration": 14,
    "start_time": "2024-11-17T04:02:57.558Z"
   },
   {
    "duration": 11,
    "start_time": "2024-11-17T04:02:57.573Z"
   },
   {
    "duration": 116,
    "start_time": "2024-11-17T04:02:57.586Z"
   },
   {
    "duration": 130,
    "start_time": "2024-11-17T04:02:57.704Z"
   },
   {
    "duration": 126,
    "start_time": "2024-11-17T04:02:57.836Z"
   },
   {
    "duration": 863,
    "start_time": "2024-11-17T04:02:57.963Z"
   },
   {
    "duration": 148,
    "start_time": "2024-11-17T04:02:58.828Z"
   },
   {
    "duration": 22,
    "start_time": "2024-11-17T04:02:58.978Z"
   },
   {
    "duration": 10,
    "start_time": "2024-11-17T04:02:59.002Z"
   },
   {
    "duration": 17,
    "start_time": "2024-11-17T04:02:59.013Z"
   },
   {
    "duration": 107,
    "start_time": "2024-11-17T04:02:59.032Z"
   },
   {
    "duration": 8,
    "start_time": "2024-11-17T04:04:34.947Z"
   },
   {
    "duration": 451,
    "start_time": "2024-11-17T04:05:09.271Z"
   },
   {
    "duration": 918,
    "start_time": "2024-11-17T04:05:09.726Z"
   },
   {
    "duration": 11,
    "start_time": "2024-11-17T04:05:10.646Z"
   },
   {
    "duration": 11,
    "start_time": "2024-11-17T04:05:10.669Z"
   },
   {
    "duration": 8,
    "start_time": "2024-11-17T04:05:10.681Z"
   },
   {
    "duration": 8,
    "start_time": "2024-11-17T04:05:10.690Z"
   },
   {
    "duration": 6,
    "start_time": "2024-11-17T04:05:10.700Z"
   },
   {
    "duration": 244,
    "start_time": "2024-11-17T04:05:10.708Z"
   },
   {
    "duration": 19,
    "start_time": "2024-11-17T04:05:10.954Z"
   },
   {
    "duration": 121,
    "start_time": "2024-11-17T04:05:10.977Z"
   },
   {
    "duration": 105,
    "start_time": "2024-11-17T04:05:11.100Z"
   },
   {
    "duration": 30,
    "start_time": "2024-11-17T04:05:11.207Z"
   },
   {
    "duration": 13,
    "start_time": "2024-11-17T04:05:11.240Z"
   },
   {
    "duration": 4,
    "start_time": "2024-11-17T04:05:11.270Z"
   },
   {
    "duration": 23,
    "start_time": "2024-11-17T04:05:11.276Z"
   },
   {
    "duration": 20,
    "start_time": "2024-11-17T04:05:11.301Z"
   },
   {
    "duration": 3,
    "start_time": "2024-11-17T04:05:11.323Z"
   },
   {
    "duration": 4,
    "start_time": "2024-11-17T04:05:11.328Z"
   },
   {
    "duration": 4,
    "start_time": "2024-11-17T04:05:11.369Z"
   },
   {
    "duration": 4,
    "start_time": "2024-11-17T04:05:11.376Z"
   },
   {
    "duration": 825,
    "start_time": "2024-11-17T04:05:11.382Z"
   },
   {
    "duration": 92,
    "start_time": "2024-11-17T04:05:12.210Z"
   },
   {
    "duration": 5,
    "start_time": "2024-11-17T04:05:12.304Z"
   },
   {
    "duration": 5,
    "start_time": "2024-11-17T04:05:12.311Z"
   },
   {
    "duration": 6,
    "start_time": "2024-11-17T04:05:12.318Z"
   },
   {
    "duration": 9,
    "start_time": "2024-11-17T04:05:12.326Z"
   },
   {
    "duration": 40,
    "start_time": "2024-11-17T04:05:12.338Z"
   },
   {
    "duration": 6,
    "start_time": "2024-11-17T04:05:12.384Z"
   },
   {
    "duration": 7,
    "start_time": "2024-11-17T04:05:12.392Z"
   },
   {
    "duration": 15,
    "start_time": "2024-11-17T04:05:12.400Z"
   },
   {
    "duration": 66,
    "start_time": "2024-11-17T04:05:12.417Z"
   },
   {
    "duration": 11,
    "start_time": "2024-11-17T04:05:12.485Z"
   },
   {
    "duration": 80,
    "start_time": "2024-11-17T04:05:12.498Z"
   },
   {
    "duration": 104,
    "start_time": "2024-11-17T04:05:12.580Z"
   },
   {
    "duration": 7,
    "start_time": "2024-11-17T04:05:12.686Z"
   },
   {
    "duration": 3,
    "start_time": "2024-11-17T04:05:12.694Z"
   },
   {
    "duration": 277,
    "start_time": "2024-11-17T04:05:12.699Z"
   },
   {
    "duration": 198,
    "start_time": "2024-11-17T04:05:12.978Z"
   },
   {
    "duration": 164,
    "start_time": "2024-11-17T04:05:13.178Z"
   },
   {
    "duration": 8,
    "start_time": "2024-11-17T04:05:13.343Z"
   },
   {
    "duration": 22,
    "start_time": "2024-11-17T04:05:13.352Z"
   },
   {
    "duration": 172,
    "start_time": "2024-11-17T04:05:13.376Z"
   },
   {
    "duration": 263,
    "start_time": "2024-11-17T04:05:13.550Z"
   },
   {
    "duration": 8,
    "start_time": "2024-11-17T04:05:13.815Z"
   },
   {
    "duration": 6,
    "start_time": "2024-11-17T04:05:13.825Z"
   },
   {
    "duration": 10,
    "start_time": "2024-11-17T04:05:13.833Z"
   },
   {
    "duration": 28,
    "start_time": "2024-11-17T04:05:13.845Z"
   },
   {
    "duration": 272,
    "start_time": "2024-11-17T04:05:13.874Z"
   },
   {
    "duration": 251,
    "start_time": "2024-11-17T04:05:14.148Z"
   },
   {
    "duration": 12,
    "start_time": "2024-11-17T04:05:14.401Z"
   },
   {
    "duration": 73,
    "start_time": "2024-11-17T04:05:14.415Z"
   },
   {
    "duration": 60,
    "start_time": "2024-11-17T04:05:14.490Z"
   },
   {
    "duration": 18,
    "start_time": "2024-11-17T04:05:14.552Z"
   },
   {
    "duration": 12,
    "start_time": "2024-11-17T04:05:14.571Z"
   },
   {
    "duration": 118,
    "start_time": "2024-11-17T04:05:14.585Z"
   },
   {
    "duration": 132,
    "start_time": "2024-11-17T04:05:14.705Z"
   },
   {
    "duration": 123,
    "start_time": "2024-11-17T04:05:14.839Z"
   },
   {
    "duration": 862,
    "start_time": "2024-11-17T04:05:14.964Z"
   },
   {
    "duration": 143,
    "start_time": "2024-11-17T04:05:15.828Z"
   },
   {
    "duration": 22,
    "start_time": "2024-11-17T04:05:15.973Z"
   },
   {
    "duration": 10,
    "start_time": "2024-11-17T04:05:15.997Z"
   },
   {
    "duration": 19,
    "start_time": "2024-11-17T04:05:16.008Z"
   }
  ],
  "colab": {
   "provenance": []
  },
  "kernelspec": {
   "display_name": "Python 3 (ipykernel)",
   "language": "python",
   "name": "python3"
  },
  "language_info": {
   "codemirror_mode": {
    "name": "ipython",
    "version": 3
   },
   "file_extension": ".py",
   "mimetype": "text/x-python",
   "name": "python",
   "nbconvert_exporter": "python",
   "pygments_lexer": "ipython3",
   "version": "3.9.19"
  },
  "toc": {
   "base_numbering": 1,
   "nav_menu": {},
   "number_sections": true,
   "sideBar": true,
   "skip_h1_title": true,
   "title_cell": "Table of Contents",
   "title_sidebar": "Contents",
   "toc_cell": false,
   "toc_position": {
    "height": "calc(100% - 180px)",
    "left": "10px",
    "top": "150px",
    "width": "177.731px"
   },
   "toc_section_display": true,
   "toc_window_display": true
  },
  "vscode": {
   "interpreter": {
    "hash": "01a7be9ec63e704a62cefc5fe7a4756944464ee731be31632bdf42a4cb4688cf"
   }
  }
 },
 "nbformat": 4,
 "nbformat_minor": 5
}
