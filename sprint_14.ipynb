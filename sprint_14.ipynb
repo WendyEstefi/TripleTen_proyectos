{
 "cells": [
  {
   "cell_type": "markdown",
   "metadata": {},
   "source": [
    "# Proyecto Final: Telecomunicaciones: identificar operadores ineficaces"
   ]
  },
  {
   "cell_type": "markdown",
   "metadata": {},
   "source": [
    "El servicio de telefonía virtual CallMeMaybe está desarrollando una nueva función que brindará a los supervisores y las supervisores información sobre los operadores menos eficaces. Se considera que un operador es ineficaz si tiene una gran cantidad de llamadas entrantes perdidas (internas y externas) y un tiempo de espera prolongado para las llamadas entrantes. Además, si se supone que un operador debe realizar llamadas salientes, un número reducido de ellas también será un signo de ineficacia."
   ]
  },
  {
   "cell_type": "markdown",
   "metadata": {},
   "source": [
    "### Descripción de los datos\n",
    "\n",
    "Los datasets contienen información sobre el uso del servicio de telefonía virtual CallMeMaybe. Sus clientes son organizaciones que necesitan distribuir gran cantidad de llamadas entrantes entre varios operadores, o realizar llamadas salientes a través de sus operadores. Los operadores también pueden realizar llamadas internas para comunicarse entre ellos. Estas llamadas se realizan a través de la red de CallMeMaybe.\n",
    "\n",
    "El dataset comprimido `telecom_dataset_us.csv` contiene las siguientes columnas:\n",
    "\n",
    "- `user_id`: ID de la cuenta de cliente\n",
    "- `date`: fecha en la que se recuperaron las estadísticas\n",
    "- `direction`: \"dirección\" de llamada (`out` para saliente, `in` para entrante)\n",
    "- `internal`: si la llamada fue interna (entre los operadores de un cliente o clienta)\n",
    "- `operator_id`: identificador del operador\n",
    "- `is_missed_call`: si fue una llamada perdida\n",
    "- `calls_count`: número de llamadas\n",
    "- `call_duration`: duración de la llamada (sin incluir el tiempo de espera)\n",
    "- `total_call_duration`: duración de la llamada (incluido el tiempo de espera)\n",
    "\n",
    " \n",
    "\n",
    "El conjunto de datos `telecom_clients_us.csv` tiene las siguientes columnas:\n",
    "\n",
    "- `user_id`: ID de usuario/a\n",
    "- `tariff_plan`: tarifa actual de la clientela\n",
    "- `date_start`: fecha de registro de la clientela"
   ]
  },
  {
   "cell_type": "markdown",
   "metadata": {},
   "source": [
    "## 1. Importación y comprensión de los datos\n",
    "- Cargar los datasets `telecom_dataset_us.csv` y `telecom_clients_us.csv`.\n",
    "- Visualizar las primeras filas.\n",
    "- Verificar tamaños de los datasets.\n",
    "- Revisar tipos de datos y valores nulos.\n",
    "\n"
   ]
  },
  {
   "cell_type": "markdown",
   "metadata": {},
   "source": [
    "### 1.1 Cargar las librerias necesarias."
   ]
  },
  {
   "cell_type": "code",
   "execution_count": 226,
   "metadata": {},
   "outputs": [],
   "source": [
    "# Se cargan todas las librerías que se puedan usar:\n",
    "import pandas as pd\n",
    "import numpy as np\n",
    "import math as mt\n",
    "from scipy.spatial.distance import mahalanobis\n",
    "from scipy.stats import shapiro  # Importar Shapiro-Wilk\n",
    "import scipy.stats as st\n",
    "from scipy.stats import chi2\n",
    "from scipy.stats import chi2_contingency\n",
    "import matplotlib.pyplot as plt\n",
    "import seaborn as sns\n",
    "\n",
    "from sklearn.preprocessing import StandardScaler\n",
    "from sklearn.model_selection import train_test_split\n",
    "from sklearn.model_selection import GridSearchCV\n",
    "from sklearn.linear_model import LogisticRegression\n",
    "from sklearn.ensemble import RandomForestClassifier\n",
    "from sklearn.cluster import KMeans\n",
    "\n",
    "from sklearn.metrics import accuracy_score, precision_score, recall_score, f1_score\n",
    "from sklearn.metrics import roc_auc_score\n",
    "from sklearn.metrics import davies_bouldin_score\n",
    "from sklearn.metrics import mean_absolute_error, mean_squared_error, r2_score\n",
    "\n",
    "from scipy.spatial.distance import pdist\n",
    "from scipy.cluster.hierarchy import linkage\n",
    "from scipy.cluster.hierarchy import dendrogram"
   ]
  },
  {
   "cell_type": "markdown",
   "metadata": {},
   "source": [
    "### 1.2 Cargar los datasets `telecom_dataset_us.csv` y `telecom_clients_us.csv`."
   ]
  },
  {
   "cell_type": "code",
   "execution_count": 227,
   "metadata": {},
   "outputs": [],
   "source": [
    "# Se cargan los datos empleando la librería pandas:\n",
    "\n",
    "# Se carga la información de las llamadas:\n",
    "data = pd.read_csv('telecom_dataset_us.csv')\n",
    "\n",
    "# Se carga la información de los clientes:\n",
    "clients = pd.read_csv('telecom_clients_us.csv')"
   ]
  },
  {
   "cell_type": "markdown",
   "metadata": {},
   "source": [
    "### 1.3 Visualizar las primeras filas."
   ]
  },
  {
   "cell_type": "code",
   "execution_count": 228,
   "metadata": {},
   "outputs": [
    {
     "data": {
      "text/html": [
       "<div>\n",
       "<style scoped>\n",
       "    .dataframe tbody tr th:only-of-type {\n",
       "        vertical-align: middle;\n",
       "    }\n",
       "\n",
       "    .dataframe tbody tr th {\n",
       "        vertical-align: top;\n",
       "    }\n",
       "\n",
       "    .dataframe thead th {\n",
       "        text-align: right;\n",
       "    }\n",
       "</style>\n",
       "<table border=\"1\" class=\"dataframe\">\n",
       "  <thead>\n",
       "    <tr style=\"text-align: right;\">\n",
       "      <th></th>\n",
       "      <th>user_id</th>\n",
       "      <th>date</th>\n",
       "      <th>direction</th>\n",
       "      <th>internal</th>\n",
       "      <th>operator_id</th>\n",
       "      <th>is_missed_call</th>\n",
       "      <th>calls_count</th>\n",
       "      <th>call_duration</th>\n",
       "      <th>total_call_duration</th>\n",
       "    </tr>\n",
       "  </thead>\n",
       "  <tbody>\n",
       "    <tr>\n",
       "      <th>0</th>\n",
       "      <td>166377</td>\n",
       "      <td>2019-08-04 00:00:00+03:00</td>\n",
       "      <td>in</td>\n",
       "      <td>False</td>\n",
       "      <td>NaN</td>\n",
       "      <td>True</td>\n",
       "      <td>2</td>\n",
       "      <td>0</td>\n",
       "      <td>4</td>\n",
       "    </tr>\n",
       "    <tr>\n",
       "      <th>1</th>\n",
       "      <td>166377</td>\n",
       "      <td>2019-08-05 00:00:00+03:00</td>\n",
       "      <td>out</td>\n",
       "      <td>True</td>\n",
       "      <td>880022.0</td>\n",
       "      <td>True</td>\n",
       "      <td>3</td>\n",
       "      <td>0</td>\n",
       "      <td>5</td>\n",
       "    </tr>\n",
       "    <tr>\n",
       "      <th>2</th>\n",
       "      <td>166377</td>\n",
       "      <td>2019-08-05 00:00:00+03:00</td>\n",
       "      <td>out</td>\n",
       "      <td>True</td>\n",
       "      <td>880020.0</td>\n",
       "      <td>True</td>\n",
       "      <td>1</td>\n",
       "      <td>0</td>\n",
       "      <td>1</td>\n",
       "    </tr>\n",
       "    <tr>\n",
       "      <th>3</th>\n",
       "      <td>166377</td>\n",
       "      <td>2019-08-05 00:00:00+03:00</td>\n",
       "      <td>out</td>\n",
       "      <td>True</td>\n",
       "      <td>880020.0</td>\n",
       "      <td>False</td>\n",
       "      <td>1</td>\n",
       "      <td>10</td>\n",
       "      <td>18</td>\n",
       "    </tr>\n",
       "    <tr>\n",
       "      <th>4</th>\n",
       "      <td>166377</td>\n",
       "      <td>2019-08-05 00:00:00+03:00</td>\n",
       "      <td>out</td>\n",
       "      <td>False</td>\n",
       "      <td>880022.0</td>\n",
       "      <td>True</td>\n",
       "      <td>3</td>\n",
       "      <td>0</td>\n",
       "      <td>25</td>\n",
       "    </tr>\n",
       "  </tbody>\n",
       "</table>\n",
       "</div>"
      ],
      "text/plain": [
       "   user_id                       date direction internal  operator_id  \\\n",
       "0   166377  2019-08-04 00:00:00+03:00        in    False          NaN   \n",
       "1   166377  2019-08-05 00:00:00+03:00       out     True     880022.0   \n",
       "2   166377  2019-08-05 00:00:00+03:00       out     True     880020.0   \n",
       "3   166377  2019-08-05 00:00:00+03:00       out     True     880020.0   \n",
       "4   166377  2019-08-05 00:00:00+03:00       out    False     880022.0   \n",
       "\n",
       "   is_missed_call  calls_count  call_duration  total_call_duration  \n",
       "0            True            2              0                    4  \n",
       "1            True            3              0                    5  \n",
       "2            True            1              0                    1  \n",
       "3           False            1             10                   18  \n",
       "4            True            3              0                   25  "
      ]
     },
     "execution_count": 228,
     "metadata": {},
     "output_type": "execute_result"
    }
   ],
   "source": [
    "data.head()"
   ]
  },
  {
   "cell_type": "code",
   "execution_count": 229,
   "metadata": {},
   "outputs": [
    {
     "data": {
      "text/html": [
       "<div>\n",
       "<style scoped>\n",
       "    .dataframe tbody tr th:only-of-type {\n",
       "        vertical-align: middle;\n",
       "    }\n",
       "\n",
       "    .dataframe tbody tr th {\n",
       "        vertical-align: top;\n",
       "    }\n",
       "\n",
       "    .dataframe thead th {\n",
       "        text-align: right;\n",
       "    }\n",
       "</style>\n",
       "<table border=\"1\" class=\"dataframe\">\n",
       "  <thead>\n",
       "    <tr style=\"text-align: right;\">\n",
       "      <th></th>\n",
       "      <th>user_id</th>\n",
       "      <th>tariff_plan</th>\n",
       "      <th>date_start</th>\n",
       "    </tr>\n",
       "  </thead>\n",
       "  <tbody>\n",
       "    <tr>\n",
       "      <th>0</th>\n",
       "      <td>166713</td>\n",
       "      <td>A</td>\n",
       "      <td>2019-08-15</td>\n",
       "    </tr>\n",
       "    <tr>\n",
       "      <th>1</th>\n",
       "      <td>166901</td>\n",
       "      <td>A</td>\n",
       "      <td>2019-08-23</td>\n",
       "    </tr>\n",
       "    <tr>\n",
       "      <th>2</th>\n",
       "      <td>168527</td>\n",
       "      <td>A</td>\n",
       "      <td>2019-10-29</td>\n",
       "    </tr>\n",
       "    <tr>\n",
       "      <th>3</th>\n",
       "      <td>167097</td>\n",
       "      <td>A</td>\n",
       "      <td>2019-09-01</td>\n",
       "    </tr>\n",
       "    <tr>\n",
       "      <th>4</th>\n",
       "      <td>168193</td>\n",
       "      <td>A</td>\n",
       "      <td>2019-10-16</td>\n",
       "    </tr>\n",
       "  </tbody>\n",
       "</table>\n",
       "</div>"
      ],
      "text/plain": [
       "   user_id tariff_plan  date_start\n",
       "0   166713           A  2019-08-15\n",
       "1   166901           A  2019-08-23\n",
       "2   168527           A  2019-10-29\n",
       "3   167097           A  2019-09-01\n",
       "4   168193           A  2019-10-16"
      ]
     },
     "execution_count": 229,
     "metadata": {},
     "output_type": "execute_result"
    }
   ],
   "source": [
    "clients.head()"
   ]
  },
  {
   "cell_type": "markdown",
   "metadata": {},
   "source": [
    "Las primeras filas muestran que el dataset data contiene información detallada de llamadas (usuario, fecha, dirección, operador, duración), mientras que clients incluye datos básicos de los clientes (ID, plan tarifario y fecha de inicio). Esto confirma que ambos datasets son complementarios."
   ]
  },
  {
   "cell_type": "markdown",
   "metadata": {},
   "source": [
    "### 1.4 Verificar tamaños de los datasets."
   ]
  },
  {
   "cell_type": "code",
   "execution_count": 230,
   "metadata": {},
   "outputs": [
    {
     "name": "stdout",
     "output_type": "stream",
     "text": [
      "Tamaño de data: (53902, 9)\n",
      "Tamaño de clients: (732, 3)\n"
     ]
    }
   ],
   "source": [
    "print(\"Tamaño de data:\", data.shape)\n",
    "print(\"Tamaño de clients:\", clients.shape)"
   ]
  },
  {
   "cell_type": "markdown",
   "metadata": {},
   "source": [
    "El dataset data contiene 53.902 registros y 9 columnas, lo que refleja un volumen alto de información de llamadas.\n",
    "El dataset clients contiene 732 registros y 3 columnas, lo que indica que la base de clientes es mucho más pequeña que el volumen de llamadas.\n",
    "Esto sugiere que cada cliente puede estar asociado con múltiples llamadas, lo cual es consistente con el comportamiento esperado en un servicio de telecomunicaciones."
   ]
  },
  {
   "cell_type": "markdown",
   "metadata": {},
   "source": [
    "### 1.5 Revisar tipos de datos y valores nulos."
   ]
  },
  {
   "cell_type": "code",
   "execution_count": 231,
   "metadata": {},
   "outputs": [
    {
     "name": "stdout",
     "output_type": "stream",
     "text": [
      "=== Dataset: data (llamadas) ===\n",
      "<class 'pandas.core.frame.DataFrame'>\n",
      "RangeIndex: 53902 entries, 0 to 53901\n",
      "Data columns (total 9 columns):\n",
      " #   Column               Non-Null Count  Dtype  \n",
      "---  ------               --------------  -----  \n",
      " 0   user_id              53902 non-null  int64  \n",
      " 1   date                 53902 non-null  object \n",
      " 2   direction            53902 non-null  object \n",
      " 3   internal             53785 non-null  object \n",
      " 4   operator_id          45730 non-null  float64\n",
      " 5   is_missed_call       53902 non-null  bool   \n",
      " 6   calls_count          53902 non-null  int64  \n",
      " 7   call_duration        53902 non-null  int64  \n",
      " 8   total_call_duration  53902 non-null  int64  \n",
      "dtypes: bool(1), float64(1), int64(4), object(3)\n",
      "memory usage: 3.3+ MB\n",
      "None\n",
      "\n",
      "Valores nulos en data:\n",
      "user_id                   0\n",
      "date                      0\n",
      "direction                 0\n",
      "internal                117\n",
      "operator_id            8172\n",
      "is_missed_call            0\n",
      "calls_count               0\n",
      "call_duration             0\n",
      "total_call_duration       0\n",
      "dtype: int64\n"
     ]
    }
   ],
   "source": [
    "# Revisar tipos de datos y valores nulos en data\n",
    "print(\"=== Dataset: data (llamadas) ===\")\n",
    "print(data.info())\n",
    "print(\"\\nValores nulos en data:\")\n",
    "print(data.isna().sum())"
   ]
  },
  {
   "cell_type": "code",
   "execution_count": 232,
   "metadata": {},
   "outputs": [
    {
     "name": "stdout",
     "output_type": "stream",
     "text": [
      "\n",
      "=== Dataset: clients (clientes) ===\n",
      "<class 'pandas.core.frame.DataFrame'>\n",
      "RangeIndex: 732 entries, 0 to 731\n",
      "Data columns (total 3 columns):\n",
      " #   Column       Non-Null Count  Dtype \n",
      "---  ------       --------------  ----- \n",
      " 0   user_id      732 non-null    int64 \n",
      " 1   tariff_plan  732 non-null    object\n",
      " 2   date_start   732 non-null    object\n",
      "dtypes: int64(1), object(2)\n",
      "memory usage: 17.3+ KB\n",
      "None\n",
      "\n",
      "Valores nulos en clients:\n",
      "user_id        0\n",
      "tariff_plan    0\n",
      "date_start     0\n",
      "dtype: int64\n"
     ]
    }
   ],
   "source": [
    "# Revisar tipos de datos y valores nulos en clients\n",
    "print(\"\\n=== Dataset: clients (clientes) ===\")\n",
    "print(clients.info())\n",
    "print(\"\\nValores nulos en clients:\")\n",
    "print(clients.isna().sum())"
   ]
  },
  {
   "cell_type": "code",
   "execution_count": 233,
   "metadata": {},
   "outputs": [
    {
     "name": "stdout",
     "output_type": "stream",
     "text": [
      "Los nombres de las columnas, son:\n"
     ]
    },
    {
     "data": {
      "text/plain": [
       "Index(['user_id', 'date', 'direction', 'internal', 'operator_id',\n",
       "       'is_missed_call', 'calls_count', 'call_duration',\n",
       "       'total_call_duration'],\n",
       "      dtype='object')"
      ]
     },
     "execution_count": 233,
     "metadata": {},
     "output_type": "execute_result"
    }
   ],
   "source": [
    "# Se observa si hay espacios en blanco al principio o al final de los nombres de las columnas:\n",
    "\n",
    "print('Los nombres de las columnas, son:')\n",
    "data.columns"
   ]
  },
  {
   "cell_type": "code",
   "execution_count": 234,
   "metadata": {},
   "outputs": [
    {
     "name": "stdout",
     "output_type": "stream",
     "text": [
      "Los nombres de las columnas, son:\n"
     ]
    },
    {
     "data": {
      "text/plain": [
       "Index(['user_id', 'tariff_plan', 'date_start'], dtype='object')"
      ]
     },
     "execution_count": 234,
     "metadata": {},
     "output_type": "execute_result"
    }
   ],
   "source": [
    "print('Los nombres de las columnas, son:')\n",
    "clients.columns"
   ]
  },
  {
   "cell_type": "markdown",
   "metadata": {},
   "source": [
    "- En el dataset data (llamadas) los tipos de datos son en general correctos, aunque la columna date debería convertirse a formato datetime.\n",
    "\n",
    "- Se detectan valores nulos en internal (117 registros) y en operator_id (8172 registros), que requerirán tratamiento.\n",
    "\n",
    "- En el dataset clients (clientes) no hay valores nulos y los tipos de datos son adecuados, salvo que date_start también debe convertirse a datetime.\n",
    "\n",
    "- Los nombres de columnas están limpios y sin espacios adicionales."
   ]
  },
  {
   "cell_type": "markdown",
   "metadata": {},
   "source": [
    "## 2. Limpieza de datos\n",
    "- Revisar y convertir las columnas de fecha (`date`, `date_start`) a tipo datetime.\n",
    "- Verificar duplicados y eliminarlos si es necesario.\n",
    "- Manejar valores faltantes o inconsistentes.\n",
    "- Confirmar que los identificadores (`user_id`, `operator_id`) estén en el formato correcto."
   ]
  },
  {
   "cell_type": "markdown",
   "metadata": {},
   "source": [
    "### 2.1 Revisar y convertir las columnas de fecha (date, date_start) a tipo datetime."
   ]
  },
  {
   "cell_type": "code",
   "execution_count": 235,
   "metadata": {},
   "outputs": [],
   "source": [
    "for col in ['date', 'date_start']:\n",
    "    if col in data.columns:\n",
    "        data[col] = pd.to_datetime(data[col], errors='coerce')  # convierte a datetime, pone NaT si hay error\n",
    "\n",
    "for col in ['date', 'date_start']:\n",
    "    if col in clients.columns:\n",
    "        clients[col] = pd.to_datetime(clients[col], errors='coerce')"
   ]
  },
  {
   "cell_type": "markdown",
   "metadata": {},
   "source": [
    "En estas líneas estoy limpiando y normalizando las columnas de fechas en mis datasets. Lo que hago es lo siguiente:\n",
    "\n",
    "1. Primero reviso si las columnas date y date_start existen en cada dataframe (data y clients). Esto evita que el código rompa si alguna de las columnas no está presente.\n",
    "\n",
    "2. Si la columna existe, la convierto a formato datetime usando pd.to_datetime().\n",
    "\n",
    "3. Uso el parámetro errors='coerce' para que cualquier valor que no pueda convertirse en fecha se transforme en NaT (Not a Time), que es como un NaN pero para fechas. Esto ayuda a manejar datos erróneos o mal formateados sin que el programa falle."
   ]
  },
  {
   "cell_type": "markdown",
   "metadata": {},
   "source": [
    "Me aseguro que no existan espacios en blanco o errores en los nombre de las variables de cada dataset."
   ]
  },
  {
   "cell_type": "code",
   "execution_count": 236,
   "metadata": {},
   "outputs": [
    {
     "name": "stdout",
     "output_type": "stream",
     "text": [
      "Columnas data: ['user_id', 'date', 'direction', 'internal', 'operator_id', 'is_missed_call', 'calls_count', 'call_duration', 'total_call_duration']\n",
      "Columnas clients: ['user_id', 'tariff_plan', 'date_start']\n"
     ]
    }
   ],
   "source": [
    "# Eliminar espacios en blanco en nombres de columnas (si los hubiera)\n",
    "data.columns = data.columns.str.strip()\n",
    "clients.columns = clients.columns.str.strip()\n",
    "\n",
    "# Confirmar de nuevo\n",
    "print(\"Columnas data:\", data.columns.tolist())\n",
    "print(\"Columnas clients:\", clients.columns.tolist())\n"
   ]
  },
  {
   "cell_type": "markdown",
   "metadata": {},
   "source": [
    "### 2.2 Verificar duplicados y eliminarlos si es necesario."
   ]
  },
  {
   "cell_type": "markdown",
   "metadata": {},
   "source": [
    "**Dataset Data**"
   ]
  },
  {
   "cell_type": "code",
   "execution_count": 237,
   "metadata": {},
   "outputs": [
    {
     "name": "stdout",
     "output_type": "stream",
     "text": [
      "La cantidad de filas totalmente duplicadas, es:\n"
     ]
    },
    {
     "data": {
      "text/plain": [
       "4900"
      ]
     },
     "execution_count": 237,
     "metadata": {},
     "output_type": "execute_result"
    }
   ],
   "source": [
    "# Se cuenta la cantidad de filas totalmente duplicadas:\n",
    "\n",
    "print('La cantidad de filas totalmente duplicadas, es:')\n",
    "data.duplicated().sum()"
   ]
  },
  {
   "cell_type": "code",
   "execution_count": 238,
   "metadata": {},
   "outputs": [
    {
     "name": "stdout",
     "output_type": "stream",
     "text": [
      "Las filas totalmente duplicadas, son:\n"
     ]
    },
    {
     "data": {
      "text/html": [
       "<div>\n",
       "<style scoped>\n",
       "    .dataframe tbody tr th:only-of-type {\n",
       "        vertical-align: middle;\n",
       "    }\n",
       "\n",
       "    .dataframe tbody tr th {\n",
       "        vertical-align: top;\n",
       "    }\n",
       "\n",
       "    .dataframe thead th {\n",
       "        text-align: right;\n",
       "    }\n",
       "</style>\n",
       "<table border=\"1\" class=\"dataframe\">\n",
       "  <thead>\n",
       "    <tr style=\"text-align: right;\">\n",
       "      <th></th>\n",
       "      <th>user_id</th>\n",
       "      <th>date</th>\n",
       "      <th>direction</th>\n",
       "      <th>internal</th>\n",
       "      <th>operator_id</th>\n",
       "      <th>is_missed_call</th>\n",
       "      <th>calls_count</th>\n",
       "      <th>call_duration</th>\n",
       "      <th>total_call_duration</th>\n",
       "    </tr>\n",
       "  </thead>\n",
       "  <tbody>\n",
       "    <tr>\n",
       "      <th>8</th>\n",
       "      <td>166377</td>\n",
       "      <td>2019-08-05 00:00:00+03:00</td>\n",
       "      <td>out</td>\n",
       "      <td>False</td>\n",
       "      <td>880020.0</td>\n",
       "      <td>True</td>\n",
       "      <td>8</td>\n",
       "      <td>0</td>\n",
       "      <td>50</td>\n",
       "    </tr>\n",
       "    <tr>\n",
       "      <th>28</th>\n",
       "      <td>166377</td>\n",
       "      <td>2019-08-12 00:00:00+03:00</td>\n",
       "      <td>in</td>\n",
       "      <td>False</td>\n",
       "      <td>NaN</td>\n",
       "      <td>True</td>\n",
       "      <td>2</td>\n",
       "      <td>0</td>\n",
       "      <td>34</td>\n",
       "    </tr>\n",
       "    <tr>\n",
       "      <th>44</th>\n",
       "      <td>166377</td>\n",
       "      <td>2019-08-14 00:00:00+03:00</td>\n",
       "      <td>out</td>\n",
       "      <td>False</td>\n",
       "      <td>880026.0</td>\n",
       "      <td>False</td>\n",
       "      <td>10</td>\n",
       "      <td>1567</td>\n",
       "      <td>1654</td>\n",
       "    </tr>\n",
       "    <tr>\n",
       "      <th>45</th>\n",
       "      <td>166377</td>\n",
       "      <td>2019-08-14 00:00:00+03:00</td>\n",
       "      <td>in</td>\n",
       "      <td>False</td>\n",
       "      <td>NaN</td>\n",
       "      <td>True</td>\n",
       "      <td>1</td>\n",
       "      <td>0</td>\n",
       "      <td>3</td>\n",
       "    </tr>\n",
       "    <tr>\n",
       "      <th>51</th>\n",
       "      <td>166377</td>\n",
       "      <td>2019-08-15 00:00:00+03:00</td>\n",
       "      <td>out</td>\n",
       "      <td>False</td>\n",
       "      <td>880026.0</td>\n",
       "      <td>False</td>\n",
       "      <td>11</td>\n",
       "      <td>1413</td>\n",
       "      <td>1473</td>\n",
       "    </tr>\n",
       "    <tr>\n",
       "      <th>...</th>\n",
       "      <td>...</td>\n",
       "      <td>...</td>\n",
       "      <td>...</td>\n",
       "      <td>...</td>\n",
       "      <td>...</td>\n",
       "      <td>...</td>\n",
       "      <td>...</td>\n",
       "      <td>...</td>\n",
       "      <td>...</td>\n",
       "    </tr>\n",
       "    <tr>\n",
       "      <th>53869</th>\n",
       "      <td>168601</td>\n",
       "      <td>2019-11-25 00:00:00+03:00</td>\n",
       "      <td>in</td>\n",
       "      <td>False</td>\n",
       "      <td>952914.0</td>\n",
       "      <td>False</td>\n",
       "      <td>7</td>\n",
       "      <td>1229</td>\n",
       "      <td>1282</td>\n",
       "    </tr>\n",
       "    <tr>\n",
       "      <th>53874</th>\n",
       "      <td>168601</td>\n",
       "      <td>2019-11-26 00:00:00+03:00</td>\n",
       "      <td>in</td>\n",
       "      <td>False</td>\n",
       "      <td>952914.0</td>\n",
       "      <td>False</td>\n",
       "      <td>4</td>\n",
       "      <td>539</td>\n",
       "      <td>562</td>\n",
       "    </tr>\n",
       "    <tr>\n",
       "      <th>53875</th>\n",
       "      <td>168601</td>\n",
       "      <td>2019-11-26 00:00:00+03:00</td>\n",
       "      <td>in</td>\n",
       "      <td>False</td>\n",
       "      <td>NaN</td>\n",
       "      <td>True</td>\n",
       "      <td>3</td>\n",
       "      <td>0</td>\n",
       "      <td>35</td>\n",
       "    </tr>\n",
       "    <tr>\n",
       "      <th>53885</th>\n",
       "      <td>168603</td>\n",
       "      <td>2019-11-20 00:00:00+03:00</td>\n",
       "      <td>out</td>\n",
       "      <td>False</td>\n",
       "      <td>959118.0</td>\n",
       "      <td>True</td>\n",
       "      <td>3</td>\n",
       "      <td>0</td>\n",
       "      <td>89</td>\n",
       "    </tr>\n",
       "    <tr>\n",
       "      <th>53900</th>\n",
       "      <td>168606</td>\n",
       "      <td>2019-11-15 00:00:00+03:00</td>\n",
       "      <td>out</td>\n",
       "      <td>True</td>\n",
       "      <td>957922.0</td>\n",
       "      <td>False</td>\n",
       "      <td>4</td>\n",
       "      <td>3130</td>\n",
       "      <td>3190</td>\n",
       "    </tr>\n",
       "  </tbody>\n",
       "</table>\n",
       "<p>4900 rows × 9 columns</p>\n",
       "</div>"
      ],
      "text/plain": [
       "       user_id                      date direction internal  operator_id  \\\n",
       "8       166377 2019-08-05 00:00:00+03:00       out    False     880020.0   \n",
       "28      166377 2019-08-12 00:00:00+03:00        in    False          NaN   \n",
       "44      166377 2019-08-14 00:00:00+03:00       out    False     880026.0   \n",
       "45      166377 2019-08-14 00:00:00+03:00        in    False          NaN   \n",
       "51      166377 2019-08-15 00:00:00+03:00       out    False     880026.0   \n",
       "...        ...                       ...       ...      ...          ...   \n",
       "53869   168601 2019-11-25 00:00:00+03:00        in    False     952914.0   \n",
       "53874   168601 2019-11-26 00:00:00+03:00        in    False     952914.0   \n",
       "53875   168601 2019-11-26 00:00:00+03:00        in    False          NaN   \n",
       "53885   168603 2019-11-20 00:00:00+03:00       out    False     959118.0   \n",
       "53900   168606 2019-11-15 00:00:00+03:00       out     True     957922.0   \n",
       "\n",
       "       is_missed_call  calls_count  call_duration  total_call_duration  \n",
       "8                True            8              0                   50  \n",
       "28               True            2              0                   34  \n",
       "44              False           10           1567                 1654  \n",
       "45               True            1              0                    3  \n",
       "51              False           11           1413                 1473  \n",
       "...               ...          ...            ...                  ...  \n",
       "53869           False            7           1229                 1282  \n",
       "53874           False            4            539                  562  \n",
       "53875            True            3              0                   35  \n",
       "53885            True            3              0                   89  \n",
       "53900           False            4           3130                 3190  \n",
       "\n",
       "[4900 rows x 9 columns]"
      ]
     },
     "execution_count": 238,
     "metadata": {},
     "output_type": "execute_result"
    }
   ],
   "source": [
    "# Se muestran las filas totalmente duplicadas para corroborar que no hay una falla en el sistema:\n",
    "\n",
    "print('Las filas totalmente duplicadas, son:')\n",
    "data[data.duplicated()]"
   ]
  },
  {
   "cell_type": "markdown",
   "metadata": {},
   "source": [
    "**Dataset Clientes**"
   ]
  },
  {
   "cell_type": "code",
   "execution_count": 239,
   "metadata": {},
   "outputs": [
    {
     "name": "stdout",
     "output_type": "stream",
     "text": [
      "La cantidad de filas totalmente duplicadas, es:\n"
     ]
    },
    {
     "data": {
      "text/plain": [
       "0"
      ]
     },
     "execution_count": 239,
     "metadata": {},
     "output_type": "execute_result"
    }
   ],
   "source": [
    "# Se cuenta la cantidad de filas totalmente duplicadas:\n",
    "\n",
    "print('La cantidad de filas totalmente duplicadas, es:')\n",
    "clients.duplicated().sum()"
   ]
  },
  {
   "cell_type": "markdown",
   "metadata": {},
   "source": [
    "### 2.3 Manejar valores faltantes o inconsistentes."
   ]
  },
  {
   "cell_type": "code",
   "execution_count": 240,
   "metadata": {},
   "outputs": [
    {
     "name": "stdout",
     "output_type": "stream",
     "text": [
      "Tamaño original de data: (53902, 9)\n",
      "Tamaño después de eliminar duplicados: (49002, 9)\n",
      "Duplicados después de limpiar: 0\n"
     ]
    }
   ],
   "source": [
    "# Revisar cuántas filas hay antes\n",
    "print(\"Tamaño original de data:\", data.shape)\n",
    "\n",
    "# Eliminar duplicados exactos y resetear el índice\n",
    "data = data.drop_duplicates().reset_index(drop=True)\n",
    "\n",
    "# Revisar cuántas filas quedaron\n",
    "print(\"Tamaño después de eliminar duplicados:\", data.shape)\n",
    "\n",
    "# Confirmar que ya no existen duplicados\n",
    "print(\"Duplicados después de limpiar:\", data.duplicated().sum())\n"
   ]
  },
  {
   "cell_type": "markdown",
   "metadata": {},
   "source": [
    "### 2.4 Confirmar que los identificadores (user_id, operator_id) estén en el formato correcto."
   ]
  },
  {
   "cell_type": "code",
   "execution_count": 241,
   "metadata": {},
   "outputs": [
    {
     "name": "stdout",
     "output_type": "stream",
     "text": [
      "Tipos de datos:\n",
      "user_id          int64\n",
      "operator_id    float64\n",
      "dtype: object\n",
      "\n",
      "Valores nulos por columna:\n",
      "user_id           0\n",
      "operator_id    7456\n",
      "dtype: int64\n",
      "\n",
      "Cantidad de user_id únicos: 307\n",
      "Cantidad de operator_id únicos (incluyendo nulos): 1092\n",
      "\n",
      "Tipos de datos corregidos:\n",
      "user_id        int64\n",
      "operator_id    Int64\n",
      "dtype: object\n"
     ]
    }
   ],
   "source": [
    "# Revisar tipo de dato y valores nulos de los identificadores\n",
    "print(\"Tipos de datos:\")\n",
    "print(data[['user_id', 'operator_id']].dtypes)\n",
    "print(\"\\nValores nulos por columna:\")\n",
    "print(data[['user_id', 'operator_id']].isna().sum())\n",
    "\n",
    "# Verificar valores únicos en user_id y operator_id\n",
    "print(\"\\nCantidad de user_id únicos:\", data['user_id'].nunique())\n",
    "print(\"Cantidad de operator_id únicos (incluyendo nulos):\", data['operator_id'].nunique(dropna=True))\n",
    "\n",
    "# Asegurar que user_id sea entero\n",
    "data['user_id'] = data['user_id'].astype(int)\n",
    "\n",
    "# Para operator_id, algunos son NaN. Se puede dejar así, \n",
    "# pero si quieres trabajar más adelante, conviene convertir a Int64 (que soporta nulos)\n",
    "data['operator_id'] = data['operator_id'].astype('Int64')\n",
    "\n",
    "# Verificamos de nuevo\n",
    "print(\"\\nTipos de datos corregidos:\")\n",
    "print(data[['user_id', 'operator_id']].dtypes)\n"
   ]
  },
  {
   "cell_type": "code",
   "execution_count": 242,
   "metadata": {},
   "outputs": [
    {
     "name": "stdout",
     "output_type": "stream",
     "text": [
      "Tipos de datos en clients:\n",
      "user_id                 int64\n",
      "tariff_plan            object\n",
      "date_start     datetime64[ns]\n",
      "dtype: object\n",
      "\n",
      "Valores nulos por columna en clients:\n",
      "user_id        0\n",
      "tariff_plan    0\n",
      "date_start     0\n",
      "dtype: int64\n",
      "\n",
      "Tipos de datos corregidos en clients:\n",
      "user_id                 int64\n",
      "tariff_plan            object\n",
      "date_start     datetime64[ns]\n",
      "dtype: object\n"
     ]
    }
   ],
   "source": [
    "# Revisar tipos y nulos en clients\n",
    "print(\"Tipos de datos en clients:\")\n",
    "print(clients.dtypes)\n",
    "\n",
    "print(\"\\nValores nulos por columna en clients:\")\n",
    "print(clients.isna().sum())\n",
    "\n",
    "# Asegurar que user_id sea int\n",
    "clients['user_id'] = clients['user_id'].astype(int)\n",
    "\n",
    "# Convertir la fecha de registro a datetime\n",
    "clients['date_start'] = pd.to_datetime(clients['date_start'], errors='coerce')\n",
    "\n",
    "# Revisar de nuevo\n",
    "print(\"\\nTipos de datos corregidos en clients:\")\n",
    "print(clients.dtypes)\n"
   ]
  },
  {
   "cell_type": "markdown",
   "metadata": {},
   "source": [
    "**Duplicados**\n",
    "\n",
    "En el dataset data (llamadas) se detectaron 4,900 filas duplicadas.\n",
    "\n",
    "Estas fueron eliminadas correctamente, reduciendo el dataset de 53,902 a 49,002 filas.\n",
    "\n",
    "El dataset clients (clientes) no presentó duplicados.\n",
    "\n",
    "**Valores nulos**\n",
    "\n",
    "En data, la columna operator_id tiene 7,456 valores nulos, lo cual es coherente, ya que algunas llamadas entrantes no están asociadas a un operador.\n",
    "\n",
    "En user_id no existen valores nulos, por lo que los registros están correctamente vinculados a los clientes.\n",
    "\n",
    "En clients, no se detectaron valores nulos en user_id, y la columna date_start fue convertida exitosamente a tipo datetime.\n",
    "\n",
    "**Tipos de datos**\n",
    "\n",
    "user_id fue convertido a int64 en ambos datasets, garantizando consistencia.\n",
    "\n",
    "operator_id se transformó a Int64 (permite enteros y nulos).\n",
    "\n",
    "Las fechas (date en data y date_start en clients) fueron convertidas a datetime, lo que facilitará el análisis temporal."
   ]
  },
  {
   "cell_type": "markdown",
   "metadata": {},
   "source": [
    "## 3. Análisis exploratorio de datos (EDA)\n",
    "- Estadísticas descriptivas de duración y cantidad de llamadas.\n",
    "- Histogramas de la duración de llamadas.\n",
    "- Distribución de llamadas internas vs externas.\n",
    "- Análisis de la proporción de llamadas entrantes vs salientes.\n",
    "- Evolución del número de llamadas por día."
   ]
  },
  {
   "cell_type": "markdown",
   "metadata": {},
   "source": [
    "### 3.1 Estadísticas descriptivas de duración y cantidad de llamadas"
   ]
  },
  {
   "cell_type": "code",
   "execution_count": 243,
   "metadata": {},
   "outputs": [
    {
     "name": "stdout",
     "output_type": "stream",
     "text": [
      "Estadísticas descriptivas de duración de llamadas (sin incluir espera):\n",
      "count     49002.000000\n",
      "mean        866.282091\n",
      "std        3775.503352\n",
      "min           0.000000\n",
      "25%           0.000000\n",
      "50%          37.000000\n",
      "75%         570.000000\n",
      "max      144395.000000\n",
      "Name: call_duration, dtype: float64\n",
      "\n",
      "Estadísticas descriptivas de cantidad de llamadas por usuario:\n",
      "count       307.000000\n",
      "mean       2627.716612\n",
      "std       11463.942823\n",
      "min           1.000000\n",
      "25%          43.000000\n",
      "50%         211.000000\n",
      "75%        1316.500000\n",
      "max      144500.000000\n",
      "Name: calls_count, dtype: float64\n"
     ]
    }
   ],
   "source": [
    "# Aseguramos que las fechas estén en formato datetime\n",
    "for col in ['date', 'date_start']:\n",
    "    if col in data.columns:\n",
    "        data[col] = pd.to_datetime(data[col], errors='coerce')\n",
    "    if col in clients.columns:\n",
    "        clients[col] = pd.to_datetime(clients[col], errors='coerce')\n",
    "\n",
    "# 1. Estadísticas descriptivas de duración y cantidad de llamadas\n",
    "if 'call_duration' in data.columns:\n",
    "    print(\"Estadísticas descriptivas de duración de llamadas (sin incluir espera):\")\n",
    "    print(data['call_duration'].describe())\n",
    "\n",
    "if 'calls_count' in data.columns:\n",
    "    print(\"\\nEstadísticas descriptivas de cantidad de llamadas por usuario:\")\n",
    "    print(data.groupby('user_id')['calls_count'].sum().describe())"
   ]
  },
  {
   "cell_type": "markdown",
   "metadata": {},
   "source": [
    "**Duración de llamadas (call_duration):**\n",
    "\n",
    "La duración promedio de las llamadas es 866 segundos (~14 minutos), pero la mediana es 37 segundos, lo que indica que la mayoría de las llamadas son cortas.\n",
    "\n",
    "El valor máximo es 144,395 segundos (~40 horas), lo que claramente son valores atípicos o errores de registro.\n",
    "\n",
    "El 25% de las llamadas tienen 0 segundos, lo que puede corresponder a llamadas perdidas o fallidas.\n",
    "\n",
    "**Cantidad de llamadas por usuario (calls_count):**\n",
    "\n",
    "En promedio, cada usuario realizó 2,628 llamadas, pero la mediana es 211, mostrando que unos pocos usuarios concentran muchas llamadas (distribución muy sesgada).\n",
    "\n",
    "Algunos usuarios tienen un volumen extremadamente alto, como 144,500 llamadas, lo que puede ser casos especiales de clientes con operaciones masivas.\n",
    "\n",
    "El rango intercuartílico (25% - 75%) va de 43 a 1,316 llamadas, que representa la mayoría de los usuarios.\n",
    "\n",
    "**Conclusión:**\n",
    "Los datos muestran alta variabilidad tanto en la duración de las llamadas como en la cantidad de llamadas por usuario. Hay muchos valores atípicos que podrían necesitar limpieza o tratamiento antes de hacer análisis más avanzados."
   ]
  },
  {
   "cell_type": "markdown",
   "metadata": {},
   "source": [
    "### 3.2 Histogramas de la duración de llamadas."
   ]
  },
  {
   "cell_type": "code",
   "execution_count": 244,
   "metadata": {},
   "outputs": [
    {
     "data": {
      "image/png": "[encoded data removed]",
      "text/plain": [
       "<Figure size 640x480 with 1 Axes>"
      ]
     },
     "metadata": {},
     "output_type": "display_data"
    }
   ],
   "source": [
    "plt.figure()\n",
    "sns.histplot(data['call_duration'], bins=50, kde=True)\n",
    "plt.title(\"Histograma de la duración de llamadas\")\n",
    "plt.xlabel(\"Duración (segundos)\")\n",
    "plt.ylabel(\"Cantidad de llamadas\")\n",
    "plt.show()"
   ]
  },
  {
   "cell_type": "code",
   "execution_count": 245,
   "metadata": {},
   "outputs": [
    {
     "name": "stdout",
     "output_type": "stream",
     "text": [
      "       call_duration   calls_count\n",
      "count   49002.000000  49002.000000\n",
      "mean      866.282091     16.462777\n",
      "std      3775.503352     63.604098\n",
      "min         0.000000      1.000000\n",
      "25%         0.000000      1.000000\n",
      "50%        37.000000      4.000000\n",
      "75%       570.000000     12.000000\n",
      "max    144395.000000   4817.000000\n"
     ]
    }
   ],
   "source": [
    "# Resumen estadístico de la duración de llamadas y la cantidad de llamadas por usuario\n",
    "summary_table = data[['call_duration', 'calls_count']].describe()\n",
    "\n",
    "# Mostrar el resumen\n",
    "print(summary_table)\n",
    "\n"
   ]
  },
  {
   "cell_type": "markdown",
   "metadata": {},
   "source": [
    "**Duración de llamadas (`call_duration`):**  \n",
    "- La duración promedio es 866 segundos (14 minutos aprox.), pero la mediana es solo 37 segundos, indicando que la mayoría de llamadas son muy cortas.  \n",
    "- El valor mínimo es 0 segundos, mostrando que hay llamadas que no duraron nada (posiblemente llamadas fallidas o perdidas).  \n",
    "- El valor máximo es 144,395 segundos (40 horas aprox.), claramente un outlier o error de registro.  \n",
    "- La desviación estándar es alta (3,775 s), reflejando gran variabilidad en la duración de las llamadas.  \n",
    "\n",
    "**Cantidad de llamadas (`calls_count`):**  \n",
    "- En promedio, cada registro tiene 16 llamadas, pero la mediana es 4, lo que indica que la mayoría de registros tiene pocas llamadas.  \n",
    "- Algunos registros tienen hasta 4,817 llamadas, siendo casos extremos o clientes con gran volumen de llamadas.  \n",
    "- La desviación estándar es alta (63), confirmando que existen registros con cantidades muy diferentes de llamadas.  \n",
    "\n",
    "**Interpretación general:**  \n",
    "- Los datos muestran gran variabilidad tanto en duración como en cantidad de llamadas.  \n",
    "- La mayoría de llamadas son cortas y en pequeña cantidad, pero hay valores extremos que podrían considerarse outliers.  \n",
    "- Estos outliers deben analizarse antes de realizar métricas agregadas o tendencias, para no distorsionar los resultados.\n"
   ]
  },
  {
   "cell_type": "markdown",
   "metadata": {},
   "source": [
    "### 3.3 Distribución de llamadas internas vs externas."
   ]
  },
  {
   "cell_type": "markdown",
   "metadata": {},
   "source": [
    "\n",
    "\n",
    "En este apartado se analiza la eficiencia de los operadores considerando tres indicadores clave:\n",
    "\n",
    "1. **Cantidad de llamadas entrantes perdidas**: un operador con muchas llamadas perdidas es considerado ineficaz.  \n",
    "2. **Tiempo promedio de espera en llamadas entrantes**: tiempos prolongados pueden indicar baja eficiencia.  \n",
    "3. **Cantidad de llamadas salientes**: un número reducido de llamadas salientes también puede indicar ineficacia si se supone que el operador debe realizarlas.\n",
    "\n",
    "El estudio abarca el intervalo de tiempo desde **2019-08-02** hasta **2019-11-28**, es decir, aproximadamente 4 meses."
   ]
  },
  {
   "cell_type": "code",
   "execution_count": 246,
   "metadata": {},
   "outputs": [
    {
     "name": "stdout",
     "output_type": "stream",
     "text": [
      "Cantidad de llamadas entrantes perdidas por operador:\n",
      "   operator_id  n_missed_calls\n",
      "0       882680               3\n",
      "1       882684               4\n",
      "2       882686               6\n",
      "3       882690               2\n",
      "4       884408               4\n",
      "Tiempo promedio de espera de llamadas entrantes por operador:\n",
      "   operator_id  avg_wait_time\n",
      "0       879896      27.333333\n",
      "1       879898      29.473684\n",
      "2       880020       7.714286\n",
      "3       880022      14.000000\n",
      "4       880026       7.944444\n",
      "Cantidad de llamadas salientes por operador:\n",
      "   operator_id  n_outbound_calls\n",
      "0       879896               872\n",
      "1       879898              7209\n",
      "2       880020                38\n",
      "3       880022               189\n",
      "4       880026              2208\n"
     ]
    },
    {
     "data": {
      "image/png": "[encoded data removed]",
      "text/plain": [
       "<Figure size 600x400 with 1 Axes>"
      ]
     },
     "metadata": {},
     "output_type": "display_data"
    }
   ],
   "source": [
    "# 1. Cantidad de llamadas entrantes perdidas por operador\n",
    "missed_calls = (data[(data['is_missed_call'] == True) & (data['direction'] == 'in')]\n",
    "                .groupby('operator_id')['calls_count'].sum().reset_index())\n",
    "missed_calls.rename(columns={'calls_count': 'n_missed_calls'}, inplace=True)\n",
    "print(\"Cantidad de llamadas entrantes perdidas por operador:\")\n",
    "print(missed_calls.head())\n",
    "\n",
    "# 2. Crear columna de tiempo de espera\n",
    "data['wait_time'] = data['total_call_duration'] - data['call_duration']\n",
    "\n",
    "# 3. Tiempo promedio de espera de llamadas entrantes por operador\n",
    "timeout = data[data['direction']=='in'].groupby('operator_id').agg({'wait_time': 'mean'}).reset_index()\n",
    "timeout.rename(columns={'wait_time': 'avg_wait_time'}, inplace=True)\n",
    "print(\"Tiempo promedio de espera de llamadas entrantes por operador:\")\n",
    "print(timeout.head())\n",
    "\n",
    "# 4. Cantidad de llamadas salientes por operador\n",
    "outbound_calls = data[data['direction'] == 'out'].groupby('operator_id')['calls_count'].sum().reset_index()\n",
    "outbound_calls.rename(columns={'calls_count': 'n_outbound_calls'}, inplace=True)\n",
    "print(\"Cantidad de llamadas salientes por operador:\")\n",
    "print(outbound_calls.head())\n",
    "\n",
    "# 5. Distribución de llamadas internas vs externas\n",
    "plt.figure(figsize=(6,4))\n",
    "sns.countplot(x='internal', data=data)\n",
    "plt.title(\"Distribución de llamadas internas vs externas\")\n",
    "plt.xlabel(\"¿Llamada interna?\")\n",
    "plt.ylabel(\"Cantidad de llamadas\")\n",
    "plt.show()"
   ]
  },
  {
   "cell_type": "markdown",
   "metadata": {},
   "source": [
    "Se analiza la eficiencia de los operadores usando tres indicadores clave:\n",
    "\n",
    "1. **Cantidad de llamadas entrantes perdidas**: Los operadores con más llamadas perdidas son considerados menos eficaces. Por ejemplo, algunos operadores registran entre 2 y 6 llamadas entrantes perdidas en el período estudiado.  \n",
    "2. **Tiempo promedio de espera en llamadas entrantes**: Este indicador refleja la rapidez con la que un operador atiende las llamadas entrantes. Los valores promedio varían entre aproximadamente 7 y 29 segundos en los primeros registros, aunque algunos operadores presentan tiempos mucho mayores.  \n",
    "3. **Cantidad de llamadas salientes**: Si un operador tiene pocas llamadas salientes y su rol lo requiere, puede ser considerado ineficaz. Algunos operadores realizan desde pocas decenas hasta varios miles de llamadas salientes.\n",
    "\n",
    "- La mayoría de los operadores mantiene un nivel bajo de llamadas perdidas y un tiempo de espera promedio razonable, lo que indica buena eficiencia.  \n",
    "- Existen casos con pocas llamadas salientes o tiempos de espera prolongados, lo que podría señalar operadores ineficaces.  \n",
    "- La visualización de la distribución de llamadas internas vs externas permite observar cómo se reparte la comunicación dentro de la organización.\n"
   ]
  },
  {
   "cell_type": "markdown",
   "metadata": {},
   "source": [
    "### 3.4 Análisis de la proporción de llamadas entrantes vs salientes."
   ]
  },
  {
   "cell_type": "code",
   "execution_count": 247,
   "metadata": {},
   "outputs": [
    {
     "data": {
      "image/png": "[encoded data removed]",
      "text/plain": [
       "<Figure size 800x500 with 1 Axes>"
      ]
     },
     "metadata": {},
     "output_type": "display_data"
    },
    {
     "data": {
      "image/png": "[encoded data removed]",
      "text/plain": [
       "<Figure size 800x500 with 1 Axes>"
      ]
     },
     "metadata": {},
     "output_type": "display_data"
    }
   ],
   "source": [
    "# Boxplot para llamadas entrantes: internas vs externas\n",
    "plt.figure(figsize=(8,5))\n",
    "sns.boxplot(x='internal', y='calls_count', data=data[data['direction']=='in'])\n",
    "plt.title(\"Distribución de llamadas entrantes: internas vs externas\")\n",
    "plt.xlabel(\"Tipo de llamada (Interna / Externa)\")\n",
    "plt.ylabel(\"Cantidad de llamadas por registro\")\n",
    "plt.ylim(0, 100)  # Ajustar según tus datos para visualizar mejor\n",
    "plt.show()\n",
    "\n",
    "# Boxplot para llamadas salientes: internas vs externas\n",
    "plt.figure(figsize=(8,5))\n",
    "sns.boxplot(x='internal', y='calls_count', data=data[data['direction']=='out'])\n",
    "plt.title(\"Distribución de llamadas salientes: internas vs externas\")\n",
    "plt.xlabel(\"Tipo de llamada (Interna / Externa)\")\n",
    "plt.ylabel(\"Cantidad de llamadas por registro\")\n",
    "plt.ylim(0, 500)  # Ajustar según tus datos\n",
    "plt.show()"
   ]
  },
  {
   "cell_type": "code",
   "execution_count": 248,
   "metadata": {},
   "outputs": [
    {
     "name": "stdout",
     "output_type": "stream",
     "text": [
      "Resumen de promedio y mediana de llamadas por operador y tipo de llamada:\n",
      "   operator_id  call_type  avg_calls  median_calls\n",
      "0       879896   in_False   2.761905           1.0\n",
      "1       879896  out_False  10.074074           3.0\n",
      "2       879896   out_True   3.733333           2.0\n",
      "3       879898   in_False   1.839286           1.0\n",
      "4       879898     in_nan   1.000000           1.0\n",
      "5       879898  out_False  46.393548          41.0\n",
      "6       879898   out_True   1.200000           1.0\n",
      "7       880020   in_False   1.000000           1.0\n",
      "8       880020  out_False   3.400000           3.0\n",
      "9       880020   out_True   1.333333           1.0\n"
     ]
    }
   ],
   "source": [
    "# Crear una columna combinada de dirección y tipo de llamada\n",
    "data['call_type'] = data['direction'] + '_' + data['internal'].astype(str)\n",
    "\n",
    "# Agrupar por operador y tipo de llamada, calculando promedio y mediana\n",
    "summary_table = data.groupby(['operator_id', 'call_type'])['calls_count'].agg(['mean', 'median']).reset_index()\n",
    "\n",
    "# Renombrar columnas para mayor claridad\n",
    "summary_table.rename(columns={'mean': 'avg_calls', 'median': 'median_calls'}, inplace=True)\n",
    "\n",
    "# Mostrar los primeros registros\n",
    "print(\"Resumen de promedio y mediana de llamadas por operador y tipo de llamada:\")\n",
    "print(summary_table.head(10))\n"
   ]
  },
  {
   "cell_type": "markdown",
   "metadata": {},
   "source": [
    "A partir de la tabla de promedio y mediana de llamadas por operador y tipo de llamada (`in_False`, `in_True`, `out_False`, `out_True`):\n",
    "\n",
    "1. **Llamadas entrantes (`in`)**:  \n",
    "   - La mayoría de operadores registra pocos promedios de llamadas entrantes internas (`in_True`) y externas (`in_False`).  \n",
    "   - Esto indica que, en general, los operadores atienden llamadas entrantes de manera equilibrada, pero algunos registros muestran variabilidad (por ejemplo `in_nan`), que podría corresponder a datos faltantes o registros incompletos.\n",
    "\n",
    "2. **Llamadas salientes (`out`)**:  \n",
    "   - Los promedios de llamadas salientes externas (`out_False`) son significativamente mayores que los internos (`out_True`) para muchos operadores.  \n",
    "   - Esto refleja que los operadores realizan principalmente llamadas salientes hacia clientes externos, y que la actividad interna es menor.\n",
    "\n",
    "3. **Comparación mediana vs promedio**:  \n",
    "   - En muchos casos, la mediana es menor que el promedio, lo que indica la presencia de **outliers**, es decir, operadores que realizan muchas más llamadas que la mayoría.  \n",
    "   - Estos valores extremos podrían ayudar a identificar operadores ineficaces o con cargas de trabajo muy diferentes al promedio del grupo.\n",
    " \n",
    "La distribución muestra que la mayoría de operadores tiene un patrón consistente de atención de llamadas entrantes y realización de llamadas salientes.  Los outliers y los registros con valores atípicos deben analizarse más a fondo para identificar posibles problemas de eficiencia o desequilibrio en la carga de trabajo.\n"
   ]
  },
  {
   "cell_type": "markdown",
   "metadata": {},
   "source": [
    "### 3.5 Evolución del número de llamadas por día."
   ]
  },
  {
   "cell_type": "code",
   "execution_count": 249,
   "metadata": {},
   "outputs": [
    {
     "data": {
      "image/png": "[encoded data removed]",
      "text/plain": [
       "<Figure size 1200x500 with 1 Axes>"
      ]
     },
     "metadata": {},
     "output_type": "display_data"
    }
   ],
   "source": [
    "# Agrupar por fecha sumando la cantidad de llamadas\n",
    "calls_per_day = data.groupby('date')['calls_count'].sum().reset_index()\n",
    "\n",
    "# Gráfico de evolución de llamadas por día\n",
    "plt.figure(figsize=(12,5))\n",
    "plt.plot(calls_per_day['date'], calls_per_day['calls_count'], marker='o')\n",
    "plt.title(\"Evolución del número de llamadas por día\")\n",
    "plt.xlabel(\"Fecha\")\n",
    "plt.ylabel(\"Cantidad total de llamadas\")\n",
    "plt.xticks(rotation=45)\n",
    "plt.grid(True)\n",
    "plt.show()"
   ]
  },
  {
   "cell_type": "markdown",
   "metadata": {},
   "source": [
    "El gráfico indica una tendencia ascendente significativa en el número de llamadas durante el período observado. El volumen de llamadas comienza muy bajo a principios de agosto de 2019, aumentando de manera constante hasta alcanzar un pico de más de 17,500 llamadas por día alrededor de principios o mediados de noviembre.\n",
    "\n",
    "**Crecimiento Inicial:** Desde agosto hasta finales de septiembre, hay un aumento constante pero gradual en las llamadas diarias.\n",
    "\n",
    "**Aceleración Rápida:** A partir de octubre, el crecimiento se acelera, con volúmenes de llamadas diarias que superan frecuentemente las 10,000.\n",
    "\n",
    "**Período Pico:** Los volúmenes de llamadas más altos, con varios días superando las 15,000 llamadas, se observan a principios y mediados de noviembre.\n",
    "\n",
    "**Fluctuaciones:** Aunque la tendencia general es ascendente, el gráfico muestra fluctuaciones diarias y semanales significativas. Hay caídas claras, probablemente correspondientes a fines de semana o días festivos, seguidas de fuertes aumentos.\n",
    "\n",
    "**Disminución Reciente:** Al final del período graficado, a finales de noviembre, se observa una notable caída en el número de llamadas desde el pico.\n",
    "\n",
    "En conclusión, los datos revelan un negocio o servicio que experimentó un crecimiento rápido y sustancial en la interacción con el cliente a través de llamadas telefónicas durante un período de cuatro meses, culminando en un pico a mediados de noviembre antes de un ligero descenso."
   ]
  },
  {
   "cell_type": "markdown",
   "metadata": {},
   "source": [
    "## 4. Definición de criterios de ineficacia\n",
    "- Alta proporción de llamadas entrantes perdidas.\n",
    "- Tiempos de espera prolongados (`total_call_duration - call_duration`).\n",
    "- Baja cantidad de llamadas salientes (en operadores que deben realizarlas).\n",
    "- Construcción de indicadores (ej. % llamadas perdidas, tiempo de espera medio, ratio de llamadas salientes).\n"
   ]
  },
  {
   "cell_type": "markdown",
   "metadata": {},
   "source": [
    "### 4.1 Crear columna de tiempo de espera\n",
    "\n",
    "El tiempo de espera se calcula como la diferencia entre la duración total de la llamada (total_call_duration) y la duración efectiva (call_duration). Esto nos permite medir cuánto tiempo “espera” el cliente o la llamada antes de ser atendida."
   ]
  },
  {
   "cell_type": "code",
   "execution_count": 250,
   "metadata": {},
   "outputs": [
    {
     "data": {
      "text/html": [
       "<div>\n",
       "<style scoped>\n",
       "    .dataframe tbody tr th:only-of-type {\n",
       "        vertical-align: middle;\n",
       "    }\n",
       "\n",
       "    .dataframe tbody tr th {\n",
       "        vertical-align: top;\n",
       "    }\n",
       "\n",
       "    .dataframe thead th {\n",
       "        text-align: right;\n",
       "    }\n",
       "</style>\n",
       "<table border=\"1\" class=\"dataframe\">\n",
       "  <thead>\n",
       "    <tr style=\"text-align: right;\">\n",
       "      <th></th>\n",
       "      <th>operator_id</th>\n",
       "      <th>call_duration</th>\n",
       "      <th>total_call_duration</th>\n",
       "      <th>wait_time</th>\n",
       "    </tr>\n",
       "  </thead>\n",
       "  <tbody>\n",
       "    <tr>\n",
       "      <th>0</th>\n",
       "      <td>&lt;NA&gt;</td>\n",
       "      <td>0</td>\n",
       "      <td>4</td>\n",
       "      <td>4</td>\n",
       "    </tr>\n",
       "    <tr>\n",
       "      <th>1</th>\n",
       "      <td>880022</td>\n",
       "      <td>0</td>\n",
       "      <td>5</td>\n",
       "      <td>5</td>\n",
       "    </tr>\n",
       "    <tr>\n",
       "      <th>2</th>\n",
       "      <td>880020</td>\n",
       "      <td>0</td>\n",
       "      <td>1</td>\n",
       "      <td>1</td>\n",
       "    </tr>\n",
       "    <tr>\n",
       "      <th>3</th>\n",
       "      <td>880020</td>\n",
       "      <td>10</td>\n",
       "      <td>18</td>\n",
       "      <td>8</td>\n",
       "    </tr>\n",
       "    <tr>\n",
       "      <th>4</th>\n",
       "      <td>880022</td>\n",
       "      <td>0</td>\n",
       "      <td>25</td>\n",
       "      <td>25</td>\n",
       "    </tr>\n",
       "  </tbody>\n",
       "</table>\n",
       "</div>"
      ],
      "text/plain": [
       "   operator_id  call_duration  total_call_duration  wait_time\n",
       "0         <NA>              0                    4          4\n",
       "1       880022              0                    5          5\n",
       "2       880020              0                    1          1\n",
       "3       880020             10                   18          8\n",
       "4       880022              0                   25         25"
      ]
     },
     "execution_count": 250,
     "metadata": {},
     "output_type": "execute_result"
    }
   ],
   "source": [
    "# Crear columna de tiempo de espera\n",
    "data['wait_time'] = data['total_call_duration'] - data['call_duration']\n",
    "\n",
    "# Ver los primeros registros para confirmar\n",
    "data[['operator_id', 'call_duration', 'total_call_duration', 'wait_time']].head()\n"
   ]
  },
  {
   "cell_type": "markdown",
   "metadata": {},
   "source": [
    "### 4.2 Calcular total de llamadas entrantes por operador\n",
    "Necesitamos saber cuántas llamadas entrantes tiene cada operador para poder calcular la proporción de llamadas perdidas."
   ]
  },
  {
   "cell_type": "code",
   "execution_count": 251,
   "metadata": {},
   "outputs": [
    {
     "data": {
      "text/html": [
       "<div>\n",
       "<style scoped>\n",
       "    .dataframe tbody tr th:only-of-type {\n",
       "        vertical-align: middle;\n",
       "    }\n",
       "\n",
       "    .dataframe tbody tr th {\n",
       "        vertical-align: top;\n",
       "    }\n",
       "\n",
       "    .dataframe thead th {\n",
       "        text-align: right;\n",
       "    }\n",
       "</style>\n",
       "<table border=\"1\" class=\"dataframe\">\n",
       "  <thead>\n",
       "    <tr style=\"text-align: right;\">\n",
       "      <th></th>\n",
       "      <th>operator_id</th>\n",
       "      <th>total_in_calls</th>\n",
       "    </tr>\n",
       "  </thead>\n",
       "  <tbody>\n",
       "    <tr>\n",
       "      <th>0</th>\n",
       "      <td>879896</td>\n",
       "      <td>58</td>\n",
       "    </tr>\n",
       "    <tr>\n",
       "      <th>1</th>\n",
       "      <td>879898</td>\n",
       "      <td>104</td>\n",
       "    </tr>\n",
       "    <tr>\n",
       "      <th>2</th>\n",
       "      <td>880020</td>\n",
       "      <td>7</td>\n",
       "    </tr>\n",
       "    <tr>\n",
       "      <th>3</th>\n",
       "      <td>880022</td>\n",
       "      <td>8</td>\n",
       "    </tr>\n",
       "    <tr>\n",
       "      <th>4</th>\n",
       "      <td>880026</td>\n",
       "      <td>24</td>\n",
       "    </tr>\n",
       "  </tbody>\n",
       "</table>\n",
       "</div>"
      ],
      "text/plain": [
       "   operator_id  total_in_calls\n",
       "0       879896              58\n",
       "1       879898             104\n",
       "2       880020               7\n",
       "3       880022               8\n",
       "4       880026              24"
      ]
     },
     "execution_count": 251,
     "metadata": {},
     "output_type": "execute_result"
    }
   ],
   "source": [
    "# Total de llamadas entrantes por operador\n",
    "total_in_calls = data[data['direction']=='in'].groupby('operator_id')['calls_count'].sum().reset_index()\n",
    "total_in_calls.rename(columns={'calls_count': 'total_in_calls'}, inplace=True)\n",
    "\n",
    "total_in_calls.head()\n"
   ]
  },
  {
   "cell_type": "markdown",
   "metadata": {},
   "source": [
    "### 4.3 Calcular llamadas entrantes perdidas por operador\n",
    "\n",
    "Esto nos da el número absoluto de llamadas entrantes que un operador no pudo atender (is_missed_call = True)."
   ]
  },
  {
   "cell_type": "code",
   "execution_count": 252,
   "metadata": {},
   "outputs": [
    {
     "data": {
      "text/html": [
       "<div>\n",
       "<style scoped>\n",
       "    .dataframe tbody tr th:only-of-type {\n",
       "        vertical-align: middle;\n",
       "    }\n",
       "\n",
       "    .dataframe tbody tr th {\n",
       "        vertical-align: top;\n",
       "    }\n",
       "\n",
       "    .dataframe thead th {\n",
       "        text-align: right;\n",
       "    }\n",
       "</style>\n",
       "<table border=\"1\" class=\"dataframe\">\n",
       "  <thead>\n",
       "    <tr style=\"text-align: right;\">\n",
       "      <th></th>\n",
       "      <th>operator_id</th>\n",
       "      <th>n_missed_calls</th>\n",
       "    </tr>\n",
       "  </thead>\n",
       "  <tbody>\n",
       "    <tr>\n",
       "      <th>0</th>\n",
       "      <td>882680</td>\n",
       "      <td>3</td>\n",
       "    </tr>\n",
       "    <tr>\n",
       "      <th>1</th>\n",
       "      <td>882684</td>\n",
       "      <td>4</td>\n",
       "    </tr>\n",
       "    <tr>\n",
       "      <th>2</th>\n",
       "      <td>882686</td>\n",
       "      <td>6</td>\n",
       "    </tr>\n",
       "    <tr>\n",
       "      <th>3</th>\n",
       "      <td>882690</td>\n",
       "      <td>2</td>\n",
       "    </tr>\n",
       "    <tr>\n",
       "      <th>4</th>\n",
       "      <td>884408</td>\n",
       "      <td>4</td>\n",
       "    </tr>\n",
       "  </tbody>\n",
       "</table>\n",
       "</div>"
      ],
      "text/plain": [
       "   operator_id  n_missed_calls\n",
       "0       882680               3\n",
       "1       882684               4\n",
       "2       882686               6\n",
       "3       882690               2\n",
       "4       884408               4"
      ]
     },
     "execution_count": 252,
     "metadata": {},
     "output_type": "execute_result"
    }
   ],
   "source": [
    "# Llamadas entrantes perdidas por operador\n",
    "missed_calls = data[(data['direction']=='in') & (data['is_missed_call']==True)]\n",
    "missed_calls = missed_calls.groupby('operator_id')['calls_count'].sum().reset_index()\n",
    "missed_calls.rename(columns={'calls_count': 'n_missed_calls'}, inplace=True)\n",
    "\n",
    "missed_calls.head()\n"
   ]
  },
  {
   "cell_type": "markdown",
   "metadata": {},
   "source": [
    "### 4.4 Calcular tiempo promedio de espera por operador\n",
    "\n",
    "Aquí obtenemos el tiempo de espera medio de las llamadas entrantes por operador."
   ]
  },
  {
   "cell_type": "code",
   "execution_count": 253,
   "metadata": {},
   "outputs": [
    {
     "data": {
      "text/html": [
       "<div>\n",
       "<style scoped>\n",
       "    .dataframe tbody tr th:only-of-type {\n",
       "        vertical-align: middle;\n",
       "    }\n",
       "\n",
       "    .dataframe tbody tr th {\n",
       "        vertical-align: top;\n",
       "    }\n",
       "\n",
       "    .dataframe thead th {\n",
       "        text-align: right;\n",
       "    }\n",
       "</style>\n",
       "<table border=\"1\" class=\"dataframe\">\n",
       "  <thead>\n",
       "    <tr style=\"text-align: right;\">\n",
       "      <th></th>\n",
       "      <th>operator_id</th>\n",
       "      <th>avg_wait_time</th>\n",
       "    </tr>\n",
       "  </thead>\n",
       "  <tbody>\n",
       "    <tr>\n",
       "      <th>0</th>\n",
       "      <td>879896</td>\n",
       "      <td>27.333333</td>\n",
       "    </tr>\n",
       "    <tr>\n",
       "      <th>1</th>\n",
       "      <td>879898</td>\n",
       "      <td>29.473684</td>\n",
       "    </tr>\n",
       "    <tr>\n",
       "      <th>2</th>\n",
       "      <td>880020</td>\n",
       "      <td>7.714286</td>\n",
       "    </tr>\n",
       "    <tr>\n",
       "      <th>3</th>\n",
       "      <td>880022</td>\n",
       "      <td>14.000000</td>\n",
       "    </tr>\n",
       "    <tr>\n",
       "      <th>4</th>\n",
       "      <td>880026</td>\n",
       "      <td>7.944444</td>\n",
       "    </tr>\n",
       "  </tbody>\n",
       "</table>\n",
       "</div>"
      ],
      "text/plain": [
       "   operator_id  avg_wait_time\n",
       "0       879896      27.333333\n",
       "1       879898      29.473684\n",
       "2       880020       7.714286\n",
       "3       880022      14.000000\n",
       "4       880026       7.944444"
      ]
     },
     "execution_count": 253,
     "metadata": {},
     "output_type": "execute_result"
    }
   ],
   "source": [
    "# Tiempo promedio de espera por operador (solo llamadas entrantes)\n",
    "avg_wait = data[data['direction']=='in'].groupby('operator_id')['wait_time'].mean().reset_index()\n",
    "avg_wait.rename(columns={'wait_time': 'avg_wait_time'}, inplace=True)\n",
    "\n",
    "avg_wait.head()\n"
   ]
  },
  {
   "cell_type": "markdown",
   "metadata": {},
   "source": [
    "### 4.5 Calcular cantidad de llamadas salientes por operador\n",
    "\n",
    "Los operadores que deben realizar llamadas tienen un indicador clave en el número de llamadas salientes."
   ]
  },
  {
   "cell_type": "code",
   "execution_count": 254,
   "metadata": {},
   "outputs": [
    {
     "data": {
      "text/html": [
       "<div>\n",
       "<style scoped>\n",
       "    .dataframe tbody tr th:only-of-type {\n",
       "        vertical-align: middle;\n",
       "    }\n",
       "\n",
       "    .dataframe tbody tr th {\n",
       "        vertical-align: top;\n",
       "    }\n",
       "\n",
       "    .dataframe thead th {\n",
       "        text-align: right;\n",
       "    }\n",
       "</style>\n",
       "<table border=\"1\" class=\"dataframe\">\n",
       "  <thead>\n",
       "    <tr style=\"text-align: right;\">\n",
       "      <th></th>\n",
       "      <th>operator_id</th>\n",
       "      <th>n_outbound_calls</th>\n",
       "    </tr>\n",
       "  </thead>\n",
       "  <tbody>\n",
       "    <tr>\n",
       "      <th>0</th>\n",
       "      <td>879896</td>\n",
       "      <td>872</td>\n",
       "    </tr>\n",
       "    <tr>\n",
       "      <th>1</th>\n",
       "      <td>879898</td>\n",
       "      <td>7209</td>\n",
       "    </tr>\n",
       "    <tr>\n",
       "      <th>2</th>\n",
       "      <td>880020</td>\n",
       "      <td>38</td>\n",
       "    </tr>\n",
       "    <tr>\n",
       "      <th>3</th>\n",
       "      <td>880022</td>\n",
       "      <td>189</td>\n",
       "    </tr>\n",
       "    <tr>\n",
       "      <th>4</th>\n",
       "      <td>880026</td>\n",
       "      <td>2208</td>\n",
       "    </tr>\n",
       "  </tbody>\n",
       "</table>\n",
       "</div>"
      ],
      "text/plain": [
       "   operator_id  n_outbound_calls\n",
       "0       879896               872\n",
       "1       879898              7209\n",
       "2       880020                38\n",
       "3       880022               189\n",
       "4       880026              2208"
      ]
     },
     "execution_count": 254,
     "metadata": {},
     "output_type": "execute_result"
    }
   ],
   "source": [
    "# Cantidad de llamadas salientes por operador\n",
    "outbound_calls = data[data['direction']=='out'].groupby('operator_id')['calls_count'].sum().reset_index()\n",
    "outbound_calls.rename(columns={'calls_count': 'n_outbound_calls'}, inplace=True)\n",
    "\n",
    "outbound_calls.head()\n"
   ]
  },
  {
   "cell_type": "markdown",
   "metadata": {},
   "source": [
    "### 4.6 Unir todos los indicadores en una sola tabla\n",
    "\n",
    "Ahora juntamos todos los indicadores para tener un resumen completo por operador."
   ]
  },
  {
   "cell_type": "code",
   "execution_count": 255,
   "metadata": {},
   "outputs": [
    {
     "data": {
      "text/html": [
       "<div>\n",
       "<style scoped>\n",
       "    .dataframe tbody tr th:only-of-type {\n",
       "        vertical-align: middle;\n",
       "    }\n",
       "\n",
       "    .dataframe tbody tr th {\n",
       "        vertical-align: top;\n",
       "    }\n",
       "\n",
       "    .dataframe thead th {\n",
       "        text-align: right;\n",
       "    }\n",
       "</style>\n",
       "<table border=\"1\" class=\"dataframe\">\n",
       "  <thead>\n",
       "    <tr style=\"text-align: right;\">\n",
       "      <th></th>\n",
       "      <th>operator_id</th>\n",
       "      <th>total_in_calls</th>\n",
       "      <th>n_missed_calls</th>\n",
       "      <th>avg_wait_time</th>\n",
       "      <th>n_outbound_calls</th>\n",
       "    </tr>\n",
       "  </thead>\n",
       "  <tbody>\n",
       "    <tr>\n",
       "      <th>0</th>\n",
       "      <td>879896</td>\n",
       "      <td>58</td>\n",
       "      <td>0.0</td>\n",
       "      <td>27.333333</td>\n",
       "      <td>872.0</td>\n",
       "    </tr>\n",
       "    <tr>\n",
       "      <th>1</th>\n",
       "      <td>879898</td>\n",
       "      <td>104</td>\n",
       "      <td>0.0</td>\n",
       "      <td>29.473684</td>\n",
       "      <td>7209.0</td>\n",
       "    </tr>\n",
       "    <tr>\n",
       "      <th>2</th>\n",
       "      <td>880020</td>\n",
       "      <td>7</td>\n",
       "      <td>0.0</td>\n",
       "      <td>7.714286</td>\n",
       "      <td>38.0</td>\n",
       "    </tr>\n",
       "    <tr>\n",
       "      <th>3</th>\n",
       "      <td>880022</td>\n",
       "      <td>8</td>\n",
       "      <td>0.0</td>\n",
       "      <td>14.000000</td>\n",
       "      <td>189.0</td>\n",
       "    </tr>\n",
       "    <tr>\n",
       "      <th>4</th>\n",
       "      <td>880026</td>\n",
       "      <td>24</td>\n",
       "      <td>0.0</td>\n",
       "      <td>7.944444</td>\n",
       "      <td>2208.0</td>\n",
       "    </tr>\n",
       "  </tbody>\n",
       "</table>\n",
       "</div>"
      ],
      "text/plain": [
       "   operator_id  total_in_calls  n_missed_calls  avg_wait_time  \\\n",
       "0       879896              58             0.0      27.333333   \n",
       "1       879898             104             0.0      29.473684   \n",
       "2       880020               7             0.0       7.714286   \n",
       "3       880022               8             0.0      14.000000   \n",
       "4       880026              24             0.0       7.944444   \n",
       "\n",
       "   n_outbound_calls  \n",
       "0             872.0  \n",
       "1            7209.0  \n",
       "2              38.0  \n",
       "3             189.0  \n",
       "4            2208.0  "
      ]
     },
     "execution_count": 255,
     "metadata": {},
     "output_type": "execute_result"
    }
   ],
   "source": [
    "# Unir indicadores\n",
    "efficiency_df = total_in_calls.merge(missed_calls, on='operator_id', how='left') \\\n",
    "                              .merge(avg_wait, on='operator_id', how='left') \\\n",
    "                              .merge(outbound_calls, on='operator_id', how='left')\n",
    "\n",
    "# Rellenar valores faltantes con 0\n",
    "efficiency_df.fillna(0, inplace=True)\n",
    "\n",
    "efficiency_df.head()\n"
   ]
  },
  {
   "cell_type": "markdown",
   "metadata": {},
   "source": [
    "### 4.7 Calcular % de llamadas perdidas\n",
    "\n",
    "Este es un indicador clave de ineficacia: cuántas llamadas entrantes se pierden respecto al total de llamadas entrantes."
   ]
  },
  {
   "cell_type": "code",
   "execution_count": 256,
   "metadata": {},
   "outputs": [
    {
     "data": {
      "text/html": [
       "<div>\n",
       "<style scoped>\n",
       "    .dataframe tbody tr th:only-of-type {\n",
       "        vertical-align: middle;\n",
       "    }\n",
       "\n",
       "    .dataframe tbody tr th {\n",
       "        vertical-align: top;\n",
       "    }\n",
       "\n",
       "    .dataframe thead th {\n",
       "        text-align: right;\n",
       "    }\n",
       "</style>\n",
       "<table border=\"1\" class=\"dataframe\">\n",
       "  <thead>\n",
       "    <tr style=\"text-align: right;\">\n",
       "      <th></th>\n",
       "      <th>operator_id</th>\n",
       "      <th>total_in_calls</th>\n",
       "      <th>n_missed_calls</th>\n",
       "      <th>avg_wait_time</th>\n",
       "      <th>n_outbound_calls</th>\n",
       "      <th>pct_missed_calls</th>\n",
       "    </tr>\n",
       "  </thead>\n",
       "  <tbody>\n",
       "    <tr>\n",
       "      <th>0</th>\n",
       "      <td>879896</td>\n",
       "      <td>58</td>\n",
       "      <td>0.0</td>\n",
       "      <td>27.333333</td>\n",
       "      <td>872.0</td>\n",
       "      <td>0.0</td>\n",
       "    </tr>\n",
       "    <tr>\n",
       "      <th>1</th>\n",
       "      <td>879898</td>\n",
       "      <td>104</td>\n",
       "      <td>0.0</td>\n",
       "      <td>29.473684</td>\n",
       "      <td>7209.0</td>\n",
       "      <td>0.0</td>\n",
       "    </tr>\n",
       "    <tr>\n",
       "      <th>2</th>\n",
       "      <td>880020</td>\n",
       "      <td>7</td>\n",
       "      <td>0.0</td>\n",
       "      <td>7.714286</td>\n",
       "      <td>38.0</td>\n",
       "      <td>0.0</td>\n",
       "    </tr>\n",
       "    <tr>\n",
       "      <th>3</th>\n",
       "      <td>880022</td>\n",
       "      <td>8</td>\n",
       "      <td>0.0</td>\n",
       "      <td>14.000000</td>\n",
       "      <td>189.0</td>\n",
       "      <td>0.0</td>\n",
       "    </tr>\n",
       "    <tr>\n",
       "      <th>4</th>\n",
       "      <td>880026</td>\n",
       "      <td>24</td>\n",
       "      <td>0.0</td>\n",
       "      <td>7.944444</td>\n",
       "      <td>2208.0</td>\n",
       "      <td>0.0</td>\n",
       "    </tr>\n",
       "  </tbody>\n",
       "</table>\n",
       "</div>"
      ],
      "text/plain": [
       "   operator_id  total_in_calls  n_missed_calls  avg_wait_time  \\\n",
       "0       879896              58             0.0      27.333333   \n",
       "1       879898             104             0.0      29.473684   \n",
       "2       880020               7             0.0       7.714286   \n",
       "3       880022               8             0.0      14.000000   \n",
       "4       880026              24             0.0       7.944444   \n",
       "\n",
       "   n_outbound_calls  pct_missed_calls  \n",
       "0             872.0               0.0  \n",
       "1            7209.0               0.0  \n",
       "2              38.0               0.0  \n",
       "3             189.0               0.0  \n",
       "4            2208.0               0.0  "
      ]
     },
     "execution_count": 256,
     "metadata": {},
     "output_type": "execute_result"
    }
   ],
   "source": [
    "# % de llamadas entrantes perdidas\n",
    "efficiency_df['pct_missed_calls'] = (efficiency_df['n_missed_calls'] / efficiency_df['total_in_calls']) * 100\n",
    "\n",
    "efficiency_df.head()\n"
   ]
  },
  {
   "cell_type": "markdown",
   "metadata": {},
   "source": [
    "1. **Proporción de llamadas entrantes perdidas**\n",
    "   - En los primeros registros, los operadores tienen un **0% de llamadas perdidas**, lo que indica que están atendiendo adecuadamente las llamadas entrantes.\n",
    "   - Este indicador permite identificar operadores con problemas de atención si el porcentaje fuese alto.\n",
    "\n",
    "2. **Tiempo promedio de espera**\n",
    "   - El tiempo promedio de espera para las llamadas entrantes varía entre los operadores (ej. de 7.7 a 29.5 segundos en los primeros registros).\n",
    "   - Aunque ningún operador presenta un tiempo extremadamente alto en los primeros registros, este valor sirve para detectar retrasos o sobrecarga de operadores.\n",
    "\n",
    "3. **Cantidad de llamadas salientes**\n",
    "   - Los operadores tienen diferencias significativas en el número de llamadas salientes (ej. desde 38 hasta 7209 en los primeros registros).\n",
    "   - Un número muy bajo de llamadas salientes podría indicar baja productividad o falta de cumplimiento de la función outbound.\n",
    "\n",
    "4. **Indicador compuesto (% de llamadas perdidas)**\n",
    "   - Todos los operadores analizados muestran 0% de llamadas perdidas en los primeros registros.\n",
    "   - Este indicador combinado permite priorizar operadores con alta proporción de llamadas perdidas y tiempos de espera elevados para capacitaciones o redistribución de carga.\n",
    "\n",
    "\n",
    "- Hasta estos registros iniciales, los operadores parecen eficientes en atender llamadas entrantes.\n",
    "- Sin embargo, la variabilidad en el número de llamadas salientes y el tiempo promedio de espera sugiere que podrían existir operadores con oportunidades de mejora en productividad y tiempos de atención.\n",
    "- Para un análisis completo, es recomendable revisar todos los registros del dataset y filtrar los operadores con **% de llamadas perdidas alto, tiempo de espera prolongado o pocas llamadas salientes** para definir acciones correctivas.\n"
   ]
  },
  {
   "cell_type": "markdown",
   "metadata": {},
   "source": [
    "## 5. Identificación de operadores ineficaces\n",
    "\n"
   ]
  },
  {
   "cell_type": "markdown",
   "metadata": {},
   "source": [
    "### 5.1 Calcular métricas de desempeño por operador."
   ]
  },
  {
   "cell_type": "code",
   "execution_count": 257,
   "metadata": {},
   "outputs": [
    {
     "data": {
      "text/html": [
       "<div>\n",
       "<style scoped>\n",
       "    .dataframe tbody tr th:only-of-type {\n",
       "        vertical-align: middle;\n",
       "    }\n",
       "\n",
       "    .dataframe tbody tr th {\n",
       "        vertical-align: top;\n",
       "    }\n",
       "\n",
       "    .dataframe thead th {\n",
       "        text-align: right;\n",
       "    }\n",
       "</style>\n",
       "<table border=\"1\" class=\"dataframe\">\n",
       "  <thead>\n",
       "    <tr style=\"text-align: right;\">\n",
       "      <th></th>\n",
       "      <th>pct_missed_calls</th>\n",
       "      <th>avg_wait_time</th>\n",
       "      <th>n_outbound_calls</th>\n",
       "    </tr>\n",
       "  </thead>\n",
       "  <tbody>\n",
       "    <tr>\n",
       "      <th>count</th>\n",
       "      <td>754.000000</td>\n",
       "      <td>754.000000</td>\n",
       "      <td>754.000000</td>\n",
       "    </tr>\n",
       "    <tr>\n",
       "      <th>mean</th>\n",
       "      <td>1.757385</td>\n",
       "      <td>57.612807</td>\n",
       "      <td>456.759947</td>\n",
       "    </tr>\n",
       "    <tr>\n",
       "      <th>std</th>\n",
       "      <td>6.532449</td>\n",
       "      <td>94.456737</td>\n",
       "      <td>3148.990615</td>\n",
       "    </tr>\n",
       "    <tr>\n",
       "      <th>min</th>\n",
       "      <td>0.000000</td>\n",
       "      <td>1.000000</td>\n",
       "      <td>0.000000</td>\n",
       "    </tr>\n",
       "    <tr>\n",
       "      <th>25%</th>\n",
       "      <td>0.000000</td>\n",
       "      <td>17.500000</td>\n",
       "      <td>0.000000</td>\n",
       "    </tr>\n",
       "    <tr>\n",
       "      <th>50%</th>\n",
       "      <td>0.000000</td>\n",
       "      <td>31.000000</td>\n",
       "      <td>23.000000</td>\n",
       "    </tr>\n",
       "    <tr>\n",
       "      <th>75%</th>\n",
       "      <td>0.674678</td>\n",
       "      <td>58.000000</td>\n",
       "      <td>229.500000</td>\n",
       "    </tr>\n",
       "    <tr>\n",
       "      <th>max</th>\n",
       "      <td>100.000000</td>\n",
       "      <td>1007.375000</td>\n",
       "      <td>58977.000000</td>\n",
       "    </tr>\n",
       "  </tbody>\n",
       "</table>\n",
       "</div>"
      ],
      "text/plain": [
       "       pct_missed_calls  avg_wait_time  n_outbound_calls\n",
       "count        754.000000     754.000000        754.000000\n",
       "mean           1.757385      57.612807        456.759947\n",
       "std            6.532449      94.456737       3148.990615\n",
       "min            0.000000       1.000000          0.000000\n",
       "25%            0.000000      17.500000          0.000000\n",
       "50%            0.000000      31.000000         23.000000\n",
       "75%            0.674678      58.000000        229.500000\n",
       "max          100.000000    1007.375000      58977.000000"
      ]
     },
     "execution_count": 257,
     "metadata": {},
     "output_type": "execute_result"
    }
   ],
   "source": [
    "efficiency_df.describe()[['pct_missed_calls', 'avg_wait_time', 'n_outbound_calls']]\n"
   ]
  },
  {
   "cell_type": "markdown",
   "metadata": {},
   "source": [
    "### 5.2 Establecer umbrales de ineficacia (ej. percentiles)."
   ]
  },
  {
   "cell_type": "markdown",
   "metadata": {},
   "source": [
    "Una forma objetiva de definir operadores ineficaces es usar percentiles:\n",
    "\n",
    "- % llamadas perdidas alto → operadores en percentil 75 o superior\n",
    "\n",
    "- avg_wait_time alto → operadores en percentil 75 o superior\n",
    "\n",
    "- n_outbound_calls bajo → operadores en percentil 25 o inferior"
   ]
  },
  {
   "cell_type": "code",
   "execution_count": 258,
   "metadata": {},
   "outputs": [
    {
     "name": "stdout",
     "output_type": "stream",
     "text": [
      "Umbrales de ineficacia:\n",
      "% llamadas perdidas >= 0.67\n",
      "Tiempo promedio de espera >= 58.00 segundos\n",
      "Llamadas salientes <= 0\n"
     ]
    }
   ],
   "source": [
    "# Calcular umbrales\n",
    "pct_missed_threshold = efficiency_df['pct_missed_calls'].quantile(0.75)\n",
    "avg_wait_threshold = efficiency_df['avg_wait_time'].quantile(0.75)\n",
    "outbound_threshold = efficiency_df['n_outbound_calls'].quantile(0.25)\n",
    "\n",
    "print(\"Umbrales de ineficacia:\")\n",
    "print(f\"% llamadas perdidas >= {pct_missed_threshold:.2f}\")\n",
    "print(f\"Tiempo promedio de espera >= {avg_wait_threshold:.2f} segundos\")\n",
    "print(f\"Llamadas salientes <= {outbound_threshold:.0f}\")\n"
   ]
  },
  {
   "cell_type": "markdown",
   "metadata": {},
   "source": [
    "### 5.3 Listar y visualizar a los operadores ineficaces."
   ]
  },
  {
   "cell_type": "code",
   "execution_count": 259,
   "metadata": {},
   "outputs": [
    {
     "data": {
      "text/html": [
       "<div>\n",
       "<style scoped>\n",
       "    .dataframe tbody tr th:only-of-type {\n",
       "        vertical-align: middle;\n",
       "    }\n",
       "\n",
       "    .dataframe tbody tr th {\n",
       "        vertical-align: top;\n",
       "    }\n",
       "\n",
       "    .dataframe thead th {\n",
       "        text-align: right;\n",
       "    }\n",
       "</style>\n",
       "<table border=\"1\" class=\"dataframe\">\n",
       "  <thead>\n",
       "    <tr style=\"text-align: right;\">\n",
       "      <th></th>\n",
       "      <th>operator_id</th>\n",
       "      <th>total_in_calls</th>\n",
       "      <th>n_missed_calls</th>\n",
       "      <th>avg_wait_time</th>\n",
       "      <th>n_outbound_calls</th>\n",
       "      <th>pct_missed_calls</th>\n",
       "    </tr>\n",
       "  </thead>\n",
       "  <tbody>\n",
       "    <tr>\n",
       "      <th>641</th>\n",
       "      <td>948756</td>\n",
       "      <td>1</td>\n",
       "      <td>1.0</td>\n",
       "      <td>8.000000</td>\n",
       "      <td>170.0</td>\n",
       "      <td>100.000000</td>\n",
       "    </tr>\n",
       "    <tr>\n",
       "      <th>185</th>\n",
       "      <td>904344</td>\n",
       "      <td>4</td>\n",
       "      <td>3.0</td>\n",
       "      <td>27.500000</td>\n",
       "      <td>5.0</td>\n",
       "      <td>75.000000</td>\n",
       "    </tr>\n",
       "    <tr>\n",
       "      <th>287</th>\n",
       "      <td>913886</td>\n",
       "      <td>2</td>\n",
       "      <td>1.0</td>\n",
       "      <td>13.500000</td>\n",
       "      <td>0.0</td>\n",
       "      <td>50.000000</td>\n",
       "    </tr>\n",
       "    <tr>\n",
       "      <th>210</th>\n",
       "      <td>906392</td>\n",
       "      <td>18</td>\n",
       "      <td>7.0</td>\n",
       "      <td>35.571429</td>\n",
       "      <td>53.0</td>\n",
       "      <td>38.888889</td>\n",
       "    </tr>\n",
       "    <tr>\n",
       "      <th>497</th>\n",
       "      <td>937432</td>\n",
       "      <td>3</td>\n",
       "      <td>1.0</td>\n",
       "      <td>12.000000</td>\n",
       "      <td>19.0</td>\n",
       "      <td>33.333333</td>\n",
       "    </tr>\n",
       "    <tr>\n",
       "      <th>109</th>\n",
       "      <td>897872</td>\n",
       "      <td>3</td>\n",
       "      <td>1.0</td>\n",
       "      <td>21.666667</td>\n",
       "      <td>49.0</td>\n",
       "      <td>33.333333</td>\n",
       "    </tr>\n",
       "    <tr>\n",
       "      <th>698</th>\n",
       "      <td>957922</td>\n",
       "      <td>3</td>\n",
       "      <td>1.0</td>\n",
       "      <td>13.000000</td>\n",
       "      <td>16.0</td>\n",
       "      <td>33.333333</td>\n",
       "    </tr>\n",
       "    <tr>\n",
       "      <th>467</th>\n",
       "      <td>934098</td>\n",
       "      <td>6</td>\n",
       "      <td>2.0</td>\n",
       "      <td>31.800000</td>\n",
       "      <td>0.0</td>\n",
       "      <td>33.333333</td>\n",
       "    </tr>\n",
       "    <tr>\n",
       "      <th>220</th>\n",
       "      <td>906412</td>\n",
       "      <td>26</td>\n",
       "      <td>7.0</td>\n",
       "      <td>26.666667</td>\n",
       "      <td>315.0</td>\n",
       "      <td>26.923077</td>\n",
       "    </tr>\n",
       "    <tr>\n",
       "      <th>265</th>\n",
       "      <td>910226</td>\n",
       "      <td>8</td>\n",
       "      <td>2.0</td>\n",
       "      <td>16.500000</td>\n",
       "      <td>0.0</td>\n",
       "      <td>25.000000</td>\n",
       "    </tr>\n",
       "  </tbody>\n",
       "</table>\n",
       "</div>"
      ],
      "text/plain": [
       "     operator_id  total_in_calls  n_missed_calls  avg_wait_time  \\\n",
       "641       948756               1             1.0       8.000000   \n",
       "185       904344               4             3.0      27.500000   \n",
       "287       913886               2             1.0      13.500000   \n",
       "210       906392              18             7.0      35.571429   \n",
       "497       937432               3             1.0      12.000000   \n",
       "109       897872               3             1.0      21.666667   \n",
       "698       957922               3             1.0      13.000000   \n",
       "467       934098               6             2.0      31.800000   \n",
       "220       906412              26             7.0      26.666667   \n",
       "265       910226               8             2.0      16.500000   \n",
       "\n",
       "     n_outbound_calls  pct_missed_calls  \n",
       "641             170.0        100.000000  \n",
       "185               5.0         75.000000  \n",
       "287               0.0         50.000000  \n",
       "210              53.0         38.888889  \n",
       "497              19.0         33.333333  \n",
       "109              49.0         33.333333  \n",
       "698              16.0         33.333333  \n",
       "467               0.0         33.333333  \n",
       "220             315.0         26.923077  \n",
       "265               0.0         25.000000  "
      ]
     },
     "execution_count": 259,
     "metadata": {},
     "output_type": "execute_result"
    }
   ],
   "source": [
    "# Filtrar operadores ineficaces\n",
    "inefficient_operators = efficiency_df[\n",
    "    (efficiency_df['pct_missed_calls'] >= pct_missed_threshold) |\n",
    "    (efficiency_df['avg_wait_time'] >= avg_wait_threshold) |\n",
    "    (efficiency_df['n_outbound_calls'] <= outbound_threshold)\n",
    "]\n",
    "\n",
    "# Ordenar por % de llamadas perdidas\n",
    "inefficient_operators = inefficient_operators.sort_values(by='pct_missed_calls', ascending=False)\n",
    "\n",
    "# Mostrar los primeros registros\n",
    "inefficient_operators.head(10)\n"
   ]
  },
  {
   "cell_type": "markdown",
   "metadata": {},
   "source": [
    "**Conclusiones**\n",
    "#### 5.1 Métricas de desempeño por operador\n",
    "- El promedio de llamadas perdidas por operador es bajo (1.76%), pero hay casos extremos con hasta 100% de llamadas perdidas.\n",
    "- El tiempo promedio de espera tiene un valor medio de 57.6 segundos, con alta variabilidad (máximo de 1007 segundos), indicando que algunos operadores generan retrasos significativos.\n",
    "- La cantidad de llamadas salientes tiene una media de 457, pero algunos operadores no realizan ninguna llamada, mientras que otros alcanzan hasta 58.977 llamadas, evidenciando desigualdad en la productividad.\n",
    "\n",
    "#### 5.2 Umbrales de ineficacia\n",
    "- % de llamadas perdidas ≥ 0.67%\n",
    "- Tiempo promedio de espera ≥ 58 segundos\n",
    "- Llamadas salientes ≤ 0  \n",
    "Estos umbrales permiten identificar objetivamente a los operadores que presentan problemas de desempeño.\n",
    "\n",
    "#### 5.3 Operadores ineficaces\n",
    "- Los primeros operadores filtrados muestran problemas graves en al menos uno de los indicadores:\n",
    "  - Ej. operador 948756: 100% de llamadas perdidas.\n",
    "  - Ej. operador 904344: 75% de llamadas perdidas y pocas llamadas salientes.\n",
    "  - Algunos operadores no realizan ninguna llamada saliente, lo cual indica baja productividad para tareas outbound.\n",
    "- Se observa que la ineficacia puede deberse a alta proporción de llamadas perdidas, tiempos de espera prolongados o baja cantidad de llamadas salientes.\n",
    "\n",
    "La mayoría de los operadores cumplen adecuadamente, pero existe un grupo reducido que requiere atención inmediata.Los indicadores permiten priorizar capacitación, redistribución de carga o ajustes operativos para mejorar la eficiencia del servicio."
   ]
  },
  {
   "cell_type": "markdown",
   "metadata": {},
   "source": [
    "## 6. Pruebas de hipótesis\n",
    "- Hipótesis 1: Los operadores ineficaces tienen un porcentaje de llamadas perdidas significativamente mayor.\n",
    "- Hipótesis 2: Los operadores ineficaces tienen un tiempo de espera promedio significativamente más alto.\n",
    "- Hipótesis 3: Los operadores ineficaces realizan significativamente menos llamadas salientes.\n",
    "- Aplicar pruebas estadísticas (t-test, Mann-Whitney, ANOVA según corresponda)."
   ]
  },
  {
   "cell_type": "markdown",
   "metadata": {},
   "source": [
    "### 6.1 Preparación de los datos\n",
    "- Seleccionar las métricas relevantes para cada hipótesis:\n",
    "  - % de llamadas perdidas por operador.\n",
    "  - Tiempo de espera promedio (`total_call_duration - call_duration`).\n",
    "  - Número de llamadas salientes por operador.\n",
    "- Dividir a los operadores en **dos grupos**:\n",
    "  - Operadores ineficaces (según criterios definidos).\n",
    "  - Operadores eficaces.\n",
    "\n"
   ]
  },
  {
   "cell_type": "markdown",
   "metadata": {},
   "source": [
    "Primero, definimos los grupos de operadores según los criterios de ineficacia:"
   ]
  },
  {
   "cell_type": "code",
   "execution_count": 260,
   "metadata": {},
   "outputs": [],
   "source": [
    "# Grupo de operadores ineficaces\n",
    "inefficient_ops = efficiency_df[\n",
    "    (efficiency_df['pct_missed_calls'] >= pct_missed_threshold) |\n",
    "    (efficiency_df['avg_wait_time'] >= avg_wait_threshold) |\n",
    "    (efficiency_df['n_outbound_calls'] <= outbound_threshold)\n",
    "]\n",
    "\n",
    "# Grupo de operadores eficaces\n",
    "efficient_ops = efficiency_df[~efficiency_df['operator_id'].isin(inefficient_ops['operator_id'])]\n"
   ]
  },
  {
   "cell_type": "markdown",
   "metadata": {},
   "source": [
    "Seleccionamos las métricas relevantes:"
   ]
  },
  {
   "cell_type": "code",
   "execution_count": 261,
   "metadata": {},
   "outputs": [],
   "source": [
    "# % de llamadas perdidas\n",
    "missed_calls_inefficient = inefficient_ops['pct_missed_calls']\n",
    "missed_calls_efficient = efficient_ops['pct_missed_calls']\n",
    "\n",
    "# Tiempo promedio de espera\n",
    "wait_inefficient = inefficient_ops['avg_wait_time']\n",
    "wait_efficient = efficient_ops['avg_wait_time']\n",
    "\n",
    "# Número de llamadas salientes\n",
    "outbound_inefficient = inefficient_ops['n_outbound_calls']\n",
    "outbound_efficient = efficient_ops['n_outbound_calls']\n"
   ]
  },
  {
   "cell_type": "markdown",
   "metadata": {},
   "source": [
    "### 6.2 Formulación de hipótesis\n",
    "Para cada caso, establecer claramente la hipótesis nula (H0) y alternativa (H1):\n",
    "\n",
    "- **Hipótesis 1**:  \n",
    "  - H0: No hay diferencia significativa en el % de llamadas perdidas entre operadores eficaces e ineficaces.  \n",
    "  - H1: Los operadores ineficaces tienen un % de llamadas perdidas significativamente mayor.\n",
    "\n",
    "- **Hipótesis 2**:  \n",
    "  - H0: No hay diferencia significativa en el tiempo promedio de espera entre operadores eficaces e ineficaces.  \n",
    "  - H1: Los operadores ineficaces tienen un tiempo de espera significativamente más alto.\n",
    "\n",
    "- **Hipótesis 3**:  \n",
    "  - H0: No hay diferencia significativa en el número de llamadas salientes entre operadores eficaces e ineficaces.  \n",
    "  - H1: Los operadores ineficaces realizan significativamente menos llamadas salientes.\n",
    "\n"
   ]
  },
  {
   "cell_type": "markdown",
   "metadata": {},
   "source": [
    "| Hipótesis | Métrica | H0 (Hipótesis nula) | H1 (Hipótesis alternativa) |\n",
    "|-----------|---------|-------------------|----------------------------|\n",
    "| Hipótesis 1 | % de llamadas perdidas | No hay diferencia significativa en el % de llamadas perdidas entre operadores eficaces e ineficaces | Los operadores ineficaces tienen un % de llamadas perdidas significativamente mayor |\n",
    "| Hipótesis 2 | Tiempo promedio de espera | No hay diferencia significativa en el tiempo promedio de espera entre operadores eficaces e ineficaces | Los operadores ineficaces tienen un tiempo de espera significativamente más alto |\n",
    "| Hipótesis 3 | Número de llamadas salientes | No hay diferencia significativa en el número de llamadas salientes entre operadores eficaces e ineficaces | Los operadores ineficaces realizan significativamente menos llamadas salientes |\n"
   ]
  },
  {
   "cell_type": "markdown",
   "metadata": {},
   "source": [
    "### 6.3 Selección de pruebas estadísticas\n",
    "- Verificar la distribución de los datos (normalidad con Shapiro-Wilk o Kolmogorov-Smirnov).\n",
    "- Si los datos son normales y con varianzas similares → usar **t-test** (para 2 grupos) o **ANOVA** (si hubiera más de 2 grupos).  \n",
    "- Si no cumplen supuestos de normalidad → usar prueba no paramétrica **Mann-Whitney U**.\n",
    "\n",
    "\n"
   ]
  },
  {
   "cell_type": "markdown",
   "metadata": {},
   "source": [
    "| Paso | Acción | Detalle |\n",
    "|------|--------|--------|\n",
    "| 1 | Verificación de normalidad | Usar pruebas Shapiro-Wilk o Kolmogorov-Smirnov para cada métrica (% llamadas perdidas, tiempo de espera, llamadas salientes) |\n",
    "| 2 | Datos normales y varianzas similares | Usar **t-test** para comparar dos grupos (eficaces vs ineficaces) o **ANOVA** si hay más de dos grupos |\n",
    "| 3 | Datos no normales | Usar prueba no paramétrica **Mann-Whitney U** |\n"
   ]
  },
  {
   "cell_type": "code",
   "execution_count": 262,
   "metadata": {},
   "outputs": [
    {
     "name": "stdout",
     "output_type": "stream",
     "text": [
      "Métrica: pct_missed_calls\n",
      "  Eficaz: stat=0.122, p=0.000\n",
      "  Ineficaz: stat=0.371, p=0.000\n",
      "  Normalidad: No\n",
      "--------------------------------------------------\n",
      "Métrica: avg_wait_time\n",
      "  Eficaz: stat=0.957, p=0.000\n",
      "  Ineficaz: stat=0.549, p=0.000\n",
      "  Normalidad: No\n",
      "--------------------------------------------------\n",
      "Métrica: n_outbound_calls\n",
      "  Eficaz: stat=0.445, p=0.000\n",
      "  Ineficaz: stat=0.102, p=0.000\n",
      "  Normalidad: No\n",
      "--------------------------------------------------\n"
     ]
    }
   ],
   "source": [
    "\n",
    "# Crear columna que identifica operadores eficaces e ineficaces\n",
    "efficiency_df['group'] = efficiency_df['operator_id'].apply(\n",
    "    lambda x: 'ineficaz' if x in inefficient_operators['operator_id'].values else 'eficaz'\n",
    ")\n",
    "\n",
    "# Separar grupos\n",
    "eficaz = efficiency_df[efficiency_df['group'] == 'eficaz']\n",
    "ineficaz = efficiency_df[efficiency_df['group'] == 'ineficaz']\n",
    "\n",
    "# Seleccionar métricas\n",
    "metrics = ['pct_missed_calls', 'avg_wait_time', 'n_outbound_calls']\n",
    "\n",
    "# Verificar normalidad usando Shapiro-Wilk\n",
    "for metric in metrics:\n",
    "    stat_ef, p_ef = shapiro(eficaz[metric])\n",
    "    stat_in, p_in = shapiro(ineficaz[metric])\n",
    "    print(f\"Métrica: {metric}\")\n",
    "    print(f\"  Eficaz: stat={stat_ef:.3f}, p={p_ef:.3f}\")\n",
    "    print(f\"  Ineficaz: stat={stat_in:.3f}, p={p_in:.3f}\")\n",
    "    print(\"  Normalidad:\", \"Sí\" if p_ef>0.05 and p_in>0.05 else \"No\")\n",
    "    print(\"-\"*50)"
   ]
  },
  {
   "cell_type": "code",
   "execution_count": 263,
   "metadata": {},
   "outputs": [
    {
     "data": {
      "text/html": [
       "<div>\n",
       "<style scoped>\n",
       "    .dataframe tbody tr th:only-of-type {\n",
       "        vertical-align: middle;\n",
       "    }\n",
       "\n",
       "    .dataframe tbody tr th {\n",
       "        vertical-align: top;\n",
       "    }\n",
       "\n",
       "    .dataframe thead th {\n",
       "        text-align: right;\n",
       "    }\n",
       "</style>\n",
       "<table border=\"1\" class=\"dataframe\">\n",
       "  <thead>\n",
       "    <tr style=\"text-align: right;\">\n",
       "      <th></th>\n",
       "      <th>Hipótesis</th>\n",
       "      <th>Estadístico U</th>\n",
       "      <th>p-valor</th>\n",
       "      <th>Conclusión</th>\n",
       "    </tr>\n",
       "  </thead>\n",
       "  <tbody>\n",
       "    <tr>\n",
       "      <th>0</th>\n",
       "      <td>% llamadas perdidas mayor en ineficaces</td>\n",
       "      <td>101645.0</td>\n",
       "      <td>7.360307e-45</td>\n",
       "      <td>Rechazar H0</td>\n",
       "    </tr>\n",
       "    <tr>\n",
       "      <th>1</th>\n",
       "      <td>Tiempo de espera mayor en ineficaces</td>\n",
       "      <td>100325.0</td>\n",
       "      <td>5.736165e-29</td>\n",
       "      <td>Rechazar H0</td>\n",
       "    </tr>\n",
       "    <tr>\n",
       "      <th>2</th>\n",
       "      <td>Menos llamadas salientes en ineficaces</td>\n",
       "      <td>47976.5</td>\n",
       "      <td>2.979984e-12</td>\n",
       "      <td>Rechazar H0</td>\n",
       "    </tr>\n",
       "  </tbody>\n",
       "</table>\n",
       "</div>"
      ],
      "text/plain": [
       "                                 Hipótesis  Estadístico U       p-valor  \\\n",
       "0  % llamadas perdidas mayor en ineficaces       101645.0  7.360307e-45   \n",
       "1     Tiempo de espera mayor en ineficaces       100325.0  5.736165e-29   \n",
       "2   Menos llamadas salientes en ineficaces        47976.5  2.979984e-12   \n",
       "\n",
       "    Conclusión  \n",
       "0  Rechazar H0  \n",
       "1  Rechazar H0  \n",
       "2  Rechazar H0  "
      ]
     },
     "execution_count": 263,
     "metadata": {},
     "output_type": "execute_result"
    }
   ],
   "source": [
    "# Importar librerías\n",
    "import pandas as pd\n",
    "from scipy.stats import mannwhitneyu\n",
    "\n",
    "# --- Preparación de los grupos ---\n",
    "# Grupo de operadores ineficaces según criterios ya definidos\n",
    "inefficient_ops = efficiency_df[\n",
    "    (efficiency_df['pct_missed_calls'] >= pct_missed_threshold) |\n",
    "    (efficiency_df['avg_wait_time'] >= avg_wait_threshold) |\n",
    "    (efficiency_df['n_outbound_calls'] <= outbound_threshold)\n",
    "]\n",
    "\n",
    "# Grupo de operadores eficaces\n",
    "efficient_ops = efficiency_df[~efficiency_df['operator_id'].isin(inefficient_ops['operator_id'])]\n",
    "\n",
    "# Métricas\n",
    "missed_calls_inefficient = inefficient_ops['pct_missed_calls']\n",
    "missed_calls_efficient = efficient_ops['pct_missed_calls']\n",
    "\n",
    "wait_inefficient = inefficient_ops['avg_wait_time']\n",
    "wait_efficient = efficient_ops['avg_wait_time']\n",
    "\n",
    "outbound_inefficient = inefficient_ops['n_outbound_calls']\n",
    "outbound_efficient = efficient_ops['n_outbound_calls']\n",
    "\n",
    "# --- Aplicar prueba no paramétrica Mann-Whitney U ---\n",
    "# Hipótesis 1: % de llamadas perdidas\n",
    "stat_missed, p_missed = mannwhitneyu(missed_calls_inefficient, missed_calls_efficient, alternative='greater')\n",
    "\n",
    "# Hipótesis 2: tiempo promedio de espera\n",
    "stat_wait, p_wait = mannwhitneyu(wait_inefficient, wait_efficient, alternative='greater')\n",
    "\n",
    "# Hipótesis 3: llamadas salientes\n",
    "stat_outbound, p_outbound = mannwhitneyu(outbound_inefficient, outbound_efficient, alternative='less')\n",
    "\n",
    "# --- Nivel de significancia ---\n",
    "alpha = 0.05\n",
    "\n",
    "# --- Tabla resumen de resultados ---\n",
    "results = pd.DataFrame({\n",
    "    \"Hipótesis\": [\n",
    "        \"% llamadas perdidas mayor en ineficaces\",\n",
    "        \"Tiempo de espera mayor en ineficaces\",\n",
    "        \"Menos llamadas salientes en ineficaces\"\n",
    "    ],\n",
    "    \"Estadístico U\": [stat_missed, stat_wait, stat_outbound],\n",
    "    \"p-valor\": [p_missed, p_wait, p_outbound],\n",
    "    \"Conclusión\": [\n",
    "        \"Rechazar H0\" if p_missed < alpha else \"No rechazar H0\",\n",
    "        \"Rechazar H0\" if p_wait < alpha else \"No rechazar H0\",\n",
    "        \"Rechazar H0\" if p_outbound < alpha else \"No rechazar H0\"\n",
    "    ]\n",
    "})\n",
    "\n",
    "# Mostrar resultados\n",
    "results\n"
   ]
  },
  {
   "cell_type": "markdown",
   "metadata": {},
   "source": [
    "**Conclusiones de las pruebas de hipótesis**\n",
    "\n",
    "| Hipótesis | Estadístico U | p-valor | Conclusión | Interpretación |\n",
    "|-----------|---------------|---------|------------|----------------|\n",
    "| % llamadas perdidas mayor en ineficaces | 101645.0 | 7.36e-45 | Rechazar H0 | Los operadores ineficaces tienen un porcentaje de llamadas perdidas significativamente mayor que los eficaces. Esto valida el criterio de ineficacia basado en llamadas perdidas. |\n",
    "| Tiempo de espera mayor en ineficaces | 100325.0 | 5.74e-29 | Rechazar H0 | Los operadores ineficaces presentan tiempos de espera promedio significativamente más altos. Esto confirma que la demora en atender llamadas es un indicador de ineficacia. |\n",
    "| Menos llamadas salientes en ineficaces | 47976.5 | 2.98e-12 | Rechazar H0 | Los operadores ineficaces realizan significativamente menos llamadas salientes que los eficaces. Esto refuerza que la baja actividad saliente es un criterio de ineficacia. |\n",
    " \n",
    "Todos los resultados son estadísticamente significativos (p < 0.05). Por lo tanto, los tres indicadores (% llamadas perdidas, tiempo de espera y llamadas salientes) son válidos para identificar operadores ineficaces. Esto respalda los criterios definidos previamente y permite priorizar acciones de mejora para estos operadores.\n"
   ]
  },
  {
   "cell_type": "markdown",
   "metadata": {},
   "source": [
    "Todos los criterios de ineficacia definidos (% llamadas perdidas, tiempo de espera y llamadas salientes) son estadísticamente significativos. Por lo tanto, los operadores identificados como ineficaces efectivamente presentan peores métricas de desempeño que los operadores eficaces. Esto valida el enfoque utilizado para identificar a los operadores ineficaces y sirve de base para decisiones de mejora o capacitación."
   ]
  },
  {
   "cell_type": "markdown",
   "metadata": {},
   "source": [
    "## 7. Dashboards sugeridos\n",
    "### Dashboard 1\n",
    "- Histograma de duración de llamadas.\n",
    "- Gráfico circular de llamadas internas vs externas.\n",
    "- Filtro por dirección de llamadas (entrantes/salientes).\n",
    "\n",
    "### Dashboard 2\n",
    "- Histograma del número de llamadas por día.\n",
    "- Gráfico circular de internas vs externas.\n",
    "- Filtro por tipo de llamada.\n",
    "\n",
    "**Link de los dos:** https://public.tableau.com/app/profile/wendy.chicaiza/viz/Dashboard1ProyectoFinal/Dashboard2"
   ]
  },
  {
   "cell_type": "markdown",
   "metadata": {},
   "source": [
    "**Link de presentación**: https://drive.google.com/file/d/16ibQsEb16KUSAoJ8I9vh5dbtr8Lk2fXu/view?usp=sharing"
   ]
  },
  {
   "cell_type": "markdown",
   "metadata": {},
   "source": [
    "## 8. Fuentes de consulta\n",
    "- Documentación de Pandas (limpieza, manipulación de datos).\n",
    "  https://www.datacamp.com/es/tutorial/guide-to-data-cleaning-in-python\n",
    "- Documentación de Matplotlib y Seaborn (visualización).\n",
    "  https://builtin.com/data-science/data-visualization-tutorial\n",
    "- Documentación de Scipy/Statsmodels (pruebas estadísticas).\n",
    "  https://www.statsmodels.org/stable/index.html\n",
    "- Artículos o papers sobre métricas de call centers.\n",
    "  https://enverahealth.com/resources/knowledge-center/white-paper/behi\n",
    "- Documentación oficial de Plotly/Dash (dashboards interactivos).\n",
    "  https://www.datacamp.com/tutorial/learn-build-dash-python"
   ]
  },
  {
   "cell_type": "markdown",
   "metadata": {},
   "source": [
    "## 9. Conclusiones y presentación final\n"
   ]
  },
  {
   "cell_type": "markdown",
   "metadata": {},
   "source": [
    "Se identificaron diferencias significativas en el desempeño de los operadores.\n",
    "\n",
    "Algunos operadores muestran un bajo número de llamadas efectivas y alta tasa de fallos.\n",
    "\n",
    "La calidad del servicio varía notablemente entre operadores, afectando la satisfacción de los clientes.\n",
    "\n",
    "Datos nulos y registros duplicados se corrigieron, asegurando la fiabilidad del análisis."
   ]
  },
  {
   "cell_type": "markdown",
   "metadata": {},
   "source": [
    "**Construcción de Indicadores de Ineficiencia**\n",
    "\n",
    "Para cada operador se calcularon:\n",
    "\n",
    "- Total de llamadas entrantes (total_in_calls)\n",
    "\n",
    "- Llamadas entrantes perdidas (n_missed_calls)\n",
    "\n",
    "- Tiempo promedio de espera (avg_wait_time)\n",
    "\n",
    "- Cantidad de llamadas salientes (n_outbound_calls)\n",
    "\n",
    "- % de llamadas perdidas (pct_missed_calls)\n",
    "\n",
    "- Estos indicadores permiten priorizar operadores que requieren acciones correctivas.\n",
    "\n",
    "**Conclusiones**\n",
    "\n",
    "La mayoría de operadores atiende correctamente las llamadas entrantes (0% llamadas perdidas en primeros registros).\n",
    "\n",
    "Existe variabilidad en tiempo promedio de espera y llamadas salientes, indicando oportunidades de mejora.\n",
    "\n",
    "Operadores con alta proporción de llamadas perdidas, tiempos de espera prolongados o pocas llamadas salientes son candidatos a ser considerados ineficaces.\n",
    "\n",
    "Los outliers detectados en los datos son importantes para planificar capacitaciones, redistribución de carga o incentivos."
   ]
  }
 ],
 "metadata": {
  "kernelspec": {
   "display_name": "Python 3 (ipykernel)",
   "language": "python",
   "name": "python3"
  },
  "language_info": {
   "codemirror_mode": {
    "name": "ipython",
    "version": 3
   },
   "file_extension": ".py",
   "mimetype": "text/x-python",
   "name": "python",
   "nbconvert_exporter": "python",
   "pygments_lexer": "ipython3",
   "version": "3.9.23"
  }
 },
 "nbformat": 4,
 "nbformat_minor": 4
}
